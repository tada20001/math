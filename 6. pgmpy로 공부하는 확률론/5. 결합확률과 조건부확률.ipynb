{
 "cells": [
  {
   "cell_type": "markdown",
   "metadata": {},
   "source": [
    "### 범인 찾기 문제\n",
    "\n",
    "살인 사건이 발생했다고 가정하자. 경찰은 전체 용의자 목록을 가지고 있다. 베이지안 확률론 관점에서 전체 용의자 목록은 바로 표본공간이다. 우리가 알고 싶은 것은 전체 용의자 목록(표본공간)에서 누가 범인(선택된 표본)인가 하는 점이다. 현재 표본공간은 용의자 20명으로 구성되어 있으며 이 중 남자가 12명, 여자가 8명이라고 가정한다."
   ]
  },
  {
   "cell_type": "markdown",
   "metadata": {},
   "source": [
    "만약 담당 형사가 범인은 남자라고 생각한다면, ‘범인이 남자이다’라는 주장은 확률론적 관점에서 남성인 용의자(표본)로만 이루어진 사건(표본공간의 부분 집합)이 된다. 이를 사건  𝐴 라고 하자.\n",
    "\n",
    "이때 우리가 관심을 가지는 것은 \"범인이 남자\"라는 사건  𝐴 의 신뢰도 즉, 사건  𝐴 의 확률  𝑃(𝐴) 다. 아무런 추가 정보가 없다면 모든 사람이 범인일 가능성이 같기 때문에 범인이 남자일 확률  𝑃(𝐴) 는 다음과 같이 전체 용의자 수로 남자 용의자 수를 나눈 값이 된다."
   ]
  },
  {
   "cell_type": "markdown",
   "metadata": {},
   "source": [
    "$$P(A) = \\dfrac{|A|}{|\\Omega|} = \\dfrac{12}{12 + 8} = \\dfrac{12}{20} = 0.6$$"
   ]
  },
  {
   "cell_type": "markdown",
   "metadata": {},
   "source": [
    "반대로 \"범인은 여자\"라는 사건은 여집합  𝐴𝐶 로 표현할 수 있고 \"범인이 여자일 확률\"은 다음처럼 계산한다.\n",
    "\n",
    "$$P(A^C) = \\dfrac{\\left|A^C\\right|}{|\\Omega|} = \\dfrac{8}{12 + 8} = \\dfrac{8}{20} = 0.4$$"
   ]
  },
  {
   "cell_type": "markdown",
   "metadata": {},
   "source": [
    "이때 새로운 사건  𝐵 가 발생했다고 하자. 범인의 것으로 추정되는 긴 머리카락을 발견했다. 이 머리카락에서 범인은 머리카락이 길다는 가능성이 제시되었다.\n",
    "\n",
    "이 새로운 사건  𝐵 는 확률론적으로는 새로운 용의자 목록, 즉 머리카락이 긴 사람의 목록이라는 표본공간의 새로운 부분 집합을 의미한다. 그리고 사건  𝐵 가 발생했다는 것은 이 용의자 목록에 진짜로 범인이 포함되었다는 뜻이다.\n",
    "\n",
    "현재 표본공간 즉, 전체 용의자 목록에는 머리카락이 긴 사람이 10명, 머리카락이 짧은 사람이 10명이다. 만약 이 사건이 진실이라는 보장이 없다면, 사건  𝐵 에 대한 확률  𝑃(𝐵) , 즉 머리카락이 긴 사람이 범인이라는 주장의 신뢰도는 다음과 같다.\n",
    "\n",
    "$$P(B) = \\dfrac{|B|}{|\\Omega|} = \\dfrac{10}{10 + 10} = \\dfrac{10}{20} = 0.5$$"
   ]
  },
  {
   "cell_type": "markdown",
   "metadata": {},
   "source": [
    "반대로 머리카락이 짧은 사람의 사건은  𝐵𝐶 이고 범인이 머리카락이 짧을 확률은 다음처럼 계산한다.\n",
    "\n",
    "$$P(B^C) = \\dfrac{\\left|B^C\\right|}{|\\Omega|} = \\dfrac{10}{10 + 10} = \\dfrac{10}{20} = 0.5$$"
   ]
  },
  {
   "cell_type": "markdown",
   "metadata": {},
   "source": [
    "지금까지의 상황을 요약하면 다음과 같다.\n",
    "\n",
    "+ 살인 사건 발생. 용의자는 20명\n",
    "    + 남자 12명, 여자 8명\n",
    "    + 머리카락이 긴 사람 10명, 머리카락이 짧은 사람 10명\n",
    "+ 범인이 남자일 확률\n",
    "    + 남자 집합(사건)  𝐴 에 범인(선택된 표본)이 속해 있다는 주장의 신뢰도:  \n",
    "    $$𝑃(𝐴)=0.6$$ \n",
    "+ 범인이 머리카락이 길 확률\n",
    "    + 머리카락이 긴 사람의 집합(사건)  𝐵 에 범인(선택된 표본)이 속해 있다는 주장의 신뢰도 :  \n",
    "    $$𝑃(𝐵)=0.5$$"
   ]
  },
  {
   "cell_type": "markdown",
   "metadata": {},
   "source": [
    "### 결합확률과 조건부확률\n",
    "\n",
    "베이지안 확률론은 두 사건  𝐴 와  𝐵 의 관계를 알고 있다면 사건  𝐵 가 발생했다는 사실로부터 기존에 알고 있는 사건  𝐴 에 대한 확률  𝑃(𝐴) 를 좀 더 정확한 확률로 바꿀 수 있는 방법을 알려준다. 이를 위해서는 결합확률과 조건부확률이라는 두 가지 개념을 정의해야 한다.\n",
    "\n",
    "##### 결합확률의 정의 : 교집합의 확률\n",
    "결합확률(joint probability)은 사건  𝐴 와  𝐵 가 동시에 발생할 확률이다. 즉, 사건(명제/주장)  𝐴 도 진실이고 사건(명제/주장)  𝐵 도 진실이므로 사건  𝐴 와  𝐵 의 교집합의 확률을 계산하는 것과 같다.\n",
    "\n",
    "$$P(A \\cap B) \\text{ or } P(A, B)$$"
   ]
  },
  {
   "cell_type": "markdown",
   "metadata": {},
   "source": [
    "##### 주변확률\n",
    "결합확률과 대비되는 개념으로 결합되지 않는 개별 사건의 확률  𝑃(𝐴)  또는  𝑃(𝐵) 를 주변확률(marginal probability)라고 한다.\n",
    "\n",
    "##### 조건부확률의 개념\n",
    "또한  𝐵 가 사실일 경우의 사건  𝐴 에 대한 확률을 사건  𝐵 에 대한 사건  𝐴 의 조건부확률(conditional probability)이라고 하며 다음과 같이 표기한다.\n",
    "\n",
    "$$P(A | B)$$\n",
    "\n",
    "위 수식에서 기호  | 는 if를 뜻한다. 즉 다음과 같다.\n",
    "\n",
    "$$P(A | B) \\equiv \\text{ new } P(A) \\text{ if } P(B) = 1$$\n",
    "\n",
    "이 조건부확률의 값은 다음과 같이 정의한다.\n",
    "\n",
    "$$P(A|B) = \\dfrac{P(A,B)}{P(B)}$$\n"
   ]
  },
  {
   "cell_type": "markdown",
   "metadata": {},
   "source": [
    "조건부확률이 위와 같이 정의된 근거는 다음과 같다.\n",
    "\n",
    "1. 사건  𝐵 가 사실이므로 모든 가능한 표본은 사건  𝐵 에 포함되어야 한다. 즉, 새로운 실질적 표본공간은  Ωnew→𝐵 가 된다.\n",
    "2. 사건  𝐴 의 원소는 모두 사건  𝐵 의 원소도 되므로 사실상 사건  𝐴∩𝐵 의 원소가 된다. 즉, 새로운 실질적  𝐴new→𝐴∩𝐵 가 된다.\n",
    "3. 따라서 사건  𝐴 의 확률 즉, 신뢰도는 원래의 신뢰도(결합확률)를 새로운 표본공간의 신뢰도(확률)로 정규화(normalize)한 값이라고 할 수 있다."
   ]
  },
  {
   "cell_type": "markdown",
   "metadata": {},
   "source": [
    "$$P(A|B) = \\dfrac{P(A_\\text{new})}{P(\\Omega_\\text{new})} = \\dfrac{P(A,B)}{P(B)}$$\n",
    "\n",
    "[그림] 조건부확률의 정의 : https://datascienceschool.net/upfiles/80e17c56a19047bd808b16a5e5da577e.png"
   ]
  },
  {
   "cell_type": "markdown",
   "metadata": {},
   "source": [
    "#### 요약\n",
    "\n",
    "+ 조건부확률  𝑃(𝐴|𝐵) \n",
    "    + 사건 B가 발생한 경우의 사건 A의 확률\n",
    "    + 표본이 이벤트 B에 속한다는 새로운 사실을 알게 되었을 때,\n",
    "    + 이 표본이 사건 A에 속한다는 사실의 정확성(신뢰도)이 어떻게 변하는지를 알려준다."
   ]
  },
  {
   "cell_type": "markdown",
   "metadata": {},
   "source": [
    "예를 들어 범인 찾기 문제에서는 조건부확률을 다음처럼 정의한다.\n",
    "\n",
    "+ 𝑃(𝐴) : 범인이 남자일 확률\n",
    "+ 𝑃(𝐵) : 범인이 머리카락이 길 확률\n",
    "+ 𝑃(𝐴|𝐵) : 범인이 머리카락이 길다는 사실을 알게 되었을 때, 달라진(갱신된) \"범인이 남자일 확률\"\n",
    "\n",
    "조건부확률의 값을 구하기 위해서는 결합확률의 값을 알아야 한다. 그런데 사건  𝐴 와 사건  𝐵 의 결합확률의 값  𝑃(𝐴,𝐵) 은 기존의 사건  𝐴 의 확률  𝑃(𝐴) 나 사건  𝐵 의 확률  𝑃(𝐵) 와는 전혀 무관한 별개의 정보이다. 즉, 수학적으로 계산하여 구할 수 있는 값이 아니라 외부에서 주어지지 않으면 안되는 정보인 것이다.\n",
    "\n",
    "범인 찾기의 경우에도 이미 주어진 정보  𝑃(𝐴) ,  𝑃(𝐵) 와 관계없이  𝑃(𝐴,𝐵) 는 여러 가지 경우가 있을 수 있다.\n",
    "\n",
    "예를 들어 어떤 경우에는 12명의 남자 중 머리카락이 긴 사람이 다음과 같이 3명일 수도 있고\n",
    "\n",
    "[표 경우 1] https://datascienceschool.net/view-notebook/f77e7d3f59b8437181dff01a88520f09/\n",
    "\n",
    "또 다른 경우에는 12명의 남자 중 머리카락이 긴 사람이 다음과 같이 6명일 수도 있다.\n",
    "\n",
    "[표 경우 2] https://datascienceschool.net/view-notebook/f77e7d3f59b8437181dff01a88520f09/\n"
   ]
  },
  {
   "cell_type": "markdown",
   "metadata": {},
   "source": [
    "이 두 경우에 대해 조건부확률  𝑃(𝐴|𝐵) 를 구해보자.\n",
    "\n",
    "만약 머리카락이 긴 남자가 3명이라면\n",
    "\n",
    "$$P(A|B) = \\dfrac{P(A, B)}{P(B)} = \\dfrac{3/20}{10/20}  = \\dfrac{3}{10}$$\n",
    "\n",
    "이 된다. 원래 사건  𝐴 의 확률  𝑃(𝐴) 가 0.6 즉 60% 였으므로 범인이 머리카락이 길다는 정보로 인해 남자가 범인일 확률은 절반으로 뚝 떨어졌다.\n",
    "\n",
    "만약 머리카락이 긴 남자가 6명이라면\n",
    "\n",
    "$$P(A|B) = \\dfrac{P(A, B)}{P(B)} = \\dfrac{6/20}{10/20}  = \\dfrac{6}{10}$$\n",
    "\n",
    "이 된다.\n",
    "\n",
    "이 경우에는 새로운 정보(사건  𝐵 )가 주어지든 주어지지 않든 남자가 범인일 확률은 변함없다. 이러한 경우에는 사건  𝐴 가 사건  𝐵 와 서로 독립(independent)이라고 한다."
   ]
  },
  {
   "cell_type": "markdown",
   "metadata": {},
   "source": [
    "### Practice 1\n",
    "\n",
    "(경우 1)에 대해 다음 확률을 구하라.\n",
    "\n",
    "(1) 범인이 머리카락이 짧다면 범인이 남자일 확률  𝑃(𝐴|𝐵𝐶) = 9 / 10\n",
    "\n",
    "(2) 범인이 머리카락이 길다면 범인이 여자일 확률  𝑃(𝐴𝐶|𝐵) = 7 / 10\n",
    "\n",
    "(3) 범인이 머리카락이 짧다면 범인이 여자일 확률  𝑃(𝐴𝐶|𝐵𝐶) = 1 / 10\n",
    "\n",
    "(4) 범인이 남자라면 머리카락이 길 확률  𝑃(𝐵|𝐴) = 1 / 4\n",
    "\n",
    "(5) 범인이 여자라면 머리카락이 길 확률  𝑃(𝐵|𝐴𝐶) = 7 / 8\n",
    "\n",
    "(6) 범인이 남자라면 머리카락이 짧을 확률  𝑃(𝐵𝐶|𝐴) = 3 / 4\n",
    "\n",
    "(7) 범인이 여자라면 머리카락이 짧을 확률  𝑃(𝐵𝐶|𝐴𝐶) = 1 / 8\n"
   ]
  },
  {
   "cell_type": "markdown",
   "metadata": {},
   "source": [
    "### 독립\n",
    "수학적으로는 사건  𝐴 와 사건  𝐵 의 결합확률의 값이 다음과 같은 관계가 성립하면 두 사건  𝐴 와  𝐵 는 서로 독립(independent)라고 정의한다."
   ]
  },
  {
   "cell_type": "markdown",
   "metadata": {},
   "source": [
    "$$P(A,B) = P(A)P(B)$$ \n",
    "\n",
    "독립인 경우 조건부확률과 원래의 확률이 같아짐을 알 수 있다. 즉,  𝐵 라는 사건이 발생하든 말든 사건  𝐴 에는 전혀 영향을 주지 않는다는 것이다.\n",
    "\n",
    "$$P(A|B) = \\dfrac{P(A,B)}{P(B)} = \\dfrac{P(A)P(B)}{P(B)} = P(A)$$"
   ]
  },
  {
   "cell_type": "markdown",
   "metadata": {},
   "source": [
    "### 원인과 결과, 근거과 추론, 가정과 조건부 결론\n",
    "\n",
    "조건부확률  𝑃(𝐴|𝐵) 에서 사건(주장/명제)  𝐵 ,  𝐴 는 각각\n",
    "\n",
    "+ ‘가정과 그 가정에 따른 조건부 결론’ 또는\n",
    "+ ‘원인과 결과’ 또는\n",
    "+ ‘근거와 추론’\n",
    "\n",
    "으로 생각할 수도 있다."
   ]
  },
  {
   "cell_type": "markdown",
   "metadata": {},
   "source": [
    "또 결합확률의 정의를 바꿔 쓰면 다음과 같이 되는데,\n",
    "\n",
    "$$P(A,B) = P(A|B) P(B)$$\n",
    "\n",
    "이 식은 다음과 같은 관점에서 볼 수 있다.\n",
    "\n",
    "    \"𝐴,𝐵 가 모두 발생할 확률은 𝐵라는 사건이 발생할 확률과 그 사건이 발생한 경우 다시 𝐴가 발생할 경우의 곱\""
   ]
  },
  {
   "cell_type": "markdown",
   "metadata": {},
   "source": [
    "#### 예제\n",
    "\n",
    "위 식을 응용하면 다음과 같은 수식도 성립한다.\n",
    "\n",
    "$$P(A,B,C) = P(A|B,C)P(B,C)$$\n",
    "\n",
    "\n",
    "확률표기에서 쉼표(comma)가 교집합을 뜻한다는 것을 기억하면 이 식은 쉽게 증명할 수 있다.\n",
    "\n",
    "$$P(A,B,C) = P(A \\cap B \\cap C) = P(A \\cap (B \\cap C)) =  P(A|B \\cap C)P(B \\cap C) = P(A|B,C)P(B,C)$$"
   ]
  },
  {
   "cell_type": "markdown",
   "metadata": {},
   "source": [
    "### Practice 3\n",
    "\n",
    "다음 수식을 증명하라.\n",
    "\n",
    "(1)\n",
    "$$P(A,B,C,D) = P(A,B|C,D)P(C,D)$$\n",
    "\n",
    "(2)\n",
    "\n",
    "$$P(A,B|C)P(C) = P(A|B,C)P(B,C)$$\n",
    "\n",
    "(3)\n",
    "$$P(A,B,C|D,E) = \\dfrac{P(A,B|C,D,E)P(C,D|E)P(E)}{P(D,E)}$$"
   ]
  },
  {
   "cell_type": "markdown",
   "metadata": {},
   "source": [
    "### Practice 4\n",
    "\n",
    "𝐵,𝐶 가 독립인 사건일 때 다음이 성립함을 증명하라.\n",
    "\n",
    "$$P(A,B|C) = P(A|B,C)P(B)$$"
   ]
  },
  {
   "cell_type": "markdown",
   "metadata": {},
   "source": [
    "### 연쇄 법칙\n",
    "조건부확률과 결합확률의 관계를 확장하면 복수의 사건  𝑋1,𝑋2,…,𝑋𝑁 에 대한 조건부 확률을 다음처럼 쓸 수 있다. 이를 사슬 법칙(chain rule)이라고 한다."
   ]
  },
  {
   "cell_type": "markdown",
   "metadata": {},
   "source": [
    "$$\\begin{aligned}\n",
    "P(X_1, X_2)           &= P(X_1) P(X_2 | X_1) \\\\\n",
    "P(X_1, X_2, X_3)      &= P(X_3 | X_1, X_2) P(X_1, X_2) \\\\\n",
    "                      &= P(X_1) P(X_2 | X_1) P(X_3 | X_1, X_2) \\\\\n",
    "P(X_1, X_2, X_3, X_4) &= P(X_4 | X_1, X_2, X_3) P(X_1, X_2, X_3) \\\\\n",
    "                      &= P(X_1) P(X_2 | X_1) P(X_3 | X_1, X_2) P(X_4 | X_1, X_2, X_3) \\\\\n",
    "                      & \\vdots  \\\\\n",
    "P(X_1, \\dots, X_N)    &= P(X_1) \\prod_{i=2}^{N} P( X_{i} | X_1, \\dots X_{i-1})\n",
    "\\end{aligned}$$"
   ]
  },
  {
   "cell_type": "markdown",
   "metadata": {},
   "source": [
    "### 확률변수\n",
    "확률적인 숫자 값을 출력하는 변수를 확률변수(random variable)라고 한다. 확률변수에 대한 더 수학적인 정의는 이후에 다시 공부할 것이다. 여기에서는 주사위처럼 어떤 숫자가 나올 수 있지만 정확히 어떤 숫자가 나올지 예측할 수는 없는 기계라고 생각하면 된다. 확률변수는 보통  𝑋 ,  𝑌 처럼 알파벳 대문자로 표기한다."
   ]
  },
  {
   "cell_type": "markdown",
   "metadata": {},
   "source": [
    "위의 범인 찾기 문제에서는 두 확률변수  𝑋 ,  𝑌 를 정의할 수 있다. 확률변수  𝑋 는 성별을 나타내고 확률변수  𝑌 는 머리카락이 긴지 짧은지를 나타낸다.\n",
    "\n",
    "+ 𝑋=0 인 경우가 사건 𝐴 (남자인 사건)\n",
    "+ 𝑋=1인 경우가 사건 𝐴𝐶(여집합 : 여자인 사건)\n",
    "+ 𝑌=0인 경우가 사건 𝐵 (머리카락이 긴 사건)\n",
    "+ 𝑌=1인 경우가 사건 𝐵𝐶(여집합 : 머리카락이 짧은 사건)"
   ]
  },
  {
   "cell_type": "markdown",
   "metadata": {},
   "source": [
    "확률변수는 확률분포를 그 안에 내포하고 있어서 그 확률분포에 따라 숫자를 출력할 수 있다. 확률변수  𝑋 가 가진 확률을 확률변수의 확률  𝑃(𝑋) 라고 한다. 위 예에서 확률변수  𝑋 는 사건  𝐴 와 사건  𝐴𝐶 를 가질 수 있고 각 사건에 할당된 확률은 다음과 같은 표로 나타낼 수 있다.\n",
    "\n",
    "[표] https://datascienceschool.net/view-notebook/f77e7d3f59b8437181dff01a88520f09/"
   ]
  },
  {
   "cell_type": "markdown",
   "metadata": {},
   "source": [
    "결합확률의 확률분포는 각 확률변수가 가질 수 있는 값의 조합으로 나타난다. 예를 들어 확률변수  𝑋 는 사건  𝐴 와 사건  𝐴𝐶 를 가질 수 있고 확률변수  𝑌 는 사건  𝐵 와 사건  𝐵𝐶 를 가질 수 있으므로 두 사건의 조합에 대한 결합확률은 다음 표와 같이 표현한다. 이 표에서 확률값은 머리카락 긴 남자가 3명인 경우(경우 1)에서 구한 값이다.\n",
    "\n",
    "\n",
    "[표] https://datascienceschool.net/view-notebook/f77e7d3f59b8437181dff01a88520f09/"
   ]
  },
  {
   "cell_type": "markdown",
   "metadata": {},
   "source": [
    "두 확률변수  𝑋 ,  𝑌 가 가질 수 있는 모든 사건의 조합에 대해 독립이 성립하면 두 확률변수  𝑋 ,  𝑌 가 독립이라고 한다. 위 결합확률 표에서 주변확률의 곱을 구해서 결합확률과 비교해보면 확률변수  𝑋 ,  𝑌 는 독립이 아니라는 것을 알 수 있다.\n",
    "\n",
    "[표] https://datascienceschool.net/view-notebook/f77e7d3f59b8437181dff01a88520f09/"
   ]
  },
  {
   "cell_type": "markdown",
   "metadata": {},
   "source": [
    "### Practice 5\n",
    "(경우 2)에 대해 위와 같은 표를 완성하고 확률변수  𝑋 ,  𝑌 가 독립임을 보여라."
   ]
  },
  {
   "cell_type": "markdown",
   "metadata": {},
   "source": [
    "### pgmpy 패키지\n",
    "\n",
    "pgmpy(Probabilistic Graphical Models in Python) 패키지를 사용하면 이산확률모형을 쉽게 구현할 수 있다.\n",
    "\n",
    "pgmpy 패키지의 JointProbabilityDistribution 클래스는 결합확률 모형을 만드는 데 사용하는 클래스다. 사용법은 다음과 같다.\n",
    "\n",
    "JointProbabilityDistribution(variables, cardinality, values)\n",
    "\n",
    "+ variables: 확률변수의 이름 문자열의 리스트. 정의하려는 확률변수가 하나인 경우에도 리스트로 넣어야 한다.\n",
    "+ cardinality: 각 확률변수의 표본 혹은 배타적 사건의 수의 리스트\n",
    "+ values: 확률변수의 모든 표본(조합)에 대한 (결합)확률값의 리스트\n",
    "\n",
    "variables에 들어가는 인수가 사건의 이름이 아니라 확률변수의 이름이라는 점에 주의하라. pgmpy에서는 사건의 이름을 명시적으로 지정할 수 없고 입력한 사건의 수가  𝐾 일 때,  0,1,…,𝐾−1 와 같이 숫자로 지정된다.\n",
    "\n",
    "범인 찾기 예제에서 성별을 나타내는 확률변수  𝑋 와 머리카락 길이를 나타내는 확률변수  𝑌 의 확률을 다음과 같이 표로 정의할 수 있다."
   ]
  },
  {
   "cell_type": "code",
   "execution_count": 3,
   "metadata": {},
   "outputs": [],
   "source": [
    "from pgmpy.factors.discrete import JointProbabilityDistribution as JPD\n",
    "import numpy as np"
   ]
  },
  {
   "cell_type": "code",
   "execution_count": 4,
   "metadata": {},
   "outputs": [
    {
     "name": "stdout",
     "output_type": "stream",
     "text": [
      "╒═════╤════════╕\n",
      "│ X   │   P(X) │\n",
      "╞═════╪════════╡\n",
      "│ X_0 │ 0.6000 │\n",
      "├─────┼────────┤\n",
      "│ X_1 │ 0.4000 │\n",
      "╘═════╧════════╛\n"
     ]
    }
   ],
   "source": [
    "px = JPD(['X'], [2], np.array([12, 8]) / 20)  # variables(확률변수), cardinality(사건수), values(각 사건에 할당된 확률값)\n",
    "print(px)"
   ]
  },
  {
   "cell_type": "markdown",
   "metadata": {},
   "source": [
    "### Practice 6\n",
    "위의 범인 찾기 문제의 예에서 확률변수  𝑌 의 확률을 JointProbabilityDistribution 클래스 객체 py로 구현하라."
   ]
  },
  {
   "cell_type": "code",
   "execution_count": 5,
   "metadata": {},
   "outputs": [
    {
     "name": "stdout",
     "output_type": "stream",
     "text": [
      "╒═════╤════════╕\n",
      "│ Y   │   P(Y) │\n",
      "╞═════╪════════╡\n",
      "│ Y_0 │ 0.5000 │\n",
      "├─────┼────────┤\n",
      "│ Y_1 │ 0.5000 │\n",
      "╘═════╧════════╛\n"
     ]
    }
   ],
   "source": [
    "py = JPD(['Y'], [2], np.array([10, 10]) / 20)\n",
    "print(py)"
   ]
  },
  {
   "cell_type": "markdown",
   "metadata": {},
   "source": [
    "확률변수  𝑋 와 확률변수  𝑌 의 결합확률은 다음처럼 정의한다."
   ]
  },
  {
   "cell_type": "code",
   "execution_count": 6,
   "metadata": {},
   "outputs": [
    {
     "name": "stdout",
     "output_type": "stream",
     "text": [
      "╒═════╤═════╤══════════╕\n",
      "│ X   │ Y   │   P(X,Y) │\n",
      "╞═════╪═════╪══════════╡\n",
      "│ X_0 │ Y_0 │   0.1500 │\n",
      "├─────┼─────┼──────────┤\n",
      "│ X_0 │ Y_1 │   0.4500 │\n",
      "├─────┼─────┼──────────┤\n",
      "│ X_1 │ Y_0 │   0.3500 │\n",
      "├─────┼─────┼──────────┤\n",
      "│ X_1 │ Y_1 │   0.0500 │\n",
      "╘═════╧═════╧══════════╛\n"
     ]
    }
   ],
   "source": [
    "pxy = JPD(['X', 'Y'], [2, 2], np.array([3, 9, 7, 1]) / 20) # values(결합확률 값)\n",
    "print(pxy)"
   ]
  },
  {
   "cell_type": "markdown",
   "metadata": {},
   "source": [
    "### Practice 7\n",
    "\n",
    "위의 범인 찾기 문제의 예에서 남자 12명 중 머리카락이 긴 사람이 6명인 경우(경우 2)의 결합확률 모형을 JointProbabilityDistribution 클래스 객체 pxy2로 구현하라."
   ]
  },
  {
   "cell_type": "code",
   "execution_count": 7,
   "metadata": {},
   "outputs": [
    {
     "name": "stdout",
     "output_type": "stream",
     "text": [
      "╒═════╤═════╤══════════╕\n",
      "│ X   │ Y   │   P(X,Y) │\n",
      "╞═════╪═════╪══════════╡\n",
      "│ X_0 │ Y_0 │   0.3000 │\n",
      "├─────┼─────┼──────────┤\n",
      "│ X_0 │ Y_1 │   0.3000 │\n",
      "├─────┼─────┼──────────┤\n",
      "│ X_1 │ Y_0 │   0.2000 │\n",
      "├─────┼─────┼──────────┤\n",
      "│ X_1 │ Y_1 │   0.2000 │\n",
      "╘═════╧═════╧══════════╛\n"
     ]
    }
   ],
   "source": [
    "pxy2 = JPD(['X', 'Y'], [2, 2], np.array([6, 6, 4, 4]) / 20)\n",
    "print(pxy2)"
   ]
  },
  {
   "cell_type": "markdown",
   "metadata": {},
   "source": [
    "JointProbabilityDistribution 클래스는 결합확률로부터 주변확률을 계산하는 marginal_distribution 메서드, marginalize 메서드와 조건부확률을 계산하는 conditional_distribution 메서드를 제공한다.\n",
    "\n",
    "marginal_distribution(values, inplace=True)\n",
    "\n",
    "+ values: 주변확률을 구할 확률변수의 이름 문자열 리스트\n",
    "+ inplace: True이면 객체 자신을 주변확률 모형으로 변화시킨다. False면 주변확률 모형 객체를 반환한다."
   ]
  },
  {
   "cell_type": "markdown",
   "metadata": {},
   "source": [
    "marginalize(values, inplace=True)\n",
    "\n",
    "+ values: 어떤 확률변수의 주변확률을 구하기 위해 없앨 확률변수의 이름 문자열 리스트\n",
    "+ inplace: True이면 객체 자신을 주변확률 모형으로 변화시킨다. False면 주변확률 모형 객체를 반환한다."
   ]
  },
  {
   "cell_type": "markdown",
   "metadata": {},
   "source": [
    "conditional_distribution(values, inplace=True)\n",
    "\n",
    "+ values: 주변확률을 구할 확률변수의 이름 문자열과 값을 묶은 튜플의 리스트\n",
    "+ inplace: True이면 객체 자신을 조건부확률 모형으로 변화시킨다. False면 조건부확률 모형 객체를 반환한다.\n",
    "\n",
    "marginal_distribution 메서드는 인수로 받은 확률변수에 대한 주변확률분포를 구한다. 다음 코드는 결합확률로부터 주변확률  𝑃(𝐴) ,  𝑃(𝐴𝐶) 를 계산한다.\n",
    "\n"
   ]
  },
  {
   "cell_type": "code",
   "execution_count": 8,
   "metadata": {},
   "outputs": [
    {
     "name": "stdout",
     "output_type": "stream",
     "text": [
      "╒═════╤════════╕\n",
      "│ X   │   P(X) │\n",
      "╞═════╪════════╡\n",
      "│ X_0 │ 0.6000 │\n",
      "├─────┼────────┤\n",
      "│ X_1 │ 0.4000 │\n",
      "╘═════╧════════╛\n"
     ]
    }
   ],
   "source": [
    "pmx = pxy.marginal_distribution(['X'], inplace=False)  # X 주변확률 구하기 method!!\n",
    "print(pmx)"
   ]
  },
  {
   "cell_type": "markdown",
   "metadata": {},
   "source": [
    "marginalize 메서드는 인수로 받은 확률변수를 주변화(marginalize)하여 나머지 확률변수에 대한 주변확률분포를 구한다. 다음 코드도 앞과 마찬가지로 결합확률로부터 주변확률  𝑃(𝐴) ,  𝑃(𝐴𝐶) 를 계산한다."
   ]
  },
  {
   "cell_type": "code",
   "execution_count": 9,
   "metadata": {},
   "outputs": [
    {
     "name": "stdout",
     "output_type": "stream",
     "text": [
      "╒═════╤════════╕\n",
      "│ X   │   P(X) │\n",
      "╞═════╪════════╡\n",
      "│ X_0 │ 0.6000 │\n",
      "├─────┼────────┤\n",
      "│ X_1 │ 0.4000 │\n",
      "╘═════╧════════╛\n"
     ]
    }
   ],
   "source": [
    "pmx = pxy.marginalize(['Y'], inplace=False)  # marginal_distribution과 달리 자신을 주변화하여 나머지 확률변수에 대해 주변확률 계산\n",
    "print(pmx)"
   ]
  },
  {
   "cell_type": "markdown",
   "metadata": {},
   "source": [
    "다음 코드는 결합확률로부터 주변확률  𝑃(𝐵) ,  𝑃(𝐵𝐶) 를 계산한다."
   ]
  },
  {
   "cell_type": "code",
   "execution_count": 11,
   "metadata": {},
   "outputs": [
    {
     "name": "stdout",
     "output_type": "stream",
     "text": [
      "╒═════╤════════╕\n",
      "│ Y   │   P(Y) │\n",
      "╞═════╪════════╡\n",
      "│ Y_0 │ 0.5000 │\n",
      "├─────┼────────┤\n",
      "│ Y_1 │ 0.5000 │\n",
      "╘═════╧════════╛\n"
     ]
    }
   ],
   "source": [
    "py = pxy.marginal_distribution(['Y'], inplace=False)\n",
    "print(py)"
   ]
  },
  {
   "cell_type": "markdown",
   "metadata": {},
   "source": [
    "conditional_distribution 메서드를 사용하면 어떤 확률변수가 어떤 사건이 되는 조건에 대해 조건부확률값을 계산한다. 다음 코드는 결합확률로부터 조건부확률  𝑃(𝐵|𝐴) ,  𝑃(𝐵𝐶|𝐴) 를 계산한다."
   ]
  },
  {
   "cell_type": "code",
   "execution_count": 12,
   "metadata": {},
   "outputs": [
    {
     "name": "stdout",
     "output_type": "stream",
     "text": [
      "╒═════╤════════╕\n",
      "│ Y   │   P(Y) │\n",
      "╞═════╪════════╡\n",
      "│ Y_0 │ 0.2500 │\n",
      "├─────┼────────┤\n",
      "│ Y_1 │ 0.7500 │\n",
      "╘═════╧════════╛\n"
     ]
    }
   ],
   "source": [
    "py_on_x0 = pxy.conditional_distribution([('X', 0)], inplace=False)\n",
    "print(py_on_x0)"
   ]
  },
  {
   "cell_type": "markdown",
   "metadata": {},
   "source": [
    "다음 코드는 결합확률로부터 조건부확률  𝑃(𝐵|𝐴𝐶) ,  𝑃(𝐵𝐶|𝐴𝐶) 를 계산한다."
   ]
  },
  {
   "cell_type": "code",
   "execution_count": 13,
   "metadata": {},
   "outputs": [
    {
     "name": "stdout",
     "output_type": "stream",
     "text": [
      "╒═════╤════════╕\n",
      "│ Y   │   P(Y) │\n",
      "╞═════╪════════╡\n",
      "│ Y_0 │ 0.8750 │\n",
      "├─────┼────────┤\n",
      "│ Y_1 │ 0.1250 │\n",
      "╘═════╧════════╛\n"
     ]
    }
   ],
   "source": [
    "py_on_x1 = pxy.conditional_distribution([('X', 1)], inplace=False)\n",
    "print(py_on_x1)"
   ]
  },
  {
   "cell_type": "markdown",
   "metadata": {},
   "source": [
    "다음 코드는 결합확률로부터 조건부확률  𝑃(𝐴|𝐵) ,  𝑃(𝐴𝐶|𝐵) 를 계산한다."
   ]
  },
  {
   "cell_type": "code",
   "execution_count": 16,
   "metadata": {},
   "outputs": [
    {
     "name": "stdout",
     "output_type": "stream",
     "text": [
      "╒═════╤════════╕\n",
      "│ X   │   P(X) │\n",
      "╞═════╪════════╡\n",
      "│ X_0 │ 0.3000 │\n",
      "├─────┼────────┤\n",
      "│ X_1 │ 0.7000 │\n",
      "╘═════╧════════╛\n"
     ]
    }
   ],
   "source": [
    "px_on_y0 = pxy.conditional_distribution([('Y', 0)], inplace=False)\n",
    "print(px_on_y0)"
   ]
  },
  {
   "cell_type": "markdown",
   "metadata": {},
   "source": [
    "다음 코드는 결합확률로부터 조건부확률  𝑃(𝐴|𝐵C) ,  𝑃(𝐴𝐶|𝐵C) 를 계산한다."
   ]
  },
  {
   "cell_type": "code",
   "execution_count": 18,
   "metadata": {},
   "outputs": [
    {
     "name": "stdout",
     "output_type": "stream",
     "text": [
      "╒═════╤════════╕\n",
      "│ X   │   P(X) │\n",
      "╞═════╪════════╡\n",
      "│ X_0 │ 0.9000 │\n",
      "├─────┼────────┤\n",
      "│ X_1 │ 0.1000 │\n",
      "╘═════╧════════╛\n"
     ]
    }
   ],
   "source": [
    "px_on_y1 = pxy.conditional_distribution([('Y', 1)], inplace=False)\n",
    "print(px_on_y1)"
   ]
  },
  {
   "cell_type": "markdown",
   "metadata": {},
   "source": [
    "check_independence 메서드를 이용하면 두 확률변수 간의 독립도 확인할 수 있다."
   ]
  },
  {
   "cell_type": "code",
   "execution_count": 19,
   "metadata": {},
   "outputs": [
    {
     "data": {
      "text/plain": [
       "False"
      ]
     },
     "execution_count": 19,
     "metadata": {},
     "output_type": "execute_result"
    }
   ],
   "source": [
    "pxy.check_independence(['X'], ['Y'])"
   ]
  },
  {
   "cell_type": "markdown",
   "metadata": {},
   "source": [
    "두 개의 JointProbabilityDistribution 객체끼리 곱하면 두 분포가 독립이라는 가정하에 결합확률을 구한다. 이 값과 원래의 결합확률을 비교하면 독립이 아니라는 것을 알 수 있다."
   ]
  },
  {
   "cell_type": "code",
   "execution_count": 20,
   "metadata": {},
   "outputs": [
    {
     "name": "stdout",
     "output_type": "stream",
     "text": [
      "╒═════╤═════╤══════════╕\n",
      "│ X   │ Y   │   P(X,Y) │\n",
      "╞═════╪═════╪══════════╡\n",
      "│ X_0 │ Y_0 │   0.3000 │\n",
      "├─────┼─────┼──────────┤\n",
      "│ X_0 │ Y_1 │   0.3000 │\n",
      "├─────┼─────┼──────────┤\n",
      "│ X_1 │ Y_0 │   0.2000 │\n",
      "├─────┼─────┼──────────┤\n",
      "│ X_1 │ Y_1 │   0.2000 │\n",
      "╘═════╧═════╧══════════╛\n",
      "╒═════╤═════╤══════════╕\n",
      "│ X   │ Y   │   P(X,Y) │\n",
      "╞═════╪═════╪══════════╡\n",
      "│ X_0 │ Y_0 │   0.1500 │\n",
      "├─────┼─────┼──────────┤\n",
      "│ X_0 │ Y_1 │   0.4500 │\n",
      "├─────┼─────┼──────────┤\n",
      "│ X_1 │ Y_0 │   0.3500 │\n",
      "├─────┼─────┼──────────┤\n",
      "│ X_1 │ Y_1 │   0.0500 │\n",
      "╘═════╧═════╧══════════╛\n"
     ]
    }
   ],
   "source": [
    "print(px * py)\n",
    "print(pxy)  # 값이 다르므로 독립이 아님"
   ]
  },
  {
   "cell_type": "markdown",
   "metadata": {},
   "source": [
    "### Practice 8\n",
    "위에서 구현한 JointProbabilityDistribution 클래스 객체 pxy2로부터 주변확률 모형 및 조건부확률 모형을 구하라. 또 check_independence 메서드를 이용하여 사건 A, B의 독립을 확인하라."
   ]
  },
  {
   "cell_type": "code",
   "execution_count": 21,
   "metadata": {},
   "outputs": [
    {
     "name": "stdout",
     "output_type": "stream",
     "text": [
      "╒═════╤════════╕\n",
      "│ X   │   P(X) │\n",
      "╞═════╪════════╡\n",
      "│ X_0 │ 0.6000 │\n",
      "├─────┼────────┤\n",
      "│ X_1 │ 0.4000 │\n",
      "╘═════╧════════╛\n"
     ]
    }
   ],
   "source": [
    "pmx2 = pxy2.marginal_distribution(['X'], inplace=False)\n",
    "print(pmx2)"
   ]
  },
  {
   "cell_type": "code",
   "execution_count": 22,
   "metadata": {},
   "outputs": [
    {
     "name": "stdout",
     "output_type": "stream",
     "text": [
      "╒═════╤════════╕\n",
      "│ X   │   P(X) │\n",
      "╞═════╪════════╡\n",
      "│ X_0 │ 0.6000 │\n",
      "├─────┼────────┤\n",
      "│ X_1 │ 0.4000 │\n",
      "╘═════╧════════╛\n"
     ]
    }
   ],
   "source": [
    "pmx2 = pxy2.marginalize(['Y'], inplace=False)\n",
    "print(pmx2)"
   ]
  },
  {
   "cell_type": "code",
   "execution_count": 23,
   "metadata": {},
   "outputs": [
    {
     "name": "stdout",
     "output_type": "stream",
     "text": [
      "╒═════╤════════╕\n",
      "│ Y   │   P(Y) │\n",
      "╞═════╪════════╡\n",
      "│ Y_0 │ 0.5000 │\n",
      "├─────┼────────┤\n",
      "│ Y_1 │ 0.5000 │\n",
      "╘═════╧════════╛\n"
     ]
    }
   ],
   "source": [
    "pmy2 = pxy2.marginal_distribution(['Y'], inplace=False)\n",
    "print(pmy2)"
   ]
  },
  {
   "cell_type": "code",
   "execution_count": 25,
   "metadata": {},
   "outputs": [
    {
     "name": "stdout",
     "output_type": "stream",
     "text": [
      "╒═════╤════════╕\n",
      "│ X   │   P(X) │\n",
      "╞═════╪════════╡\n",
      "│ X_0 │ 0.6000 │\n",
      "├─────┼────────┤\n",
      "│ X_1 │ 0.4000 │\n",
      "╘═════╧════════╛\n"
     ]
    }
   ],
   "source": [
    "# 조건부확률 𝑃(𝐴|𝐵) , 𝑃(𝐴𝐶|𝐵) 를 계산\n",
    "px2_on_y0 = pxy2.conditional_distribution([('Y', 0)], inplace=False)  #사건 B에 대한 조건부확률\n",
    "print(px2_on_y0)"
   ]
  },
  {
   "cell_type": "code",
   "execution_count": 26,
   "metadata": {},
   "outputs": [
    {
     "name": "stdout",
     "output_type": "stream",
     "text": [
      "╒═════╤════════╕\n",
      "│ Y   │   P(Y) │\n",
      "╞═════╪════════╡\n",
      "│ Y_0 │ 0.5000 │\n",
      "├─────┼────────┤\n",
      "│ Y_1 │ 0.5000 │\n",
      "╘═════╧════════╛\n"
     ]
    }
   ],
   "source": [
    "# 𝑃(𝐵|𝐴) ,  𝑃(𝐵𝐶|𝐴)  조건부확률 계산\n",
    "py2_on_x0 = pxy2.conditional_distribution([('X', 0)], inplace=False)\n",
    "print(py2_on_x0)"
   ]
  },
  {
   "cell_type": "code",
   "execution_count": 27,
   "metadata": {},
   "outputs": [
    {
     "data": {
      "text/plain": [
       "True"
      ]
     },
     "execution_count": 27,
     "metadata": {},
     "output_type": "execute_result"
    }
   ],
   "source": [
    "# 사건 A와 사건 B의 독립여부\n",
    "pxy2.check_independence(['X'], ['Y'])"
   ]
  },
  {
   "cell_type": "code",
   "execution_count": null,
   "metadata": {},
   "outputs": [],
   "source": []
  }
 ],
 "metadata": {
  "kernelspec": {
   "display_name": "Python 3",
   "language": "python",
   "name": "python3"
  },
  "language_info": {
   "codemirror_mode": {
    "name": "ipython",
    "version": 3
   },
   "file_extension": ".py",
   "mimetype": "text/x-python",
   "name": "python",
   "nbconvert_exporter": "python",
   "pygments_lexer": "ipython3",
   "version": "3.5.1"
  }
 },
 "nbformat": 4,
 "nbformat_minor": 2
}
