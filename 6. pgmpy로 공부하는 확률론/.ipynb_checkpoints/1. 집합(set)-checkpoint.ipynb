{
 "cells": [
  {
   "cell_type": "markdown",
   "metadata": {},
   "source": [
    "집합론의 기초를 살펴보기 위해  파이썬의 set 자료형과 frozenset 자료형의 사용법도 같이 살펴본다."
   ]
  },
  {
   "cell_type": "markdown",
   "metadata": {},
   "source": [
    "### 집합과 원소\n",
    "구별 가능한 객체의 모임을 집합(set)이라고 하고 집합에 포함된 구별 가능한 객체를 그 집합의 원소(element)라고 한다. 집합은 보통 알파벳 대문자를 사용하여 표시하고 원소는 알파벳 소문자로 표시한다."
   ]
  },
  {
   "cell_type": "markdown",
   "metadata": {},
   "source": [
    "원소  𝑥 와 그 원소를 포함하는 집합  𝐴 의 관계는 다음처럼 표시한다.\n",
    "\n",
    "$$x \\in A$$ \n",
    "\n",
    "만약 원소  𝑥 가 집합  𝐴 에 포함되지 않는다면 다음처럼 표시한다.\n",
    "\n",
    "$$x \\notin A$$ \n",
    "\n",
    "따라서 만약  𝐴={1,2,3} 이면,\n",
    "\n",
    "$$1 \\in A, \\;\\;\\; 4 \\notin A$$\n",
    "\n",
    "이다.\n",
    "\n",
    "집합을 이루는 객체가 반드시 숫자일 필요는 없다. 다음처럼 어떠한 원소도 포함할 수 있다.\n",
    "\n",
    "$$B = \\{ H, T \\}$$\n",
    "\n",
    "$$C = \\{ \\spadesuit, \\heartsuit, \\diamondsuit, \\clubsuit \\}$$"
   ]
  },
  {
   "cell_type": "markdown",
   "metadata": {},
   "source": [
    "파이썬에서는 set과 frozenset 자료형으로 집합을 나타낸다. set은 내용을 변경할 수 있는 뮤터블(mutable)자료형이고 frozenset은 내용을 변경할 수 없는 임뮤터블(immutable)자료형이다. (리스트 자료형과 튜플 자료형의 관계와 같다.) 뮤터블 자료형은 딕셔너리(dictionary) 자료형의 키(key)나 혹은 set 자료형의 원소가 될 수 없다. 임뮤터블 자료형만 딕셔너리 자료형의 키나 set 자료형의 원소가 될 수 있다."
   ]
  },
  {
   "cell_type": "code",
   "execution_count": 1,
   "metadata": {},
   "outputs": [
    {
     "data": {
      "text/plain": [
       "{1, 2, 3}"
      ]
     },
     "execution_count": 1,
     "metadata": {},
     "output_type": "execute_result"
    }
   ],
   "source": [
    "A = set([1, 2, 3, 3, 2])\n",
    "A"
   ]
  },
  {
   "cell_type": "code",
   "execution_count": 2,
   "metadata": {},
   "outputs": [
    {
     "data": {
      "text/plain": [
       "frozenset({'H', 'T'})"
      ]
     },
     "execution_count": 2,
     "metadata": {},
     "output_type": "execute_result"
    }
   ],
   "source": [
    "B = frozenset(['H', 'T'])\n",
    "B"
   ]
  },
  {
   "cell_type": "code",
   "execution_count": 3,
   "metadata": {},
   "outputs": [
    {
     "data": {
      "text/plain": [
       "set"
      ]
     },
     "execution_count": 3,
     "metadata": {},
     "output_type": "execute_result"
    }
   ],
   "source": [
    "type(A)"
   ]
  },
  {
   "cell_type": "code",
   "execution_count": 4,
   "metadata": {},
   "outputs": [
    {
     "data": {
      "text/plain": [
       "frozenset"
      ]
     },
     "execution_count": 4,
     "metadata": {},
     "output_type": "execute_result"
    }
   ],
   "source": [
    "type(B)"
   ]
  },
  {
   "cell_type": "markdown",
   "metadata": {},
   "source": [
    "set 자료형은 { } 기호를 사용하여 만들 수도 있다."
   ]
  },
  {
   "cell_type": "code",
   "execution_count": 5,
   "metadata": {},
   "outputs": [
    {
     "data": {
      "text/plain": [
       "({'♠', '♡', '♢', '♣'}, set)"
      ]
     },
     "execution_count": 5,
     "metadata": {},
     "output_type": "execute_result"
    }
   ],
   "source": [
    "C = {\"\\u2660\", \"\\u2661\", \"\\u2662\", \"\\u2663\"}\n",
    "C, type(C)"
   ]
  },
  {
   "cell_type": "markdown",
   "metadata": {},
   "source": [
    "### 집합의 크기\n",
    "집합의 크기(cardinality)는 집합이 가지는 원소의 갯수를 말한다.  |𝐴|  기호나  card  기호를 사용하여 나타낸다. 만약  𝐴={1,2,3} 이면,\n",
    "\n",
    "$$|A| = \\text{card}(A) = 3$$\n",
    "\n",
    "이다.\n",
    "\n",
    "파이썬에서는 len 명령을 사용하여 집합의 원소의 갯수를 구한다."
   ]
  },
  {
   "cell_type": "code",
   "execution_count": 6,
   "metadata": {},
   "outputs": [
    {
     "data": {
      "text/plain": [
       "(3, 2, 4)"
      ]
     },
     "execution_count": 6,
     "metadata": {},
     "output_type": "execute_result"
    }
   ],
   "source": [
    "len(A), len(B), len(C)"
   ]
  },
  {
   "cell_type": "markdown",
   "metadata": {},
   "source": [
    "두 실수 사이에는 항상 다른 실수가 존재하므로 다음과 같은 실수 구간 집합은 무한개의 원소를 가진 집합이다. 예를 들어 다음 집합은 0보다 크고 1보다 같거나 작은 모든 실수로 이루어진 집합이며 원소의 갯수는 무한히 많다.\n",
    "\n",
    "$$D = \\{ x: 0 < x \\leq 1 \\}$$\n",
    "\n",
    "이러한 집합은 파이썬의 set 또는 frozenset 자료형으로 표현할 수 없다."
   ]
  },
  {
   "cell_type": "markdown",
   "metadata": {},
   "source": [
    "### 합집합과 교집합\n",
    "\n",
    "두 집합의 합집합(union)은 각 집합의 원소를 모두 포함하는 집합을 말하고  ∪  기호를 사용하여 표시한다.\n",
    "\n",
    "$$A \\cup B$$\n",
    "\n",
    "두 집합의 교집합(intersection)은 두 사건 모두에 속하는 원소로만 이루어진 집합을 말하고  ∩  기호를 사용하여 표시한다.\n",
    "\n",
    "$$A \\cap B$$ \n",
    "\n",
    "파이썬에서는 union, intersection 메서드나 |, & 연산자를 사용하여 합집합과 교집합을 구할 수 있다."
   ]
  },
  {
   "cell_type": "code",
   "execution_count": 7,
   "metadata": {},
   "outputs": [],
   "source": [
    "A1 = set([1, 2, 3, 4])\n",
    "A2 = set([2, 4, 6])\n",
    "A3 = set([1, 2, 3])\n",
    "A4 = set([2, 3, 4, 5, 6])"
   ]
  },
  {
   "cell_type": "code",
   "execution_count": 8,
   "metadata": {},
   "outputs": [
    {
     "data": {
      "text/plain": [
       "{1, 2, 3, 4, 6}"
      ]
     },
     "execution_count": 8,
     "metadata": {},
     "output_type": "execute_result"
    }
   ],
   "source": [
    "A1.union(A2)"
   ]
  },
  {
   "cell_type": "code",
   "execution_count": 9,
   "metadata": {},
   "outputs": [
    {
     "data": {
      "text/plain": [
       "{2}"
      ]
     },
     "execution_count": 9,
     "metadata": {},
     "output_type": "execute_result"
    }
   ],
   "source": [
    "A2.intersection(A3)"
   ]
  },
  {
   "cell_type": "code",
   "execution_count": 10,
   "metadata": {},
   "outputs": [
    {
     "data": {
      "text/plain": [
       "{1, 2, 3, 4, 6}"
      ]
     },
     "execution_count": 10,
     "metadata": {},
     "output_type": "execute_result"
    }
   ],
   "source": [
    "A1 | A2"
   ]
  },
  {
   "cell_type": "code",
   "execution_count": 11,
   "metadata": {},
   "outputs": [
    {
     "data": {
      "text/plain": [
       "{2}"
      ]
     },
     "execution_count": 11,
     "metadata": {},
     "output_type": "execute_result"
    }
   ],
   "source": [
    "A2 & A3"
   ]
  },
  {
   "cell_type": "code",
   "execution_count": 12,
   "metadata": {},
   "outputs": [
    {
     "data": {
      "text/plain": [
       "{2, 3}"
      ]
     },
     "execution_count": 12,
     "metadata": {},
     "output_type": "execute_result"
    }
   ],
   "source": [
    "A3.intersection(A4)"
   ]
  },
  {
   "cell_type": "code",
   "execution_count": 13,
   "metadata": {},
   "outputs": [
    {
     "data": {
      "text/plain": [
       "{2, 3}"
      ]
     },
     "execution_count": 13,
     "metadata": {},
     "output_type": "execute_result"
    }
   ],
   "source": [
    "A4 & A3"
   ]
  },
  {
   "cell_type": "markdown",
   "metadata": {},
   "source": [
    "### 전체집합, 부분집합, 여집합\n",
    "\n",
    "어떤 집합의 원소 중 일부만을 포함하는 집합을 부분집합(subset)이라고 하고 원래의 집합을 전체집합이라고 한다. 집합  𝐴 가 집합  Ω 의 의 부분집합이면 다음처럼 표시한다.\n",
    "\n",
    "$$A \\subset \\Omega $$\n",
    "\n",
    "모든 집합은 자기 자신의 부분집합이다.\n",
    "\n",
    "$$A \\subset A, \\;\\text{ for all } A$$\n",
    "\n",
    "원소의 크기가 더 작은 부분집합을 진부분집합(proper subset)이라고 한다.\n",
    "\n",
    "파이썬에서는 두 집합이 부분집합인지를 알아보는 issubset 메서드가 있다. 객체가 인수의 부분집합이면 True를 반환한다. 등호를 포함하는 부등식 연산자로도 같은 결과를 구할 수 있다. 더 작은 쪽이 부분집합이다. 등호가 없는 부등식 연산자는 진부분집합 관계를 구한다.\n"
   ]
  },
  {
   "cell_type": "code",
   "execution_count": 16,
   "metadata": {},
   "outputs": [
    {
     "data": {
      "text/plain": [
       "True"
      ]
     },
     "execution_count": 16,
     "metadata": {},
     "output_type": "execute_result"
    }
   ],
   "source": [
    "A3.issubset(A1)  # A3은 A1의 진부분집합이다."
   ]
  },
  {
   "cell_type": "code",
   "execution_count": 17,
   "metadata": {},
   "outputs": [
    {
     "data": {
      "text/plain": [
       "True"
      ]
     },
     "execution_count": 17,
     "metadata": {},
     "output_type": "execute_result"
    }
   ],
   "source": [
    "A3 <= A1 # A3은 A1의 진부분집합이다."
   ]
  },
  {
   "cell_type": "code",
   "execution_count": 18,
   "metadata": {},
   "outputs": [
    {
     "data": {
      "text/plain": [
       "False"
      ]
     },
     "execution_count": 18,
     "metadata": {},
     "output_type": "execute_result"
    }
   ],
   "source": [
    "A3.issubset(A2) # A3은 A2의 부분집합이 아니다."
   ]
  },
  {
   "cell_type": "code",
   "execution_count": 19,
   "metadata": {},
   "outputs": [
    {
     "data": {
      "text/plain": [
       "False"
      ]
     },
     "execution_count": 19,
     "metadata": {},
     "output_type": "execute_result"
    }
   ],
   "source": [
    "A3 <= A2"
   ]
  },
  {
   "cell_type": "code",
   "execution_count": 20,
   "metadata": {},
   "outputs": [
    {
     "data": {
      "text/plain": [
       "True"
      ]
     },
     "execution_count": 20,
     "metadata": {},
     "output_type": "execute_result"
    }
   ],
   "source": [
    "A3 <= A3 # 모든 집합은 자기자신의 부분집합이다."
   ]
  },
  {
   "cell_type": "code",
   "execution_count": 22,
   "metadata": {},
   "outputs": [
    {
     "data": {
      "text/plain": [
       "False"
      ]
     },
     "execution_count": 22,
     "metadata": {},
     "output_type": "execute_result"
    }
   ],
   "source": [
    "A3 < A3 # 모든 집합은 자기자신의 진부분집합이 아니다. (갯수가 동일하기 때문)"
   ]
  },
  {
   "cell_type": "markdown",
   "metadata": {},
   "source": [
    "### 차집합과 여집합\n",
    "\n",
    "어떤 집합  𝐴 에 속하면서 다른 집합  𝐵 에는 속하지 않는 원소로 이루어진  𝐴 의 부분집합을  𝐴 에서  𝐵 를 뺀 차집합(difference)이라고 하며\n",
    "\n",
    "$$A-B$$ \n",
    "\n",
    "로 나타낸다.\n",
    "\n",
    "전체집합  Ω  중에서 부분집합  𝐴 에 속하지 않은 원소로만 이루어진 부분집합을 여집합(complement)이라고 하고 윗첨자  𝐶 를 사용하여\n",
    "\n",
    "$$A^C$$\n",
    "\n",
    "로 표시한다. 여집합  𝐴𝐶 은 전체집합에서 집합  𝐴 를 뺀 차집합과 같다.\n",
    "\n",
    "$$A^C = \\Omega - A$$\n",
    "\n",
    "파이썬에서는 difference 메서드 혹은 - 연산자로 차집합을 구한다."
   ]
  },
  {
   "cell_type": "code",
   "execution_count": 23,
   "metadata": {},
   "outputs": [
    {
     "data": {
      "text/plain": [
       "{1, 3}"
      ]
     },
     "execution_count": 23,
     "metadata": {},
     "output_type": "execute_result"
    }
   ],
   "source": [
    "A1.difference(A2)"
   ]
  },
  {
   "cell_type": "code",
   "execution_count": 24,
   "metadata": {},
   "outputs": [
    {
     "data": {
      "text/plain": [
       "{1, 3}"
      ]
     },
     "execution_count": 24,
     "metadata": {},
     "output_type": "execute_result"
    }
   ],
   "source": [
    "A1 - A2"
   ]
  },
  {
   "cell_type": "markdown",
   "metadata": {},
   "source": [
    "### 공집합\n",
    "\n",
    "아무런 원소도 포함하지 않는 집합을 공집합(null set)이라고 하며  ∅  기호로 나타낸다.\n",
    "\n",
    "공집합은 모든 집합의 부분집합이 된다.\n",
    "\n",
    "$$\\emptyset \\subset A, \\;\\text{ for all } A $$\n",
    "\n",
    "또한 임의의 집합과 공집합의 합집합은 공집합이, 임의의 집합과 공집합의 합집합은 그 집합 자신이 된다.\n",
    "\n",
    "$$A \\cap \\emptyset = \\emptyset $$\n",
    "\n",
    "$$A \\cup \\emptyset = A  $$\n",
    "\n",
    "여집합과 원래의 집합의 교집합은 공집합이다.\n",
    "\n",
    "$$A \\cap A^C = \\emptyset$$\n"
   ]
  },
  {
   "cell_type": "code",
   "execution_count": 25,
   "metadata": {},
   "outputs": [
    {
     "data": {
      "text/plain": [
       "set()"
      ]
     },
     "execution_count": 25,
     "metadata": {},
     "output_type": "execute_result"
    }
   ],
   "source": [
    "empty_set = set([])\n",
    "empty_set"
   ]
  },
  {
   "cell_type": "code",
   "execution_count": 26,
   "metadata": {},
   "outputs": [
    {
     "data": {
      "text/plain": [
       "True"
      ]
     },
     "execution_count": 26,
     "metadata": {},
     "output_type": "execute_result"
    }
   ],
   "source": [
    "empty_set < A1"
   ]
  },
  {
   "cell_type": "code",
   "execution_count": 27,
   "metadata": {},
   "outputs": [
    {
     "data": {
      "text/plain": [
       "set()"
      ]
     },
     "execution_count": 27,
     "metadata": {},
     "output_type": "execute_result"
    }
   ],
   "source": [
    "empty_set.intersection(A1)"
   ]
  },
  {
   "cell_type": "code",
   "execution_count": 28,
   "metadata": {},
   "outputs": [
    {
     "data": {
      "text/plain": [
       "{1, 2, 3, 4}"
      ]
     },
     "execution_count": 28,
     "metadata": {},
     "output_type": "execute_result"
    }
   ],
   "source": [
    "empty_set.union(A1) # A1과 합집합"
   ]
  },
  {
   "cell_type": "markdown",
   "metadata": {},
   "source": [
    "### 부분집합의 수\n",
    "\n",
    "집합  𝐴={1,2} 는 다음과 같은 4개의 부분집합을 가진다. 공집합과 자기 자신인 집합도 부분집합이라는 점에 주의한다.\n",
    "\n",
    "$$A_1 = \\emptyset$$\n",
    "\n",
    "$$A_2 = \\{ 1 \\}$$\n",
    "\n",
    "$$A_3 = \\{ 2 \\}$$\n",
    "\n",
    "$$A_4 = \\{ 1, 2 \\}$$"
   ]
  },
  {
   "cell_type": "markdown",
   "metadata": {},
   "source": [
    "부분집합을 만들때 우리가 결정할 수 있는 것은 각각의 원소가 우리가 만들고자 하는 부분집합에 포함되느냐 포함되지 않느냐이다.  𝑁 개의 원소 모두에 대해 이러한 의사결정을 하면 부분집합의 갯수는 우리가 할 수 있는 의사결정의 가짓수인  2𝑁 개가 된다.\n",
    "\n",
    "[정리] 원소의 갯수가  𝑁 개인 집합은  2𝑁 개의 부분집합을 가진다."
   ]
  },
  {
   "cell_type": "markdown",
   "metadata": {},
   "source": [
    "### Practice 1\n",
    "\n",
    "다음 집합의 부분집합을 생각한다.\n",
    "\n",
    "$$\\Omega = \\{ HH, HT, TH, TT \\}$$\n",
    "\n",
    "1. 이 집합의 부분집합의 갯수는?\n",
    "2. 이 집합의 모든 부분집합을 frozenset 자료형 객체로 만들고 이 부분집합들을 원소로 가지는 하나의 set 객체를 만든다. 이 집합은 일종의 \"부분집합의 집합\"이 된다."
   ]
  },
  {
   "cell_type": "code",
   "execution_count": 31,
   "metadata": {},
   "outputs": [],
   "source": [
    "A1 = frozenset([])\n",
    "A2 = frozenset(['HH'])\n",
    "A3 = frozenset(['HT'])\n",
    "A4 = frozenset(['TH'])\n",
    "A5 = frozenset(['TT'])\n",
    "A6 = frozenset(['HH', 'HT'])\n",
    "A7 = frozenset(['HH', 'TH'])\n",
    "A8 = frozenset(['HH', 'TT'])\n",
    "A9 = frozenset(['HT', 'TH'])\n",
    "A10 = frozenset(['HT', 'TT'])\n",
    "A11 = frozenset(['TH', 'TT'])\n",
    "A12 = frozenset(['HH', 'HT', 'TH'])\n",
    "A13 = frozenset(['HH', 'HT', 'TT'])\n",
    "A14 = frozenset(['HH', 'TH', 'TT'])\n",
    "A15 = frozenset(['HT', 'TH', 'TT'])\n",
    "A16 = frozenset(['HH', 'HT', 'TH', 'TT'])"
   ]
  },
  {
   "cell_type": "code",
   "execution_count": 35,
   "metadata": {},
   "outputs": [],
   "source": [
    "omega = set([A1, A2, A3, A4, A5, A6, A7, A8, A9, A10, A11, A12, A13, A14, A15, A16])"
   ]
  },
  {
   "cell_type": "code",
   "execution_count": 36,
   "metadata": {},
   "outputs": [
    {
     "data": {
      "text/plain": [
       "{frozenset(),\n",
       " frozenset({'TH'}),\n",
       " frozenset({'HH', 'HT'}),\n",
       " frozenset({'TT'}),\n",
       " frozenset({'TH', 'TT'}),\n",
       " frozenset({'HT', 'TT'}),\n",
       " frozenset({'HT', 'TH', 'TT'}),\n",
       " frozenset({'HH'}),\n",
       " frozenset({'HH', 'TT'}),\n",
       " frozenset({'HH', 'HT', 'TT'}),\n",
       " frozenset({'HH', 'TH'}),\n",
       " frozenset({'HH', 'TH', 'TT'}),\n",
       " frozenset({'HT'}),\n",
       " frozenset({'HT', 'TH'}),\n",
       " frozenset({'HH', 'HT', 'TH'}),\n",
       " frozenset({'HH', 'HT', 'TH', 'TT'})}"
      ]
     },
     "execution_count": 36,
     "metadata": {},
     "output_type": "execute_result"
    }
   ],
   "source": [
    "omega"
   ]
  },
  {
   "cell_type": "code",
   "execution_count": 43,
   "metadata": {},
   "outputs": [
    {
     "data": {
      "text/plain": [
       "True"
      ]
     },
     "execution_count": 43,
     "metadata": {},
     "output_type": "execute_result"
    }
   ],
   "source": [
    "A1.issubset(omega)"
   ]
  },
  {
   "cell_type": "code",
   "execution_count": 45,
   "metadata": {},
   "outputs": [
    {
     "data": {
      "text/plain": [
       "False"
      ]
     },
     "execution_count": 45,
     "metadata": {},
     "output_type": "execute_result"
    }
   ],
   "source": [
    "A15 < omega"
   ]
  },
  {
   "cell_type": "code",
   "execution_count": 49,
   "metadata": {},
   "outputs": [
    {
     "data": {
      "text/plain": [
       "True"
      ]
     },
     "execution_count": 49,
     "metadata": {},
     "output_type": "execute_result"
    }
   ],
   "source": [
    "A3.issubset(A16)"
   ]
  },
  {
   "cell_type": "markdown",
   "metadata": {},
   "source": [
    "### 합집합과 교집합의 분배 법칙\n",
    "\n",
    "곱셈과 덧셈의 분배 법칙은 다음과 같다.\n",
    "\n",
    "$$a \\times (b + c) = a \\times b + a \\times c$$\n",
    "\n",
    "곱셈과 덧셈의 분배 법칙처럼 교집합과 합집합도 괄호를 풀어내는 분배법칙이 성립한다.\n",
    "\n",
    "\\begin{align}\n",
    "A ∪ (B ∩ C) = (A ∪ B) ∩ (A ∪ C)\n",
    "\\end{align}\n",
    "\n",
    "\\begin{align}\n",
    "A ∩ (B ∪ C) = (A ∩ B) ∪ (A ∩ C) \n",
    "\\end{align}"
   ]
  },
  {
   "cell_type": "markdown",
   "metadata": {},
   "source": [
    "### Practice 2\n",
    "다음 세 집합 𝐴, 𝐵, 𝐶에 대해 위에서 말한 두가지 분배법칙이 성립하는지 파이썬 코드로 증명하라.\n",
    "\n",
    "$$A = \\{ 1, 3, 5 \\}$$\n",
    "\n",
    "$$B = \\{ 1, 2, 3 \\}$$\n",
    "\n",
    "$$C = \\{ 2, 4, 6 \\}$$"
   ]
  },
  {
   "cell_type": "code",
   "execution_count": 51,
   "metadata": {},
   "outputs": [],
   "source": [
    "A = {1, 3, 5}\n",
    "B = {1, 2, 3}\n",
    "C = {2, 4, 6}"
   ]
  },
  {
   "cell_type": "code",
   "execution_count": 52,
   "metadata": {},
   "outputs": [
    {
     "data": {
      "text/plain": [
       "{1, 2, 3, 5}"
      ]
     },
     "execution_count": 52,
     "metadata": {},
     "output_type": "execute_result"
    }
   ],
   "source": [
    "A.union(B.intersection(C))"
   ]
  },
  {
   "cell_type": "code",
   "execution_count": 53,
   "metadata": {},
   "outputs": [
    {
     "data": {
      "text/plain": [
       "{1, 2, 3, 5}"
      ]
     },
     "execution_count": 53,
     "metadata": {},
     "output_type": "execute_result"
    }
   ],
   "source": [
    "(A.union(B)) & (A.union(C))"
   ]
  },
  {
   "cell_type": "code",
   "execution_count": 54,
   "metadata": {},
   "outputs": [
    {
     "data": {
      "text/plain": [
       "{1, 3}"
      ]
     },
     "execution_count": 54,
     "metadata": {},
     "output_type": "execute_result"
    }
   ],
   "source": [
    "A.intersection(B.union(C))"
   ]
  },
  {
   "cell_type": "code",
   "execution_count": 55,
   "metadata": {},
   "outputs": [
    {
     "data": {
      "text/plain": [
       "{1, 3}"
      ]
     },
     "execution_count": 55,
     "metadata": {},
     "output_type": "execute_result"
    }
   ],
   "source": [
    "(A & B) | (A & C)"
   ]
  },
  {
   "cell_type": "code",
   "execution_count": null,
   "metadata": {},
   "outputs": [],
   "source": []
  }
 ],
 "metadata": {
  "kernelspec": {
   "display_name": "Python 3",
   "language": "python",
   "name": "python3"
  },
  "language_info": {
   "codemirror_mode": {
    "name": "ipython",
    "version": 3
   },
   "file_extension": ".py",
   "mimetype": "text/x-python",
   "name": "python",
   "nbconvert_exporter": "python",
   "pygments_lexer": "ipython3",
   "version": "3.5.1"
  }
 },
 "nbformat": 4,
 "nbformat_minor": 2
}
