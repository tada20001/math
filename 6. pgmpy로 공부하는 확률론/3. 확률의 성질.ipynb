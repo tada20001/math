{
 "cells": [
  {
   "cell_type": "markdown",
   "metadata": {},
   "source": [
    "확률은 여러 성질을 가진다. 이 중에서 앞으로 많이 사용될 몇 가지 성질을 살펴보자. 이번에 다룰 성질들은 확률의 정의 자체가 아니라 정의로부터 유도된 것들이라는 것에 주의해야 한다. 이 장에서는 다음과 같은 확률 사건의 예를 들어 설명을 한다.\n",
    "\n",
    "우선 사람이 20명 있는 집합이 있다고 가정하자. 이 모임에는 여자도 있고 남자도 있다. 또 성별에 관계없이 머리카락이 짧은 사람과 머리카락이 긴 두 그룹으로 나눌 수 있다고 가정한다. 여기에서 전체 20명의 집합은 표본공간이고 사람 한 명은 표본 하나다. 표본공간으로부터 0명 이상의 사람을 선택한다면 선택된 사람의 집합을 사건이라고 부르게 된다. 예를 들어 다음과 같은 사건을 생각해 보자.\n",
    "\n",
    "+ 전체 사람 중에서 남자만의 모임은 부분집합이므로 사건이라고 부를 수 있다. 이를 사건  𝐴 라고 한다.\n",
    "+ 전체 사람 중에서 머리카락이 긴 사람만의 모임도 부분집합이므로 사건이라고 부를 수 있다. 이를 사건  𝐵 라고 한다.\n",
    "+ 생일이  𝑖 월인 사람의 집합도 부분집합이므로 사건이다. 예를 들어 생일이 1월인 사람의 집합은  𝐶1 , 생일이 2월인 사람의 집합은  𝐶2 , ... 이런 식으로  𝐶12 까지의 집합을 만들 수 있다."
   ]
  },
  {
   "cell_type": "markdown",
   "metadata": {},
   "source": [
    "원소 개수가 반드시 1보다 커야지 사건(부분집합)이 되는 것이 아니다. 원소 개수가 0인 경우, 즉 원소가 없는 부분집합도 사건이다. 예를 들어 표본공간에 생일이 6월인 사람이 존재하지 않는다면  𝐶6 의 원소 개수는 0이다.\n",
    "\n",
    "표본공간과 표본, 사건이 정의되었으니 각 사건에 얼마의 확률을 할당할지 정해야 한다. 여기에서는 사건에 속하는 표본의 수에 비례하도록 확률을 정의한다. 예를 들어 어떤 사건에 10명의 사람이 있다면 이 사건의 확률은  10/20=1/2 가 된다. 이렇게 정의했을 경우 뒤으로 ‘확률’이라는 말을 ‘사람 수’라는 말로 바꾸어서 생각하면 이해하기 쉬워진다. 하지만 앞에서도 강조하였듯이 이 방법은 확률을 정의하는 방법 중 하나일 뿐이고 반드시 확률이란 것이 이런 식으로 정해져야 하는 것은 아니라는 점을 명심한다."
   ]
  },
  {
   "cell_type": "markdown",
   "metadata": {},
   "source": [
    "### Practice 1\n",
    "\n",
    "위에서 언급된 사건( 𝐴,𝐵,𝐶 )의 표본 집합과 사건의 원소 개수와 확률을 마음대로 정해본다. 이 값은 다음 연습 문제에서 사용하게 된다."
   ]
  },
  {
   "cell_type": "code",
   "execution_count": 26,
   "metadata": {},
   "outputs": [],
   "source": [
    "A = frozenset(['M'])\n",
    "B = frozenset(['LH'])\n",
    "C0 = frozenset([])\n",
    "C1 = frozenset(['1월'])\n",
    "C2 = frozenset(['2월'])\n",
    "C3 = frozenset(['3월'])\n",
    "C4 = frozenset(['4월'])\n",
    "C5 = frozenset(['5월'])\n",
    "C6 = frozenset(['6월'])\n",
    "C7 = frozenset(['7월'])\n",
    "C8 = frozenset(['8월'])\n",
    "C9 = frozenset(['9월'])\n",
    "C10 = frozenset(['10월'])\n",
    "C11 = frozenset(['11월'])\n",
    "C12 = frozenset(['12월'])\n",
    "C_all = frozenset(['1월', '2월', '3월', '4월', '5월', '6월', '7월', '8월', '9월', '10월', '11월', '12월'])\n",
    "C = frozenset([C0, C1, C2, C3, C4, C5, C6, C7, C8, C9, C10, C11, C12, C_all])\n",
    "P_C = {C0: 0.0, C1: 0.05, C2: 0.05, C3: 0.1, C4: 0.2, C5: 0.3, C6: 0.0, C7: 0.05, C8: 0.05, C9: 0.05, C10: 0.05, C11: 0.05, C12: 0.05, C_all: 1.0}\n",
    "P = {A : 0.4, B: 0.3, C: 1.0}"
   ]
  },
  {
   "cell_type": "code",
   "execution_count": 27,
   "metadata": {},
   "outputs": [
    {
     "data": {
      "text/plain": [
       "{frozenset({'LH'}): 0.3,\n",
       " frozenset({'M'}): 0.4,\n",
       " frozenset({frozenset(),\n",
       "            frozenset({'5월'}),\n",
       "            frozenset({'6월'}),\n",
       "            frozenset({'9월'}),\n",
       "            frozenset({'11월'}),\n",
       "            frozenset({'8월'}),\n",
       "            frozenset({'2월'}),\n",
       "            frozenset({'3월'}),\n",
       "            frozenset({'12월'}),\n",
       "            frozenset({'7월'}),\n",
       "            frozenset({'4월'}),\n",
       "            frozenset({'1월'}),\n",
       "            frozenset({'10월'}),\n",
       "            frozenset({'10월',\n",
       "                       '11월',\n",
       "                       '12월',\n",
       "                       '1월',\n",
       "                       '2월',\n",
       "                       '3월',\n",
       "                       '4월',\n",
       "                       '5월',\n",
       "                       '6월',\n",
       "                       '7월',\n",
       "                       '8월',\n",
       "                       '9월'})}): 1.0}"
      ]
     },
     "execution_count": 27,
     "metadata": {},
     "output_type": "execute_result"
    }
   ],
   "source": [
    "P"
   ]
  },
  {
   "cell_type": "markdown",
   "metadata": {},
   "source": [
    "### 성질 1. 공집합의 확률\n",
    "\n",
    "\n",
    "    \n",
    "    \"공집합인 사건의 확률은 0이다.\"\n",
    "   \n",
    "$$P(\\emptyset) = 0$$ \n"
   ]
  },
  {
   "cell_type": "markdown",
   "metadata": {},
   "source": [
    "### 성질 2. 여집합의 확률\n",
    "\n",
    "\n",
    "    \"어떤 사건의 여집합인 사건의 확률은 (1 - 원래 사건의 확률)과 같다.\"\n",
    "    \n",
    "$$P(A^C) = 1 - P(A)$$\n",
    "\n",
    "어떤 사건의 여집합이란 그 사건의 표본이 아닌 표본의 집합을 말하며 사건 기호에  𝐶 라는 윗첨자를 붙여서 표시한다. 위의 예에서는  𝐴𝐶 는 남자라는 부분집합  𝐴 에 대한 여집합이므로 여자 집합이 된다.\n"
   ]
  },
  {
   "cell_type": "markdown",
   "metadata": {},
   "source": [
    "### 성질 3. 포함-배제 원리\n",
    "\n",
    "    \"두 사건의 합집합의 확률은 각 사건의 확률의 합에서 두 사건의 교집합의 확률을 뺀 것과 같다.\"\n",
    "    \n",
    "$$P(A \\cup B) = P(A) + P(B) – P(A \\cap B) $$\n",
    "\n",
    "이를 포함-배제 원리(Inclusion–exclusion principle) 혹은 덧셈 규칙(sum rule, addition law)이라 한다.\n",
    "\n",
    "위의 예에서 사건  𝐴 와 사건  𝐵 의 교집합이란 남자의 집합에 속하면서 머리카락이 긴 사람의 집합에 속하는 사람의 집합 즉, 장발 남자 집합을 말한다.\n"
   ]
  },
  {
   "cell_type": "markdown",
   "metadata": {},
   "source": [
    "### 성질 4. 전체 확률의 법칙\n",
    "\n",
    "복수의 사건  𝐶𝑖 가 다음을 만족하는 사건들이라고 가정한다.\n",
    "\n",
    "+ 서로 교집합이 없다. 이를 서로 배타적(mutually exclusive)이라고도 한다.\n",
    "\n",
    "$$C_i \\cap C_j = \\emptyset \\;\\;\\; (i \\neq j)$$\n",
    "\n",
    "+ 모든 집합의 합집합이 전체집합(표본공간)이다. 이 경우 완전한(complete) 부분집합들이라고 한다.\n",
    "\n",
    "$$C_1 \\cup C_2 \\cup \\cdots  = \\Omega $$\n",
    "\n",
    "이 경우,\n",
    "\n",
    "    \"사건  𝐴 의 확률은 사건  𝐴 와 사건  𝐶𝑖 가 동시에 발생할 사건들의 확률의 합과 같다.\"\n",
    "    \n",
    "$$P(A) = \\sum_i P(A \\cap C_i) $$\n"
   ]
  },
  {
   "cell_type": "markdown",
   "metadata": {},
   "source": [
    "이를 전체 확률의 법칙(law of total probability)이라 한다.\n",
    "\n",
    "위의 예를 사용하면 사건  𝑃(𝐴∩𝐶1) 은 생일이 1월인 남자의 집합이고 전체 확률의 법칙은 다음과 같이 이해할 수 있다.\n",
    "\n",
    "    \"생일이 1월인 남자라는 사건의 확률과 생일이 2월인 남자라는 사건의 확률, 이 이외에도 각각의 월을 생일로 가지는 남자라는 사건들의 확률을 모두 합치면 남자라는 사건의 확률이 된다.\""
   ]
  },
  {
   "cell_type": "markdown",
   "metadata": {},
   "source": [
    "### Practice 2\n",
    "앞 연습 문제에서 정한 확률 값을 이용하여 확률의 성질 2, 3, 4번이 성립하는지 확인해본다."
   ]
  },
  {
   "cell_type": "code",
   "execution_count": 11,
   "metadata": {},
   "outputs": [
    {
     "data": {
      "text/plain": [
       "0.6"
      ]
     },
     "execution_count": 11,
     "metadata": {},
     "output_type": "execute_result"
    }
   ],
   "source": [
    "# 2번 성질\n",
    "1 - P[A]"
   ]
  },
  {
   "cell_type": "code",
   "execution_count": 19,
   "metadata": {},
   "outputs": [
    {
     "data": {
      "text/plain": [
       "0.58"
      ]
     },
     "execution_count": 19,
     "metadata": {},
     "output_type": "execute_result"
    }
   ],
   "source": [
    "# 3번 성질\n",
    "# P(A∪B)=P(A)+P(B)–P(A∩B)\n",
    "\n",
    "P[A] + P[B] - P[A] * P[B]"
   ]
  },
  {
   "cell_type": "code",
   "execution_count": 21,
   "metadata": {},
   "outputs": [
    {
     "data": {
      "text/plain": [
       "0.5800000000000001"
      ]
     },
     "execution_count": 21,
     "metadata": {},
     "output_type": "execute_result"
    }
   ],
   "source": [
    "P[A] + P[B] * (1 - P[A])"
   ]
  },
  {
   "cell_type": "code",
   "execution_count": 38,
   "metadata": {},
   "outputs": [
    {
     "data": {
      "text/plain": [
       "0.40000000000000013"
      ]
     },
     "execution_count": 38,
     "metadata": {},
     "output_type": "execute_result"
    }
   ],
   "source": [
    "# 4번 성질\n",
    "P[A] * P_C[C1] + P[A] * P_C[C2] + P[A] * P_C[C3] + P[A] * P_C[C4] + P[A] * P_C[C5] + P[A] * P_C[C6] + P[A] * P_C[C7] + P[A] * P_C[C8] + P[A] * P_C[C9] + P[A] * P_C[C10] + P[A] * P_C[C11] + P[A] * P_C[C12]"
   ]
  },
  {
   "cell_type": "code",
   "execution_count": 29,
   "metadata": {},
   "outputs": [
    {
     "data": {
      "text/plain": [
       "0.4"
      ]
     },
     "execution_count": 29,
     "metadata": {},
     "output_type": "execute_result"
    }
   ],
   "source": [
    "P[A] * (P_C[C1] + P)"
   ]
  },
  {
   "cell_type": "code",
   "execution_count": 31,
   "metadata": {},
   "outputs": [
    {
     "data": {
      "text/plain": [
       "0.40000000000000013"
      ]
     },
     "execution_count": 31,
     "metadata": {},
     "output_type": "execute_result"
    }
   ],
   "source": [
    "P[A] * (P_C[C1] + P_C[C2] + P_C[C3] + P_C[C4] + P_C[C5] + P_C[C6] + P_C[C7] + P_C[C8] + P_C[C9] + P_C[C10] + P_C[C11] + P_C[C12]) "
   ]
  },
  {
   "cell_type": "markdown",
   "metadata": {},
   "source": [
    "### 확률의 성질 요약\n",
    "\n",
    "+ 공집합의 확률\n",
    "\n",
    "$$P(\\emptyset) = 0 $$\n",
    "\n",
    "+ 여집합의 확률\n",
    "$$P(A^C) = 1 - P(A)$$\n",
    "\n",
    "$$0 \\leq P(A) \\leq 1 $$\n",
    "\n",
    "+ 포함-배제 원리\n",
    "$$P(A \\cup B) = P(A) + P(B) – P(A \\cap B) $$\n",
    "\n",
    "+ 전체 확률의 법칙\n",
    "$$C_i \\cap C_j = \\emptyset \\;\\;\\; (i \\neq j)$$\n",
    "\n",
    "$$C_1 \\cup C_2 \\cup \\cdots  = \\Omega $$\n",
    "\n",
    "$$P(A) = \\sum_i P(A, C_i) $$\n"
   ]
  },
  {
   "cell_type": "code",
   "execution_count": null,
   "metadata": {},
   "outputs": [],
   "source": []
  }
 ],
 "metadata": {
  "kernelspec": {
   "display_name": "Python 3",
   "language": "python",
   "name": "python3"
  },
  "language_info": {
   "codemirror_mode": {
    "name": "ipython",
    "version": 3
   },
   "file_extension": ".py",
   "mimetype": "text/x-python",
   "name": "python",
   "nbconvert_exporter": "python",
   "pygments_lexer": "ipython3",
   "version": "3.5.1"
  }
 },
 "nbformat": 4,
 "nbformat_minor": 2
}
