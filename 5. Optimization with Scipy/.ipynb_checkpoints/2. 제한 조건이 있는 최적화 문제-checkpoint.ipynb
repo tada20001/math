{
 "cells": [
  {
   "cell_type": "code",
   "execution_count": 1,
   "metadata": {},
   "outputs": [],
   "source": [
    "import matplotlib.pylab as plt\n",
    "import matplotlib as mpl\n",
    "import matplotlib.font_manager as fm\n",
    "import seaborn as sns\n",
    "import numpy as np\n",
    "\n",
    "sns.set_style(\"whitegrid\")\n",
    "mpl.rcParams['axes.unicode_minus'] = False\n",
    "plt.rcParams['font.size'] = 12\n",
    "\n",
    "path = \"/Library/Fonts/NanumGothic.otf\"\n",
    "font_name = fm.FontProperties(fname=path, size=20).get_name()\n",
    "\n",
    "plt.rc('font', family=font_name)"
   ]
  },
  {
   "cell_type": "markdown",
   "metadata": {},
   "source": [
    "이 절에서는 제한조건(constraint)을 가지는 최적화 문제를 풀어본다. 제한조건은 연립방정식 또는 연립부등식이다. 연립방정식 제한조건이 있는 경우에는 라그랑주 승수법을 사용하여 새로운 최적화 문제를 풀어야 한다. 연립부등식 제한조건의 경우에는 KKT 조건이라는 것을 만족하도록 하는 복잡한 과정을 거쳐야 한다."
   ]
  },
  {
   "cell_type": "markdown",
   "metadata": {},
   "source": [
    "### 등식 제한조건이 있는 최적화 문제"
   ]
  },
  {
   "cell_type": "markdown",
   "metadata": {},
   "source": [
    "현실의 최적화 문제에서는 여러가지 제한조건이 있는 최적화(constrained optimization) 문제가 많다. 가장 간단한 경우는 다음과 같이 연립방정식 제한조건이 있는 경우다. 등식(equality) 제한조건이라고도 한다.\n",
    "\n",
    "$$x^{\\ast} = \\text{arg} \\min_x f(x)$$\n",
    "\n",
    "$$x \\in \\mathbf{R}^N$$\n",
    "\n",
    "$$g_j(x) = 0 \\;\\; (j=1, \\ldots, M)$$\n"
   ]
  },
  {
   "cell_type": "markdown",
   "metadata": {},
   "source": [
    "위의 첫번째 식만 보면 단순히 목적함수  𝑓(𝑥) 를 가장 작게 하는  𝑁 차원 벡터  𝑥 값을 찾는 문제다. 하지만 두번째 식에 있는  𝑀 개의 등식 제한 조건이 있으면  𝑀 개 연립 방정식\n",
    "\n",
    "\\begin{aligned}\n",
    "g_1(x) &= 0 \\\\\n",
    "g_2(x) &= 0 \\\\\n",
    "&\\vdots \\\\\n",
    "g_M(x) &= 0 \\\\\n",
    "\\end{aligned}\n",
    "\n",
    "를 동시에 모두 만족시키면서 목적함수  𝑓(𝑥) 를 가장 작게 하는  𝑥 값을 찾아야 한다."
   ]
  },
  {
   "cell_type": "markdown",
   "metadata": {},
   "source": [
    "#### 예제\n",
    "목적 함수  𝑓 와 등식 제한조건  𝑔 이 다음과 같은 경우를 생각하자.\n",
    "\n",
    "$$f(x_1, x_2) = x_1^2 + x_2^2 $$\n",
    "\n",
    "$$ g(x_1, x_2) = x_1 + x_2 - 1 = 0 $$\n"
   ]
  },
  {
   "cell_type": "markdown",
   "metadata": {},
   "source": [
    "이 문제는 다음 그림과 같이  𝑔(𝑥1,𝑥2)=0 으로 정의되는 직선상에서 가장  𝑓(𝑥1,𝑥2) 값이 작아지는 점  (𝑥∗1,𝑥∗2) 를 찾는 문제가 된다."
   ]
  },
  {
   "cell_type": "code",
   "execution_count": 8,
   "metadata": {},
   "outputs": [
    {
     "data": {
      "image/png": "[encoded data removed]",
      "text/plain": [
       "<Figure size 432x288 with 1 Axes>"
      ]
     },
     "metadata": {},
     "output_type": "display_data"
    }
   ],
   "source": [
    "# 목적함수 f(x)\n",
    "def f(x1, x2):\n",
    "    return x1**2 + x2**2\n",
    "\n",
    "x1 = np.linspace(-5, 5, 100)\n",
    "x2 = np.linspace(-3, 3, 100)\n",
    "X1, X2 = np.meshgrid(x1, x2)\n",
    "Y = f(X1, X2)\n",
    "\n",
    "# 등식 제한조건 방정식\n",
    "x2_g = 1 - x1\n",
    "\n",
    "plt.contour(X1, X2, Y, colors='gray', levels=[0.5, 2, 8, 32])\n",
    "plt.plot(x1, x2_g, 'g-')\n",
    "\n",
    "plt.plot([0], [0], 'rP')\n",
    "plt.plot([0.5], [0.5], 'ro', ms=10)\n",
    "plt.xlim(-5, 5)\n",
    "plt.ylim(-3, 3)\n",
    "plt.xticks(np.linspace(-4, 4, 9))\n",
    "plt.xlabel(\"$x_1$\")\n",
    "plt.ylabel(\"$x_2$\")\n",
    "plt.title(\"등식 제한조건이 있는 최적화 문제\")\n",
    "plt.show()"
   ]
  },
  {
   "cell_type": "markdown",
   "metadata": {},
   "source": [
    "### 라그랑주 승수법\n",
    "이렇게 등식 제한조건이 있는 최적화 문제는 라그랑주 승수법(Lagrange multiplier)을 사용하여 최적화할 수 있다.\n",
    "\n",
    "라그랑주 승수 방법에서는 목적함수를 원래의 목적함수  𝑓(𝑥) 를 사용하지 않는다. 대신 제한조건 등식에  𝜆 라는 새로운 변수를 곱해서 더한 함수\n",
    "\n",
    "\\begin{align}\n",
    "\\begin{aligned}\n",
    "h(x, \\lambda) \n",
    "&= h(x_1, x_2, \\ldots , x_N, \\lambda_1, \\ldots , \\lambda_M) \\\\\n",
    "&= f(x) + \\sum_{j=1}^M \\lambda_j g_j(x)\n",
    "\\end{aligned}\n",
    "\\end{align}"
   ]
  },
  {
   "cell_type": "markdown",
   "metadata": {},
   "source": [
    "를 목적함수로 간주하여 최적화한다. \n",
    "\n",
    "##### 그레디언트 벡터를 영벡터로 만드는 최적화 필요조건이 N개에서 N+M개가 됨\n",
    "이때 제한조건 등식 하나마다 새로운  𝜆𝑖 를 추가해주어야 한다. 따라서 만약 제한조건이  𝑀 개이면  𝜆1,⋯,𝜆𝑀 개의 변수가 새로 생긴 것과 같다. 이렇게 확장된 목적함수  ℎ 는 입력변수가 더 늘어났기 때문에 그레디언트 벡터를 영벡터로 만드는 최적화 필요 조건이 다음과 같이  𝑁+𝑀 개가 된다."
   ]
  },
  {
   "cell_type": "markdown",
   "metadata": {},
   "source": [
    "\\begin{aligned}\n",
    "\\dfrac{\\partial h}{\\partial x_1} \n",
    "&= \\dfrac{\\partial f}{\\partial x_1} + \\sum_{j=1}^M \\lambda_j\\dfrac{\\partial g_j}{\\partial x_1} = 0 \\\\\n",
    "\\dfrac{\\partial h}{\\partial x_2} \n",
    "&= \\dfrac{\\partial f}{\\partial x_2} + \\sum_{j=1}^M \\lambda_j\\dfrac{\\partial g_j}{\\partial x_2} = 0 \\\\\n",
    "& \\vdots  \\\\\n",
    "\\dfrac{\\partial h}{\\partial x_N} \n",
    "&= \\dfrac{\\partial f}{\\partial x_N} + \\sum_{j=1}^M \\lambda_j\\dfrac{\\partial g_j}{\\partial x_N} = 0 \\\\\n",
    "\\dfrac{\\partial h}{\\partial \\lambda_1} \n",
    "&= g_1 = 0 \\\\\n",
    "& \\vdots  \\\\\n",
    "\\dfrac{\\partial h}{\\partial \\lambda_M} \n",
    "&= g_M = 0 \n",
    "\\end{aligned}"
   ]
  },
  {
   "cell_type": "markdown",
   "metadata": {},
   "source": [
    "이  𝑁+𝑀 개의 연립 방정식을 풀면  𝑁+𝑀 개의 미지수\n",
    "\n",
    "$$x_1, x_2, \\ldots, x_N, , \\lambda_1, \\ldots , \\lambda_M$$"
   ]
  },
  {
   "cell_type": "markdown",
   "metadata": {},
   "source": [
    "를 구할 수 있다. 구한 결과에서\n",
    "\n",
    "$$x_1, x_2, \\cdots, x_N$$"
   ]
  },
  {
   "cell_type": "markdown",
   "metadata": {},
   "source": [
    "이 우리가 찾는 최소값  𝑥 이다. 라그랑주 승숫값 λ 은 필요없다."
   ]
  },
  {
   "cell_type": "markdown",
   "metadata": {},
   "source": [
    "#### 예제\n",
    "\n",
    "위에서 제시한 예제를 라그랑주 승수법으로 풀어보자. 새로운 목적함수는 다음과 같다.\n",
    "\n",
    "\\begin{align}\n",
    "h(x_1, x_2, \\lambda) \n",
    "= f(x_1, x_2) + \\lambda g(x_1, x_2) \n",
    "= x_1^2 + x_2^2 + \\lambda ( x_1 + x_2 - 1 ) \n",
    "\\end{align}"
   ]
  },
  {
   "cell_type": "markdown",
   "metadata": {},
   "source": [
    "라그랑지 승수법을 적용하여 그레디언트 벡터가 영벡터인 위치를 구한다.\n",
    "\n",
    "\\begin{aligned}\n",
    "\\dfrac{\\partial h}{\\partial x_1} \n",
    "&= 2{x_1} + \\lambda = 0 \\\\\n",
    "\\dfrac{\\partial h}{\\partial x_2} \n",
    "&= 2{x_2} + \\lambda = 0 \\\\\n",
    "\\dfrac{\\partial h}{\\partial \\lambda} \n",
    "&= x_1 + x_2 - 1 = 0 \n",
    "\\end{aligned}"
   ]
  },
  {
   "cell_type": "markdown",
   "metadata": {},
   "source": [
    "위 방정식을 풀면 해는 다음과 같다.\n",
    "\n",
    "$$x_1 = x_2 = \\dfrac{1}{2}, \\;\\;\\; \\lambda = -1$$"
   ]
  },
  {
   "cell_type": "markdown",
   "metadata": {},
   "source": [
    "### Practice 1\n",
    "\n",
    "제한조건이\n",
    "\n",
    "$$x_1 + x_2 = 1$$\n",
    "\n",
    "일 때 목적 함수\n",
    "\n",
    "$$f(x) = - \\log{x_1} - \\log{x_2}$$\n",
    "\n",
    "$$x_1, x_2 > 0$$\n",
    "\n",
    "을 최소화하는  𝑥1 ,  𝑥2  값을 라그랑주 승수법으로 계산하라.\n"
   ]
  },
  {
   "cell_type": "markdown",
   "metadata": {},
   "source": [
    "### Practice 2\n",
    "\n",
    "제한조건이\n",
    "\n",
    "$$x_1^2 + x_2^2 = 1$$\n",
    "일 때 목적 함수\n",
    "\n",
    "$$f(x) = x_1 + x_2$$\n",
    "\n",
    "를 최소화하는  𝑥1 ,  𝑥2  값을 라그랑주 승수법으로 계산하라."
   ]
  },
  {
   "cell_type": "markdown",
   "metadata": {},
   "source": [
    "### Scipy를 이용하여 등식 제한조건이 있는 최적화 문제 계산하기\n",
    "\n",
    "Scipy의 optimize 서브패키지는 제한조건이 있는 최적화 문제를 푸는 fmin_slsqp 명령을 제공한다.\n",
    "\n",
    "fmin_slsqp(func_objective, x0, eqcons=[func_constraint1, func_constraint2])\n",
    "\n",
    "fmin_slsqp 명령은 목적함수와 초깃값, 그리고 제한조건 함수의 리스트를 인수로 받는다. 목적함수는 배열인 인수를 받도록 구현되어야 하고 제한조건 함수의 경우에는 항상 eqcons 인수를 명시해야 한다."
   ]
  },
  {
   "cell_type": "code",
   "execution_count": 9,
   "metadata": {},
   "outputs": [],
   "source": [
    "import scipy as sp"
   ]
  },
  {
   "cell_type": "markdown",
   "metadata": {},
   "source": [
    "#### 예제\n",
    "다음은 위 예제를 fmin_slsqp 명령으로 푸는 코드다."
   ]
  },
  {
   "cell_type": "code",
   "execution_count": 11,
   "metadata": {},
   "outputs": [
    {
     "name": "stdout",
     "output_type": "stream",
     "text": [
      "Optimization terminated successfully.    (Exit mode 0)\n",
      "            Current function value: 0.5000000000000002\n",
      "            Iterations: 2\n",
      "            Function evaluations: 8\n",
      "            Gradient evaluations: 2\n"
     ]
    },
    {
     "data": {
      "text/plain": [
       "array([0.5, 0.5])"
      ]
     },
     "execution_count": 11,
     "metadata": {},
     "output_type": "execute_result"
    }
   ],
   "source": [
    "# 목적함수 재정의(배열인수 구현)\n",
    "def f1array(x):  # x는 배열, x[0] = x1, x[1] = x2\n",
    "    return x[0]**2 + x[1]**2\n",
    "\n",
    "def eq_constraint(x):\n",
    "    return x[0] + x[1] - 1\n",
    "\n",
    "\n",
    "sp.optimize.fmin_slsqp(f1array, np.array([1, 1]), eqcons=[eq_constraint])  # eqcons 인수는 리스트 형식으로 입력해 줘야 함"
   ]
  },
  {
   "cell_type": "markdown",
   "metadata": {},
   "source": [
    "### 라그랑주 승수의 의미\n",
    "\n",
    "만약 최적화 문제에서 등식 제한조건  𝑔𝑖 이 있는가 없는가에 따라 해의 값이 달라진다면 이 등식 제한조건에 대응하는 라그랑주 승수  𝜆𝑖 는 0이 아닌 값이어야 한다.\n",
    "$$\\lambda_i \\neq 0$$ \n"
   ]
  },
  {
   "cell_type": "markdown",
   "metadata": {},
   "source": [
    "𝜆𝑖=0 일 때만 원래의 문제와 제한조건이 있는 문제의 최적화 조건이 같아지므로 최적화 해의 위치도 같게 나오기 때문이다."
   ]
  },
  {
   "cell_type": "markdown",
   "metadata": {},
   "source": [
    "#### 예제\n",
    "목적함수가\n",
    "$$f(x) = x_1^2 + x_2^2$$\n",
    "\n",
    "인 최소화 문제의 답은\n",
    "\n",
    "$$x_1 = x_2 = 0$$"
   ]
  },
  {
   "cell_type": "markdown",
   "metadata": {},
   "source": [
    "이다.\n",
    "\n",
    "여기에 다음 제한조건이 있다고 하자.\n",
    "\n",
    "$$g(x_1, x_2) = x_1 + x_2 = 0$$\n",
    "\n",
    "라그랑주 승수법에서 새로운 목적함수는\n",
    "\n",
    "$$h(x_1, x_2, \\lambda) \n",
    "= f(x_1, x_2) + \\lambda g(x_1, x_2) \n",
    "= x_1^2 + x_2^2 + \\lambda ( x_1 + x_2)$$\n",
    "\n",
    "이고 최적화 조건은\n",
    "\n",
    "\\begin{aligned}\n",
    "\\dfrac{\\partial h}{\\partial x_1} \n",
    "&= 2{x_1} + \\lambda = 0 \\\\\n",
    "\\dfrac{\\partial h}{\\partial x_2} \n",
    "&= 2{x_2} + \\lambda = 0 \\\\\n",
    "\\dfrac{\\partial h}{\\partial \\lambda} \n",
    "&= x_1 + x_2 = 0 \n",
    "\\end{aligned}\n",
    "\n",
    "이를 풀면\n",
    "\n",
    "$$x_1 = x_2 = \\lambda = 0$$\n",
    "\n",
    "로 제한조건이 있으나 없으나 해는 같고 라그랑지 승수가 0이다.\n"
   ]
  },
  {
   "cell_type": "markdown",
   "metadata": {},
   "source": [
    "### 부등식 제한조건이 있는 최적화 문제\n",
    "\n",
    "이번에는 다음과 같이 부등식(inequality) 제한조건이 있는 최적화 문제를 생각하자.\n",
    "\n",
    "\\begin{align}\n",
    "x^{\\ast} = \\text{arg} \\min_x f(x) \n",
    "\\end{align}\n",
    "\n",
    "$$x \\in \\mathbf{R}^N$$\n",
    "\n",
    "\\begin{align}\n",
    "g_j(x) \\leq 0 \\;\\; (j=1, \\ldots, M)  \n",
    "\\end{align}\n",
    "\n",
    "만약 부등식이\n",
    "\n",
    "$$g_j(x) \\geq 0$$\n",
    "\n",
    "과 같다면 양변에 -1을 곱하여 부등호의 방향을 바꾼다.\n",
    "\n",
    "이렇게 부등식 제한조건이 있는 최적화 문제도 라그랑지 승수 방법과 목적함수를 다음과 같이 바꾸어 푼다.\n",
    "\n",
    "$$h(x, \\lambda) = f(x) + \\sum_{j=1}^M \\lambda_j g_j(x)$$"
   ]
  },
  {
   "cell_type": "markdown",
   "metadata": {},
   "source": [
    "다만 이 경우, 최적화 해의 필요조건은 방정식 제한조건이 있는 최적화 문제와 다르게 KKT(Karush-Kuhn-Tucker) 조건이라고 하며 다음과 같이 3개의 조건으로 이루어진다.\n",
    "\n",
    "(1) 모든 독립 변수  𝑥1,𝑥2,…,𝑥𝑁 에 대한 미분값이 0이다.\n",
    "\n",
    "\\begin{align}\n",
    "\\dfrac{\\partial h(x, \\lambda)}{\\partial x_i} = 0 \n",
    "\\end{align}\n",
    "\n",
    "(2) 모든 라그랑주 승수  𝜆1,…,𝜆𝑀 과 제한조건 부등식( 𝜆 에 대한 미분값)의 곱이 0이다.\n",
    "\n",
    "\\begin{align}\n",
    "\\lambda_j \\cdot \\dfrac{\\partial h(x, \\lambda)}{\\partial \\lambda_j} = \\lambda_j \\cdot g_j = 0 \n",
    "\\end{align}\n",
    "\n",
    "(3) 라그랑주 승수는 음수가 아니어야 한다.\n",
    "\n",
    "\\begin{align}\n",
    "\\lambda_j \\geq 0 \n",
    "\\end{align}"
   ]
  },
  {
   "cell_type": "markdown",
   "metadata": {},
   "source": [
    "첫 번째 조건은 방정식 제한조건의 경우와 같다. 다먄 변수  𝑥 들에 대한 미분값만 0이어야 한다. 라그랑지 승수  𝜆 에 대한 미분은 0이 아니어도 된다.\n",
    "\n",
    "두 번째 조건을 보면 확장된 목적함수를 라그랑주 승수로 미분한 값은 변수  𝑥 들에 대한 미분값과는 달리 반드시 0이 될 필요는 없다는 것을 알 수 있다. 이렇게 하려면 두 경우가 가능한데 등식 제한조건의 경우와 같이 라그랑지 승수  𝜆 에 대한 미분값이 0이어도 되고 아니면 라그랑지 승수  𝜆  값 자체가 0이 되어도 된다.\n",
    "\n",
    "마지막 조건은 KKT 조건이 실제로 부등식 제한조건이 있는 최적화 문제와 같은 문제임을 보장하는 조건이다.\n",
    "\n",
    "#### 예제\n",
    "부등식 제한조건을 가지는 최적화의 예를 풀어보자.\n",
    "\n",
    "목적 함수는\n",
    "\n",
    "$$f(x_1, x_2) = x_1^2 + x_2^2$$\n",
    "이다.\n",
    "\n",
    "이 예제에서는 두가지 제한 조건을 고려해볼 텐데 하나는 다음 그림 중 왼쪽 그림과 같이 부등식 제한조건이\n",
    "\n",
    "\\begin{align}\n",
    "g(x_1, x_2) = x_1 + x_2 - 1 \\leq 0 \n",
    "\\end{align}\n",
    "\n",
    "이다. 다른 하나는 오른쪽 그림과 같이 부등식 제한조건이\n",
    "\n",
    "\\begin{align}\n",
    "g(x_1, x_2) = -x_1 - x_2 + 1 \\leq 0 \n",
    "\\end{align}\n",
    "\n",
    "인 경우다. 이 그림에서는 제한조건을 만족하는 영역을 어둡게 표시했다.\n",
    "\n",
    "최적점의 위치는 점으로 표시했다. 첫 번째 제한조건의 경우에는 부등식 제한조건이 있기는 하지만 원래의 최적화 문제의 해가 부등식 제한조건이 제시하는 영역 안에 있기 때문에 최적점의 위치가 달라지지 않는다. 두 번째 제한조건의 경우에는 원래의 최적화 문제의 해가 부등식 제한조건이 제시하는 영역 바깥에 있기 때문에 최적점의 위치가 달라졌다. 하지만 최적점의 위치가 영역의 경계선(boundary line)에 있다는 점에 주의하라."
   ]
  },
  {
   "cell_type": "code",
   "execution_count": 22,
   "metadata": {},
   "outputs": [
    {
     "data": {
      "image/png": "[encoded data removed]",
      "text/plain": [
       "<Figure size 936x504 with 2 Axes>"
      ]
     },
     "metadata": {},
     "output_type": "display_data"
    }
   ],
   "source": [
    "plt.figure(figsize=(13, 7))\n",
    "ax1 = plt.subplot(121)\n",
    "plt.contour(X1, X2, Y, colors=\"gray\", levels=[0.5, 2, 8])\n",
    "plt.plot(x1, x2_g, 'g-')\n",
    "ax1.fill_between(x1, -20, x2_g, alpha=0.5)\n",
    "plt.plot([0], [0], 'ro', ms=10)\n",
    "plt.xlim(-3, 3)\n",
    "plt.ylim(-5, 5)\n",
    "plt.xticks(np.linspace(-4, 4, 9))\n",
    "plt.yticks(np.linspace(-5, 5, 11))\n",
    "plt.xlabel(\"$x_1$\")\n",
    "plt.ylabel(\"$x_2$\")\n",
    "plt.title(\"최적해가 부등식과 관계없는 경우\")\n",
    "ax2 = plt.subplot(122)\n",
    "plt.contour(X1, X2, Y, colors=\"gray\", levels=[0.5, 2, 8])\n",
    "plt.plot(x1, x2_g, 'g-')\n",
    "ax2.fill_between(x1, 20, x2_g, alpha=0.5)\n",
    "plt.plot([0.5], [0.5], 'ro', ms=10)\n",
    "plt.xlabel(\"$x_1$\")\n",
    "plt.ylabel(\"$x_2$\")\n",
    "plt.xlim(-3, 3)\n",
    "plt.ylim(-5, 5)\n",
    "plt.xticks(np.linspace(-4, 4, 9))\n",
    "plt.yticks(np.linspace(-5, 5, 11))\n",
    "plt.title(\"최적해가 부등식에 의해 결정되는 경우\")\n",
    "plt.suptitle(\"부등식 제한조건이 있는 최적화 문제\")\n",
    "plt.show()"
   ]
  },
  {
   "cell_type": "markdown",
   "metadata": {},
   "source": [
    "그림에서 보듯이 부등식 제한조건이 있는 최적화 문제를 풀면 그 제한조건은 다음 두 가지 경우의 하나가 되어 버린다.\n",
    "\n",
    "+ 최적화 결과에 전혀 영향을 주지 않는 쓸모없는 제한조건\n",
    "+ 최적화 결과에 영향을 주는 등식(equality)인 제한조건\n",
    "\n",
    "어느 경우이든 부등식 제한조건 문제로 시작했지만 결과는 제한조건이 없거나 등식 제한조건 문제를 푸는 것과 같아진다.\n",
    "\n",
    "KKT 조건 중 두 번째 조건이 뜻하는 바는 다음과 같다. 다음 식에서  𝑥∗,𝜆∗ 는 KKT 조건을 풀어서 구한 최적해의 값이다.\n",
    "\n",
    "\\begin{align}\n",
    "\\lambda^{\\ast} = 0 \\;\\; \\text{or} \\;\\;  g(x^{\\ast}) = 0 \n",
    "\\end{align}\n",
    "\n",
    "만약  𝑔𝑖=0 이면 이 조건은 부등식 제한조건이 아닌 등식 제한조건이 된다. 그리고 등식 제한조건에서 말한 바와 같이 (이 제한조건이 있으나 없으나 해가 바뀌지 않는 특수한 경우를 제외하면) 라그랑주 승수는 0이 아닌 값을 가진다.\n",
    "\n",
    "\\begin{align}\n",
    "g_i = 0 \\;\\; \\rightarrow \\;\\; \\lambda_i \\neq 0 \\; (\\lambda_i > 0)\n",
    "\\end{align}\n",
    "\n",
    "반대로  𝑔𝑖≠0(𝑔𝑖<0) 이면 해가  𝑔𝑖 가 표현하는 곡선으로부터 떨어져 있기 때문에 부등식 제한조건이 아무런 의미가 없어진다. 즉, 제한조건이 있을 때와 없을 때의 해가 같다. 따라서 목적함수  ℎ(𝑥,𝜆) 는  𝜆𝑖𝑔𝑖(𝑔𝑖≠0)  항이 있으나 없으나 상관없이 같은 해를 가진다. 따라서  𝜆𝑖=0 이 된다.\n",
    "\n",
    "\\begin{align}\n",
    "g_i \\neq 0 \\;\\; \\rightarrow \\;\\; \\lambda_i = 0  \n",
    "\\end{align}\n",
    "\n",
    "따라서 부등식 제한조건이 있는 최적화 문제는 각 제한조건에 대해 위의 두 가지 경우를 가정하여 각각 풀어보면서 최적의 답을 찾는다."
   ]
  },
  {
   "cell_type": "markdown",
   "metadata": {},
   "source": [
    "#### 예제\n",
    "다음은 복수의 부등식 제한조건이 있는 또다른 2차원 최적화 문제의 예다.\n",
    "\n",
    "$$\\text{arg} \\min_x \\; (x_1-4)^2 + (x_2-2)^2$$\n",
    "\n",
    "$$g_1(x) = x_1 + x_2 - 1\\leq 0$$\n",
    "\n",
    "$$g_2(x) = -x_1 + x_2 - 1\\leq 0$$\n",
    "\n",
    "$$g_3(x) = -x_1 - x_2 - 1\\leq 0$$\n",
    "\n",
    "$$g_4(x) = x_1 - x_2 - 1\\leq 0$$"
   ]
  },
  {
   "cell_type": "markdown",
   "metadata": {},
   "source": [
    "이 4개의 제한조건은 다음과 같은 하나의 부등식으로 나타낼 수도 있다.\n",
    "\n",
    "$$g(x) \n",
    "= \\left\\vert\\, x_1 \\right\\vert + \\left\\vert\\, x_2 \\right\\vert - 1 \n",
    "= \\sum_{i=1}^{2} \\left\\vert\\, x_i \\right\\vert - 1 \\leq 0$$"
   ]
  },
  {
   "cell_type": "code",
   "execution_count": 28,
   "metadata": {},
   "outputs": [
    {
     "data": {
      "image/png": "[encoded data removed]",
      "text/plain": [
       "<Figure size 432x288 with 1 Axes>"
      ]
     },
     "metadata": {},
     "output_type": "display_data"
    }
   ],
   "source": [
    "def f2plt(x1, x2):\n",
    "    return np.sqrt((x1 - 4) ** 2 + (x2 - 2) ** 2)\n",
    "\n",
    "x1 = np.linspace(-2, 5, 100)\n",
    "x2 = np.linspace(-1.5, 3, 100)\n",
    "X1, X2 = np.meshgrid(x1, x2)\n",
    "Y = f2plt(X1, X2)\n",
    "\n",
    "plt.contour(X1, X2, Y, colors=\"gray\", levels=np.arange(0.5, 5, 0.5) * np.sqrt(2))\n",
    "\n",
    "# 제한조건의 상수\n",
    "k = 1\n",
    "ax = plt.gca()\n",
    "x12 = np.linspace(-k, 0, 10)\n",
    "x13 = np.linspace(0, k, 10)\n",
    "ax.fill_between(x12, x12 + k, -k - x12, color='g', alpha=0.5)\n",
    "ax.fill_between(x13, x13 - k, k - x13, color='g', alpha=0.5)\n",
    "\n",
    "# 최적점 위치\n",
    "x1_sol = 1\n",
    "x2_sol = 0\n",
    "plt.plot(x1_sol, x2_sol, 'ro', ms=20)\n",
    "\n",
    "plt.xlim(-2, 5)\n",
    "plt.ylim(-1.5, 3)\n",
    "plt.xticks(np.linspace(-2, 5, 8))\n",
    "plt.yticks(np.linspace(-1, 3, 5))\n",
    "plt.xlabel(\"$x_1$\")\n",
    "plt.ylabel(\"$x_2$\")\n",
    "plt.title(\"$|x_1| + |x_2| \\leq {}$ 제한조건을 가지는 최적화 문제\".format(k))\n",
    "plt.show()"
   ]
  },
  {
   "cell_type": "markdown",
   "metadata": {},
   "source": [
    "### Practice 3\n",
    "위 예제에서 최적해가\n",
    "\n",
    "$$x_1 = 1, \\; x_2 = 0$$\n",
    "\n",
    "이라는 사실을 이용하여 라그랑지 승수  𝜆1 ,  𝜆2 ,  𝜆3 ,  𝜆4  중 어느 값이 0이 되는지 알아내라."
   ]
  },
  {
   "cell_type": "markdown",
   "metadata": {},
   "source": [
    "### Scipy를 이용하여 부등식 제한조건이 있는 최적화 문제 계산하기\n",
    "fmin_slsqp 명령은 이렇게 부등식 제한조건이 있는 경우에도 사용할 수 있다. 제한조건 인수의 이름이 ieqcons로 달라졌다.\n",
    "\n",
    "fmin_slsqp(func_objective, x0, ieqcons=[func_constraint1, func_constraint2])\n",
    "\n",
    "단 ieqcons 인수에 들어가는 부등호의 부호는 우리가 지금까지 사용한 방식과 달리 0 또는 양수이어야 한다.\n",
    "\n",
    "$$g \\geq 0$$\n"
   ]
  },
  {
   "cell_type": "markdown",
   "metadata": {},
   "source": [
    "사실 fmin_slsqp 명령은 등식 제한조건과 부등식 제한조건을 동시에 사용할 수 있다."
   ]
  },
  {
   "cell_type": "code",
   "execution_count": 34,
   "metadata": {},
   "outputs": [
    {
     "name": "stdout",
     "output_type": "stream",
     "text": [
      "Optimization terminated successfully.    (Exit mode 0)\n",
      "            Current function value: 3.6055512804550336\n",
      "            Iterations: 11\n",
      "            Function evaluations: 77\n",
      "            Gradient evaluations: 11\n"
     ]
    },
    {
     "data": {
      "text/plain": [
       "array([9.99999982e-01, 1.79954011e-08])"
      ]
     },
     "execution_count": 34,
     "metadata": {},
     "output_type": "execute_result"
    }
   ],
   "source": [
    "def f2(x):\n",
    "    return np.sqrt((x[0] - 4) ** 2 + (x[1] - 2) ** 2)\n",
    "\n",
    "# 제한 조건 상수\n",
    "k = 1\n",
    "def ieq_constraint(x):\n",
    "    return np.atleast_1d(k - np.sum(np.abs(x)))  \n",
    "\n",
    "sp.optimize.fmin_slsqp(f2, np.array([0, 0]), ieqcons=[ieq_constraint])"
   ]
  },
  {
   "cell_type": "markdown",
   "metadata": {},
   "source": [
    "최적점은 거의 (1, 0)"
   ]
  },
  {
   "cell_type": "markdown",
   "metadata": {},
   "source": [
    "### Practice 4\n",
    "위 문제에서 제한조건을 다음과 같이 바꾼다.\n",
    "\n",
    "$$g(x) \n",
    "= \\left\\vert\\, x_1 \\right\\vert + \\left\\vert\\, x_2 \\right\\vert - k \n",
    "= \\sum_{i=1}^{2} \\left\\vert\\, x_i \\right\\vert - k \\leq 0$$"
   ]
  },
  {
   "cell_type": "markdown",
   "metadata": {},
   "source": [
    "여기에서  𝑘 의 값을 0.1부터 10까지 다양하게 변화시키면서 최적화의 해가 어떻게 달라지는지 살펴보라."
   ]
  },
  {
   "cell_type": "code",
   "execution_count": 40,
   "metadata": {},
   "outputs": [
    {
     "name": "stdout",
     "output_type": "stream",
     "text": [
      "Optimization terminated successfully.    (Exit mode 0)\n",
      "            Current function value: 4.382922108746309\n",
      "            Iterations: 11\n",
      "            Function evaluations: 72\n",
      "            Gradient evaluations: 11\n"
     ]
    },
    {
     "data": {
      "text/plain": [
       "array([9.99983654e-02, 1.63456102e-06])"
      ]
     },
     "execution_count": 40,
     "metadata": {},
     "output_type": "execute_result"
    }
   ],
   "source": [
    "def f2(x):\n",
    "    return np.sqrt((x[0] - 4) ** 2 + (x[1] - 2) ** 2)\n",
    "\n",
    "# 제한 조건 상수\n",
    "k = 0.1\n",
    "def ieq_constraint(x):\n",
    "    return np.atleast_1d(k - np.sum(np.abs(x)))  \n",
    "\n",
    "sp.optimize.fmin_slsqp(f2, np.array([0, 0]), ieqcons=[ieq_constraint])"
   ]
  },
  {
   "cell_type": "code",
   "execution_count": 43,
   "metadata": {},
   "outputs": [
    {
     "name": "stdout",
     "output_type": "stream",
     "text": [
      "Optimization terminated successfully.    (Exit mode 0)\n",
      "            Current function value: 4.031128897766439\n",
      "            Iterations: 12\n",
      "            Function evaluations: 78\n",
      "            Gradient evaluations: 12\n"
     ]
    },
    {
     "data": {
      "text/plain": [
       "array([4.99999937e-01, 6.34692395e-08])"
      ]
     },
     "execution_count": 43,
     "metadata": {},
     "output_type": "execute_result"
    }
   ],
   "source": [
    "# 제한 조건 상수\n",
    "k = 0.5\n",
    "def ieq_constraint(x):\n",
    "    return np.atleast_1d(k - np.sum(np.abs(x)))  \n",
    "\n",
    "sp.optimize.fmin_slsqp(f2, np.array([0, 0]), ieqcons=[ieq_constraint])"
   ]
  },
  {
   "cell_type": "code",
   "execution_count": 45,
   "metadata": {},
   "outputs": [
    {
     "name": "stdout",
     "output_type": "stream",
     "text": [
      "Optimization terminated successfully.    (Exit mode 0)\n",
      "            Current function value: 3.6055512804550336\n",
      "            Iterations: 11\n",
      "            Function evaluations: 77\n",
      "            Gradient evaluations: 11\n"
     ]
    },
    {
     "data": {
      "text/plain": [
       "array([9.99999982e-01, 1.79954011e-08])"
      ]
     },
     "execution_count": 45,
     "metadata": {},
     "output_type": "execute_result"
    }
   ],
   "source": [
    "# 제한 조건 상수\n",
    "k = 1\n",
    "def ieq_constraint(x):\n",
    "    return np.atleast_1d(k - np.sum(np.abs(x)))  \n",
    "\n",
    "sp.optimize.fmin_slsqp(f2, np.array([0, 0]), ieqcons=[ieq_constraint])"
   ]
  },
  {
   "cell_type": "code",
   "execution_count": 46,
   "metadata": {},
   "outputs": [
    {
     "name": "stdout",
     "output_type": "stream",
     "text": [
      "Optimization terminated successfully.    (Exit mode 0)\n",
      "            Current function value: 0.7071067910728857\n",
      "            Iterations: 5\n",
      "            Function evaluations: 20\n",
      "            Gradient evaluations: 5\n"
     ]
    },
    {
     "data": {
      "text/plain": [
       "array([3.49991639, 1.50008361])"
      ]
     },
     "execution_count": 46,
     "metadata": {},
     "output_type": "execute_result"
    }
   ],
   "source": [
    "k = 5\n",
    "def ieq_constraint(x):\n",
    "    return np.atleast_1d(k - np.sum(np.abs(x)))  \n",
    "\n",
    "sp.optimize.fmin_slsqp(f2, np.array([0, 0]), ieqcons=[ieq_constraint])"
   ]
  },
  {
   "cell_type": "code",
   "execution_count": 47,
   "metadata": {},
   "outputs": [
    {
     "name": "stdout",
     "output_type": "stream",
     "text": [
      "Optimization terminated successfully.    (Exit mode 0)\n",
      "            Current function value: 4.04176407312663e-07\n",
      "            Iterations: 13\n",
      "            Function evaluations: 69\n",
      "            Gradient evaluations: 13\n"
     ]
    },
    {
     "data": {
      "text/plain": [
       "array([3.99999992, 1.9999996 ])"
      ]
     },
     "execution_count": 47,
     "metadata": {},
     "output_type": "execute_result"
    }
   ],
   "source": [
    "k = 10\n",
    "def ieq_constraint(x):\n",
    "    return np.atleast_1d(k - np.sum(np.abs(x)))  \n",
    "\n",
    "sp.optimize.fmin_slsqp(f2, np.array([0, 0]), ieqcons=[ieq_constraint])"
   ]
  },
  {
   "cell_type": "code",
   "execution_count": null,
   "metadata": {},
   "outputs": [],
   "source": []
  }
 ],
 "metadata": {
  "kernelspec": {
   "display_name": "Python 3",
   "language": "python",
   "name": "python3"
  },
  "language_info": {
   "codemirror_mode": {
    "name": "ipython",
    "version": 3
   },
   "file_extension": ".py",
   "mimetype": "text/x-python",
   "name": "python",
   "nbconvert_exporter": "python",
   "pygments_lexer": "ipython3",
   "version": "3.5.1"
  }
 },
 "nbformat": 4,
 "nbformat_minor": 2
}
