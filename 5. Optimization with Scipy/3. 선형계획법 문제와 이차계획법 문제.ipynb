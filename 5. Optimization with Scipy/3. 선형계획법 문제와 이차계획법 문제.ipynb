{
 "cells": [
  {
   "cell_type": "markdown",
   "metadata": {},
   "source": [
    "데이터 분석에서는 목적함수나 제한조건이 특정한 수식인 최적화 문제가 많이 등장한다. 여기에서는 그 중 선형계획법과 이차계획법을 소개한다."
   ]
  },
  {
   "cell_type": "markdown",
   "metadata": {},
   "source": [
    "### 선형계획법(LP 문제: Linear Programming)\n",
    "방정식이나 부등식 제한 조건을 가지는 선형 모형(linear model)의 값을 최소화하는 문제를 선형계획법(Linear Programming) 문제라고 한다. LP 문제라고도 한다."
   ]
  },
  {
   "cell_type": "markdown",
   "metadata": {},
   "source": [
    "선형계획법 문제의 목적함수는\n",
    "\n",
    "\\begin{align}\n",
    "\\arg\\min_x c^Tx \n",
    "\\end{align}\n",
    "\n",
    "이고 선형 연립방정식으로 된 등식 제한조건\n",
    "\n",
    "\\begin{align}\n",
    "Ax = b \n",
    "\\end{align}"
   ]
  },
  {
   "cell_type": "markdown",
   "metadata": {},
   "source": [
    "과 변수값이 모두 음수가 아니어야하는 부등식 제한조건\n",
    "\n",
    "$$x \\geq 0$$\n"
   ]
  },
  {
   "cell_type": "markdown",
   "metadata": {},
   "source": [
    "를 동시에 가진다.\n",
    "\n",
    "선형계획법 문제는 여러가지 형태가 존재하는데 위와 같은 형태를 선형계획법 문제의 기본형(standard form)이라고 한다. 마지막 부등식 제한 조건은 벡터  𝑥 의 모든 원소가 양수거나 0이 되어야 한다는 것을 의미한다. \n",
    "\n",
    "표준형을 확장한 정규형(canonical form) 선형계획법 문제는 두번째 등식제한조건에 대해 부등식 조건을 허용한다."
   ]
  },
  {
   "cell_type": "markdown",
   "metadata": {},
   "source": [
    "\\begin{align}\n",
    "\\arg\\min_x c^Tx \n",
    "\\end{align}\n",
    "\n",
    "\\begin{align}\n",
    "Ax \\leq b \n",
    "\\end{align}\n",
    "\n",
    "\\begin{align}\n",
    "x \\geq 0\n",
    "\\end{align}"
   ]
  },
  {
   "cell_type": "markdown",
   "metadata": {},
   "source": [
    "#### 예제\n",
    "\n",
    "어떤 공장에서 두가지 제품을 생산해야 한다고 하자.\n",
    "\n",
    "+ 제품 A와 제품 B 각각 100개 이상 생산해야 한다.\n",
    "+ 시간은 500시간 밖에 없다.\n",
    "+ 제품 A는 생산하는데 1시간이 걸리고 제품 B는 2시간이 걸린다.\n",
    "+ 특정 부품이 9800개밖에 없다.\n",
    "+ 제품 A는 생산하는데 특정 부품을 4개 필요로 하고 제품 B는 생산하는데 특정 부품을 5개 필요로 한다.\n",
    "+ 제품 A의 이익은 하나당 3만원이고 제품 B의 이익은 하나당 5만원이다."
   ]
  },
  {
   "cell_type": "markdown",
   "metadata": {},
   "source": [
    "제품 A와 제품 B의 생산량을 각각  𝑥1,𝑥2 라고 하면 최소화하려는 목적함수는(개당 각각 3만원, 5만원 이익)\n",
    "\n",
    "$$-3x_1 -5x_2$$"
   ]
  },
  {
   "cell_type": "markdown",
   "metadata": {},
   "source": [
    "이고 제한 조건은 다음과 같다.\n",
    "\n",
    "\\begin{aligned}\n",
    "-x_1 & & &\\leq& -100 \\\\\n",
    " & & -x_2 &\\leq& -100 \\\\\n",
    "x_1 &+& 2 x_2 &\\leq& 500 \\\\\n",
    "4x_1 &+& 5 x_2 &\\leq& 9800 \\\\\n",
    "\\end{aligned}\n",
    "\n",
    "$$x_1 \\geq 0, \\;\\; x_2 \\geq 0$$"
   ]
  },
  {
   "cell_type": "markdown",
   "metadata": {},
   "source": [
    "이를 정규형 선형계획법 문제로 표현하면 다음과 같다.\n",
    "\n",
    "$$\\min_x \n",
    "\\begin{bmatrix} -3 & -5 \\end{bmatrix}\n",
    "\\begin{bmatrix}\n",
    "x_1 \\\\ x_2 \n",
    "\\end{bmatrix}$$\n",
    "\n",
    "$$\\begin{bmatrix}\n",
    "-1 & 0 \\\\\n",
    "0 & -1 \\\\\n",
    "1 & 2 \\\\\n",
    "4 & 5 \\\\\n",
    "\\end{bmatrix}\n",
    "\\begin{bmatrix}\n",
    "x_1 \\\\ x_2 \n",
    "\\end{bmatrix} \\leq\n",
    "\\begin{bmatrix}\n",
    "-100 \\\\ -100 \\\\ 500 \\\\ 9800\n",
    "\\end{bmatrix}$$\n",
    "\n",
    "$$\\begin{bmatrix}\n",
    "x_1 \\\\ x_2\n",
    "\\end{bmatrix}\\geq\n",
    "\\begin{bmatrix}\n",
    "0 \\\\ 0\n",
    "\\end{bmatrix}$$"
   ]
  },
  {
   "cell_type": "markdown",
   "metadata": {},
   "source": [
    "### Scipy를 이용한 선형계획법 문제 계산\n",
    "scipy.optimize 패키지의 linprog 명령을 사용하면 선형계획법 문제를 풀 수 있다. 사용법은 다음과 같다.\n",
    "\n",
    "linprog(c, A, b)\n",
    "\n",
    "+ c: 목적함수의 계수 벡터\n",
    "+ A: 등식 제한조건의 계수 행렬\n",
    "+ b: 등식 제한조건의 상수 벡터"
   ]
  },
  {
   "cell_type": "markdown",
   "metadata": {},
   "source": [
    "### 예제\n",
    "다음 코드는 위 예제 선형계획법 문제를 Scipy로 계산하는 코드다."
   ]
  },
  {
   "cell_type": "code",
   "execution_count": 1,
   "metadata": {},
   "outputs": [],
   "source": [
    "from scipy.optimize import linprog"
   ]
  },
  {
   "cell_type": "code",
   "execution_count": 2,
   "metadata": {},
   "outputs": [
    {
     "data": {
      "text/plain": [
       "     fun: -1400.0\n",
       " message: 'Optimization terminated successfully.'\n",
       "     nit: 4\n",
       "   slack: array([ 200., 8100.,    0.,    0.])\n",
       "  status: 0\n",
       " success: True\n",
       "       x: array([300., 100.])"
      ]
     },
     "execution_count": 2,
     "metadata": {},
     "output_type": "execute_result"
    }
   ],
   "source": [
    "import numpy as np\n",
    "A = np.array([[-1, 0], [0, -1], [1, 2], [4, 5]])\n",
    "b = np.array([-100, -100, 500, 9800])\n",
    "c = np.array([-3, -5])\n",
    "\n",
    "result = linprog(c, A, b)\n",
    "result"
   ]
  },
  {
   "cell_type": "markdown",
   "metadata": {},
   "source": [
    "x1 = 300개, x2 = 100개 생산\n",
    "\n",
    "제품 A를 300개, 제품 B를 100개 생산할 때 이익이 1400으로 최대가 됨을 알 수 있다.\n",
    "\n"
   ]
  },
  {
   "cell_type": "markdown",
   "metadata": {},
   "source": [
    "### CVXPY를 이용한 선형계획법 문제 계산\n",
    "\n",
    "CVXPY 또는 PuLP와 같은 파이썬 패키지를 사용하면 선형계획법 문제의 계수 행렬  𝐴 ,  𝑏 ,  𝑐 를 직접 숫자로 정의하지 않고 심볼로 정의하여 더 직관적인 파이썬 코드를 만들 수 있다. 다음 코드는 위에서 풀었던 예제를 CVXPY로 다시 계산한 것이다. 다만 이 방법은 변수나 조건의 수가 아주 많을 경우에는 심볼릭 연산으로 인해 속도가 느려질 수 있다."
   ]
  },
  {
   "cell_type": "code",
   "execution_count": 5,
   "metadata": {},
   "outputs": [
    {
     "ename": "ImportError",
     "evalue": "No module named 'cvxpy'",
     "output_type": "error",
     "traceback": [
      "\u001b[0;31m---------------------------------------------------------------------------\u001b[0m",
      "\u001b[0;31mImportError\u001b[0m                               Traceback (most recent call last)",
      "\u001b[0;32m<ipython-input-5-b9466877789b>\u001b[0m in \u001b[0;36m<module>\u001b[0;34m()\u001b[0m\n\u001b[0;32m----> 1\u001b[0;31m \u001b[0;32mimport\u001b[0m \u001b[0mcvxpy\u001b[0m \u001b[0;32mas\u001b[0m \u001b[0mcp\u001b[0m\u001b[0;34m\u001b[0m\u001b[0m\n\u001b[0m",
      "\u001b[0;31mImportError\u001b[0m: No module named 'cvxpy'"
     ]
    }
   ],
   "source": [
    "import cvxpy as cp"
   ]
  },
  {
   "cell_type": "raw",
   "metadata": {},
   "source": [
    "import cvxpy as cp\n",
    "\n",
    "# 변수의 정의\n",
    "a = cp.Variable()  # A의 생산량\n",
    "b = cp.Variable()  # B의 생산량\n",
    "\n",
    "# 조건의 정의\n",
    "constraints = [\n",
    "    a >= 100,  # A를 100개 이상 생산해야 한다.\n",
    "    b >= 100,  # B를 100개 이상 생산해야 한다. \n",
    "    a + 2 * b <= 500, # 500시간 내에 생산해야 한다.\n",
    "    4 * a + 5 * b <= 9800,  # 부품이 9800개 밖에 없다.\n",
    "]\n",
    "\n",
    "# 문제의 정의\n",
    "obj = cp.Maximize(3 * a + 5 * b)\n",
    "prob = cp.Problem(obj, constraints)\n",
    "\n",
    "# 계산\n",
    "prob.solve() \n",
    "\n",
    "# 결과\n",
    "print(\"상태:\", prob.status)\n",
    "print(\"최적값:\", a.value, b.value)"
   ]
  },
  {
   "cell_type": "markdown",
   "metadata": {},
   "source": [
    "### 이차계획법 문제\n",
    "\n",
    "방정식이나 부등식 제한 조건을 가지는 일반화된 이차형식(quadratic form)의 값을 최소화하는 문제를 이차계획법(Quadratic Programming) 문제라고 한다. QP 문제라고도 한다.\n",
    "\n",
    "이차계획법 문제의 목적함수는\n",
    "\n",
    "\\begin{align}\n",
    "\\dfrac{1}{2}x^TQx + c^Tx\n",
    "\\end{align}\n",
    "\n",
    "이고 등식 제한조건과 부호 제한조건은 선형계획법 문제와 같다.\n",
    "\n",
    "\\begin{align}\n",
    "Ax = b \n",
    "\\end{align}\n",
    "\n",
    "\\begin{align}\n",
    "x \\geq 0\n",
    "\\end{align}\n",
    "\n",
    "잔차 제곱합을 최소화하는 예측 모형에 추가적인 제한조건이 있으면 이차계획법 문제가 된다."
   ]
  },
  {
   "cell_type": "markdown",
   "metadata": {},
   "source": [
    "#### 예제\n",
    "앞 절에서 풀었던 등식 제한조건이 있는 최적화 문제도 사실은 이차계획법 문제다.\n",
    "\n",
    "$$\\arg\\min_x x_1^2 + x_2^2$$\n",
    " \n",
    "$$x_1 + x_2 - 1 = 0$$\n",
    "\n",
    "이 문제를 QP 형식으로 바꾸면 다음과 같다.\n",
    "\n",
    "$$\\arg\\min_x\n",
    "\\dfrac{1}{2}\n",
    "\\begin{bmatrix}\n",
    "x_1 & x_2\n",
    "\\end{bmatrix}\n",
    "\\begin{bmatrix}\n",
    "2 & 0 \\\\ 0 & 2\n",
    "\\end{bmatrix}\n",
    "\\begin{bmatrix}\n",
    "x_1 \\\\ x_2\n",
    "\\end{bmatrix}\n",
    "+ \n",
    "\\begin{bmatrix}\n",
    "0 & 0\n",
    "\\end{bmatrix}\n",
    "\\begin{bmatrix}\n",
    "x_1 \\\\ x_2\n",
    "\\end{bmatrix}$$\n",
    "\n",
    "$$\\begin{bmatrix}\n",
    "1 & 1\n",
    "\\end{bmatrix}\n",
    "\\begin{bmatrix}\n",
    "x_1 \\\\ x_2\n",
    "\\end{bmatrix} = 1$$"
   ]
  },
  {
   "cell_type": "markdown",
   "metadata": {},
   "source": [
    "### CvxOpt를 이용한 이차계획법 문제 계산\n",
    "CvxOpt라는 패키지를 사용하면 이차계획법 문제를 풀 수 있다. CvxOpt를 쓸 때는 NumPy의 ndarray 배열을 CvxOpt 전용의 matrix 자료형으로 바꿔야 한다. 또 정수 자료형을 사용하지 못하므로 항상 부동소수점 실수가 되도록 명시해야 한다."
   ]
  },
  {
   "cell_type": "raw",
   "metadata": {},
   "source": [
    "from cvxopt import matrix, solvers\n",
    "\n",
    "Q = matrix(np.diag([2.0, 2.0]))\n",
    "c = matrix(np.array([0.0, 0.0]))\n",
    "A = matrix(np.array([[1.0, 1.0]]))\n",
    "b = matrix(np.array([[1.0]]))\n",
    "\n",
    "sol = solvers.qp(Q, c, A=A, b=b)\n",
    "np.array(sol['x'])"
   ]
  },
  {
   "cell_type": "raw",
   "metadata": {},
   "source": [
    "array([[0.5],\n",
    "       [0.5]])"
   ]
  },
  {
   "cell_type": "code",
   "execution_count": null,
   "metadata": {},
   "outputs": [],
   "source": []
  }
 ],
 "metadata": {
  "kernelspec": {
   "display_name": "Python 3",
   "language": "python",
   "name": "python3"
  },
  "language_info": {
   "codemirror_mode": {
    "name": "ipython",
    "version": 3
   },
   "file_extension": ".py",
   "mimetype": "text/x-python",
   "name": "python",
   "nbconvert_exporter": "python",
   "pygments_lexer": "ipython3",
   "version": "3.5.1"
  }
 },
 "nbformat": 4,
 "nbformat_minor": 2
}
