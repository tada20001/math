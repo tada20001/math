{
 "cells": [
  {
   "cell_type": "markdown",
   "metadata": {},
   "source": [
    "확률변수  𝑌 의 기댓값을 구할 때 주변 확률밀도함수  𝑓𝑌(𝑦) 를 사용하여 가중치를 계산하지 않고 \n",
    "\n",
    "조건부 확률밀도함수 𝑓𝑌|𝑋(𝑦|𝑥) 를 이용하여 가중치를 계산하면 조건부 기댓값(conditional expectation) 혹은 조건부 평균(conditional mean)이 된다.\n",
    "\n"
   ]
  },
  {
   "cell_type": "markdown",
   "metadata": {},
   "source": [
    "$$\\text{E}_Y[Y \\vert X] \n",
    "= \\int_{y=-\\infty}^{y=\\infty} y \\, f_{Y \\vert X}(y|x) dy$$"
   ]
  },
  {
   "cell_type": "markdown",
   "metadata": {},
   "source": [
    "또는 다음과 같이 간단히 쓴다.\n",
    "\n",
    "$$\\text{E}[Y \\vert X] \n",
    "= \\int y \\, f(y|x) dy$$"
   ]
  },
  {
   "cell_type": "markdown",
   "metadata": {},
   "source": [
    "조건부 기댓값에서 조건이 되는 확률변수  𝑋 의 값  𝑥 는 조건부 기댓값을 사용하는 사용자가 지정해야 하는 독립변수이다. 그리고 조건부 기댓값은 조건이 되는 확률변수의 값에 따라서 분포가 달라지는 확률변수이다.  E[𝑌|𝑋] 는 조건이 되는 확률변수의 값을 독립변수(입력변수)로 가지는 함수이다.\n",
    "\n",
    "$$\\text{E}[Y \\vert X=x] \n",
    "= h(x)$$"
   ]
  },
  {
   "cell_type": "markdown",
   "metadata": {},
   "source": [
    "또는 다음과 같이 간단히 쓴다.\n",
    "\n",
    "$$\\text{E}[Y \\vert X] = h(X)$$"
   ]
  },
  {
   "cell_type": "markdown",
   "metadata": {},
   "source": [
    "ℎ(𝑥) 는 조건이 되는 확률변수  𝑋 의 값을 입력받아서 결과가 되는 확률변수  𝑌 의 기대값을 출력하는 함수이다.\n",
    "\n",
    "조건부 기대값  E[𝑌|𝑋] 가  𝑋 의 함수, 즉 변환(transform)이므로 조건부 기대값  E[𝑌|𝑋] 도 확률변수이다.\n",
    "\n",
    "만약 확률변수  𝑌 가 확률변수  𝑋 의 값을 독립변수로 하는 결정론적 함수값이라면"
   ]
  },
  {
   "cell_type": "markdown",
   "metadata": {},
   "source": [
    "$$Y = g(X)$$\n",
    "\n",
    "사용자가  𝑋 의 값을 어떤 값  𝑥 로 정하는 순간  𝑌 의 값도 결정되어 버리기 때문에  𝑌=𝑔(𝑋) 는 더 이상 확률적인 값이 아니라 상수가 되어 버린다."
   ]
  },
  {
   "cell_type": "markdown",
   "metadata": {},
   "source": [
    "$$\\text{E}[Y \\vert X] = \\text{E}[g(X) \\vert X] = g(X)$$\n",
    "\n",
    "같은 방식으로 확률변수  𝑋 와  𝑌 가 결정론적 함수 관계가 아닐 때도 다음 등식이 성립한다.\n",
    "\n",
    "$$\\text{E}[g(X) Y \\vert X] = g(X) \\text{E}[Y \\vert X]$$"
   ]
  },
  {
   "cell_type": "markdown",
   "metadata": {},
   "source": [
    "### 전체 기대값의 법칙\n",
    "\n",
    "조건부 기대값은 여전히 확률변수이므로 조건이 되는 확률변수에 대해 다시 기대값을 구할 수 있다. \n",
    "\n",
    "이렇게 반복하여 구한 조건부 기대값의 기대값은 원래 확률변수의 보통 기대값과 같다.\n",
    "\n",
    "$$\\text{E}_X[\\text{E}_Y[Y \\vert X]] = \\text{E}_Y[Y]$$\n",
    "\n",
    "이를 전체 기대값의 법칙(law of total expectation) 또는 반복 기대값의 법칙(law of iterated expectation)이라고 하며 전체 확률의 법칙에서 증명할 수 있다."
   ]
  },
  {
   "cell_type": "markdown",
   "metadata": {},
   "source": [
    "### Practice 1\n",
    "전체 기대값의 법칙을 사용하여 다음을 증명하라.\n",
    "\n",
    "$$\\text{E}[(Y - \\text{E}[Y \\vert X])g(X)] = 0$$"
   ]
  },
  {
   "cell_type": "markdown",
   "metadata": {},
   "source": [
    "### 조건부 분산\n",
    "\n",
    "조건부 기대값을 정의한 것과 같이 조건부 분산(conditional variance)도 다음과 같이 정의할 수 있다.\n",
    "\n",
    "$$\\text{Var}_Y[Y \\vert X] \n",
    "= \\text{E}_Y[(Y - \\text{E}_Y[Y \\vert X])^2 \\vert X] \n",
    "= \\int (Y - \\text{E}_Y[Y \\vert X])^2 f_{Y \\vert X}(y \\vert x) dy$$"
   ]
  },
  {
   "cell_type": "markdown",
   "metadata": {},
   "source": [
    "### 전체 분산의 법칙\n",
    "\n",
    "확률변수의 분산은 조건부 분산의 기대값과 조건부 기대값의 분산의 합과 같다. 이를 전체 분산의 법칙(law of total variance)라고 한다.\n",
    "\n",
    "$$\\text{Var}[Y] = \\text{E}[\\text{Var}[Y\\vert X]] + \\text{Var}[\\text{E}[Y\\vert X]]$$"
   ]
  },
  {
   "cell_type": "code",
   "execution_count": null,
   "metadata": {},
   "outputs": [],
   "source": []
  }
 ],
 "metadata": {
  "kernelspec": {
   "display_name": "Python 3",
   "language": "python",
   "name": "python3"
  },
  "language_info": {
   "codemirror_mode": {
    "name": "ipython",
    "version": 3
   },
   "file_extension": ".py",
   "mimetype": "text/x-python",
   "name": "python",
   "nbconvert_exporter": "python",
   "pygments_lexer": "ipython3",
   "version": "3.5.1"
  }
 },
 "nbformat": 4,
 "nbformat_minor": 2
}
