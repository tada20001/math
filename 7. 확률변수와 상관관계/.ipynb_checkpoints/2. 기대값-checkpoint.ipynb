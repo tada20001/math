{
 "cells": [
  {
   "cell_type": "markdown",
   "metadata": {},
   "source": [
    "기댓값은 표본평균처럼 분포의 위치를 알려주는 특성값이지만 \n",
    "##### 확률의 가중합이나 가중적분으로 정의한다."
   ]
  },
  {
   "cell_type": "markdown",
   "metadata": {},
   "source": [
    "### 확률변수의 기대값\n",
    "\n",
    "확률변수의 확률밀도함수를 알면 확률변수의 표본평균의 이론적인 값을 구할 수 있다. 이러한 이론적 평균을 확률변수의 기대값(expectation)이라고 한다. 단순히 평균(mean)이라고 말하기도 한다.\n",
    "\n",
    "확률변수  𝑋 의 기대값을 구하는 연산자(operator)는 영어 Expectation의 첫 글자를 사용하여  E[𝑋] 로 표기한다. 기댓값은 그리스 문자  𝜇𝑋 로 표기한다. 확률변수를 혼동할 염려가 없으면 확률변수 이름은 생략하고 그냥  𝜇 라고 써도 된다.\n",
    "\n",
    "이산확률변수의 기대값은 표본공간의 원소  𝑥𝑖 의 가중평균이다. 이때 가중치는  𝑥𝑖 가 나올 수 있는 확률 즉 확률질량함수  𝑝(𝑥𝑖) 이다.\n",
    "\n",
    "$$\\mu_X = \\text{E}[X] = \\sum_{x_i \\in \\Omega} x_ip(x_i)$$"
   ]
  },
  {
   "cell_type": "markdown",
   "metadata": {},
   "source": [
    "#### 예제\n",
    "\n",
    "공정한 주사위에서 나올 수 있는 숫자를 대표하는 확률변수  𝑋 는 나올 수 있는 값이 1, 2, 3, 4, 5, 6 이므로,\n",
    "\n",
    "\\begin{aligned}\n",
    "\\mu_X \n",
    "&= 1 \\cdot p(1) + 2 \\cdot p(2) + 3 \\cdot p(3) + 4 \\cdot p(4) + 5 \\cdot p(5) + 6 \\cdot p(6) \\\\\n",
    "&= 1 \\cdot \\dfrac{1}{6} + 2 \\cdot \\dfrac{1}{6} + 3 \\cdot \\dfrac{1}{6} + 4 \\cdot \\dfrac{1}{6} + 5 \\cdot \\dfrac{1}{6} + 6 \\cdot \\dfrac{1}{6} \\\\\n",
    "&= \\dfrac{7}{2}\n",
    "\\end{aligned}\n",
    "\n",
    "기대값은  7 / 2 이다."
   ]
  },
  {
   "cell_type": "markdown",
   "metadata": {},
   "source": [
    "#### 예제\n",
    "\n",
    "공정하지 않은 주사위, 예들 들어 짝수가 나올 확률이 홀수가 나올 확률의 2배인 주사위에서 기대값을 구하면 다음과 같다.\n",
    "\n",
    "\\begin{aligned}\n",
    "\\mu_X \n",
    "&= 1 \\cdot p(1) + 2 \\cdot p(2) + 3 \\cdot p(3) + 4 \\cdot p(4) + 5 \\cdot p(5) + 6 \\cdot p(6) \\\\\n",
    "&= 1 \\cdot \\dfrac{1}{9} + 2 \\cdot \\dfrac{2}{9} + 3 \\cdot \\dfrac{1}{9} + 4 \\cdot \\dfrac{2}{9} + 5 \\cdot \\dfrac{1}{9} + 6 \\cdot \\dfrac{2}{9} \\\\\n",
    "&= \\dfrac{11}{3}\n",
    "\\end{aligned}\n",
    "\n",
    "기대값은  11 / 3 이다."
   ]
  },
  {
   "cell_type": "markdown",
   "metadata": {},
   "source": [
    "### Practice 1\n",
    "\n",
    "공정한 동전이 있고 이 동전의 앞면이 나오면 1, 뒷면이 나오면 0인 확률변수  𝑋 가 있다. 이 확률변수의 기대값  E[𝑋] 을 구하라.\n",
    "\n",
    "\\begin{aligned}\n",
    "\\mu_X \n",
    "&= 1 \\cdot p(H) + 0 \\cdot p(T)\n",
    "&= \\dfrac{1}{2}\n",
    "\\end{aligned}"
   ]
  },
  {
   "cell_type": "markdown",
   "metadata": {},
   "source": [
    "참고로 데이터 공간에서 기대값에 해당하는 값인 표본평균을 구하는 공식은 다음과 같다.\n",
    "\n",
    "$$m = \\bar x = \\dfrac{1}{N} \\sum_{i=1}^N x_i$$"
   ]
  },
  {
   "cell_type": "markdown",
   "metadata": {},
   "source": [
    "기대값 공식과 표본평균 공식에서  𝑥𝑖 의 의미가 다르다는 점에 유의하라. 기대값 공식에서  𝑥𝑖 는 표본공간의 원소를 뜻하지만 표본평균 공식에서  𝑥𝑖 는 무작위로 만들어진 표본 중 하나를 뜻한다."
   ]
  },
  {
   "cell_type": "markdown",
   "metadata": {},
   "source": [
    "### Practice 2\n",
    "\n",
    "기대값을 구하는 공식에서는 확률을 가중치로 곱한다. 그런데 왜 표본평균을 구하는 공식에서는 확률 가중치가 없는가?"
   ]
  },
  {
   "cell_type": "markdown",
   "metadata": {},
   "source": [
    "==> 무작위로 만들어진 표본 중 하나이기 때문에 모든 확률이 동일하다는 전제하에 가중치가 없다라고 할 수 있음"
   ]
  },
  {
   "cell_type": "code",
   "execution_count": null,
   "metadata": {},
   "outputs": [],
   "source": []
  },
  {
   "cell_type": "markdown",
   "metadata": {},
   "source": [
    "###### 연속확률변수의 기대값\n",
    "연속확률변수의 기대값은 확률밀도함수  𝑝(𝑥) 를 가중치로  𝑥 를 적분한 값이다.\n",
    "\n",
    "$$\\mu_X = \\text{E}[X] = \\int_{-\\infty}^{\\infty} x p(x) dx$$\n",
    "\n",
    "[그림] 기대값 : https://datascienceschool.net/upfiles/5faa8355cc1847d19cf03aca65fe4b79.png"
   ]
  },
  {
   "cell_type": "markdown",
   "metadata": {},
   "source": [
    "기대값은 여러 가능한  𝑥 값을 확률(또는 확률밀도)값에 따라 가중합을 한 것이므로 가장 확률(또는 확률밀도)이 높은  𝑥 값 근처의 값이 된다. 즉, 확률(또는 확률밀도)이 모여 있는 곳의 위치를 나타낸다."
   ]
  },
  {
   "cell_type": "markdown",
   "metadata": {},
   "source": [
    "#### 예제\n",
    "\n",
    "회전하는 원반을 이용하여 복권 번호를 결정하는 문제에서 확률밀도함수  𝑝(𝑥) 와 여기에서  𝑥 가 곱해진 함수  𝑥𝑝(𝑥) 의 모양은 다음과 같다. 기대값은 이 함수  𝑥𝑝(𝑥) 를 적분하여 구한 면적이다."
   ]
  },
  {
   "cell_type": "code",
   "execution_count": 1,
   "metadata": {},
   "outputs": [],
   "source": [
    "import matplotlib.pylab as plt\n",
    "import matplotlib as mpl\n",
    "import matplotlib.font_manager as fm\n",
    "import seaborn as sns\n",
    "import numpy as np\n",
    "\n",
    "sns.set_style(\"whitegrid\")\n",
    "mpl.rcParams['axes.unicode_minus'] = False\n",
    "plt.rcParams['font.size'] = 12\n",
    "\n",
    "path = \"/Library/Fonts/NanumGothic.otf\"\n",
    "font_name = fm.FontProperties(fname=path, size=20).get_name()\n",
    "\n",
    "plt.rc('font', family=font_name)"
   ]
  },
  {
   "cell_type": "code",
   "execution_count": 4,
   "metadata": {},
   "outputs": [
    {
     "data": {
      "image/png": "[encoded data removed]",
      "text/plain": [
       "<Figure size 432x288 with 2 Axes>"
      ]
     },
     "metadata": {},
     "output_type": "display_data"
    }
   ],
   "source": [
    "x = np.linspace(-100, 500, 1000)\n",
    "p = np.zeros_like(x)\n",
    "p[(0 < x) & (x <= 360)] = 1 / 360\n",
    "xp = x * p\n",
    "\n",
    "plt.subplot(121)\n",
    "plt.plot(x, p)\n",
    "plt.xticks([0, 180, 360])\n",
    "plt.title(\"$p(x)$\")\n",
    "plt.xlabel(\"$x$(deg.)\")\n",
    "\n",
    "plt.subplot(122)\n",
    "plt.plot(x, xp)\n",
    "plt.xticks([0, 180, 360])\n",
    "plt.title(\"$xp(x)$\")\n",
    "plt.xlabel(\"$x$(deg.)\")\n",
    "\n",
    "plt.show()"
   ]
  },
  {
   "cell_type": "markdown",
   "metadata": {},
   "source": [
    "만약 원반이 0도에서 180도 사이에 더 화살이 2배 더 잘 박히도록 조작되었다면 확률밀도함수  𝑝(𝑥) 와 여기에서  𝑥 가 곱해진 함수  𝑥𝑝(𝑥) 의 모양은 다음과 같다. 기댓값은 이 함수  𝑥𝑝(𝑥) 를 적분하여 구한 면적이다."
   ]
  },
  {
   "cell_type": "code",
   "execution_count": 6,
   "metadata": {},
   "outputs": [
    {
     "data": {
      "image/png": "[encoded data removed]",
      "text/plain": [
       "<Figure size 432x288 with 2 Axes>"
      ]
     },
     "metadata": {},
     "output_type": "display_data"
    }
   ],
   "source": [
    "x = np.linspace(-100, 500, 1000)\n",
    "p = np.zeros_like(x)\n",
    "p[(0 < x) & (x <= 180)] = 2 / (3 * 360)\n",
    "p[(180 < x) & (x <= 360)] = 1 / (3 * 360)\n",
    "xp = x * p\n",
    "\n",
    "plt.subplot(121)\n",
    "plt.plot(x, p)\n",
    "plt.xticks([0, 180, 360])\n",
    "plt.title(\"$p(x)$\")\n",
    "plt.xlabel(\"$x$(deg.)\")\n",
    "\n",
    "plt.subplot(122)\n",
    "plt.plot(x, xp)\n",
    "plt.xticks([0, 180, 360])\n",
    "plt.title(\"$xp(x)$\")\n",
    "plt.xlabel(\"$x$(deg.)\")\n",
    "\n",
    "plt.show()\n"
   ]
  },
  {
   "cell_type": "markdown",
   "metadata": {},
   "source": [
    "### Practice 3\n",
    "\n",
    "확률변수  𝑌 는 0도에서 180도 사이에 더 화살이 2배 더 잘 박히도록 조작된 원반을 이용하여 복권 번호를 결정하는 문제에서 나오는 각도다. 확률변수  𝑌 의 기댓값  E[𝑌] 를 구하라."
   ]
  },
  {
   "cell_type": "markdown",
   "metadata": {},
   "source": [
    "### 확률변수의 변환\n",
    "\n",
    "통계량도 예측할 수 없는 확률적 데이터이므로 어떤 확률변수에서 나온 표본이라고 할 수 있다. 이 통계량 확률변수는 원본 데이터가 나온 확률변수와는 다른 확률변수지만 두 확률변수는 서로 독립적이 아니며 밀접한 관계를 가지고 있다. 표본이 하나인 경우도 마찬가지다. 예를 들어 확률변수  𝑌=2𝑋 는 확률변수  𝑋 에서 나온 값을 2배한 값이 나오도록 하는 새로운 확률변수를 뜻한다.\n",
    "\n",
    "이렇게 기존의 확률변수를 연산하여 새로운 확률변수를 만드는 것을 확률변수의 변환(transform)이라고 한다.  함수  𝑓 를 사용해 확률변수를 변환할 때는 다음처럼 표기한다.\n",
    "\n",
    "$$Y = f(X)$$"
   ]
  },
  {
   "cell_type": "markdown",
   "metadata": {},
   "source": [
    "확률 변수의 변환은 여러 확률변수가 있을 때도 성립한다. 예를 들어 두 확률변수  𝑋 와  𝑌 가 있다고 가정하였을 때, 새로운 확률변수  𝑍=𝑋+𝑌 는 확률변수  𝑋 에서 나온 값과 확률변수  𝑌 에서 나온 값을 더한 값이 나오도록 하는 확률변수를 뜻한다."
   ]
  },
  {
   "cell_type": "markdown",
   "metadata": {},
   "source": [
    "[그림] 확률변수의 변환 : https://datascienceschool.net/upfiles/163b381a40e44a50b372428bc02d0cfc.png"
   ]
  },
  {
   "cell_type": "markdown",
   "metadata": {},
   "source": [
    "### Practice 4\n",
    "확률변수  𝑋 는 주사위를 던져 나오는 수를 나타내는 확률변수다. 그리고  𝑌 는 주사위를 던져나오는 수에 2배를 한 수를 나타내는 확률변수다.  𝑋 ,  𝑌 의 의 확률질량함수의 그래프를 각각 그려라."
   ]
  },
  {
   "cell_type": "code",
   "execution_count": 63,
   "metadata": {},
   "outputs": [],
   "source": [
    "x = np.arange(1, 7, 1)\n",
    "p = np.ones(6) * 1 / 6\n",
    "xp = x * p\n",
    "\n",
    "Y = 2 * xp"
   ]
  },
  {
   "cell_type": "code",
   "execution_count": 66,
   "metadata": {},
   "outputs": [
    {
     "data": {
      "image/png": "[encoded data removed]",
      "text/plain": [
       "<Figure size 432x288 with 2 Axes>"
      ]
     },
     "metadata": {},
     "output_type": "display_data"
    }
   ],
   "source": [
    "plt.subplot(121)\n",
    "plt.stem(x, xp)\n",
    "plt.xticks(np.arange(1, 7, 1))\n",
    "plt.ylim(-0.01, 2.01)\n",
    "plt.title(\"X 확률질량함수\")\n",
    "\n",
    "plt.subplot(122)\n",
    "plt.stem(x, Y)\n",
    "plt.xticks(np.arange(6 + 1))\n",
    "plt.ylim(-0.01, 2.01)\n",
    "plt.title(\"Y 확률질량함수\")\n",
    "\n",
    "plt.tight_layout()\n",
    "plt.show()"
   ]
  },
  {
   "cell_type": "markdown",
   "metadata": {},
   "source": [
    "확률변수  𝑋 에서 표본을  𝑁 번 뽑아서 그 값에 대해 연산을 하는 경우에는 다음처럼 원래 확률변수의 복사본  𝑋1,𝑋2,…,𝑋𝑁 을 만든 다음 이 확률변수의 표본값을 더한 형태로 변환식을 써야 한다.\n",
    "\n",
    "$$Y = X_1 + X_2 + \\cdots X_N$$"
   ]
  },
  {
   "cell_type": "markdown",
   "metadata": {},
   "source": [
    "이렇게 쓰는 이유는  𝑋1 과  𝑋2 가 같은 확률변수이지만 표본값이 다르기 때문이다. 만약 다음과 같이 쓰면,\n",
    "\n",
    "$$Y = X + X + \\cdots X$$\n",
    "\n",
    "이 식은 다음처럼 전혀 다른 확률변수를 가리킨다.\n",
    "\n",
    "$$Y = N \\cdot X$$"
   ]
  },
  {
   "cell_type": "markdown",
   "metadata": {},
   "source": [
    "### Practice 5\n",
    "\n",
    "확률변수  𝑋1 과  𝑋2 는 각각 주사위를 던져 나오는 수를 나타내는 확률변수다. 그리고 𝑌 는 두 주사위를 동시에 던져 나오는 수의 합을 나타내는 확률변수다. 확률변수  𝑋1 ,  𝑋2 ,  𝑌 의 확률질량함수의 그래프를 각각 그려라."
   ]
  },
  {
   "cell_type": "code",
   "execution_count": 86,
   "metadata": {},
   "outputs": [],
   "source": [
    "x = np.arange(1, 7, 1)\n",
    "p1 = np.array([0.1, 0.2, 0.3, 0.1, 0.2, 0.2])\n",
    "p2 = np.array([0.15, 0.1, 0.1, 0.05, 0.0, 0.2])\n",
    "\n",
    "X1 = x * p1\n",
    "X2 = x * p2\n",
    "\n",
    "Y = X1 + X2"
   ]
  },
  {
   "cell_type": "code",
   "execution_count": 87,
   "metadata": {},
   "outputs": [
    {
     "data": {
      "image/png": "[encoded data removed]",
      "text/plain": [
       "<Figure size 432x288 with 3 Axes>"
      ]
     },
     "metadata": {},
     "output_type": "display_data"
    }
   ],
   "source": [
    "plt.subplot(131)\n",
    "plt.stem(x, X1)\n",
    "plt.ylim(-0.01, 2.5)\n",
    "plt.xticks(np.arange(1, 7, 1))\n",
    "plt.title(\"X1의 확률질량함수\")\n",
    "\n",
    "plt.subplot(132)\n",
    "plt.stem(x, X2)\n",
    "plt.ylim(-0.01, 2.5)\n",
    "plt.xticks(np.arange(1, 7, 1))\n",
    "plt.title(\"X2의 확률질량함수\")\n",
    "\n",
    "plt.subplot(133)\n",
    "plt.stem(2*x, Y)\n",
    "plt.ylim(-0.01, 2.5)\n",
    "plt.xticks(np.arange(2, 14, 2))\n",
    "plt.title(\"Y의 확률질량함수\")\n",
    "\n",
    "plt.show()"
   ]
  },
  {
   "cell_type": "markdown",
   "metadata": {},
   "source": [
    "### 기대값의 성질\n",
    "\n",
    "기대값은 다음과 같은 성질을 가진다는 것을 수학적으로 증명할 수 있다. 변환된 확률변수의 기대값을 계산할 때는 기대값의 성질을 이용한다.\n",
    "\n",
    "+ 확률변수가 아닌 상수  𝑐 에 대해\n",
    "$$\\text{E}[c] = c$$\n",
    "+ 선형성\n",
    "\\begin{align}\n",
    "  \\text{E}[cX]    &= c \\text{E}[X] \\\\\n",
    "  \\text{E}[X + Y] &=   \\text{E}[X] + \\text{E}[Y] \\\\\n",
    "  \\text{E}[c_1X + c_2Y] &=   c_1\\text{E}[X] + c_2\\text{E}[Y] \n",
    "\\end{align}"
   ]
  },
  {
   "cell_type": "markdown",
   "metadata": {},
   "source": [
    "### 통계량\n",
    "\n",
    "확률변수  𝑋 로부터 여러 표본  {𝑥1,𝑥2,…,𝑥𝑁} 을 얻었다고 하자. 이 표본 데이터 집합을 정해진 공식에 넣어서 하나의 숫자를 구한 것을 통계량(statistics)이라고 한다. \n",
    "\n",
    "예를 들어 표본의 합, 표본평균, 표본중앙값, 표본분산 등은 모두 통계량이다. 통계량도 확률변수의 변환에 포함된다.\n",
    "\n",
    "[그림] 통계량 : https://datascienceschool.net/upfiles/27ae3dd69e0e4ba1b2844a7659ad601c.png"
   ]
  },
  {
   "cell_type": "markdown",
   "metadata": {},
   "source": [
    "### 표본평균 확률변수\n",
    "\n",
    "확률변수로부터  𝑁 개의 표본을 만들어 이 표본집합의 표본평균을 구하면 이렇게 구한 표본평균 값도 확률변수가 된다. 표본평균 확률변수는 원래의 확률변수 이름에 윗줄(bar)을 추가하여  𝑋¯ 와 같이 표기한다. 예를 들어 확률변수  𝑋 에서 나온 표본으로 만들어진 표본평균 확률변수는  𝑋¯ 로 표기한다.\n",
    "\n",
    "$$\\bar{X} = \\dfrac{1}{N}\\sum_{i=1}^{N} X_i$$"
   ]
  },
  {
   "cell_type": "markdown",
   "metadata": {},
   "source": [
    "위 식에서  𝑋𝑖 는  𝑖 번째로 실현된 표본값을 생성하는 확률변수를 의미한다. 이 확률변수  𝑋𝑖 는 원래의 확률변수  𝑋 의 복사본이다.\n",
    "\n",
    "[그림] 표본평균과 확률변수 : https://datascienceschool.net/upfiles/f3f08cc5af084475bafa7ae2a1c35b5e.png"
   ]
  },
  {
   "cell_type": "markdown",
   "metadata": {},
   "source": [
    "### Practice 6\n",
    "\n",
    "표본평균  𝑥¯ 의 값은 확률적인 데이터이고 이를 생성하는 확률변수  𝑋¯ 는 위와 같이 정의할 수 있었다. 그렇다면 (편향)샘플분산  𝑠2 의 값은 확률적인 데이터인가? 만약 그렇다면 이를 생성하는 확률변수  𝑆2 은 어떻게 정의해야 하는가?"
   ]
  },
  {
   "cell_type": "markdown",
   "metadata": {},
   "source": [
    "### 기대값과 표본평균의 관계\n",
    "\n",
    "표본평균도 확률변수이므로 기대값이 존재한다. 표본평균의 기대값은 원래의 확률변수의 기대값과 같다는 것을 다음과 같이 증명할 수 있다.\n",
    "\n",
    "$$\\text{E}[ \\bar{X} ] = \\text{E}[X]$$\n",
    "\n",
    "(증명)\n",
    "\n",
    "\\begin{aligned}\n",
    "\\text{E}[\\bar{X}] \n",
    "&= \\text{E}\\left[\\dfrac{1}{N}\\sum_{i=1}^{N}X_i \\right]  \\\\\n",
    "&= \\dfrac{1}{N}\\sum_{i=1}^{N}\\text{E}[X_i]  \\\\\n",
    "&= \\dfrac{1}{N}\\sum_{i=1}^{N}\\text{E}[X] \\\\\n",
    "&= \\dfrac{1}{N} N \\text{E}[X] \\\\ \n",
    "&= \\text{E}[X]  \\\\\n",
    "\\end{aligned}"
   ]
  },
  {
   "cell_type": "markdown",
   "metadata": {},
   "source": [
    "이 식이 뜻하는 바는 다음과 같다.\n",
    "\n",
    "    \"표본평균은 확률변수의 기댓값 근처의 값이 된다.\"\n",
    "   \n",
    "예를 들어 공정한 주사위의 기대값은 3.5이다. 이 주사위를 던져 나온 값의 평균 즉 표본평균은 3.62346 또는 3.40987과 같이 항상 3.5 근처의 값이 나오게 된다."
   ]
  },
  {
   "cell_type": "markdown",
   "metadata": {},
   "source": [
    "### 중앙값\n",
    "\n",
    "확률변수의 중앙값(median)은 중앙값보다 큰 값이 나올 확률과 작은 값이 나올 확률이 0.5로 같은 값을 뜻한다. 따라서 다음과 같이 누적확률분포  𝐹(𝑥) 에서 중앙값을 계산할 수 있다.\n",
    "\n",
    "$$0.5 = F(\\text{median})$$\n",
    "\n",
    "$$\\text{median} = F^{-1}(0.5)$$"
   ]
  },
  {
   "cell_type": "markdown",
   "metadata": {},
   "source": [
    "[그림] 중앙값 : https://datascienceschool.net/upfiles/178249d00ab7433bb3d75ed50f4d939c.png"
   ]
  },
  {
   "cell_type": "markdown",
   "metadata": {},
   "source": [
    "### 최빈값\n",
    "\n",
    "이산확률분포에서는 가장 확률 값이 큰 수를 최빈값(most frequent value)이라고 한다. 하지만 연속확률분포인 경우에는 어느 값에 대해서나 특정한 값이 나올 확률은 0(zero)이므로 연속확률분포의 최빈값(mode)은 확률밀도함수  𝑝(𝑥) 의 값이 가장 큰 확률변수의 값으로 정의한다. 즉 확률밀도함수의 최댓값의 위치다.\n",
    "\n",
    "$$\\text{mode} = \\arg \\max_x p(x)$$"
   ]
  },
  {
   "cell_type": "code",
   "execution_count": null,
   "metadata": {},
   "outputs": [],
   "source": []
  }
 ],
 "metadata": {
  "kernelspec": {
   "display_name": "Python 3",
   "language": "python",
   "name": "python3"
  },
  "language_info": {
   "codemirror_mode": {
    "name": "ipython",
    "version": 3
   },
   "file_extension": ".py",
   "mimetype": "text/x-python",
   "name": "python",
   "nbconvert_exporter": "python",
   "pygments_lexer": "ipython3",
   "version": "3.5.1"
  }
 },
 "nbformat": 4,
 "nbformat_minor": 2
}
