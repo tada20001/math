{
 "cells": [
  {
   "cell_type": "markdown",
   "metadata": {},
   "source": [
    "실제 데이터값이 어떻게 나올지 묘사하는데 확률을 사용하는 방법을 알아본다. \n",
    "\n",
    "확률변수는 확률분포로 값을 묘사할 수 있는 특정한 데이터를 말한다. \n",
    "\n",
    "먼저 확률변수의 기댓값, 분산, 표준편차 등의 수학적 특성을 공부하고,\n",
    "\n",
    "여러 종류의 데이터가 존재할 때 어떤 변수의 값이 변함에 따라 이와 관련된 변수의 특성이 어떻게 달라지는지를 알아보고,\n",
    "\n",
    "이것이 예측 문제에 어떻게 쓰이는지 살펴본다.\n",
    "\n",
    "+ 확률변수의 정의와 데이터 분석에 확률변수가 어떻게 사용되는지 알아본다.\n",
    "+ 기댓값, 분산, 표준편차의 수학적 정의와 특성을 공부한다.\n",
    "+ 다변수 확률변수간의 공분산과 독립의 의미를 살펴보고 상관계수로 상관관계를 측정하는 법을 알아본다.\n",
    "+ 조건부 기댓값의 정의와 특성을 공부하고 예측 문제에 어떻게 쓰이는지 살펴본다."
   ]
  },
  {
   "cell_type": "code",
   "execution_count": null,
   "metadata": {},
   "outputs": [],
   "source": []
  }
 ],
 "metadata": {
  "kernelspec": {
   "display_name": "Python 3",
   "language": "python",
   "name": "python3"
  },
  "language_info": {
   "codemirror_mode": {
    "name": "ipython",
    "version": 3
   },
   "file_extension": ".py",
   "mimetype": "text/x-python",
   "name": "python",
   "nbconvert_exporter": "python",
   "pygments_lexer": "ipython3",
   "version": "3.5.1"
  }
 },
 "nbformat": 4,
 "nbformat_minor": 2
}
