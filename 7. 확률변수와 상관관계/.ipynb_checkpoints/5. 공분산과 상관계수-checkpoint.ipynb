{
 "cells": [
  {
   "cell_type": "markdown",
   "metadata": {},
   "source": [
    "###### 다변수 확률변수 간의 상관 관계를 숫자로 나타낸 것이 공분산(covariance)과 상관계수(correlation coefficient)이다."
   ]
  },
  {
   "cell_type": "markdown",
   "metadata": {},
   "source": [
    "### 표본공분산\n",
    "\n",
    "표본공분산(sample covariance)은 다음과 같이 정의한다. 여기에서  𝑥𝑖 와  𝑦𝑖 는 각각  𝑖 번째의  𝑥 자료와  𝑦 자료의 값을 가리키고,  𝑥¯ 와  𝑦¯ 는  𝑥  자료와  𝑦 자료의 표본평균을 가리킨다.\n",
    "\n",
    "$$s_{xy} = \\dfrac{1}{N}\\sum_{i=1}^{N} (x_i-\\bar{x})(y_i-\\bar{y})$$"
   ]
  },
  {
   "cell_type": "markdown",
   "metadata": {},
   "source": [
    "표본분산과 마찬가지로 표본공분산도 자료가 평균값으로부터 얼마나 떨어져 있는지를 나타낸 것이다. \n",
    "\n",
    "###### 공분산은 평균값 위치와 표본 위치를 연결하는 사각형의 면적을 사용한다. \n",
    "\n",
    "다만 공분산의 경우에는 자료의 위치에 따라 이 값의 부호가 달라진다. \n",
    "\n",
    "##### 데이터가 1사분면이나 3사분면에 있는 경우에는 양수가 되고 데이터가 2사분면이나 4사분면에 있는 경우에는 음수가 된다. \n",
    "\n",
    "##### 따라서 공분산의 부호는  𝑋 ,  𝑌  데이터가 같은 부호를 가지는지 다른 부호를 가지는지에 대한 지표라고 할 수 있다."
   ]
  },
  {
   "cell_type": "markdown",
   "metadata": {},
   "source": [
    "[그림] 표본공간과 표본을 연결하는 사각형 : https://datascienceschool.net/upfiles/79eb48be63cf4a8886299e27864b77bd.png"
   ]
  },
  {
   "cell_type": "markdown",
   "metadata": {},
   "source": [
    "### 표본상관계수\n",
    "\n",
    "표본공분산은 평균을 중심으로 각 자료들이 어떻게 분포되어 있는지 크기와 방향성을 같이 보여준다. \n",
    "\n",
    "###### 그런데 분포의 크기는 공분산이 아닌 분산만으로도 알 수 있기 때문에 대부분의 경우 자료 분포의 방향성만 분리하여 보는 것이 유용하다. \n",
    "\n",
    "이 때 필요한 것이 표본상관계수(sample correlation coefficient)이다.\n",
    "\n",
    "###### 표본상관계수는 다음과 같이 공분산을 각각의 표본표준편차값으로 나누어 정규화(normalize)하여 정의한다."
   ]
  },
  {
   "cell_type": "markdown",
   "metadata": {},
   "source": [
    "$$r_{xy} = \\dfrac{s_{xy}}{\\sqrt{s^2_{x} \\cdot s^2_{y}}}$$\n",
    "\n",
    "이와 다르게 정의한 상관계수도 있기 때문에 다른 종류의 상관계수와 비교하여 말하는 경우에는 피어슨(Pearson) 상관계수라고 하기도 한다."
   ]
  },
  {
   "cell_type": "markdown",
   "metadata": {},
   "source": [
    "### 확률변수의 공분산과 상관계수\n",
    "\n",
    "두 확률변수  𝑋 와  𝑌 의 공분산은 기댓값 연산자를 사용하여 다음과 같이 정의된다.\n",
    "\n",
    "$$\\text{Cov}[X, Y] = \\text{E}[(X - \\text{E}[X])(Y - \\text{E}[Y])]$$"
   ]
  },
  {
   "cell_type": "markdown",
   "metadata": {},
   "source": [
    "마찬가지로 두 확률변수  𝑋 와  𝑌 의 상관 계수도 다음과 같이 정의한다. 각 확률변수의 분산 곱으로 공분산을 나눈 값\n",
    "\n",
    "$$\\rho[X,Y] =  \\dfrac{\\text{Cov}[X, Y]}{\\sqrt{\\text{Var}[X] \\cdot \\text{Var}[Y]}}$$"
   ]
  },
  {
   "cell_type": "markdown",
   "metadata": {},
   "source": [
    "확률변수의 상관계수는 다음과 같은 성질을 가진다.\n",
    "\n",
    "$$-1 \\leq \\rho \\leq 1$$"
   ]
  },
  {
   "cell_type": "markdown",
   "metadata": {},
   "source": [
    "또한  𝜌 가 -1, 0, 1인 경우를 각각 다음과 같이 부른다.\n",
    "\n",
    "+ 𝜌=1  : 완전선형 상관관계\n",
    "+ 𝜌=0  : 무상관 (독립과는 다름)\n",
    "+ 𝜌=−1  : 완전선형 반상관관계\n"
   ]
  },
  {
   "cell_type": "markdown",
   "metadata": {},
   "source": [
    "이 상관계수의 부호와 크기가 의미하는 바는 다음 스캐터 플롯에서 알 수 있다. \n",
    "\n",
    "이 스캐터 플롯은 특정한 상관계수를 가지는 데이터를 시뮬레이션을 통해 그린 것이다. \n",
    "\n",
    "스캐터 플롯의 위에 쓰여진 숫자는 시뮬레이션에 사용된 상관계수를 나타낸다. 스캐터 플롯의 데이터가 양의 기울기를 가지는 직선 혹은 타원 모양을 가지면 상관계수는 양수이고 음의 기울기를 가지는 직선 혹은 타원 모양이 되면 상관계수가 음이 된다. 또한 직선 모양이 뚜렷할수록 상관계수의 절대값이 커지고 원에 가까워질 수록 절대값이 작아진다.\n",
    "\n"
   ]
  },
  {
   "cell_type": "code",
   "execution_count": 5,
   "metadata": {},
   "outputs": [],
   "source": [
    "import matplotlib.pylab as plt\n",
    "import matplotlib as mpl\n",
    "import matplotlib.font_manager as fm\n",
    "import seaborn as sns\n",
    "import numpy as np\n",
    "\n",
    "sns.set_style(\"whitegrid\")\n",
    "mpl.rcParams['axes.unicode_minus'] = False\n",
    "plt.rcParams['font.size'] = 13\n",
    "\n",
    "path = \"/Library/Fonts/NanumGothic.otf\"\n",
    "font_name = fm.FontProperties(fname=path, size=20).get_name()\n",
    "\n",
    "plt.rc('font', family=font_name)"
   ]
  },
  {
   "cell_type": "code",
   "execution_count": 6,
   "metadata": {},
   "outputs": [
    {
     "data": {
      "image/png": "[encoded data removed]",
      "text/plain": [
       "<Figure size 504x144 with 7 Axes>"
      ]
     },
     "metadata": {},
     "output_type": "display_data"
    }
   ],
   "source": [
    "np.random.seed(0)\n",
    "corrs = [1, 0.7, 0.3, 0, -0.3, -0.7, -1]  # 공분산\n",
    "plt.figure(figsize=(len(corrs), 2))\n",
    "for i, r in enumerate(corrs):\n",
    "    x, y = np.random.multivariate_normal([0, 0], [[1, r], [r, 1]], 1000).T\n",
    "    plt.subplot(1, len(corrs), i + 1)\n",
    "    plt.plot(x, y, 'ro', ms=1)\n",
    "    plt.axis('equal')\n",
    "    plt.xticks([])\n",
    "    plt.yticks([])\n",
    "    plt.title(r\"$\\rho$={}\".format(r))\n",
    "\n",
    "plt.suptitle(\"상관계수와 스캐터 플롯의 모양\", y=1.1)\n",
    "plt.tight_layout()\n",
    "plt.show()"
   ]
  },
  {
   "cell_type": "markdown",
   "metadata": {},
   "source": [
    "또한 상관계수는 스캐터 플롯의 기울기와는 아무런 상관이 없다."
   ]
  },
  {
   "cell_type": "code",
   "execution_count": 10,
   "metadata": {},
   "outputs": [
    {
     "data": {
      "image/png": "[encoded data removed]",
      "text/plain": [
       "<Figure size 504x144 with 7 Axes>"
      ]
     },
     "metadata": {},
     "output_type": "display_data"
    }
   ],
   "source": [
    "np.random.seed(1)\n",
    "slope = [1, 0.7, 0.3, 0, -0.3, -0.7, -1]\n",
    "plt.figure(figsize=(len(slope), 2))\n",
    "for i, s in enumerate(slope):\n",
    "    plt.subplot(1, len(slope), i + 1)\n",
    "    x, y = np.random.multivariate_normal([0, 0], [[1, 1], [1, 1]], 100).T\n",
    "    y2 = s * y\n",
    "    plt.plot(x, y2, 'ro', ms=1)\n",
    "    plt.axis('equal')\n",
    "    plt.xticks([])\n",
    "    plt.yticks([])\n",
    "    if s > 0:\n",
    "        plt.title(r\"$\\rho$=1\")\n",
    "    if s < 0:\n",
    "        plt.title(r\"$\\rho$=-1\")\n",
    "        \n",
    "plt.suptitle(\"상관계수와 스케터플롯의 기울기\", y=1.1)\n",
    "plt.tight_layout()\n",
    "plt.show()"
   ]
  },
  {
   "cell_type": "markdown",
   "metadata": {},
   "source": [
    "##### 상관계수로 분포의 형상을 추측할 때 주의할 점은 개별 자료가 상관계수에 미치는 영향력이 각각 다르다는 점이다.\n",
    "\n",
    "다음은 Frank Anscombe의 논문에 예시된 자료로 서로 다른 4종류의 2차원 데이터셋을 포함하는데 4종류 데이터셋 모두 상관계수가 약 0.816로 동일하다.\n",
    "\n"
   ]
  },
  {
   "cell_type": "code",
   "execution_count": 11,
   "metadata": {},
   "outputs": [
    {
     "data": {
      "text/html": [
       "<div>\n",
       "<style scoped>\n",
       "    .dataframe tbody tr th:only-of-type {\n",
       "        vertical-align: middle;\n",
       "    }\n",
       "\n",
       "    .dataframe tbody tr th {\n",
       "        vertical-align: top;\n",
       "    }\n",
       "\n",
       "    .dataframe thead th {\n",
       "        text-align: right;\n",
       "    }\n",
       "</style>\n",
       "<table border=\"1\" class=\"dataframe\">\n",
       "  <thead>\n",
       "    <tr style=\"text-align: right;\">\n",
       "      <th></th>\n",
       "      <th>x1</th>\n",
       "      <th>x2</th>\n",
       "      <th>x3</th>\n",
       "      <th>x4</th>\n",
       "      <th>y1</th>\n",
       "      <th>y2</th>\n",
       "      <th>y3</th>\n",
       "      <th>y4</th>\n",
       "    </tr>\n",
       "  </thead>\n",
       "  <tbody>\n",
       "    <tr>\n",
       "      <th>6</th>\n",
       "      <td>6</td>\n",
       "      <td>6</td>\n",
       "      <td>6</td>\n",
       "      <td>8</td>\n",
       "      <td>7.24</td>\n",
       "      <td>6.13</td>\n",
       "      <td>6.08</td>\n",
       "      <td>5.25</td>\n",
       "    </tr>\n",
       "    <tr>\n",
       "      <th>7</th>\n",
       "      <td>4</td>\n",
       "      <td>4</td>\n",
       "      <td>4</td>\n",
       "      <td>19</td>\n",
       "      <td>4.26</td>\n",
       "      <td>3.10</td>\n",
       "      <td>5.39</td>\n",
       "      <td>12.50</td>\n",
       "    </tr>\n",
       "    <tr>\n",
       "      <th>8</th>\n",
       "      <td>12</td>\n",
       "      <td>12</td>\n",
       "      <td>12</td>\n",
       "      <td>8</td>\n",
       "      <td>10.84</td>\n",
       "      <td>9.13</td>\n",
       "      <td>8.15</td>\n",
       "      <td>5.56</td>\n",
       "    </tr>\n",
       "    <tr>\n",
       "      <th>9</th>\n",
       "      <td>7</td>\n",
       "      <td>7</td>\n",
       "      <td>7</td>\n",
       "      <td>8</td>\n",
       "      <td>4.82</td>\n",
       "      <td>7.26</td>\n",
       "      <td>6.42</td>\n",
       "      <td>7.91</td>\n",
       "    </tr>\n",
       "    <tr>\n",
       "      <th>10</th>\n",
       "      <td>5</td>\n",
       "      <td>5</td>\n",
       "      <td>5</td>\n",
       "      <td>8</td>\n",
       "      <td>5.68</td>\n",
       "      <td>4.74</td>\n",
       "      <td>5.73</td>\n",
       "      <td>6.89</td>\n",
       "    </tr>\n",
       "  </tbody>\n",
       "</table>\n",
       "</div>"
      ],
      "text/plain": [
       "    x1  x2  x3  x4     y1    y2    y3     y4\n",
       "6    6   6   6   8   7.24  6.13  6.08   5.25\n",
       "7    4   4   4  19   4.26  3.10  5.39  12.50\n",
       "8   12  12  12   8  10.84  9.13  8.15   5.56\n",
       "9    7   7   7   8   4.82  7.26  6.42   7.91\n",
       "10   5   5   5   8   5.68  4.74  5.73   6.89"
      ]
     },
     "execution_count": 11,
     "metadata": {},
     "output_type": "execute_result"
    }
   ],
   "source": [
    "import statsmodels as sm\n",
    "data = sm.datasets.get_rdataset('anscombe')\n",
    "df = data.data\n",
    "df.tail()"
   ]
  },
  {
   "cell_type": "code",
   "execution_count": 12,
   "metadata": {},
   "outputs": [
    {
     "data": {
      "text/html": [
       "<div>\n",
       "<style scoped>\n",
       "    .dataframe tbody tr th:only-of-type {\n",
       "        vertical-align: middle;\n",
       "    }\n",
       "\n",
       "    .dataframe tbody tr th {\n",
       "        vertical-align: top;\n",
       "    }\n",
       "\n",
       "    .dataframe thead th {\n",
       "        text-align: right;\n",
       "    }\n",
       "</style>\n",
       "<table border=\"1\" class=\"dataframe\">\n",
       "  <thead>\n",
       "    <tr style=\"text-align: right;\">\n",
       "      <th></th>\n",
       "      <th>x1</th>\n",
       "      <th>y1</th>\n",
       "      <th>x2</th>\n",
       "      <th>y2</th>\n",
       "      <th>x3</th>\n",
       "      <th>y3</th>\n",
       "      <th>x4</th>\n",
       "      <th>y4</th>\n",
       "    </tr>\n",
       "  </thead>\n",
       "  <tbody>\n",
       "    <tr>\n",
       "      <th>0</th>\n",
       "      <td>10</td>\n",
       "      <td>8.04</td>\n",
       "      <td>10</td>\n",
       "      <td>9.14</td>\n",
       "      <td>10</td>\n",
       "      <td>7.46</td>\n",
       "      <td>8</td>\n",
       "      <td>6.58</td>\n",
       "    </tr>\n",
       "    <tr>\n",
       "      <th>1</th>\n",
       "      <td>8</td>\n",
       "      <td>6.95</td>\n",
       "      <td>8</td>\n",
       "      <td>8.14</td>\n",
       "      <td>8</td>\n",
       "      <td>6.77</td>\n",
       "      <td>8</td>\n",
       "      <td>5.76</td>\n",
       "    </tr>\n",
       "    <tr>\n",
       "      <th>2</th>\n",
       "      <td>13</td>\n",
       "      <td>7.58</td>\n",
       "      <td>13</td>\n",
       "      <td>8.74</td>\n",
       "      <td>13</td>\n",
       "      <td>12.74</td>\n",
       "      <td>8</td>\n",
       "      <td>7.71</td>\n",
       "    </tr>\n",
       "    <tr>\n",
       "      <th>3</th>\n",
       "      <td>9</td>\n",
       "      <td>8.81</td>\n",
       "      <td>9</td>\n",
       "      <td>8.77</td>\n",
       "      <td>9</td>\n",
       "      <td>7.11</td>\n",
       "      <td>8</td>\n",
       "      <td>8.84</td>\n",
       "    </tr>\n",
       "    <tr>\n",
       "      <th>4</th>\n",
       "      <td>11</td>\n",
       "      <td>8.33</td>\n",
       "      <td>11</td>\n",
       "      <td>9.26</td>\n",
       "      <td>11</td>\n",
       "      <td>7.81</td>\n",
       "      <td>8</td>\n",
       "      <td>8.47</td>\n",
       "    </tr>\n",
       "    <tr>\n",
       "      <th>5</th>\n",
       "      <td>14</td>\n",
       "      <td>9.96</td>\n",
       "      <td>14</td>\n",
       "      <td>8.10</td>\n",
       "      <td>14</td>\n",
       "      <td>8.84</td>\n",
       "      <td>8</td>\n",
       "      <td>7.04</td>\n",
       "    </tr>\n",
       "    <tr>\n",
       "      <th>6</th>\n",
       "      <td>6</td>\n",
       "      <td>7.24</td>\n",
       "      <td>6</td>\n",
       "      <td>6.13</td>\n",
       "      <td>6</td>\n",
       "      <td>6.08</td>\n",
       "      <td>8</td>\n",
       "      <td>5.25</td>\n",
       "    </tr>\n",
       "    <tr>\n",
       "      <th>7</th>\n",
       "      <td>4</td>\n",
       "      <td>4.26</td>\n",
       "      <td>4</td>\n",
       "      <td>3.10</td>\n",
       "      <td>4</td>\n",
       "      <td>5.39</td>\n",
       "      <td>19</td>\n",
       "      <td>12.50</td>\n",
       "    </tr>\n",
       "    <tr>\n",
       "      <th>8</th>\n",
       "      <td>12</td>\n",
       "      <td>10.84</td>\n",
       "      <td>12</td>\n",
       "      <td>9.13</td>\n",
       "      <td>12</td>\n",
       "      <td>8.15</td>\n",
       "      <td>8</td>\n",
       "      <td>5.56</td>\n",
       "    </tr>\n",
       "    <tr>\n",
       "      <th>9</th>\n",
       "      <td>7</td>\n",
       "      <td>4.82</td>\n",
       "      <td>7</td>\n",
       "      <td>7.26</td>\n",
       "      <td>7</td>\n",
       "      <td>6.42</td>\n",
       "      <td>8</td>\n",
       "      <td>7.91</td>\n",
       "    </tr>\n",
       "    <tr>\n",
       "      <th>10</th>\n",
       "      <td>5</td>\n",
       "      <td>5.68</td>\n",
       "      <td>5</td>\n",
       "      <td>4.74</td>\n",
       "      <td>5</td>\n",
       "      <td>5.73</td>\n",
       "      <td>8</td>\n",
       "      <td>6.89</td>\n",
       "    </tr>\n",
       "  </tbody>\n",
       "</table>\n",
       "</div>"
      ],
      "text/plain": [
       "    x1     y1  x2    y2  x3     y3  x4     y4\n",
       "0   10   8.04  10  9.14  10   7.46   8   6.58\n",
       "1    8   6.95   8  8.14   8   6.77   8   5.76\n",
       "2   13   7.58  13  8.74  13  12.74   8   7.71\n",
       "3    9   8.81   9  8.77   9   7.11   8   8.84\n",
       "4   11   8.33  11  9.26  11   7.81   8   8.47\n",
       "5   14   9.96  14  8.10  14   8.84   8   7.04\n",
       "6    6   7.24   6  6.13   6   6.08   8   5.25\n",
       "7    4   4.26   4  3.10   4   5.39  19  12.50\n",
       "8   12  10.84  12  9.13  12   8.15   8   5.56\n",
       "9    7   4.82   7  7.26   7   6.42   8   7.91\n",
       "10   5   5.68   5  4.74   5   5.73   8   6.89"
      ]
     },
     "execution_count": 12,
     "metadata": {},
     "output_type": "execute_result"
    }
   ],
   "source": [
    "df[[\"x1\", \"y1\", \"x2\", \"y2\", \"x3\", \"y3\", \"x4\", \"y4\"]]"
   ]
  },
  {
   "cell_type": "markdown",
   "metadata": {},
   "source": [
    "첫번째 데이터셋은 평범한 데이터셋이다. 하지만 두번째 데이터셋은 비선형으로 완벽한 상관관계를 가진다. 즉 x값을 알면 y값을 완벽하게 알 수 있다. 하지만 상관계수는 약 0.816으로 1인 아닌 값을 가진다. \n",
    "\n",
    "##### 즉, 상관계수는 비선형 상관관계를 표현하지 못한다."
   ]
  },
  {
   "cell_type": "markdown",
   "metadata": {},
   "source": [
    "세번째 데이터셋과 네번째 데이터셋에서 볼 수 있듯이 나머지 데이터의 상관계수가 1 또는 0인 경우에도 단 하나의 특이값(outlier) 자료에 의해 상관계수가 크게 달라질 수 있다."
   ]
  },
  {
   "cell_type": "code",
   "execution_count": 17,
   "metadata": {},
   "outputs": [
    {
     "data": {
      "image/png": "[encoded data removed]",
      "text/plain": [
       "<Figure size 432x288 with 4 Axes>"
      ]
     },
     "metadata": {},
     "output_type": "display_data"
    }
   ],
   "source": [
    "plt.subplot(221)\n",
    "sns.regplot(x=\"x1\", y=\"y1\", data=df)\n",
    "plt.subplot(222)\n",
    "sns.regplot(x=\"x2\", y=\"y2\", data=df)\n",
    "plt.subplot(223)\n",
    "sns.regplot(x='x3', y='y3', data=df)\n",
    "plt.subplot(224)\n",
    "sns.regplot(x=\"x4\", y=\"y4\", data=df)\n",
    "\n",
    "plt.subplots_adjust(top=0.9)\n",
    "plt.suptitle(\"Anscombe's data\", y=1.1)\n",
    "plt.tight_layout()\n",
    "plt.show()"
   ]
  },
  {
   "cell_type": "markdown",
   "metadata": {},
   "source": [
    "### 다변수 확률변수의 표본공분산\n",
    "\n",
    "이번에는 스칼라가 아닌 \n",
    "###### 벡터 표본값을 가지는 다변수 확률변수의 공분산\n",
    "에 대해 알아보자.  \n",
    "\n",
    "𝑋1,𝑋2,⋯,𝑋𝑀 이라는  𝑀 개의 서로 다른 확률변수가 있다고 하자. 이 확률변수들의 표본 데이터가 각각  𝑁 개가 있으면  𝑗(𝑗=1,…,𝑀) 번째 확률변수의  𝑖(𝑖=1,…,𝑁) 번째 데이터를  𝑥𝑖,𝑗 로 표기한다. 이를 하나의 행렬로 묶으면 다음과 같은 특징행렬이 된다."
   ]
  },
  {
   "cell_type": "markdown",
   "metadata": {},
   "source": [
    "$$X = \n",
    "\\begin{bmatrix}\n",
    "x_{1, 1} & x_{1, 2} & \\cdots   & x_{1, M} \\\\\n",
    "x_{2, 1} & x_{2, 2} & \\cdots   & x_{2, M} \\\\\n",
    "\\vdots   & \\vdots   & \\ddots   & \\vdots   \\\\\n",
    "x_{N, 1} & x_{N, 2} & \\cdots   & x_{N, M} \\\\\n",
    "\\end{bmatrix}$$"
   ]
  },
  {
   "cell_type": "markdown",
   "metadata": {},
   "source": [
    "𝑀 개의 서로 다른 확률변수의 모든 조합에 대한 공분산을 한꺼번에 표기하기 위해 다음처럼 표본공분산 행렬(Sample Covariance Matrix)을 정의한다. \n",
    "\n",
    "##### 대각성분은 각각의 확률변수의 분산, 비대각성분은 서로 다른 두 확률변수의 공분산으로 정의되는 행렬이다. \n",
    "\n",
    "예를 들어 두번째 행, 세번째 열의 원소 𝑠2,3은 두번째 확률변수와 세번째 확률변수의 공분산이다.\n",
    "\n",
    "$$S =\n",
    "\\begin{bmatrix}\n",
    "\\begin{eqnarray}\n",
    "s_{x_1}^2     \\;\\;  &  s_{x_1x_2} \\;\\;&  s_{x_1x_3} \\;\\;&  \\cdots &  s_{x_1x_M} \\\\\n",
    "s_{x_1x_2}   \\;\\;    &  s_{x_2}^2 \\;\\;&  s_{x_2x_3} \\;\\;&  \\cdots &  s_{x_2x_M} \\\\\n",
    "\\vdots       &  \\vdots &  \\vdots &  \\ddots &  \\vdots \\\\\n",
    "s_{x_1x_M}   \\;\\;    &  s_{x_2x_M} \\;\\;&  s_{x_3x_M} \\;\\;&  \\cdots &  s_{x_M}^2 \\\\\n",
    "\\end{eqnarray}\n",
    "\\end{bmatrix}\n",
    "$$"
   ]
  },
  {
   "cell_type": "markdown",
   "metadata": {},
   "source": [
    "위 행렬의 값은 다음처럼 구한다.\n",
    "\n",
    "(1) 각 확률변수  𝑥𝑗(𝑗=1,⋯,𝑀) 의 표본평균을 계산한다.\n",
    "\n",
    "$$\\bar{x}_j = \\dfrac{1}{N} \\sum_{i=1}^N x_{i,j}$$"
   ]
  },
  {
   "cell_type": "markdown",
   "metadata": {},
   "source": [
    "(2) 각 확률변수  𝑥𝑗(𝑗=1,⋯,𝑀) 의 분산을 계산한다.\n",
    "\n",
    "$$s_j^2 = \\dfrac{1}{N} \\sum_{i=1}^N (x_{i,j} - \\bar{x}_j)^2$$"
   ]
  },
  {
   "cell_type": "markdown",
   "metadata": {},
   "source": [
    "(3) 두 확률변수  𝑥𝑗,𝑥𝑘 의 공분산을 계산한다.\n",
    "\n",
    "$$s_{j,k} = \\dfrac{1}{N} \\sum_{i=1}^N (x_{i,j} - \\bar{x}_j)(x_{i,k} - \\bar{x}_k)$$"
   ]
  },
  {
   "cell_type": "markdown",
   "metadata": {},
   "source": [
    "만약  𝑥𝑖(𝑖=1,…,𝑁) 가 다음과 같은  𝑀 -차원 표본 벡터로 정의하면\n",
    "\n",
    "$$x_i = \\begin{bmatrix}x_{i,1} \\\\ \\vdots \\\\ x_{i,M} \\end{bmatrix}$$"
   ]
  },
  {
   "cell_type": "markdown",
   "metadata": {},
   "source": [
    "표본공분산 행렬  𝑆 는 다음 식으로 구할 수 있다.\n",
    "\n",
    "$$S = \\dfrac{1}{N}\\sum_{i=1}^N (x_i-\\bar{x})(x_i-\\bar{x})^T$$"
   ]
  },
  {
   "cell_type": "markdown",
   "metadata": {},
   "source": [
    "### Practice 1\n",
    "\n",
    "표본공분산 행렬을 다음 식으로 구할 수 있음을 증명하라.\n",
    "\n",
    "$$S = \\dfrac{1}{N} X_0^TX_0$$\n",
    "\n",
    "이 식에서  𝑥¯ 는  𝑀 -차원 평균벡터이고  𝑋0 는 평균이 제거된  𝑁×𝑀  크기의 데이터 행렬이다.\n",
    "\n",
    "$$\\bar{x} = \\dfrac{1}{N} X^T\\mathbf{1_N}$$\n",
    "\n",
    "$$X_0 = X - \\mathbf{1_M}\\bar{x}^T = X - \\dfrac{1}{N} \\mathbf{1_M}\\mathbf{1_N}^TX$$"
   ]
  },
  {
   "cell_type": "markdown",
   "metadata": {},
   "source": [
    "### 다변수 확률변수의 공분산\n",
    "\n",
    "다변수 확률변수의 이론적 공분산 행렬은  Σ 로 표기하며 다음과 같이 정의한다.\n",
    "\n",
    "\\begin{eqnarray}\n",
    "\\Sigma = \\text{Cov}[X] \n",
    "&=&\n",
    "\\text{E} \n",
    "\\begin{bmatrix}\n",
    "(X_1 - \\text{E}[X_1])^2 & (X_1 - \\text{E}[X_1])(X_2 - \\text{E}[X_2]) & \\cdots & (X_1 - \\text{E}[X_1])(X_M - \\text{E}[X_M]) \\\\\n",
    "(X_1 - \\text{E}[X_1])(X_2 - \\text{E}[X_2]) & (X_2 - \\text{E}[X_2])^2 & \\cdots & (X_2 - \\text{E}[X_2])(X_M - \\text{E}[X_M]) \\\\\n",
    "\\vdots &  \\vdots  & \\ddots &  \\vdots  \\\\\n",
    "(X_1 - \\text{E}[X_1])(X_M - \\text{E}[X_M]) & (X_2 - \\text{E}[X_2])(X_M - \\text{E}[X_M]) & \\cdots & (X_M - \\text{E}[X_M])^2 \\end{bmatrix}\n",
    "\\\\\n",
    "&=&\n",
    "\\begin{bmatrix}\n",
    "\\sigma_{x_1}^2  &  \\sigma_{x_1x_2} &  \\sigma_{x_1x_3} &  \\cdots &  \\sigma_{x_1x_M} \\\\\n",
    "\\sigma_{x_1x_2} &  \\sigma_{x_2}^2  &  \\sigma_{x_2x_3} &  \\cdots &  \\sigma_{x_2x_M} \\\\\n",
    "\\vdots          &  \\vdots          &  \\vdots          &  \\ddots &  \\vdots          \\\\\n",
    "\\sigma_{x_1x_M} &  \\sigma_{x_2x_M} &  \\sigma_{x_3x_M} &  \\cdots &  \\sigma_{x_M}^2 \\\\\n",
    "\\end{bmatrix} \\\\\n",
    "\\end{eqnarray}"
   ]
  },
  {
   "cell_type": "markdown",
   "metadata": {},
   "source": [
    "다음과 같이 표기할 수도 있다.\n",
    "\n",
    "\\begin{eqnarray}\n",
    "\\Sigma \n",
    "&=& \\text{E} \\left[ (X - \\text{E}[X])(X - \\text{E}[X])^T \\right] \\\\\n",
    "&=& \\text{E} \n",
    "\\left[ \n",
    "\\begin{bmatrix}\n",
    "X_1 - \\text{E}[X_1] \\\\\n",
    "X_2 - \\text{E}[X_2] \\\\\n",
    "\\vdots \\\\\n",
    "X_M - \\text{E}[X_M] \\\\\n",
    "\\end{bmatrix}\n",
    "\\begin{bmatrix}\n",
    "X_1 - \\text{E}[X_1] &\n",
    "X_2 - \\text{E}[X_2] &\n",
    "\\cdots &\n",
    "X_M - \\text{E}[X_M]\n",
    "\\end{bmatrix}\n",
    "\\right]\n",
    "\\end{eqnarray}"
   ]
  },
  {
   "cell_type": "code",
   "execution_count": null,
   "metadata": {},
   "outputs": [],
   "source": []
  }
 ],
 "metadata": {
  "kernelspec": {
   "display_name": "Python 3",
   "language": "python",
   "name": "python3"
  },
  "language_info": {
   "codemirror_mode": {
    "name": "ipython",
    "version": 3
   },
   "file_extension": ".py",
   "mimetype": "text/x-python",
   "name": "python",
   "nbconvert_exporter": "python",
   "pygments_lexer": "ipython3",
   "version": "3.5.1"
  }
 },
 "nbformat": 4,
 "nbformat_minor": 2
}
