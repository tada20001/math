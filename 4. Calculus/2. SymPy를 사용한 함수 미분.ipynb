{
 "cells": [
  {
   "cell_type": "markdown",
   "metadata": {},
   "source": [
    "우선 데이터 분석을 하는데 미분이 필요한 이유에 대해 설명한다. 몇가지 간단한 미분 공식을 사용하여 손으로 미분하는 연습을 한 후에 파이썬으로 미분을 하는 방법을 알아본다.\n",
    "\n",
    "### 예측 모형의 성능\n",
    "데이터 분석의 목표는 예측 오차가 가장 작은 최적의(optimal) 예측모형을 구하는 일이다. 최적의 모형을 구하기 위해 우리가 할 수 있는 일은 예측모형 함수의 계수(coefficient)를 바꾸는 것이다. 예측모형 함수의 계수를 모수(parameter)라고도 한다. 예를 들어 다음과 같은 선형예측모형을 사용하는 경우,"
   ]
  },
  {
   "cell_type": "markdown",
   "metadata": {},
   "source": [
    "$$\\hat{y} = w_1 x_1 +  w_2 x_2 + \\ldots +  w_N x_N  = w^T x $$\n",
    "\n",
    "우리가 결정할 수 있는 것은 선형예측모형의 가중치  𝑤 , 즉  $𝑤_1,𝑤_2,…,𝑤_𝑁$ 의 값이다. 이 가중치  𝑤 의 값이 모수이다."
   ]
  },
  {
   "cell_type": "markdown",
   "metadata": {},
   "source": [
    "모수를 어떤 숫자로 정하느냐에 따라 예측모형의 성능(performance)이 달라진다. 성능은 크기를 비교할 수 있어야 하므로 항상 스칼라인 숫자가 되어야 한다. 따라서 모수를 결정하여 성능을 측정하는 일련의 과정은 다음처럼 다변수 함수를 계산하는 것과 같다. 이 함수를 성능함수(performance function)이라고 한다. 성능함수의 값은 클수록 좋다."
   ]
  },
  {
   "cell_type": "markdown",
   "metadata": {},
   "source": [
    "이와는 반대로 모수를 입력받아 오차 혹은 오류의 크기를 출력하는 함수를 가장 작게 하는 것을 목표로 할 수도 있다. 이러한 함수는 손실함수(loss function), 비용함수(cost function), 또는 오차함수(error function)라고 부른다."
   ]
  },
  {
   "cell_type": "markdown",
   "metadata": {},
   "source": [
    "성능함수, 손실함수, 비용함수, 오차함수 등 최적화의 대상이 되는 함수를 통틀어 목적함수(objective function)라고 한다."
   ]
  },
  {
   "cell_type": "markdown",
   "metadata": {},
   "source": [
    "우리가 원하는 것은 목적함수가 주어졌을 때 이 목적함수의 값을 가장 크게 혹은 적게 할 수 있는 입력값, 즉 모수를 구하는 것이다. 이를 최적화(optmization)라고 한다. 최적화를 하기 위해서는 입력값이 변했을 때 함수의 출력값이 어떻게 달라지는지를 정량적으로 알아야 한다. 이러한 과정이 미분(differentiation)이다. 따라서 미분을 모르고 올바른 데이터 분석은 불가능하다.\n",
    "\n",
    "https://datascienceschool.net/upfiles/883f9a06faf54a2da213679b1589442a.png"
   ]
  },
  {
   "cell_type": "markdown",
   "metadata": {},
   "source": [
    "#### 예제\n",
    "\n",
    "조절나사의 각도  𝑥 를 설정하여 출력되는 음량  𝑦 을 제어하는 앰프가 있다. 그런데 이 앰프가 다음 그림과 같이 조절나사의 각도와 음량이 정비례하지 않는 앰프라고 하자. 출력 음량이 최대가 되는 조절나사의 각도를 찾는 문제는 변수  𝑥 에 대한 최적화 문제라고 할 수 있다.\n",
    "\n",
    "https://datascienceschool.net/upfiles/2330af56eab04a60abb081672078c236.png\n",
    "\n",
    "### 기울기"
   ]
  },
  {
   "cell_type": "markdown",
   "metadata": {},
   "source": [
    "수치적 최적화는 가장 적은 횟수로 여러가지  𝑥 값을 시도하여 최적의 값을 찾는 방법이다. 수치적 최적화를 하려면 어떤  𝑥1 값을 시도한 후 다음 번에 다른  𝑥2 값으로 어떤 값이 더 좋을지 알아야 한다. 만약  𝑥1  위치에서는  𝑥 를 증가시켰을 때  𝑦 값이 증가한다는 것을 알 고 있다면  𝑥2 값은  𝑥1 보다 더 큰 값을 쓰는 것이 좋다. 반대로  𝑥1  위치에서는  𝑥 를 증가시켰을 때  𝑦 값이 감소한다면  𝑥2 값은  𝑥1 보다 더 작은 값을 쓰는 것이 좋다. 이 정보를 기울기(slope) 혹은 민감도(sensitivity)라고 한다."
   ]
  },
  {
   "cell_type": "markdown",
   "metadata": {},
   "source": [
    "앰프에 비유하자면 조절나사를 오른쪽으로 1도만큼 돌렸을 때 소리가 커지는지 작아지는지를 안다면 소리를 크게 하기 위해 왼쪽으로 돌릴지 오른쪽으로 돌릴지를 결정할 수 있는 것과 마찬가지다.\n",
    "\n",
    "만약 입력변수의 값이  𝑥 에서  $𝑥_2$ 로  $Δ𝑥=𝑥_2−𝑥$ 만큼 달라졌다고 가정하자. 출력변수는  𝑓(𝑥) 이라는 값에서  𝑓($𝑥_2$) 라는 값으로  Δ𝑦=𝑓($𝑥_2$)−𝑓(𝑥) 만큼 달라질 것이다. 이를 비율로 나타내면 다음과 같다.\n",
    "\n"
   ]
  },
  {
   "cell_type": "markdown",
   "metadata": {},
   "source": [
    "$$\\dfrac{\\Delta y}{\\Delta x} = \\dfrac{f(x_2) - f(x)}{x_2 - x} = \\dfrac{f(x + \\Delta x) - f(x)}{\\Delta x} $$\n"
   ]
  },
  {
   "cell_type": "markdown",
   "metadata": {},
   "source": [
    "그런데 이 방식으로 계산한 변화율은  𝑥2 가  𝑥1 에서 얼마나 멀리 떨어져 있는가 즉,  Δ𝑥 의 크기에 따라 달라진다. 이를 해결하기 위해 기울기(slope)라는 개념을 사용한다. 기울기는  𝑑𝑥 값이 0으로 근접할 때의 변화율을 말한다. 기호로는 다음처럼 쓴다.\n",
    "\n",
    "$$\\text{slope} = \\lim_{\\Delta x \\rightarrow 0} \\dfrac{f(x + \\Delta x) - f(x)}{\\Delta x} $$\n"
   ]
  },
  {
   "cell_type": "markdown",
   "metadata": {},
   "source": [
    "이번에는 기울기를 함수의 그래프에서 살펴보자. 함수의 그래프는 앞에서 그린 것처럼 부드러운 곡선(curve)의 형태로 나타나는 경우가 많다. 이 곡선에 대해 한 점만 공통으로 가지는 접선(tangent)을 그릴 수 있는데 이 접선이 수평선과 이루는 기울기는 접선이  𝑥 방향으로 이동한 거리와  𝑦  방향으로 이동한 거리의 비율을 말한다."
   ]
  },
  {
   "cell_type": "markdown",
   "metadata": {},
   "source": [
    "#### 예제\n",
    "다음과 같은 3차 함수를 생각하자.\n",
    "\n",
    "$$x^3 - 3x^2 + x$$\n",
    "\n",
    "그래프에서  𝑥=0 과  𝑥=1 에서의 기울기는 각각  1 ,  −2 임을 알 수 있다.\n",
    "\n",
    "$$x=0 \\;\\;\\rightarrow\\;\\; \\text{slope} = \\dfrac{1}{1} = 1$$\n",
    "\n",
    "$$x=1 \\;\\;\\rightarrow\\;\\; \\text{slope} = \\dfrac{-2}{1} = -2$$"
   ]
  },
  {
   "cell_type": "code",
   "execution_count": 15,
   "metadata": {},
   "outputs": [],
   "source": [
    "import numpy as np\n",
    "import matplotlib.pylab as plt\n",
    "import matplotlib as mpl\n",
    "import matplotlib.font_manager as fm\n",
    "import seaborn as sns\n",
    "sns.set_style(\"whitegrid\")\n",
    "\n",
    "mpl.rcParams['axes.unicode_minus'] = False\n",
    "path = \"/Library/Fonts/NanumGothic.otf\"\n",
    "font_name = fm.FontProperties(fname=path, size=15).get_name()\n",
    "plt.rc('font', family=font_name)"
   ]
  },
  {
   "cell_type": "code",
   "execution_count": 18,
   "metadata": {},
   "outputs": [
    {
     "data": {
      "image/png": "[encoded data removed]",
      "text/plain": [
       "<Figure size 432x288 with 1 Axes>"
      ]
     },
     "metadata": {},
     "output_type": "display_data"
    }
   ],
   "source": [
    "def f(x):\n",
    "    return x**3 - 3*x**2 + x\n",
    "\n",
    "x = np.linspace(-1, 3, 400)\n",
    "y = f(x)\n",
    "\n",
    "plt.plot(x, y)\n",
    "plt.plot(0, 0, 'ro')\n",
    "plt.plot(x, x, 'r:')\n",
    "plt.plot(1, -1, 'go')\n",
    "plt.plot(x, (3*1**2-6*1+1)*(x-1)-1, 'g--') # x=1일때 기울기\n",
    "\n",
    "plt.xlim(-3.5, 5.5)\n",
    "plt.ylim(-4, 2)\n",
    "plt.xticks(np.arange(-3, 6))\n",
    "plt.yticks(np.arange(-4, 2))\n",
    "\n",
    "plt.annotate('', xy=(1, 0), xytext=(0, 0), arrowprops=dict(facecolor='gray'))\n",
    "plt.annotate('', xy=(1, 1), xytext=(1, 0), arrowprops=dict(facecolor='gray'))\n",
    "plt.annotate('', xy=(2, -1), xytext=(1, -1), arrowprops=dict(facecolor='gray'))\n",
    "plt.annotate('', xy=(2, -3), xytext=(2, -1), arrowprops=dict(facecolor='gray'))\n",
    "\n",
    "plt.xlabel(\"x\")\n",
    "plt.ylabel(\"f(x)\")\n",
    "plt.title(\"함수의 기울기\")\n",
    "plt.show()"
   ]
  },
  {
   "cell_type": "markdown",
   "metadata": {},
   "source": [
    "### Practice 1.\n",
    "앞의 그래프를 참고하여 다음 표의  𝑥  값들에 대해 기울기의 값이 얼마쯤인지 대략적으로 가늠하여 적어본다.\n",
    "\n",
    "x = -0.5 -> 4.75\n",
    "x = 0    -> 1\n",
    "x = 0.5  -> -1.25\n",
    "x = 1    -> -2\n",
    "x = 1.5  -> =1.25\n",
    "x = 2    -> 1\n",
    "x = 2.5  -> 4.75\n",
    "\n",
    "기울기가 + 값에서 - 값으로 가다가 다시 + 값으로..."
   ]
  },
  {
   "cell_type": "code",
   "execution_count": 19,
   "metadata": {},
   "outputs": [],
   "source": [
    "def df(x):\n",
    "    return 3 * x**2 - 6 * x + 1"
   ]
  },
  {
   "cell_type": "code",
   "execution_count": 21,
   "metadata": {},
   "outputs": [
    {
     "data": {
      "text/plain": [
       "(4.75, 1, -1.25, -2, -1.25, 1, 4.75)"
      ]
     },
     "execution_count": 21,
     "metadata": {},
     "output_type": "execute_result"
    }
   ],
   "source": [
    "df(-0.5), df(0), df(0.5), df(1), df(1.5), df(2), df(2.5)"
   ]
  },
  {
   "cell_type": "markdown",
   "metadata": {},
   "source": [
    "### 수치미분"
   ]
  },
  {
   "cell_type": "markdown",
   "metadata": {},
   "source": [
    "scipy.misc 패키지의 derivative 명령을 사용하면 수치적으로 대략적인 기울기를 계산할 수 있다. 인수로는 기울기를 구하고자 하는 함수 f, 기울기를 구할 위치 x, 기울기를 구하기 위해 이동할 거리 dx를 받는다. 다음 수식으로 대략적인 기울기는 구한다.\n",
    "\n",
    "$$\\text{slope} \\approx \\dfrac{f\\left(x + \\dfrac{1}{2}dx\\right) - f\\left(x - \\dfrac{1}{2}dx\\right)}{dx}$$ \n"
   ]
  },
  {
   "cell_type": "markdown",
   "metadata": {},
   "source": [
    "이렇게 기울기를 구하는 방법을 수치미분(numerical differentiation)이라고 한다. 수치 미분으로는 대략적인 기울기를 구할 뿐 정확한 값을 구할 수 없다. scipy는 misc 서브패키지에서 수치미분을 계산하는 derivative 명령을 제공한다. derivative 명령을 사용할 때는 기울기를 구하기 위해 이동할 거리  𝑑𝑥 를 두번째 인수로 넣어야 한다. 이 숫자는 작을 수록 좋지만 너무 작을 경우에는 부동소수점 연산의 오버플로우 오류로 인해 오히려 오차를 증폭할 수도 있으므로 조심하여야 한다."
   ]
  },
  {
   "cell_type": "markdown",
   "metadata": {},
   "source": [
    "#### 예제\n",
    "위 예제의 3차 다항식의 기울기를  𝑥=0 ,  𝑥=1  지점에서 수치미분으로 구하는 코드는 다음과 같다.  𝑑𝑥 값은 1000000분의 1로 설정하였다."
   ]
  },
  {
   "cell_type": "code",
   "execution_count": 24,
   "metadata": {},
   "outputs": [
    {
     "name": "stdout",
     "output_type": "stream",
     "text": [
      "1.000000000001\n",
      "-2.000000000002\n"
     ]
    }
   ],
   "source": [
    "from scipy.misc import derivative\n",
    "\n",
    "print(derivative(f, 0, dx=1e-6))\n",
    "print(derivative(f, 1, dx=1e-6))"
   ]
  },
  {
   "cell_type": "markdown",
   "metadata": {},
   "source": [
    "### 미분\n",
    "미분(differentiation)이란 어떤 함수로부터 그 함수 기울기를 출력하는 새로운 함수를 만들어내는 작업이다. 미분으로 만들어진 함수를 원래 함수의 도함수(derivative)라고 한다. 원래는 수렴(converge)과 극한(limit)이라는 수학적인 개념을 사용하여 미분을 정의하지만 여기에서는 자세한 설명을 생략한다.\n",
    "\n",
    "도함수는 원래 함수에 프라임(prime) 기호( ′ )를 붙이거나 원래 함수의 앞에  𝑑𝑑𝑥 를 붙여서 표시한다. 분수처럼 표기하기도 하는데 분모의 위치에는 미분하고자 하는 변수가 오고 분자의 위치에는 미분하는 함수 자체의 기호나 혹은 함수 계산의 결과로 얻어지는 출력 변수를 넣는다. 예를 들어  𝑦=𝑓(𝑥) 라는 함수를 미분하여 구한 도함수는 다음과 같이 여러가지 방법으로 표기할 수 있다. 도함수의 표기는 분수와 비슷하지만 분수의 기호만 빌려온 것일 뿐 분수가 아니라는 점에 주의한다.\n",
    "\n",
    "$$f' = \\dfrac{d}{dx}(f) = \\dfrac{d}{dx}f = \\dfrac{df}{dx}  = \\dfrac{d}{dx}(y) = \\dfrac{d}{dx}y = \\dfrac{dy}{dx} $$\n",
    "\n",
    "이 식에서  𝑓′ 는 \"f 프라임(prime)\"이라고 읽고  $\\dfrac{df}{dx}$ 는 \"df 오버(over) dx\"라고 읽는다.\n"
   ]
  },
  {
   "cell_type": "markdown",
   "metadata": {},
   "source": [
    "### Practice 2.\n",
    "앞절에서 구한 기울기 값 표를 이용하여 도함수의 그래프를 그려본다."
   ]
  },
  {
   "cell_type": "code",
   "execution_count": 38,
   "metadata": {},
   "outputs": [
    {
     "data": {
      "image/png": "[encoded data removed]",
      "text/plain": [
       "<Figure size 432x288 with 1 Axes>"
      ]
     },
     "metadata": {},
     "output_type": "display_data"
    }
   ],
   "source": [
    "# x = -0.5 -> 4.75 x = 0 -> 1 x = 0.5 -> -1.25 x = 1 -> -2 x = 1.5 -> =1.25 x = 2 -> 1 x = 2.5 -> 4.75\n",
    "x = np.array([-0.5, 0, 0.5, 1, 1.5, 2, 2.5])\n",
    "x1 = np.linspace(-0.5, 2.5, 100)\n",
    "y = df(x)\n",
    "\n",
    "plt.plot(x, y)\n",
    "plt.plot(x1, df(x1), 'r--')\n",
    "plt.title(\"도함수 그래프\")\n",
    "plt.xlabel(\"$x$\")\n",
    "plt.ylabel(\"f prime\")\n",
    "plt.show()"
   ]
  },
  {
   "cell_type": "markdown",
   "metadata": {},
   "source": [
    "### 미분 가능\n",
    "\n",
    "함수에 따라서는 어떤 점에서는 기울기 값을 정의하기 어려울 수가 있다. 예를 들어 다음 함수는  𝑥=0 인 위치에서 기울기를 정의할 수 없다. 이런 경우에는  𝑥=0 에서 미분 불가능(not differentiable)이라고 한다. 반대로 기울기를 구할 수 있으면 미분 가능(differentiable)이라고 한다."
   ]
  },
  {
   "cell_type": "markdown",
   "metadata": {},
   "source": [
    "#### 예제 \n",
    "ReLU 함수는  𝑥<0 인 구간에서는 기울기가 0이고  𝑥>0 인 구간에서는 기울기가 1이지만  𝑥=0 인 위치에서는 접선이 존재하지 않아서 미분할 수 없다."
   ]
  },
  {
   "cell_type": "code",
   "execution_count": 39,
   "metadata": {},
   "outputs": [
    {
     "data": {
      "image/png": "[encoded data removed]",
      "text/plain": [
       "<Figure size 432x288 with 1 Axes>"
      ]
     },
     "metadata": {},
     "output_type": "display_data"
    }
   ],
   "source": [
    "def relu(x):\n",
    "    return np.where(x > 0, x, 0)\n",
    "\n",
    "xx = np.linspace(-2, 2, 100)\n",
    "plt.plot(xx, relu(xx))\n",
    "plt.plot(0, 0, marker='o', ms=10)\n",
    "plt.title(\"ReLU\")\n",
    "plt.xlabel(\"$x$\")\n",
    "plt.ylabel(\"$ReLU(x)$\")\n",
    "plt.show()"
   ]
  },
  {
   "cell_type": "markdown",
   "metadata": {},
   "source": [
    "### 미분공식\n",
    "몇가지 미분공식을 조합하면 복잡한 함수의 도함수도 쉽게 구할 수 있다. 여기에서는 가장 핵심적인 4가지 공식만을 소개한다.\n",
    "\n",
    "+ 기본 미분공식\n",
    "+ 선형조합법칙\n",
    "+ 곱셈법칙\n",
    "+ 연쇄법칙"
   ]
  },
  {
   "cell_type": "markdown",
   "metadata": {},
   "source": [
    "#### 2. 선형조합법칙\n",
    "어떤 함수에 상수를 곱한 함수를 미분한 결과는 원래 함수의 도함수에 그 상수를 곱한 것과 같다.\n",
    "\n",
    "$$\\dfrac{d}{dx}(cf) = c \\cdot \\dfrac{df}{dx}$$\n",
    "\n",
    "어떤 두 함수를 더한 함수를 미분한 결과는 원래 함수의 도함수를 더한 것과 같다.\n",
    "\n",
    "$$\\dfrac{d}{dx}\\left(f_1 + f_2\\right) = \\dfrac{df_1}{dx} +  \\dfrac{df_2}{dx}$$\n",
    "\n",
    "위의 결과를 합치면 어떤 함수에 각각 상수를 곱한 후 더한 선형조합(linear combination)은 각 함수의 도함수를 선형조합한 것과 같다.\n",
    "\n",
    "$$\\dfrac{d}{dx}\\left(c_1 f_1 + c_2 f_2 \\right) = c_1 \\dfrac{df_1}{dx} + c_2 \\dfrac{df_2}{dx}$$\n"
   ]
  },
  {
   "cell_type": "markdown",
   "metadata": {},
   "source": [
    "#### 예제\n",
    "$$y = 1 + 2x + 3x^2 + 4\\exp(x) + 5\\log(x)$$\n",
    "\n",
    "답은 다음과 같다.\n",
    "\n",
    "$$\\dfrac{dy}{dx} = 2 + 6x + 4\\exp(x) + \\dfrac{5}{x}$$"
   ]
  },
  {
   "cell_type": "markdown",
   "metadata": {},
   "source": [
    "#### 예제\n",
    "같은 방법으로 위에서 그래프를 그렸던 함수의 도함수를 구하면 다음과 같다.\n",
    "\n",
    "$$f(x) = x^3 - 3x^2 + x$$\n",
    "\n",
    "$$f'(x) = 3x^2 - 6x + 1$$\n",
    "\n",
    "도함수의 값이 기울기와 일치하는 것을 알 수 있다."
   ]
  },
  {
   "cell_type": "code",
   "execution_count": 43,
   "metadata": {},
   "outputs": [
    {
     "data": {
      "text/plain": [
       "(1.816496580927726, 0.18350341907227397)"
      ]
     },
     "execution_count": 43,
     "metadata": {},
     "output_type": "execute_result"
    }
   ],
   "source": [
    "def f(x):\n",
    "    return x**3 - 3*x**2 + x\n",
    "\n",
    "def fprime(x):\n",
    "    return 3 * x**2 - 6 * x + 1\n",
    "\n",
    "# 2차 방정식의 해\n",
    "x1, x2 = np.roots([3, -6, 1])\n",
    "x1, x2"
   ]
  },
  {
   "cell_type": "code",
   "execution_count": 49,
   "metadata": {},
   "outputs": [
    {
     "data": {
      "image/png": "[encoded data removed]",
      "text/plain": [
       "<Figure size 720x504 with 2 Axes>"
      ]
     },
     "metadata": {},
     "output_type": "display_data"
    }
   ],
   "source": [
    "x = np.linspace(-1, 3, 400)\n",
    "\n",
    "plt.figure(figsize=(10, 7))\n",
    "plt.subplot(211)\n",
    "plt.plot(x, f(x))\n",
    "plt.xlim(-2, 4)\n",
    "plt.xticks(np.arange(-1, 4))\n",
    "plt.yticks(np.arange(-5, 4))\n",
    "plt.xlabel('x')\n",
    "plt.title('함수 f(x)')\n",
    "plt.axvline(x1, c=\"b\", ls=\"--\")\n",
    "plt.axvline(x2, c=\"b\", ls=\"--\")\n",
    "\n",
    "plt.subplot(212)\n",
    "plt.plot(x, fprime(x))\n",
    "plt.xlim(-2, 4)\n",
    "plt.xticks(np.arange(-1, 4))\n",
    "plt.yticks(np.arange(-5, 12))\n",
    "plt.xlabel('x')\n",
    "plt.title(\"도함수 f'(x)\")\n",
    "\n",
    "plt.axhline(0, c='r', ls=\"--\")\n",
    "plt.axvline(x1, c=\"b\", ls=\"--\")\n",
    "plt.axvline(x2, c=\"b\", ls=\"--\")\n",
    "\n",
    "plt.tight_layout()\n",
    "plt.show()"
   ]
  },
  {
   "cell_type": "markdown",
   "metadata": {},
   "source": [
    "#### 3. 곱셈법칙\n",
    "\n",
    "어떤 함수의 형태가 두 함수를 곱한 것과 같을 때는 다음과 같이 각 개별 함수의 도함수를 사용하여 원래 함수의 도함수를 구한다. 이를 곱셈법칙이라고 한다.\n",
    "\n",
    "$$\\dfrac{d}{dx}\\big( f  \\cdot g \\big) = f \\cdot  \\dfrac{dg}{dx} + \\dfrac{df}{dx} \\cdot g $$\n"
   ]
  },
  {
   "cell_type": "markdown",
   "metadata": {},
   "source": [
    "#### 예제\n",
    "\n",
    "곱셈법칙을 사용하면 다음과 같은 함수를 미분하여,\n",
    "\n",
    "$$f = x e^x$$\n",
    "\n",
    "다음과 같은 도함수를 구한다.\n",
    "\n",
    "$$\\dfrac{df}{dx} = x e^x + e^x$$"
   ]
  },
  {
   "cell_type": "markdown",
   "metadata": {},
   "source": [
    "#### 4. 연쇄법칙\n",
    "연쇄법칙(chain rule)은 미분하고자 하는 함수의 입력 변수가 다른 함수의 출력 변수인 경우 적용할 수 있다.\n",
    "\n",
    "$$f(x) = h(g(x))$$\n",
    "\n",
    "인 경우 도함수는 다음과 같이 구한다.\n",
    "\n",
    "$$\\dfrac{df}{dx} = \\dfrac{dh}{dg} \\cdot \\dfrac{dg}{dx}$$\n"
   ]
  },
  {
   "cell_type": "markdown",
   "metadata": {},
   "source": [
    "#### 예제\n",
    "나중에 다룰 가우시안 정규분포(Gaussian normal distribution)의 확률밀도함수(probability density function)는 기본적으로 다음과 같은 형태라고 볼 수 있다.\n",
    "\n",
    "$$f = \\exp \\dfrac{(x-\\mu)^2}{\\sigma^2}$$"
   ]
  },
  {
   "cell_type": "markdown",
   "metadata": {},
   "source": [
    "이 함수의 도함수는 다음과 같이 구할 수 있다.\n",
    "\n",
    "우선 위의 함수는 다음과 같이 세 개의 함수의 조합으로 생각할 수 있다. 여기에서  𝑦 ,  𝑧 라는 중간 변수를 임시로 정의하였다."
   ]
  },
  {
   "cell_type": "markdown",
   "metadata": {},
   "source": [
    "$$f = \\exp(z) \\;,\\;\\;\\;\\; z = \\dfrac{y^2}{\\sigma^2}   \\;,\\;\\;\\;\\;   y = x-\\mu$$"
   ]
  },
  {
   "cell_type": "markdown",
   "metadata": {},
   "source": [
    "연쇄법칙을 적용하면 다음과 같다.\n",
    "\n",
    "$$\\dfrac{df}{dx} = \\dfrac{df}{dz} \\cdot \\dfrac{dz}{dy} \\cdot \\dfrac{dy}{dx}$$\n",
    "\n",
    "연쇄법칙에 사용된 각각의 도함수는 다음과 같다. 이때 임시로 사용된 중간 변수는 없앤다.\n",
    "\n",
    "$$\\dfrac{df}{dz} = \\exp(z) = \\exp \\dfrac{(x-\\mu)^2}{\\sigma^2}$$\n",
    "\n",
    "$$\\dfrac{dz}{dy} =  \\dfrac{2y}{\\sigma^2} = \\dfrac{2(x-\\mu)}{\\sigma^2}$$\n",
    "\n",
    "$$\\dfrac{dy}{dx} =  1$$\n",
    "\n",
    "이 결과를 연쇄법칙에 따라 곱하면 최종적인 도함수를 구할 수 있다.\n",
    "\n",
    "$$\\dfrac{df}{dx} =  \\dfrac{2(x-\\mu)}{\\sigma^2} \\exp \\dfrac{(x-\\mu)^2}{\\sigma^2}$$"
   ]
  },
  {
   "cell_type": "markdown",
   "metadata": {},
   "source": [
    "#### 예제\n",
    "로그 함수에 연쇄법칙을 적용하면 다음과 같은 규칙을 얻을 수 있다.\n",
    "$$\\dfrac{d}{dx} \\log f(x) = \\dfrac{f'(x)}{f(x)} $$\n"
   ]
  },
  {
   "cell_type": "markdown",
   "metadata": {},
   "source": [
    "### Practice 3.\n",
    "다음 함수를 미분하라. 이 식에서  𝑘 ,  𝑎 ,  𝑏 는 변수가 아니라 상수다.\n",
    "\n",
    "(1)\n",
    "\n",
    "$$f(x) = x^3 - 1$$\n",
    "\n",
    "(2) \n",
    "\n",
    "$$f(x) = \\log (x^{2}-3k)$$\n",
    "\n",
    "(3) \n",
    "$$f(x) =\\exp({ax^b})$$"
   ]
  },
  {
   "cell_type": "markdown",
   "metadata": {},
   "source": [
    "### 2차 도함수\n",
    "\n",
    "도함수를 한 번 더 미분하여 만들어진 함수를 2차 도함수(second derivative)라고 한다. 2차 도함수는 2개의 prime 기호( ″ )를 붙이거나  $\\dfrac{d^2}{dx^2}$ 기호로 표시한다.\n",
    "\n",
    "예를 들어  𝑦=𝑓(𝑥) 라는 함수를 두 번 미분하여 구한 2차 도함수는 다음과 같이 표기한다.\n",
    "\n",
    "\\begin{align}\n",
    "f'' = \\dfrac{d^2}{dx^2}(f) = \\dfrac{d^2}{dx^2}f = \\dfrac{d^2f}{dx^2} \n",
    "= \\dfrac{d^2}{dx^2}(y) = \\dfrac{d^2}{dx^2}y = \\dfrac{d^2y}{dx^2} \n",
    "\\end{align}"
   ]
  },
  {
   "cell_type": "markdown",
   "metadata": {},
   "source": [
    "2차 도함수는 도함수의 기울기를 나타낸다. 즉 도함수 값이 증가하면 2차 도함수 값은 양수이고, 도함수 값이 감소하면 2차 도함수 값은 음수다. 2차 도함수 값이 양수인 경우를 볼록(convex)하다고 하며 2차 도함수 값이 음수인 경우를 오목(concave)하다고 한다. 이때 볼록과 오목은 아래에서 바라 본 관점이다. 그래서 2차 도함수값을 볼록도(convexity)라고도 부른다."
   ]
  },
  {
   "cell_type": "markdown",
   "metadata": {},
   "source": [
    "#### 예제\n",
    "\n",
    "다음 그래프의 함수는  𝑓″(𝑥) 가 음수인 구간( $𝑥<1$ )에서는 오목(concave)하고  𝑓″(𝑥) 가 양수인 구간( 𝑥>1 )에서는 볼록(convex)하다."
   ]
  },
  {
   "cell_type": "code",
   "execution_count": 50,
   "metadata": {},
   "outputs": [
    {
     "data": {
      "image/png": "[encoded data removed]",
      "text/plain": [
       "<Figure size 720x720 with 3 Axes>"
      ]
     },
     "metadata": {},
     "output_type": "display_data"
    }
   ],
   "source": [
    "def fprime2(x):\n",
    "    return 6*x - 6\n",
    "\n",
    "# 2차방정식의 해\n",
    "x1, x2 = np.roots([3, -6, 1])\n",
    "\n",
    "x = np.linspace(-1, 3, 400)\n",
    "\n",
    "plt.figure(figsize=(10, 10))\n",
    "plt.subplot(311)\n",
    "plt.plot(x, f(x))\n",
    "plt.xlim(-2, 4)\n",
    "plt.xticks(np.arange(-1, 4))\n",
    "plt.yticks(np.arange(-5, 4))\n",
    "plt.title(\"함수 f(x)\")\n",
    "plt.xlabel('x')\n",
    "plt.axvline(x1, c='b', ls=\"--\")\n",
    "plt.axvline(x2, c='b', ls='--')\n",
    "plt.axvline(1, c='g', ls=\":\")\n",
    "\n",
    "plt.subplot(312)\n",
    "plt.plot(x, fprime(x))\n",
    "plt.xlim(-2, 4)\n",
    "plt.xticks(np.arange(-1, 4))\n",
    "plt.yticks(np.arange(-3, 11))\n",
    "plt.title(\"도함수 f'(x)\")\n",
    "plt.xlabel('x')\n",
    "plt.axhline(0, c='r', ls=\"--\")\n",
    "plt.axvline(x1, c='b', ls=\"--\")\n",
    "plt.axvline(x2, c='b', ls='--')\n",
    "plt.axvline(1, c='g', ls=\":\")\n",
    "\n",
    "plt.subplot(313)\n",
    "plt.plot(x, fprime2(x))\n",
    "plt.xlim(-2, 4)\n",
    "plt.xticks(np.arange(-1, 4))\n",
    "plt.title(\"2차 도함수 f''(x)\")\n",
    "plt.xlabel('x')\n",
    "plt.axhline(0, c='r', ls=\"--\")\n",
    "plt.axvline(1, c='g', ls=\":\")\n",
    "\n",
    "plt.tight_layout()\n",
    "plt.show()"
   ]
  },
  {
   "cell_type": "markdown",
   "metadata": {},
   "source": [
    "### 편미분\n",
    "만약 함수가 둘 이상의 독립변수를 가지는 다변수 함수인 경우에도 미분 즉, 기울기는 하나의 변수에 대해서만 구할 수 있다. 이를 편미분(partial differentiation)이라고 한다. 따라서 편미분의 결과로 하나의 함수에 대해 여러 개의 도함수가 나올 수 있다.\n",
    "\n",
    "편미분의 결과 즉 도함수는 독립 변수를 함수의 아랫첨자로 써서 표기하거나  ∂ (round) 기호를 사용하여 표기한다.  𝑥,𝑦  두 개의 독립 변수를 가지는 함수  𝑓(𝑥,𝑦) 의 편미분 도함수는 다음과 같이 표기한다."
   ]
  },
  {
   "cell_type": "markdown",
   "metadata": {},
   "source": [
    "$$f_x(x,y) = \\dfrac{\\partial f}{\\partial x}$$\n",
    "\n",
    "$$f_y(x,y) = \\dfrac{\\partial f}{\\partial y} $$\n"
   ]
  },
  {
   "cell_type": "markdown",
   "metadata": {},
   "source": [
    "편미분을 하는 방법은 변수가 하나인 함수의 미분과 같다. 다만 어떤 하나의 독립 변수에 대해 미분할 때는 다른 독립 변수를 상수로 생각하면 된다. 예를 들어  𝑥 ,  𝑦  라는 두 독립 변수를 가지는 함수에서  𝑥 로 편미분을 할 때는  𝑦 는 독립 변수가 아닌 상수로 생각한다. 마찬가지로  𝑦 로 편미분을 할 때는  𝑥 는 독립 변수가 아닌 상수로 생각한다.\n",
    "\n",
    "https://datascienceschool.net/upfiles/816e894c32d24a458872a18b92e384c4.png"
   ]
  },
  {
   "cell_type": "markdown",
   "metadata": {},
   "source": [
    "#### 예제\n",
    "다음은 편미분의 간단한 예다.\n",
    "\n",
    "$$f(x,y) = x^2 + 4xy + 4y^2$$\n",
    "\n",
    "\n",
    "$$f_x(x,y) = \\dfrac{\\partial f}{\\partial x} = 2x + 4y$$\n",
    "\n",
    "$$f_y(x,y) = \\dfrac{\\partial f}{\\partial y} = 4x + 8y$$"
   ]
  },
  {
   "cell_type": "markdown",
   "metadata": {},
   "source": [
    "### 다변수 함수의 연쇄법칙\n",
    "\n",
    "다변수 함수의 미분을 구할 때도 함수가 연결되어 있으면 연쇄법칙이 적용된다. 예를 들어 변수  𝑥 를 입력으로 가지는 함수가  $f_1, f_2, \\ldots, f_N$ 과 같이  𝑁 개가 있고 각각의 출력을  $y_1, y_2, \\ldots, y_N$ 이라고 하자."
   ]
  },
  {
   "cell_type": "markdown",
   "metadata": {},
   "source": [
    "\\begin{aligned}\n",
    "y_1 &= f_1(x) \\\\\n",
    "y_2 &= f_2(x) \\\\\n",
    " & \\vdots \\\\\n",
    "y_N &= f_N(x) \n",
    "\\end{aligned}"
   ]
  },
  {
   "cell_type": "markdown",
   "metadata": {},
   "source": [
    "그리고 이  𝑦1,𝑦2,…,𝑦𝑁 값에 의존하는 다른 함수  𝑔 가 있다고 하자.  𝑔 의 출력은  𝑧 라고 한다."
   ]
  },
  {
   "cell_type": "markdown",
   "metadata": {},
   "source": [
    "$$z = g(y_1, y_2, \\ldots, y_N)$$"
   ]
  },
  {
   "cell_type": "markdown",
   "metadata": {},
   "source": [
    "이때 변수  𝑥  값의 변화에 따른  𝑧  값의 변화는 다음처럼 계산한다.\n",
    "\n",
    "\\begin{align}\n",
    "\\dfrac{dz}{dx} \n",
    "= \\dfrac{\\partial z}{\\partial y_1}\\dfrac{dy_1}{dx} + \n",
    "  \\dfrac{\\partial z}{\\partial y_2}\\dfrac{dy_2}{dx} + \\cdots\n",
    "+ \\dfrac{\\partial z}{\\partial y_N}\\dfrac{dy_N}{dx} \n",
    "\\end{align}"
   ]
  },
  {
   "cell_type": "markdown",
   "metadata": {},
   "source": [
    "이번에는 함수  𝑓1,𝑓2,…,𝑓𝑁 가  𝑥1,𝑥2,…,𝑥𝑀 을 입력으로 가지는 다변수 함수라고 하자.\n",
    "\n",
    "\\begin{aligned}\n",
    "y_1 &= f_1(x_1, x_2, \\ldots, x_M) \\\\\n",
    "y_2 &= f_2(x_1, x_2, \\ldots, x_M) \\\\\n",
    " & \\vdots \\\\\n",
    "y_N &= f_N(x_1, x_2, \\ldots, x_M) \n",
    "\\end{aligned}"
   ]
  },
  {
   "cell_type": "markdown",
   "metadata": {},
   "source": [
    "이때의 변수  𝑥1  값의 변화에 따른  𝑧  값의 변화도 마찬가지로 계산할 수 있다.\n",
    "\n",
    "\\begin{align}\n",
    "\\dfrac{\\partial z}{\\partial x_1} \n",
    "= \\dfrac{\\partial z}{\\partial y_1}\\dfrac{\\partial y_1}{\\partial x_1} + \n",
    "  \\dfrac{\\partial z}{\\partial y_2}\\dfrac{\\partial y_2}{\\partial x_1} + \\cdots\n",
    "+ \\dfrac{\\partial z}{\\partial y_N}\\dfrac{\\partial y_N}{\\partial x_1}  \n",
    "\\end{align}"
   ]
  },
  {
   "cell_type": "markdown",
   "metadata": {},
   "source": [
    "### 2차 편미분\n",
    "편미분에 대해서도 2차 도함수를 정의할 수 있다. 편미분의 2차 도함수를 구할 때는 각각의 미분에 쓰이는 독립 변수를 자유롭게 선택할 수 있다.\n",
    "\n",
    "첫번째 미분과 두번째 미분에서 모두  𝑥 에 대해 미분하면 다음과 같이 표기한다.\n",
    "\n",
    "$$f_{xx}(x,y) = \\dfrac{\\partial^2 f}{\\partial x^2} $$\n"
   ]
  },
  {
   "cell_type": "markdown",
   "metadata": {},
   "source": [
    "첫번째 미분과 두번째 미분에서 모두  𝑦 에 대해 미분하면 다음과 같이 표기한다.\n",
    "$$f_{yy}(x,y) = \\dfrac{\\partial^2 f}{\\partial y^2}$$\n",
    "\n",
    "첫번째 미분에서는  𝑥 에 대해 미분하고 두번째 미분에서는  𝑦 에 대해 미분하면 다음과 같이 표기한다.\n",
    "$$f_{xy}(x,y) = \\dfrac{\\partial^2 f}{\\partial y \\partial x} $$\n"
   ]
  },
  {
   "cell_type": "markdown",
   "metadata": {},
   "source": [
    "첫번째 미분에서는  𝑦 에 대해 미분하고 두번째 미분에서는  𝑥 에 대해 미분하면 다음과 같이 표기한다.\n",
    "$$f_{yx}(x,y) = \\dfrac{\\partial^2 f}{\\partial x \\partial y}$$\n"
   ]
  },
  {
   "cell_type": "markdown",
   "metadata": {},
   "source": [
    "위 결과에서  𝑥 로 먼저 미분하고 나중에  𝑦 로 미분한 2차 도함수  𝑓𝑥𝑦 는  𝑦 로 먼저 미분하고 나중에  𝑥 로 미분한 2차 도함수  𝑓𝑦𝑥 와 같다. 만약 함수가 연속이고 미분 가능하면 미분의 순서는 상관없다. 이를 슈와르츠 정리(Schwarz's theorem)라고 한다."
   ]
  },
  {
   "cell_type": "markdown",
   "metadata": {},
   "source": [
    "#### 예제\n",
    "위 다변수 함수에 대해 일차 및 이차 편미분 도함수를 구하면 다음과 같다.\n",
    "\n",
    "$$f_{xx}(x,y) = 2$$\n",
    "\n",
    "$$f_{yy}(x,y) = 8$$\n",
    "\n",
    "$$f_{xy}(x,y) = 4$$\n",
    "\n",
    "$$f_{yx}(x,y) = 4$$\n",
    "\n",
    "슈와르츠 정리가 성립함을 알 수 있다."
   ]
  },
  {
   "cell_type": "markdown",
   "metadata": {},
   "source": [
    "### Practice 4.\n",
    "다음 함수에 대한 1차/2차 편미분  $𝑓_𝑥$ ,  $𝑓_𝑦$ ,  $𝑓_{xx}$ ,  $𝑓_{xy}$ ,  $𝑓_{yx}$ ,  $𝑓_{yy}$ 를 구하라.\n",
    "\n",
    "$$f(x, y) = \\exp{(x^2 + 2y^2)}$$"
   ]
  },
  {
   "cell_type": "markdown",
   "metadata": {},
   "source": [
    "### 테일러 전개\n",
    "함수의 기울기(1차 미분값)를 알고 있다면 함수의 모양을 다음처럼 근사화할 수 있다.  𝑥0 는 함수값과 기울기를 구하는  𝑥  위치이며 사용자가 마음대로 설정할 수 있다.\n",
    "\n",
    "$$f(x) \\approx f(x_0) + \\dfrac{df(x_0)}{dx}(x - x_0)$$\n",
    "\n",
    "이를 테일러 전개(Taylor expansion)라고 한다. 다변수 함수의 경우에는 다음처럼 테일러 전개를 한다.\n",
    "\n",
    "\\begin{align}\n",
    "f(x, y) \\approx f(x_0, y_0) \n",
    "+ \\dfrac{\\partial f(x_0, y_0)}{\\partial x}(x - x_0)\n",
    "+ \\dfrac{\\partial f(x_0, y_0)}{\\partial y}(y - y_0)\n",
    "\\end{align}"
   ]
  },
  {
   "cell_type": "markdown",
   "metadata": {},
   "source": [
    "### SymPy\n",
    "SymPy는 심볼릭 연산(symbolic operation)을 지원하는 파이썬 패키지다. 심볼릭 연산이란 사람이 연필로 계산하는 미분/적분과 동일한 형태의 연산을 말한다. 즉,  𝑥2 의 미분 연산을 수행하면 그 결과가  2𝑥 란 형태로 출력된다. 딥 러닝(deep learning) 등에 많이 사용되는 파이썬의 tensorflow 패키지나 pytorch 패키지도 기울기 함수 계산을 위해 이러한 심볼릭 연산 기능을 갖추고 있다."
   ]
  },
  {
   "cell_type": "code",
   "execution_count": 51,
   "metadata": {},
   "outputs": [],
   "source": [
    "import sympy\n",
    "\n",
    "# jupyter notebook에서 수학식 LaTeX 표현을 위해 필요\n",
    "sympy.init_printing(use_latex='mathjax')"
   ]
  },
  {
   "cell_type": "markdown",
   "metadata": {},
   "source": [
    "심볼릭 연산에서 사용하는 심볼릭 변수(symbolic variable)는 일반 프로그래밍에서 사용하는 변수와 다르다. 일반 프로그래밍에서 사용하는 변수는 이미 메모리에 씌여 있는 어떤 숫자를 기호로 쓴 것에 지나지 않지만 심볼릭 변수는 아무런 숫자도 대입이 되어 있지 않다. 따라서  𝑥2 의 미분 연산을 수행하려면 우선 SymPy의 symbols 명령을 사용하여  𝑥 라는 기호가 단순한 숫자나 벡터 변수가 아닌 심볼(symbol)임을 알려주어야 한다. 이렇게 정의된 심볼 변수는 Symbol 클래스 자료형이 된다."
   ]
  },
  {
   "cell_type": "code",
   "execution_count": 53,
   "metadata": {},
   "outputs": [
    {
     "data": {
      "text/latex": [
       "$$x$$"
      ],
      "text/plain": [
       "x"
      ]
     },
     "execution_count": 53,
     "metadata": {},
     "output_type": "execute_result"
    }
   ],
   "source": [
    "# 심볼변수 정의\n",
    "x = sympy.symbols('x') # x라는 기호가 단순한 숫자나 벡터 변수가 아닌 심볼임을 알려주어 Symbol 클래스 자료형으로 만듦\n",
    "x"
   ]
  },
  {
   "cell_type": "code",
   "execution_count": 54,
   "metadata": {},
   "outputs": [
    {
     "data": {
      "text/plain": [
       "sympy.core.symbol.Symbol"
      ]
     },
     "execution_count": 54,
     "metadata": {},
     "output_type": "execute_result"
    }
   ],
   "source": [
    "type(x)"
   ]
  },
  {
   "cell_type": "markdown",
   "metadata": {},
   "source": [
    "일단 심볼 변수를 정의하면 이를 사용하여 다음과 같이 함수를 정의한다. 이때 수학 함수는 SymPy 전용 함수를 사용해야 한다."
   ]
  },
  {
   "cell_type": "code",
   "execution_count": 55,
   "metadata": {},
   "outputs": [
    {
     "data": {
      "text/latex": [
       "$$x e^{x}$$"
      ],
      "text/plain": [
       "   x\n",
       "x⋅ℯ "
      ]
     },
     "execution_count": 55,
     "metadata": {},
     "output_type": "execute_result"
    }
   ],
   "source": [
    "# 함수 정의\n",
    "f = x * sympy.exp(x)\n",
    "f"
   ]
  },
  {
   "cell_type": "markdown",
   "metadata": {},
   "source": [
    "함수가 정의되면 diff 함수로 미분을 할 수 있다. 또한 simplify 함수를 써서 소인수분해 등을 통한 수식 정리가 가능하다."
   ]
  },
  {
   "cell_type": "code",
   "execution_count": 56,
   "metadata": {},
   "outputs": [
    {
     "data": {
      "text/latex": [
       "$$x e^{x} + e^{x}$$"
      ],
      "text/plain": [
       "   x    x\n",
       "x⋅ℯ  + ℯ "
      ]
     },
     "execution_count": 56,
     "metadata": {},
     "output_type": "execute_result"
    }
   ],
   "source": [
    "# 미분\n",
    "sympy.diff(f)"
   ]
  },
  {
   "cell_type": "code",
   "execution_count": 57,
   "metadata": {},
   "outputs": [
    {
     "data": {
      "text/latex": [
       "$$\\left(x + 1\\right) e^{x}$$"
      ],
      "text/plain": [
       "         x\n",
       "(x + 1)⋅ℯ "
      ]
     },
     "execution_count": 57,
     "metadata": {},
     "output_type": "execute_result"
    }
   ],
   "source": [
    "# 소인수분해 등을 통한 수식 정리\n",
    "sympy.simplify(sympy.diff(f))"
   ]
  },
  {
   "cell_type": "markdown",
   "metadata": {},
   "source": [
    "편미분을 하는 경우에는 어떤 변수로 미분하는지를 diff 함수에 명시해야 한다. symbols 명령을 사용할 때는 인수로 주는 문자열에 여러개의 심볼 변수를 동시에 넣을 수도 있다."
   ]
  },
  {
   "cell_type": "code",
   "execution_count": 62,
   "metadata": {},
   "outputs": [
    {
     "data": {
      "text/latex": [
       "$$x^{2} + 4 x y + 4 y^{2}$$"
      ],
      "text/plain": [
       " 2              2\n",
       "x  + 4⋅x⋅y + 4⋅y "
      ]
     },
     "execution_count": 62,
     "metadata": {},
     "output_type": "execute_result"
    }
   ],
   "source": [
    "# 편미분의 경우\n",
    "x, y = sympy.symbols('x y')\n",
    "f = x ** 2 + 4 * x * y + 4 * y ** 2\n",
    "f"
   ]
  },
  {
   "cell_type": "code",
   "execution_count": 63,
   "metadata": {},
   "outputs": [
    {
     "data": {
      "text/latex": [
       "$$2 x + 4 y$$"
      ],
      "text/plain": [
       "2⋅x + 4⋅y"
      ]
     },
     "execution_count": 63,
     "metadata": {},
     "output_type": "execute_result"
    }
   ],
   "source": [
    "# x에 대해 편미분\n",
    "sympy.diff(f, x)"
   ]
  },
  {
   "cell_type": "code",
   "execution_count": 64,
   "metadata": {},
   "outputs": [
    {
     "data": {
      "text/latex": [
       "$$4 x + 8 y$$"
      ],
      "text/plain": [
       "4⋅x + 8⋅y"
      ]
     },
     "execution_count": 64,
     "metadata": {},
     "output_type": "execute_result"
    }
   ],
   "source": [
    "# y에 대해 편미분\n",
    "sympy.diff(f, y)"
   ]
  },
  {
   "cell_type": "markdown",
   "metadata": {},
   "source": [
    "상수 심볼을 포함하는 함수를 미분하는 경우, SymPy는 어떤 심볼이 상수이고 어떤 심볼이 변수인지 알 수 없기 때문에 편미분인 것처럼 입력 변수를 지정해야 한다."
   ]
  },
  {
   "cell_type": "code",
   "execution_count": 65,
   "metadata": {},
   "outputs": [
    {
     "data": {
      "text/latex": [
       "$$e^{\\frac{1}{\\sigma^{2}} \\left(- \\mu + x\\right)^{2}}$$"
      ],
      "text/plain": [
       "         2\n",
       " (-μ + x) \n",
       " ─────────\n",
       "      2   \n",
       "     σ    \n",
       "ℯ         "
      ]
     },
     "execution_count": 65,
     "metadata": {},
     "output_type": "execute_result"
    }
   ],
   "source": [
    "x, mu, sigma = sympy.symbols('x mu sigma')\n",
    "f = sympy.exp((x - mu)**2 / sigma ** 2)\n",
    "f"
   ]
  },
  {
   "cell_type": "code",
   "execution_count": 66,
   "metadata": {},
   "outputs": [
    {
     "data": {
      "text/latex": [
       "$$\\frac{1}{\\sigma^{2}} \\left(- 2 \\mu + 2 x\\right) e^{\\frac{1}{\\sigma^{2}} \\left(- \\mu + x\\right)^{2}}$$"
      ],
      "text/plain": [
       "                      2\n",
       "              (-μ + x) \n",
       "              ─────────\n",
       "                   2   \n",
       "                  σ    \n",
       "(-2⋅μ + 2⋅x)⋅ℯ         \n",
       "───────────────────────\n",
       "            2          \n",
       "           σ           "
      ]
     },
     "execution_count": 66,
     "metadata": {},
     "output_type": "execute_result"
    }
   ],
   "source": [
    "# x에 대해 편미분\n",
    "sympy.diff(f, x)"
   ]
  },
  {
   "cell_type": "code",
   "execution_count": 67,
   "metadata": {},
   "outputs": [
    {
     "data": {
      "text/latex": [
       "$$\\frac{2}{\\sigma^{2}} \\left(- \\mu + x\\right) e^{\\frac{1}{\\sigma^{2}} \\left(\\mu - x\\right)^{2}}$$"
      ],
      "text/plain": [
       "                   2\n",
       "            (μ - x) \n",
       "            ────────\n",
       "                2   \n",
       "               σ    \n",
       "2⋅(-μ + x)⋅ℯ        \n",
       "────────────────────\n",
       "          2         \n",
       "         σ          "
      ]
     },
     "execution_count": 67,
     "metadata": {},
     "output_type": "execute_result"
    }
   ],
   "source": [
    "sympy.simplify(sympy.diff(f, x))"
   ]
  },
  {
   "cell_type": "markdown",
   "metadata": {},
   "source": [
    "이차 도함수는 다음처럼 구한다."
   ]
  },
  {
   "cell_type": "code",
   "execution_count": 69,
   "metadata": {},
   "outputs": [
    {
     "data": {
      "text/latex": [
       "$$\\frac{2}{\\sigma^{2}} \\left(1 + \\frac{2}{\\sigma^{2}} \\left(\\mu - x\\right)^{2}\\right) e^{\\frac{1}{\\sigma^{2}} \\left(\\mu - x\\right)^{2}}$$"
      ],
      "text/plain": [
       "                           2\n",
       "                    (μ - x) \n",
       "                    ────────\n",
       "  ⎛             2⎞      2   \n",
       "  ⎜    2⋅(μ - x) ⎟     σ    \n",
       "2⋅⎜1 + ──────────⎟⋅ℯ        \n",
       "  ⎜         2    ⎟          \n",
       "  ⎝        σ     ⎠          \n",
       "────────────────────────────\n",
       "              2             \n",
       "             σ              "
      ]
     },
     "execution_count": 69,
     "metadata": {},
     "output_type": "execute_result"
    }
   ],
   "source": [
    "sympy.diff(f, x, x)"
   ]
  },
  {
   "cell_type": "markdown",
   "metadata": {},
   "source": [
    "### Practice 5.\n",
    "다음 함수를 미분한 도함수를 SymPy를 사용하여 구하라. 여기에서  𝑘 ,  𝑎 ,  𝑏 는 변수가 아니라 상수다.\n",
    "\n",
    "(1)\n",
    "$$ f(x) = x^3 - 1$$\n",
    "(2) \n",
    "$$f(x) = \\log (x^{2}-3k)$$\n",
    "(3) \n",
    "$$f(x) =\\exp({ax^b})$$"
   ]
  },
  {
   "cell_type": "code",
   "execution_count": 70,
   "metadata": {},
   "outputs": [
    {
     "data": {
      "text/latex": [
       "$$x^{3} - 1$$"
      ],
      "text/plain": [
       " 3    \n",
       "x  - 1"
      ]
     },
     "execution_count": 70,
     "metadata": {},
     "output_type": "execute_result"
    }
   ],
   "source": [
    "x = sympy.symbols('x')\n",
    "f = x**3 - 1\n",
    "f"
   ]
  },
  {
   "cell_type": "code",
   "execution_count": 71,
   "metadata": {},
   "outputs": [
    {
     "data": {
      "text/latex": [
       "$$3 x^{2}$$"
      ],
      "text/plain": [
       "   2\n",
       "3⋅x "
      ]
     },
     "execution_count": 71,
     "metadata": {},
     "output_type": "execute_result"
    }
   ],
   "source": [
    "sympy.diff(f)"
   ]
  },
  {
   "cell_type": "code",
   "execution_count": 72,
   "metadata": {},
   "outputs": [
    {
     "data": {
      "text/latex": [
       "$$\\log{\\left (- 3 k + x^{2} \\right )}$$"
      ],
      "text/plain": [
       "   ⎛        2⎞\n",
       "log⎝-3⋅k + x ⎠"
      ]
     },
     "execution_count": 72,
     "metadata": {},
     "output_type": "execute_result"
    }
   ],
   "source": [
    "x, k = sympy.symbols('x k')\n",
    "f = sympy.log(x ** 2 - 3 * k)\n",
    "f"
   ]
  },
  {
   "cell_type": "code",
   "execution_count": 73,
   "metadata": {},
   "outputs": [
    {
     "data": {
      "text/latex": [
       "$$\\frac{2 x}{- 3 k + x^{2}}$$"
      ],
      "text/plain": [
       "   2⋅x   \n",
       "─────────\n",
       "        2\n",
       "-3⋅k + x "
      ]
     },
     "execution_count": 73,
     "metadata": {},
     "output_type": "execute_result"
    }
   ],
   "source": [
    "sympy.diff(f, x)"
   ]
  },
  {
   "cell_type": "code",
   "execution_count": 74,
   "metadata": {},
   "outputs": [
    {
     "data": {
      "text/latex": [
       "$$e^{a x^{b}}$$"
      ],
      "text/plain": [
       "    b\n",
       " a⋅x \n",
       "ℯ    "
      ]
     },
     "execution_count": 74,
     "metadata": {},
     "output_type": "execute_result"
    }
   ],
   "source": [
    "x, a, b = sympy.symbols('x a b')\n",
    "f = sympy.exp(a * x ** b)\n",
    "f"
   ]
  },
  {
   "cell_type": "code",
   "execution_count": 75,
   "metadata": {},
   "outputs": [
    {
     "data": {
      "text/latex": [
       "$$a b x^{b - 1} e^{a x^{b}}$$"
      ],
      "text/plain": [
       "               b\n",
       "     b - 1  a⋅x \n",
       "a⋅b⋅x     ⋅ℯ    "
      ]
     },
     "execution_count": 75,
     "metadata": {},
     "output_type": "execute_result"
    }
   ],
   "source": [
    "sympy.simplify(sympy.diff(f, x))"
   ]
  },
  {
   "cell_type": "markdown",
   "metadata": {},
   "source": [
    "### Practice 6.\n",
    "다음 함수에 대한 1차/2차 편미분  𝑓𝑥 ,  𝑓𝑦 ,  𝑓𝑥𝑥 ,  𝑓𝑥𝑦 ,  𝑓𝑦𝑥 ,  𝑓𝑦𝑦 를 SymPy로 구하라.\n",
    "\n",
    "$$f(x, y) = \\exp{(x^2 + 2y^2)}$$"
   ]
  },
  {
   "cell_type": "code",
   "execution_count": 76,
   "metadata": {},
   "outputs": [
    {
     "data": {
      "text/latex": [
       "$$e^{x^{2} + 2 y^{2}}$$"
      ],
      "text/plain": [
       "  2      2\n",
       " x  + 2⋅y \n",
       "ℯ         "
      ]
     },
     "execution_count": 76,
     "metadata": {},
     "output_type": "execute_result"
    }
   ],
   "source": [
    "x, y = sympy.symbols('x y')\n",
    "f = sympy.exp(x ** 2 + 2 * y ** 2)\n",
    "f"
   ]
  },
  {
   "cell_type": "code",
   "execution_count": 78,
   "metadata": {},
   "outputs": [
    {
     "data": {
      "text/latex": [
       "$$2 x e^{x^{2} + 2 y^{2}}$$"
      ],
      "text/plain": [
       "      2      2\n",
       "     x  + 2⋅y \n",
       "2⋅x⋅ℯ         "
      ]
     },
     "execution_count": 78,
     "metadata": {},
     "output_type": "execute_result"
    }
   ],
   "source": [
    "sympy.simplify(sympy.diff(f, x))"
   ]
  },
  {
   "cell_type": "code",
   "execution_count": 79,
   "metadata": {},
   "outputs": [
    {
     "data": {
      "text/latex": [
       "$$4 y e^{x^{2} + 2 y^{2}}$$"
      ],
      "text/plain": [
       "      2      2\n",
       "     x  + 2⋅y \n",
       "4⋅y⋅ℯ         "
      ]
     },
     "execution_count": 79,
     "metadata": {},
     "output_type": "execute_result"
    }
   ],
   "source": [
    "sympy.simplify(sympy.diff(f, y))"
   ]
  },
  {
   "cell_type": "code",
   "execution_count": 80,
   "metadata": {},
   "outputs": [
    {
     "data": {
      "text/latex": [
       "$$\\left(4 x^{2} + 2\\right) e^{x^{2} + 2 y^{2}}$$"
      ],
      "text/plain": [
       "             2      2\n",
       "⎛   2    ⎞  x  + 2⋅y \n",
       "⎝4⋅x  + 2⎠⋅ℯ         "
      ]
     },
     "execution_count": 80,
     "metadata": {},
     "output_type": "execute_result"
    }
   ],
   "source": [
    "sympy.simplify(sympy.diff(f, x, x))"
   ]
  },
  {
   "cell_type": "code",
   "execution_count": 81,
   "metadata": {},
   "outputs": [
    {
     "data": {
      "text/latex": [
       "$$8 x y e^{x^{2} + 2 y^{2}}$$"
      ],
      "text/plain": [
       "        2      2\n",
       "       x  + 2⋅y \n",
       "8⋅x⋅y⋅ℯ         "
      ]
     },
     "execution_count": 81,
     "metadata": {},
     "output_type": "execute_result"
    }
   ],
   "source": [
    "sympy.simplify(sympy.diff(f, x, y))"
   ]
  },
  {
   "cell_type": "code",
   "execution_count": 82,
   "metadata": {},
   "outputs": [
    {
     "data": {
      "text/latex": [
       "$$\\left(16 y^{2} + 4\\right) e^{x^{2} + 2 y^{2}}$$"
      ],
      "text/plain": [
       "              2      2\n",
       "⎛    2    ⎞  x  + 2⋅y \n",
       "⎝16⋅y  + 4⎠⋅ℯ         "
      ]
     },
     "execution_count": 82,
     "metadata": {},
     "output_type": "execute_result"
    }
   ],
   "source": [
    "sympy.simplify(sympy.diff(f, y, y))"
   ]
  },
  {
   "cell_type": "code",
   "execution_count": 83,
   "metadata": {},
   "outputs": [
    {
     "data": {
      "text/latex": [
       "$$8 x y e^{x^{2} + 2 y^{2}}$$"
      ],
      "text/plain": [
       "        2      2\n",
       "       x  + 2⋅y \n",
       "8⋅x⋅y⋅ℯ         "
      ]
     },
     "execution_count": 83,
     "metadata": {},
     "output_type": "execute_result"
    }
   ],
   "source": [
    "sympy.simplify(sympy.diff(f, y, x))"
   ]
  },
  {
   "cell_type": "code",
   "execution_count": null,
   "metadata": {},
   "outputs": [],
   "source": []
  }
 ],
 "metadata": {
  "kernelspec": {
   "display_name": "Python 3",
   "language": "python",
   "name": "python3"
  },
  "language_info": {
   "codemirror_mode": {
    "name": "ipython",
    "version": 3
   },
   "file_extension": ".py",
   "mimetype": "text/x-python",
   "name": "python",
   "nbconvert_exporter": "python",
   "pygments_lexer": "ipython3",
   "version": "3.5.1"
  }
 },
 "nbformat": 4,
 "nbformat_minor": 2
}
