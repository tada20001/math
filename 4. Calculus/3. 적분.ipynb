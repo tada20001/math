{
 "cells": [
  {
   "cell_type": "markdown",
   "metadata": {},
   "source": [
    "적분(integral)은 미분과 반대되는 개념이다. 적분에는 부정적분(indefinite integral)과 정적분(definite integral)이 있다."
   ]
  },
  {
   "cell_type": "markdown",
   "metadata": {},
   "source": [
    "### 부정적분\n",
    "부정적분(indefinite integral)은 정확하게 미분과 반대되는 개념, 즉 반-미분(anti-derivative)이다. 함수  𝑓(𝑥) 가 어떤 함수를 미분하여 나온 결과인 도함수라고 가정하고 이 도함수  𝑓(𝑥) 에 대한 미분되기 전의 원래의 함수를 찾는 과정(integration), 또는 그 결과(integral)를 말한다.\n",
    "\n",
    "부정적분으로 찾은 원래의 함수를 표기할 때는 도함수를 대문자화(capitalization)하여 표기할 때도 있지만 다음처럼  ∫  기호(integral이라고 읽는다.)로 나타내는 것이 일반적이다. 여기에서 도함수가  𝑓(𝑥) 이므로 미분하기 전의 함수를  𝐹(𝑥)  또는  ∫𝑓(𝑥)𝑑𝑥 로 쓴다.  𝑑𝑥 는  𝑥 라는 변수로 적분했다는 것을 나타내는 기호로 편미분에 대응하는 적분을 표기할 때 필요하다.\n",
    "\n",
    "$$\\dfrac{dF(x)}{dx} = f(x) \\;\\;\\leftrightarrow\\;\\; F(x) = \\int_{}^{} f(x) dx + C$$ \n"
   ]
  },
  {
   "cell_type": "markdown",
   "metadata": {},
   "source": [
    "𝐶 는 상수항을 뜻한다. 상수항은 미분하면 0이 되므로 부정적분은 무한 개의 해가 있다.  𝐶 는 너무 당연하므로 생략하고 쓰는 경우도 있다."
   ]
  },
  {
   "cell_type": "markdown",
   "metadata": {},
   "source": [
    "### Practice 1.\n",
    "다음 부정적분을 구하라.\n",
    "\n",
    "(1) \n",
    "$$\\int 3x^2 dx$$\n",
    "(2) \n",
    "$$\\int (3x^2 - 6x + 1)dx$$\n",
    "(3)\n",
    "$$\\int \\left( 2 + 6x + 4\\exp(x) + \\dfrac{5}{x} \\right) dx$$\n",
    "(4)\n",
    "$$\\int \\frac{2x}{x^2 - 1} dx$$"
   ]
  },
  {
   "cell_type": "markdown",
   "metadata": {},
   "source": [
    "### 편미분의 부정적분\n",
    "편미분을 한 도함수에서 원래의 함수를 찾을 수도 있다. 다음 식은  𝑓(𝑥,𝑦) 가 원래의 함수를 어떻게 미분했는지에 따라 원래의 함수를 표기하는 방법이 달라진다는 것을 나타낸다.\n",
    "\n",
    "만약  𝑓(𝑥,𝑦) 가 함수  𝐹1(𝑥,𝑦) 를  𝑥 로 편미분한 함수였다면 이 함수를 찾는 식은 다음과 같다."
   ]
  },
  {
   "cell_type": "markdown",
   "metadata": {},
   "source": [
    "$$\\dfrac{\\partial F_1(x, y)}{\\partial x} = f(x, y) \\; \\leftrightarrow \\; F_1(x, y) = \\int_{}^{} f(x, y) dx + C(y)$$\n"
   ]
  },
  {
   "cell_type": "markdown",
   "metadata": {},
   "source": [
    "주의할 점은 상수항  𝐶(𝑦) 가  𝑦 의 함수일 수 있다는 점이다.  𝐶(𝑦) 는  𝑥 없이  𝑦 만으로 이루어진 함수를 뜻한다.  𝑦 만의 함수는  𝑥 로 편미분하면 0이 되기 때문이다. 물론 반드시  𝑦 의 함수이어야 하는 것은 아니고 단순한 숫자 상수일 수도 있다.\n",
    "\n",
    "마찬가지로 만약  𝑓(𝑥,𝑦) 가 함수  𝐹2(𝑥,𝑦) 를  𝑦 로 편미분한 함수였다면 이 함수를 찾는 식은 다음과 같다."
   ]
  },
  {
   "cell_type": "markdown",
   "metadata": {},
   "source": [
    "$$\\dfrac{\\partial F_2(x, y)}{\\partial y} = f(x, y) \\; \\leftrightarrow \\; F_2(x, y) = \\int_{}^{} f(x, y) dy + C(x)$$  \n"
   ]
  },
  {
   "cell_type": "markdown",
   "metadata": {},
   "source": [
    "상수항  𝐶(𝑥) 가  𝑥 의 함수라는 점에 주의하라."
   ]
  },
  {
   "cell_type": "markdown",
   "metadata": {},
   "source": [
    "### Practice 2.\n",
    "다음 부정적분을 구하라.\n",
    "\n",
    "(1)\n",
    "$$\\int \\left( 1 + xy \\right) dx$$\n",
    "\n",
    "(2)\n",
    "$$\\int xy\\exp({x^2 + y^2}) dx$$\n"
   ]
  },
  {
   "cell_type": "markdown",
   "metadata": {},
   "source": [
    "### 다차 도함수와 다중적분\n",
    "미분을 여러번 한 결과로 나온 다차 도함수로부터 원래의 함수를 찾아내려면 여러번 적분을 하는 다중적분(multiple integration)이 필요하다.\n",
    "\n",
    "예를 들어  𝑓(𝑥,𝑦) 가 함수  𝐹3(𝑥,𝑦) 를  𝑥 로 한번 편미분한 후  𝑦 로 다시 편미분하여 나온 이차 도함수라고 하자.\n",
    "\n",
    "이 이차 도함수에서 원래의 함수를 찾으려면  𝑦 로 적분한 후 다시  𝑥 로 적분해야 한다. 식으로는 다음처럼 나타낸다.\n",
    "\n",
    "\\begin{align}\n",
    "\\dfrac{\\partial^2 F_3(x,y)}{\\partial x \\partial y} \n",
    "= f(x, y) \\; \\leftrightarrow \\; F_3(x, y) \n",
    "= \\int_x \\int_y f(x, y) dydx\n",
    "\\end{align}\n",
    "\n",
    "적분기호 아래의 변수명을 생략하고 다음처럼 표기할 수도 있다.\n",
    "\n",
    "\\begin{align}\n",
    "\\iint f(x, y) dydx\n",
    "\\end{align}"
   ]
  },
  {
   "cell_type": "markdown",
   "metadata": {},
   "source": [
    "### Practice 3.\n",
    "다음 부정적분을 구하라.\n",
    "$$\\iint xy \\exp({x^2 + y^2}) dxdy$$"
   ]
  },
  {
   "cell_type": "markdown",
   "metadata": {},
   "source": [
    "### SymPy를 이용한 부정적분\n",
    "SymPy의 integrate 명령을 사용하면 부정적분을 할 수 있다. 상수항은 반환하지 않는다."
   ]
  },
  {
   "cell_type": "code",
   "execution_count": 1,
   "metadata": {},
   "outputs": [],
   "source": [
    "import sympy\n",
    "\n",
    "sympy.init_printing(use_latex='mathjax')"
   ]
  },
  {
   "cell_type": "code",
   "execution_count": 2,
   "metadata": {},
   "outputs": [
    {
     "data": {
      "text/latex": [
       "$$x e^{x} + e^{x}$$"
      ],
      "text/plain": [
       "   x    x\n",
       "x⋅ℯ  + ℯ "
      ]
     },
     "execution_count": 2,
     "metadata": {},
     "output_type": "execute_result"
    }
   ],
   "source": [
    "x = sympy.symbols('x')\n",
    "f = x * sympy.exp(x) + sympy.exp(x)\n",
    "f"
   ]
  },
  {
   "cell_type": "code",
   "execution_count": 3,
   "metadata": {},
   "outputs": [
    {
     "data": {
      "text/latex": [
       "$$x e^{x}$$"
      ],
      "text/plain": [
       "   x\n",
       "x⋅ℯ "
      ]
     },
     "execution_count": 3,
     "metadata": {},
     "output_type": "execute_result"
    }
   ],
   "source": [
    "# 적분\n",
    "sympy.integrate(f)"
   ]
  },
  {
   "cell_type": "code",
   "execution_count": 4,
   "metadata": {},
   "outputs": [
    {
     "data": {
      "text/latex": [
       "$$2 x + y$$"
      ],
      "text/plain": [
       "2⋅x + y"
      ]
     },
     "execution_count": 4,
     "metadata": {},
     "output_type": "execute_result"
    }
   ],
   "source": [
    "x, y = sympy.symbols('x y')\n",
    "f = 2 * x + y\n",
    "f"
   ]
  },
  {
   "cell_type": "code",
   "execution_count": 5,
   "metadata": {},
   "outputs": [
    {
     "data": {
      "text/latex": [
       "$$x^{2} + x y$$"
      ],
      "text/plain": [
       " 2      \n",
       "x  + x⋅y"
      ]
     },
     "execution_count": 5,
     "metadata": {},
     "output_type": "execute_result"
    }
   ],
   "source": [
    "sympy.integrate(f, x)"
   ]
  },
  {
   "cell_type": "code",
   "execution_count": 6,
   "metadata": {},
   "outputs": [
    {
     "data": {
      "text/latex": [
       "$$x^{2} y + \\frac{x y^{2}}{2}$$"
      ],
      "text/plain": [
       "          2\n",
       " 2     x⋅y \n",
       "x ⋅y + ────\n",
       "        2  "
      ]
     },
     "execution_count": 6,
     "metadata": {},
     "output_type": "execute_result"
    }
   ],
   "source": [
    "sympy.integrate(f, x, y)"
   ]
  },
  {
   "cell_type": "code",
   "execution_count": 7,
   "metadata": {},
   "outputs": [
    {
     "data": {
      "text/latex": [
       "$$x^{2} y + \\frac{x y^{2}}{2}$$"
      ],
      "text/plain": [
       "          2\n",
       " 2     x⋅y \n",
       "x ⋅y + ────\n",
       "        2  "
      ]
     },
     "execution_count": 7,
     "metadata": {},
     "output_type": "execute_result"
    }
   ],
   "source": [
    "sympy.integrate(f, y, x)"
   ]
  },
  {
   "cell_type": "markdown",
   "metadata": {},
   "source": [
    "### Practice 4."
   ]
  },
  {
   "cell_type": "code",
   "execution_count": 8,
   "metadata": {},
   "outputs": [
    {
     "data": {
      "text/latex": [
       "$$3 x^{2}$$"
      ],
      "text/plain": [
       "   2\n",
       "3⋅x "
      ]
     },
     "execution_count": 8,
     "metadata": {},
     "output_type": "execute_result"
    }
   ],
   "source": [
    "x = sympy.symbols('x')\n",
    "f = 3 * x**2\n",
    "f"
   ]
  },
  {
   "cell_type": "code",
   "execution_count": 9,
   "metadata": {},
   "outputs": [
    {
     "data": {
      "text/latex": [
       "$$x^{3}$$"
      ],
      "text/plain": [
       " 3\n",
       "x "
      ]
     },
     "execution_count": 9,
     "metadata": {},
     "output_type": "execute_result"
    }
   ],
   "source": [
    "sympy.integrate(f)"
   ]
  },
  {
   "cell_type": "code",
   "execution_count": 10,
   "metadata": {},
   "outputs": [
    {
     "data": {
      "text/latex": [
       "$$3 x^{2} - 6 x + 1$$"
      ],
      "text/plain": [
       "   2          \n",
       "3⋅x  - 6⋅x + 1"
      ]
     },
     "execution_count": 10,
     "metadata": {},
     "output_type": "execute_result"
    }
   ],
   "source": [
    "f = 3 * x**2 - 6 * x + 1\n",
    "f"
   ]
  },
  {
   "cell_type": "code",
   "execution_count": 11,
   "metadata": {},
   "outputs": [
    {
     "data": {
      "text/latex": [
       "$$x^{3} - 3 x^{2} + x$$"
      ],
      "text/plain": [
       " 3      2    \n",
       "x  - 3⋅x  + x"
      ]
     },
     "execution_count": 11,
     "metadata": {},
     "output_type": "execute_result"
    }
   ],
   "source": [
    "sympy.integrate(f)"
   ]
  },
  {
   "cell_type": "code",
   "execution_count": 12,
   "metadata": {},
   "outputs": [
    {
     "data": {
      "text/latex": [
       "$$6 x + 4 e^{x} + 2 + \\frac{5}{x}$$"
      ],
      "text/plain": [
       "         x       5\n",
       "6⋅x + 4⋅ℯ  + 2 + ─\n",
       "                 x"
      ]
     },
     "execution_count": 12,
     "metadata": {},
     "output_type": "execute_result"
    }
   ],
   "source": [
    "f = 2 + 6 * x + 4 * sympy.exp(x) + 5 * (1 / x)\n",
    "f"
   ]
  },
  {
   "cell_type": "code",
   "execution_count": 13,
   "metadata": {},
   "outputs": [
    {
     "data": {
      "text/latex": [
       "$$3 x^{2} + 2 x + 4 e^{x} + 5 \\log{\\left (x \\right )}$$"
      ],
      "text/plain": [
       "   2            x           \n",
       "3⋅x  + 2⋅x + 4⋅ℯ  + 5⋅log(x)"
      ]
     },
     "execution_count": 13,
     "metadata": {},
     "output_type": "execute_result"
    }
   ],
   "source": [
    "sympy.integrate(f)"
   ]
  },
  {
   "cell_type": "code",
   "execution_count": 14,
   "metadata": {},
   "outputs": [
    {
     "data": {
      "text/latex": [
       "$$\\frac{2 x}{x^{2} - 1}$$"
      ],
      "text/plain": [
       " 2⋅x  \n",
       "──────\n",
       " 2    \n",
       "x  - 1"
      ]
     },
     "execution_count": 14,
     "metadata": {},
     "output_type": "execute_result"
    }
   ],
   "source": [
    "f = 2 * x /(x ** 2 - 1)\n",
    "f"
   ]
  },
  {
   "cell_type": "code",
   "execution_count": 15,
   "metadata": {},
   "outputs": [
    {
     "data": {
      "text/latex": [
       "$$\\log{\\left (x^{2} - 1 \\right )}$$"
      ],
      "text/plain": [
       "   ⎛ 2    ⎞\n",
       "log⎝x  - 1⎠"
      ]
     },
     "execution_count": 15,
     "metadata": {},
     "output_type": "execute_result"
    }
   ],
   "source": [
    "sympy.integrate(f)"
   ]
  },
  {
   "cell_type": "code",
   "execution_count": 16,
   "metadata": {},
   "outputs": [
    {
     "data": {
      "text/latex": [
       "$$x y + 1$$"
      ],
      "text/plain": [
       "x⋅y + 1"
      ]
     },
     "execution_count": 16,
     "metadata": {},
     "output_type": "execute_result"
    }
   ],
   "source": [
    "x, y = sympy.symbols('x y')\n",
    "f = 1 + x * y\n",
    "f"
   ]
  },
  {
   "cell_type": "code",
   "execution_count": 17,
   "metadata": {},
   "outputs": [
    {
     "data": {
      "text/latex": [
       "$$\\frac{x^{2} y}{2} + x$$"
      ],
      "text/plain": [
       " 2      \n",
       "x ⋅y    \n",
       "──── + x\n",
       " 2      "
      ]
     },
     "execution_count": 17,
     "metadata": {},
     "output_type": "execute_result"
    }
   ],
   "source": [
    "sympy.integrate(f, x)"
   ]
  },
  {
   "cell_type": "code",
   "execution_count": 18,
   "metadata": {},
   "outputs": [
    {
     "data": {
      "text/latex": [
       "$$\\frac{x y^{2}}{2} + y$$"
      ],
      "text/plain": [
       "   2    \n",
       "x⋅y     \n",
       "──── + y\n",
       " 2      "
      ]
     },
     "execution_count": 18,
     "metadata": {},
     "output_type": "execute_result"
    }
   ],
   "source": [
    "sympy.integrate(f, y)"
   ]
  },
  {
   "cell_type": "code",
   "execution_count": 19,
   "metadata": {},
   "outputs": [
    {
     "data": {
      "text/latex": [
       "$$x y e^{x^{2} + y^{2}}$$"
      ],
      "text/plain": [
       "      2    2\n",
       "     x  + y \n",
       "x⋅y⋅ℯ       "
      ]
     },
     "execution_count": 19,
     "metadata": {},
     "output_type": "execute_result"
    }
   ],
   "source": [
    "f = x * y * sympy.exp(x ** 2 + y ** 2)\n",
    "f"
   ]
  },
  {
   "cell_type": "code",
   "execution_count": 20,
   "metadata": {},
   "outputs": [
    {
     "data": {
      "text/latex": [
       "$$\\frac{y}{2} e^{x^{2} + y^{2}}$$"
      ],
      "text/plain": [
       "    2    2\n",
       "   x  + y \n",
       "y⋅ℯ       \n",
       "──────────\n",
       "    2     "
      ]
     },
     "execution_count": 20,
     "metadata": {},
     "output_type": "execute_result"
    }
   ],
   "source": [
    "sympy.integrate(f, x)"
   ]
  },
  {
   "cell_type": "code",
   "execution_count": 21,
   "metadata": {},
   "outputs": [
    {
     "data": {
      "text/latex": [
       "$$\\frac{x}{2} e^{x^{2} + y^{2}}$$"
      ],
      "text/plain": [
       "    2    2\n",
       "   x  + y \n",
       "x⋅ℯ       \n",
       "──────────\n",
       "    2     "
      ]
     },
     "execution_count": 21,
     "metadata": {},
     "output_type": "execute_result"
    }
   ],
   "source": [
    "sympy.integrate(f, y)"
   ]
  },
  {
   "cell_type": "code",
   "execution_count": 22,
   "metadata": {},
   "outputs": [
    {
     "data": {
      "text/latex": [
       "$$\\frac{1}{4} e^{x^{2} + y^{2}}$$"
      ],
      "text/plain": [
       "  2    2\n",
       " x  + y \n",
       "ℯ       \n",
       "────────\n",
       "   4    "
      ]
     },
     "execution_count": 22,
     "metadata": {},
     "output_type": "execute_result"
    }
   ],
   "source": [
    "sympy.integrate(f, y, x)"
   ]
  },
  {
   "cell_type": "markdown",
   "metadata": {},
   "source": [
    "### 정적분\n",
    "정적분(definite integral)은 독립변수  𝑥 가 어떤 구간  [𝑎,𝑏]  사이일 때 그 구간에서 함수  𝑓(𝑥) 의 값과 수평선(x 축)이 이루는 면적을 구하는 행위(integration) 혹은 그 값(integral)을 말한다. 수학 기호로는 다음과 같이 표기한다.\n",
    "\n",
    "$$\\int_{a}^{b} f(x) dx $$\n"
   ]
  },
  {
   "cell_type": "code",
   "execution_count": 24,
   "metadata": {},
   "outputs": [],
   "source": [
    "import matplotlib.pylab as plt\n",
    "import matplotlib as mpl\n",
    "import matplotlib.font_manager as fm\n",
    "import seaborn as sns\n",
    "sns.set_style(\"whitegrid\")"
   ]
  },
  {
   "cell_type": "code",
   "execution_count": 25,
   "metadata": {},
   "outputs": [],
   "source": [
    "mpl.rcParams['axes.unicode_minus'] = False\n",
    "path = \"/Library/Fonts/NanumGothic.otf\"\n",
    "font_name = fm.FontProperties(fname=path, size=15).get_name()\n",
    "\n",
    "plt.rc('font', family=font_name)"
   ]
  },
  {
   "cell_type": "code",
   "execution_count": 26,
   "metadata": {},
   "outputs": [],
   "source": [
    "from matplotlib.patches import Polygon"
   ]
  },
  {
   "cell_type": "code",
   "execution_count": 39,
   "metadata": {},
   "outputs": [
    {
     "data": {
      "image/png": "[encoded data removed]",
      "text/plain": [
       "<Figure size 432x288 with 1 Axes>"
      ]
     },
     "metadata": {},
     "output_type": "display_data"
    }
   ],
   "source": [
    "import numpy as np\n",
    "\n",
    "def f(x):\n",
    "    return x ** 3 - 3 * x ** 2 + 6\n",
    "\n",
    "a, b = 0, 2\n",
    "x = np.linspace(a - 0.5, b + 0.5, 50)\n",
    "y = f(x)\n",
    "\n",
    "ax = plt.subplot(111)\n",
    "plt.title('정적분의 예')\n",
    "plt.plot(x, y, 'r', linewidth=2)\n",
    "ix = np.linspace(a, b)\n",
    "iy = f(ix)\n",
    "verts = [(a, 0)] + list(zip(ix, iy)) + [(b, 0)]\n",
    "poly = Polygon(verts, facecolor='0.9', edgecolor='0.5')\n",
    "ax.add_patch(poly)\n",
    "plt.text(0.5 * (a + b), 0.2 * (f(a) + f(b)), r\"$\\int_a^b f(x)dx$\", horizontalalignment='center', fontsize=20)\n",
    "plt.figtext(0.9, 0.05, \"$x$\")\n",
    "plt.figtext(0.1, 0.9, \"$y$\")\n",
    "ax.spines['right'].set_visible(False)\n",
    "ax.spines['top'].set_visible(False)\n",
    "ax.xaxis.set_ticks_position('bottom')\n",
    "ax.set_xticks([a, b])\n",
    "ax.set_xticklabels((\"$a$\", \"$b$\"))\n",
    "ax.set_yticks([])\n",
    "ax.set_xlim(-2, 4)\n",
    "ax.set_ylim(0, 8)\n",
    "plt.show()"
   ]
  },
  {
   "cell_type": "markdown",
   "metadata": {},
   "source": [
    "정적분은 미분과 아무런 상관이 없어 보이지만 부정적분으로 구한 함수  𝐹(𝑥) 를 이용하면 다음처럼 정적분의 값을 구할 수 있다.\n",
    "\n",
    "$$\\int_{a}^{b} f(x) dx = F(b) - F(a)  $$\n"
   ]
  },
  {
   "cell_type": "markdown",
   "metadata": {},
   "source": [
    "이를 미적분학의 기본 정리(Fundamental Theorem of Calculus)라고 부른다.\n",
    "\n",
    "정적분은 SymPy 등으로 부정적분을 한 뒤 미적분학의 기본 정리를 사용하여 푸는 방법과 원래 함수의 면적 부분을 실제로 잘게 쪼개어 면적을 근사하게 구하는 수치적분(numerical integration) 이렇게 두가지 방법으로 구할 수 있다."
   ]
  },
  {
   "cell_type": "markdown",
   "metadata": {},
   "source": [
    "#### 예제\n",
    "다음 정적분을 구하는 문제를 생각하자.\n",
    "$$\\int_0^2 ( x^3 - 3x^2 + x + 6) dx$$"
   ]
  },
  {
   "cell_type": "code",
   "execution_count": 41,
   "metadata": {},
   "outputs": [
    {
     "data": {
      "text/latex": [
       "$$x^{3} - 3 x^{2} + x + 6$$"
      ],
      "text/plain": [
       " 3      2        \n",
       "x  - 3⋅x  + x + 6"
      ]
     },
     "execution_count": 41,
     "metadata": {},
     "output_type": "execute_result"
    }
   ],
   "source": [
    "x, y = sympy.symbols('x y')\n",
    "f = x ** 3 - 3 * x ** 2 + x + 6\n",
    "f"
   ]
  },
  {
   "cell_type": "markdown",
   "metadata": {},
   "source": [
    "우선 부정 적분 방법으로 미분하기 전의 함수를 구한다."
   ]
  },
  {
   "cell_type": "code",
   "execution_count": 42,
   "metadata": {},
   "outputs": [
    {
     "data": {
      "text/latex": [
       "$$\\frac{x^{4}}{4} - x^{3} + \\frac{x^{2}}{2} + 6 x$$"
      ],
      "text/plain": [
       " 4         2      \n",
       "x     3   x       \n",
       "── - x  + ── + 6⋅x\n",
       "4         2       "
      ]
     },
     "execution_count": 42,
     "metadata": {},
     "output_type": "execute_result"
    }
   ],
   "source": [
    "# 부정적분\n",
    "F = sympy.integrate(f)\n",
    "F"
   ]
  },
  {
   "cell_type": "markdown",
   "metadata": {},
   "source": [
    "구해진 미분하기 전의 함수에 정적분 구간을 넣어 값을 계산한다. 심볼릭 함수의 변수에 실제 숫자를 넣어서 함수의 값을 계산하려면 subs, evalf 메서드를 사용한다."
   ]
  },
  {
   "cell_type": "code",
   "execution_count": 43,
   "metadata": {},
   "outputs": [
    {
     "data": {
      "text/latex": [
       "$$10.0$$"
      ],
      "text/plain": [
       "10.0000000000000"
      ]
     },
     "execution_count": 43,
     "metadata": {},
     "output_type": "execute_result"
    }
   ],
   "source": [
    "(F.subs(x, 2) - F.subs(x, 0)).evalf()"
   ]
  },
  {
   "cell_type": "code",
   "execution_count": 44,
   "metadata": {},
   "outputs": [
    {
     "data": {
      "text/latex": [
       "$$10.0$$"
      ],
      "text/plain": [
       "10.0000000000000"
      ]
     },
     "execution_count": 44,
     "metadata": {},
     "output_type": "execute_result"
    }
   ],
   "source": [
    "F.subs(x, 2).evalf()"
   ]
  },
  {
   "cell_type": "code",
   "execution_count": 45,
   "metadata": {},
   "outputs": [
    {
     "data": {
      "text/latex": [
       "$$0$$"
      ],
      "text/plain": [
       "0"
      ]
     },
     "execution_count": 45,
     "metadata": {},
     "output_type": "execute_result"
    }
   ],
   "source": [
    "F.subs(x, 0).evalf()"
   ]
  },
  {
   "cell_type": "markdown",
   "metadata": {},
   "source": [
    "### 수치적분\n",
    "수치적분(numerical integration)은 함수를 아주 작은 구간으로 나누어 실제 면적을 계산함으로써 정적분의 값을 구하는 방법이다. Scipy의 integrate 서브패키지의 quad 명령으로 수치적분을 할 수 있다."
   ]
  },
  {
   "cell_type": "code",
   "execution_count": 46,
   "metadata": {},
   "outputs": [],
   "source": [
    "def f(x):\n",
    "    return x ** 3 - 3 * x ** 2 + x + 6"
   ]
  },
  {
   "cell_type": "code",
   "execution_count": 47,
   "metadata": {},
   "outputs": [
    {
     "data": {
      "text/latex": [
       "$$\\left ( 10.0, \\quad 1.1102230246251565e-13\\right )$$"
      ],
      "text/plain": [
       "(10.0, 1.1102230246251565e-13)"
      ]
     },
     "execution_count": 47,
     "metadata": {},
     "output_type": "execute_result"
    }
   ],
   "source": [
    "import scipy as sp\n",
    "\n",
    "sp.integrate.quad(f, 0, 2)"
   ]
  },
  {
   "cell_type": "markdown",
   "metadata": {},
   "source": [
    "수치적분 결과값의 두번째 숫자는 오차의 상한값을 뜻한다. 수치적분으로 구한 값과 정적분으로 구한 값이 같다는 것을 알 수 있다."
   ]
  },
  {
   "cell_type": "markdown",
   "metadata": {},
   "source": [
    "### Practice 5.\n",
    "\n",
    "다음 정적분의 값을 부정적분과 수치적분 두 가지 방법으로 구하라.\n",
    "\n",
    "(1) \n",
    "$$\\int_0^1 (3x^2 - 6x + 1)dx$$\n",
    "(2)\n",
    "$$\\int_1^{10} \\left( 2 + 6x + 4\\exp(x) + \\dfrac{5}{x} \\right) dx$$"
   ]
  },
  {
   "cell_type": "code",
   "execution_count": 49,
   "metadata": {},
   "outputs": [
    {
     "data": {
      "text/latex": [
       "$$1.0$$"
      ],
      "text/plain": [
       "1.00000000000000"
      ]
     },
     "execution_count": 49,
     "metadata": {},
     "output_type": "execute_result"
    }
   ],
   "source": [
    "# 부정적분 방법\n",
    "x = sympy.symbols('x')\n",
    "f = 3 * x ** 2 - 6 * x + 1\n",
    "F = sympy.integrate(f)\n",
    "\n",
    "(F.subs(x, 0) - F.subs(x, 1)).evalf()"
   ]
  },
  {
   "cell_type": "code",
   "execution_count": 51,
   "metadata": {},
   "outputs": [
    {
     "data": {
      "text/latex": [
       "$$\\left ( 1.0, \\quad 1.3085085171449517e-14\\right )$$"
      ],
      "text/plain": [
       "(1.0, 1.3085085171449517e-14)"
      ]
     },
     "execution_count": 51,
     "metadata": {},
     "output_type": "execute_result"
    }
   ],
   "source": [
    "# 수치적분 방법\n",
    "def f(x):\n",
    "    return 3 * x**2 - 6 * x + 1\n",
    "\n",
    "sp.integrate.quad(f, 1, 0)"
   ]
  },
  {
   "cell_type": "code",
   "execution_count": 52,
   "metadata": {},
   "outputs": [
    {
     "data": {
      "text/latex": [
       "$$88421.502977378$$"
      ],
      "text/plain": [
       "88421.5029773780"
      ]
     },
     "execution_count": 52,
     "metadata": {},
     "output_type": "execute_result"
    }
   ],
   "source": [
    "# 부정적분 방법\n",
    "x = sympy.symbols('x')\n",
    "f = 2 + 6 * x + 4 * sympy.exp(x) + 5 / x\n",
    "F = sympy.integrate(f)\n",
    "\n",
    "(F.subs(x, 10) - F.subs(x, 1)).evalf()"
   ]
  },
  {
   "cell_type": "code",
   "execution_count": 54,
   "metadata": {},
   "outputs": [
    {
     "data": {
      "text/latex": [
       "$$\\left ( 88421.50297737827, \\quad 1.5276890734473408e-06\\right )$$"
      ],
      "text/plain": [
       "(88421.50297737827, 1.5276890734473408e-06)"
      ]
     },
     "execution_count": 54,
     "metadata": {},
     "output_type": "execute_result"
    }
   ],
   "source": [
    "# 수치적분 방법\n",
    "def f(x):\n",
    "    return 2 + 6 * x + 4 * np.exp(x) + 5 / x\n",
    "\n",
    "sp.integrate.quad(f, 1, 10)"
   ]
  },
  {
   "cell_type": "markdown",
   "metadata": {},
   "source": [
    "### 다변수 정적분"
   ]
  },
  {
   "cell_type": "markdown",
   "metadata": {},
   "source": [
    "입력 변수가 2개인 2차원 함수  𝑓(𝑥,𝑦) 의 경우에는 정적분을 다양한 방법으로 정의할 수 있다.\n",
    "\n",
    "두 변수로 모두 적분하는 것은 2차원 평면에서 주어진 사각형 영역 아래의 부피를 구하는 것과 같다."
   ]
  },
  {
   "cell_type": "markdown",
   "metadata": {},
   "source": [
    "$$\\int_{y=c}^{y=d} \\int_{x=a}^{x=b} f(x, y) dx dy $$\n"
   ]
  },
  {
   "cell_type": "markdown",
   "metadata": {},
   "source": [
    "#### 예제\n",
    "다음 함수는  𝑥=2 에서  𝑥=8 까지, 그리고  𝑦=0 에서  𝑦=6 까지의 정사각형 영역에서 정적분으로 함수의 부피를 구하는 모습을 시각화한 것이다.\n",
    "\n",
    "$$\\int_{y=0}^{y=6}\\int_{x=2}^{x=8} x^2 - 10 x + y + 50 \\;\\; dx dy$$"
   ]
  },
  {
   "cell_type": "code",
   "execution_count": 66,
   "metadata": {},
   "outputs": [
    {
     "data": {
      "image/png": "[encoded data removed]",
      "text/plain": [
       "<Figure size 432x288 with 1 Axes>"
      ]
     },
     "metadata": {},
     "output_type": "display_data"
    }
   ],
   "source": [
    "from mpl_toolkits.mplot3d import Axes3D\n",
    "\n",
    "fig = plt.figure()\n",
    "ax = fig.add_subplot(111, projection='3d')\n",
    "_x = np.arange(12) / 2 + 2  # 2 ~ 8을 12개로 구분\n",
    "_y = np.arange(12) / 2 # 0 ~ 6을 12개로 구분\n",
    "X, Y = np.meshgrid(_x, _y)  # 12 x 12\n",
    "x, y = X.ravel(), Y.ravel()  # 144\n",
    "z = x * x - 10 * x + y + 50\n",
    "\n",
    "z0 = np.zeros_like(z) # z 사이즈의 영벡터  144\n",
    "ax.bar3d(x, y, z0, 0.48, 0.48, z)\n",
    "ax.set_xlim(0, 10)\n",
    "ax.set_ylim(-2, 10)\n",
    "ax.set_zlim(0, 50)\n",
    "ax.set_xlabel(\"x\")\n",
    "ax.set_ylabel(\"y\")\n",
    "plt.title(\"f(x, y)\")\n",
    "plt.show()"
   ]
  },
  {
   "cell_type": "markdown",
   "metadata": {},
   "source": [
    "수치이중적분을 하려면 Scipy의 integrate 서브패키지의 dblquad 명령을 사용한다. 함수 사용법은 다음과 같다."
   ]
  },
  {
   "cell_type": "markdown",
   "metadata": {},
   "source": [
    "from scipy.integrate import dblquad\n",
    "\n",
    "dblquad(func, a, b, gfun, hfun)\n",
    "\n",
    "a, b은 x의 하한(lower bound)과 상한(upper bound)이고 gfun, hfun은 y의 하한과 상한이다. gfun, hfun은 x의 함수이어야 한다.\n",
    "\n"
   ]
  },
  {
   "cell_type": "markdown",
   "metadata": {},
   "source": [
    "#### 예제\n",
    "정적분\n",
    "\n",
    "$$\\int_0^{\\infty} \\int_1^{\\infty} \\dfrac{\\exp(-xy)}{y^2} dx dy$$\n",
    "\n",
    "을 수치적분으로 계산하려면 다음과 같은 코드를 사용한다."
   ]
  },
  {
   "cell_type": "code",
   "execution_count": 68,
   "metadata": {},
   "outputs": [],
   "source": [
    "def f(x, y):\n",
    "    return np.exp(-x * y) / y ** 2"
   ]
  },
  {
   "cell_type": "code",
   "execution_count": 69,
   "metadata": {},
   "outputs": [
    {
     "data": {
      "text/latex": [
       "$$\\left ( 0.4999999999999961, \\quad 1.0684538743333441e-08\\right )$$"
      ],
      "text/plain": [
       "(0.4999999999999961, 1.0684538743333441e-08)"
      ]
     },
     "execution_count": 69,
     "metadata": {},
     "output_type": "execute_result"
    }
   ],
   "source": [
    "sp.integrate.dblquad(f, 1, np.inf, lambda x: 0, lambda x: np.inf)"
   ]
  },
  {
   "cell_type": "markdown",
   "metadata": {},
   "source": [
    "### Practice 6\n",
    "다음 정적분의 값을 구하라.\n",
    "\n",
    "$$\\int_{-1}^1 \\int_{-1}^1 \\left( 1 + xy \\right) dxdy$$"
   ]
  },
  {
   "cell_type": "code",
   "execution_count": 70,
   "metadata": {},
   "outputs": [
    {
     "data": {
      "text/latex": [
       "$$\\left ( 4.0, \\quad 4.440892098500626e-14\\right )$$"
      ],
      "text/plain": [
       "(4.0, 4.440892098500626e-14)"
      ]
     },
     "execution_count": 70,
     "metadata": {},
     "output_type": "execute_result"
    }
   ],
   "source": [
    "def f(x, y):\n",
    "    return 1 + x*y\n",
    "\n",
    "sp.integrate.dblquad(f, -1, 1, lambda x: -1, lambda x: 1)"
   ]
  },
  {
   "cell_type": "markdown",
   "metadata": {},
   "source": [
    "### 다차원 함수의 단일 정적분\n",
    "2차원 함수이지만 이중적분을 하지 않고 단일 정적분을 하는 경우도 있다. 이 때는 하나의 변수만 진짜 변수로 보고 나머지 하나는 상수라고 간주하는 경우이다.\n",
    "\n",
    "$$\\int_a^b f(x, y) dx$$"
   ]
  },
  {
   "cell_type": "markdown",
   "metadata": {},
   "source": [
    "#### 예제\n",
    "다음과 같은 함수를 생각하자.\n",
    "\n",
    "$$f(x, y) = 4x^2 + 4xy + y^2$$\n",
    "\n",
    "여기에서 변수  𝑥  만 진짜 입력 변수로 보고  𝑦 는 단순히 정해지지 않은 상수로 보면 이 함수는 다음과 같은 1차원 함수이다."
   ]
  },
  {
   "cell_type": "markdown",
   "metadata": {},
   "source": [
    "$$f(x; y) = 4x^2 + (4y)x + (y^2)$$\n",
    "\n",
    "𝑦 의 앞에 쉼표(, comma)가 아니라 세미콜론(; semicolon)을 써서 𝑦가 변수가 아니라는 점을 강조하였다."
   ]
  },
  {
   "cell_type": "code",
   "execution_count": null,
   "metadata": {},
   "outputs": [],
   "source": []
  }
 ],
 "metadata": {
  "kernelspec": {
   "display_name": "Python 3",
   "language": "python",
   "name": "python3"
  },
  "language_info": {
   "codemirror_mode": {
    "name": "ipython",
    "version": 3
   },
   "file_extension": ".py",
   "mimetype": "text/x-python",
   "name": "python",
   "nbconvert_exporter": "python",
   "pygments_lexer": "ipython3",
   "version": "3.5.1"
  }
 },
 "nbformat": 4,
 "nbformat_minor": 2
}
