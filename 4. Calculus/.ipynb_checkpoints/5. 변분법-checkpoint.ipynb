{
 "cells": [
  {
   "cell_type": "markdown",
   "metadata": {},
   "source": [
    "### 범함수\n",
    "함수(function)는 실수(real number)를 입력받아 실수를 출력한다.\n",
    "\n",
    "$$\\text{real number } x \\rightarrow \\boxed{\\; \\text{ function } \\; f \\; \\phantom{\\frac{\\dfrac{}{}}{\\dfrac{}{}}}} \\rightarrow \\text{real number}$$"
   ]
  },
  {
   "cell_type": "markdown",
   "metadata": {},
   "source": [
    "그런데 앞으로 공부하게 될 기댓값, 엔트로피 등을 계산할 때는 함수를 입력받고 이를 기반으로 실수를 출력한다. 이렇게 함수를 입력으로 받아 실수를 출력하는 것을 범함수(functional)라고 한다.\n",
    "\n",
    "$$\\text{function } y(x) \\rightarrow \\boxed{\\; \\text{ functional } \\; F \\; \\phantom{\\frac{\\dfrac{}{}}{\\dfrac{}{}}}} \\rightarrow \\text{real number}$$"
   ]
  },
  {
   "cell_type": "markdown",
   "metadata": {},
   "source": [
    "범함수는 보통 알파벳 대문자로 표기한다. 함수에서는 입력변수를 실수를 소괄호(parenthesis)로 감싸지만 법함수는 입력변수인 함수를 대괄호(square bracket)로 감싼다."
   ]
  },
  {
   "cell_type": "markdown",
   "metadata": {},
   "source": [
    "범함수 값은 정적분으로 계산하는 경우가 많다. 예를 들어 확률변수  𝑋 의 기댓값과 엔트로피는 확률밀도함수  𝑝(𝑥) 를 다음처럼 적분한 값이다. 구체적인 정의는 확률론에서 공부하게 된다. 여기에서는 함수  𝑝(𝑥) 를 입력으로 받아서 스칼라 실수를 출력하는 범함수  𝐸 와  𝐻 라는 것이 있다는 것만 알면 된다."
   ]
  },
  {
   "cell_type": "markdown",
   "metadata": {},
   "source": [
    "\\begin{align}\n",
    "\\text{E}[p(x)] = \\int_{-\\infty}^{\\infty} xp(x)dx \n",
    "\\end{align}\n",
    "\n",
    "\\begin{align}\n",
    "\\text{H}[p(x)] = -\\int_{-\\infty}^{\\infty} p(x)\\log p(x) dx \n",
    "\\end{align}"
   ]
  },
  {
   "cell_type": "markdown",
   "metadata": {},
   "source": [
    "입력인 함수가 변할 때 범함수의 출력이 어떻게 달라지는지를 계산하는 학문을 변분법(functional calculus, calculus of variations)이라고 한다."
   ]
  },
  {
   "cell_type": "markdown",
   "metadata": {},
   "source": [
    "### 범함수의 테일러 전개\n",
    "함수  𝑓(𝑥) 의 도함수  $\\frac{df}{dx}$ 를 알면 다음과 같이 함수의 근사값을 구할 수 있다. 이를 함수의 테일러 전개(Taylor expansion)라고 한다. 이 식에서  𝜖 은 아주 작은 실수를 의미한다.\n",
    "\n",
    "$$f(x + \\epsilon) \\approx f(x) + \\dfrac{df}{dx} \\epsilon $$\n"
   ]
  },
  {
   "cell_type": "markdown",
   "metadata": {},
   "source": [
    "범함수에 대해서도 마찬가지로 테일러 전개를 할 수 있다. 범함수의 테일러 전개를 이해하기 위해 우선 범함수가 아닌 단변수 함수의 테일러 전개부터 해보자. 설명의 편의를 위해 함수이름을  𝐹 , 독립변수를  𝑦 라고 하자.  𝐹(𝑦) 는 실수를 입력으로 받는 함수이지만 나중에 범함수와 비교하기 위해 편의상 대문자로 표시하였다. 입력 변수도 보통 사용하는  𝑥  대신  𝑦 라는 알파벳을 사용하였다.\n",
    "\n",
    "함수  𝐹 의 테일러 전개식은 다음과 같다.\n",
    "\n",
    "$$F(y + \\epsilon) \\approx F(y) + \\dfrac{dF}{dy} \\epsilon $$\n"
   ]
  },
  {
   "cell_type": "markdown",
   "metadata": {},
   "source": [
    "𝐹 가 아직은 범함수가 아니라 함수이고 𝑦도 아직은 함수가 아니라 변수이므로 이 식은 위 테일러 전개식을 함수와 변수 이름만 바꿔 쓴 것이다."
   ]
  },
  {
   "cell_type": "markdown",
   "metadata": {},
   "source": [
    "만약  𝐹 가 단변수 함수가 아니라  𝑦1,𝑦2,…,𝑦𝑁 이라는  𝑁 개의 실수 입력을 받는 다변수 함수라면 테일러 전개식은 다음과 같이 쓸 수 있다."
   ]
  },
  {
   "cell_type": "markdown",
   "metadata": {},
   "source": [
    "\\begin{align}\n",
    "\\begin{aligned}\n",
    "F(y_1 + \\epsilon_1, y_2 + \\epsilon_2, \\ldots, y_N + \\epsilon_N) \n",
    "&\\approx\n",
    "F(y_1, y_2, \\ldots, y_N) + \n",
    "\\dfrac{\\partial F}{\\partial y_1} \\epsilon_1 + \n",
    "\\dfrac{\\partial F}{\\partial y_2} \\epsilon_2 + \\cdots\n",
    "\\dfrac{\\partial F}{\\partial y_N} \\epsilon_N \\\\ \n",
    "&=\n",
    "F(y_1, y_2, \\ldots, y_N) + \\sum_{i=1}^{N} \\dfrac{\\partial F}{\\partial y_i} \\epsilon_i\n",
    "\\end{aligned}\n",
    "\\end{align}"
   ]
  },
  {
   "cell_type": "markdown",
   "metadata": {},
   "source": [
    "위 식에서  $𝑦_𝑖$ 이  $𝑥_𝑖$ 를 입력으로 받아서 계산된 함수의 값  𝑦($𝑥_𝑖$) 이라고 가정한다.\n",
    "\n",
    "$$y_i = y(x_i)$$\n"
   ]
  },
  {
   "cell_type": "markdown",
   "metadata": {},
   "source": [
    "그리고  $𝜖_𝑖$ 는  $𝑥_𝑖$ 를 입력으로 받는 임의의 함수  𝜂(𝑥) 의 값  𝜂($𝑥_𝑖$) 에 아주 작은 공통 상수  𝜖 을 곱한 값이라고 가정한다."
   ]
  },
  {
   "cell_type": "markdown",
   "metadata": {},
   "source": [
    "$$\\epsilon_i = \\epsilon \\eta(x_i)$$\n"
   ]
  },
  {
   "cell_type": "markdown",
   "metadata": {},
   "source": [
    "그러면 위 테일러 전개식은 다음처럼 쓸 수 있다.\n",
    "\n",
    "\\begin{align}\n",
    "F \\big( y(x_1) + \\epsilon\\eta(x_1), y(x_2) + \\epsilon\\eta(x_2), \\ldots, y(x_N) + \\epsilon\\eta(x_N) \\big)\n",
    "\\approx\n",
    "F \\big( y(x_1), y(x_2), \\ldots, y(x_N) \\big) + \\epsilon \\sum_{i=1}^{N} \\dfrac{\\partial F}{\\partial y_i} \\eta(x_i)\n",
    "\\end{align}"
   ]
  },
  {
   "cell_type": "markdown",
   "metadata": {},
   "source": [
    "위 식은 실수 벡터 또는 수열(sequence)를 입력으로 받고 실수를 출력하는 함수에 대한 테일러 전개이다.\n",
    "\n",
    "$$\\text{ sequence } \\{ y(x_1), \\cdots, y(x_N) \\} \\;\\; \\rightarrow \\;\\;\n",
    "\\text{ function } F \\big( \\{ y(x_1), \\cdots, y(x_N) \\} \\big)$$"
   ]
  },
  {
   "cell_type": "markdown",
   "metadata": {},
   "source": [
    "여기에서 수열의 크기  𝑁 을 무한대로 늘리면 수열  $\\{ y(x_1), \\cdots, y(x_N) \\} $는  𝑦(𝑥) 라는 함수를 나타낸다고 볼 수 있다. 그려면 함수  𝐹 도 이제는 함수가 아니라 함수  𝑦 를 입력으로 받는 범함수가 된다.\n",
    "\n"
   ]
  },
  {
   "cell_type": "markdown",
   "metadata": {},
   "source": [
    "$$\\text{ function } y(x) \\;\\; \\rightarrow \\;\\;\n",
    "\\text{ functional } F [ y(x) ]$$"
   ]
  },
  {
   "cell_type": "markdown",
   "metadata": {},
   "source": [
    "위 식에서 수열  ${𝑦(𝑥1),⋯,𝑦(𝑥𝑁)}$ 를 함수  𝑦 로 바꿔 쓰면 다음과 같다.\n",
    "\n",
    "$$F[y(x) + \\epsilon \\eta(x)] \\approx F[y(x)] + \\epsilon \\int \\dfrac{\\delta F}{\\delta y(x)} \\eta(x) dx $$\n"
   ]
  },
  {
   "cell_type": "markdown",
   "metadata": {},
   "source": [
    "이 식이 바로 범함수에 대한 테일러 전개이다.\n",
    "\n",
    "### 범함수의 도함수\n",
    "위 식에서  𝜖 의 변화에 의한 범함수 값의 변화는\n",
    "\n",
    "$$\\dfrac{F[y(x) + \\epsilon \\eta(x)]-F[y(x)]}{\\epsilon} = \\int \\dfrac{\\delta F}{\\delta y(x)} \\eta(x) dx$$\n",
    "\n",
    "이다. 어떤  𝜂(𝑥)  함수에 대해서도 이 값이 0이 되려면\n",
    "\n",
    "$$\\dfrac{\\delta F}{\\delta y(x)} = 0$$"
   ]
  },
  {
   "cell_type": "markdown",
   "metadata": {},
   "source": [
    "이 되는 수 밖에 없다. 여기에 나온\n",
    "\n",
    "$$\\dfrac{\\delta F}{\\delta y(x)}$$\n",
    "\n",
    "\n",
    "를 범함수의 도함수(functional derivative)라고 하며 함수의 도함수와 같은 역할을 한다.  𝑦 를 변수,  𝐹 를 함수라고 놓고 미분하여 구한 도함수과 같다. 하지만 범함수를 함수로 미분하였다는 것을 강조하기 위해  𝑑  기호가 아니라  𝛿  기호를 사용하였다."
   ]
  },
  {
   "cell_type": "markdown",
   "metadata": {},
   "source": [
    "### 적분형 범함수의 도함수\n",
    "\n",
    "대부분의 범함수는  𝑥 에 대한 적분으로 정의되며 적분 기호안의 연산은  𝑦(𝑥) 와  𝑥  를 입력 변수로 받는 함수  𝐺(𝑦,𝑥) 라고 할 수 있다.\n",
    "\n",
    "$$F[y(x)] = \\int G(y, x) dx $$\n"
   ]
  },
  {
   "cell_type": "markdown",
   "metadata": {},
   "source": [
    "이러한 범함수  𝐹 의 도함수는 다음처럼 계산할 수 있다.\n",
    "\n",
    "$$\\dfrac{\\delta F}{\\delta y} = \\dfrac{\\partial G}{\\partial y}  $$\n"
   ]
  },
  {
   "cell_type": "markdown",
   "metadata": {},
   "source": [
    "𝑦 가 원래는 함수이지만 마치 변수처럼 생각하고  𝐺 의 편미분을 구했기 때문에  $\\dfrac{\\delta}{\\delta y}$  기호가 아닌  $\\dfrac{\\partial}{\\partial y}$  기호를 사용하였다."
   ]
  },
  {
   "cell_type": "markdown",
   "metadata": {},
   "source": [
    "#### 예제1.\n",
    "\n",
    "기댓값  𝐸 는 다음과 같이 정의되는 범함수이다.\n",
    "\n",
    "$$\\text{E}[p(x)] = \\int_{-\\infty}^{\\infty} xp(x)dx$$"
   ]
  },
  {
   "cell_type": "markdown",
   "metadata": {},
   "source": [
    "위 식에 대응시키면\n",
    "\n",
    "$$G(y,x) = xy$$"
   ]
  },
  {
   "cell_type": "markdown",
   "metadata": {},
   "source": [
    "가 된다. 이 때  𝑦 에 대한  𝐹 의 도함수는\n",
    "\n",
    "$$\\dfrac{\\delta F}{\\delta y} = \\dfrac{\\partial G}{\\partial y} = x$$"
   ]
  },
  {
   "cell_type": "markdown",
   "metadata": {},
   "source": [
    "#### 예제2.\n",
    "\n",
    "그레디언트 부스팅(gradient boosting) 방법에서는 주어진 목표함수  𝑦(𝑥) 와 가장 비슷한 모형함수  𝑦̂ (𝑥) 를 구하기 위해 다음과 같은 범함수인 손실함수를 사용한다."
   ]
  },
  {
   "cell_type": "markdown",
   "metadata": {},
   "source": [
    "$$L = \\int \\dfrac{1}{2}(\\hat{y}(x) - y(x))^2 dx$$"
   ]
  },
  {
   "cell_type": "markdown",
   "metadata": {},
   "source": [
    "모형함수  𝑦̂ (𝑥) 에 대한 범함수 손실함수  𝐿 의 그레디언트를 구하면\n",
    "\n",
    "$$G(\\hat{y}) = \\dfrac{1}{2}(\\hat{y}(x) - y(x))^2$$"
   ]
  },
  {
   "cell_type": "markdown",
   "metadata": {},
   "source": [
    "에서\n",
    "\n",
    "$$\\dfrac{\\delta L}{\\delta \\hat{y}} = \\dfrac{\\partial G}{\\partial y} = \\hat{y}(x) - y(x)$$"
   ]
  },
  {
   "cell_type": "markdown",
   "metadata": {},
   "source": [
    "### 오일러-라그랑주 공식\n",
    "\n",
    "가끔씩  𝑥 ,  𝑦(𝑥)  이외에 추가로  𝑦(𝑥) 의  𝑥 에 대한 도함수인 $ y'(x) = \\dfrac{dy}{dx}$ 도 입력 변수로 받는 함수  𝐺(𝑦(𝑥),𝑦′(𝑥),𝑥) 로 정의된 도함수도 있을 수 있다."
   ]
  },
  {
   "cell_type": "markdown",
   "metadata": {},
   "source": [
    "\\begin{align}\n",
    "F[y(x)] = \\int G(y, y', x) dx \n",
    "\\end{align}"
   ]
  },
  {
   "cell_type": "markdown",
   "metadata": {},
   "source": [
    "이 때는 범함수 𝐹 의 함수  𝑦 에 대한 도함수를 다음처럼 구한다.\n",
    "\n",
    "\\begin{align}\n",
    "\\dfrac{\\partial G}{\\partial y} - \\dfrac{d}{dx}\\left( \\dfrac{\\partial G}{\\partial y'} \\right) \n",
    "\\end{align}"
   ]
  },
  {
   "cell_type": "markdown",
   "metadata": {},
   "source": [
    "위 식에서  $\\dfrac{\\partial G}{\\partial y}$ 와  $\\dfrac{\\partial G}{\\partial y'}$ 는 함수  𝑦 와  𝑦′ 을 마치 별개의 변수인 것처럼 생각하고 편미분한 도함수를 뜻한다.  $\\dfrac{d}{dx}\\left( \\dfrac{\\partial G}{\\partial y'} \\right)$ 는 그렇게 구해진 함수를 다시 변수  𝑥 로 미분한 결과를 말한다.\n",
    "\n",
    "이를 오일러-라그랑주(Euler-Lagrange) 공식이라고 한다."
   ]
  },
  {
   "cell_type": "markdown",
   "metadata": {},
   "source": [
    "### 최적 제어\n",
    "\n",
    "함수  𝑓(𝑥) 가 있을 때 이 값이 가장 커지도록 혹은 가장 작아지도록 하는 독립변수  𝑥 의 값을 찾아내는 것을 최적화(optimization)이라고 한다. 이와 비슷하게 범함수  𝐹[𝑦(𝑥)] 가 있을 때 이 값이 가장 커지도록 혹은 가장 작아지도록 하는 독립함수  𝑦(𝑥) 를 찾는 것을 최적 제어(optimal control)라고 한다."
   ]
  },
  {
   "cell_type": "markdown",
   "metadata": {},
   "source": [
    "최적화를 위한 필요조건은 최적의 독립변수의 값  $x^{\\ast}$을 입력하면 함수의 도함수의 값이 0이 되어야 한다는 것이었다.\n",
    "\n",
    "$$\\dfrac{df}{dx}(x^{\\ast}) = 0 $$\n"
   ]
  },
  {
   "cell_type": "markdown",
   "metadata": {},
   "source": [
    "최적제어에서도 최적의 함수  $y^{\\ast}(x)$ 를 입력하면 범함수의 도함수의 값이 0이 되어야 한다는 것이 최적 조건이다.\n",
    "\n",
    "$$\\dfrac{\\delta f}{\\delta y}[y^{\\ast}(x)] = 0$$ \n"
   ]
  },
  {
   "cell_type": "markdown",
   "metadata": {},
   "source": [
    "#### 예제\n",
    "\n",
    "딥러닝에서 현실의 데이터와 닮은 데이터를 재현하기 위해 사용하는 방법 중에 GAN(Generative Adversarial Network) 방법이 있다. GAN에서는 주어진 두 개의 확률분포함수  $p_{\\text{data}}$ 와  $p_{\\text{model}}$ 이 있을 때 다음 범함수의 값을 최대화하는 확률분포함수  𝑝(𝑥) 를 구하게 된다."
   ]
  },
  {
   "cell_type": "markdown",
   "metadata": {},
   "source": [
    "$$L[p] = \n",
    "\\frac{1}{2}\\int\n",
    "\\big(\\log(p(x))p_{\\text{data}}(x) + \\log(1 - p(x))p_{\\text{model}}(x)\\big)\\,dx$$"
   ]
  },
  {
   "cell_type": "markdown",
   "metadata": {},
   "source": [
    "범함수의 도함수를 구하면\n",
    "\n",
    "\\begin{aligned}\n",
    "\\frac{\\delta L}{\\delta p}\n",
    "&=\n",
    "\\frac{1}{2}\\frac{\\partial}{\\partial p}(\\log(p(x))p_{\\text{data}}(x)) + \n",
    "\\frac{1}{2}\\frac{\\partial}{\\partial p}(\\log(1 - p(x))p_{\\text{model}}(x))\\\\\n",
    "&=\n",
    "\\frac{p_{\\text{data}}(x)(1-p(x)) - p(x)p_{\\text{model}}(x)}{2p(x)(1-p(x))}\n",
    "\\end{aligned}"
   ]
  },
  {
   "cell_type": "markdown",
   "metadata": {},
   "source": [
    "이므로 최적 확률분포함수  𝑝∗(𝑥) 는\n",
    "\n",
    "$$p_{\\text{data}}(x)(1-p(x)) - p(x)p_{\\text{model}}(x) = 0$$"
   ]
  },
  {
   "cell_type": "markdown",
   "metadata": {},
   "source": [
    "에서\n",
    "\n",
    "$$p^{\\ast}(x) = \\frac{p_{\\text{data}}(x)}{p_{\\text{data}}(x) + p_{\\text{model}}(x)}$$\n",
    "\n",
    "이된다."
   ]
  },
  {
   "cell_type": "code",
   "execution_count": null,
   "metadata": {},
   "outputs": [],
   "source": []
  }
 ],
 "metadata": {
  "kernelspec": {
   "display_name": "Python 3",
   "language": "python",
   "name": "python3"
  },
  "language_info": {
   "codemirror_mode": {
    "name": "ipython",
    "version": 3
   },
   "file_extension": ".py",
   "mimetype": "text/x-python",
   "name": "python",
   "nbconvert_exporter": "python",
   "pygments_lexer": "ipython3",
   "version": "3.5.1"
  }
 },
 "nbformat": 4,
 "nbformat_minor": 2
}
