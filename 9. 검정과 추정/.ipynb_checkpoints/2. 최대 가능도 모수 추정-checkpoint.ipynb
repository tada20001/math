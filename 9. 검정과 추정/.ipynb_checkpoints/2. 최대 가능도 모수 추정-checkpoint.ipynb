{
 "cells": [
  {
   "cell_type": "markdown",
   "metadata": {},
   "source": [
    "모멘트 방법으로 추정한 모수는 그 숫자가 가장 가능성 높은 값이라는 보장이 없다. 이 절에서는 가장 가능성이 높은 모수를 찾는 모수추정 방법인 최대 가능도 모수 추정(maximum likelihood estimation) 방법에 대해 알아본다."
   ]
  },
  {
   "cell_type": "markdown",
   "metadata": {},
   "source": [
    "## 가능도 함수\n",
    "\n",
    "이제부터는 여러가지 확률분포  𝑋 에 대한 확률밀도함수 또는 확률질량함수를 다음과 같이 대표하여 쓰기로 한다."
   ]
  },
  {
   "cell_type": "markdown",
   "metadata": {},
   "source": [
    "$$p(x;\\theta)$$\n",
    "\n",
    "이 식에서  𝑥 는 확률분포가 가질 수 있는 실수값이다. 만약 확률분포가 카테고리 분포라면 벡터 값이고 그렇지 않고 다른 확률분포이면 스칼라 값이다.\n",
    "\n",
    "기호  𝜃 는 확률밀도함수의 모수이다. 만약 확률분포가 베르누이 확률분포라면,\n",
    "\n",
    "$$\\theta = \\mu$$\n",
    "\n",
    "이고, 확률분포가 이항 확률분포라면,\n",
    "\n",
    "$$\\theta = (N,\\mu)$$\n",
    "\n",
    "확률분포가 정규 분포라면\n",
    "\n",
    "$$\\theta = (\\mu, \\sigma^2)$$\n",
    "\n",
    "이 될 것이다."
   ]
  },
  {
   "cell_type": "markdown",
   "metadata": {},
   "source": [
    "함수의 관점에서 확률밀도함수의 모수  𝜃 는 고정된 값인 상수(constant) 계수이고  𝑥 를 변수(variable)로 가정하는 것이 일반적이다. 즉, 확률분포는 미리 정해져 있고 여러가지(변할 수 있는) 표본 데이터  𝑥 값이 나올 수 있는데 이 각각의 값이 나올 가능성의 분포를 그린 것이 확률밀도함수라고 보는 것이다.\n",
    "\n",
    "하지만 모수 추정 문제에서는  𝑥  즉, 이미 실현된 표본값은 알고 있지만 모수  𝜃 를 모르고 있다. 이 때는 반대로 확률밀도함수에서  𝑥 를 이미 결정되어 버린 상수 계수로 놓고  𝜃 를 찾아내야 할 변수로 생각할 수 있다. 물론  𝑓(𝑥,𝜃) 의 의미 자체는 변함없이 주어진  𝑥 가 나올 수 있는 확률밀도 값이다. \n",
    "\n",
    "###### 이렇게 확률밀도함수에서 모수를 변수로 보는 경우에 이 함수를 가능도 함수(likelihood function)라고 한다. 기호로는 다음처럼  𝐿 을 사용한다."
   ]
  },
  {
   "cell_type": "markdown",
   "metadata": {},
   "source": [
    "$${L}(\\theta;x) = p(x ; \\theta)$$"
   ]
  },
  {
   "cell_type": "markdown",
   "metadata": {},
   "source": [
    "### 예제 1\n",
    "가우시안 정규 분포의 확률밀도함수는 다음과 같은 단변수 함수다. (즉, \n",
    "\n",
    "$$p(x; \\mu_0, \\sigma_0^2) = \\dfrac{1}{\\sqrt{2\\pi\\sigma_0^2}} \\exp \\left(-\\dfrac{(x-\\mu_0)^2}{2\\sigma_0^2}\\right)$$\n",
    "\n",
    "모수가 상수라는 것을 강조하기 위해 아래첨자를 붙였다.\n",
    "\n",
    "이 때 가능도 함수는 다음과 같이 입력변수가 2개인 다변수 함수가 된다. \n",
    "\n",
    "$$L(\\mu, \\sigma^2; x_0) = \\dfrac{1}{\\sqrt{2\\pi\\sigma^2}} \\exp \\left(-\\dfrac{(x_0-\\mu)^2}{2\\sigma^2}\\right)$$\n",
    "\n",
    "##### 수식은 같지만 함수의 변수가 다르다는 점에 주의하라. (즉, 모수가 변수가 되고, 표본데이터는 고정된 상수)"
   ]
  },
  {
   "cell_type": "markdown",
   "metadata": {},
   "source": [
    "예를 들어 정규 분포 함수에서 기대값 모수와 분산 모수를 입력 변수로 가지는 가능도 함수를 그리면 각각 다음과 같다. \n",
    "\n",
    "기댓값 모수를 입력 변수로 가지는 가능도 함수의 모양이 확률밀도함수와 같은 모양인 것은 ( 𝑥 와  𝜇 를 바꾸어도 식이 같아지는) 정규 분포의 확률밀도함수가 가지는 특별한 성질 때문이며 아주 우연히 이렇게 된 것 뿐이다."
   ]
  },
  {
   "cell_type": "code",
   "execution_count": 4,
   "metadata": {},
   "outputs": [],
   "source": [
    "import matplotlib.pylab as plt\n",
    "import matplotlib as mpl\n",
    "import matplotlib.font_manager as fm\n",
    "import seaborn as sns\n",
    "import numpy as np\n",
    "\n",
    "sns.set_style(\"whitegrid\")\n",
    "mpl.rcParams['axes.unicode_minus'] = False\n",
    "plt.rcParams['font.size'] = 12\n",
    "\n",
    "path = \"/Library/Fonts/NanumGothic.otf\"\n",
    "font_name = fm.FontProperties(fname=path, size=20).get_name()\n",
    "\n",
    "plt.rc('font', family=font_name)\n"
   ]
  },
  {
   "cell_type": "code",
   "execution_count": 8,
   "metadata": {},
   "outputs": [],
   "source": [
    "# 여러개의 평균값에 대해 likelihood 계산\n",
    "import scipy as sp\n",
    "import scipy.stats\n",
    "\n",
    "# mu 값을 입력하여 확률밀도함수를 만드는 함수 정의 \n",
    "def likelihood_mu(mu):  \n",
    "    return sp.stats.norm(loc=mu).pdf(0)   # mu =?, s2=1, x=0\n",
    "\n",
    "mus = np.linspace(-5, 5, 1000)  # mu 벡터\n",
    "likelihood_mu = [likelihood_mu(mu) for mu in mus]  # mu 값을 하나씩 받아서 가능도 계산\n",
    "\n",
    "def likelihood_sigma2(sigma2):\n",
    "    return sp.stats.norm(scale=np.sqrt(sigma2)).pdf(0)  # mu=0, s2=? x=0\n",
    "\n",
    "sigma2s = np.linspace(0.1, 10, 1000)\n",
    "likelihood_sigma2 = [likelihood_sigma2(sigma2) for sigma2 in sigma2s]"
   ]
  },
  {
   "cell_type": "code",
   "execution_count": 21,
   "metadata": {},
   "outputs": [
    {
     "data": {
      "image/png": "[encoded data removed]",
      "text/plain": [
       "<Figure size 432x288 with 2 Axes>"
      ]
     },
     "metadata": {},
     "output_type": "display_data"
    }
   ],
   "source": [
    "%matplotlib inline\n",
    "# 계산 평균값의 가능도 분포 살펴보기\n",
    "plt.subplot(211)\n",
    "plt.plot(mus, likelihood_mu)\n",
    "plt.title(\"가능도 함수 $L(\\mu, \\sigma^2=1; x=0)$\", y=1.1) \n",
    "plt.xlabel(\"$\\mu$\")\n",
    "plt.ylim(-0.1, 0.5)\n",
    "plt.yticks(np.arange(0, 0.5, 0.1))\n",
    "\n",
    "plt.subplot(212)\n",
    "plt.plot(sigma2s, likelihood_sigma2)\n",
    "plt.title(\"가능도 함수 $L(\\mu=0, \\sigma^2; x=0)$\", y=1.1)\n",
    "plt.xlabel(\"$\\sigma^2$\")\n",
    "plt.ylim(0, 1.5)\n",
    "plt.yticks(np.arange(0, 1.5, 0.25))\n",
    "plt.tight_layout()\n",
    "plt.show()"
   ]
  },
  {
   "cell_type": "markdown",
   "metadata": {},
   "source": [
    "### 예제 2\n",
    "\n",
    "베르누이 확률변수의 확률질량함수는 다음과 같은 함수다. 이 때 입력  𝑥 는 0과 1이라는 두 가지 값만 받을 수 있다.\n",
    "\n",
    "$$p(x; \\mu_0) = \\mu_0^x (1-\\mu_0)^{1-x}$$\n",
    "\n",
    "하지만 가능도 함수는 다음과 0부터 1까지의 연속적인 실수값을 입력으로 받는 함수가 된다. (즉 데이터는 상수이고, 실수값을 갖는 mu를 입력받는 함수이기 때문)\n",
    "\n",
    "$$L(\\mu; x_0) = \\mu^{x_0} (1-\\mu)^{1-x_0}$$"
   ]
  },
  {
   "cell_type": "markdown",
   "metadata": {},
   "source": [
    "가능도 함수를 수식으로 나타내면 수식 자체는 확률밀도함수의 수식과 같다. \n",
    "\n",
    "##### 하지만 가능도 함수는 확률분포함수가 아니라는 점에 주의해야 한다. \n",
    "\n",
    "확률밀도함수는 가능한 모든 표본값  𝑥 에 대해 적분하면 전체 면적이 1이 되지만,\n",
    "\n",
    "$$\\int_{-\\infty}^{\\infty} p(x; \\theta) dx = 1$$\n",
    "\n",
    "##### 가능도 함수는 가능한 모든 모수값  𝜃 에 대해 적분하였을 때 1이 된다는 보장이 없다.\n",
    "\n",
    "$$\\int_{-\\infty}^{\\infty} {L}(\\theta;x) d\\theta =  \\int_{-\\infty}^{\\infty} p(x; \\theta) d\\theta \\neq 1$$"
   ]
  },
  {
   "cell_type": "markdown",
   "metadata": {},
   "source": [
    "#### [요약] 가능도 함수와 확률밀도함수의 차이\n",
    "\n",
    "+ 확률밀도함수  𝑓(𝑥;𝜃) \n",
    "    + 𝜃  값을 이미 알고 있음\n",
    "    + 𝜃 는 상수,  𝑥 는 변수\n",
    "    + 𝜃 가 이미 정해져 있는 상황에서의  𝑥  값의 상대적 확률\n",
    "    + 적분하면 전체 면적은 항상 1\n",
    "+ 가능도 함수  𝐿(𝜃)=𝑝(𝑥|𝜃) \n",
    "    + 𝑥 가 이미 발생. 값을 이미 알고 있음\n",
    "    + 𝑥 는 상수,  𝜃 는 변수\n",
    "    + 𝑥 가 이미 정해져 있는 상황에서의  𝜃  값의 상대적 확률\n",
    "    + 적분하면 전체 면적이 1이 아닐 수 있다."
   ]
  },
  {
   "cell_type": "markdown",
   "metadata": {},
   "source": [
    "## 최대 가능도 추정 (!!)\n",
    "\n",
    "최대 가능도 추정(MLE: Maximum Likelihood Estimation) 방법은 주어진 표본에 대해 가능도를 가장 크게 해 주는 모수  𝜃 를 찾는 방법이다.\n",
    "\n",
    "$$\\hat\\theta_{\\text{ML}} = \\arg \\max_{\\theta} L(\\theta; x)$$"
   ]
  },
  {
   "cell_type": "markdown",
   "metadata": {},
   "source": [
    "### 예제 (단일 표본의 경우 가능도 구하기)\n",
    "\n",
    "정규 분포를 가지는 확률변수의 분산  𝜎2=1 은 알고 있으나 평균  𝜇 를 모르고 있어 이를 추정해야 하는 문제를 생각해 보자. 확률변수의 표본은 하나  𝑥1=1 를 가지고 있다고 하자. 이 경우 어떤  𝜇  값이 가장 가능성(가능도)이 커 보이는가? 다음 그림에는  𝜇=−1 ,  𝜇=0 ,  𝜇=1 ,세가지 후보를 제시한다. 이 세가지  𝜇  값에 대해  1 이 나올 확률밀도의 값이 바로 가능도이다."
   ]
  },
  {
   "cell_type": "code",
   "execution_count": 22,
   "metadata": {},
   "outputs": [
    {
     "data": {
      "text/plain": [
       "(0.05399096651318806, 0.24197072451914337, 0.3989422804014327)"
      ]
     },
     "execution_count": 22,
     "metadata": {},
     "output_type": "execute_result"
    }
   ],
   "source": [
    "x1= 1\n",
    "L1 = sp.stats.norm(loc=-1).pdf(x1)\n",
    "L2 = sp.stats.norm(loc=0).pdf(x1)\n",
    "L3 = sp.stats.norm(loc=1).pdf(x1)\n",
    "\n",
    "L1, L2, L3"
   ]
  },
  {
   "cell_type": "markdown",
   "metadata": {},
   "source": [
    "평균이 1일때 가능도가 가장 크다."
   ]
  },
  {
   "cell_type": "code",
   "execution_count": 43,
   "metadata": {},
   "outputs": [
    {
     "data": {
      "image/png": "[encoded data removed]",
      "text/plain": [
       "<Figure size 432x288 with 1 Axes>"
      ]
     },
     "metadata": {},
     "output_type": "display_data"
    }
   ],
   "source": [
    "# 위의 문제와 x 표본이 많아진 후 가능도 분포 살펴보기....\n",
    "\n",
    "x = np.linspace(-5, 5, 100)\n",
    "\n",
    "p1 = sp.stats.norm(loc=-1).pdf(1)\n",
    "p2 = sp.stats.norm(loc=0).pdf(1)\n",
    "p3 = sp.stats.norm(loc=1).pdf(1)\n",
    "\n",
    "plt.scatter(1, p1, s=100, c='r', marker='v', label=r\"$N(x_1;\\mu=-1)$={:.2f}\".format(np.round(p1, 2)))\n",
    "plt.scatter(1, p2, s=100, c='b', marker='^', label=r\"$N(x_1;\\mu=0)$={:.2f}\".format(np.round(p2, 2)))\n",
    "plt.scatter(1, p3, s=100, c='g', marker='s', label=r\"$N(x_1;\\mu=1)$={:.2f}\".format(np.round(p3, 2)))\n",
    "\n",
    "plt.plot(x, sp.stats.norm(loc=-1).pdf(x), ls=\"-.\")\n",
    "plt.plot(x, sp.stats.norm(loc=0).pdf(x), ls=\"--\")\n",
    "plt.plot(x, sp.stats.norm(loc=1).pdf(x), ls=\"-\")\n",
    "plt.scatter(1, 0, s=100, c='k')  # x=1 표시\n",
    "plt.vlines(1, -0.09, 0.45, linestyles=\":\")  # x=1 표시\n",
    "plt.text(1-0.3, -0.15, \"$x_1=1$\")\n",
    "plt.xlabel(\"$x$\")\n",
    "plt.ylabel(\"확률밀도(가능도)\")\n",
    "plt.legend()\n",
    "plt.title(\"최대가능도 추정 원리\")\n",
    "plt.show()"
   ]
  },
  {
   "cell_type": "markdown",
   "metadata": {},
   "source": [
    "+ 𝑁(𝑥;𝜇=−1) 이라는 확률분포에서  𝑥=1 이 나올 가능도(확률밀도)는 0.05이다.\n",
    "+ 𝑁(𝑥;𝜇=0) 이라는 확률분포에서  𝑥=1 이 나올 가능도(확률밀도)는 0.24이다.\n",
    "+ 𝑁(𝑥;𝜇=1) 이라는 확률분포에서  𝑥=1 이 나올 가능도(확률밀도)는 0.40이다.\n",
    "\n",
    "어떤 확률분포를 고르는 것이 합리적인가? 당연히 가장 큰 가능도를 가진 확률분포를 선택해야 한다. 그림에서 볼 수 있듯이  𝜇=1 일 경우의 가능도가 가장 크다. 따라서 최대 가능도 추정에 의한 추정값은  𝜇̂ ML=1 이다."
   ]
  },
  {
   "cell_type": "markdown",
   "metadata": {},
   "source": [
    "### 복수의 표본 데이터가 있는 경우의 가능도 함수\n",
    "\n",
    "일반적으로는 추정을 위해 확보하고 있는 확률변수 표본의 수가 하나가 아니라 복수개  {𝑥1,𝑥2,⋯𝑥𝑁}  이므로 가능도도 복수 표본값에 대한 결합 확률밀도  𝑝𝑋1,𝑋2,⋯,𝑋𝑁(𝑥1,𝑥2,⋯,𝑥𝑁;𝜃)  에서 구해야 한다. \n",
    "\n",
    "##### 표본 데이터  𝑥1,𝑥2,⋯𝑥𝑁 는 같은 확률 분포에서 나온 독립적인 값들이므로 결합 확률밀도함수는 다음처럼 곱으로 표현된다."
   ]
  },
  {
   "cell_type": "markdown",
   "metadata": {},
   "source": [
    "$$L(\\theta; x_1, \\ldots, x_N) \n",
    "= p(x_1, \\ldots, x_N; \\theta)\n",
    "= \\prod_{i=1}^N p(x_i; \\theta)$$"
   ]
  },
  {
   "cell_type": "markdown",
   "metadata": {},
   "source": [
    "### 예제 \n",
    "가우시안 정규 분포로 부터 얻은 표본 데이터의 값이 다음과 같다고 하자.\n",
    "\n",
    "$$\\{ 1, 0, -3 \\}$$\n",
    "\n",
    "이 경우의 가능도 함수는 다음과 같다.\n",
    "\n",
    "\\begin{aligned} \n",
    "L(\\theta; x_1, x_2, x_3) &= \n",
    "\\mathcal{N}(x_1, x_2, x_3;\\theta)  \\\\\n",
    "&=\n",
    "\\mathcal{N}(x_1;\\theta) \\cdot \\mathcal{N}(x_2;\\theta) \\cdot \\mathcal{N}(x_3;\\theta) \\\\\n",
    "&=\n",
    "\\dfrac{1}{\\sqrt{2\\pi\\sigma^2}} \\exp\\left({-\\frac{(1-\\mu)^2}{2\\sigma^2}}\\right) \\cdot\n",
    "\\dfrac{1}{\\sqrt{2\\pi\\sigma^2}} \\exp\\left({-\\frac{(0-\\mu)^2}{2\\sigma^2}}\\right) \\cdot\n",
    "\\dfrac{1}{\\sqrt{2\\pi\\sigma^2}} \\exp\\left({-\\frac{(-3-\\mu)^2}{2\\sigma^2}}\\right) \\\\\n",
    "&=\n",
    "\\dfrac{1}{(2\\pi\\sigma^2)^{\\frac{3}{2}}} \n",
    "\\exp\\left({-\\frac{\\mu^2 + (1-\\mu)^2 + (-3-\\mu)^2}{2\\sigma^2}}\\right) \\\\\n",
    "&=\n",
    "\\dfrac{1}{(2\\pi\\sigma^2)^{\\frac{3}{2}}} \n",
    "\\exp\\left({-\\frac{3\\mu^2+4\\mu+10}{2\\sigma^2}}\\right) \\cdot \\\\\n",
    "&=\n",
    "\\dfrac{1}{(2\\pi\\sigma^2)^{\\frac{3}{2}}} \n",
    "\\exp\\left({-\\frac{3(\\mu+\\frac23)^2+\\frac{26}3}{2\\sigma^2}}\\right) \\cdot\n",
    "\\end{aligned}\n",
    "\n",
    "따라서 가장 가능도를 높게하는 모수의 값은  −23 이다."
   ]
  },
  {
   "cell_type": "code",
   "execution_count": 45,
   "metadata": {},
   "outputs": [
    {
     "data": {
      "text/plain": [
       "(1000,)"
      ]
     },
     "execution_count": 45,
     "metadata": {},
     "output_type": "execute_result"
    }
   ],
   "source": [
    "mu = np.linspace(-3, 3, 1000)\n",
    "sigma2 = 1\n",
    "\n",
    "def likelihood(mu):\n",
    "    return (2 * np.pi * sigma2) ** (3 / 2) * np.exp(-(3 * (mu + 2 / 3)**2 + 26 / 3) / (2 * sigma2))\n",
    "\n",
    "li = likelihood(mu)\n",
    "li.shape"
   ]
  },
  {
   "cell_type": "code",
   "execution_count": 47,
   "metadata": {},
   "outputs": [
    {
     "data": {
      "image/png": "[encoded data removed]",
      "text/plain": [
       "<Figure size 432x288 with 1 Axes>"
      ]
     },
     "metadata": {},
     "output_type": "display_data"
    }
   ],
   "source": [
    "# mu에 대해 가능도 분포 그리기\n",
    "plt.plot(mu, li)\n",
    "plt.vlines(-2/3, 0, 0.25, linestyles=\":\")  # 최대 가능도 표시(약 -2/3)\n",
    "plt.xlabel(\"모수 $\\mu$\")\n",
    "plt.title(\"데이터가 {1, 0, -3}이 나온 경우의 정규분포의 가능도 함수\")\n",
    "plt.show()"
   ]
  },
  {
   "cell_type": "markdown",
   "metadata": {},
   "source": [
    "### 예제\n",
    "\n",
    "베르누이 분포로부터 얻은 표본 데이터의 값이 다음과 같다고 하자.\n",
    "\n",
    "$$\\{ 1, 0, 1 \\}$$\n",
    "\n",
    "이 경우의 가능도 함수는 다음과 같다.\n",
    "\n",
    "\\begin{aligned}\n",
    "L(\\mu; x_1=1, x_2=0, x_3=1) \n",
    "&= p(x_1=1, x_2=0, x_3=1; \\mu) \\\\\n",
    "&= p(x=1;\\mu)p(x=0;\\mu)p(x=1;\\mu) \\\\\n",
    "&= \\mu^1 (1-\\mu)^{1-1} \\cdot \\mu^0 (1-\\mu)^{1-0} \\cdot \\mu^1 (1-\\mu)^{1-1} \\\\\n",
    "&= \\mu \\cdot (1=\\mu) \\cdot \\mu \\\\\n",
    "&= \\mu^2(1-\\mu)\n",
    "\\end{aligned}"
   ]
  },
  {
   "cell_type": "markdown",
   "metadata": {},
   "source": [
    "### 로그 가능도 함수\n",
    "\n",
    "실제로 최대 가능도 추정 방법을 사용하려면 가능도가 최대가 되는  𝜃 를 수치적으로 계산해야 한다. 즉 수치적 최적화(numerical optimization) 문제가 된다.\n",
    "\n",
    "$$\\hat\\theta_{\\text{ML}} = \\arg \\max_{\\theta} L(\\theta; \\{x_i\\})$$\n",
    "\n",
    "##### 그런데 보통은 가능도를 직접 사용하는 것이 아니라 로그 변환한 로그 가능도 함수  𝐿𝐿=log𝐿 를 사용하는 경우가 많다.\n",
    "\n",
    "$$\\hat\\theta_{\\text{ML}} = \\arg \\max_{\\theta} \\log{L}(\\theta; \\{x_i\\})$$"
   ]
  },
  {
   "cell_type": "markdown",
   "metadata": {},
   "source": [
    "이유는 다음과 같다.\n",
    "\n",
    "1. 로그 변환에 의해서는 최대값의 위치가 변치 않는다\n",
    "2. 반복시행으로 인한 복수 표본 데이터인 경우 결합 확률밀도함수가 동일한 함수의 곱으로 나타나는 경우가 많은데 이 때 로그 변환에 의해 곱셈이 덧셈이 되어 계산이 단순해진다."
   ]
  },
  {
   "cell_type": "markdown",
   "metadata": {},
   "source": [
    "### 로그가능도 예제\n",
    "위 예와 같이 가우시안 정규 분포로 부터 얻은 표본값이 다음과 같은 경우\n",
    "\n",
    "$$\\{ 1, 0, -3 \\}$$\n",
    "\n",
    "로그 변환을 하면 최대값의 위치가  −2/3 라는 것을 쉽게 구할 수 있다.\n",
    "\n",
    "\\begin{aligned}\n",
    "\\log L(\\mu; x_1, x_2, x_3) \n",
    "&= \n",
    "\\log \\left( \\dfrac{1}{(2\\pi\\sigma^2)^{\\frac{3}{2}}} \\exp\\left({-\\frac{3\\mu^2+4\\mu+10}{2\\sigma^2}}\\right) \\right) \\\\\n",
    "&= \n",
    "\\log \\left( \\dfrac{1}{(2\\pi\\sigma^2)^{\\frac{3}{2}}} \\right) -\\frac{3\\mu^2+4\\mu+10}{2\\sigma^2} \\\\\n",
    "&= \n",
    "\\log \\left( \\dfrac{1}{(2\\pi\\sigma^2)^{\\frac{3}{2}}} \\right) -\\frac{3\\left(\\mu+\\frac{2}{3}\\right)^2+\\frac{26}{3}}{2\\sigma^2} \\\\\n",
    "\\end{aligned}"
   ]
  },
  {
   "cell_type": "markdown",
   "metadata": {},
   "source": [
    "### Practice 1\n",
    "\n",
    "베르누이 분포 확률변수로부터 다음과 같은 표본을 얻었다. 이 확률변수의 모수  𝜇 를 최대 가능도 추정법을 사용하여 구하라.\n",
    "\n",
    "$$\\{ 1, 0, 1, 1 \\}$$"
   ]
  },
  {
   "cell_type": "raw",
   "metadata": {},
   "source": [
    "p(x=1; mu) = mu**1 * (1-mu)**(1-1) = mu\n",
    "p(x=0; mu) = mu**0 * (1-mu)**1 * = 1-mu\n",
    "\n",
    "  p(x1=1, x2=0, x3=1, x=1; mu)\n",
    "= p(x=1; mu) * p(x=0; mu) * p(x=1; mu) * p(x=1; mu)\n",
    "= mu * (1-mu) * mu * mu = mu**3(1-mu)\n",
    "\n",
    "즉, 표본 1의 갯수만큼 mu ** (표본갯수), 표본 0의 갯수만큼 (1-mu)**(0의 표본갯수)의 가능도 함수가 됨"
   ]
  },
  {
   "cell_type": "markdown",
   "metadata": {},
   "source": [
    "### Practice 2\n",
    "\n",
    "𝐾=4 인 카테고리 분포 확률변수로부터 다음과 같은 표본을 얻었다. 이 확률변수의 모수 𝜇를 최대 가능도 추정법을 사용하여 구하라.\n",
    "\n",
    "$$\\{ 1, 4, 1, 2, 4, 2, 3, 4 \\}$$"
   ]
  },
  {
   "cell_type": "raw",
   "metadata": {},
   "source": [
    "베르누이 분포의 최대가능도를 각각에 적용하면, \n",
    "\n",
    "x1 = {1, 0, 0, 0}  ==> mu1 : mu1(1-mu1)^3\n",
    "x2 = {0, 0, 0, 1}  ==> mu4 : mu4(1-mu1)^3\n",
    "x3 = {1, 0, 0, 0}  ==> mu1 : mu1(1-mu1)^3\n",
    "x4 = {0, 1, 0, 0}  ==> mu2 : mu2(1-mu2)^3\n",
    "x5 = {0, 0, 0, 1}  ==> mu4 : mu4(1-mu4)^3\n",
    "x6 = {0, 1, 0, 0}  ==> mu2 : mu2(1-mu2)^3\n",
    "x7 = {0, 0, 1, 0}  ==> mu3 : mu3(1-mu3)^3\n",
    "x8 = {0, 0, 0, 1}  ==> mu4 : mu4(1-mu4)^3\n",
    "\n",
    "각각을 곱하면 (mu1 * (1-mu1)^3)^2 * (mu2 * (1-mu2)^3)^2 * (mu3 * (1-mu3)^3)^1 * (mu4 * (1-mu4)^3)^3"
   ]
  },
  {
   "cell_type": "markdown",
   "metadata": {},
   "source": [
    "### Practice 3\n",
    "\n",
    "2차원 다변수 가우시안 정규 분포 확률변수로부터 다음과 같은 표본을 얻었다. 이 확률변수의 모수  𝜇 ,  Σ 를 최대 가능도 추정법을 사용하여 구하라.\n",
    "\n",
    "$$x_1 = (-1, 2), \\; x_2 = (0, 2) , \\; x_3 = (-2, -1)$$\n",
    "\n",
    "𝜇 ,  Σ 를 모수로 하고 x 벡터를 상수로 하는 가능도 함수로, 아래의 단변수 가우시안 정규분포와 같이 적용하면\n",
    "\n"
   ]
  },
  {
   "cell_type": "markdown",
   "metadata": {},
   "source": [
    "$$L(\\mu, \\Sigma; x_0) = \\dfrac{1}{(2\\pi)^{D/2} |\\Sigma| ^{1/2}} \\exp \\left( -\\dfrac{1}{2} (x_0-\\mu)^T \\Sigma^{-1} (x_0-\\mu) \\right)$$"
   ]
  },
  {
   "cell_type": "code",
   "execution_count": 97,
   "metadata": {},
   "outputs": [
    {
     "data": {
      "image/png": "[encoded data removed]",
      "text/plain": [
       "<Figure size 432x288 with 1 Axes>"
      ]
     },
     "metadata": {},
     "output_type": "display_data"
    }
   ],
   "source": [
    "x = np.array([[-1, 2], [0, 2], [-2, 1]])\n",
    "x_1 = np.array([-1, 0, -2])\n",
    "x_2 = np.array([2, 2, 1])\n",
    "X1, X2 = np.meshgrid(x_1, x_2)\n",
    "\n",
    "cov = np.array([[1, 0], [0, 1]])\n",
    "\n",
    "def likelihood_mu(mu):\n",
    "    return sp.stats.multivariate_normal(mu, cov).pdf(np.dstack([X1, X2]))\n",
    "\n",
    "mus = np.linspace(-5, 5, 100).reshape((-1, 2))\n",
    "likelihood_mu = [likelihood_mu(mu) for mu in mus]\n",
    "\n",
    "plt.subplot(211)\n",
    "plt.scatter(mus[:, 0], mus[:, 1], s=1) # mus 분포\n",
    "plt.xlabel(\"$\\mu_x$\")\n",
    "plt.ylabel(\"$\\mu_y$\")\n",
    "plt.show()\n",
    "\n",
    "\n"
   ]
  },
  {
   "cell_type": "markdown",
   "metadata": {},
   "source": [
    "## 베르누이 확률변수의 모수 추정\n",
    "\n",
    "모수가  𝜇 인 베르누이 분포의 확률질량함수는 다음과 같다.\n",
    "\n",
    "$$p(x ; \\mu ) = \\text{Bern}(x ; \\mu ) = \\mu^x (1 - \\mu)^{1-x}$$"
   ]
  },
  {
   "cell_type": "markdown",
   "metadata": {},
   "source": [
    "그런데  𝑁  번의 반복 시행으로 표본 데이터가  𝑥1,⋯,𝑥𝑁  가 있는 경우에는 모두 독립이므로 전체 확률질량함수는 각각의 확률질량함수의 곱과 같다.\n",
    "\n",
    "$$L(\\mu ; x_1, \\cdots, x_N) = p(x_1, \\cdots, x_N;\\mu) = \\prod_{i=1}^N  \\mu^{x_i} (1 - \\mu)^{1-x_i}$$"
   ]
  },
  {
   "cell_type": "markdown",
   "metadata": {},
   "source": [
    "미분을 쉽게 하기 위해 로그 변환을 한 로그 가능도를 구하면 다음과 같다.\n",
    "\n",
    "\\begin{aligned}\n",
    "\\log L \n",
    "&= \\log p(x_1, \\cdots, x_N;\\mu)  \\\\\n",
    "&= \\sum_{i=1}^N \\big\\{ {x_i} \\log\\mu + (1-x_i)\\log(1 - \\mu) \\big\\} \\\\\n",
    "&=  \\sum_{i=1}^N {x_i} \\log\\mu +  \\left( N-\\sum_{i=1}^N x_i \\right) \\log( 1 - \\mu ) \\\\\n",
    "\\end{aligned}\n",
    "\n",
    "𝑥=1 (성공) 또는 𝑥=0 (실패) 이므로 성공 횟수와 실패 횟수를 다음과 같이 𝑁1, 𝑁0라고 표기하도록 하자.\n",
    "\n",
    "$$N_1 = \\sum_{i=1}^N {x_i}, \\;\\;\\; N_0 = N - \\sum_{i=1}^N {x_i}$$"
   ]
  },
  {
   "cell_type": "markdown",
   "metadata": {},
   "source": [
    "로그 가능도는 다음과 같아진다.\n",
    "\n",
    "\\begin{aligned}\n",
    "\\log L \n",
    "&=  N_1 \\log\\mu  + N_0 \\log(1 - \\mu) \\\\\n",
    "\\end{aligned}\n",
    "\n",
    "\n",
    "###### 이 목적 함수를 모수로 미분한 값이 0이 되게 하는 모수 값을 구하면 다음과 같다.\n",
    "\n",
    "\\begin{aligned}\n",
    "\\dfrac{\\partial \\log L}{\\partial \\mu} \n",
    "&= \\dfrac{\\partial}{\\partial \\mu} \\big\\{ N_1 \\log\\mu  + N_0 \\log(1 - \\mu)  \\big\\} = 0\\\\\n",
    "&= \\dfrac{N_1}{\\mu}  - \\dfrac{N_0}{1-\\mu} = 0 \\\\\n",
    "\\end{aligned}\n",
    "\n",
    "$$\\dfrac{N_1}{\\mu}  = \\dfrac{N_0}{1-\\mu}$$\n",
    "\n",
    "$$\\dfrac{1-\\mu}{\\mu} = \\dfrac{N_0}{N_1} = \\dfrac{N-N_1}{N_1}$$\n",
    "\n",
    "$$\\dfrac{1}{\\mu} - 1 = \\dfrac{N}{N_1} - 1$$\n",
    "\n",
    "$$\\mu= \\dfrac{N_1}{N}$$"
   ]
  },
  {
   "cell_type": "code",
   "execution_count": 98,
   "metadata": {},
   "outputs": [
    {
     "data": {
      "text/plain": [
       "0.61"
      ]
     },
     "execution_count": 98,
     "metadata": {},
     "output_type": "execute_result"
    }
   ],
   "source": [
    "np.random.seed(0)\n",
    "mu0 = 0.6\n",
    "x = sp.stats.bernoulli(mu0).rvs(1000)\n",
    "N0, N1 = np.bincount(x, minlength=2)\n",
    "N = N0 + N1\n",
    "mu = N1 / N\n",
    "mu"
   ]
  },
  {
   "cell_type": "markdown",
   "metadata": {},
   "source": [
    "## 카테고리 분포의 모수 추정\n",
    "\n",
    "모수가  𝜇=(𝜇1,⋯,𝜇𝐾) 인 카테고리 분포의 확률질량함수는 다음과 같다.\n",
    "\n",
    "$$p(x ; \\mu_1, \\cdots, \\mu_K ) = \\text{Cat}(x ; \\mu_1, \\cdots, \\mu_K) = \\prod_{k=1}^K \\mu_k^{x_k}$$\n",
    "\n",
    "$$\\sum_{k=1}^K \\mu_k = 1$$\n",
    "\n",
    "그런데  𝑁  번의 반복 시행으로 표본 데이터가  𝑥1,⋯,𝑥𝑖,⋯,𝑥𝑁  가 있는 경우에는 모두 독립이므로 전체 확률밀도함수는 각각의 확률질량함수의 곱과 같다.\n",
    "\n",
    "$$L(\\mu_1, \\cdots, \\mu_K ; x_1, \\cdots, x_i, \\cdots, x_N) = p(x_1, \\cdots, x_i, \\cdots, x_N;\\mu_1, \\cdots, \\mu_K) = \\prod_{i=1}^N \\prod_{k=1}^K \\mu_k^{x_{i,k}}$$\n",
    "\n"
   ]
  },
  {
   "cell_type": "markdown",
   "metadata": {},
   "source": [
    "위 식에서  𝑥𝑖,𝑘 는  𝑖 번째 시행 결과인  𝑥𝑖 의  𝑘 번째 원소를 뜻한다.\n",
    "\n",
    "미분을 쉽게 하기 위해 로그 변환을 한 로그 가능도를 구하면 다음과 같다.\n",
    "\n",
    "\\begin{aligned}\n",
    "\\log L \n",
    "&= \\log p(x_1, \\cdots, x_N;\\mu_1, \\cdots, \\mu_K)  \\\\\n",
    "&= \\sum_{i=1}^N \\sum_{k=1}^K  \\left( {x_{i,k}} \\log\\mu_k  \\right) \\\\\n",
    "&= \\sum_{k=1}^K  \\sum_{i=1}^N  \\left(  \\log\\mu_k \\cdot {x_{i,k}}\\right) \\\\\n",
    "&= \\sum_{k=1}^K \\left( \\log\\mu_k \\left( \\sum_{i=1}^N {x_{i,k}}   \\right)  \\right)\n",
    "\\end{aligned}"
   ]
  },
  {
   "cell_type": "markdown",
   "metadata": {},
   "source": [
    "𝑥𝑘 가 나온 횟수를 𝑁𝑘이라고 표기하자.\n",
    "\n",
    "$$N_k = \\sum_{i=1}^N {x_{i,k}}$$"
   ]
  },
  {
   "cell_type": "markdown",
   "metadata": {},
   "source": [
    "그러면 로그 가능도가 다음과 같아지며 이 함수를 최대화하는 모수의 값을 찾아야 한다.\n",
    "\n",
    "\\begin{aligned}\n",
    "\\log L \n",
    "&= \\sum_{k=1}^K \\left( \\log\\mu_k  \\cdot N_k  \\right)\n",
    "\\end{aligned}"
   ]
  },
  {
   "cell_type": "markdown",
   "metadata": {},
   "source": [
    "그런데 모수는 다음과 같은 제한 조건을 만족해야만 한다.\n",
    "\n",
    "$$\\sum_{k=1}^K \\mu_k = 1$$\n",
    "\n",
    "따라서 라그랑주 승수법을 사용하여 로그 가능도에 제한 조건을 추가한 새로운 목적함수를 생각할 수 있다.\n",
    "\n",
    "$$J = \\sum_{k=1}^K \\log\\mu_k N_k  + \\lambda \\left(1- \\sum_{k=1}^K \\mu_k \\right)$$"
   ]
  },
  {
   "cell_type": "markdown",
   "metadata": {},
   "source": [
    "이 목적 함수를 모수로 미분한 값이 0이 되는 값을 구하면 된다.\n",
    "\n",
    "\\begin{aligned}\n",
    "\\dfrac{\\partial J}{\\partial \\mu_k} \n",
    "&= \\dfrac{\\partial}{\\partial \\mu_k} \\left\\{ \\sum_{k=1}^K \\log\\mu_k N_k  + \\lambda \\left(1- \\sum_{k=1}^K \\mu_k\\right)  \\right\\} = 0 & \\;\\;\\; (k=1, \\cdots, K) \\\\\n",
    "\\dfrac{\\partial J}{\\partial \\lambda} \n",
    "&= \\dfrac{\\partial}{\\partial \\lambda} \\left\\{ \\sum_{k=1}^K \\log\\mu_k N_k  + \\lambda \\left(1- \\sum_{k=1}^K \\mu_k \\right)  \\right\\} = 0 & \\\\\n",
    "\\end{aligned}"
   ]
  },
  {
   "cell_type": "markdown",
   "metadata": {},
   "source": [
    "이를 풀면 다음과 같이 모수를 추정할 수 있다.\n",
    "\n",
    "$$\\dfrac{N_1}{\\mu_1}  = \\dfrac{N_2}{\\mu_2} = \\cdots = \\dfrac{N_K}{\\mu_K} = \\lambda$$\n",
    "\n",
    "$$N_k = \\lambda \\mu_k$$\n",
    "\n",
    "$$\\sum_{k=1}^K N_k = \\lambda \\sum_{k=1}^K \\mu_k  = \\lambda = N$$\n",
    "\n",
    "$$\\mu_k = \\dfrac{N_k}{N}$$"
   ]
  },
  {
   "cell_type": "code",
   "execution_count": 100,
   "metadata": {},
   "outputs": [
    {
     "data": {
      "text/plain": [
       "array([0.098, 0.317, 0.585])"
      ]
     },
     "execution_count": 100,
     "metadata": {},
     "output_type": "execute_result"
    }
   ],
   "source": [
    "np.random.seed(0)\n",
    "mu0 = np.array([0.1, 0.3, 0.6])\n",
    "x = np.random.choice(np.arange(3), 1000, p=mu0)  # 확률 mu0로 적용하여 0, 1, 2 값 난수 100개 생성\n",
    "N0, N1, N2 = np.bincount(x, minlength=3)\n",
    "N = N0 + N1 + N2\n",
    "mu = np.array([N0, N1, N2]) / N\n",
    "mu"
   ]
  },
  {
   "cell_type": "markdown",
   "metadata": {},
   "source": [
    "원래의 평균벡터와 유사하게 추정되고 있다."
   ]
  },
  {
   "cell_type": "markdown",
   "metadata": {},
   "source": [
    "## 정규분포의 모수 추정\n",
    "\n",
    "가우시안 정규 분포의 확률밀도함수는 다음과 같다. 여기에서  𝑥 는 스칼라 값이다.\n",
    "\n",
    "$$p(x ; \\theta ) = \\mathcal{N}(x ; \\mu, \\sigma^2) = \\dfrac{1}{\\sqrt{2\\pi\\sigma^2}} \\exp \\left(-\\dfrac{(x-\\mu)^2}{2\\sigma^2}\\right)$$\n",
    "\n",
    "그런데  𝑁  번의 반복 시행으로 표본 데이터가  𝑥1,⋯,𝑥𝑁  가 있는 경우에는 모두 독립이므로 전체 확률밀도함수는 각각의 확률밀도함수의 곱과 같다.\n",
    "\n",
    "$$L(\\mu;x_1, \\cdots, x_N) = p(x_1, \\cdots, x_N;\\mu) = \\prod_{i=1}^N  \\dfrac{1}{\\sqrt{2\\pi\\sigma^2}} \\exp \\left(-\\dfrac{(x_i-\\mu)^2}{2\\sigma^2}\\right)$$\n",
    "\n",
    "미분을 쉽게 하기 위해 로그 변환을 한 로그 가능도를 구하면 다음과 같다. 여기에서 상수 부분은 모아서  𝐶  로 표기하였다.\n",
    "\n",
    "\\begin{aligned}\n",
    "\\log L \n",
    "&= \\log p(x_1, \\cdots, x_N;\\mu)  \\\\\n",
    "&= \\sum_{i=1}^N \\left\\{ -\\dfrac{1}{2}\\log(2\\pi\\sigma^2) - \\dfrac{(x_i-\\mu)^2}{2\\sigma^2} \\right\\} \\\\\n",
    "&= -\\dfrac{N}{2} \\log(2\\pi\\sigma^2) - \\dfrac{1}{2\\sigma^2}\\sum_{i=1}^N (x_i-\\mu)^2\n",
    "\\end{aligned}"
   ]
  },
  {
   "cell_type": "markdown",
   "metadata": {},
   "source": [
    "이 확률밀도함수가 최대가 되는 모수 값을 찾기 위해서는 각각의 모수로 미분한 값이 0이 되어야 한다.\n",
    "\n",
    "\\begin{aligned}\n",
    "\\dfrac{\\partial \\log L}{\\partial \\mu} \n",
    "&= \\dfrac{\\partial}{\\partial \\mu} \\left\\{ \\dfrac{N}{2} \\log(2\\pi\\sigma^2) + \\dfrac{1}{2\\sigma^2}\\sum_{i=1}^N (x_i-\\mu)^2  \\right\\} = 0 \\\\\n",
    "\\dfrac{\\partial \\log L}{\\partial \\sigma^2} \n",
    "&= \\dfrac{\\partial}{\\partial \\sigma^2} \\left\\{ \\dfrac{N}{2} \\log(2\\pi\\sigma^2) + \\dfrac{1}{2\\sigma^2}\\sum_{i=1}^N (x_i-\\mu)^2 \\right\\} = 0\\\\\n",
    "\\end{aligned}"
   ]
  },
  {
   "cell_type": "markdown",
   "metadata": {},
   "source": [
    "이 두 식을 풀면 주어진 데이터 표본에 대해 모수의 가능도를 가장 크게 하는 모수의 값을 구할 수 있다. 먼저  𝜇 에 대한 미분을 정리하면 다음과 같다.\n",
    "\n",
    "$$\\dfrac{\\partial \\log L}{\\partial \\mu}  = \\dfrac{2}{2\\sigma^2}\\sum_{i=1}^N (x_i-\\mu) = 0$$\n",
    "\n",
    "$$N \\mu = \\sum_{i=1}^N x_i$$\n",
    "\n",
    "$$\\mu = \\dfrac{1}{N}\\sum_{i=1}^N x_i = \\bar{x}$$"
   ]
  },
  {
   "cell_type": "markdown",
   "metadata": {},
   "source": [
    "다음으로  𝜎2 에 대한 미분을 정리하면 다음과 같다.\n",
    "\n",
    "$$\\dfrac{\\partial \\log L}{\\partial \\sigma^2}  = \\dfrac{N}{2\\sigma^2} -  \\dfrac{1}{2(\\sigma^2)^2}\\sum_{i=1}^N (x_i-\\mu)^2  = 0$$\n",
    "\n",
    "$$\\sigma^2  =  \\dfrac{1}{N}\\sum_{i=1}^N (x_i-\\mu)^2 = \\dfrac{1}{N}\\sum_{i=1}^N (x_i-\\bar{x})^2 = s^2$$"
   ]
  },
  {
   "cell_type": "code",
   "execution_count": 101,
   "metadata": {},
   "outputs": [
    {
     "data": {
      "text/plain": [
       "(0.9094865850196092, 3.9008386639125296)"
      ]
     },
     "execution_count": 101,
     "metadata": {},
     "output_type": "execute_result"
    }
   ],
   "source": [
    "np.random.seed(0)\n",
    "mu0 = 1\n",
    "sigma0 = 2\n",
    "x = sp.stats.norm(mu0, sigma0).rvs(1000)\n",
    "xbar = x.mean()\n",
    "s2 = x.var(ddof=1)\n",
    "xbar, s2  # 원래 값과 유사한 값으로 추정됨"
   ]
  },
  {
   "cell_type": "markdown",
   "metadata": {},
   "source": [
    "## 다변수 정규 분포의 모수 추정\n",
    "\n",
    "다변수 가우시안 정규 분포의 확률밀도함수는 다음과 같다. 여기에서  𝑥 는  𝑀 차원 벡터이고 기댓값도  𝑀 차원 벡터, 공분산 행렬은  𝑀×𝑀  행렬이다. 지금까지와 마찬가지로 공분산 행렬  Σ 가 양의 정부호(positive definite)라고 가정한다. 따라서 정밀도 행렬  Σ−1=Λ 가 존재할 수 있다."
   ]
  },
  {
   "cell_type": "markdown",
   "metadata": {},
   "source": [
    "$$p(x ; \\theta ) = \\mathcal{N}(x ; \\mu, \\Sigma) = \\dfrac{1}{(2\\pi)^{M/2} |\\Sigma|^{1/2}} \\exp \\left( -\\dfrac{1}{2} (x-\\mu)^T \\Sigma^{-1} (x-\\mu) \\right)$$"
   ]
  },
  {
   "cell_type": "markdown",
   "metadata": {},
   "source": [
    "그런데  𝑁 번의 반복 시행으로 표본 데이터가  𝑥1,⋯,𝑥𝑁  가 있는 경우에는 모두 독립이므로 전체 확률밀도함수는 각각의 확률밀도함수의 곱과 같다.\n",
    "\n",
    "$$L(\\mu;x_1, \\cdots, x_N) = p(x_1, \\cdots, x_N;\\mu) = \\prod_{i=1}^N  \\dfrac{1}{(2\\pi)^{M/2} |\\Sigma|^{1/2}} \\exp \\left( -\\dfrac{1}{2} (x_i-\\mu)^T \\Sigma^{-1} (x_i-\\mu) \\right)$$"
   ]
  },
  {
   "cell_type": "markdown",
   "metadata": {},
   "source": [
    "미분을 쉽게 하기 위해 로그 변환을 한 로그 가능도를 구하면 다음과 같다. 여기에서 상수 부분은 모아서  𝐶 로 표기하였다.\n",
    "\n",
    "\\begin{aligned}\n",
    "\\log L \n",
    "&= \\log p(x_1, \\cdots, x_N;\\mu)  \\\\\n",
    "&= \\sum_{i=1}^N \\left\\{ -\\log((2\\pi)^{M/2} |\\Sigma|^{1/2}) - \\dfrac{1}{2} (x_i-\\mu)^T \\Sigma^{-1} (x_i-\\mu) \\right\\} \\\\\n",
    "&= C -\\dfrac{N}{2} \\log|\\Sigma| - \\dfrac{1}{2} \\sum_i^N (x_i-\\mu)^T \\Sigma^{-1} (x_i-\\mu) \n",
    "\\end{aligned}"
   ]
  },
  {
   "cell_type": "markdown",
   "metadata": {},
   "source": [
    "여기에서 기호를 단순하게 하기 위해 정밀도 행렬  Σ−1 를  Λ 로 표시하자.\n",
    "\n",
    "$$\\Lambda = \\Sigma^{-1}$$\n",
    "\n",
    "\\begin{aligned}\n",
    "\\log L \n",
    "&= C + \\dfrac{N}{2} \\log|\\Lambda| - \\dfrac{1}{2} \\sum_i^N(x_i-\\mu)^T \\Lambda (x_i-\\mu) \n",
    "\\end{aligned}\n",
    "\n",
    "이 확률밀도함수가 최대가 되는 모수 값을 찾기 위해서는 각각의 모수로 미분한 값이 0이 되어야 한다.\n",
    "\n",
    "\\begin{aligned}\n",
    "\\dfrac{\\partial \\log L}{\\partial \\mu} \n",
    "&= -  \\dfrac{\\partial}{\\partial \\mu}  \\sum_{i=1}^N (x_i-\\mu)^T \\Lambda (x_i-\\mu) \\\\\n",
    "&= - \\sum_{i=1}^N 2\\Lambda (x_i - \\mu) \\\\\n",
    "&= -2\\Lambda \\sum_{i=1}^N  (x_i - \\mu) \\\\\n",
    "&= 0 \n",
    "\\end{aligned}\n",
    "\n",
    "\\begin{aligned}\n",
    "\\dfrac{\\partial \\log L}{\\partial \\Lambda} \n",
    "&= \\dfrac{\\partial}{\\partial \\Lambda} \\dfrac{N}{2} \\log|\\Lambda| - \\dfrac{\\partial}{\\partial \\Lambda}  \\dfrac{1}{2} \\sum_{i=1}^N  (x_i-\\mu)^T\\Lambda (x_i-\\mu)\\\\\n",
    "&= \\dfrac{\\partial}{\\partial \\Lambda} \\dfrac{N}{2} \\log|\\Lambda| - \\dfrac{\\partial}{\\partial \\Lambda}  \\dfrac{1}{2} \\sum_{i=1}^N \\text{tr}( (x_i-\\mu)^T\\Lambda (x_i-\\mu)) \\\\\n",
    "&= \\dfrac{\\partial}{\\partial \\Lambda} \\dfrac{N}{2} \\log|\\Lambda| - \\dfrac{\\partial}{\\partial \\Lambda}  \\dfrac{1}{2} \\sum_{i=1}^N \\text{tr}( (x_i-\\mu)(x_i-\\mu)^T\\Lambda) \\\\\n",
    "&= 0  \n",
    "\\end{aligned}"
   ]
  },
  {
   "cell_type": "markdown",
   "metadata": {},
   "source": [
    "이 두 식을 풀면 주어진 데이터 표본에 대해 모수의 가능도를 가장 크게 하는 모수의 값을 구할 수 있다. 첫번째 식을 풀어 모수  𝜇  벡터를 구한다.\n",
    "\n",
    "$$\\dfrac{\\partial \\log L}{\\partial \\mu} = -2\\Lambda \\sum_{i=1}^N  (x_i - \\mu) = 0$$\n",
    "\n",
    "$$\\mu = \\dfrac{1}{N}\\sum_{i=1}^N x_i = \\bar{x}$$"
   ]
  },
  {
   "cell_type": "markdown",
   "metadata": {},
   "source": [
    "두번째 식을 풀어 모수  Σ  행렬을 구하면 다음과 같다.\n",
    "\n",
    "$$\\dfrac{\\partial \\log L}{\\partial \\Lambda}  = \\dfrac{N}{2} \\Lambda^{-T} - \\dfrac{1}{2}\\sum_{i=1}^N ((x_i-\\mu)(x_i-\\mu)^T)^T$$\n",
    "\n",
    "$$\\Sigma = \\dfrac{1}{N}\\sum_{i=1}^N (x_i-\\bar{x})(x_i-\\bar{x})^T$$"
   ]
  },
  {
   "cell_type": "code",
   "execution_count": 103,
   "metadata": {},
   "outputs": [
    {
     "name": "stdout",
     "output_type": "stream",
     "text": [
      "[-0.0126996   0.95720206]\n",
      "[[0.96100921 0.16283508]\n",
      " [0.16283508 3.80507694]]\n"
     ]
    }
   ],
   "source": [
    "np.random.seed(0)\n",
    "mu0 = np.array([0, 1])\n",
    "sigma0 = np.array([[1, 0.2], [0.2, 4]])\n",
    "x = sp.stats.multivariate_normal(mu0, sigma0).rvs(1000)\n",
    "xbar = x.mean(axis=0)\n",
    "S2 = np.cov(x, rowvar=0)\n",
    "print(xbar)\n",
    "print(S2)"
   ]
  },
  {
   "cell_type": "code",
   "execution_count": null,
   "metadata": {},
   "outputs": [],
   "source": []
  }
 ],
 "metadata": {
  "kernelspec": {
   "display_name": "Python 3",
   "language": "python",
   "name": "python3"
  },
  "language_info": {
   "codemirror_mode": {
    "name": "ipython",
    "version": 3
   },
   "file_extension": ".py",
   "mimetype": "text/x-python",
   "name": "python",
   "nbconvert_exporter": "python",
   "pygments_lexer": "ipython3",
   "version": "3.5.1"
  }
 },
 "nbformat": 4,
 "nbformat_minor": 2
}
