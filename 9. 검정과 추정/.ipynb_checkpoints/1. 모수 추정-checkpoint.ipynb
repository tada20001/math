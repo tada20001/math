{
 "cells": [
  {
   "cell_type": "markdown",
   "metadata": {},
   "source": [
    "## 모수 추정\n",
    "\n",
    " 데이터 분석의 첫번째 가정은 \n",
    "    \n",
    "#### \"분석하고자 하는 데이터가 어떤 확률변수로부터 실현(realized)된 표본이다\"라는 가정이다. \n",
    "\n",
    "\n",
    "확률론적인 관점에서 볼 때 데이터는 이 확률변수의 분포를 알아내기 위한 일련의 참고 자료일 뿐이다. 따라서 우리는 데이터 즉 표본으로부터 확률변수의 분포를 알아내야 한다.\n",
    "\n",
    "그런데 확률변수의 분포가 우리가 지금까지 배운 베르누이 분포, 이항 분포, 가우시안 정규 분포 등의 기본 분포 중 하나라면 확률 분포를 알아내는 일은 다음처럼 2개의 작업으로 나뉘어진다.\n",
    "\n",
    "1. 확률변수가 어떤 확률분포를 따르는지 알아낸다.\n",
    "2. 확률변수(확률분포)의 모수의 값을 구한다.\n",
    "\n",
    "\n",
    "확률변수가 어떤 확률분포를 따르는가는 데이터가 생성되는 윈리를 알거나 다음과 같은 데이터의 여러가지 특성을 알면 추측할 수 있다.\n",
    "\n",
    "+ 데이터는 0 또는 1 뿐이다. (베르누이 확률변수)\n",
    "+ 데이터는 카테고리 값이어야 한다. (카테고리 확률변수)\n",
    "+ 데이터는 0과 1사이의 실수 값이어야 한다. (베타 분포 확률변수)\n",
    "+ 데이터는 항상 0또는 양수이어야 한다. (감마 분포 확률변수 또는 F-분포 확률변수)\n",
    "\n",
    "\n",
    "정규 분포와 스튜던트-t 분포와 같이 구분하기 힘든 경우도 있는데 이 경우에는 뒤에서 설명할 정규성 검정(normality test)을 사용한다.\n",
    "\n",
    "##### 두번째 작업 즉, 모수의 값으로 가장 가능성이 높은 하나의 숫자를 찾아내는 작업을 모수 추정(parameter estimation)이라고 한다."
   ]
  },
  {
   "cell_type": "markdown",
   "metadata": {},
   "source": [
    "## 모수 추정 방법론\n",
    "\n",
    "모수 추정 방법에는 다음과 같은 방법들이 있다.\n",
    "\n",
    "1. 모멘트 방법(method of moment)\n",
    "2. 최대 가능도 추정(maximum likelihood estimation)\n",
    "3. 베이지안 추정(Bayesian estimation)\n",
    "\n",
    "\n",
    "## 모멘트 방법\n",
    "\n",
    "우선 가장 간단한 방법인 모멘트 방법부터 알아보자.\n",
    "\n",
    "모멘트 방법(MM: Method of Moment)은 표본자료에 대한 표본 모멘트가 확률 분포의 이론적인 모멘트와 같다고 가정하고 모수를 구하는 방법이다."
   ]
  },
  {
   "cell_type": "markdown",
   "metadata": {},
   "source": [
    "$$\\mu = \\text{E}[X] \\triangleq \\bar{x} = \\dfrac{1}{N} \\sum_{i=1}^N x_i$$"
   ]
  },
  {
   "cell_type": "markdown",
   "metadata": {},
   "source": [
    "위 식에서  𝑁 은 데이터의 갯수,  𝑥𝑖 는 표본 데이터이다.\n",
    "\n",
    "2차 모멘트(분산)의 경우에는 다음과 같다.\n",
    "\n",
    "$$\\sigma^2 = \\text{E}[(X-\\mu)^2] \\triangleq \\bar{s}^2 = \\dfrac{1}{N-1} \\sum_{i=1}^N (x_i - \\bar{x})^2$$"
   ]
  },
  {
   "cell_type": "markdown",
   "metadata": {},
   "source": [
    "## 모멘트 방법을 사용한 베르누이 분포의 모수 추정"
   ]
  },
  {
   "cell_type": "markdown",
   "metadata": {},
   "source": [
    "모멘트 방법으로 베르누이 확률변수의 모수  𝜇 를 구하면 다음과 같다. 이 식에서  𝑁1 은 1의 갯수이다.\n",
    "\n",
    "$$\\text{E}[X] = \\mu \\triangleq \\bar{x} = \\dfrac{1}{N} \\sum_{i=1}^N x_i  = \\dfrac{N_1}{N}$$\n"
   ]
  },
  {
   "cell_type": "markdown",
   "metadata": {},
   "source": [
    "## 모멘트 방법을 사용한 정규 분포의 모수 추정"
   ]
  },
  {
   "cell_type": "markdown",
   "metadata": {},
   "source": [
    "모멘트 방법으로 정규 분포의 모수  𝜇 ,  𝜎2 를 구하면 다음과 같다.\n",
    "\n",
    "$$\\text{E}[X] = \\mu \\triangleq \\bar{x} = \\dfrac{1}{N} \\sum_{i=1}^N x_i$$\n",
    "\n",
    "$$\\text{E}[(X-\\mu)^2] = \\sigma^2 \\triangleq s^2 = \\dfrac{1}{N-1} \\sum_{i=1}^N (x_i - \\bar{x})^2$$"
   ]
  },
  {
   "cell_type": "markdown",
   "metadata": {},
   "source": [
    "정규분포는 모수가 아예 모멘트로 정의되어 있기 때문에 모멘트 방법을 사용하면 아주 쉽게 모수를 추정할 수 있다."
   ]
  },
  {
   "cell_type": "markdown",
   "metadata": {},
   "source": [
    "## 모멘트 방법을 사용한 베타 분포의 모수 추정\n",
    "\n",
    "모멘트 방법으로 베타 분포의 모수  𝑎 ,  𝑏 를 구하면 다음과 같다. 이 경우에는 모수와 모멘트 간의 관계를 이용하여 비선형 연립 방정식을 풀어야 한다.\n",
    "\n",
    "$$\\text{E}[X] = \\dfrac{a}{a+b} \\triangleq \\bar{x}$$\n",
    "\n",
    "$$\\text{E}[(X-\\mu)^2] = \\dfrac{ab}{(a+b)^2(a+b+1)} \\triangleq s^2$$\n",
    "\n",
    "이 비선형 연립방정식을 풀어 해를 구하면 다음과 같다.\n",
    "\n",
    "$$a = \\bar{x} \\left( \\frac{\\bar{x} (1 - \\bar{x})}{s^2} - 1 \\right)$$\n",
    "\n",
    "$$b = (1 - \\bar{x}) \\left( \\frac{\\bar{x} (1 - \\bar{x})}{s^2} - 1 \\right)$$"
   ]
  },
  {
   "cell_type": "markdown",
   "metadata": {},
   "source": [
    "예를 들어  𝑎=15,𝑏=12 인 베타 분포의 데이터 100개로부터 모멘트 방법으로 모수를 추정하면 다음과 같다."
   ]
  },
  {
   "cell_type": "code",
   "execution_count": 2,
   "metadata": {},
   "outputs": [],
   "source": [
    "import matplotlib.pylab as plt\n",
    "import matplotlib as mpl\n",
    "import matplotlib.font_manager as fm\n",
    "import seaborn as sns\n",
    "import numpy as np\n",
    "\n",
    "sns.set_style(\"whitegrid\")\n",
    "mpl.rcParams['axes.unicode_minus'] = False\n",
    "plt.rcParams['font.size'] = 12\n",
    "\n",
    "path = \"/Library/Fonts/NanumGothic.otf\"\n",
    "font_name = fm.FontProperties(fname=path, size=20).get_name()\n",
    "\n",
    "plt.rc('font', family=font_name)"
   ]
  },
  {
   "cell_type": "code",
   "execution_count": 3,
   "metadata": {},
   "outputs": [
    {
     "data": {
      "image/png": "[encoded data removed]",
      "text/plain": [
       "<Figure size 432x288 with 1 Axes>"
      ]
     },
     "metadata": {},
     "output_type": "display_data"
    }
   ],
   "source": [
    "import scipy as sp\n",
    "import scipy.stats\n",
    "\n",
    "np.random.seed(0)\n",
    "x = sp.stats.beta(15, 12).rvs(1000)  # 0-1까지의 실수값 표본 생성\n",
    "\n",
    "sns.distplot(x, kde=False, norm_hist=True)\n",
    "plt.title(\"베타분포를 따르는 표본의 히스토그램\")\n",
    "plt.show()"
   ]
  },
  {
   "cell_type": "code",
   "execution_count": 21,
   "metadata": {},
   "outputs": [
    {
     "data": {
      "text/plain": [
       "tuple"
      ]
     },
     "execution_count": 21,
     "metadata": {},
     "output_type": "execute_result"
    }
   ],
   "source": [
    "def estimate_beta(x):\n",
    "    x_bar = x.mean()\n",
    "    s2 = x.var()\n",
    "    a = x_bar * (x_bar * (1 - x_bar) / s2 - 1)\n",
    "    b = (1 - x_bar) * (x_bar * (1- x_bar) / s2 - 1)\n",
    "    return a, b\n",
    "\n",
    "params = estimate_beta(x)\n",
    "type(params)"
   ]
  },
  {
   "cell_type": "code",
   "execution_count": 22,
   "metadata": {},
   "outputs": [
    {
     "data": {
      "image/png": "[encoded data removed]",
      "text/plain": [
       "<Figure size 432x288 with 1 Axes>"
      ]
     },
     "metadata": {},
     "output_type": "display_data"
    }
   ],
   "source": [
    "xx = np.linspace(0, 1, 1000)\n",
    "sns.distplot(x, kde=False, norm_hist=True)\n",
    "plt.plot(xx, sp.stats.beta(params[0], params[1]).pdf(xx))\n",
    "plt.title(\"베타 분포를 따르는 표본의 히스토그램과 추정된 확률밀도함수\")\n",
    "plt.show()"
   ]
  },
  {
   "cell_type": "code",
   "execution_count": null,
   "metadata": {},
   "outputs": [],
   "source": []
  }
 ],
 "metadata": {
  "kernelspec": {
   "display_name": "Python 3",
   "language": "python",
   "name": "python3"
  },
  "language_info": {
   "codemirror_mode": {
    "name": "ipython",
    "version": 3
   },
   "file_extension": ".py",
   "mimetype": "text/x-python",
   "name": "python",
   "nbconvert_exporter": "python",
   "pygments_lexer": "ipython3",
   "version": "3.5.1"
  }
 },
 "nbformat": 4,
 "nbformat_minor": 2
}
