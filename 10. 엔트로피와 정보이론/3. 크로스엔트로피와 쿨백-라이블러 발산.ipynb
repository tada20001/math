{
 "cells": [
  {
   "cell_type": "markdown",
   "metadata": {},
   "source": [
    "## 크로스엔트로피\n",
    "\n",
    "두 확률분포  𝑝 ,  𝑞 의 크로스엔트로피(cross entropy)  𝐻[𝑝,𝑞] 는\n",
    "\n",
    "이산확률분포의 경우에는 다음과 같이 정의한다.\n",
    "\n",
    "$$H[p,q] = -\\sum_{k=1}^K p(y_k) \\log_2 q(y_k)$$"
   ]
  },
  {
   "cell_type": "markdown",
   "metadata": {},
   "source": [
    "연속확률분포의 경우에는 다음처럼 정의한다.\n",
    "\n",
    "$$H[p,q] = -\\int_{y} p(y) \\log_2 q(y) \\,dy$$"
   ]
  },
  {
   "cell_type": "markdown",
   "metadata": {},
   "source": [
    "크로스엔트로피는 지금까지 공부한 엔트로피, 결합엔트로피, 조건부엔트로피와 다르게 확률변수가 아닌 확률분포를 인수로 받는다는 점에 주의하라."
   ]
  },
  {
   "cell_type": "markdown",
   "metadata": {},
   "source": [
    "### 예제\n",
    "\n",
    "다음과 같은 두 분포가 있을 때 크로스엔트로피는 0.25다.\n",
    "\n",
    "$$p = [1/4, 1/4, 1/4, 1/4]$$\n",
    "\n",
    "$$q = [1/2, 1/4, 1/8, 1/8]$$"
   ]
  },
  {
   "cell_type": "code",
   "execution_count": 3,
   "metadata": {},
   "outputs": [
    {
     "data": {
      "text/plain": [
       "2.25"
      ]
     },
     "execution_count": 3,
     "metadata": {},
     "output_type": "execute_result"
    }
   ],
   "source": [
    "import numpy as np\n",
    "\n",
    "-1/4 * np.log2(1/2) - 1/4 * np.log2(1/4) - 1/4 * np.log2(1/8) - 1/4 * np.log2(1/8)"
   ]
  },
  {
   "cell_type": "markdown",
   "metadata": {},
   "source": [
    "### 크로스엔트로피를 사용한 분류성능 측정\n",
    "\n",
    "###### 크로스엔트로피는 분류모형의 성능을 측정하는데 사용된다.  \n",
    "\n",
    "𝑌 가 0 또는 1이라는 값만 가지는 이진분류문제를 예로 들어보자.\n",
    "\n",
    "##### 𝑝 는  𝑋 값이 정해졌을 때 정답인  𝑌 의 확률분포다   (P(Y|X). \n",
    "\n",
    "이진분류문제에서  𝑌 는 0또는 1이다. 따라서  𝑝 는\n",
    "\n",
    "+ 정답이  𝑌=1 일 때,\n",
    "\n",
    "$$p(Y=0)=0,  \\;  p(Y=1)=1$$"
   ]
  },
  {
   "cell_type": "markdown",
   "metadata": {},
   "source": [
    "+ 정답이  𝑌=0 일 때\n",
    "\n",
    "$$p(Y=0)=1,\\; p(Y=1)=0$$\n",
    "\n",
    "이다."
   ]
  },
  {
   "cell_type": "markdown",
   "metadata": {},
   "source": [
    "###### 분포  𝑞 는  𝑋 값이 정해졌을 때 예측값의 확률분포다. \n",
    "\n",
    "모수가  𝜇 인 베르누이분포라고 가정한다.\n",
    "\n",
    "$$q(Y=0)=1-\\mu, q(Y=1)=\\mu$$"
   ]
  },
  {
   "cell_type": "markdown",
   "metadata": {},
   "source": [
    "따라서 확률분포  𝑝 와  𝑞 의 크로스엔트로피는\n",
    "\n",
    "+ 정답이  𝑌=1 일 때,\n",
    "\n",
    "$$H[p,q] = - {p(Y=0) \\log_2 q(Y=0)} - p(Y=1) \\log_2 q(Y=1) = 0 -\\log_2 \\mu$$\n",
    "\n",
    "+ 정답이  𝑌=0 일 때,\n",
    "\n",
    "$$H[p,q] = - p(Y=0) \\log_2 q(Y=0) - {p(Y=1) \\log_2 q(Y=1)} = -\\log_2 (1-\\mu) - 0$$"
   ]
  },
  {
   "cell_type": "markdown",
   "metadata": {},
   "source": [
    "가 된다.\n",
    "\n",
    "###### 이 값은 분류성능이 좋을수록 작아지고 분류성능이 나쁠수록 커진다. 이유는 다음과 같다.\n",
    "\n",
    "+ 𝑌=1 일 때는  𝜇 가 작아질수록 크로스엔트로피가 커진다. 즉, 예측이 틀릴수록  −log2𝜇 의 값도 커진다.\n",
    "\n",
    "+ 𝑌=0 일 때는  𝜇 가 커질수록 크로스엔트로피가 커진다. 즉 예측이 틀릴수록  −log2(1−𝜇) 의 값도 커진다.\n",
    "\n",
    "##### 따라서 크로스엔트로피값은 예측의 틀린 정도를 나타내는 오차함수의 역할을 할 수 있다.\n",
    "\n",
    "𝑁 개의 학습 데이터 전체에 대해 크로스엔트로피 평균을 구하면 다음 식으로 표현할 수 있다. \n",
    "\n",
    "###### 이 값을 로그손실(log-loss)이라고도 한다.\n",
    "\n",
    "$$\\text{log loss} = -\\dfrac{1}{N} \\sum_{i=1}^N \\left( y_i \\log_2 \\mu_i + (1 - y_i) \\log_2 (1 - \\mu_i) \\right)$$"
   ]
  },
  {
   "cell_type": "markdown",
   "metadata": {},
   "source": [
    "같은 방법으로 이진분류가 아닌 다중분류에서도 크로스엔트로피를 오차 함수로 사용할 수 있다. 다중분류문제의 크로스엔트로피 손실함수를 카테고리 로그손실(categorical log-loss)이라고 한다."
   ]
  },
  {
   "cell_type": "markdown",
   "metadata": {},
   "source": [
    "$$\\text{categorical log loss} = -\\dfrac{1}{N} \\sum_{i=1}^N \\sum_{k=1}^K \\left( \\mathbb{I}(y_i=k) \\log_2 p(y_i=k) \\right)$$"
   ]
  },
  {
   "cell_type": "markdown",
   "metadata": {},
   "source": [
    "위 식에서  𝕀(𝑦𝑖=𝑘) 는  𝑦𝑖 가  𝑘 인 경우에만 1이고 그렇지 않으면 0이 되는 지시함수(indicator function)다.  𝑝(𝑦𝑖=𝑘) 는 분류모형이 계산한  𝑦𝑖=𝑘 일 확률이다.\n",
    "\n",
    "사이킷런(Scikit-Learn) 패키지의 metrics 서브패키지는 로그손실을 계산하는 log_loss 함수를 제공한다."
   ]
  },
  {
   "cell_type": "markdown",
   "metadata": {},
   "source": [
    "붓꽃 분류문제에서 꽃받침 길이(sepal length) 5.4cm를 기준으로 세토사와 베르시칼라 종을 분류한 결과는 다음과 같다."
   ]
  },
  {
   "cell_type": "code",
   "execution_count": 7,
   "metadata": {},
   "outputs": [
    {
     "data": {
      "text/html": [
       "<div>\n",
       "<style scoped>\n",
       "    .dataframe tbody tr th:only-of-type {\n",
       "        vertical-align: middle;\n",
       "    }\n",
       "\n",
       "    .dataframe tbody tr th {\n",
       "        vertical-align: top;\n",
       "    }\n",
       "\n",
       "    .dataframe thead th {\n",
       "        text-align: right;\n",
       "    }\n",
       "</style>\n",
       "<table border=\"1\" class=\"dataframe\">\n",
       "  <thead>\n",
       "    <tr style=\"text-align: right;\">\n",
       "      <th></th>\n",
       "      <th>sepal length (cm)</th>\n",
       "      <th>sepal width (cm)</th>\n",
       "      <th>petal length (cm)</th>\n",
       "      <th>petal width (cm)</th>\n",
       "      <th>y</th>\n",
       "      <th>y_hat</th>\n",
       "    </tr>\n",
       "  </thead>\n",
       "  <tbody>\n",
       "    <tr>\n",
       "      <th>95</th>\n",
       "      <td>5.7</td>\n",
       "      <td>3.0</td>\n",
       "      <td>4.2</td>\n",
       "      <td>1.2</td>\n",
       "      <td>1</td>\n",
       "      <td>1</td>\n",
       "    </tr>\n",
       "    <tr>\n",
       "      <th>96</th>\n",
       "      <td>5.7</td>\n",
       "      <td>2.9</td>\n",
       "      <td>4.2</td>\n",
       "      <td>1.3</td>\n",
       "      <td>1</td>\n",
       "      <td>1</td>\n",
       "    </tr>\n",
       "    <tr>\n",
       "      <th>97</th>\n",
       "      <td>6.2</td>\n",
       "      <td>2.9</td>\n",
       "      <td>4.3</td>\n",
       "      <td>1.3</td>\n",
       "      <td>1</td>\n",
       "      <td>1</td>\n",
       "    </tr>\n",
       "    <tr>\n",
       "      <th>98</th>\n",
       "      <td>5.1</td>\n",
       "      <td>2.5</td>\n",
       "      <td>3.0</td>\n",
       "      <td>1.1</td>\n",
       "      <td>1</td>\n",
       "      <td>0</td>\n",
       "    </tr>\n",
       "    <tr>\n",
       "      <th>99</th>\n",
       "      <td>5.7</td>\n",
       "      <td>2.8</td>\n",
       "      <td>4.1</td>\n",
       "      <td>1.3</td>\n",
       "      <td>1</td>\n",
       "      <td>1</td>\n",
       "    </tr>\n",
       "  </tbody>\n",
       "</table>\n",
       "</div>"
      ],
      "text/plain": [
       "    sepal length (cm)  sepal width (cm)  petal length (cm)  petal width (cm)  \\\n",
       "95                5.7               3.0                4.2               1.2   \n",
       "96                5.7               2.9                4.2               1.3   \n",
       "97                6.2               2.9                4.3               1.3   \n",
       "98                5.1               2.5                3.0               1.1   \n",
       "99                5.7               2.8                4.1               1.3   \n",
       "\n",
       "    y  y_hat  \n",
       "95  1      1  \n",
       "96  1      1  \n",
       "97  1      1  \n",
       "98  1      0  \n",
       "99  1      1  "
      ]
     },
     "execution_count": 7,
     "metadata": {},
     "output_type": "execute_result"
    }
   ],
   "source": [
    "from sklearn.datasets import load_iris\n",
    "import pandas as pd\n",
    "\n",
    "iris = load_iris()\n",
    "idx = np.in1d(iris.target, [0, 1])\n",
    "X = iris.data[idx, :]\n",
    "y = iris.target[idx]\n",
    "\n",
    "df = pd.DataFrame(X, columns=iris.feature_names)\n",
    "df[\"y\"] = y\n",
    "df[\"y_hat\"] = (df[\"sepal length (cm)\"] > 5.4).astype(int)  # true 1, false 0\n",
    "df.tail()"
   ]
  },
  {
   "cell_type": "markdown",
   "metadata": {},
   "source": [
    "로그손실값을 계산하면 3.8이다."
   ]
  },
  {
   "cell_type": "code",
   "execution_count": 8,
   "metadata": {},
   "outputs": [
    {
     "data": {
      "text/plain": [
       "3.799305383311686"
      ]
     },
     "execution_count": 8,
     "metadata": {},
     "output_type": "execute_result"
    }
   ],
   "source": [
    "# y에 대해 y_hat을 기준으로 분류한 결과에 대한 로그손실값 구하기\n",
    "\n",
    "from sklearn.metrics import log_loss\n",
    "log_loss(df[\"y\"], df[\"y_hat\"])"
   ]
  },
  {
   "cell_type": "markdown",
   "metadata": {},
   "source": [
    "### Practice 1\n",
    "\n",
    "(1) 붓꽃 데이터에서 꽃받침의 길이(sepal length)의 최솟값과 최댓값 구간을 0.5 간격으로 나누어 각각의 값을 기준값으로 하였을 때 로그손실이 어떻게 변하는지 그래프로 그려라.\n",
    "\n",
    "(2) 꽃받침의 길이를 특징으로 사용하였을 때 어떤 값을 기준값으로 하는 것이 가장 좋은가?\n",
    "\n",
    "(3) 꽃받침의 폭(sepal width)에 대해 위의 분석을 실시하라. 이 때는 기준값이 어떻게 되는가?\n",
    "\n",
    "(4) 꽃받침의 길이(sepal length)와 꽃받침의 폭(sepal width) 중 하나를 특징으로 선택해야 한다면 어떤 것을 선택해야 하는가?"
   ]
  },
  {
   "cell_type": "code",
   "execution_count": 9,
   "metadata": {},
   "outputs": [],
   "source": [
    "level1 = np.arange(df[\"sepal length (cm)\"].min(), df[\"sepal length (cm)\"].max(), 0.5)\n",
    "\n",
    "log_loss_values = np.zeros_like(level1)\n",
    "\n",
    "for i, le in enumerate(level1):\n",
    "    df[\"y_hat_{}\".format(i)] = (df[\"sepal length (cm)\"] > le).astype(int)  # true 1, false 0\n",
    "    log_loss_values[i] = log_loss(df[\"y\"], df[\"y_hat_{}\".format(i)])"
   ]
  },
  {
   "cell_type": "code",
   "execution_count": 10,
   "metadata": {},
   "outputs": [],
   "source": [
    "import matplotlib.pylab as plt\n",
    "import matplotlib as mpl\n",
    "import matplotlib.font_manager as fm\n",
    "import seaborn as sns\n",
    "import numpy as np\n",
    "\n",
    "sns.set_style(\"whitegrid\")\n",
    "mpl.rcParams['axes.unicode_minus'] = False\n",
    "plt.rcParams['font.size'] = 12\n",
    "\n",
    "path = \"/Library/Fonts/NanumGothic.otf\"\n",
    "font_name = fm.FontProperties(fname=path, size=20).get_name()\n",
    "\n",
    "plt.rc('font', family=font_name)"
   ]
  },
  {
   "cell_type": "code",
   "execution_count": 12,
   "metadata": {},
   "outputs": [
    {
     "data": {
      "image/png": "[encoded data removed]",
      "text/plain": [
       "<Figure size 432x288 with 1 Axes>"
      ]
     },
     "metadata": {},
     "output_type": "display_data"
    }
   ],
   "source": [
    "plt.scatter(level1, log_loss_values)\n",
    "plt.xlabel(\"level\")\n",
    "plt.xticks(level1)\n",
    "plt.ylabel(\"log loss\")\n",
    "plt.show()"
   ]
  },
  {
   "cell_type": "markdown",
   "metadata": {},
   "source": [
    "꽃받침 길이 5.3cm일때 로그손실이 가장 적다. 따라서 5.3cm을 기준값으로 정하는 것이 좋다."
   ]
  },
  {
   "cell_type": "code",
   "execution_count": 15,
   "metadata": {},
   "outputs": [],
   "source": [
    "# 꽃받침 폭에 대하여...\n",
    "\n",
    "level2 = np.arange(df[\"sepal width (cm)\"].min(), df[\"sepal width (cm)\"].max(), 0.5)\n",
    "\n",
    "log_loss_values2 = np.zeros_like(level2)\n",
    "\n",
    "for i, le in enumerate(level2):\n",
    "    df[\"y_hat_SW{}\".format(i)] = (df[\"sepal width (cm)\"] > le).astype(int)  # true 1, false 0\n",
    "    log_loss_values2[i] = log_loss(df[\"y\"], df[\"y_hat_SW{}\".format(i)])"
   ]
  },
  {
   "cell_type": "code",
   "execution_count": 16,
   "metadata": {},
   "outputs": [
    {
     "data": {
      "image/png": "[encoded data removed]",
      "text/plain": [
       "<Figure size 432x288 with 1 Axes>"
      ]
     },
     "metadata": {},
     "output_type": "display_data"
    }
   ],
   "source": [
    "plt.scatter(level2, log_loss_values2)\n",
    "plt.xlabel(\"sepal width level\")\n",
    "plt.ylabel(\"log loss\")\n",
    "plt.xticks(level2)\n",
    "plt.show()"
   ]
  },
  {
   "cell_type": "markdown",
   "metadata": {},
   "source": [
    "꽃받침 폭이 2.0cm일때 로그손실이 가장 적다. 따라서 2.0cm을 기준으로 분류하는 것이 좋다."
   ]
  },
  {
   "cell_type": "code",
   "execution_count": 17,
   "metadata": {},
   "outputs": [
    {
     "data": {
      "text/plain": [
       "array([16.92439224, 11.74345584,  5.18089642,  8.28930633, 13.47012279,\n",
       "       16.57861267])"
      ]
     },
     "execution_count": 17,
     "metadata": {},
     "output_type": "execute_result"
    }
   ],
   "source": [
    "# 꽃받침 길이 로그 손실 값\n",
    "log_loss_values"
   ]
  },
  {
   "cell_type": "code",
   "execution_count": 18,
   "metadata": {},
   "outputs": [
    {
     "data": {
      "text/plain": [
       "array([17.61517576, 21.41443317, 29.012908  , 22.4503246 , 18.30557548])"
      ]
     },
     "execution_count": 18,
     "metadata": {},
     "output_type": "execute_result"
    }
   ],
   "source": [
    "# 꽃받침 폭의 로그손실 값\n",
    "log_loss_values2"
   ]
  },
  {
   "cell_type": "markdown",
   "metadata": {},
   "source": [
    "꽃받침 길이가 5.3cm일 때 로그손실값은 5.2이고 꽃받침 폭이 2.0cm일때 로그손실값은 17.6이므로 꽃받침 길이 5.3cm일 때가 로그손실값이 더 적다. 따라서 꽃받침 길이로 분류하는 것이 좋다."
   ]
  },
  {
   "cell_type": "markdown",
   "metadata": {},
   "source": [
    "## 쿨백-라이블러 발산\n",
    "\n",
    "###### 쿨백-라이블러 발산(Kullback-Leibler divergence)은 두 확률분포  𝑝(𝑦) ,  𝑞(𝑦) 의 분포모양이 얼마나 다른지를 숫자로 계산한 값이다.  \n",
    "\n",
    "𝐾𝐿(𝑝||𝑞) 로 표기한다.\n",
    "\n",
    "이산확률분포에 대해서는 다음과 같이 정의한다.\n",
    "\n",
    "\\begin{aligned}\n",
    "KL(p||q)  \n",
    "&= H[p,q] - H[p] \\\\\n",
    "&= \\sum_{i=1}^{K} p(y_i) \\log_2 \\left(\\dfrac{p(y_i)}{q(y_i)}\\right)\n",
    "\\end{aligned}"
   ]
  },
  {
   "cell_type": "markdown",
   "metadata": {},
   "source": [
    "연속확률분포에 대해서는 다음처럼 정의한다.\n",
    "\n",
    "\\begin{aligned}\n",
    "KL(p || q)  \n",
    "&= H[p, q] - H[p] \\\\\n",
    "&= \\int p(y) \\log_2 \\left(\\dfrac{p(y)}{q(y)}\\right) dy\n",
    "\\end{aligned}"
   ]
  },
  {
   "cell_type": "markdown",
   "metadata": {},
   "source": [
    "쿨백-라이블러 발산은 크로스엔트로피에서 기준이 되는  𝑝 분포의 엔트로피 값을 뺀 값이므로 상대엔트로피(relative entropy)라고도 한다. \n",
    "\n",
    "###### 그 값은 항상 양수이며 두 확률분포  𝑝(𝑥) ,  𝑞(𝑥) 가 완전히 같을 경우에만 0이 된다.\n",
    "\n",
    "\\begin{aligned}\n",
    "KL(p || p)  \n",
    "&= H[p, p] - H[p] \\\\\n",
    "&= \\int p(y) \\log_2 \\left(\\dfrac{p(y)}{p(y)}\\right) dy \\\\\n",
    "&= 0\n",
    "\\end{aligned}"
   ]
  },
  {
   "cell_type": "markdown",
   "metadata": {},
   "source": [
    "역으로 쿨백-라이블러 발산이 0이면 두 확률분포는 같은 확률분포다. 증명은 생략한다.\n",
    "\n",
    "$$KL(p || q) = 0 \\; \\leftrightarrow \\; p = q$$"
   ]
  },
  {
   "cell_type": "markdown",
   "metadata": {},
   "source": [
    "쿨백-라이블러 발산은 거리(distance)가 아니라 확률분포  𝑞 가 기준확률분포  𝑝 와 얼마나 다른지를 나타내는 값이므로 두 확률분포의 위치가 달라지면 일반적으로 값이 달라진다는 점에 주의해야 한다.\n",
    "\n",
    "$$KL(p || q) \\neq KL(q || p)$$"
   ]
  },
  {
   "cell_type": "markdown",
   "metadata": {},
   "source": [
    "### 가변길이 인코딩과 쿨백-라이블러 발산\n",
    "\n",
    "4개의 글자 A, B, C, D로 씌여진 다음과 같은 문서를 가변길이 인코딩하는 경우를 생각하자.\n",
    "\n"
   ]
  },
  {
   "cell_type": "code",
   "execution_count": 22,
   "metadata": {},
   "outputs": [
    {
     "data": {
      "text/plain": [
       "'DBBAADAAAABDBADBACDAABBADBBBBDAABAAADBDDDABBCDBCCACDCABABCDDABAAAADCACDAABAAAADBACABACABBBAAAACABACBCCAAACABBAACABAABABABABAABDAAABAABAABAABAAAACAABAACDABAAABCAAABBAAAACBBBDDAAAABCABADAAAADAACDABCAAAC'"
      ]
     },
     "execution_count": 22,
     "metadata": {},
     "output_type": "execute_result"
    }
   ],
   "source": [
    "N = 200\n",
    "p = [1/2, 1/4, 1/8, 1/8]\n",
    "doc0 = list(\"\".join([int(N * p[i]) * c for i, c in enumerate(\"ABCD\")]))\n",
    "\n",
    "np.random.shuffle(doc0)\n",
    "doc = \"\".join(doc0)\n",
    "doc"
   ]
  },
  {
   "cell_type": "markdown",
   "metadata": {},
   "source": [
    "이 문서를 구성하는 글자의 확률분포는 다음과 같다.\n",
    "\n",
    "$$p(Y=A)=\\dfrac{1}{2},\\; p(Y=B)=\\dfrac{1}{4},\\; p(Y=C)=\\dfrac{1}{8},\\; p(Y=D)=\\dfrac{1}{8}$$"
   ]
  },
  {
   "cell_type": "code",
   "execution_count": 23,
   "metadata": {},
   "outputs": [
    {
     "data": {
      "text/plain": [
       "array([0.5  , 0.125, 0.125, 0.25 ])"
      ]
     },
     "execution_count": 23,
     "metadata": {},
     "output_type": "execute_result"
    }
   ],
   "source": [
    "# 생성한 doc 데이터에서 A, B, C, D의 비율 구하기\n",
    "from collections import Counter\n",
    "\n",
    "p = np.array(list(Counter(doc).values())) / len(doc)\n",
    "p"
   ]
  },
  {
   "cell_type": "markdown",
   "metadata": {},
   "source": [
    "한 글자당 인코딩된 글자수는 분포  𝑞 의 엔트로피인 1.75가 된다.\n",
    "\n",
    "\\begin{align}\n",
    "\\sum_{k=1}^K p(y_i) \\log_2 p(y_i)\n",
    "&=\n",
    "- \\dfrac{1}{2} \\cdot \\log_2 \\dfrac{1}{2} + \n",
    "- \\dfrac{1}{4} \\cdot \\log_2 \\dfrac{1}{4} + \n",
    "- \\dfrac{1}{8} \\cdot \\log_2 \\dfrac{1}{8} + \n",
    "- \\dfrac{1}{8} \\cdot \\log_2 \\dfrac{1}{8} \\\\\n",
    "&=\n",
    "\\dfrac{1}{2} \\cdot 1 + \n",
    "\\dfrac{1}{4} \\cdot 2 + \n",
    "\\dfrac{1}{8} \\cdot 3 + \n",
    "\\dfrac{1}{8} \\cdot 3 \\\\\n",
    "&= 1.75\n",
    "\\end{align}"
   ]
  },
  {
   "cell_type": "code",
   "execution_count": 25,
   "metadata": {},
   "outputs": [
    {
     "data": {
      "text/plain": [
       "1.75"
      ]
     },
     "execution_count": 25,
     "metadata": {},
     "output_type": "execute_result"
    }
   ],
   "source": [
    "import scipy as sp\n",
    "import scipy.stats\n",
    "\n",
    "sp.stats.entropy(p, base=2)"
   ]
  },
  {
   "cell_type": "markdown",
   "metadata": {},
   "source": [
    "실제로 인코딩된 글자수에서 확인할 수 있다."
   ]
  },
  {
   "cell_type": "code",
   "execution_count": 27,
   "metadata": {},
   "outputs": [
    {
     "data": {
      "text/plain": [
       "'11110100011100001011110011110011011100101001111010101011100100001111011111111101010110111101101100110111110010010110111111010000011111001101110010000011110011001001100101010000011001001101011011000011001010001100100010010010010001011100010001000100010000011000100011011101000010110000101000001101010101111110000101100100111000011100110111010110000110'"
      ]
     },
     "execution_count": 27,
     "metadata": {},
     "output_type": "execute_result"
    }
   ],
   "source": [
    "vl_encoder = {\"A\": \"0\", \"B\": \"10\", \"C\": \"110\", \"D\": \"111\"} # 이진수 인코딩\n",
    "vl_encoder_doc = \"\".join([vl_encoder[c] for c in doc])\n",
    "vl_encoder_doc"
   ]
  },
  {
   "cell_type": "code",
   "execution_count": 28,
   "metadata": {},
   "outputs": [
    {
     "data": {
      "text/plain": [
       "1.75"
      ]
     },
     "execution_count": 28,
     "metadata": {},
     "output_type": "execute_result"
    }
   ],
   "source": [
    "len(vl_encoder_doc) / len(doc)"
   ]
  },
  {
   "cell_type": "markdown",
   "metadata": {},
   "source": [
    "그런데 가변길이 인코딩이 아니라 고정길이 인코딩을 사용한다는 것은 다음과 같은 분포를 가정한 것과 같다.\n",
    "\n",
    "$$q(Y=A)=\\dfrac{1}{4},\\; q(Y=B)=\\dfrac{1}{4},\\; q(Y=C)=\\dfrac{1}{4},\\; q(Y=D)=\\dfrac{1}{4}$$"
   ]
  },
  {
   "cell_type": "markdown",
   "metadata": {},
   "source": [
    "실제로 한글자당 인코딩된 글자수는 다음과 같이 계산할 수 있다.\n",
    "\n",
    "\\begin{align}\n",
    "\\sum_{k=1}^K p(y_i) \\log_2 q(y_i)\n",
    "&=\n",
    "- \\dfrac{1}{2} \\cdot \\log_2 \\dfrac{1}{4} + \n",
    "- \\dfrac{1}{4} \\cdot \\log_2 \\dfrac{1}{4} + \n",
    "- \\dfrac{1}{8} \\cdot \\log_2 \\dfrac{1}{4} + \n",
    "- \\dfrac{1}{8} \\cdot \\log_2 \\dfrac{1}{4} \\\\\n",
    "&=\n",
    "\\dfrac{1}{2} \\cdot 2 + \n",
    "\\dfrac{1}{4} \\cdot 2 + \n",
    "\\dfrac{1}{8} \\cdot 2 + \n",
    "\\dfrac{1}{8} \\cdot 2 \\\\\n",
    "&= 2\n",
    "\\end{align}"
   ]
  },
  {
   "cell_type": "code",
   "execution_count": 29,
   "metadata": {},
   "outputs": [
    {
     "data": {
      "text/plain": [
       "2.0"
      ]
     },
     "execution_count": 29,
     "metadata": {},
     "output_type": "execute_result"
    }
   ],
   "source": [
    "encoder = {\"A\": \"00\", \"B\": \"01\", \"C\": \"10\", \"D\": \"11\"}\n",
    "encoder_doc = \"\".join([encoder[c] for c in doc])\n",
    "len(encoder_doc) / len(doc)"
   ]
  },
  {
   "cell_type": "markdown",
   "metadata": {},
   "source": [
    "쿨백-라이블러 발산은 잘못된 분포  𝑞 로 인코딩되었을 때의 한글자당 인코딩된 글자수와 원래의 분포  𝑝 를 사용하였을 때 한글자당 인코딩된 글자수의 차이인 0.25와 같다.\n",
    "\n",
    "\\begin{aligned}\n",
    "KL(p||q)  \n",
    "&= \\sum_{i=1}^{K} p(y_i) \\log_2 \\left(\\dfrac{p(y_i)}{q(y_i)}\\right) \\\\\n",
    "&= - \\sum_{i=1}^{K} p(y_i) \\log_2 q(y_i) - (- \\sum_{i=1}^{K} p(y_i) \\log_2 p(y_i)) ) \\\\\n",
    "&= H[p, q] - H[p] \\\\\n",
    "&= 2.0 - 1.75 = 0.25\n",
    "\\end{aligned}"
   ]
  },
  {
   "cell_type": "markdown",
   "metadata": {},
   "source": [
    "즉, 확률분포  𝑞 의 모양이 확률분포  𝑝 와 다른 정도를 정량화한 것이다."
   ]
  },
  {
   "cell_type": "markdown",
   "metadata": {},
   "source": [
    "SciPy의 stats 서브패키지에서 제공하는 entropy 함수는 두 개의 확률분포를 인수로 넣으면 쿨백-라이블러 발산을 계산해준다. base 인수를 2로 설정하는 것을 잊지 말아야 한다."
   ]
  },
  {
   "cell_type": "code",
   "execution_count": 30,
   "metadata": {},
   "outputs": [
    {
     "data": {
      "text/plain": [
       "0.25"
      ]
     },
     "execution_count": 30,
     "metadata": {},
     "output_type": "execute_result"
    }
   ],
   "source": [
    "sp.stats.entropy([1/4, 1/4, 1/4, 1/4], [1/2, 1/4, 1/8, 1/8], base=2)"
   ]
  },
  {
   "cell_type": "markdown",
   "metadata": {},
   "source": [
    "### Practice 2\n",
    "\n",
    "A, B, C, D, E, F, G, H의 8글자로 이루어진 문서가 있고 각각의 글자가 나올 확률이 다음과 같다고 가정하자.\n",
    "\n",
    "$$\\Big\\{ \\dfrac{1}{2}, \\dfrac{1}{4}, \\dfrac{1}{8}, \\dfrac{1}{16}, \\dfrac{1}{64}, \\dfrac{1}{64}, \\dfrac{1}{64}, \\dfrac{1}{64} \\Big\\}$$\n",
    "\n",
    "(1) 위 확률분포와 균일확률분포의 쿨백-라이블러 발산값을 구하라.\n",
    "\n",
    "(2) 이 문서를 가변길이 인코딩을 할 때와 고정길이 인코딩을 할 때 한글자당 인코딩된 글자수를 비교하라."
   ]
  },
  {
   "cell_type": "code",
   "execution_count": 31,
   "metadata": {},
   "outputs": [
    {
     "data": {
      "text/plain": [
       "1.2499999999999998"
      ]
     },
     "execution_count": 31,
     "metadata": {},
     "output_type": "execute_result"
    }
   ],
   "source": [
    "q = [1/8, 1/8, 1/8, 1/8, 1/8, 1/8, 1/8, 1/8]\n",
    "p = [1/2, 1/4, 1/8, 1/16, 1/64, 1/64, 1/64, 1/64]\n",
    "sp.stats.entropy(q, p, base=2)"
   ]
  },
  {
   "cell_type": "code",
   "execution_count": 35,
   "metadata": {},
   "outputs": [
    {
     "data": {
      "text/plain": [
       "'GGGCCCCCCCCCCCCCCCCCCCCCCCCCAAAAAAAAAAAAAAAAAAAAAAAAAAAAAAAAAAAAAAAAAAAAAAAAAAAAAAAAAAAAAAAAAAAAAAAAAAAAAAAAAAAAAAAAAAAAAAAAAAAAHHHFFFEEEDDDDDDDDDDDDBBBBBBBBBBBBBBBBBBBBBBBBBBBBBBBBBBBBBBBBBBBBBBBBBB'"
      ]
     },
     "execution_count": 35,
     "metadata": {},
     "output_type": "execute_result"
    }
   ],
   "source": [
    "N = 200\n",
    "\n",
    "doc0 = list([int(N * p[i]) * c for i, c in enumerate(\"ABCDEFGH\")])\n",
    "\n",
    "np.random.shuffle(doc0)\n",
    "doc = \"\".join(doc0)\n",
    "doc"
   ]
  },
  {
   "cell_type": "code",
   "execution_count": 42,
   "metadata": {},
   "outputs": [
    {
     "data": {
      "text/plain": [
       "array([0.01507538, 0.01507538, 0.01507538, 0.25125628, 0.50251256,\n",
       "       0.12562814, 0.01507538, 0.06030151])"
      ]
     },
     "execution_count": 42,
     "metadata": {},
     "output_type": "execute_result"
    }
   ],
   "source": [
    "from collections import Counter\n",
    "p = np.array(list(Counter(doc).values())) / len(doc)\n",
    "p"
   ]
  },
  {
   "cell_type": "code",
   "execution_count": 49,
   "metadata": {},
   "outputs": [
    {
     "data": {
      "text/plain": [
       "'11110111101111011011011011011011011011011011011011011011011011011011011011011011011011011000000000000000000000000000000000000000000000000000000000000000000000000000000000000000000000000000001111111111111111111111111111110111011101111111111111111111111111111111111111010101010101010101010101010101010101010101010101010101010101010101010101010101010101010101010101010'"
      ]
     },
     "execution_count": 49,
     "metadata": {},
     "output_type": "execute_result"
    }
   ],
   "source": [
    "vl_encoder = {\"A\": \"0\", \"B\": \"10\", \"C\": \"110\", \"D\": \"111\", \"E\": \"1110\", \"F\": \"1111\", \"G\": \"11110\", \"H\": \"11111\"}\n",
    "vl_encoder_doc = \"\".join([vl_encoder[c] for c in doc])\n",
    "vl_encoder_doc"
   ]
  },
  {
   "cell_type": "code",
   "execution_count": 50,
   "metadata": {},
   "outputs": [
    {
     "data": {
      "text/plain": [
       "1.8341708542713568"
      ]
     },
     "execution_count": 50,
     "metadata": {},
     "output_type": "execute_result"
    }
   ],
   "source": [
    "len(vl_encoder_doc) / len(doc)"
   ]
  },
  {
   "cell_type": "code",
   "execution_count": 51,
   "metadata": {},
   "outputs": [
    {
     "data": {
      "text/plain": [
       "1.9847958103532741"
      ]
     },
     "execution_count": 51,
     "metadata": {},
     "output_type": "execute_result"
    }
   ],
   "source": [
    "sp.stats.entropy(p, base=2)"
   ]
  },
  {
   "cell_type": "code",
   "execution_count": null,
   "metadata": {},
   "outputs": [],
   "source": []
  }
 ],
 "metadata": {
  "kernelspec": {
   "display_name": "Python 3",
   "language": "python",
   "name": "python3"
  },
  "language_info": {
   "codemirror_mode": {
    "name": "ipython",
    "version": 3
   },
   "file_extension": ".py",
   "mimetype": "text/x-python",
   "name": "python",
   "nbconvert_exporter": "python",
   "pygments_lexer": "ipython3",
   "version": "3.5.1"
  }
 },
 "nbformat": 4,
 "nbformat_minor": 2
}
