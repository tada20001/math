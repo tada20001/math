{
 "cells": [
  {
   "cell_type": "markdown",
   "metadata": {},
   "source": [
    "이 절에서는 확률변수가 \n",
    "\n",
    "##### 두 개 이상인 다변수 확률변수에서 엔트로피를 정의하는 방법을 설명한다."
   ]
  },
  {
   "cell_type": "markdown",
   "metadata": {},
   "source": [
    "## 결합엔트로피\n",
    "\n",
    "##### 결합엔트로피(joint entropy)는 다변수 확률변수에서 정의한 엔트로피를 말한다.\n",
    "\n",
    "이산확률변수  𝑋 ,  𝑌 에 대해 결합엔트로피는 다음과 같이 정의한다.\n",
    "\n",
    "$$H[X, Y] = - \\sum_{i=1}^{K_X} \\sum_{j=1}^{K_Y} \\,p(x_i, y_j) \\log_2 p(x_i, y_j)$$"
   ]
  },
  {
   "cell_type": "markdown",
   "metadata": {},
   "source": [
    "이 식에서  𝐾𝑋 ,  𝐾𝑌 는 각각 X와 Y가 가질 수 있는 값의 개수고  𝑝 는 확률질량함수다.\n",
    "\n",
    "연속확률변수  𝑋 ,  𝑌 에 대해 결합엔트로피는 다음과 같이 정의한다.\n",
    "\n",
    "$$H[X, Y] = - \\int_{x} \\int_{y} \\,p(x, y) \\log_2 p(x, y)  \\; dxdy$$"
   ]
  },
  {
   "cell_type": "markdown",
   "metadata": {},
   "source": [
    "이 식에서  𝑝 는 확률밀도함수다.\n",
    "\n",
    "결합엔트로피도 확률변수가 여러 개라는 점을 제외하면 일반적인 엔트로피와 같다. 모든 경우에 대해 골고루 확률이 분포되어 있으면 엔트로피값이 커지고 특정한 한 가지 표본에 대해 확률이 모여있으면 엔트로피가 0에 가까와진다."
   ]
  },
  {
   "cell_type": "markdown",
   "metadata": {},
   "source": [
    "## 조건부엔트로피\n",
    "\n",
    "###### 조건부엔트로피(conditional entroy)는 두 확률변수  𝑋 ,  𝑌 의 상관관계를 측정하는 방법 중 하나다. \n",
    "\n",
    "만약 확률변수  𝑋 ,  𝑌 간에 어떤 상관관계가 있다면  𝑋 의 값이 달라짐에 따라  𝑦 의 분포, 나아가서  𝑌 의 엔트로피가 달라질 것이다. 조건부엔트로피는 확률변수  𝑋 가 달라질 때  𝑌 의 엔트로피가 어떤 값이 되는지를 구한다."
   ]
  },
  {
   "cell_type": "markdown",
   "metadata": {},
   "source": [
    "확률변수  𝑋 ,  𝑌 가 모두 이산확률변수라고 가정하고  𝑋 가 특정한 값  𝑥𝑖 를 가질 때의  𝑌 의 엔트로피  𝐻[𝑌∣𝑋=𝑥𝑖] 는 다음처럼 조건부확률분포의 엔트로피로 정의한다.\n",
    "\n",
    "$$H[Y \\mid X=x_i] = - \\sum_{j=1}^{K_Y} p(y_j \\mid x_i)  \\log_2 p(y_j \\mid x_i)$$"
   ]
  },
  {
   "cell_type": "markdown",
   "metadata": {},
   "source": [
    "조건부엔트로피는 확률변수  𝑋 가 가질 수 있는 모든 경우에 대해  𝐻[𝑌∣𝑋=𝑥𝑖] 를 가중평균한 값으로 정의한다.\n",
    "\n",
    "\\begin{align}\n",
    "H[Y \\mid X] \n",
    "&= \\sum_{i=1}^{K_X} \\,p(x_i)\\,H[Y \\mid X=x_i]  \\\\ \n",
    "&= - \\sum_{i=1}^{K_X} \\sum_{j=1}^{K_Y} p(y_j \\mid x_i)p(x_i)  \\log_2 p(y_j \\mid x_i)  \\\\\n",
    "&= - \\sum_{i=1}^{K_X} \\sum_{j=1}^{K_Y} p(x_i, y_j)  \\log_2 p(y_j \\mid x_i)  \\\\\n",
    "\\end{align}"
   ]
  },
  {
   "cell_type": "markdown",
   "metadata": {},
   "source": [
    "연속확률변수의 경우에는 다음과 같다.\n",
    "\n",
    "$$H[Y \\mid X=x] = - \\int_{y} p(y \\mid x)  \\log_2 p(y \\mid x)\\; dy$$\n",
    "\n",
    "\\begin{align}\n",
    "H[Y \\mid X] \n",
    "&= - \\int_{x} \\,p(x) \\,H[Y \\mid X=x] \\; dx \\\\\n",
    "&= - \\int_{x} p(x) \\left( \\int_{y} p(y \\mid x)  \\log_2 p(y \\mid x)\\; dy \\right) \\; dx   \\\\\n",
    "&= - \\int_{x} \\int_{y} p(y \\mid x_i) p(x) \\log_2 p(y \\mid x) \\; dxdy \\\\\n",
    "&= - \\int_{x} \\int_{y} \\,p(x, y) \\log_2 p(y \\mid x) \\; dxdy \\\\\n",
    "\\end{align}"
   ]
  },
  {
   "cell_type": "markdown",
   "metadata": {},
   "source": [
    "따라서 조건부엔트로피의 최종적인 정의는 다음과 같다.\n",
    "\n",
    "이산확률변수의 경우에는 다음과 같이 정의한다.\n",
    "\n",
    "$$H[Y \\mid X] = - \\sum_{i=1}^{K_X} \\sum_{j=1}^{K_Y} \\,p(x_i, y_j) \\log_2 p(y_j \\mid x_i)$$"
   ]
  },
  {
   "cell_type": "markdown",
   "metadata": {},
   "source": [
    "연속확률변수의 경우에는 다음처럼 정의한다.\n",
    "\n",
    "$$H[Y \\mid X] = - \\int_{x} \\int_{y} \\,p(x, y) \\log_2 p(y \\mid x)  \\; dxdy$$"
   ]
  },
  {
   "cell_type": "markdown",
   "metadata": {},
   "source": [
    "### 상관관계가 없는 경우의 조건부엔트로피\n",
    "\n",
    "예를 들어 두 확률변수  𝑋 ,  𝑌  값의 관계가 다음과 같다고 하자. 이 두 확률변수는 서로 독립이다."
   ]
  },
  {
   "cell_type": "raw",
   "metadata": {},
   "source": [
    "         𝑌=0 \t 𝑌=1 \n",
    "𝑋=0 \t  1/9 \t 2/9 \n",
    "𝑋=1 \t  2/9 \t 4/9 "
   ]
  },
  {
   "cell_type": "markdown",
   "metadata": {},
   "source": [
    "𝑋=0,𝑋=1 일 때의 조건부확률분포에 대한  𝑌 의 엔트로피는 0.92다.\n",
    "\n",
    "$$H[Y \\mid X=0] = H[Y \\mid X=1] = -\\frac{1}{3} \\log_2 \\frac{1}{3} -\\frac{2}{3} \\log_2 \\frac{2}{3} \\approx 0.92$$"
   ]
  },
  {
   "cell_type": "code",
   "execution_count": 2,
   "metadata": {},
   "outputs": [
    {
     "data": {
      "text/plain": [
       "0.9182958340544894"
      ]
     },
     "execution_count": 2,
     "metadata": {},
     "output_type": "execute_result"
    }
   ],
   "source": [
    "import scipy as sp\n",
    "import scipy.stats\n",
    "\n",
    "sp.stats.entropy([1/3, 2/3], base=2)"
   ]
  },
  {
   "cell_type": "markdown",
   "metadata": {},
   "source": [
    "이 값을 가중평균하면 조건부엔트로피값은 0.92다.\n",
    "\n",
    "$$H[Y|X] = \\frac{1}{3} H[Y \\mid X=0] + \\frac{2}{3} H[Y \\mid X=1] \\approx 0.92$$"
   ]
  },
  {
   "cell_type": "code",
   "execution_count": 3,
   "metadata": {},
   "outputs": [],
   "source": [
    "import matplotlib.pylab as plt\n",
    "import matplotlib as mpl\n",
    "import matplotlib.font_manager as fm\n",
    "import seaborn as sns\n",
    "import numpy as np\n",
    "\n",
    "sns.set_style(\"whitegrid\")\n",
    "mpl.rcParams['axes.unicode_minus'] = False\n",
    "plt.rcParams['font.size'] = 12\n",
    "\n",
    "path = \"/Library/Fonts/NanumGothic.otf\"\n",
    "font_name = fm.FontProperties(fname=path, size=20).get_name()\n",
    "\n",
    "plt.rc('font', family=font_name)"
   ]
  },
  {
   "cell_type": "code",
   "execution_count": 16,
   "metadata": {},
   "outputs": [
    {
     "data": {
      "image/png": "[encoded data removed]",
      "text/plain": [
       "<Figure size 576x288 with 3 Axes>"
      ]
     },
     "metadata": {},
     "output_type": "display_data"
    }
   ],
   "source": [
    "plt.figure(figsize=(8, 4))\n",
    "ax1 = plt.subplot(121)\n",
    "pXY = [[1/9, 2/9], [2/9, 4/9]]\n",
    "sns.heatmap(pXY, annot=True, cbar=False)\n",
    "plt.xlabel(\"Y\")\n",
    "plt.ylabel(\"X\")\n",
    "plt.title(\"결합확률분포 p(X, Y), H[X, Y]=1.84\", y=1.05)\n",
    "\n",
    "plt.subplot(222)\n",
    "plt.bar([0, 1], [1/3, 2/3])\n",
    "plt.ylim(0, 1)\n",
    "plt.title(\"조건확률분포 p(Y|X=0)\", y=1.05)\n",
    "\n",
    "plt.subplot(224)\n",
    "plt.bar([0, 1], [1/3, 2/3])\n",
    "plt.ylim(0, 1)\n",
    "plt.title(\"조건확률분포 p(Y|X=1)\", y=1.05)\n",
    "\n",
    "plt.tight_layout(w_pad=5)\n",
    "plt.suptitle(\"조건부엔트로피 H[Y|X]=0.92\", Y=1.05)\n",
    "plt.show()"
   ]
  },
  {
   "cell_type": "markdown",
   "metadata": {},
   "source": [
    "### 상관관계가 있는 경우의 조건부엔트로피\n",
    "\n",
    "이번에는 두 확률변수  𝑋 ,  𝑌 간에 상관관계가 있는 경우를 살펴보자. 예를 들어  𝑋 ,  𝑌  값의 관계가 다음과 같다고 하자."
   ]
  },
  {
   "cell_type": "raw",
   "metadata": {},
   "source": [
    "         𝑌=0 \t 𝑌=1 \n",
    "𝑋=0 \t  0.4\t 0.0\n",
    "𝑋=1 \t  0.0\t 0.6"
   ]
  },
  {
   "cell_type": "markdown",
   "metadata": {},
   "source": [
    "그런데  𝑋=0,𝑋=1 일 때의 조건부확률분포에 대한  𝑌 의 엔트로피는 모두 0이다.\n",
    "\n",
    "$$H[Y \\mid X=0] = 0$$\n",
    "\n",
    "$$H[Y \\mid X=1] = 0$$"
   ]
  },
  {
   "cell_type": "markdown",
   "metadata": {},
   "source": [
    "따라서 조건부엔트로피도 0이 된다.\n",
    "\n",
    "$$H[Y|X] = 0$$"
   ]
  },
  {
   "cell_type": "code",
   "execution_count": 18,
   "metadata": {},
   "outputs": [
    {
     "data": {
      "image/png": "[encoded data removed]",
      "text/plain": [
       "<Figure size 576x288 with 3 Axes>"
      ]
     },
     "metadata": {},
     "output_type": "display_data"
    }
   ],
   "source": [
    "plt.figure(figsize=(8, 4))\n",
    "ax1 = plt.subplot(121)\n",
    "pXY = [[0.4, 0.0], [0.0, 0.6]]\n",
    "sns.heatmap(pXY, cbar=False, annot=True)\n",
    "plt.xlabel(\"Y\")\n",
    "plt.ylabel(\"X\")\n",
    "plt.title(\"결합확률분포 p(X, Y), H(X, Y) = 1.85\", y=1.05)\n",
    "\n",
    "plt.subplot(222)\n",
    "plt.bar([0, 1], [1, 0])\n",
    "plt.ylim(0, 1)\n",
    "plt.title(\"조건부확률분포 p(Y|X=0)\", y=1.05)\n",
    "\n",
    "plt.subplot(224)\n",
    "plt.bar([0, 1], [0, 1])\n",
    "plt.ylim(0, 1)\n",
    "plt.title(\"조건부확률분포 p(Y|X=1)\", y=1.05)\n",
    "\n",
    "plt.tight_layout(w_pad=5)\n",
    "plt.suptitle(\"조건부엔트로피 H[X|Y]=0.85\", y=1.05)\n",
    "plt.show()"
   ]
  },
  {
   "cell_type": "markdown",
   "metadata": {},
   "source": [
    "##### 확률변수가 독립일 때보다 상관관계가 있을 때 조건부엔트로피값이 더 작아진 것을 알 수 있다. \n",
    "\n",
    "두 확률변수  𝑋,𝑌 간에 상관관계가 있으면  𝑋 값이 고정된 경우의  𝑌 의 조건부확률분포가 한 쪽으로 집중이 되는 현상이 발생한다. 이렇게 되면 엔트로피값이 작아지므로 이를 평균한 전체적인 조건부엔트로피값이 작아진다."
   ]
  },
  {
   "cell_type": "markdown",
   "metadata": {},
   "source": [
    "### 조건부엔트로피를 사용한 스팸메일 분류문제\n",
    "\n",
    "조건부엔트로피의 개념을 스팸메일 분류문제를 통해 알아보자. 스팸메일 분류모형을 만들기 위한 학습용 메일 데이터가 80개 있다. 이 중 40개가 정상 메일( 𝑌=0 ), 40개가 스팸 메일( 𝑌=1 )이라고 가정하다.\n",
    "\n",
    "스팸메일인지 아닌지를 특정 키워드가 존재하는지( 𝑋=1 ) 혹은 존재하지 않는지( 𝑋=0 )의 여부로 알아보고자 한다. 키워드 후보로는  𝑋1 ,  𝑋2 ,  𝑋3  세가지가 있다.\n",
    "\n",
    "𝑋1 ,  𝑌 의 관계는 다음과 같다.\n",
    "\n"
   ]
  },
  {
   "cell_type": "raw",
   "metadata": {},
   "source": [
    "         𝑌=0 \t 𝑌=1 \t\n",
    "𝑋1=0 \t  30\t 10\t   40\n",
    "𝑋1=1 \t  10\t 30\t   40\n",
    "         40\t    40\t  80"
   ]
  },
  {
   "cell_type": "markdown",
   "metadata": {},
   "source": [
    "𝑋2 ,  𝑌 의 관계는 다음과 같다."
   ]
  },
  {
   "cell_type": "raw",
   "metadata": {},
   "source": [
    "\t    𝑌=0 \t 𝑌=1 \t\n",
    "𝑋2=0 \t 20\t     40\t   60\n",
    "𝑋2=1 \t 20\t      0\t   20\n",
    "        40\t    40\t  80"
   ]
  },
  {
   "cell_type": "markdown",
   "metadata": {},
   "source": [
    "𝑋3 , 𝑌의 관계는 다음과 같다."
   ]
  },
  {
   "cell_type": "raw",
   "metadata": {},
   "source": [
    "    \t  𝑌=0 \t  𝑌=1 \t\n",
    "𝑋3=0   \t0\t  40\t40\n",
    "𝑋3=1      40\t   0\t40\n",
    "          40\t 40\t   80"
   ]
  },
  {
   "cell_type": "markdown",
   "metadata": {},
   "source": [
    "이 세가지 키워드 중 하나만 골라야 한다면 어떤 키워드가 가장 좋은 키워드인가? 당연히  𝑋3 다. 그렇다면  𝑋1 과  𝑋2  중에서는 누가 더 좋은 키워드인가?\n",
    "\n",
    "조건부엔트로피값을 사용하면 이 문제를 해결할 수 있다. 조건부엔트로피값이 가장 작아지는 것이 가장 좋은 키워드일 것이다.\n",
    "\n",
    "(특정값을 찾는 것이기 때문에 분포가 균등한 것보다 불균등한 것이 정보를 알기 쉽다. 즉 엔트로피가 가장 작아지는 것을 찾는 것이 좋다.)"
   ]
  },
  {
   "cell_type": "markdown",
   "metadata": {},
   "source": [
    "𝑋1,𝑌 의 조건부엔트로피는 다음과 같이 계산한다.\n",
    "\n",
    "\\begin{aligned}\n",
    "H[Y \\mid X_1 ] \n",
    "&= p(X_1=0)\\,H[Y \\mid X_1=0] + p(X_1=1)\\,H[Y \\mid X_1=1] \\\\\n",
    "&= \\dfrac{40}{80} \\cdot 0.81 + \\dfrac{40}{80} \\cdot 0.81 = 0.81\n",
    "\\end{aligned}"
   ]
  },
  {
   "cell_type": "code",
   "execution_count": 19,
   "metadata": {},
   "outputs": [
    {
     "data": {
      "text/plain": [
       "0.8112781244591328"
      ]
     },
     "execution_count": 19,
     "metadata": {},
     "output_type": "execute_result"
    }
   ],
   "source": [
    "sp.stats.entropy([3/4, 1/4], base=2)"
   ]
  },
  {
   "cell_type": "markdown",
   "metadata": {},
   "source": [
    "𝑋2,𝑌 의 조건부엔트로피는 다음과 같이 계산한다.\n",
    "\n",
    "\\begin{aligned}\n",
    "H[Y \\mid X_2 ] \n",
    "&= p(X_2=0)\\,H[Y \\mid X_2=0] + p(X_2=1)\\,H[Y \\mid X_2=1] \\\\\n",
    "&= \\dfrac{60}{80} \\cdot 0.92 + \\dfrac{20}{80} \\cdot 0 = 0.69\n",
    "\\end{aligned}"
   ]
  },
  {
   "cell_type": "code",
   "execution_count": 21,
   "metadata": {},
   "outputs": [
    {
     "data": {
      "text/plain": [
       "0.9182958340544894"
      ]
     },
     "execution_count": 21,
     "metadata": {},
     "output_type": "execute_result"
    }
   ],
   "source": [
    "sp.stats.entropy([1/3, 2/3], base=2)"
   ]
  },
  {
   "cell_type": "markdown",
   "metadata": {},
   "source": [
    "𝑋3,𝑌 의 조건부엔트로피는 다음과 같이 계산한다.\n",
    "\n",
    "\\begin{aligned}\n",
    "H[Y \\mid X_3 ] \n",
    "&= p(X_3=0)\\,H[Y \\mid X_3=0] + p(X_2=1)\\,H[Y \\mid X_3=1]  = 0\n",
    "\\end{aligned}"
   ]
  },
  {
   "cell_type": "code",
   "execution_count": 22,
   "metadata": {},
   "outputs": [
    {
     "data": {
      "text/plain": [
       "0.0"
      ]
     },
     "execution_count": 22,
     "metadata": {},
     "output_type": "execute_result"
    }
   ],
   "source": [
    "sp.stats.entropy([0, 1], base=2)"
   ]
  },
  {
   "cell_type": "markdown",
   "metadata": {},
   "source": [
    "조건부엔트로피의 값으로부터  𝑋2 가  𝑋1 보다 좋은 키워드임을 알 수 있다. \n",
    "\n",
    "##### 의사결정나무(decision tree)라는 분류모형은 조건부엔트로피를 사용하여 가장 좋은 특징값과 기준을 찾는다."
   ]
  },
  {
   "cell_type": "markdown",
   "metadata": {},
   "source": [
    "### 조건부엔트로피를 사용한 붓꽃 분류문제\n",
    "\n",
    "다음은 붓꽃 데이터 중 세토사(setosa)와 베르시칼라(versicolor) 종의 데이터만 임포트하는 코드다."
   ]
  },
  {
   "cell_type": "code",
   "execution_count": 37,
   "metadata": {},
   "outputs": [
    {
     "data": {
      "text/html": [
       "<div>\n",
       "<style scoped>\n",
       "    .dataframe tbody tr th:only-of-type {\n",
       "        vertical-align: middle;\n",
       "    }\n",
       "\n",
       "    .dataframe tbody tr th {\n",
       "        vertical-align: top;\n",
       "    }\n",
       "\n",
       "    .dataframe thead th {\n",
       "        text-align: right;\n",
       "    }\n",
       "</style>\n",
       "<table border=\"1\" class=\"dataframe\">\n",
       "  <thead>\n",
       "    <tr style=\"text-align: right;\">\n",
       "      <th></th>\n",
       "      <th>sepal length (cm)</th>\n",
       "      <th>sepal width (cm)</th>\n",
       "      <th>petal length (cm)</th>\n",
       "      <th>petal width (cm)</th>\n",
       "      <th>species</th>\n",
       "    </tr>\n",
       "  </thead>\n",
       "  <tbody>\n",
       "    <tr>\n",
       "      <th>95</th>\n",
       "      <td>5.7</td>\n",
       "      <td>3.0</td>\n",
       "      <td>4.2</td>\n",
       "      <td>1.2</td>\n",
       "      <td>1</td>\n",
       "    </tr>\n",
       "    <tr>\n",
       "      <th>96</th>\n",
       "      <td>5.7</td>\n",
       "      <td>2.9</td>\n",
       "      <td>4.2</td>\n",
       "      <td>1.3</td>\n",
       "      <td>1</td>\n",
       "    </tr>\n",
       "    <tr>\n",
       "      <th>97</th>\n",
       "      <td>6.2</td>\n",
       "      <td>2.9</td>\n",
       "      <td>4.3</td>\n",
       "      <td>1.3</td>\n",
       "      <td>1</td>\n",
       "    </tr>\n",
       "    <tr>\n",
       "      <th>98</th>\n",
       "      <td>5.1</td>\n",
       "      <td>2.5</td>\n",
       "      <td>3.0</td>\n",
       "      <td>1.1</td>\n",
       "      <td>1</td>\n",
       "    </tr>\n",
       "    <tr>\n",
       "      <th>99</th>\n",
       "      <td>5.7</td>\n",
       "      <td>2.8</td>\n",
       "      <td>4.1</td>\n",
       "      <td>1.3</td>\n",
       "      <td>1</td>\n",
       "    </tr>\n",
       "  </tbody>\n",
       "</table>\n",
       "</div>"
      ],
      "text/plain": [
       "    sepal length (cm)  sepal width (cm)  petal length (cm)  petal width (cm)  \\\n",
       "95                5.7               3.0                4.2               1.2   \n",
       "96                5.7               2.9                4.2               1.3   \n",
       "97                6.2               2.9                4.3               1.3   \n",
       "98                5.1               2.5                3.0               1.1   \n",
       "99                5.7               2.8                4.1               1.3   \n",
       "\n",
       "    species  \n",
       "95        1  \n",
       "96        1  \n",
       "97        1  \n",
       "98        1  \n",
       "99        1  "
      ]
     },
     "execution_count": 37,
     "metadata": {},
     "output_type": "execute_result"
    }
   ],
   "source": [
    "from sklearn.datasets import load_iris\n",
    "import pandas as pd\n",
    "\n",
    "iris = load_iris()\n",
    "idx = np.in1d(iris.target, [0, 1])  # iris.target 중 0, 1의 인덱스만 추출(0: 세토사, 1: 베르시칼라, 2는 제외)\n",
    "X = iris.data[idx, :]\n",
    "y = iris.target[idx]\n",
    "df = pd.DataFrame(X, columns=iris.feature_names)\n",
    "df[\"species\"] = y\n",
    "df.tail()"
   ]
  },
  {
   "cell_type": "markdown",
   "metadata": {},
   "source": [
    "꽃받침의 길이(sepal length)로 두 종을 구별하고 싶다고 하자. 기준값을 무엇으로 정해야 할까?\n",
    "\n",
    "만약 5.4cm를 기준으로 구분하면 다음과 같다."
   ]
  },
  {
   "cell_type": "code",
   "execution_count": 44,
   "metadata": {},
   "outputs": [
    {
     "data": {
      "text/html": [
       "<div>\n",
       "<style scoped>\n",
       "    .dataframe tbody tr th:only-of-type {\n",
       "        vertical-align: middle;\n",
       "    }\n",
       "\n",
       "    .dataframe tbody tr th {\n",
       "        vertical-align: top;\n",
       "    }\n",
       "\n",
       "    .dataframe thead th {\n",
       "        text-align: right;\n",
       "    }\n",
       "</style>\n",
       "<table border=\"1\" class=\"dataframe\">\n",
       "  <thead>\n",
       "    <tr style=\"text-align: right;\">\n",
       "      <th></th>\n",
       "      <th>sepal length (cm)</th>\n",
       "      <th>sepal width (cm)</th>\n",
       "      <th>petal length (cm)</th>\n",
       "      <th>petal width (cm)</th>\n",
       "      <th>species</th>\n",
       "      <th>X1</th>\n",
       "    </tr>\n",
       "  </thead>\n",
       "  <tbody>\n",
       "    <tr>\n",
       "      <th>95</th>\n",
       "      <td>5.7</td>\n",
       "      <td>3.0</td>\n",
       "      <td>4.2</td>\n",
       "      <td>1.2</td>\n",
       "      <td>1</td>\n",
       "      <td>True</td>\n",
       "    </tr>\n",
       "    <tr>\n",
       "      <th>96</th>\n",
       "      <td>5.7</td>\n",
       "      <td>2.9</td>\n",
       "      <td>4.2</td>\n",
       "      <td>1.3</td>\n",
       "      <td>1</td>\n",
       "      <td>True</td>\n",
       "    </tr>\n",
       "    <tr>\n",
       "      <th>97</th>\n",
       "      <td>6.2</td>\n",
       "      <td>2.9</td>\n",
       "      <td>4.3</td>\n",
       "      <td>1.3</td>\n",
       "      <td>1</td>\n",
       "      <td>True</td>\n",
       "    </tr>\n",
       "    <tr>\n",
       "      <th>98</th>\n",
       "      <td>5.1</td>\n",
       "      <td>2.5</td>\n",
       "      <td>3.0</td>\n",
       "      <td>1.1</td>\n",
       "      <td>1</td>\n",
       "      <td>False</td>\n",
       "    </tr>\n",
       "    <tr>\n",
       "      <th>99</th>\n",
       "      <td>5.7</td>\n",
       "      <td>2.8</td>\n",
       "      <td>4.1</td>\n",
       "      <td>1.3</td>\n",
       "      <td>1</td>\n",
       "      <td>True</td>\n",
       "    </tr>\n",
       "  </tbody>\n",
       "</table>\n",
       "</div>"
      ],
      "text/plain": [
       "    sepal length (cm)  sepal width (cm)  petal length (cm)  petal width (cm)  \\\n",
       "95                5.7               3.0                4.2               1.2   \n",
       "96                5.7               2.9                4.2               1.3   \n",
       "97                6.2               2.9                4.3               1.3   \n",
       "98                5.1               2.5                3.0               1.1   \n",
       "99                5.7               2.8                4.1               1.3   \n",
       "\n",
       "    species     X1  \n",
       "95        1   True  \n",
       "96        1   True  \n",
       "97        1   True  \n",
       "98        1  False  \n",
       "99        1   True  "
      ]
     },
     "execution_count": 44,
     "metadata": {},
     "output_type": "execute_result"
    }
   ],
   "source": [
    "df[\"X1\"] = df[\"sepal length (cm)\"] > 5.4\n",
    "df.tail()"
   ]
  },
  {
   "cell_type": "code",
   "execution_count": 45,
   "metadata": {},
   "outputs": [
    {
     "data": {
      "text/html": [
       "<div>\n",
       "<style scoped>\n",
       "    .dataframe tbody tr th:only-of-type {\n",
       "        vertical-align: middle;\n",
       "    }\n",
       "\n",
       "    .dataframe tbody tr th {\n",
       "        vertical-align: top;\n",
       "    }\n",
       "\n",
       "    .dataframe thead th {\n",
       "        text-align: right;\n",
       "    }\n",
       "</style>\n",
       "<table border=\"1\" class=\"dataframe\">\n",
       "  <thead>\n",
       "    <tr style=\"text-align: right;\">\n",
       "      <th>species</th>\n",
       "      <th>0</th>\n",
       "      <th>1</th>\n",
       "    </tr>\n",
       "    <tr>\n",
       "      <th>X1</th>\n",
       "      <th></th>\n",
       "      <th></th>\n",
       "    </tr>\n",
       "  </thead>\n",
       "  <tbody>\n",
       "    <tr>\n",
       "      <th>False</th>\n",
       "      <td>45</td>\n",
       "      <td>6</td>\n",
       "    </tr>\n",
       "    <tr>\n",
       "      <th>True</th>\n",
       "      <td>5</td>\n",
       "      <td>44</td>\n",
       "    </tr>\n",
       "  </tbody>\n",
       "</table>\n",
       "</div>"
      ],
      "text/plain": [
       "species   0   1\n",
       "X1             \n",
       "False    45   6\n",
       "True      5  44"
      ]
     },
     "execution_count": 45,
     "metadata": {},
     "output_type": "execute_result"
    }
   ],
   "source": [
    "pivot_table1 = df.groupby([\"X1\", \"species\"]).size().unstack().fillna(0)\n",
    "pivot_table1"
   ]
  },
  {
   "cell_type": "markdown",
   "metadata": {},
   "source": [
    "이 때의 조건부엔트로피는 0.50이다."
   ]
  },
  {
   "cell_type": "code",
   "execution_count": 46,
   "metadata": {},
   "outputs": [
    {
     "data": {
      "text/plain": [
       "0.49946678768551295"
      ]
     },
     "execution_count": 46,
     "metadata": {},
     "output_type": "execute_result"
    }
   ],
   "source": [
    "def cond_entropy(v):\n",
    "    eps = np.finfo(\"float\").eps\n",
    "    pYX0 = v[0, :] / np.sum(v[0, :])\n",
    "    pYX1 = v[1, :] / np.sum(v[1, :])\n",
    "    HYX0 = sp.stats.entropy(pYX0, base=2)\n",
    "    HYX1 = sp.stats.entropy(pYX1, base=2)\n",
    "    HYX = np.sum(v, axis=1) @ [HYX0, HYX1] / np.sum(v)\n",
    "    \n",
    "    return HYX\n",
    "\n",
    "cond_entropy(pivot_table1.values)"
   ]
  },
  {
   "cell_type": "markdown",
   "metadata": {},
   "source": [
    "5.6cm를 기준으로 구분하면 다음과 같다."
   ]
  },
  {
   "cell_type": "code",
   "execution_count": 47,
   "metadata": {},
   "outputs": [
    {
     "data": {
      "text/html": [
       "<div>\n",
       "<style scoped>\n",
       "    .dataframe tbody tr th:only-of-type {\n",
       "        vertical-align: middle;\n",
       "    }\n",
       "\n",
       "    .dataframe tbody tr th {\n",
       "        vertical-align: top;\n",
       "    }\n",
       "\n",
       "    .dataframe thead th {\n",
       "        text-align: right;\n",
       "    }\n",
       "</style>\n",
       "<table border=\"1\" class=\"dataframe\">\n",
       "  <thead>\n",
       "    <tr style=\"text-align: right;\">\n",
       "      <th>species</th>\n",
       "      <th>0</th>\n",
       "      <th>1</th>\n",
       "    </tr>\n",
       "    <tr>\n",
       "      <th>X2</th>\n",
       "      <th></th>\n",
       "      <th></th>\n",
       "    </tr>\n",
       "  </thead>\n",
       "  <tbody>\n",
       "    <tr>\n",
       "      <th>False</th>\n",
       "      <td>47</td>\n",
       "      <td>16</td>\n",
       "    </tr>\n",
       "    <tr>\n",
       "      <th>True</th>\n",
       "      <td>3</td>\n",
       "      <td>34</td>\n",
       "    </tr>\n",
       "  </tbody>\n",
       "</table>\n",
       "</div>"
      ],
      "text/plain": [
       "species   0   1\n",
       "X2             \n",
       "False    47  16\n",
       "True      3  34"
      ]
     },
     "execution_count": 47,
     "metadata": {},
     "output_type": "execute_result"
    }
   ],
   "source": [
    "df[\"X2\"] = df[\"sepal length (cm)\"] > 5.6\n",
    "pivot_table2 = df.groupby([\"X2\", \"species\"]).size().unstack().fillna(0)\n",
    "pivot_table2"
   ]
  },
  {
   "cell_type": "code",
   "execution_count": 49,
   "metadata": {},
   "outputs": [
    {
     "data": {
      "text/plain": [
       "0.6652410957524191"
      ]
     },
     "execution_count": 49,
     "metadata": {},
     "output_type": "execute_result"
    }
   ],
   "source": [
    "cond_entropy(pivot_table2.values)"
   ]
  },
  {
   "cell_type": "markdown",
   "metadata": {},
   "source": [
    "이 때의 조건부엔트로피는 0.67이다.\n",
    "\n",
    "따라서 5.4cm를 기준값으로 잡는 것이 더 좋은 선택이다."
   ]
  },
  {
   "cell_type": "markdown",
   "metadata": {},
   "source": [
    "### Practice 1\n",
    "\n",
    "(1) 붓꽃 데이터에서 꽃받침의 길이(sepal length)의 최솟값과 최댓값 구간을 0.5 간격으로 나누어 각각의 값을 기준값으로 하였을 때 조건부엔트로피가 어떻게 변하는지 그래프로 그려라.\n",
    "\n",
    "(2) 꽃받침의 길이를 특징으로 사용하였을 때 어떤 값을 기준값으로 하는 것이 가장 좋은가?\n",
    "\n",
    "(3) 꽃받침의 폭(sepal width)에 대해 위의 분석을 실시하라. 이 때는 기준값이 어떻게 되는가?\n",
    "\n",
    "(4) 꽃받침의 길이(sepal length)와 꽃받침의 폭(sepal width) 중 하나를 특징으로 선택해야 한다면 어떤 것을 선택해야 하는가?"
   ]
  },
  {
   "cell_type": "code",
   "execution_count": 52,
   "metadata": {},
   "outputs": [
    {
     "data": {
      "text/plain": [
       "(7.0, 4.3)"
      ]
     },
     "execution_count": 52,
     "metadata": {},
     "output_type": "execute_result"
    }
   ],
   "source": [
    "df[\"sepal length (cm)\"].max(), df[\"sepal length (cm)\"].min()"
   ]
  },
  {
   "cell_type": "code",
   "execution_count": 54,
   "metadata": {},
   "outputs": [
    {
     "data": {
      "text/plain": [
       "array([4.3, 4.8, 5.3, 5.8, 6.3, 6.8])"
      ]
     },
     "execution_count": 54,
     "metadata": {},
     "output_type": "execute_result"
    }
   ],
   "source": [
    "level = np.arange(df[\"sepal length (cm)\"].min(), df[\"sepal length (cm)\"].max(), 0.5)\n",
    "level"
   ]
  },
  {
   "cell_type": "code",
   "execution_count": 57,
   "metadata": {},
   "outputs": [],
   "source": [
    "cond_entropies = np.ones_like(level)\n",
    "\n",
    "for i, le in enumerate(level):\n",
    "    df[\"SL{}\".format(i)] = df[\"sepal length (cm)\"] > le\n",
    "    pivot_table = df.groupby([\"SL{}\".format(i), \"species\"]).size().unstack().fillna(0)\n",
    "    cond_entropies[i] = cond_entropy(pivot_table.values)"
   ]
  },
  {
   "cell_type": "code",
   "execution_count": 62,
   "metadata": {},
   "outputs": [
    {
     "data": {
      "image/png": "[encoded data removed]",
      "text/plain": [
       "<Figure size 432x288 with 1 Axes>"
      ]
     },
     "metadata": {},
     "output_type": "display_data"
    }
   ],
   "source": [
    "plt.scatter(level, cond_entropies)\n",
    "plt.xlabel(\"Sepal length level\")\n",
    "plt.ylabel(\"Conditonal Entropy\")\n",
    "plt.xticks(level)\n",
    "plt.show()"
   ]
  },
  {
   "cell_type": "markdown",
   "metadata": {},
   "source": [
    "꽃받침 길이가 5.3cm일 때 엔트로피가 가장 낮기 때문에 가장 좋은 특징을 알 수 있다."
   ]
  },
  {
   "cell_type": "code",
   "execution_count": 67,
   "metadata": {},
   "outputs": [],
   "source": [
    "level2 = np.arange(df[\"sepal width (cm)\"].min(), df[\"sepal width (cm)\"].max(), 0.5)\n",
    "\n",
    "cond_entropies2 = np.ones_like(level2)\n",
    "\n",
    "for i, le in enumerate(level2):\n",
    "    df[\"SW{}\".format(i)] = df[\"sepal width (cm)\"] > le\n",
    "    pivot_table = df.groupby([\"SW{}\".format(i), \"species\"]).size().unstack().fillna(0)\n",
    "    cond_entropies2[i] = cond_entropy(pivot_table.values)"
   ]
  },
  {
   "cell_type": "code",
   "execution_count": 68,
   "metadata": {},
   "outputs": [
    {
     "data": {
      "image/png": "[encoded data removed]",
      "text/plain": [
       "<Figure size 432x288 with 1 Axes>"
      ]
     },
     "metadata": {},
     "output_type": "display_data"
    }
   ],
   "source": [
    "plt.scatter(level2, cond_entropies2)\n",
    "plt.xticks(level2)\n",
    "plt.xlabel(\"sepal width level\")\n",
    "plt.ylabel(\"Conditional Entropy\")\n",
    "plt.show()"
   ]
  },
  {
   "cell_type": "markdown",
   "metadata": {},
   "source": [
    "꽃받침 폭 3.0cm일때 엔트로피가 가장 낮기 때문에 기준값으로 가장 좋다. "
   ]
  },
  {
   "cell_type": "code",
   "execution_count": 70,
   "metadata": {},
   "outputs": [
    {
     "data": {
      "text/plain": [
       "array([0.98992714, 0.81788117, 0.60268739, 0.6726764 , 0.88016779,\n",
       "       0.97970555])"
      ]
     },
     "execution_count": 70,
     "metadata": {},
     "output_type": "execute_result"
    }
   ],
   "source": [
    "# 꽃받침 길이의 조건부엔트로피 분포\n",
    "cond_entropies"
   ]
  },
  {
   "cell_type": "code",
   "execution_count": 71,
   "metadata": {},
   "outputs": [
    {
     "data": {
      "text/plain": [
       "array([0.98992714, 0.89985465, 0.63430955, 0.83080514, 0.9693306 ])"
      ]
     },
     "execution_count": 71,
     "metadata": {},
     "output_type": "execute_result"
    }
   ],
   "source": [
    "# 꽃받침 폭의 조건부엔트로피 분포\n",
    "cond_entropies2"
   ]
  },
  {
   "cell_type": "markdown",
   "metadata": {},
   "source": [
    "꽃받침 길이 5.3cm 기준일 때가 꽃받침 폭 3.0cm일 때보다 조건부엔트로피가 더 낮기 때문에 꽃받침 길이를 선택하는 것이 낫다."
   ]
  },
  {
   "cell_type": "code",
   "execution_count": null,
   "metadata": {},
   "outputs": [],
   "source": []
  }
 ],
 "metadata": {
  "kernelspec": {
   "display_name": "Python 3",
   "language": "python",
   "name": "python3"
  },
  "language_info": {
   "codemirror_mode": {
    "name": "ipython",
    "version": 3
   },
   "file_extension": ".py",
   "mimetype": "text/x-python",
   "name": "python",
   "nbconvert_exporter": "python",
   "pygments_lexer": "ipython3",
   "version": "3.5.1"
  }
 },
 "nbformat": 4,
 "nbformat_minor": 2
}
