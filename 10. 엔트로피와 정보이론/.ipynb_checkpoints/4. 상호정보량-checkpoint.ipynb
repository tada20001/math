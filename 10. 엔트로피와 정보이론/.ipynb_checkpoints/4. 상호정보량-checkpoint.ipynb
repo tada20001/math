{
 "cells": [
  {
   "cell_type": "markdown",
   "metadata": {},
   "source": [
    "## 상호정보량\n",
    "\n",
    "두 확률변수  𝑋,𝑌 가 독립이면 정의에 의해 결합확률밀도함수는 주변확률밀도함수의 곱과 같다.\n",
    "\n",
    "$$p(x, y) = p(x)p(y)$$"
   ]
  },
  {
   "cell_type": "markdown",
   "metadata": {},
   "source": [
    "쿨벡-라이블러 발산은 두 확률분포가 얼마나 다른지를 정량적으로 나타내는 수치다. 두 확률분포가 같으면 쿨벡-라이블러 발산은 0이 되고 다르면 다를수록 큰 값을 가진다.\n",
    "\n",
    "$$KL(p||q) = \\sum_{i=1}^{K} p(y_i) \\log_2 \\left(\\dfrac{p(y_i)}{q(y_i)}\\right)$$"
   ]
  },
  {
   "cell_type": "markdown",
   "metadata": {},
   "source": [
    "상호정보량(mutual information)은 결합확률밀도함수  𝑝(𝑥,𝑦) 와 주변확률밀도함수의 곱  𝑝(𝑥)𝑝(𝑦) 의 쿨벡-라이블러 발산이다. \n",
    "\n",
    "###### 즉 결합확률밀도함수와 주변확률밀도함수의 차이를 측정함으로써 두 확률변수의 상관관계를 측정하는 방법이다. \n",
    "\n",
    "만약 두 확률변수가 독립이면 결합확률밀도함수는 주변확률밀도함수의 곱과 같으므로 상호정보량은 0이 된다. 반대로 상관관계가 있다면 그만큼 양의 상호정보량을 가진다.\n",
    "\n",
    "$$MI[X,Y] = KL\\big(p(x,y)||p(x)p(y)\\big)\n",
    "= \\sum_{i=1}^{K} p(x_i,y_i) \\log_2 \\left(\\dfrac{p(x_i,y_i)}{p(x_i)p(y_i)}\\right)$$"
   ]
  },
  {
   "cell_type": "markdown",
   "metadata": {},
   "source": [
    "상호정보량은 엔트로피와 조건부엔트로피의 차이와 같다.\n",
    "\n",
    "$$MI[X,Y] = H[X] - H[X|Y]$$"
   ]
  },
  {
   "cell_type": "markdown",
   "metadata": {},
   "source": [
    "또는\n",
    "\n",
    "$$MI[X,Y] = H[Y] - H[Y|X]$$\n",
    "\n",
    "조건부엔트로피는 두 확률변수의 상관관계가 강할수록 원래의 엔트로피보다 더 작아지므로 상호정보량이 커진다."
   ]
  },
  {
   "cell_type": "markdown",
   "metadata": {},
   "source": [
    "## 이산확률변수의 상호정보량\n",
    "\n",
    "상관관계가 있는 두 개의 카테고리 확률변수  𝑋,𝑌 에서 나온 표본 데이터  𝑁 개가 있다. 이 데이터를 이용하여 두 이산확률변수의 상호정보량을 추정하려면 우선 다음과 같은 기호를 정의해야 한다.\n",
    "\n",
    "+ 𝐼 :  𝑋 의 카테고리 개수\n",
    "+ 𝐽 :  𝑌 의 카테고리 개수\n",
    "+ 𝑁𝑖 :  𝑋=𝑖 인 데이터의 개수\n",
    "+ 𝑁𝑗 :  𝑌=𝑗 인 데이터의 개수\n",
    "+ 𝑁𝑖𝑗 :  𝑋=𝑖,𝑌=𝑗 인 데이터의 개수\n",
    "\n",
    "이 때 확률밀도함수는 다음과 같이 추정할 수 있다."
   ]
  },
  {
   "cell_type": "markdown",
   "metadata": {},
   "source": [
    "$$p_X(i) = \\dfrac{N_i}{N}$$\n",
    "\n",
    "$$p_Y(j) = \\dfrac{N_j}{N}$$\n",
    "\n",
    "$$p_{XY}(i,j) = \\dfrac{N_{ij}}{N}$$"
   ]
  },
  {
   "cell_type": "markdown",
   "metadata": {},
   "source": [
    "이를 대입하면 상호정보량은 다음처럼 나온다.\n",
    "\n",
    "$$MI[X,Y] \n",
    "= \\sum_{i=1}^{I} \\sum_{j=1}^{J} \\dfrac{N_{ij}}{N} \\log_2 \\left(\\dfrac{N N_{ij}}{N_iN_j}\\right)$$"
   ]
  },
  {
   "cell_type": "markdown",
   "metadata": {},
   "source": [
    "##### sklearn 패키지의 metrics 서브패키지는 이산확률변수의 상호정보량을 구하는 mutual_info_score 명령을 제공한다. \n",
    "\n",
    "mutual_info_score 명령은 각 데이터에 대해서  𝑋,𝑌  카테고리값을 표시한 2차원 배열을 입력해야 한다."
   ]
  },
  {
   "cell_type": "markdown",
   "metadata": {},
   "source": [
    "다음은 사이킷런 패키지에서 제공하는 문서 카테고리 분류문제 데이터다. 이중 'rec.autos', 'sci.med', 'rec.sport.baseball' 세 클래스의 문서에 대해 키워드 빈도와 카테고리 사이의 상호정보량을 계산하면 다음과 같다."
   ]
  },
  {
   "cell_type": "code",
   "execution_count": 1,
   "metadata": {},
   "outputs": [],
   "source": [
    "from sklearn.datasets import fetch_20newsgroups\n",
    "from sklearn.feature_extraction.text import CountVectorizer\n",
    "from sklearn.metrics import mutual_info_score"
   ]
  },
  {
   "cell_type": "code",
   "execution_count": 2,
   "metadata": {},
   "outputs": [],
   "source": [
    "import matplotlib.pylab as plt\n",
    "import matplotlib as mpl\n",
    "import matplotlib.font_manager as fm\n",
    "import seaborn as sns\n",
    "import numpy as np\n",
    "\n",
    "sns.set_style(\"whitegrid\")\n",
    "mpl.rcParams['axes.unicode_minus'] = False\n",
    "plt.rcParams['font.size'] = 12\n",
    "\n",
    "path = \"/Library/Fonts/NanumGothic.otf\"\n",
    "font_name = fm.FontProperties(fname=path, size=20).get_name()\n",
    "\n",
    "plt.rc('font', family=font_name)"
   ]
  },
  {
   "cell_type": "code",
   "execution_count": 3,
   "metadata": {},
   "outputs": [],
   "source": [
    "categories = ['rec.autos', 'sci.med', 'rec.sport.baseball']\n",
    "newsgroups = fetch_20newsgroups(subset='train', categories=categories)\n",
    "vect = CountVectorizer(stop_words=\"english\", token_pattern=\"[a-zA-Z]+\")\n",
    "X = vect.fit_transform(newsgroups.data).toarray()\n",
    "y = newsgroups.target"
   ]
  },
  {
   "cell_type": "code",
   "execution_count": 4,
   "metadata": {},
   "outputs": [
    {
     "data": {
      "image/png": "[encoded data removed]",
      "text/plain": [
       "<Figure size 432x288 with 1 Axes>"
      ]
     },
     "metadata": {},
     "output_type": "display_data"
    }
   ],
   "source": [
    "mi = np.array([mutual_info_score(X[:, i], y) for i in range(X.shape[0])])  \n",
    "plt.stem(mi)\n",
    "plt.title(\"뉴스그룹 카테고리와 키워드 사이의 정보량\")\n",
    "plt.xlabel(\"키워드 번호\")\n",
    "plt.show()"
   ]
  },
  {
   "cell_type": "markdown",
   "metadata": {},
   "source": [
    "가장 상호정보량이 큰 10개의 키워드는 다음과 같다."
   ]
  },
  {
   "cell_type": "code",
   "execution_count": 5,
   "metadata": {},
   "outputs": [
    {
     "data": {
      "text/plain": [
       "['baseball',\n",
       " 'banks',\n",
       " 'automotive',\n",
       " 'auto',\n",
       " 'ball',\n",
       " 'autos',\n",
       " 'batting',\n",
       " 'atlanta',\n",
       " 'alomar',\n",
       " 'bat']"
      ]
     },
     "execution_count": 5,
     "metadata": {},
     "output_type": "execute_result"
    }
   ],
   "source": [
    "inv_vocabulary = {v: k for k, v in vect.vocabulary_.items()}\n",
    "idx = np.flip(np.argsort(mi), axis=0) # 내림순으로 배열 \n",
    "[inv_vocabulary[idx[i]] for i in range(10)]  # 제일 큰 값 10개에 해당하는 문자열 출력"
   ]
  },
  {
   "cell_type": "markdown",
   "metadata": {},
   "source": [
    "## 최대정보 상관계수\n",
    "\n",
    "연속확률변수의 표본 데이터에서 상호정보량을 측정하려면 우선 확률분포함수를 알아야한다. 확률분포함수는 보통 히스토그램을 사용하여 유한개의 구간(bin)으로 나누어 추정하게되는데 이 때 구간의 갯수나 경계 위치에 따라 추정오차가 커질 수 있다. 따라서 구간을 나누는 방법을 다양하게 시도한 다음에 그 결과로 구한 다양한 상호정보량 중에서 가장 큰 값을 선택하는 방법을 최대정보 상관계수(maximal information coefficient, MIC)라고 한다.\n",
    "\n",
    "\n",
    "$$MIC = \\max \\dfrac{\\max \\widehat{MI}[X,Y]}{\\log\\min(x,y)}$$"
   ]
  },
  {
   "cell_type": "markdown",
   "metadata": {},
   "source": [
    "이 식에서  𝑀𝐼ˆ[𝑋,𝑌] 은 여러가지 구간을 사용하여 구한 상호정보량의 추정값이다.\n",
    "\n",
    "minepy 패키지를 사용하면 최대정보 상관계수를 구할 수 있다. 다음은 선형상관계수(피어슨 상관계수)로 0이 나오지만 비선형적인 상관관계를 가지는 데이터들에 대해 최대정보 상관계수를 구한 결과다."
   ]
  },
  {
   "cell_type": "code",
   "execution_count": 1,
   "metadata": {},
   "outputs": [
    {
     "ename": "ImportError",
     "evalue": "No module named 'minepy'",
     "output_type": "error",
     "traceback": [
      "\u001b[0;31m---------------------------------------------------------------------------\u001b[0m",
      "\u001b[0;31mImportError\u001b[0m                               Traceback (most recent call last)",
      "\u001b[0;32m<ipython-input-1-d62d39fa2a33>\u001b[0m in \u001b[0;36m<module>\u001b[0;34m()\u001b[0m\n\u001b[0;32m----> 1\u001b[0;31m \u001b[0;32mfrom\u001b[0m \u001b[0mminepy\u001b[0m \u001b[0;32mimport\u001b[0m \u001b[0mMINE\u001b[0m\u001b[0;34m\u001b[0m\u001b[0m\n\u001b[0m",
      "\u001b[0;31mImportError\u001b[0m: No module named 'minepy'"
     ]
    }
   ],
   "source": [
    "from minepy import MINE"
   ]
  },
  {
   "cell_type": "code",
   "execution_count": null,
   "metadata": {},
   "outputs": [],
   "source": []
  },
  {
   "cell_type": "code",
   "execution_count": null,
   "metadata": {},
   "outputs": [],
   "source": []
  }
 ],
 "metadata": {
  "kernelspec": {
   "display_name": "Python 3",
   "language": "python",
   "name": "python3"
  },
  "language_info": {
   "codemirror_mode": {
    "name": "ipython",
    "version": 3
   },
   "file_extension": ".py",
   "mimetype": "text/x-python",
   "name": "python",
   "nbconvert_exporter": "python",
   "pygments_lexer": "ipython3",
   "version": "3.5.1"
  }
 },
 "nbformat": 4,
 "nbformat_minor": 2
}
