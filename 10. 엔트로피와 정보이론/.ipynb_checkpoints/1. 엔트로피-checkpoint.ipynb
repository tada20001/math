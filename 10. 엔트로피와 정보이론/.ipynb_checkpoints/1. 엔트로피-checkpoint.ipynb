{
 "cells": [
  {
   "cell_type": "markdown",
   "metadata": {},
   "source": [
    "## 엔트로피의 정의\n",
    "\n",
    "𝑌=0  또는  𝑌=1  인 두 가지 값을 가지는 확률변수의 확률분포가 다음과 같이 세 종류가 있다고 하자.\n",
    "\n",
    "+ 확률분포  𝑌1 :  𝑃(𝑌=0)=0.5 ,  𝑃(𝑌=1)=0.5 \n",
    "+ 확률분포  𝑌2 :  𝑃(𝑌=0)=0.8 ,  𝑃(𝑌=1)=0.2 \n",
    "+ 확률분포  𝑌3 :  𝑃(𝑌=0)=1.0 ,  𝑃(𝑌=1)=0.0"
   ]
  },
  {
   "cell_type": "code",
   "execution_count": 1,
   "metadata": {},
   "outputs": [],
   "source": [
    "import matplotlib.pylab as plt\n",
    "import matplotlib as mpl\n",
    "import matplotlib.font_manager as fm\n",
    "import seaborn as sns\n",
    "import numpy as np\n",
    "\n",
    "sns.set_style(\"whitegrid\")\n",
    "mpl.rcParams['axes.unicode_minus'] = False\n",
    "plt.rcParams['font.size'] = 12\n",
    "\n",
    "path = \"/Library/Fonts/NanumGothic.otf\"\n",
    "font_name = fm.FontProperties(fname=path, size=20).get_name()\n",
    "\n",
    "plt.rc('font', family=font_name)"
   ]
  },
  {
   "cell_type": "code",
   "execution_count": 7,
   "metadata": {},
   "outputs": [
    {
     "data": {
      "image/png": "[encoded data removed]",
      "text/plain": [
       "<Figure size 648x216 with 3 Axes>"
      ]
     },
     "metadata": {},
     "output_type": "display_data"
    }
   ],
   "source": [
    "plt.figure(figsize=(9, 3))\n",
    "plt.subplot(131)\n",
    "plt.bar([0, 1], [0.5, 0.5])\n",
    "plt.xticks([0, 1], [\"Y=0\", \"Y=1\"])\n",
    "plt.ylim(0, 1.1)\n",
    "plt.title(\"$Y_1$\")\n",
    "\n",
    "plt.subplot(132)\n",
    "plt.bar([0, 1], [0.8, 0.2])\n",
    "plt.xticks([0, 1], [\"Y=0\", \"Y=1\"])\n",
    "plt.ylim(0, 1.1)\n",
    "plt.title(\"$Y_2$\")\n",
    "\n",
    "plt.subplot(133)\n",
    "plt.bar([0, 1], [1.0, 0])\n",
    "plt.xticks([0, 1], [\"Y=0\", \"Y=1\"])\n",
    "plt.ylim(0, 1.1)\n",
    "plt.title(\"$Y_3$\")\n",
    "\n",
    "plt.tight_layout()\n",
    "plt.show()"
   ]
  },
  {
   "cell_type": "markdown",
   "metadata": {},
   "source": [
    "베이지안 관점에서 위 확률분포는 다음과 같은 정보를 나타낸다.\n",
    "\n",
    "+ 확률분포  𝑌1 은  𝑦 값에 대해 아무것도 모르는 상태\n",
    "+ 확률분포  𝑌2 은  𝑦 값이 0이라고 믿지만 아닐 가능성도 있다는 것을 아는 상태\n",
    "+ 확률분포  𝑌3 은  𝑦 값이 0이라고 100% 확신하는 상태\n",
    "\n",
    "###### 확률분포가 가지는 정보의 확신도 혹은 정보량을 수치로 표현한 것이 엔트로피(entropy)다. \n",
    "\n",
    "##### 확률분포에서 특정한 값이 나올 확률이 높아지고 나머지 값의 확률은 낮아진다면 엔트로피가 작아진다. \n",
    "\n",
    "##### 반대로 여러가지 값이 나올 확률이 대부분 비슷한 경우에는 엔트로피가 높아진다.\n",
    "\n",
    "확률분포의 엔트로피는 물리학의 엔트로피 용어를 빌려온 것이다. 물리학에서는 물질의 상태가 분산되는 정도를 엔트로피로 정의한다. 물체의 상태가 여러가지로 고루 분산되어 있으면 엔트로피가 높고 특정한 하나의 상태로 몰려있으면 엔트로피가 낮다.\n",
    "\n",
    "수학적으로 엔트로피는 확률분포함수를 입력으로 받아 숫자를 출력하는 범함수(functional)로 정의한다.  𝐻[] 기호로 표기한다.\n",
    "\n",
    "확률변수  𝑌 가 카테고리분포와 같은 이산확률변수이면 다음처럼 정의한다."
   ]
  },
  {
   "cell_type": "markdown",
   "metadata": {},
   "source": [
    "$$H[Y] = -\\sum_{k=1}^K p(y_k) \\log_2 p(y_k)$$\n",
    "\n",
    "이 식에서  𝐾 는  𝑋 가 가질 수 있는 클래스의 수이고  𝑝(𝑦) 는 확률질량함수다.\n",
    "\n",
    "확률변수  𝑌 가 정규분포와 같은 연속확률변수이면 다음처럼 정의한다.\n",
    "\n",
    "$$H[Y] = -\\int_{-\\infty}^{\\infty} p(y) \\log_2 p(y) \\; dy$$"
   ]
  },
  {
   "cell_type": "markdown",
   "metadata": {},
   "source": [
    "이 식에서  𝑝(𝑦) 는 확률밀도함수다.\n",
    "\n",
    "로그의 밑(base)이 2로 정의된 것은 정보통신과 관련을 가지는 역사적인 이유때문이다.\n",
    "\n",
    "위에서 예를 든  𝑌1 ,  𝑌2 ,  𝑌3  3 개의 확률분포에 대해 엔트로피는 구하면 다음과 같다.\n",
    "\n",
    "$$H[Y_1] = -\\dfrac{1}{2} \\log_2 \\dfrac{1}{2} -\\dfrac{1}{2} \\log_2 \\dfrac{1}{2} = 1$$\n",
    "\n",
    "$$H[Y_2] = -\\dfrac{8}{10} \\log_2 \\dfrac{8}{10} -\\dfrac{2}{10} \\log_2 \\dfrac{2}{10} = 0.72$$\n",
    "\n",
    "$$H[Y_3] = -1 \\log_2 1 -0 \\log_2 0 = 0$$"
   ]
  },
  {
   "cell_type": "markdown",
   "metadata": {},
   "source": [
    "엔트로피 계산에서  𝑝(𝑦)=0 인 경우에는 로그값이 정의되지 않으므로 다음과 같은 극한값을 사용한다.\n",
    "\n",
    "$$\\lim_{p\\rightarrow 0} \\; p\\log_2{p} = 0$$\n",
    "\n",
    "이 값은 로피탈의 정리(l'Hôpital's rule)에서 구할 수 있다.\n",
    "\n",
    "넘파이로 엔트로피를 구하면 다음과 같다. 확률값이 0일 때는 가장 작은 값인 eps를 대신 사용한다."
   ]
  },
  {
   "cell_type": "code",
   "execution_count": 9,
   "metadata": {},
   "outputs": [
    {
     "data": {
      "text/plain": [
       "1.0"
      ]
     },
     "execution_count": 9,
     "metadata": {},
     "output_type": "execute_result"
    }
   ],
   "source": [
    "-0.5 * np.log2(0.5) - 0.5 * np.log2(0.5)"
   ]
  },
  {
   "cell_type": "code",
   "execution_count": 11,
   "metadata": {},
   "outputs": [
    {
     "data": {
      "text/plain": [
       "0.7219280948873623"
      ]
     },
     "execution_count": 11,
     "metadata": {},
     "output_type": "execute_result"
    }
   ],
   "source": [
    "-0.8 * np.log2(0.8) - 0.2 * np.log2(0.2)"
   ]
  },
  {
   "cell_type": "code",
   "execution_count": 13,
   "metadata": {},
   "outputs": [
    {
     "data": {
      "text/plain": [
       "1.1546319456101628e-14"
      ]
     },
     "execution_count": 13,
     "metadata": {},
     "output_type": "execute_result"
    }
   ],
   "source": [
    "eps = np.finfo(float).eps\n",
    "\n",
    "-1 * np.log2(1) - eps * np.log2(eps)"
   ]
  },
  {
   "cell_type": "markdown",
   "metadata": {},
   "source": [
    "### Practice 1\n",
    "\n",
    "두 가지 값을 가질 수 있는 베르누이분포에서 확률값  𝑃(𝑌=1) 은 0부터 1까지의 값을 가질 수 있다. 각각의 확률분포에 대해 엔트로피를 계산하여 가로축이  𝑃(𝑌=1) 이고 세로축이  𝐻[𝑌] 인 그래프를 그려라."
   ]
  },
  {
   "cell_type": "code",
   "execution_count": 21,
   "metadata": {},
   "outputs": [
    {
     "data": {
      "image/png": "[encoded data removed]",
      "text/plain": [
       "<Figure size 432x288 with 1 Axes>"
      ]
     },
     "metadata": {},
     "output_type": "display_data"
    }
   ],
   "source": [
    "import scipy as sp\n",
    "import scipy.stats\n",
    "\n",
    "xx = [0, 1]\n",
    "\n",
    "px = sp.stats.bernoulli(0.6).pmf(xx)\n",
    "\n",
    "plt.bar(xx, px)\n",
    "plt.xticks([0, 1], [\"x=0\", \"x=1\"])\n",
    "plt.ylabel(\"P(x)\")\n",
    "plt.ylim(0, 1.1)\n",
    "plt.show()"
   ]
  },
  {
   "cell_type": "code",
   "execution_count": 67,
   "metadata": {},
   "outputs": [],
   "source": [
    "eps = np.finfo(float).eps\n",
    "\n",
    "def entropy(x):\n",
    "    if ((x == 0) | ((1-x) == 0)):\n",
    "        return -eps * np.log2(eps) - 1 * np.log2(1)\n",
    "\n",
    "    return -x * np.log2(x) - (1-x) *np.log2(1-x)\n",
    "\n",
    "p_y_1 = np.arange(0, 1.1, 0.1)\n",
    "\n",
    "entropys = []\n",
    "\n",
    "for i in p_y_1:\n",
    "    entropys.append(entropy(i))"
   ]
  },
  {
   "cell_type": "code",
   "execution_count": 68,
   "metadata": {},
   "outputs": [
    {
     "data": {
      "image/png": "[encoded data removed]",
      "text/plain": [
       "<Figure size 432x288 with 1 Axes>"
      ]
     },
     "metadata": {},
     "output_type": "display_data"
    }
   ],
   "source": [
    "plt.scatter(p_y_1, entropys)\n",
    "plt.xlabel(\"$Y=1$\")\n",
    "plt.ylabel(\"$H[Y]$\")\n",
    "plt.title(\"베르누이 분포에 대한 엔트로피 계산\")\n",
    "plt.show()"
   ]
  },
  {
   "cell_type": "markdown",
   "metadata": {},
   "source": [
    "### Practice 2\n",
    "\n",
    "다음 확률분포의 엔트로피를 계산하라.\n",
    "\n",
    "(1)  𝑃(𝑌=0)=1/8,𝑃(𝑌=1)=1/8,𝑃(𝑌=2)=1/4,𝑃(𝑌=3)=1/2 \n",
    "\n",
    "(2)  𝑃(𝑌=0)=1,𝑃(𝑌=1)=0,𝑃(𝑌=2)=0,𝑃(𝑌=3)=0 \n",
    "\n",
    "(3)  𝑃(𝑌=0)=1/4,𝑃(𝑌=1)=1/4,𝑃(𝑌=2)=1/4,𝑃(𝑌=3)=1/4"
   ]
  },
  {
   "cell_type": "code",
   "execution_count": 72,
   "metadata": {},
   "outputs": [
    {
     "data": {
      "text/plain": [
       "1.75"
      ]
     },
     "execution_count": 72,
     "metadata": {},
     "output_type": "execute_result"
    }
   ],
   "source": [
    "-(1/8) * np.log2(1/8) - (1/8) * np.log2(1/8) - (1/4) * np.log2(1/4) - (1/2) * np.log2(1/2)"
   ]
  },
  {
   "cell_type": "code",
   "execution_count": 73,
   "metadata": {},
   "outputs": [
    {
     "data": {
      "text/plain": [
       "1.0"
      ]
     },
     "execution_count": 73,
     "metadata": {},
     "output_type": "execute_result"
    }
   ],
   "source": [
    "1 / 8 + 1/8 + 1/4 + 1/2"
   ]
  },
  {
   "cell_type": "code",
   "execution_count": 74,
   "metadata": {},
   "outputs": [
    {
     "data": {
      "text/plain": [
       "3.4638958368304884e-14"
      ]
     },
     "execution_count": 74,
     "metadata": {},
     "output_type": "execute_result"
    }
   ],
   "source": [
    "eps = np.finfo(float).eps\n",
    "-1 * np.log2(1) - eps * np.log2(eps) - eps * np.log2(eps) - eps * np.log2(eps)"
   ]
  },
  {
   "cell_type": "code",
   "execution_count": 80,
   "metadata": {},
   "outputs": [
    {
     "data": {
      "text/plain": [
       "2.0"
      ]
     },
     "execution_count": 80,
     "metadata": {},
     "output_type": "execute_result"
    }
   ],
   "source": [
    "-(1/4) * np.log2(1/4) * 4"
   ]
  },
  {
   "cell_type": "markdown",
   "metadata": {},
   "source": [
    "## 엔트로피의 성질\n",
    "\n",
    "확률변수가 결정론적이면 확률분포에서 특정한 하나의 값이 나올 확률이 1이다. 이 때 엔트로피는 0이 되고 이 값은 엔트로피가 가질 수 있는 최솟값이다.\n",
    "\n",
    "반대로 엔트로피의 최대값은 이산 확률변수의 클래스의 갯수에 따라 달라진다. 만약 이산확률분포가 가질 수 있는 값이  2𝐾 개면 엔트로피의 최대값은 각 값에 대한 확률이 모두 같은 값인  1/2𝐾 이다. 엔트로피의 값은\n",
    "\n",
    "$$H = -2^K \\cdot \\frac{1}{2^K}\\log_2\\dfrac{1}{2^K} = K$$\n",
    "\n",
    "이다."
   ]
  },
  {
   "cell_type": "markdown",
   "metadata": {},
   "source": [
    "## 엔트로피의 추정\n",
    "\n",
    "이론적인 확률밀도함수가 없고 실제 데이터가 주어진 경우에는 데이터에서 확률질량함수를 추정한 후, 이를 기반으로 엔트로피를 추정한다.\n",
    "\n",
    "예를 들어 데이터가 모두 80개가 있고 그 중 Y = 0 인 데이터가 40개, Y = 1인 데이터가 40개 있는 경우는 엔트로피가 1이다.\n",
    "\n",
    "$$P(y=0) = \\dfrac{40}{80} = \\dfrac{1}{2}$$\n",
    "\n",
    "$$P(y=1) = \\dfrac{40}{80} = \\dfrac{1}{2}$$\n",
    "\n",
    "$$H[Y] = -\\dfrac{1}{2}\\log_2\\left(\\dfrac{1}{2}\\right) -\\dfrac{1}{2}\\log_2\\left(\\dfrac{1}{2}\\right) = \\dfrac{1}{2} + \\dfrac{1}{2}  = 1$$"
   ]
  },
  {
   "cell_type": "markdown",
   "metadata": {},
   "source": [
    "SciPy의 stats 서브패키지는 엔트로피를 구하는 entropy 함수를 제공한다. base 인수값은 2가 되어야 한다."
   ]
  },
  {
   "cell_type": "code",
   "execution_count": 81,
   "metadata": {},
   "outputs": [
    {
     "data": {
      "text/plain": [
       "1.0"
      ]
     },
     "execution_count": 81,
     "metadata": {},
     "output_type": "execute_result"
    }
   ],
   "source": [
    "p = [0.5, 0.5]\n",
    "sp.stats.entropy(p, base=2)"
   ]
  },
  {
   "cell_type": "markdown",
   "metadata": {},
   "source": [
    "### Practice 3\n",
    "\n",
    "(1) 데이터가 모두 60개가 있고 그 중  𝑌=0 인 데이터가 20개,  𝑌=1 인 데이터가 40개 있는 경우의 엔트로피를 계산하라.\n",
    "\n",
    "(2) 데이터가 모두 40개가 있고 그 중  𝑌=0 인 데이터가 30개,  𝑌=1 인 데이터가 10개 있는 경우의 엔트로피를 계산하라.\n",
    "\n",
    "(3) 데이터가 모두 20개가 있고 그 중  𝑌=0 인 데이터만 20개 있는 경우의 엔트로피를 계산하라."
   ]
  },
  {
   "cell_type": "code",
   "execution_count": 82,
   "metadata": {},
   "outputs": [
    {
     "data": {
      "text/plain": [
       "0.9182958340544894"
      ]
     },
     "execution_count": 82,
     "metadata": {},
     "output_type": "execute_result"
    }
   ],
   "source": [
    "p = [20/60, 40/60]\n",
    "sp.stats.entropy(p, base=2)"
   ]
  },
  {
   "cell_type": "code",
   "execution_count": 83,
   "metadata": {},
   "outputs": [
    {
     "data": {
      "text/plain": [
       "0.8112781244591328"
      ]
     },
     "execution_count": 83,
     "metadata": {},
     "output_type": "execute_result"
    }
   ],
   "source": [
    "p = [30/40, 10/40]\n",
    "sp.stats.entropy(p, base=2)"
   ]
  },
  {
   "cell_type": "code",
   "execution_count": 84,
   "metadata": {},
   "outputs": [
    {
     "data": {
      "text/plain": [
       "0.0"
      ]
     },
     "execution_count": 84,
     "metadata": {},
     "output_type": "execute_result"
    }
   ],
   "source": [
    "p = [20/20, 0]\n",
    "sp.stats.entropy(p, base=2)"
   ]
  },
  {
   "cell_type": "markdown",
   "metadata": {},
   "source": [
    "## 가변길이 인코딩\n",
    "\n",
    "엔트로피는 원래 통신 분야에서 데이터가 가지고 있는 정보량을 계산하기 위해 고안되었다. 예를 들어 4개의 글자 A, B, C, D로 씌여진 다음과 같은 문서가 있다고 하자."
   ]
  },
  {
   "cell_type": "code",
   "execution_count": 86,
   "metadata": {},
   "outputs": [
    {
     "data": {
      "text/plain": [
       "200"
      ]
     },
     "execution_count": 86,
     "metadata": {},
     "output_type": "execute_result"
    }
   ],
   "source": [
    "N = 200\n",
    "p = [1/2, 1/4, 1/8, 1/8]\n",
    "doc0 = list(\"\".join([int(N * p[i]) * c for i, c in enumerate(\"ABCD\")]))  # A, B, C, D 글자에 확률을 적용하여 200개 데이터를 생성\n",
    "len(doc0)"
   ]
  },
  {
   "cell_type": "code",
   "execution_count": 87,
   "metadata": {},
   "outputs": [
    {
     "data": {
      "text/plain": [
       "'AAAAAAAAAAAAAAAAAAAAAAAAAAAAAAAAAAAAAAAAAAAAAAAAAAAAAAAAAAAAAAAAAAAAAAAAAAAAAAAAAAAAAAAAAAAAAAAAAAAABBBBBBBBBBBBBBBBBBBBBBBBBBBBBBBBBBBBBBBBBBBBBBBBBBCCCCCCCCCCCCCCCCCCCCCCCCCDDDDDDDDDDDDDDDDDDDDDDDDD'"
      ]
     },
     "execution_count": 87,
     "metadata": {},
     "output_type": "execute_result"
    }
   ],
   "source": [
    "doc = \"\".join(doc0)\n",
    "doc"
   ]
  },
  {
   "cell_type": "markdown",
   "metadata": {},
   "source": [
    "이 문서를 0과 1로 이루어진 이진수로 변환하면 보통 다음과 같이 인코딩한다.\n",
    "\n",
    "+ A = \"00\"\n",
    "+ B = \"01\"\n",
    "+ C = \"10\"\n",
    "+ D = \"11\""
   ]
  },
  {
   "cell_type": "markdown",
   "metadata": {},
   "source": [
    "이렇게 인코딩을 하면 200 글자로 이루어진 문서는 이진수 400개가 된다."
   ]
  },
  {
   "cell_type": "code",
   "execution_count": 88,
   "metadata": {},
   "outputs": [
    {
     "data": {
      "text/plain": [
       "'0000000000000000000000000000000000000000000000000000000000000000000000000000000000000000000000000000000000000000000000000000000000000000000000000000000000000000000000000000000000000000000000000000000001010101010101010101010101010101010101010101010101010101010101010101010101010101010101010101010101011010101010101010101010101010101010101010101010101011111111111111111111111111111111111111111111111111'"
      ]
     },
     "execution_count": 88,
     "metadata": {},
     "output_type": "execute_result"
    }
   ],
   "source": [
    "encoder = {\"A\": \"00\", \"B\": \"01\", \"C\": \"10\", \"D\": \"11\"}\n",
    "encoded_doc = \"\".join([encoder[c] for c in doc])\n",
    "encoded_doc"
   ]
  },
  {
   "cell_type": "code",
   "execution_count": 89,
   "metadata": {},
   "outputs": [
    {
     "data": {
      "text/plain": [
       "400"
      ]
     },
     "execution_count": 89,
     "metadata": {},
     "output_type": "execute_result"
    }
   ],
   "source": [
    "len(encoded_doc)"
   ]
  },
  {
   "cell_type": "markdown",
   "metadata": {},
   "source": [
    "그런데 이진수로 변환할 때 더 글자수를 줄일 수 있는 방법이 있다. 우선 위 글자의 분포를 조사하면 다음과 같다."
   ]
  },
  {
   "cell_type": "code",
   "execution_count": 90,
   "metadata": {},
   "outputs": [
    {
     "data": {
      "image/png": "[encoded data removed]",
      "text/plain": [
       "<Figure size 432x288 with 1 Axes>"
      ]
     },
     "metadata": {},
     "output_type": "display_data"
    }
   ],
   "source": [
    "sns.countplot(list(doc), order=\"ABCD\")\n",
    "plt.title(\"글자수의 분포\")\n",
    "plt.show()"
   ]
  },
  {
   "cell_type": "markdown",
   "metadata": {},
   "source": [
    "글자의 분포가 다음과 같다.\n",
    "\n",
    "$$P(Y=A)=\\dfrac{1}{2}, P(Y=B)=\\dfrac{1}{4}, P(Y=C)=\\dfrac{1}{8}, P(Y=D)=\\dfrac{1}{8} $$\n",
    "\n",
    "지프의 법칙(Zipf's law), 혹은 파레토 법칙(Pareto's law)에 따르면 이러한 분포는 현실의 글자 빈도수에서도 흔히 나타나므로 비현실적인 가정은 아니다.\n",
    "\n",
    "확률분포가 이렇게 균등하지 않을 때는 다음처럼 인코딩하면 인코딩된 후의 이진수 수를 줄일 수 있다.\n",
    "\n",
    "+ A = \"0\"\n",
    "+ B = \"10\"\n",
    "+ C = \"110\"\n",
    "+ D = \"111\"\n",
    "\n"
   ]
  },
  {
   "cell_type": "markdown",
   "metadata": {},
   "source": [
    "이 방법은 글자마다 인코딩하는 이진수의 숫자가 다르기 때문에 가변길이 인코딩(variable length encoding)이라고 한다. \"C\", \"D\"는 이진수의 수가 3개로 많지만 글자의 빈도가 적어서 영향이 적다. 반대로 가장 많이 출현하는 \"A\"는 두 글자가 아닌 한 글자이므로 인코딩 후의 이진수 수가 감소한다.\n",
    "\n",
    "만약 문서의 분포가 위에서 가정한 분포와 정확하게 같다면 인코딩된 이진수의 숫자는 다음 계산에서 350개가 됨을 알 수 있다."
   ]
  },
  {
   "cell_type": "markdown",
   "metadata": {},
   "source": [
    "$$\\left(200 \\times \\dfrac{1}{2}\\right) \\cdot 1 + \n",
    "\\left(200 \\times \\dfrac{1}{4}\\right) \\cdot 2 + \n",
    "\\left(200 \\times \\dfrac{1}{8}\\right) \\cdot 3 + \n",
    "\\left(200 \\times \\dfrac{1}{8}\\right) \\cdot 3 = 350$$"
   ]
  },
  {
   "cell_type": "markdown",
   "metadata": {},
   "source": [
    "##### 따라서 알파벳 한 글자를 인코딩하는데 필요한 평균 비트(bit)수는  350÷200=1.75 이고 이 값은 확률변수의 엔트로피 값과 같다."
   ]
  },
  {
   "cell_type": "markdown",
   "metadata": {},
   "source": [
    "$$H = -\\dfrac{1}{2}\\log_2\\dfrac{1}{2} -\\dfrac{1}{4}\\log_2\\dfrac{1}{4} -\\dfrac{2}{8}\\log_2\\dfrac{1}{8} = 1.75$$"
   ]
  },
  {
   "cell_type": "code",
   "execution_count": 92,
   "metadata": {},
   "outputs": [
    {
     "data": {
      "text/plain": [
       "1.75"
      ]
     },
     "execution_count": 92,
     "metadata": {},
     "output_type": "execute_result"
    }
   ],
   "source": [
    "sp.stats.entropy([1/2, 1/4, 1/8, 1/8], base=2)"
   ]
  },
  {
   "cell_type": "code",
   "execution_count": 93,
   "metadata": {},
   "outputs": [
    {
     "data": {
      "text/plain": [
       "'00000000000000000000000000000000000000000000000000000000000000000000000000000000000000000000000000001010101010101010101010101010101010101010101010101010101010101010101010101010101010101010101010101010110110110110110110110110110110110110110110110110110110110110110110110110110111111111111111111111111111111111111111111111111111111111111111111111111111'"
      ]
     },
     "execution_count": 93,
     "metadata": {},
     "output_type": "execute_result"
    }
   ],
   "source": [
    "vl_encoder = {\"A\": \"0\", \"B\": \"10\", \"C\": \"110\", \"D\": \"111\"}\n",
    "vl_encoder_doc = \"\".join([vl_encoder[c] for c in doc])\n",
    "vl_encoder_doc"
   ]
  },
  {
   "cell_type": "code",
   "execution_count": 94,
   "metadata": {},
   "outputs": [
    {
     "data": {
      "text/plain": [
       "350"
      ]
     },
     "execution_count": 94,
     "metadata": {},
     "output_type": "execute_result"
    }
   ],
   "source": [
    "len(vl_encoder_doc)"
   ]
  },
  {
   "cell_type": "markdown",
   "metadata": {},
   "source": [
    "### Practice 4\n",
    "\n",
    "A, B, C, D, E, F, G, H의 8글자로 이루어진 문서가 있고 각각의 글자가 나올 확률이 다음과 같다고 가정하자.\n",
    "\n",
    "$$\\Big\\{ \\dfrac{1}{2}, \\dfrac{1}{4}, \\dfrac{1}{8}, \\dfrac{1}{16}, \\dfrac{1}{64}, \\dfrac{1}{64}, \\dfrac{1}{64}, \\dfrac{1}{64} \\Big\\}$$\n",
    "\n",
    "이 문서를 위한 가변 길이 인코딩 방식을 서술하고 한 글자를 인코딩하는데 필요한 평균 비트수를 계산하라."
   ]
  },
  {
   "cell_type": "code",
   "execution_count": 95,
   "metadata": {},
   "outputs": [
    {
     "data": {
      "text/plain": [
       "2.0"
      ]
     },
     "execution_count": 95,
     "metadata": {},
     "output_type": "execute_result"
    }
   ],
   "source": [
    "p = [1/2, 1/4, 1/8, 1/16, 1/64, 1/64, 1/64, 1/64]\n",
    "\n",
    "sp.stats.entropy(p, base=2)"
   ]
  },
  {
   "cell_type": "markdown",
   "metadata": {},
   "source": [
    "## 지니불순도\n",
    "\n",
    "엔트로피와 유사한 개념으로 지니불순도(Gini impurity)라는 것이 있다. 지니불순도는 엔트로피처럼 확률분포가 어느 쪽에 치우쳐 있는가를 재는 척도지만 로그를 사용하지 않아 계산량이 더 적어 엔트로피 대용으로 많이 사용된다. 경제학에서도 사용되지만 지니계수(Gini coefficient)와는 다른 개념이라는 점에 주의해야 한다.\n",
    "\n",
    "$$G[Y] = \\sum_{k=1}^K P(y_k) (1 - P(y_k))$$"
   ]
  },
  {
   "cell_type": "markdown",
   "metadata": {},
   "source": [
    "다음 그림은 값이 두 개인 이산확률분포에서 지니불순도와 엔트로피를 비교한 결과다."
   ]
  },
  {
   "cell_type": "code",
   "execution_count": 98,
   "metadata": {},
   "outputs": [
    {
     "data": {
      "image/png": "[encoded data removed]",
      "text/plain": [
       "<Figure size 432x288 with 1 Axes>"
      ]
     },
     "metadata": {},
     "output_type": "display_data"
    }
   ],
   "source": [
    "P0 = np.linspace(0.001, 1 - 0.001, 1000)\n",
    "P1 = 1 - P0\n",
    "H = -P0 * np.log2(P0) - P1 * np.log2(P1)\n",
    "G = 2 * (P0 * (1 - P0) + P1 * (1 - P1))\n",
    "\n",
    "plt.plot(P1, H, \"-\", label=\"엔트로피\")\n",
    "plt.plot(P1, G, \"--\", label=\"지니불순도\")\n",
    "plt.xlabel(\"P(Y=1)\")\n",
    "plt.legend()\n",
    "plt.show()"
   ]
  },
  {
   "cell_type": "markdown",
   "metadata": {},
   "source": [
    "## 엔트로피 최대화\n",
    "\n",
    "###### 기댓값 0, 분산  𝜎2 이 주어졌을 때 엔트로피  H[𝑝(𝑥)] 를 가장 크게 만드는 확률밀도함수  𝑝(𝑥) 는 정규분포가 된다. \n",
    "\n",
    "이는 다음과 같이 증명한다.\n",
    "\n",
    "우선 확률밀도함수가 지켜야할 제한조건은 다음과 같다.\n",
    "\n",
    "(1) 확률밀도함수의 총면적은 1\n",
    "\n",
    "$$\\int_{-\\infty}^{\\infty} p(x) dx = 1$$\n",
    "\n",
    "(2) 기댓값은 0\n",
    "\n",
    "$$\\int_{-\\infty}^{\\infty} xp(x) dx = 00$$\n",
    " \n",
    "(3) 분산은  𝜎2 \n",
    "\n",
    "$$\\int_{-\\infty}^{\\infty} x^2 p(x) dx = \\sigma^2 $$\n",
    "\n",
    "최대화할 목적범함수(objective functional)은 엔트로피다.\n",
    "\n",
    "$$\\text{H}[p(x)] = -\\int_{-\\infty}^{\\infty} p(x)\\log p(x) dx$$\n",
    "\n",
    "라그랑주 승수법으로 제한조건을 추가하면 다음과 같아진다.\n",
    "\n",
    "\\begin{aligned}\n",
    "\\text{H}[p(x)] \n",
    "&= -\\int_{-\\infty}^{\\infty} p(x)\\log p(x) dx + \\lambda_1 \\left( \\int_{-\\infty}^{\\infty} p(x) dx - 1 \\right) \\\\\n",
    "& + \\lambda_2 \\left( \\int_{-\\infty}^{\\infty} xp(x) dx\\right)\n",
    " + \\lambda_3 \\left( \\int_{-\\infty}^{\\infty} x^2 p(x) dx - \\sigma^2 \\right) \\\\\n",
    "&= \\int_{-\\infty}^{\\infty} \\left(\n",
    "-p(x)\\log p(x) + \\lambda_1 p(x) + \\lambda_2 xp(x) + \\lambda_3 x^2p(x) \n",
    "- \\lambda_1 - \\lambda_3 \\sigma^2\n",
    "\\right) dx\n",
    "\\end{aligned}\n",
    "\n",
    "변분법에서 도함수는 다음과 같이 계산된다.\n",
    "\n",
    "$$\\dfrac{\\delta H}{\\delta p(x)} = \n",
    "-\\log p(x) - 1 + \\lambda_1 + \\lambda_2 x + \\lambda_3 x^2 = 0$$\n",
    "\n",
    "따라서 확률밀도함수의 형태는 다음과 같다.\n",
    "\n",
    "$$p(x) = \\exp \\left( - 1 + \\lambda_1 + \\lambda_2 x + \\lambda_3 x^2 \\right)$$"
   ]
  },
  {
   "cell_type": "markdown",
   "metadata": {},
   "source": [
    "적분을 통해 위 형태의 확률밀도함수의 면적, 기대값, 분산을 계산하고 주어진 제한조건을 만족하도록 연립방정식을 풀면 라그랑주 승수를 다음처럼 구할 수 있다. 이 과정은 이 책의 범위를 벗어나므로 생략한다.\n",
    "\n",
    "\\begin{aligned}\n",
    "\\lambda_1 &= 1-\\dfrac{1}{2} \\log{2\\pi\\sigma^2} \\\\\n",
    "\\lambda_2 &= 0 \\\\\n",
    "\\lambda_3 &= -\\dfrac{1}{2\\sigma^2} \\\\\n",
    "\\end{aligned}"
   ]
  },
  {
   "cell_type": "markdown",
   "metadata": {},
   "source": [
    "이 값을 대입하면 정규분포라는 것을 알 수 있다.\n",
    "\n",
    "$$p(x) = \\dfrac{1}{\\sqrt{2\\pi\\sigma^2}} \\exp \\left( -\\dfrac{x^2}{2\\sigma^2} \\right)$$"
   ]
  },
  {
   "cell_type": "markdown",
   "metadata": {},
   "source": [
    "### Practice 5\n",
    "정규분포의 확륲밀도함수에 대한 엔트로피값이 다음과 같음을 증명하라.\n",
    "\n",
    "$$p(x) = \\dfrac{1}{\\sqrt{2\\pi\\sigma^2}} \\exp \\left( -\\dfrac{x^2}{2\\sigma^2} \\right)$$\n",
    "\n",
    "$$\\text{H}[p(x)] = \\dfrac{1}{2} ( 1 + \\log 2\\pi\\sigma^2 )$$"
   ]
  },
  {
   "cell_type": "code",
   "execution_count": null,
   "metadata": {},
   "outputs": [],
   "source": []
  }
 ],
 "metadata": {
  "kernelspec": {
   "display_name": "Python 3",
   "language": "python",
   "name": "python3"
  },
  "language_info": {
   "codemirror_mode": {
    "name": "ipython",
    "version": 3
   },
   "file_extension": ".py",
   "mimetype": "text/x-python",
   "name": "python",
   "nbconvert_exporter": "python",
   "pygments_lexer": "ipython3",
   "version": "3.5.1"
  }
 },
 "nbformat": 4,
 "nbformat_minor": 2
}
