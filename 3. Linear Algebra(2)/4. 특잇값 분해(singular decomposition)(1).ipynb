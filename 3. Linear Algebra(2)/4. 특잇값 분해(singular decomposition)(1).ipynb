{
 "cells": [
  {
   "cell_type": "markdown",
   "metadata": {},
   "source": [
    "정방행렬은 고유분해(eigen-decomposition)로 고윳값과 고유벡터를 찾을 수 있었다. 정방행렬이 아닌 행렬은 고유분해가 불가능하다. 하지만 대신 고유분해와 비슷한 특이분해(singular decomposition)를 할 수 있다. (정방행렬이 아닌 경우 고유분해처럼 특이분해 가능)"
   ]
  },
  {
   "cell_type": "markdown",
   "metadata": {},
   "source": [
    "### 특이값과 특이벡터\n",
    "𝑁×𝑀  크기의 행렬  𝐴 를 다음과 같은 3개의 행렬의 곱으로 나타내는 것을 특이분해(singular-decomposition) 또는 특이값 분해(singular value decomposition)라고 한다."
   ]
  },
  {
   "cell_type": "markdown",
   "metadata": {},
   "source": [
    "\\begin{align}\n",
    "A = U\\Sigma V^T \n",
    "\\end{align}"
   ]
  },
  {
   "cell_type": "markdown",
   "metadata": {},
   "source": [
    "여기에서  𝑈,Σ,𝑉 는 다음 조건을 만족해야 한다.\n",
    "+ 대각성분이 양수인 대각행렬이어야 한다. 큰 수부터 작은 수 순서로 배열한다.\n",
    "\\begin{align}\n",
    "\\Sigma \\in \\mathbf{R}^{N \\times M}\n",
    "\\end{align}\n",
    "+ 𝑈 는  𝑁 차원 정방행렬로 모든 열벡터가 단위벡터이고 서로 직교해야 한다(orthonormal).\n",
    "\\begin{align}\n",
    "U \\in \\mathbf{R}^{N \\times N}\n",
    "\\end{align}\n",
    "+ 𝑉 는 𝑀차원 정방행렬로 모든 열벡터가 단위벡터이고 서로 직교해야 한다(orthonormal).\n",
    "\\begin{align}\n",
    "V \\in \\mathbf{R}^{M \\times M}\n",
    "\\end{align}"
   ]
  },
  {
   "cell_type": "markdown",
   "metadata": {},
   "source": [
    "위 조건을 만족하는 행렬  𝑆 의 대각성분들을 특이값(singular value), 행렬 𝑈 의 열벡터들을 왼쪽 특이벡터(left singular vector), 행렬  𝑣 의 행벡터들을 오른쪽 특이벡터(right singular vector)라고 부른다.\n",
    "\n",
    "[정리] 특이분해는 모든 행렬에 대해 가능하다. 즉 어떤 행렬이 주어지더라도 위와 같이 특이분해할 수 있다."
   ]
  },
  {
   "cell_type": "markdown",
   "metadata": {},
   "source": [
    "### 특이값 분해 행렬의 크기"
   ]
  },
  {
   "cell_type": "markdown",
   "metadata": {},
   "source": [
    "특이값의 개수는 행렬의 열과 행의 개수 중 작은 값과 같다. 특이분해된 형태를 구체적으로 쓰면 다음과 같다.\n",
    "\n",
    "만약  𝑁>𝑀 이면  Σ 행렬이  𝑀개의 특이값(대각성분)을 가지고 다음과 같이 아랫 부분이 영행렬이 된다."
   ]
  },
  {
   "cell_type": "markdown",
   "metadata": {},
   "source": [
    "\\begin{align}\n",
    "A = \n",
    "\\begin{bmatrix}\n",
    "\\boxed{\\begin{matrix} \\\\ \\\\ \\\\ \\\\ \\\\ \\, u_1 \\, \\\\ \\\\ \\\\ \\\\ \\\\ \\\\ \\end{matrix}} \\!\\!\\!\\!& \n",
    "\\boxed{\\begin{matrix} \\\\ \\\\ \\\\ \\\\ \\\\ \\, u_2 \\, \\\\ \\\\ \\\\ \\\\ \\\\ \\\\ \\end{matrix}} \\!\\!\\!\\!& \n",
    "\\boxed{\\begin{matrix} \\\\ \\\\ \\\\ \\\\ \\\\ \\, u_3 \\, \\\\ \\\\ \\\\ \\\\ \\\\ \\\\ \\end{matrix}} \\!\\!\\!\\!& \n",
    "\\cdots \\!\\!\\!\\!& \n",
    "\\boxed{\\begin{matrix} \\\\ \\\\ \\\\ \\\\ \\\\  u_M  \\\\ \\\\ \\\\ \\\\ \\\\ \\\\ \\end{matrix}} \\!\\!\\!\\!&\n",
    "\\cdots \\!\\!\\!\\!& \n",
    "\\boxed{\\begin{matrix} \\\\ \\\\ \\\\ \\\\ \\\\ u_N \\\\ \\\\ \\\\ \\\\ \\\\ \\\\ \\end{matrix}} \n",
    "\\end{bmatrix}\n",
    "\\begin{bmatrix}\n",
    "\\boxed{\\sigma_1 \\phantom{\\dfrac{}{}} \\!\\!} & 0 & 0 & \\cdots & 0 \\\\\n",
    "0 & \\boxed{\\sigma_2 \\phantom{\\dfrac{}{}} \\!\\!} & 0 & \\cdots & 0 \\\\\n",
    "0 & 0 & \\boxed{\\sigma_3 \\phantom{\\dfrac{}{}} \\!\\!} & \\cdots & 0 \\\\\n",
    "\\vdots & \\vdots & \\vdots & \\ddots \\\\\n",
    "0 & 0 & 0 & \\cdots & \\boxed{\\sigma_M \\phantom{\\dfrac{}{}} \\!\\!} \\\\\n",
    "0 & 0 & 0 & \\cdots & 0 \\\\\n",
    "\\vdots & \\vdots & \\vdots &  & \\vdots \\\\\n",
    "0 & 0 & 0 & \\cdots & 0 \\\\\n",
    "\\end{bmatrix}\n",
    "\\begin{bmatrix}\n",
    "\\boxed{\\begin{matrix} & & & v_1^T & & & \\end{matrix}} \\\\ \n",
    "\\boxed{\\begin{matrix} & & & v_2^T & & & \\end{matrix}} \\\\ \n",
    "\\vdots \\\\ \n",
    "\\boxed{\\begin{matrix} & & & v_M^T & & & \\end{matrix}} \\\\ \n",
    "\\end{bmatrix}\n",
    "\\end{align}\n"
   ]
  },
  {
   "cell_type": "markdown",
   "metadata": {},
   "source": [
    "반대로  𝑁<𝑀 이면  Σ  행렬이  𝑁 개의 특잇값(대각성분)을 가지고 다음처럼 오른쪽 부분이 영행렬이 된다."
   ]
  },
  {
   "cell_type": "markdown",
   "metadata": {},
   "source": [
    "\\begin{align}\n",
    "A = \n",
    "\\begin{bmatrix}\n",
    "\\boxed{\\begin{matrix} \\\\ \\\\ \\\\ \\, u_1 \\, \\\\ \\\\ \\\\ \\\\ \\end{matrix}} \\!\\!\\!\\!& \n",
    "\\boxed{\\begin{matrix} \\\\ \\\\ \\\\ \\, u_2 \\, \\\\ \\\\ \\\\ \\\\ \\end{matrix}} \\!\\!\\!\\!& \n",
    "\\cdots \\!\\!\\!\\!& \n",
    "\\boxed{\\begin{matrix} \\\\ \\\\ \\\\ u_N \\\\ \\\\ \\\\ \\\\ \\end{matrix}} \n",
    "\\end{bmatrix}\n",
    "\\begin{bmatrix}\n",
    "\\boxed{\\sigma_1 \\phantom{\\dfrac{}{}} \\!\\!} & 0 & 0 & \\cdots & 0 & 0 & \\cdots & 0 \\\\\n",
    "0 & \\boxed{\\sigma_2 \\phantom{\\dfrac{}{}} \\!\\!} & 0 & \\cdots & 0 & 0 & \\cdots & 0 \\\\\n",
    "0 & 0 & \\boxed{\\sigma_3 \\phantom{\\dfrac{}{}} \\!\\!} & \\cdots & 0 & 0 & \\cdots & 0 \\\\\n",
    "\\vdots & \\vdots & \\vdots & \\ddots & \\vdots & \\vdots & & \\vdots \\\\\n",
    "0 & 0 & 0 & \\cdots & \\boxed{\\sigma_N \\phantom{\\dfrac{}{}} \\!\\!} & 0 & \\cdots & 0 \\\\\n",
    "\\end{bmatrix}\n",
    "\\begin{bmatrix}\n",
    "\\boxed{\\begin{matrix} \\quad & \\quad & \\quad & v_1^T & \\quad & \\quad & \\quad \\end{matrix}} \\\\ \n",
    "\\boxed{\\begin{matrix} \\quad & \\quad & \\quad & v_2^T & \\quad & \\quad & \\quad \\end{matrix}} \\\\ \n",
    "\\boxed{\\begin{matrix} \\quad & \\quad & \\quad & v_3^T & \\quad & \\quad & \\quad \\end{matrix}} \\\\ \n",
    "\\vdots \\\\ \n",
    "\\boxed{\\begin{matrix} \\quad & \\quad & \\quad & v_N^T & \\quad & \\quad & \\quad \\end{matrix}} \\\\ \n",
    "\\vdots \\\\ \n",
    "\\boxed{\\begin{matrix} \\quad & \\quad & \\quad & v_M^T & \\quad & \\quad & \\quad \\end{matrix}} \\\\ \n",
    "\\end{bmatrix}\n",
    "\\end{align}"
   ]
  },
  {
   "cell_type": "markdown",
   "metadata": {},
   "source": [
    "행렬의 크기만 표시하면 다음과 같다.\n",
    "\\begin{align}\n",
    "N\\;\\left\\{\\phantom{\\begin{matrix} \\\\ \\\\ \\\\ \\\\ \\\\ \\end{matrix}}\\right.\\!\\!\n",
    "\\overbrace{\n",
    "\\boxed{\n",
    "\\begin{matrix}\n",
    "\\; &   & \\; \\\\\n",
    "\\; &   & \\; \\\\\n",
    "\\; & A & \\; \\\\\n",
    "\\; &   & \\; \\\\\n",
    "\\; &   & \\; \\\\\n",
    "\\end{matrix}\n",
    "}}^{\\large M}\n",
    "=\n",
    "N\\;\\left\\{\\phantom{\\begin{matrix} \\\\ \\\\ \\\\ \\\\ \\\\ \\end{matrix}}\\right.\\!\\!\n",
    "\\overbrace{\n",
    "\\boxed{\n",
    "\\begin{matrix}\n",
    "\\; & & & & \\quad \\\\\n",
    "\\; & & & & \\quad \\\\\n",
    "\\; & & \\; U & & \\quad \\\\\n",
    "\\; & & & & \\quad \\\\\n",
    "\\; & & & & \\quad \\\\\n",
    "\\end{matrix}\n",
    "}}^{\\large N}\n",
    "\\;\n",
    "\\overbrace{\n",
    "\\boxed{\n",
    "\\begin{matrix}\n",
    "& & \\\\\n",
    "& & \\\\\n",
    "& \\Sigma & \\\\\n",
    "& & \\\\\n",
    "& & \\\\\n",
    "\\end{matrix}\n",
    "}}^{\\large M}\n",
    "\\;\n",
    "\\overbrace{\n",
    "\\boxed{\n",
    "\\begin{matrix}\n",
    "\\; &   & \\; \\\\\n",
    "\\; & V & \\; \\\\\n",
    "\\; &   & \\; \\\\\n",
    "\\end{matrix}\n",
    "}}^{\\large M}\n",
    "\\!\\!\\left.\\phantom{\\begin{matrix} \\\\ \\\\ \\\\ \\end{matrix}}\\right\\}M\n",
    "\\end{align}"
   ]
  },
  {
   "cell_type": "markdown",
   "metadata": {},
   "source": [
    "또는\n",
    "\\begin{align}\n",
    "N\\;\\left\\{\\phantom{\\begin{matrix} \\\\ \\\\ \\\\ \\end{matrix}}\\right.\\!\\!\n",
    "\\overbrace{\n",
    "\\boxed{\n",
    "\\begin{matrix}\n",
    "\\quad & &   & & \\quad \\\\\n",
    "\\quad & & A & & \\quad \\\\\n",
    "\\quad & &   & & \\quad \\\\\n",
    "\\end{matrix}\n",
    "}}^{\\large M}\n",
    "=\n",
    "N\\;\\left\\{\\phantom{\\begin{matrix} \\\\ \\\\ \\\\  \\end{matrix}}\\right.\\!\\!\n",
    "\\overbrace{\n",
    "\\boxed{\n",
    "\\begin{matrix}\n",
    "\\begin{matrix}\n",
    "\\, & & \\; \\\\\n",
    "\\, & U \\; \\\\\n",
    "\\, & & \\; \\\\\n",
    "\\end{matrix}\n",
    "\\end{matrix}\n",
    "}}^{\\large N}\n",
    "\\;\n",
    "\\overbrace{\n",
    "\\boxed{\n",
    "\\begin{matrix}\n",
    "\\quad & &   & & \\quad \\\\\n",
    "\\quad & & \\Sigma & & \\quad \\\\\n",
    "\\quad & &   & & \\quad \\\\\n",
    "\\end{matrix}\n",
    "}}^{\\large M}\n",
    "\\;\n",
    "\\overbrace{\n",
    "\\boxed{\n",
    "\\begin{matrix}\n",
    "\\; & & & & \\quad \\\\\n",
    "\\; & & & & \\quad \\\\\n",
    "\\; & & \\; V & & \\quad \\\\\n",
    "\\; & & & & \\quad \\\\\n",
    "\\; & & & & \\quad \\\\\n",
    "\\end{matrix}\n",
    "}}^{\\large M}\n",
    "\\!\\!\\left.\\phantom{\\begin{matrix} \\\\ \\\\ \\\\\\\\ \\\\ \\end{matrix}}\\right\\}M\n",
    "\\end{align}"
   ]
  },
  {
   "cell_type": "markdown",
   "metadata": {},
   "source": [
    "#### 예제 1.\n",
    "행렬  𝐴\n",
    "\\begin{align}\n",
    "A = \n",
    "\\begin{bmatrix}\n",
    "3 & -1 \\\\\n",
    "1 & 3 \\\\\n",
    "1 & 1\n",
    "\\end{bmatrix}\n",
    "\\end{align}\n",
    "\n",
    "는 다음처럼 특이분해할 수 있다.\n",
    "\\begin{align}\n",
    "A = \n",
    "\\begin{bmatrix}\n",
    " -\\frac{1}{\\sqrt{6}} &  \\frac{2}{\\sqrt{5}} & -\\frac{1}{\\sqrt{6}} \\\\ \n",
    " -\\frac{2}{\\sqrt{6}} & -\\frac{1}{\\sqrt{5}} &  -\\frac{2}{\\sqrt{30}} \\\\ \n",
    " -\\frac{1}{\\sqrt{6}} & 0 &  \\frac{5}{\\sqrt{30}}\n",
    "\\end{bmatrix}\n",
    "\\begin{bmatrix}\n",
    "\\sqrt{12} & 0        \\\\\n",
    "       0  & \\sqrt{10} \\\\\n",
    "       0 & 0 \n",
    "\\end{bmatrix}\n",
    "\\begin{bmatrix}\n",
    "-\\frac{1}{\\sqrt{2}} & -\\frac{1}{\\sqrt{2}} \\\\\n",
    " \\frac{1}{\\sqrt{2}} & -\\frac{1}{\\sqrt{2}} \n",
    "\\end{bmatrix}\n",
    "\\end{align}"
   ]
  },
  {
   "cell_type": "markdown",
   "metadata": {},
   "source": [
    "### 특이값 분해의 축소형\n",
    "\n",
    "특이값 대각행렬에서 0인 부분은 사실상 아무런 의미가 없기 때문에 대각행렬의 0 원소 부분과 이에 대응하는 왼쪽(혹은 오른쪽) 특이벡터들을 없애고 다음처럼 축소된 형태로 해도 마찬가지로 원래 행렬이 나온다.\n",
    "\n",
    "𝑁 이  𝑀 보다 큰 경우에는 왼쪽 특이벡터 중에서  $u_{M+1}, \\cdots, u_N$을 없앤다."
   ]
  },
  {
   "cell_type": "markdown",
   "metadata": {},
   "source": [
    "\\begin{align}\n",
    "A = \n",
    "\\begin{bmatrix}\n",
    "\\boxed{\\begin{matrix} \\\\ \\\\ \\\\ \\\\ \\\\ \\, u_1 \\, \\\\ \\\\ \\\\ \\\\ \\\\ \\\\ \\end{matrix}} \\!\\!\\!\\!& \n",
    "\\boxed{\\begin{matrix} \\\\ \\\\ \\\\ \\\\ \\\\ \\, u_2 \\, \\\\ \\\\ \\\\ \\\\ \\\\ \\\\ \\end{matrix}} \\!\\!\\!\\!& \n",
    "\\cdots \\!\\!\\!\\!& \n",
    "\\boxed{\\begin{matrix} \\\\ \\\\ \\\\ \\\\ \\\\  u_M  \\\\ \\\\ \\\\ \\\\ \\\\ \\\\ \\end{matrix}} \\!\\!\\!\\!&\n",
    "\\end{bmatrix}\n",
    "\\begin{bmatrix}\n",
    "\\boxed{\\sigma_1 \\phantom{\\dfrac{}{}} \\!\\!} & 0 & 0 & \\cdots & 0 \\\\\n",
    "0 & \\boxed{\\sigma_2 \\phantom{\\dfrac{}{}} \\!\\!} & 0 & \\cdots & 0 \\\\\n",
    "0 & 0 & \\boxed{\\sigma_3 \\phantom{\\dfrac{}{}} \\!\\!} & \\cdots & 0 \\\\\n",
    "\\vdots & \\vdots & \\vdots & \\ddots \\\\\n",
    "0 & 0 & 0 & \\cdots & \\boxed{\\sigma_M \\phantom{\\dfrac{}{}} \\!\\!} \\\\\n",
    "0 & 0 & 0 & \\cdots & 0 \\\\\n",
    "\\vdots & \\vdots & \\vdots &  & \\vdots \\\\\n",
    "0 & 0 & 0 & \\cdots & 0 \\\\\n",
    "\\end{bmatrix}\n",
    "\\begin{bmatrix}\n",
    "\\boxed{\\begin{matrix} & & & v_1^T & & & \\end{matrix}} \\\\ \n",
    "\\boxed{\\begin{matrix} & & & v_2^T & & & \\end{matrix}} \\\\ \n",
    "\\vdots \\\\ \n",
    "\\boxed{\\begin{matrix} & & & v_M^T & & & \\end{matrix}} \\\\ \n",
    "\\end{bmatrix}\n",
    "\\end{align}"
   ]
  },
  {
   "cell_type": "markdown",
   "metadata": {},
   "source": [
    "𝑁 이 𝑀보다 작은 경우에는 오른쪽 특이벡터 중에서 𝑣𝑁+1,⋯,𝑣𝑀을 없앤다.\n",
    "\\begin{align}\n",
    "A = \n",
    "\\begin{bmatrix}\n",
    "\\boxed{\\begin{matrix} \\\\ \\\\ \\\\ \\, u_1 \\, \\\\ \\\\ \\\\ \\\\ \\end{matrix}} \\!\\!\\!\\!& \n",
    "\\boxed{\\begin{matrix} \\\\ \\\\ \\\\ \\, u_2 \\, \\\\ \\\\ \\\\ \\\\ \\end{matrix}} \\!\\!\\!\\!& \n",
    "\\cdots \\!\\!\\!\\!& \n",
    "\\boxed{\\begin{matrix} \\\\ \\\\ \\\\ u_N \\\\ \\\\ \\\\ \\\\ \\end{matrix}} \n",
    "\\end{bmatrix}\n",
    "\\begin{bmatrix}\n",
    "\\boxed{\\sigma_1 \\phantom{\\dfrac{}{}} \\!\\!} & 0 & 0 & \\cdots & 0 & 0 & \\cdots & 0 \\\\\n",
    "0 & \\boxed{\\sigma_2 \\phantom{\\dfrac{}{}} \\!\\!} & 0 & \\cdots & 0 & 0 & \\cdots & 0 \\\\\n",
    "0 & 0 & \\boxed{\\sigma_3 \\phantom{\\dfrac{}{}} \\!\\!} & \\cdots & 0 & 0 & \\cdots & 0 \\\\\n",
    "\\vdots & \\vdots & \\vdots & \\ddots & \\vdots & \\vdots & & \\vdots \\\\\n",
    "0 & 0 & 0 & \\cdots & \\boxed{\\sigma_N \\phantom{\\dfrac{}{}} \\!\\!} & 0 & \\cdots & 0 \\\\\n",
    "\\end{bmatrix}\n",
    "\\begin{bmatrix}\n",
    "\\boxed{\\begin{matrix} \\quad & \\quad & \\quad & v_1^T & \\quad & \\quad & \\quad \\end{matrix}} \\\\ \n",
    "\\boxed{\\begin{matrix} \\quad & \\quad & \\quad & v_2^T & \\quad & \\quad & \\quad \\end{matrix}} \\\\ \n",
    "\\vdots \\\\ \n",
    "\\boxed{\\begin{matrix} \\quad & \\quad & \\quad & v_N^T & \\quad & \\quad & \\quad \\end{matrix}} \\\\ \n",
    "\\end{bmatrix}\n",
    "\\end{align}"
   ]
  },
  {
   "cell_type": "markdown",
   "metadata": {},
   "source": [
    "축소형의 경우에도 행렬의 크기만 표시하면 다음과 같다.\n",
    "\\begin{align}\n",
    "N\\;\\left\\{\\phantom{\\begin{matrix} \\\\ \\\\ \\\\ \\\\ \\\\ \\end{matrix}}\\right.\\!\\!\n",
    "\\overbrace{\n",
    "\\boxed{\n",
    "\\begin{matrix}\n",
    "\\; &   & \\; \\\\\n",
    "\\; &   & \\; \\\\\n",
    "\\; & A & \\; \\\\\n",
    "\\; &   & \\; \\\\\n",
    "\\; &   & \\; \\\\\n",
    "\\end{matrix}\n",
    "}}^{\\large M}\n",
    "=\n",
    "N\\;\\left\\{\\phantom{\\begin{matrix} \\\\ \\\\ \\\\ \\\\ \\\\ \\end{matrix}}\\right.\\!\\!\n",
    "\\overbrace{\n",
    "\\boxed{\n",
    "\\begin{matrix}\n",
    "& & \\\\\n",
    "& & \\\\\n",
    "& U & \\\\\n",
    "& & \\\\\n",
    "& & \\\\\n",
    "\\end{matrix}\n",
    "}}^{\\large M}\n",
    "\\;\n",
    "\\overbrace{\n",
    "\\boxed{\n",
    "\\begin{matrix}\n",
    "\\; &   & \\; \\\\\n",
    "\\; & \\Sigma & \\; \\\\\n",
    "\\; &   & \\; \\\\\n",
    "\\end{matrix}\n",
    "}}^{\\large M}\n",
    "\\;\n",
    "\\overbrace{\n",
    "\\boxed{\n",
    "\\begin{matrix}\n",
    "\\; &   & \\; \\\\\n",
    "\\; & V & \\; \\\\\n",
    "\\; &   & \\; \\\\\n",
    "\\end{matrix}\n",
    "}}^{\\large M}\n",
    "\\!\\!\\left.\\phantom{\\begin{matrix} \\\\ \\\\ \\\\ \\end{matrix}}\\right\\}M\n",
    "\\end{align}"
   ]
  },
  {
   "cell_type": "markdown",
   "metadata": {},
   "source": [
    "또는\n",
    "\\begin{align}\n",
    "N\\;\\left\\{\\phantom{\\begin{matrix} \\\\ \\\\ \\\\ \\end{matrix}}\\right.\\!\\!\n",
    "\\overbrace{\n",
    "\\boxed{\n",
    "\\begin{matrix}\n",
    "\\quad & &   & & \\quad \\\\\n",
    "\\quad & & A & & \\quad \\\\\n",
    "\\quad & &   & & \\quad \\\\\n",
    "\\end{matrix}\n",
    "}}^{\\large M}\n",
    "=\n",
    "N\\;\\left\\{\\phantom{\\begin{matrix} \\\\ \\\\ \\\\  \\end{matrix}}\\right.\\!\\!\n",
    "\\overbrace{\n",
    "\\boxed{\n",
    "\\begin{matrix}\n",
    "\\begin{matrix}\n",
    "\\, & & \\; \\\\\n",
    "\\, & U \\; \\\\\n",
    "\\, & & \\; \\\\\n",
    "\\end{matrix}\n",
    "\\end{matrix}\n",
    "}}^{\\large N}\n",
    "\\;\n",
    "\\overbrace{\n",
    "\\boxed{\n",
    "\\begin{matrix}\n",
    "\\, & & \\; \\\\\n",
    "\\, & \\Sigma \\; \\\\\n",
    "\\, & & \\; \\\\\n",
    "\\end{matrix}\n",
    "}}^{\\large N}\n",
    "\\;\n",
    "\\overbrace{\n",
    "\\boxed{\n",
    "\\begin{matrix}\n",
    "\\quad & &   & & \\quad \\\\\n",
    "\\quad & & V & & \\quad \\\\\n",
    "\\quad & &   & & \\quad \\\\\n",
    "\\end{matrix}\n",
    "}}^{\\large M}\n",
    "\\!\\!\\left.\\phantom{\\begin{matrix} \\\\ \\\\ \\\\ \\end{matrix}}\\right\\}N\n",
    "\\end{align}"
   ]
  },
  {
   "cell_type": "markdown",
   "metadata": {},
   "source": [
    "#### 예제 2.\n",
    "행렬  𝐴\n",
    "\n",
    "\\begin{align}\n",
    "A = \n",
    "\\begin{bmatrix}\n",
    "3 & -1 \\\\\n",
    "1 & 3 \\\\\n",
    "1 & 1\n",
    "\\end{bmatrix}\n",
    "\\end{align}\n",
    "\n",
    "의 특이분해 축소형은 다음과 같다.\n",
    "\\begin{align}\n",
    "A = \n",
    "\\begin{bmatrix}\n",
    " -\\frac{1}{\\sqrt{6}} &  \\frac{2}{\\sqrt{5}} \\\\ \n",
    " -\\frac{2}{\\sqrt{6}} & -\\frac{1}{\\sqrt{5}} \\\\ \n",
    " -\\frac{1}{\\sqrt{6}} & 0 \n",
    "\\end{bmatrix}\n",
    "\\begin{bmatrix}\n",
    "\\sqrt{12} & 0        \\\\\n",
    "       0  & \\sqrt{10} \\\\\n",
    "\\end{bmatrix}\n",
    "\\begin{bmatrix}\n",
    "-\\frac{1}{\\sqrt{2}} & -\\frac{1}{\\sqrt{2}} \\\\\n",
    " \\frac{1}{\\sqrt{2}} & -\\frac{1}{\\sqrt{2}} \n",
    "\\end{bmatrix}\n",
    "\\end{align}"
   ]
  },
  {
   "cell_type": "markdown",
   "metadata": {},
   "source": [
    "### 파이썬을 사용한 특이분해\n",
    "numpy.linalg 서브패키지와 scipy.linalg 서브패키지에서는 특이분해를 할 수 있는 svd 명령을 제공한다. 오른쪽 특이행렬은 전치행렬로 출력된다는 점에 주의하라."
   ]
  },
  {
   "cell_type": "code",
   "execution_count": 2,
   "metadata": {},
   "outputs": [],
   "source": [
    "import numpy as np\n",
    "from numpy.linalg import svd\n",
    "\n",
    "A = np.array([[3, -1], [1, 3], [1, 1]])\n",
    "U, S, VT = svd(A)"
   ]
  },
  {
   "cell_type": "code",
   "execution_count": 3,
   "metadata": {},
   "outputs": [
    {
     "data": {
      "text/plain": [
       "array([[-4.08248290e-01,  8.94427191e-01, -1.82574186e-01],\n",
       "       [-8.16496581e-01, -4.47213595e-01, -3.65148372e-01],\n",
       "       [-4.08248290e-01, -1.94289029e-16,  9.12870929e-01]])"
      ]
     },
     "execution_count": 3,
     "metadata": {},
     "output_type": "execute_result"
    }
   ],
   "source": [
    "U"
   ]
  },
  {
   "cell_type": "code",
   "execution_count": 4,
   "metadata": {},
   "outputs": [
    {
     "data": {
      "text/plain": [
       "array([3.46410162, 3.16227766])"
      ]
     },
     "execution_count": 4,
     "metadata": {},
     "output_type": "execute_result"
    }
   ],
   "source": [
    "S"
   ]
  },
  {
   "cell_type": "code",
   "execution_count": 5,
   "metadata": {},
   "outputs": [
    {
     "data": {
      "text/plain": [
       "array([[-0.70710678, -0.70710678],\n",
       "       [ 0.70710678, -0.70710678]])"
      ]
     },
     "execution_count": 5,
     "metadata": {},
     "output_type": "execute_result"
    }
   ],
   "source": [
    "VT"
   ]
  },
  {
   "cell_type": "code",
   "execution_count": 6,
   "metadata": {},
   "outputs": [],
   "source": [
    "V = VT.T"
   ]
  },
  {
   "cell_type": "code",
   "execution_count": 7,
   "metadata": {},
   "outputs": [
    {
     "data": {
      "text/plain": [
       "array([[-0.70710678,  0.70710678],\n",
       "       [-0.70710678, -0.70710678]])"
      ]
     },
     "execution_count": 7,
     "metadata": {},
     "output_type": "execute_result"
    }
   ],
   "source": [
    "V"
   ]
  },
  {
   "cell_type": "code",
   "execution_count": 8,
   "metadata": {},
   "outputs": [
    {
     "data": {
      "text/plain": [
       "array([[3.46410162, 0.        ],\n",
       "       [0.        , 3.16227766],\n",
       "       [0.        , 0.        ]])"
      ]
     },
     "execution_count": 8,
     "metadata": {},
     "output_type": "execute_result"
    }
   ],
   "source": [
    "np.diag(S, 1)[:, 1:]"
   ]
  },
  {
   "cell_type": "code",
   "execution_count": 10,
   "metadata": {},
   "outputs": [
    {
     "data": {
      "text/plain": [
       "array([[3.46410162, 0.        ],\n",
       "       [0.        , 3.16227766]])"
      ]
     },
     "execution_count": 10,
     "metadata": {},
     "output_type": "execute_result"
    }
   ],
   "source": [
    "np.diag(S)"
   ]
  },
  {
   "cell_type": "code",
   "execution_count": 11,
   "metadata": {},
   "outputs": [
    {
     "data": {
      "text/plain": [
       "array([[ 3., -1.],\n",
       "       [ 1.,  3.],\n",
       "       [ 1.,  1.]])"
      ]
     },
     "execution_count": 11,
     "metadata": {},
     "output_type": "execute_result"
    }
   ],
   "source": [
    "U @ np.diag(S, 1)[:, 1:] @ VT"
   ]
  },
  {
   "cell_type": "markdown",
   "metadata": {},
   "source": [
    "축소형을 구하려면 인수 full_matrices=False로 지정한다."
   ]
  },
  {
   "cell_type": "code",
   "execution_count": 12,
   "metadata": {},
   "outputs": [],
   "source": [
    "U2, S2, VT2 = svd(A, full_matrices=False)"
   ]
  },
  {
   "cell_type": "code",
   "execution_count": 13,
   "metadata": {},
   "outputs": [
    {
     "data": {
      "text/plain": [
       "array([[-4.08248290e-01,  8.94427191e-01],\n",
       "       [-8.16496581e-01, -4.47213595e-01],\n",
       "       [-4.08248290e-01, -1.94289029e-16]])"
      ]
     },
     "execution_count": 13,
     "metadata": {},
     "output_type": "execute_result"
    }
   ],
   "source": [
    "U2"
   ]
  },
  {
   "cell_type": "code",
   "execution_count": 14,
   "metadata": {},
   "outputs": [
    {
     "data": {
      "text/plain": [
       "array([3.46410162, 3.16227766])"
      ]
     },
     "execution_count": 14,
     "metadata": {},
     "output_type": "execute_result"
    }
   ],
   "source": [
    "S2"
   ]
  },
  {
   "cell_type": "code",
   "execution_count": 16,
   "metadata": {},
   "outputs": [
    {
     "data": {
      "text/plain": [
       "array([[-0.70710678, -0.70710678],\n",
       "       [ 0.70710678, -0.70710678]])"
      ]
     },
     "execution_count": 16,
     "metadata": {},
     "output_type": "execute_result"
    }
   ],
   "source": [
    "VT2"
   ]
  },
  {
   "cell_type": "code",
   "execution_count": 17,
   "metadata": {},
   "outputs": [
    {
     "data": {
      "text/plain": [
       "array([[ 3., -1.],\n",
       "       [ 1.,  3.],\n",
       "       [ 1.,  1.]])"
      ]
     },
     "execution_count": 17,
     "metadata": {},
     "output_type": "execute_result"
    }
   ],
   "source": [
    "U2 @ np.diag(S2) @ VT2"
   ]
  },
  {
   "cell_type": "markdown",
   "metadata": {},
   "source": [
    "### Practice 1\n",
    "NumPy를 사용하여 다음 행렬을 특이값 분해를 한다(축소형이 아닌 방법과 축소형 방법을 각각 사용한다). 또한 다시 곱해서 원래의 행렬이 나오는 것을 보여라.\n",
    "\\begin{align}\n",
    "B =\n",
    "\\begin{bmatrix}\n",
    "3 & 2 & 2 \\\\\n",
    "2 & 3 & -2\n",
    "\\end{bmatrix}\n",
    "\\end{align}\n",
    "\\begin{align}\n",
    "C =\n",
    "\\begin{bmatrix}\n",
    "2 & 4 \\\\\n",
    "1 & 3 \\\\\n",
    "0 & 0 \\\\\n",
    "0 & 0 \\\\\n",
    "\\end{bmatrix}\n",
    "\\end{align}"
   ]
  },
  {
   "cell_type": "code",
   "execution_count": 18,
   "metadata": {},
   "outputs": [],
   "source": [
    "B = np.array([[3, 2, 2], [2, 3, -2]])\n",
    "C = np.array([[2, 4], [1, 3], [0, 0], [0, 0]])"
   ]
  },
  {
   "cell_type": "code",
   "execution_count": 19,
   "metadata": {},
   "outputs": [],
   "source": [
    "UB, SB, VTB = svd(B)"
   ]
  },
  {
   "cell_type": "code",
   "execution_count": 31,
   "metadata": {},
   "outputs": [
    {
     "data": {
      "text/plain": [
       "array([[0., 5., 0.],\n",
       "       [0., 0., 3.],\n",
       "       [0., 0., 0.]])"
      ]
     },
     "execution_count": 31,
     "metadata": {},
     "output_type": "execute_result"
    }
   ],
   "source": [
    "np.diag(SB, 1)"
   ]
  },
  {
   "cell_type": "code",
   "execution_count": 24,
   "metadata": {},
   "outputs": [
    {
     "data": {
      "text/plain": [
       "array([[-0.70710678, -0.70710678],\n",
       "       [-0.70710678,  0.70710678]])"
      ]
     },
     "execution_count": 24,
     "metadata": {},
     "output_type": "execute_result"
    }
   ],
   "source": [
    "UB"
   ]
  },
  {
   "cell_type": "code",
   "execution_count": 25,
   "metadata": {},
   "outputs": [
    {
     "data": {
      "text/plain": [
       "array([[-7.07106781e-01, -7.07106781e-01, -5.55111512e-17],\n",
       "       [-2.35702260e-01,  2.35702260e-01, -9.42809042e-01],\n",
       "       [-6.66666667e-01,  6.66666667e-01,  3.33333333e-01]])"
      ]
     },
     "execution_count": 25,
     "metadata": {},
     "output_type": "execute_result"
    }
   ],
   "source": [
    "VTB"
   ]
  },
  {
   "cell_type": "code",
   "execution_count": 51,
   "metadata": {},
   "outputs": [
    {
     "data": {
      "text/plain": [
       "array([[ 3.,  2.,  2.],\n",
       "       [ 2.,  3., -2.]])"
      ]
     },
     "execution_count": 51,
     "metadata": {},
     "output_type": "execute_result"
    }
   ],
   "source": [
    "UB @ np.hstack([np.diag(SB), np.zeros((2, 1))]) @ VTB"
   ]
  },
  {
   "cell_type": "code",
   "execution_count": 52,
   "metadata": {},
   "outputs": [],
   "source": [
    "UC, SC, VTC = svd(C)"
   ]
  },
  {
   "cell_type": "code",
   "execution_count": 53,
   "metadata": {},
   "outputs": [
    {
     "data": {
      "text/plain": [
       "array([[-0.81741556, -0.57604844,  0.        ,  0.        ],\n",
       "       [-0.57604844,  0.81741556,  0.        ,  0.        ],\n",
       "       [ 0.        ,  0.        ,  1.        ,  0.        ],\n",
       "       [ 0.        ,  0.        ,  0.        ,  1.        ]])"
      ]
     },
     "execution_count": 53,
     "metadata": {},
     "output_type": "execute_result"
    }
   ],
   "source": [
    "UC"
   ]
  },
  {
   "cell_type": "code",
   "execution_count": 54,
   "metadata": {},
   "outputs": [
    {
     "data": {
      "text/plain": [
       "array([5.4649857 , 0.36596619])"
      ]
     },
     "execution_count": 54,
     "metadata": {},
     "output_type": "execute_result"
    }
   ],
   "source": [
    "SC"
   ]
  },
  {
   "cell_type": "code",
   "execution_count": 55,
   "metadata": {},
   "outputs": [
    {
     "data": {
      "text/plain": [
       "array([[-0.40455358, -0.9145143 ],\n",
       "       [-0.9145143 ,  0.40455358]])"
      ]
     },
     "execution_count": 55,
     "metadata": {},
     "output_type": "execute_result"
    }
   ],
   "source": [
    "VTC"
   ]
  },
  {
   "cell_type": "code",
   "execution_count": 59,
   "metadata": {},
   "outputs": [
    {
     "data": {
      "text/plain": [
       "array([[2., 4.],\n",
       "       [1., 3.],\n",
       "       [0., 0.],\n",
       "       [0., 0.]])"
      ]
     },
     "execution_count": 59,
     "metadata": {},
     "output_type": "execute_result"
    }
   ],
   "source": [
    "UC @ np.diag(SC, 2)[:, 2:] @ VTC"
   ]
  },
  {
   "cell_type": "code",
   "execution_count": 60,
   "metadata": {},
   "outputs": [
    {
     "data": {
      "text/plain": [
       "array([[-0.70710678, -0.70710678],\n",
       "       [-0.70710678,  0.70710678]])"
      ]
     },
     "execution_count": 60,
     "metadata": {},
     "output_type": "execute_result"
    }
   ],
   "source": [
    "UB2, SB2, VTB2 = svd(B, full_matrices=False)\n",
    "UB2"
   ]
  },
  {
   "cell_type": "code",
   "execution_count": 61,
   "metadata": {},
   "outputs": [
    {
     "data": {
      "text/plain": [
       "array([5., 3.])"
      ]
     },
     "execution_count": 61,
     "metadata": {},
     "output_type": "execute_result"
    }
   ],
   "source": [
    "SB2"
   ]
  },
  {
   "cell_type": "code",
   "execution_count": 62,
   "metadata": {},
   "outputs": [
    {
     "data": {
      "text/plain": [
       "array([[-7.07106781e-01, -7.07106781e-01, -5.55111512e-17],\n",
       "       [-2.35702260e-01,  2.35702260e-01, -9.42809042e-01]])"
      ]
     },
     "execution_count": 62,
     "metadata": {},
     "output_type": "execute_result"
    }
   ],
   "source": [
    "VTB2"
   ]
  },
  {
   "cell_type": "code",
   "execution_count": 64,
   "metadata": {},
   "outputs": [
    {
     "data": {
      "text/plain": [
       "array([[ 3.,  2.,  2.],\n",
       "       [ 2.,  3., -2.]])"
      ]
     },
     "execution_count": 64,
     "metadata": {},
     "output_type": "execute_result"
    }
   ],
   "source": [
    "UB2 @ np.diag(SB2) @ VTB2"
   ]
  },
  {
   "cell_type": "code",
   "execution_count": 65,
   "metadata": {},
   "outputs": [],
   "source": [
    "UC2, SC2, VTC2 = svd(C, full_matrices=False)"
   ]
  },
  {
   "cell_type": "code",
   "execution_count": 66,
   "metadata": {},
   "outputs": [
    {
     "data": {
      "text/plain": [
       "array([[2., 4.],\n",
       "       [1., 3.],\n",
       "       [0., 0.],\n",
       "       [0., 0.]])"
      ]
     },
     "execution_count": 66,
     "metadata": {},
     "output_type": "execute_result"
    }
   ],
   "source": [
    "UC2 @ np.diag(SC2) @ VTC2"
   ]
  },
  {
   "cell_type": "code",
   "execution_count": null,
   "metadata": {},
   "outputs": [],
   "source": []
  }
 ],
 "metadata": {
  "kernelspec": {
   "display_name": "Python 3",
   "language": "python",
   "name": "python3"
  },
  "language_info": {
   "codemirror_mode": {
    "name": "ipython",
    "version": 3
   },
   "file_extension": ".py",
   "mimetype": "text/x-python",
   "name": "python",
   "nbconvert_exporter": "python",
   "pygments_lexer": "ipython3",
   "version": "3.5.1"
  }
 },
 "nbformat": 4,
 "nbformat_minor": 2
}
