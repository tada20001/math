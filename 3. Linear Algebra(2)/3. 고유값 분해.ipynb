{
 "cells": [
  {
   "cell_type": "markdown",
   "metadata": {},
   "source": [
    "고윳값 분해와 다음에 설명할 특잇값 분해는 행렬의 내부 구조를 살펴보거나 행렬을 이용한 연산을 더 효율적으로 할 때 유용하다. 고윳값 분해의 정의를 살펴보고 이와 관련된 다양한 정리도 살펴보자. 고윳값 분해와 관련된 정리는 증명이 복잡하고 이 책의 범위를 넘는 경우가 많으므로 대부분 증명을 생략하도록 하겠다. 하지만 정리 자체는 데이터 분석에서 많이 사용되기 때문에 반드시 외워야 한다."
   ]
  },
  {
   "cell_type": "markdown",
   "metadata": {},
   "source": [
    "### 고유값과 고유벡터\n",
    "\n",
    "정방 행렬  𝐴 에 대해 다음 식을 만족하는 영벡터가 아닌 벡터  𝑣 , 실수  𝜆 를 찾을 수 있다고 가정하자.\n",
    "\n",
    "\\begin{align}\n",
    "Av = \\lambda v\n",
    "\\end{align}"
   ]
  },
  {
   "cell_type": "markdown",
   "metadata": {},
   "source": [
    "위 식을 만족하는 실수  𝜆 를 고윳값(eigenvalue), 벡터  𝑣 를 고유벡터(eigenvector)라고 한다."
   ]
  },
  {
   "cell_type": "markdown",
   "metadata": {},
   "source": [
    "행렬  𝐴 의 고유벡터는 행렬  𝐴 를 곱해서 변환을 해도 방향이 바뀌지 않는 벡터다. 고윳값은 변환된 고유벡터와 원래 고유벡터의 크기 비율이다."
   ]
  },
  {
   "cell_type": "markdown",
   "metadata": {},
   "source": [
    "위 식은 다음처럼 쓸 수도 있다.\n",
    "\n",
    "\\begin{align}\n",
    "Av - \\lambda v = (A - \\lambda I) v = 0 \n",
    "\\end{align}"
   ]
  },
  {
   "cell_type": "markdown",
   "metadata": {},
   "source": [
    "위 식을 만족하는 실수  𝜆 를 고유값(eigenvalue), 벡터  𝑣  를 고유벡터(eigenvector)라고 한다 행렬  𝐴 의 고유벡터는 행렬  𝐴 를 곱해서 변환을 해도 방향이 바뀌지 않는 벡터다. 고윳값은 변환된 고유벡터와 원래 고유벡터의 크기 비율이다.\n",
    "\n",
    "고유값과 고유벡터를 찾는 작업을 고유분해(eigen-decomposition) 또는 고유값 분해(eigenvalue decomposition)라고 한다."
   ]
  },
  {
   "cell_type": "markdown",
   "metadata": {},
   "source": [
    "#### 예제1. "
   ]
  },
  {
   "cell_type": "markdown",
   "metadata": {},
   "source": [
    "행렬  𝐴\n",
    "\n",
    "\\begin{align}\n",
    "A=\n",
    "\\begin{bmatrix}\n",
    "1 & -2 \\\\\n",
    "2 & -3\n",
    "\\end{bmatrix}\n",
    "\\end{align}"
   ]
  },
  {
   "cell_type": "markdown",
   "metadata": {},
   "source": [
    "에 대해 다음 스칼라 값과 벡터는 각각 고유값, 고유벡터가 된다.\n",
    "\\begin{align}\n",
    "\\lambda = -1\n",
    "\\end{align}\n",
    "\n",
    "\\begin{align}\n",
    "v=\n",
    "\\begin{bmatrix}\n",
    "1  \\\\\n",
    "1\n",
    "\\end{bmatrix}\n",
    "\\end{align}\n",
    "\n",
    "\\begin{align}\n",
    "Av = \n",
    "\\begin{bmatrix}\n",
    "1 & -2 \\\\\n",
    "2 & -3\n",
    "\\end{bmatrix}\n",
    "\\begin{bmatrix}\n",
    "1  \\\\\n",
    "1\n",
    "\\end{bmatrix}\n",
    "=\n",
    "\\begin{bmatrix}\n",
    "-1 \\\\\n",
    "-1\n",
    "\\end{bmatrix}\n",
    "=\n",
    "(-1)\n",
    "\\begin{bmatrix}\n",
    "1 \\\\\n",
    "1 \n",
    "\\end{bmatrix}\n",
    "=\n",
    "\\lambda v\n",
    "\\end{align}\n"
   ]
  },
  {
   "cell_type": "markdown",
   "metadata": {},
   "source": [
    "어떤 벡터  𝑣 가 고유벡터가 되면 이 벡터에 실수를 곱한 벡터  𝑐𝑣 ,즉  𝑣 와 방향이 같은 벡터는 모두 고유벡터가 된다."
   ]
  },
  {
   "cell_type": "markdown",
   "metadata": {},
   "source": [
    "\\begin{align}\n",
    "A(c v) = c Av = c \\lambda v = \\lambda (cv)\n",
    "\\end{align}"
   ]
  },
  {
   "cell_type": "markdown",
   "metadata": {},
   "source": [
    "그래서 보통 고유벡터를 표시할 때는 길이가 1인 단위벡터가 되도록 다음처럼 정규화(normalization)를 한다."
   ]
  },
  {
   "cell_type": "markdown",
   "metadata": {},
   "source": [
    "\\begin{align}\n",
    "\\dfrac{v}{\\|v\\|}\n",
    "\\end{align}"
   ]
  },
  {
   "cell_type": "markdown",
   "metadata": {},
   "source": [
    "따라서 위 행렬  𝐴 의 고유값-고유벡터는 보통 다음처럼 나타낸다.\n",
    "\\begin{align}\n",
    "\\lambda = -1\n",
    "\\end{align}\n",
    "\n",
    "\\begin{align}\n",
    "v =\n",
    "\\begin{bmatrix}\n",
    "\\dfrac{\\sqrt{2}}{2}  \\\\\n",
    "\\dfrac{\\sqrt{2}}{2} \n",
    "\\end{bmatrix}\n",
    "\\approx\n",
    "\\begin{bmatrix}\n",
    "0.7071 \\\\\n",
    "0.7071\n",
    "\\end{bmatrix}\n",
    "\\end{align}"
   ]
  },
  {
   "cell_type": "code",
   "execution_count": 1,
   "metadata": {},
   "outputs": [],
   "source": [
    "import numpy as np\n",
    "v = np.array([1, 1])\n",
    "v_norm = np.linalg.norm(v)"
   ]
  },
  {
   "cell_type": "code",
   "execution_count": 4,
   "metadata": {},
   "outputs": [],
   "source": [
    "v = v / v_norm"
   ]
  },
  {
   "cell_type": "code",
   "execution_count": 5,
   "metadata": {},
   "outputs": [
    {
     "data": {
      "text/plain": [
       "array([0.70710678, 0.70710678])"
      ]
     },
     "execution_count": 5,
     "metadata": {},
     "output_type": "execute_result"
    }
   ],
   "source": [
    "v"
   ]
  },
  {
   "cell_type": "markdown",
   "metadata": {},
   "source": [
    "### Practice 1\n",
    "\n",
    "다음 행렬  𝐵 가\n",
    "\n",
    "\\begin{align}\n",
    "B =\n",
    "\\begin{bmatrix}\n",
    "2 & 3 \\\\\n",
    "2 & 1\n",
    "\\end{bmatrix}\n",
    "\\end{align}"
   ]
  },
  {
   "cell_type": "markdown",
   "metadata": {},
   "source": [
    "다음과 같은 두 가지 고윳값-고유벡터를 가짐을 증명하라.\n",
    "\\begin{align}\n",
    "\\lambda_1 = 4, \\;\\;\n",
    "v_1 = \\begin{bmatrix}\n",
    "3 \\\\\n",
    "2\n",
    "\\end{bmatrix}\n",
    "\\end{align}"
   ]
  },
  {
   "cell_type": "markdown",
   "metadata": {},
   "source": [
    "\\begin{align}\n",
    "\\lambda_2 = -1, \\;\\;\n",
    "v_2 = \\begin{bmatrix}\n",
    "-1 \\\\\n",
    "1\n",
    "\\end{bmatrix}\n",
    "\\end{align}"
   ]
  },
  {
   "cell_type": "markdown",
   "metadata": {},
   "source": [
    "또는\n",
    "\\begin{align}\n",
    "\\lambda_1 = 4, \\;\\;\n",
    "v_1 = \n",
    "\\begin{bmatrix}\n",
    "\\dfrac{3}{\\sqrt{13}} \\\\\n",
    "\\dfrac{2}{\\sqrt{13}}\n",
    "\\end{bmatrix}\n",
    "\\approx\n",
    "\\begin{bmatrix}\n",
    "0.8321 \\\\\n",
    "0.5547\n",
    "\\end{bmatrix}\n",
    "\\end{align}"
   ]
  },
  {
   "cell_type": "markdown",
   "metadata": {},
   "source": [
    "\\begin{align}\n",
    "\\lambda_2 = -1, \\;\\;\n",
    "v_2 = \\begin{bmatrix}\n",
    "-\\dfrac{1}{\\sqrt{2}} \\\\\n",
    "\\dfrac{1}{\\sqrt{2}}\n",
    "\\end{bmatrix}\n",
    "\\approx \n",
    "\\begin{bmatrix}\n",
    "-0.7071 \\\\\n",
    "0.7071\n",
    "\\end{bmatrix}\n",
    "\\end{align}"
   ]
  },
  {
   "cell_type": "code",
   "execution_count": 6,
   "metadata": {},
   "outputs": [
    {
     "data": {
      "text/plain": [
       "array([[2, 3],\n",
       "       [2, 1]])"
      ]
     },
     "execution_count": 6,
     "metadata": {},
     "output_type": "execute_result"
    }
   ],
   "source": [
    "B = np.array([[2, 3], [2, 1]])\n",
    "B"
   ]
  },
  {
   "cell_type": "code",
   "execution_count": 7,
   "metadata": {},
   "outputs": [],
   "source": [
    "lamda1 = 4\n",
    "lamda2 = -1\n",
    "v1 = np.array([3, 2])\n",
    "v2 = np.array([-1, 1])"
   ]
  },
  {
   "cell_type": "code",
   "execution_count": 8,
   "metadata": {},
   "outputs": [
    {
     "data": {
      "text/plain": [
       "array([12,  8])"
      ]
     },
     "execution_count": 8,
     "metadata": {},
     "output_type": "execute_result"
    }
   ],
   "source": [
    "B @ v1  # 4 * v1, 즉 고유값은 4"
   ]
  },
  {
   "cell_type": "code",
   "execution_count": 9,
   "metadata": {},
   "outputs": [
    {
     "data": {
      "text/plain": [
       "array([ 1, -1])"
      ]
     },
     "execution_count": 9,
     "metadata": {},
     "output_type": "execute_result"
    }
   ],
   "source": [
    "B @ v2  # -1 * v2, 즉 고유값은 -1 따라서 두가지 고유값과 고유벡터를 갖는다고 할 수 있다."
   ]
  },
  {
   "cell_type": "code",
   "execution_count": 10,
   "metadata": {},
   "outputs": [
    {
     "data": {
      "text/plain": [
       "array([0.83205029, 0.5547002 ])"
      ]
     },
     "execution_count": 10,
     "metadata": {},
     "output_type": "execute_result"
    }
   ],
   "source": [
    "# 고유벡터 정규화\n",
    "v1_norm = np.linalg.norm(v1)\n",
    "v1 = v1 / v1_norm\n",
    "v1"
   ]
  },
  {
   "cell_type": "code",
   "execution_count": 11,
   "metadata": {},
   "outputs": [
    {
     "data": {
      "text/plain": [
       "array([-0.70710678,  0.70710678])"
      ]
     },
     "execution_count": 11,
     "metadata": {},
     "output_type": "execute_result"
    }
   ],
   "source": [
    "v2_norm = np.linalg.norm(v2)\n",
    "v2 = v2 / v2_norm\n",
    "v2"
   ]
  },
  {
   "cell_type": "markdown",
   "metadata": {},
   "source": [
    "### 특성방정식"
   ]
  },
  {
   "cell_type": "markdown",
   "metadata": {},
   "source": [
    "지금까지는 행렬과 그 행렬의 고유값-고유벡터를 주고 이들이 정말 고유값-고유벡터인지를 계산으로 증명했다. 그러면 행렬만 주어졌을 때 고유값-고유벡터는 어떻게 구할 수 있을까?"
   ]
  },
  {
   "cell_type": "markdown",
   "metadata": {},
   "source": [
    "행렬  𝐴 의 고유값은  𝐴−𝜆𝐼 의 행렬식이 0이 되도록 하는 특성방정식(characteristic equation)의 해를 구하면 된다."
   ]
  },
  {
   "cell_type": "markdown",
   "metadata": {},
   "source": [
    "\\begin{align}\n",
    "\\det \\left( A - \\lambda I \\right) = 0\n",
    "\\end{align}"
   ]
  },
  {
   "cell_type": "markdown",
   "metadata": {},
   "source": [
    "이 조건은 행렬  𝐴−𝜆𝐼 가 역행렬이 존재하지 않는다는 뜻이다. (즉 I가 나와야 되는데 0이 되기 때문..)"
   ]
  },
  {
   "cell_type": "markdown",
   "metadata": {},
   "source": [
    "\\begin{align} (A - \\lambda I)^{-1}(A - \\lambda I)v = 0 \\;\\; \\rightarrow \\;\\; v = 0 \\end{align}"
   ]
  },
  {
   "cell_type": "markdown",
   "metadata": {},
   "source": [
    "#### 예제 1."
   ]
  },
  {
   "cell_type": "markdown",
   "metadata": {},
   "source": [
    "행렬\n",
    "\\begin{align}\n",
    "A=\n",
    "\\begin{bmatrix}\n",
    "1 & -2 \\\\\n",
    "2 & -3\n",
    "\\end{bmatrix}\n",
    "\\end{align}"
   ]
  },
  {
   "cell_type": "markdown",
   "metadata": {},
   "source": [
    "에 대해서는 특성방정식이 다음과 같다.\n",
    "\n",
    "\\begin{aligned}\n",
    "\\det \\left( A - \\lambda I \\right) \n",
    "&=\n",
    "\\det \n",
    "\\left(\n",
    "\\begin{bmatrix}\n",
    "1 & -2 \\\\\n",
    "2 & -3\n",
    "\\end{bmatrix}\n",
    "-\n",
    "\\begin{bmatrix}\n",
    "\\lambda & 0 \\\\\n",
    "0 & \\lambda\n",
    "\\end{bmatrix}\n",
    "\\right) \n",
    "\\\\\n",
    "&=\n",
    "\\det \n",
    "\\begin{bmatrix}\n",
    "1 - \\lambda & -2 \\\\\n",
    "2 & -3 -\\lambda\n",
    "\\end{bmatrix}\n",
    "\\\\\n",
    "&= (1 - \\lambda)(-3 -\\lambda) + 4 \\\\\n",
    "&= \\lambda^2 + 2\\lambda + 1 = 0\n",
    "\\end{aligned}"
   ]
  },
  {
   "cell_type": "markdown",
   "metadata": {},
   "source": [
    "인수분해를 하여 이차방정식인 특성방정식을 풀면\n",
    "\\begin{align}\n",
    "\\lambda^2 + 2\\lambda + 1 = (\\lambda + 1)^2 = 0\n",
    "\\end{align}"
   ]
  },
  {
   "cell_type": "markdown",
   "metadata": {},
   "source": [
    "에서 고윳값은 -1이다.\n",
    "\n",
    "원래 이차방정식은 해를 최대 2개 가질 수 있지만, 이 경우에는 하나만 존재하기 때문에 이러한 해를 중복고유값(repeated eigenvalue)이라고 한다."
   ]
  },
  {
   "cell_type": "markdown",
   "metadata": {},
   "source": [
    "#### 예제 2.\n",
    "행렬\n",
    "\\begin{align}\n",
    "B=\n",
    "\\begin{bmatrix}\n",
    "2 & 3 \\\\\n",
    "2 & 1\n",
    "\\end{bmatrix}\n",
    "\\end{align}"
   ]
  },
  {
   "cell_type": "markdown",
   "metadata": {},
   "source": [
    "에 대해서는 특성방정식이 다음과 같다.\n",
    "\n",
    "\\begin{aligned}\n",
    "\\det \\left( B - \\lambda I \\right) \n",
    "&=\n",
    "\\det \n",
    "\\left(\n",
    "\\begin{bmatrix}\n",
    "2 & 3 \\\\\n",
    "2 & 1\n",
    "\\end{bmatrix}\n",
    "-\n",
    "\\begin{bmatrix}\n",
    "\\lambda & 0 \\\\\n",
    "0 & \\lambda\n",
    "\\end{bmatrix}\n",
    "\\right) \n",
    "\\\\\n",
    "&=\n",
    "\\det \n",
    "\\begin{bmatrix}\n",
    "2 - \\lambda & 3 \\\\\n",
    "2 & 1 -\\lambda\n",
    "\\end{bmatrix}\n",
    "\\\\\n",
    "&= (2 - \\lambda)(1 -\\lambda) -6 \\\\\n",
    "&= \\lambda^2 - 3\\lambda -4 = 0\n",
    "\\end{aligned}"
   ]
  },
  {
   "cell_type": "markdown",
   "metadata": {},
   "source": [
    "인수분해를 하여 이차방정식인 특성방정식을 풀면\n",
    "\n",
    "\\begin{align}\n",
    "\\lambda^2 - 3\\lambda -4= (\\lambda -4)(\\lambda +1) = 0\n",
    "\\end{align}"
   ]
  },
  {
   "cell_type": "markdown",
   "metadata": {},
   "source": [
    "에서 고윳값은 4와 -1이다."
   ]
  },
  {
   "cell_type": "markdown",
   "metadata": {},
   "source": [
    "#### 예제 3.\n",
    "\n",
    "2차 방정식의 실수 해가 존재하지 않는 경우도 있기 때문에 실수 고유값이 없는 행렬도 있을 수 있다.\n",
    "\\begin{align}\n",
    "C =\n",
    "\\begin{bmatrix}\n",
    "0 & -1 \\\\\n",
    "1 & 0\n",
    "\\end{bmatrix}\n",
    "\\end{align}\n",
    "\n",
    "의 특성방정식은 다음과 같다.\n",
    "\n",
    "\\begin{aligned}\n",
    "\\det \\left( C - \\lambda I \\right) \n",
    "&=\n",
    "\\det \n",
    "\\left(\n",
    "\\begin{bmatrix}\n",
    "0 & -1 \\\\\n",
    "1 & 0\n",
    "\\end{bmatrix}\n",
    "-\n",
    "\\begin{bmatrix}\n",
    "\\lambda & 0 \\\\\n",
    "0 & \\lambda\n",
    "\\end{bmatrix}\n",
    "\\right) \n",
    "\\\\\n",
    "&= \\lambda^2 +1 \\\\\n",
    "&= 0\n",
    "\\end{aligned}"
   ]
  },
  {
   "cell_type": "markdown",
   "metadata": {},
   "source": [
    "이 특성방정식의 실수해는 존재하지 않음을 알 수 있다. 따라서 행렬  𝐶 는 실수인 고유값을 가지지 않는다.\n",
    "\n",
    "만약 고유값-고유벡터가 복소수(complex number)가 되어도 괜찮다면 행렬  𝐶 는 2개의 고유값을 가진다고 할 수 있다.\n",
    "\\begin{align}\n",
    "\\lambda = i, \\;\\; \\lambda = -i\n",
    "\\end{align}"
   ]
  },
  {
   "cell_type": "markdown",
   "metadata": {},
   "source": [
    "### Practice 2\n",
    "특성방정식을 이용하여 다음 행렬의 고윳값을 구하라.\n",
    "\\begin{align}\n",
    "\\begin{bmatrix}\n",
    "2 & 1 \\\\\n",
    "1 & 2\n",
    "\\end{bmatrix}\n",
    "\\end{align}"
   ]
  },
  {
   "cell_type": "markdown",
   "metadata": {},
   "source": [
    "### 고유값의 개수\n",
    "\n",
    "𝑁 차방정식이 항상 𝑁개의 복소수 해를 가진다는 사실을 이용하면 𝑁차원 정방행렬의 고유값의 개수에 대해 다음 정리가 성립한다."
   ]
  },
  {
   "cell_type": "markdown",
   "metadata": {},
   "source": [
    "[정리] 중복된 고유값을 각각 별개로 생각하고 복소수인 고유값도 고려한다면  𝑁 차원 정방행렬의 고유값은 항상  𝑁 개다."
   ]
  },
  {
   "cell_type": "markdown",
   "metadata": {},
   "source": [
    "### 고유값과 대각합/행렬식\n",
    "\n",
    "어떤 행렬의 고유값이  $\\lambda_1, \\lambda_2, \\cdots, \\lambda_N$ 이라고 하면 모든 고유값의 곱은 행렬식의 값과 같고 모든 고유값의 합은 대각합(trace)의 값과 같다."
   ]
  },
  {
   "cell_type": "markdown",
   "metadata": {},
   "source": [
    "\\begin{align}\n",
    "\\det(A)=\\prod_{i=1}^N \\lambda_i\n",
    "\\end{align}\n",
    "\n",
    "\\begin{align}\n",
    "\\text{tr}(A) =\\sum_{i=1}^N \\lambda_i\n",
    "\\end{align}"
   ]
  },
  {
   "cell_type": "markdown",
   "metadata": {},
   "source": [
    "#### 예제 1.\n",
    "\n",
    "행렬  𝐴 에 대해서 대각합과 행렬식은 다음과 같다.\n",
    "\n",
    "\\begin{align}\n",
    "\\text{tr}(A) = 1 + (-3) = -2\n",
    "\\end{align}\n",
    "\n",
    "\\begin{align}\n",
    "\\text{det}(A) = 1 \\cdot (-3) - 2 \\cdot (-2) = 1\n",
    "\\end{align}\n",
    "\n",
    "그런데 고유값이  $\\lambda_1=-1 ,  \\lambda_2=-1$  (중복된 고유값)이므로\n",
    "\n",
    "\\begin{align}\n",
    "\\lambda_1 + \\lambda_2 = -2 = \\text{tr}(A)\n",
    "\\end{align}\n",
    "\n",
    "\\begin{align}\n",
    "\\lambda_1 \\cdot \\lambda_2 = 1 = \\text{det}(A)\n",
    "\\end{align}\n",
    "\n",
    "가 성립한다."
   ]
  },
  {
   "cell_type": "markdown",
   "metadata": {},
   "source": [
    "#### 예제 2."
   ]
  },
  {
   "cell_type": "markdown",
   "metadata": {},
   "source": [
    "행렬  𝐵 에 대해서도 고유값이 $\\lambda_1=4$, $\\lambda_2=-1$이고\n",
    "\n",
    "\\begin{align}\n",
    "\\lambda_1 + \\lambda_2 = 3 = \\text{tr}(B) = 2 + 1 = 3\n",
    "\\end{align}\n",
    "\n",
    "\\begin{align}\n",
    "\\lambda_1 \\cdot \\lambda_2 = -4 = \\text{det}(B) = 2 \\cdot 1 - 2 \\cdot 3 = -4\n",
    "\\end{align}\n"
   ]
  },
  {
   "cell_type": "markdown",
   "metadata": {},
   "source": [
    "가 성립한다."
   ]
  },
  {
   "cell_type": "markdown",
   "metadata": {},
   "source": [
    "### 고유벡터의 계산"
   ]
  },
  {
   "cell_type": "markdown",
   "metadata": {},
   "source": [
    "고유값을 알면 다음 연립 방정식을 풀어 고유벡터를 구할 수 있다.\n",
    "\n",
    "\\begin{align}\n",
    "(A - \\lambda I)v = 0\n",
    "\\end{align}"
   ]
  },
  {
   "cell_type": "markdown",
   "metadata": {},
   "source": [
    "#### 예제 1.\n",
    "앞에서 예로 든 행렬  𝐴 에 대해서는\n",
    "\n",
    "\\begin{align}\n",
    "\\begin{bmatrix}\n",
    "1+1 & -2 \\\\\n",
    "2 & -3+1\n",
    "\\end{bmatrix}\n",
    "\\begin{bmatrix}\n",
    "v_1 \\\\ v_2\n",
    "\\end{bmatrix}\n",
    "= 0\n",
    "\\end{align}\n",
    "\n",
    "\\begin{align}\n",
    "\\begin{bmatrix}\n",
    "2 & -2 \\\\\n",
    "2 & -2\n",
    "\\end{bmatrix}\n",
    "\\begin{bmatrix}\n",
    "v_1 \\\\ v_2\n",
    "\\end{bmatrix}\n",
    "= 0\n",
    "\\end{align}"
   ]
  },
  {
   "cell_type": "markdown",
   "metadata": {},
   "source": [
    "이므로\n",
    "\\begin{align}\n",
    "2v_1 - 2v_2 = 0\n",
    "\\end{align}\n",
    "\n",
    "즉, \n",
    "\\begin{align}\n",
    "v_1 = v_2\n",
    "\\end{align}\n",
    "\n",
    "를 만족하는 모든 벡터가 고유벡터임을 알 수 있다. 즉\n",
    "\n",
    "\\begin{align}\n",
    "v=\\begin{bmatrix} 1 \\\\ 1 \\end{bmatrix}\n",
    "\\end{align}"
   ]
  },
  {
   "cell_type": "markdown",
   "metadata": {},
   "source": [
    "또는 단위벡터\n",
    "\\begin{align}\n",
    "v=\\begin{bmatrix} \\dfrac{\\sqrt{2}}{2} \\\\ \\dfrac{\\sqrt{2}}{2} \\end{bmatrix}\n",
    "\\end{align}\n",
    "가 유일한 고유벡터다. 중복된(repeated) 고유벡터라고도 한다."
   ]
  },
  {
   "cell_type": "markdown",
   "metadata": {},
   "source": [
    "#### 예제2.\n",
    "고유값이 중복되었다고 고유벡터도 항상 중복되는 것은 아니다. 예를 들어 항등행렬  𝐼 의 고유값은 1로 중복된 고유값을 가진다.\n",
    "\n",
    "\\begin{align}\n",
    "\\det(I - \\lambda I)\n",
    "=\n",
    "\\det( \\left(\n",
    "\\begin{bmatrix}\n",
    "1-\\lambda & 0 \\\\\n",
    "0 & 1-\\lambda\n",
    "\\end{bmatrix}\n",
    "\\right)\n",
    "=(\\lambda - 1)^2 = 0\n",
    "\\end{align}"
   ]
  },
  {
   "cell_type": "markdown",
   "metadata": {},
   "source": [
    "하지만 이 값에 \n",
    "\n",
    "\\begin{align}\n",
    "Av - \\lambda v = (A - \\lambda I) v = 0 \n",
    "\\end{align}\n",
    "\n",
    "을 대입하면\n",
    "\n",
    "\\begin{align}\n",
    "\\begin{bmatrix}\n",
    "0 & 0 \\\\\n",
    "0 & 0\n",
    "\\end{bmatrix}\n",
    "\\begin{bmatrix}\n",
    "v_1 \\\\ v_2\n",
    "\\end{bmatrix}\n",
    "= 0\n",
    "\\end{align}\n",
    "\n",
    "으로 임의의 2차원 벡터는 모두 고유벡터가 된다. 즉\n",
    "\n",
    "\\begin{align}\n",
    "\\begin{bmatrix} 1 \\\\ 0 \\end{bmatrix}, \\;\\;\n",
    "\\begin{bmatrix} 0 \\\\ 1 \\end{bmatrix}\n",
    "\\end{align}\n",
    "\n",
    "둘 다 고유벡터이다."
   ]
  },
  {
   "cell_type": "markdown",
   "metadata": {},
   "source": [
    "### Practice 3\n",
    "\n",
    "특성방정식을 이용하여 다음 행렬의 고유값과 고유벡터를 구하라.\n",
    "\\begin{align}\n",
    "\\begin{bmatrix}\n",
    "2 & 3 \\\\\n",
    "2 & 1\n",
    "\\end{bmatrix},\n",
    "\\;\\;\n",
    "\\begin{bmatrix}\n",
    "1 & 1 \\\\\n",
    "0 & 1\n",
    "\\end{bmatrix}\n",
    "\\end{align}"
   ]
  },
  {
   "cell_type": "markdown",
   "metadata": {},
   "source": [
    "### Practice 4\n",
    "\n",
    "중복된 고유값  𝜆 에 대해 서로 다른 고유벡터  𝑣1,  𝑣2 가 존재하면 이 두 벡터의 선형조합\n",
    "\n",
    "\\begin{align}\n",
    "c_1v_1 + c_2v_2\n",
    "\\end{align}\n",
    "\n",
    "도 고유값  𝜆 에 대한 고유벡터임을 증명하라."
   ]
  },
  {
   "cell_type": "markdown",
   "metadata": {},
   "source": [
    "### NumPy를 사용한 고유분해\n",
    "\n",
    "numpy.linalg 서브패키지에서는 고윳값과 고유벡터를 구할 수 있는 eig 명령을 제공한다. 고유값은 벡터의 형태로, 고유벡터는 고유벡터 행렬의 형태로 묶여서 나오고 고유벡터는 크기가 1인 단위벡터로 정규화가 되어 있다. 실수인 고유값이 존재하지 않는 행렬에 대해서는 복소수인 고유값과 고유벡터를 계산한다.\n",
    "\n",
    "eig 명령의 결과로 나오는 고유벡터 행렬은 행이 아니라 열을 고유벡터로 가진다는 점에 주의한다. 수치계산의 오류로 인해 중복되는 고유값이 미세하게 다른 값으로 계산될 수도 있다."
   ]
  },
  {
   "cell_type": "code",
   "execution_count": 4,
   "metadata": {},
   "outputs": [
    {
     "data": {
      "text/plain": [
       "array([[ 1, -2],\n",
       "       [ 2, -3]])"
      ]
     },
     "execution_count": 4,
     "metadata": {},
     "output_type": "execute_result"
    }
   ],
   "source": [
    "A = np.array([[1, -2], [2, -3]])\n",
    "A"
   ]
  },
  {
   "cell_type": "code",
   "execution_count": 5,
   "metadata": {},
   "outputs": [
    {
     "name": "stdout",
     "output_type": "stream",
     "text": [
      "[-0.99999998 -1.00000002]\n",
      "[[0.70710678 0.70710678]\n",
      " [0.70710678 0.70710678]]\n"
     ]
    }
   ],
   "source": [
    "w1, V1 = np.linalg.eig(A)\n",
    "print(w1)\n",
    "print(V1)"
   ]
  },
  {
   "cell_type": "code",
   "execution_count": 6,
   "metadata": {},
   "outputs": [
    {
     "name": "stdout",
     "output_type": "stream",
     "text": [
      "[ 4. -1.]\n",
      "[[ 0.83205029 -0.70710678]\n",
      " [ 0.5547002   0.70710678]]\n"
     ]
    }
   ],
   "source": [
    "B = np.array([[2, 3], [2, 1]])\n",
    "w2, V2 = np.linalg.eig(B)\n",
    "print(w2)\n",
    "print(V2)"
   ]
  },
  {
   "cell_type": "code",
   "execution_count": 7,
   "metadata": {},
   "outputs": [
    {
     "name": "stdout",
     "output_type": "stream",
     "text": [
      "[0.+1.j 0.-1.j]\n",
      "[[0.70710678+0.j         0.70710678-0.j        ]\n",
      " [0.        -0.70710678j 0.        +0.70710678j]]\n"
     ]
    }
   ],
   "source": [
    "C = np.array([[0, -1], [1, 0]])\n",
    "w3, V3 = np.linalg.eig(C)\n",
    "\n",
    "print(w3)\n",
    "print(V3)"
   ]
  },
  {
   "cell_type": "markdown",
   "metadata": {},
   "source": [
    "### Practice 5\n",
    "\n",
    "지금까지 연습 문제에 나온 행렬들에 대해 NumPy를 사용하여 고유분해를 하라."
   ]
  },
  {
   "cell_type": "code",
   "execution_count": 8,
   "metadata": {},
   "outputs": [
    {
     "name": "stdout",
     "output_type": "stream",
     "text": [
      "[3. 1.]\n",
      "[[ 0.70710678 -0.70710678]\n",
      " [ 0.70710678  0.70710678]]\n"
     ]
    }
   ],
   "source": [
    "X = np.array([[2, 1], [1, 2]])\n",
    "w, V = np.linalg.eig(X)\n",
    "\n",
    "print(w)\n",
    "print(V)"
   ]
  },
  {
   "cell_type": "code",
   "execution_count": 9,
   "metadata": {},
   "outputs": [
    {
     "name": "stdout",
     "output_type": "stream",
     "text": [
      "[ 4. -1.]\n",
      "[[ 0.83205029 -0.70710678]\n",
      " [ 0.5547002   0.70710678]]\n"
     ]
    }
   ],
   "source": [
    "X = np.array([[2, 3], [2, 1]])\n",
    "w, V = np.linalg.eig(X)\n",
    "\n",
    "print(w)\n",
    "print(V)"
   ]
  },
  {
   "cell_type": "code",
   "execution_count": 10,
   "metadata": {},
   "outputs": [
    {
     "name": "stdout",
     "output_type": "stream",
     "text": [
      "[1. 1.]\n",
      "[[ 1.00000000e+00 -1.00000000e+00]\n",
      " [ 0.00000000e+00  2.22044605e-16]]\n"
     ]
    }
   ],
   "source": [
    "X = np.array([[1, 1], [0, 1]])\n",
    "w, V = np.linalg.eig(X)\n",
    "\n",
    "print(w)\n",
    "print(V)"
   ]
  },
  {
   "cell_type": "markdown",
   "metadata": {},
   "source": [
    "### 대각화\n",
    "\n",
    "𝑁  차원의 정방 행렬 𝐴가 𝑁개의 복소수 고유값과 이에 대응하는 고유벡터를 가진다는 성질을 이용하면 다음처럼 행렬을 분해할 수 있다.\n",
    "\n",
    "행렬 𝐴의 고유값과 이에 대응하는 단위벡터인 고유벡터를 각각\n",
    "\n",
    "\\begin{align}\n",
    "\\lambda_1, \\lambda_2, \\cdots, \\lambda_N \\;\\;\\; v_1, v_2, \\cdots, v_N\n",
    "\\end{align}"
   ]
  },
  {
   "cell_type": "markdown",
   "metadata": {},
   "source": [
    "이라고 하자.\n",
    "\n",
    "이 고유값과 고유벡터를 묶어서 다음과 같이 고유벡터행렬, 고유값 행렬을 정의할 수 있다.\n",
    "\n",
    "고유벡터행렬  𝑉 은 고유벡터를 열벡터로 옆으로 쌓아서 만든 행렬이다.\n",
    "\n",
    "\\begin{align}\n",
    "V = \\left[ v_1 \\cdots v_N \\right], \\;\\;\\; V \\in \\mathbf{R}^{N \\times N}\n",
    "\\end{align}"
   ]
  },
  {
   "cell_type": "markdown",
   "metadata": {},
   "source": [
    "고유값 행렬  Λ 은 고유값을 대각성분으로 가지는 대각행렬이다.\n",
    "\n",
    "\\begin{align}\n",
    "\\Lambda =\n",
    "\\begin{bmatrix}\n",
    "\\lambda_{1} & 0 & \\cdots & 0 \\\\\n",
    "0 & \\lambda_{2} & \\cdots & 0 \\\\\n",
    "\\vdots & \\vdots & \\ddots & \\vdots \\\\\n",
    "0 & 0 & \\cdots & \\lambda_{N} \\\\\n",
    "\\end{bmatrix}\n",
    ", \\;\\;\\; \\Lambda \\in \\mathbf{R}^{N \\times N}\n",
    "\\end{align}"
   ]
  },
  {
   "cell_type": "markdown",
   "metadata": {},
   "source": [
    "위와 같이 고유벡터 행렬과 고유값 행렬을 정의하면 행렬과 고유벡터 행렬의 곱은 고유벡터 행렬과 고유값 행렬의 곱과 같다."
   ]
  },
  {
   "cell_type": "markdown",
   "metadata": {},
   "source": [
    "\\begin{aligned}\n",
    "AV \n",
    "&= A \\left[ v_1 \\cdots v_N \\right] \\\\\n",
    "&= \\left[ A v_1 \\cdots A v_N \\right] \\\\\n",
    "&= \\left[ \\lambda_1 v_1 \\cdots \\lambda_N v_N \\right] \\\\\n",
    "&= \\left[ v_1 \\cdots v_N \\right] \n",
    "\\begin{bmatrix}\n",
    "\\lambda_{1} & 0 & \\cdots & 0 \\\\\n",
    "0 & \\lambda_{2} & \\cdots & 0 \\\\\n",
    "\\vdots & \\vdots & \\ddots & \\vdots \\\\\n",
    "0 & 0 & \\cdots & \\lambda_{N} \\\\\n",
    "\\end{bmatrix}\n",
    "\\\\\n",
    "&= V\\Lambda\n",
    "\\end{aligned}"
   ]
  },
  {
   "cell_type": "markdown",
   "metadata": {},
   "source": [
    "즉, \n",
    "\\begin{align}\n",
    "AV = V\\Lambda \n",
    "\\end{align}"
   ]
  },
  {
   "cell_type": "markdown",
   "metadata": {},
   "source": [
    "만약 고유벡터행렬  𝑉 의 역행렬이 존재한다면 행렬을 다음처럼 고유벡터행렬과 고윳값행렬의 곱으로 표현할 수 있다. 이를 행렬의 대각화(diagonalization)라고 한다.\n",
    "\n",
    "\\begin{align}\n",
    "A = V \\Lambda V^{-1} \n",
    "\\end{align}"
   ]
  },
  {
   "cell_type": "markdown",
   "metadata": {},
   "source": [
    "#### 예제 1.\n",
    "\n",
    "위에서 예로 든 행렬  𝐵 를 대각화하면 다음과 같다.\n",
    "\n",
    "\\begin{align}\n",
    "V = \n",
    "\\begin{bmatrix}\n",
    "\\dfrac{3}{\\sqrt{13}} & -\\dfrac{1}{\\sqrt{2}} \\\\\n",
    "\\dfrac{2}{\\sqrt{13}} &  \\dfrac{1}{\\sqrt{2}}\n",
    "\\end{bmatrix}\n",
    "\\end{align}\n",
    "\n",
    "\\begin{align}\n",
    "\\Lambda = \n",
    "\\begin{bmatrix}\n",
    "4 & 0 \\\\\n",
    "0 & -1\n",
    "\\end{bmatrix}\n",
    "\\end{align}\n",
    "\n",
    "\\begin{align}\n",
    "V^{-1} = \n",
    "\\dfrac{1}{5}\n",
    "\\begin{bmatrix}\n",
    "\\sqrt{13} & \\sqrt{13} \\\\\n",
    "-2\\sqrt{2} & 3\\sqrt{2}\n",
    "\\end{bmatrix}\n",
    "\\end{align}\n",
    "\n",
    "\\begin{align}\n",
    "B=\n",
    "\\begin{bmatrix}\n",
    "2 & 3 \\\\\n",
    "2 & 1\n",
    "\\end{bmatrix}\n",
    "= \n",
    "V\\Lambda V^{-1} \n",
    "= \\dfrac{1}{5}\n",
    "\\begin{bmatrix}\n",
    "\\dfrac{3}{\\sqrt{13}} & -\\dfrac{1}{\\sqrt{2}} \\\\\n",
    "\\dfrac{2}{\\sqrt{13}} &  \\dfrac{1}{\\sqrt{2}}\n",
    "\\end{bmatrix}\n",
    "\\begin{bmatrix}\n",
    "4 & 0 \\\\\n",
    "0 & -1\n",
    "\\end{bmatrix}\n",
    "\\begin{bmatrix}\n",
    "\\sqrt{13} & \\sqrt{13} \\\\\n",
    "-2\\sqrt{2} & 3\\sqrt{2}\n",
    "\\end{bmatrix}\n",
    "\\end{align}\n"
   ]
  },
  {
   "cell_type": "markdown",
   "metadata": {},
   "source": [
    "NumPy을 이용하여 위 식을 계산하면 좌변과 우변이 같음을 확인할 수 있다."
   ]
  },
  {
   "cell_type": "code",
   "execution_count": 11,
   "metadata": {},
   "outputs": [
    {
     "data": {
      "text/plain": [
       "array([[ 0.83205029, -0.70710678],\n",
       "       [ 0.5547002 ,  0.70710678]])"
      ]
     },
     "execution_count": 11,
     "metadata": {},
     "output_type": "execute_result"
    }
   ],
   "source": [
    "V2"
   ]
  },
  {
   "cell_type": "code",
   "execution_count": 12,
   "metadata": {},
   "outputs": [
    {
     "data": {
      "text/plain": [
       "array([[ 0.72111026,  0.72111026],\n",
       "       [-0.56568542,  0.84852814]])"
      ]
     },
     "execution_count": 12,
     "metadata": {},
     "output_type": "execute_result"
    }
   ],
   "source": [
    "V2_inv = np.linalg.inv(V2)\n",
    "V2_inv"
   ]
  },
  {
   "cell_type": "code",
   "execution_count": 13,
   "metadata": {},
   "outputs": [
    {
     "data": {
      "text/plain": [
       "array([[2., 3.],\n",
       "       [2., 1.]])"
      ]
     },
     "execution_count": 13,
     "metadata": {},
     "output_type": "execute_result"
    }
   ],
   "source": [
    "V2 @ np.array([[4, 0], [0, -1]]) @ V2_inv"
   ]
  },
  {
   "cell_type": "code",
   "execution_count": 14,
   "metadata": {},
   "outputs": [
    {
     "data": {
      "text/plain": [
       "array([[2., 3.],\n",
       "       [2., 1.]])"
      ]
     },
     "execution_count": 14,
     "metadata": {},
     "output_type": "execute_result"
    }
   ],
   "source": [
    "V2 @ np.diag(w2) @ V2_inv  # 고유값을 대각성분으로 갖는 행렬 np.diag(w2)"
   ]
  },
  {
   "cell_type": "code",
   "execution_count": 15,
   "metadata": {},
   "outputs": [
    {
     "data": {
      "text/plain": [
       "array([[ 4.,  0.],\n",
       "       [ 0., -1.]])"
      ]
     },
     "execution_count": 15,
     "metadata": {},
     "output_type": "execute_result"
    }
   ],
   "source": [
    "np.diag(w2)"
   ]
  },
  {
   "cell_type": "markdown",
   "metadata": {},
   "source": [
    "### Practice 6\n",
    "\n",
    "다음 행렬을 고윳값과 고유벡터로 대각화하라.\n",
    "\n",
    "\\begin{align}\n",
    "\\begin{bmatrix}\n",
    "2 & 3 \\\\\n",
    "2 & 1\n",
    "\\end{bmatrix}\n",
    "\\end{align}"
   ]
  },
  {
   "cell_type": "code",
   "execution_count": 16,
   "metadata": {},
   "outputs": [
    {
     "name": "stdout",
     "output_type": "stream",
     "text": [
      "[ 4. -1.]\n",
      "[[ 0.83205029 -0.70710678]\n",
      " [ 0.5547002   0.70710678]]\n"
     ]
    }
   ],
   "source": [
    "X = np.array([[2, 3], [2, 1]])\n",
    "w, V = np.linalg.eig(X)\n",
    "print(w)\n",
    "print(V)"
   ]
  },
  {
   "cell_type": "code",
   "execution_count": 17,
   "metadata": {},
   "outputs": [
    {
     "data": {
      "text/plain": [
       "array([[ 0.72111026,  0.72111026],\n",
       "       [-0.56568542,  0.84852814]])"
      ]
     },
     "execution_count": 17,
     "metadata": {},
     "output_type": "execute_result"
    }
   ],
   "source": [
    "V_inv = np.linalg.inv(V)\n",
    "V_inv"
   ]
  },
  {
   "cell_type": "code",
   "execution_count": 19,
   "metadata": {},
   "outputs": [
    {
     "data": {
      "text/plain": [
       "array([[2., 3.],\n",
       "       [2., 1.]])"
      ]
     },
     "execution_count": 19,
     "metadata": {},
     "output_type": "execute_result"
    }
   ],
   "source": [
    "V @ np.diag(w) @ V_inv"
   ]
  },
  {
   "cell_type": "code",
   "execution_count": 20,
   "metadata": {},
   "outputs": [
    {
     "data": {
      "text/plain": [
       "array([[ 4.,  0.],\n",
       "       [ 0., -1.]])"
      ]
     },
     "execution_count": 20,
     "metadata": {},
     "output_type": "execute_result"
    }
   ],
   "source": [
    "np.diag(w)"
   ]
  },
  {
   "cell_type": "markdown",
   "metadata": {},
   "source": [
    "### Practice 7\n",
    "다음 행렬은 고윳값과 고유벡터로 대각화 가능한가?\n",
    "\\begin{align}\n",
    "\\begin{bmatrix}\n",
    "1 & 1 \\\\\n",
    "0 & 1\n",
    "\\end{bmatrix}\n",
    "\\end{align}"
   ]
  },
  {
   "cell_type": "code",
   "execution_count": 21,
   "metadata": {},
   "outputs": [
    {
     "name": "stdout",
     "output_type": "stream",
     "text": [
      "[1. 1.]\n",
      "[[ 1.00000000e+00 -1.00000000e+00]\n",
      " [ 0.00000000e+00  2.22044605e-16]]\n"
     ]
    }
   ],
   "source": [
    "X = np.array([[1, 1], [0, 1]])\n",
    "w, V = np.linalg.eig(X)\n",
    "print(w)\n",
    "print(V)"
   ]
  },
  {
   "cell_type": "code",
   "execution_count": 22,
   "metadata": {},
   "outputs": [
    {
     "data": {
      "text/plain": [
       "array([[1.00000000e+00, 4.50359963e+15],\n",
       "       [0.00000000e+00, 4.50359963e+15]])"
      ]
     },
     "execution_count": 22,
     "metadata": {},
     "output_type": "execute_result"
    }
   ],
   "source": [
    "V_inv = np.linalg.inv(V)\n",
    "V_inv"
   ]
  },
  {
   "cell_type": "code",
   "execution_count": 23,
   "metadata": {},
   "outputs": [
    {
     "data": {
      "text/plain": [
       "array([[1., 0.],\n",
       "       [0., 1.]])"
      ]
     },
     "execution_count": 23,
     "metadata": {},
     "output_type": "execute_result"
    }
   ],
   "source": [
    "np.diag(w)"
   ]
  },
  {
   "cell_type": "code",
   "execution_count": 24,
   "metadata": {},
   "outputs": [
    {
     "data": {
      "text/plain": [
       "array([[1., 0.],\n",
       "       [0., 1.]])"
      ]
     },
     "execution_count": 24,
     "metadata": {},
     "output_type": "execute_result"
    }
   ],
   "source": [
    "V @ np.diag(w) @ V_inv"
   ]
  },
  {
   "cell_type": "markdown",
   "metadata": {},
   "source": [
    "### 대각화 기능\n",
    "\n",
    "[정리] 행렬의 대각화가 가능하려면 고유벡터가 선형독립이어야 한다.\n",
    "\n",
    "행렬을 대각화할 수 있으면 대각화가능(diagonalizable) 행렬이라고 한다. 앞서 이야기했듯이 고유벡터인 열벡터로 이루어진 행렬에 역행렬이 존재하면 대각화가능이라고 했다. 그런데 앞절에서 정방행렬의 역행렬이 존재할 조건은 정방행렬의 열벡터 즉, 고유벡터들이 선형독립인 경우이다. 따라서 행렬이 대각화 가능하려면 고유벡터가 선형독립이어야 한다."
   ]
  },
  {
   "cell_type": "markdown",
   "metadata": {},
   "source": [
    "### 고유값과 역행렬"
   ]
  },
  {
   "cell_type": "markdown",
   "metadata": {},
   "source": [
    "[정리] 대각화가능한 행렬에 0인 고유값이 없으면 항상 역행렬이 존재한다.\n",
    "\n",
    "이는 다음과 같이 증명할 수 있다. 행렬  𝐴 가 대각화가능하면 다음처럼 표현할 수 있다.\n",
    "\n",
    "\\begin{align} \n",
    "A = V\\Lambda V^{-1}\n",
    "\\end{align}\n",
    "\n",
    "이 행렬의 역행렬은 다음처럼 계산한다.\n",
    "\n",
    "\\begin{align}\n",
    "A^{-1} = (V\\Lambda V^{-1})^{-1} = V \\Lambda^{-1} V^{-1} \n",
    "\\end{align}\n",
    "\n",
    "대각행렬의 역행렬은 각 대각성분의 역수로 이루어진 대각행렬이므로 0인 고유값만 없으면 항상 역행렬이 존재한다."
   ]
  },
  {
   "cell_type": "markdown",
   "metadata": {},
   "source": [
    "### Practice 8\n",
    "다음 행렬\n",
    "\\begin{align}\n",
    "\\begin{bmatrix}\n",
    "2 & 3 \\\\\n",
    "2 & 1\n",
    "\\end{bmatrix}\n",
    "\\end{align}\n",
    "\n",
    "의 고유값과 고유벡터는 다음과 같다. 이 정보를 이용하여 역행렬을 계산하라.\n",
    "\\begin{align}\n",
    "\\lambda_1 = 4, \\;\\;\n",
    "v_1 = \n",
    "\\begin{bmatrix}\n",
    "\\dfrac{3}{\\sqrt{13}} \\\\\n",
    "\\dfrac{2}{\\sqrt{13}}\n",
    "\\end{bmatrix}\n",
    "\\end{align}\n",
    "\n",
    "\\begin{align}\n",
    "\\lambda_2 = -1, \\;\\;\n",
    "v_2 = \\begin{bmatrix}\n",
    "-\\dfrac{1}{\\sqrt{2}} \\\\\n",
    "\\dfrac{1}{\\sqrt{2}}\n",
    "\\end{bmatrix}\n",
    "\\end{align}"
   ]
  },
  {
   "cell_type": "code",
   "execution_count": 25,
   "metadata": {},
   "outputs": [
    {
     "data": {
      "text/plain": [
       "array([[2, 3],\n",
       "       [2, 1]])"
      ]
     },
     "execution_count": 25,
     "metadata": {},
     "output_type": "execute_result"
    }
   ],
   "source": [
    "A = np.array([[2, 3], [2, 1]])\n",
    "A"
   ]
  },
  {
   "cell_type": "code",
   "execution_count": 26,
   "metadata": {},
   "outputs": [
    {
     "name": "stdout",
     "output_type": "stream",
     "text": [
      "[ 4. -1.]\n",
      "[[ 0.83205029 -0.70710678]\n",
      " [ 0.5547002   0.70710678]]\n"
     ]
    }
   ],
   "source": [
    "w, V = np.linalg.eig(A)\n",
    "print(w)\n",
    "print(V)"
   ]
  },
  {
   "cell_type": "code",
   "execution_count": 27,
   "metadata": {},
   "outputs": [
    {
     "name": "stdout",
     "output_type": "stream",
     "text": [
      "[[ 0.72111026  0.72111026]\n",
      " [-0.56568542  0.84852814]]\n",
      "[[ 0.25  0.  ]\n",
      " [-0.   -1.  ]]\n"
     ]
    }
   ],
   "source": [
    "V_inv = np.linalg.inv(V)\n",
    "lamda_matrix = np.diag(w)\n",
    "lamda_matrix_inv = np.linalg.inv(lamda_matrix)\n",
    "print(V_inv)\n",
    "print(lamda_matrix_inv)"
   ]
  },
  {
   "cell_type": "code",
   "execution_count": 28,
   "metadata": {},
   "outputs": [],
   "source": [
    "A_inv = V @ lamda_matrix_inv @ V_inv"
   ]
  },
  {
   "cell_type": "code",
   "execution_count": 29,
   "metadata": {},
   "outputs": [
    {
     "data": {
      "text/plain": [
       "array([[-0.25,  0.75],\n",
       "       [ 0.5 , -0.5 ]])"
      ]
     },
     "execution_count": 29,
     "metadata": {},
     "output_type": "execute_result"
    }
   ],
   "source": [
    "A_inv"
   ]
  },
  {
   "cell_type": "code",
   "execution_count": 30,
   "metadata": {},
   "outputs": [
    {
     "data": {
      "text/plain": [
       "array([[-0.25,  0.75],\n",
       "       [ 0.5 , -0.5 ]])"
      ]
     },
     "execution_count": 30,
     "metadata": {},
     "output_type": "execute_result"
    }
   ],
   "source": [
    "np.linalg.inv(A)  # 위의 결과와 동일하게 나옴"
   ]
  },
  {
   "cell_type": "markdown",
   "metadata": {},
   "source": [
    "### 대칭행렬의 고유분해\n",
    "\n",
    "대칭행렬에 대해서는 다음 정리가 성립한다.\n",
    "\n",
    "[정리] 행렬  𝐴 가 실수인 대칭행렬 고유값이 실수이고 고유벡터는 직교(orthogonal)한다.\n",
    "\n",
    "만약 고유벡터들이 크기가 1이 되도록 정규화된 상태라면 고유벡터 행렬  𝑉 는 정규직교(orthonormal) 행렬이므로 전치행렬이 역행렬이다.\n",
    "\n",
    "\\begin{align}\n",
    "V^T V = V V^T = I\n",
    "\\end{align}\n",
    "\n",
    "\\begin{align}\n",
    "V^{-1} = V^T \n",
    "\\end{align}\n",
    "\n",
    "따라서 대각화가 가능하고 다음처럼 쓸 수 있다.\n",
    "\n",
    "\\begin{align}\n",
    "A = V\\Lambda V^T\n",
    "\\end{align}\n",
    "\n",
    "이 사실로부터 다음 정리도 도출된다.\n",
    "\n",
    "[정리] 대칭행렬은 항상 대각화가능하다."
   ]
  },
  {
   "cell_type": "markdown",
   "metadata": {},
   "source": [
    "### 대칭행렬을 랭크-1 행렬의 합으로 분해"
   ]
  },
  {
   "cell_type": "markdown",
   "metadata": {},
   "source": [
    "𝑁 차원 대칭행렬 𝐴는 다음처럼 𝑁개의 랭크-1 행렬 $A_i = v_i v_i^T$의 합으로 표시할 수 있다.\n",
    "\n",
    "\\begin{aligned}\n",
    "A \n",
    "&= V\\Lambda V^T \\\\\n",
    "&= \n",
    "\\begin{bmatrix}\n",
    "v_1 & v_2 & \\cdots & v_N\n",
    "\\end{bmatrix}\n",
    "\\begin{bmatrix}\n",
    "\\lambda_{1} & 0 & \\cdots & 0 \\\\\n",
    "0 & \\lambda_{2} & \\cdots & 0 \\\\\n",
    "\\vdots & \\vdots & \\ddots & \\vdots \\\\\n",
    "0 & 0 & \\cdots & \\lambda_{N} \\\\\n",
    "\\end{bmatrix}\n",
    "\\begin{bmatrix}\n",
    "v_1^T \\\\ v_2^T \\\\ \\vdots \\\\ v_N^T\n",
    "\\end{bmatrix} \\\\\n",
    "&=\n",
    "\\begin{bmatrix}\n",
    "\\lambda_{1}v_1 & \\lambda_{2}v_2 & \\cdots & \\lambda_{N}v_N\n",
    "\\end{bmatrix}\n",
    "\\begin{bmatrix}\n",
    "v_1^T \\\\ v_2^T \\\\ \\vdots \\\\ v_N^T\n",
    "\\end{bmatrix} \\\\\n",
    "\\end{aligned}"
   ]
  },
  {
   "cell_type": "markdown",
   "metadata": {},
   "source": [
    "따라서  𝑁 차원 대칭행렬  𝐴 는\n",
    "\n",
    "\\begin{align}\n",
    "A = \\sum_{i=1}^{N} {\\lambda_i} v_i v_i^T  = \\sum_{i=1}^{N} {\\lambda_i} A_i = \\lambda_1 A_1 + \\cdots + \\lambda_N A_N \n",
    "\\end{align}"
   ]
  },
  {
   "cell_type": "markdown",
   "metadata": {},
   "source": [
    "#### 예제 1.\n",
    "대칭행렬\n",
    "\\begin{align}\n",
    "\\begin{bmatrix}\n",
    "60 & 30 & 20 \\\\\n",
    "30 & 20 & 15 \\\\\n",
    "20 & 15 & 12 \\\\\n",
    "\\end{bmatrix}\n",
    "\\end{align}"
   ]
  },
  {
   "cell_type": "markdown",
   "metadata": {},
   "source": [
    "를 NumPy를 사용하여 다음처럼 두 개의 랭크-1 행렬로 나눌 수 있다."
   ]
  },
  {
   "cell_type": "code",
   "execution_count": 31,
   "metadata": {},
   "outputs": [
    {
     "data": {
      "text/plain": [
       "array([[60., 30., 20.],\n",
       "       [30., 20., 15.],\n",
       "       [20., 15., 12.]])"
      ]
     },
     "execution_count": 31,
     "metadata": {},
     "output_type": "execute_result"
    }
   ],
   "source": [
    "A = np.array([[60, 30, 20], [30, 20, 15], [20, 15, 12]], dtype=float)\n",
    "A"
   ]
  },
  {
   "cell_type": "code",
   "execution_count": 32,
   "metadata": {},
   "outputs": [],
   "source": [
    "w, V = np.linalg.eig(A)"
   ]
  },
  {
   "cell_type": "code",
   "execution_count": 33,
   "metadata": {},
   "outputs": [
    {
     "data": {
      "text/plain": [
       "array([84.49913563,  7.33962395,  0.16124042])"
      ]
     },
     "execution_count": 33,
     "metadata": {},
     "output_type": "execute_result"
    }
   ],
   "source": [
    "w"
   ]
  },
  {
   "cell_type": "code",
   "execution_count": 34,
   "metadata": {},
   "outputs": [
    {
     "data": {
      "text/plain": [
       "array([[ 0.82704493,  0.54744843,  0.12765933],\n",
       "       [ 0.4598639 , -0.52829024, -0.71374689],\n",
       "       [ 0.32329844, -0.64900666,  0.68867153]])"
      ]
     },
     "execution_count": 34,
     "metadata": {},
     "output_type": "execute_result"
    }
   ],
   "source": [
    "V"
   ]
  },
  {
   "cell_type": "code",
   "execution_count": 41,
   "metadata": {},
   "outputs": [],
   "source": [
    "w1, w2, w3 = w\n",
    "v1 = V[:, 0:1]\n",
    "v2 = V[:, 1:2]\n",
    "v3 = V[:, 2:3]\n",
    "A1 = v1 @ v1.T\n",
    "A2 = v2 @ v2.T\n",
    "A3 = v3 @ v3.T"
   ]
  },
  {
   "cell_type": "code",
   "execution_count": 42,
   "metadata": {},
   "outputs": [
    {
     "data": {
      "text/plain": [
       "array([[57.79768857, 32.13739648, 22.59357583],\n",
       "       [32.13739648, 17.8694387 , 12.56276371],\n",
       "       [22.59357583, 12.56276371,  8.83200836]])"
      ]
     },
     "execution_count": 42,
     "metadata": {},
     "output_type": "execute_result"
    }
   ],
   "source": [
    "w1 * A1"
   ]
  },
  {
   "cell_type": "code",
   "execution_count": 43,
   "metadata": {},
   "outputs": [
    {
     "data": {
      "text/plain": [
       "array([[ 2.19968372, -2.12270483, -2.60775134],\n",
       "       [-2.12270483,  2.04841985,  2.51649195],\n",
       "       [-2.60775134,  2.51649195,  3.09152039]])"
      ]
     },
     "execution_count": 43,
     "metadata": {},
     "output_type": "execute_result"
    }
   ],
   "source": [
    "w2 * A2"
   ]
  },
  {
   "cell_type": "code",
   "execution_count": 44,
   "metadata": {},
   "outputs": [
    {
     "data": {
      "text/plain": [
       "array([[ 0.00262772, -0.01469165,  0.01417551],\n",
       "       [-0.01469165,  0.08214145, -0.07925566],\n",
       "       [ 0.01417551, -0.07925566,  0.07647125]])"
      ]
     },
     "execution_count": 44,
     "metadata": {},
     "output_type": "execute_result"
    }
   ],
   "source": [
    "w3 * A3"
   ]
  },
  {
   "cell_type": "code",
   "execution_count": 45,
   "metadata": {},
   "outputs": [
    {
     "data": {
      "text/plain": [
       "array([[60., 30., 20.],\n",
       "       [30., 20., 15.],\n",
       "       [20., 15., 12.]])"
      ]
     },
     "execution_count": 45,
     "metadata": {},
     "output_type": "execute_result"
    }
   ],
   "source": [
    "w1 * A1 + w2 * A2 + w3 * A3"
   ]
  },
  {
   "cell_type": "markdown",
   "metadata": {},
   "source": [
    "만약 0인 고윳값이 없다면 역행렬도 다음처럼  𝑁 개의 랭크-1 행렬  𝐴𝑖=𝑣𝑖𝑣𝑇𝑖  의 합으로 표시할 수 있다.\n",
    "\n",
    "\\begin{align}\n",
    "A^{-1} =\n",
    "V \\Lambda^{-1} V^T = \\sum_{i=1}^{N} \\dfrac{1}{\\lambda_i} v_i v_i^T \n",
    "= \\dfrac{1}{\\lambda_1} A_1 + \\cdots + \\dfrac{1}{\\lambda_N} A_N \n",
    "\\end{align}"
   ]
  },
  {
   "cell_type": "markdown",
   "metadata": {},
   "source": [
    "앞에서 예로 든 대칭행렬의 역행렬도 다음처럼 랭크-1 행렬의 합으로 나타난다."
   ]
  },
  {
   "cell_type": "code",
   "execution_count": 46,
   "metadata": {},
   "outputs": [
    {
     "data": {
      "text/plain": [
       "array([[ 0.15, -0.6 ,  0.5 ],\n",
       "       [-0.6 ,  3.2 , -3.  ],\n",
       "       [ 0.5 , -3.  ,  3.  ]])"
      ]
     },
     "execution_count": 46,
     "metadata": {},
     "output_type": "execute_result"
    }
   ],
   "source": [
    "np.linalg.inv(A)"
   ]
  },
  {
   "cell_type": "code",
   "execution_count": 48,
   "metadata": {},
   "outputs": [
    {
     "data": {
      "text/plain": [
       "array([[ 0.15, -0.6 ,  0.5 ],\n",
       "       [-0.6 ,  3.2 , -3.  ],\n",
       "       [ 0.5 , -3.  ,  3.  ]])"
      ]
     },
     "execution_count": 48,
     "metadata": {},
     "output_type": "execute_result"
    }
   ],
   "source": [
    "1 / w1 * A1 + 1 / w2 * A2 + 1 / w3 * A3"
   ]
  },
  {
   "cell_type": "markdown",
   "metadata": {},
   "source": [
    "### 대칭행렬의 고유값 부호\n",
    "\n",
    "대칭행렬이 위와 같이 랭크-1 행렬의 합으로 표시되고 고유벡터가 서로 직교한다는 성질을 이용하면 다음 정리를 증명할 수 있다.\n",
    "\n",
    "[정리] 대칭행렬이 양의 정부호(positive definite)이면 고유값은 모두 양수다. 역도 성립한다.\n",
    "\n",
    "[정리] 대칭행렬이 양의 준정부호(positive semidefinite)이면 고유값은 모두 0이거나 양수다. 역도 성립한다.\n",
    "\n",
    "여기에서는 첫 번째 정리만 증명해보자. 두 번째 정리도 비슷한 방법으로 증명할 수 있다.\n",
    "\n",
    "대칭행렬은 랭크-1 행렬의 합으로 표시된다고 하였다."
   ]
  },
  {
   "cell_type": "markdown",
   "metadata": {},
   "source": [
    "\\begin{align}\n",
    "A = \\sum_{i=1}^{N} {\\lambda_i} v_i v_i^T\n",
    "\\end{align}"
   ]
  },
  {
   "cell_type": "markdown",
   "metadata": {},
   "source": [
    "만약 대칭행렬이 양의 정부호이면 어떤 벡터  𝑥 를 행렬  𝐴 의 앞뒤에 곱해 이차형식을 만들어도 0보다 커야 하므로  𝑗 번째 고유벡터  𝑥=𝑣𝑗 를 선택하여 곱해도 마찬가지다.\n",
    "\n",
    "\\begin{align}\n",
    "v_j^TAv_j > 0\n",
    "\\end{align}"
   ]
  },
  {
   "cell_type": "markdown",
   "metadata": {},
   "source": [
    "그런데 대칭행렬은 고유벡터들이 서로 직교한다.\n",
    "\\begin{align}\n",
    "v_i^Tv_j = 0 \\; (\\text{if } i \\neq j)\n",
    "\\end{align}"
   ]
  },
  {
   "cell_type": "markdown",
   "metadata": {},
   "source": [
    "\\begin{align}\n",
    "v_i^Tv_i^{} = 1\n",
    "\\end{align}"
   ]
  },
  {
   "cell_type": "markdown",
   "metadata": {},
   "source": [
    "따라서 \n",
    "\\begin{align}\n",
    "v_j^TAv_j \n",
    "= v_j^T \\left( \\sum_{i=1}^{N} {\\lambda_i} v_i v_i^T \\right) v_j \n",
    "= \\sum_{i=1}^{N} {\\lambda_i} v_j^Tv_i v_i^Tv_j = \\lambda_j \n",
    "> 0\n",
    "\\end{align}"
   ]
  },
  {
   "cell_type": "markdown",
   "metadata": {},
   "source": [
    "이므로 양수인 고유값만 가진다.\n",
    "\n",
    "반대로 대칭행렬의 고유값이 모두 양수이면 그 행렬은 양의 정부호가 됨을 증명하자. 우선 고유분해로 만들어진 랭크-1 행렬  $A_i = v_iv_i^T$ 는 양의 준정부호(positive semidefinite)임을 증명할 수 있다.\n",
    "\\begin{align}\n",
    "x^T A_i x = x^T v_iv_i^T x = (x^T v_i)(x^T v_i)^T = (x^T v_i)(x^T v_i) = \\| x^T v_i \\| ^2 \\geq 0\n",
    "\\end{align}"
   ]
  },
  {
   "cell_type": "markdown",
   "metadata": {},
   "source": [
    "이 식에서  𝑥 가  𝑣𝑖 와 수직(orthogonal)인 경우에만 0이 된다는 것을 알 수 있다. 고유값  𝜆𝑖 가 모두 양수이므로 따라서 행렬  𝜆𝑖𝐴𝑖 를 모두 더한 행렬  $\\lambda_1 A_1 + \\cdots + \\lambda_N A_N$ 도 양의 준정부호다."
   ]
  },
  {
   "cell_type": "markdown",
   "metadata": {},
   "source": [
    "\\begin{aligned}\n",
    "x^TAx \n",
    "&= \\lambda_1 x^TA_1x + \\cdots + \\lambda_N x^TA_Nx \\\\\n",
    "&= \\lambda_1 \\| x^T v_1 \\| ^2 + \\cdots + \\lambda_N \\| x^T v_N \\| ^2 \\geq 0 \\\\\n",
    "\\end{aligned}"
   ]
  },
  {
   "cell_type": "markdown",
   "metadata": {},
   "source": [
    "그런데 이 값은 실제로는 0이 될 수 없다. 왜나하면 이 값이 0이려면 모든  𝑥𝑇𝑣𝑖 가 0, 다시 말해  𝑥 와 모든  𝑣𝑖 가 직교해야 하는데 대칭행렬의 고유벡터의 집합은  𝑁  차원에서 기저벡터를 이루기 때문에 동시에 모든 기저벡터와 수직인 벡터는 존재하지 않기 때문이다. 따라서 양의 정부호다."
   ]
  },
  {
   "cell_type": "markdown",
   "metadata": {},
   "source": [
    "### 공분산행렬\n",
    "임의의 실수 행렬  𝑋 에 대해  $X^TX$ 인 정방행렬을 공분산행렬(covariance matrix)이라고 한다. 공분산행렬의 의미는 확률 분포에서 더 자세하게 공부할 것이다. 일단은 위와 같은 방법으로 계산되는 행렬을 가리키는 명칭이라는 것만 알아두자.\n",
    "\n",
    "공분산행렬에 대해서는 다음 정리가 성립한다."
   ]
  },
  {
   "cell_type": "markdown",
   "metadata": {},
   "source": [
    "[정리] 공분산행렬은 양의 준정부호(positive semidefinite)이고 고윳값은 0보다 같거나 크다."
   ]
  },
  {
   "cell_type": "markdown",
   "metadata": {},
   "source": [
    "임의의 영벡터가 아닌 벡터 𝑥 에 대해 공분산행렬에 대한 이차형식을 구하면\n",
    "\\begin{align}\n",
    "x^T(X^TX)x = (Xx)^T(Xx) = u^Tu \\geq 0\n",
    "\\end{align}"
   ]
  },
  {
   "cell_type": "markdown",
   "metadata": {},
   "source": [
    "로 어떤 벡터  𝑢 의 제곱합이 된다. 따라서 이 값은 0보다 같거나 크고 공분산행렬은 양의 준정부호다."
   ]
  },
  {
   "cell_type": "markdown",
   "metadata": {},
   "source": [
    "### Practice 9\n",
    "(1) 붓꽃(Iris) 특징데이터 행렬  𝑋 의 공분산행렬을 구하고 이 공분산행렬의 고윳값들을 구하라.\n",
    "\n",
    "(2) 보스턴 집값(Boston House Price) 특징데이터 행렬  𝑋 의 공분산행렬을 구하고 이 공분산행렬의 고윳값들을 구하라."
   ]
  },
  {
   "cell_type": "code",
   "execution_count": 61,
   "metadata": {},
   "outputs": [
    {
     "name": "stdout",
     "output_type": "stream",
     "text": [
      "Iris Plants Database\n",
      "====================\n",
      "\n",
      "Notes\n",
      "-----\n",
      "Data Set Characteristics:\n",
      "    :Number of Instances: 150 (50 in each of three classes)\n",
      "    :Number of Attributes: 4 numeric, predictive attributes and the class\n",
      "    :Attribute Information:\n",
      "        - sepal length in cm\n",
      "        - sepal width in cm\n",
      "        - petal length in cm\n",
      "        - petal width in cm\n",
      "        - class:\n",
      "                - Iris-Setosa\n",
      "                - Iris-Versicolour\n",
      "                - Iris-Virginica\n",
      "    :Summary Statistics:\n",
      "\n",
      "    ============== ==== ==== ======= ===== ====================\n",
      "                    Min  Max   Mean    SD   Class Correlation\n",
      "    ============== ==== ==== ======= ===== ====================\n",
      "    sepal length:   4.3  7.9   5.84   0.83    0.7826\n",
      "    sepal width:    2.0  4.4   3.05   0.43   -0.4194\n",
      "    petal length:   1.0  6.9   3.76   1.76    0.9490  (high!)\n",
      "    petal width:    0.1  2.5   1.20  0.76     0.9565  (high!)\n",
      "    ============== ==== ==== ======= ===== ====================\n",
      "\n",
      "    :Missing Attribute Values: None\n",
      "    :Class Distribution: 33.3% for each of 3 classes.\n",
      "    :Creator: R.A. Fisher\n",
      "    :Donor: Michael Marshall (MARSHALL%PLU@io.arc.nasa.gov)\n",
      "    :Date: July, 1988\n",
      "\n",
      "This is a copy of UCI ML iris datasets.\n",
      "http://archive.ics.uci.edu/ml/datasets/Iris\n",
      "\n",
      "The famous Iris database, first used by Sir R.A Fisher\n",
      "\n",
      "This is perhaps the best known database to be found in the\n",
      "pattern recognition literature.  Fisher's paper is a classic in the field and\n",
      "is referenced frequently to this day.  (See Duda & Hart, for example.)  The\n",
      "data set contains 3 classes of 50 instances each, where each class refers to a\n",
      "type of iris plant.  One class is linearly separable from the other 2; the\n",
      "latter are NOT linearly separable from each other.\n",
      "\n",
      "References\n",
      "----------\n",
      "   - Fisher,R.A. \"The use of multiple measurements in taxonomic problems\"\n",
      "     Annual Eugenics, 7, Part II, 179-188 (1936); also in \"Contributions to\n",
      "     Mathematical Statistics\" (John Wiley, NY, 1950).\n",
      "   - Duda,R.O., & Hart,P.E. (1973) Pattern Classification and Scene Analysis.\n",
      "     (Q327.D83) John Wiley & Sons.  ISBN 0-471-22361-1.  See page 218.\n",
      "   - Dasarathy, B.V. (1980) \"Nosing Around the Neighborhood: A New System\n",
      "     Structure and Classification Rule for Recognition in Partially Exposed\n",
      "     Environments\".  IEEE Transactions on Pattern Analysis and Machine\n",
      "     Intelligence, Vol. PAMI-2, No. 1, 67-71.\n",
      "   - Gates, G.W. (1972) \"The Reduced Nearest Neighbor Rule\".  IEEE Transactions\n",
      "     on Information Theory, May 1972, 431-433.\n",
      "   - See also: 1988 MLC Proceedings, 54-64.  Cheeseman et al\"s AUTOCLASS II\n",
      "     conceptual clustering system finds 3 classes in the data.\n",
      "   - Many, many more ...\n",
      "\n"
     ]
    }
   ],
   "source": [
    "from sklearn.datasets import load_iris, load_boston\n",
    "iris = load_iris()\n",
    "print(iris.DESCR)"
   ]
  },
  {
   "cell_type": "code",
   "execution_count": 55,
   "metadata": {},
   "outputs": [
    {
     "data": {
      "text/plain": [
       "(150, 4)"
      ]
     },
     "execution_count": 55,
     "metadata": {},
     "output_type": "execute_result"
    }
   ],
   "source": [
    "iris.data.shape"
   ]
  },
  {
   "cell_type": "code",
   "execution_count": 56,
   "metadata": {},
   "outputs": [
    {
     "data": {
      "text/plain": [
       "(150,)"
      ]
     },
     "execution_count": 56,
     "metadata": {},
     "output_type": "execute_result"
    }
   ],
   "source": [
    "iris.target.shape"
   ]
  },
  {
   "cell_type": "code",
   "execution_count": 59,
   "metadata": {},
   "outputs": [
    {
     "data": {
      "text/plain": [
       "array([[5223.85, 2670.98, 3484.25, 1127.65],\n",
       "       [2670.98, 1427.05, 1673.91,  531.53],\n",
       "       [3484.25, 1673.91, 2583.  ,  868.97],\n",
       "       [1127.65,  531.53,  868.97,  302.3 ]])"
      ]
     },
     "execution_count": 59,
     "metadata": {},
     "output_type": "execute_result"
    }
   ],
   "source": [
    "# iris 공분산 행렬\n",
    "X = iris.data\n",
    "cov_matrix = X.T @ X  # 4 X 4 matrix\n",
    "cov_matrix"
   ]
  },
  {
   "cell_type": "code",
   "execution_count": 60,
   "metadata": {},
   "outputs": [
    {
     "data": {
      "text/plain": [
       "array([9.20653060e+03, 3.14103073e+02, 1.20360193e+01, 3.53031167e+00])"
      ]
     },
     "execution_count": 60,
     "metadata": {},
     "output_type": "execute_result"
    }
   ],
   "source": [
    "# iris 공분산 행렬 고유값 \n",
    "w, V = np.linalg.eig(cov_matrix)\n",
    "w"
   ]
  },
  {
   "cell_type": "code",
   "execution_count": 62,
   "metadata": {},
   "outputs": [
    {
     "data": {
      "text/plain": [
       "(506, 13)"
      ]
     },
     "execution_count": 62,
     "metadata": {},
     "output_type": "execute_result"
    }
   ],
   "source": [
    "# boston 집값\n",
    "boston = load_boston()\n",
    "X = boston.data\n",
    "X.shape"
   ]
  },
  {
   "cell_type": "code",
   "execution_count": 65,
   "metadata": {},
   "outputs": [
    {
     "data": {
      "text/plain": [
       "array([[4.38569076e+04, 4.68702660e+02, 3.22980952e+04, 6.48084600e+01,\n",
       "        1.21872317e+03, 1.07573611e+04, 1.67566980e+05, 3.44639556e+03,\n",
       "        4.08786651e+04, 1.16641321e+06, 3.62695518e+04, 4.99024691e+05,\n",
       "        3.70286187e+04],\n",
       "       [4.68702660e+02, 3.40029000e+05, 2.09030900e+04, 2.70000000e+02,\n",
       "        2.48444175e+03, 3.87184670e+04, 2.05485400e+05, 3.82992940e+04,\n",
       "        2.29180000e+04, 1.72295450e+06, 9.61321500e+04, 2.23960499e+06,\n",
       "        3.80196800e+04],\n",
       "       [3.22980952e+04, 2.09030900e+04, 8.65256299e+04, 4.45170000e+02,\n",
       "        3.43239536e+03, 3.44618165e+04, 4.49313490e+05, 1.62206733e+04,\n",
       "        7.17656500e+04, 2.72134904e+06, 1.06875320e+05, 1.89702529e+06,\n",
       "        8.62407050e+04],\n",
       "       [6.48084600e+01, 2.70000000e+02, 4.45170000e+02, 3.50000000e+01,\n",
       "        2.07699000e+01, 2.28186000e+02, 2.71250000e+03, 1.06039800e+02,\n",
       "        3.26000000e+02, 1.35190000e+04, 6.12200000e+02, 1.30549100e+04,\n",
       "        3.93460000e+02],\n",
       "       [1.21872317e+03, 2.48444175e+03, 3.43239536e+03, 2.07699000e+01,\n",
       "        1.62470380e+02, 1.75151941e+03, 2.04522016e+04, 9.70389866e+02,\n",
       "        2.99183590e+03, 1.21170623e+05, 5.20395546e+03, 9.80793458e+04,\n",
       "        3.79832520e+03],\n",
       "       [1.07573611e+04, 3.87184670e+04, 3.44618165e+04, 2.28186000e+02,\n",
       "        1.75151941e+03, 2.02345982e+04, 2.15670176e+05, 1.22216807e+04,\n",
       "        2.97190270e+04, 1.28073972e+06, 5.84159728e+04, 1.13838092e+06,\n",
       "        3.86817880e+04],\n",
       "       [1.67566980e+05, 2.05485400e+05, 4.49313490e+05, 2.71250000e+03,\n",
       "        2.04522016e+04, 2.15670176e+05, 2.77961463e+06, 1.09297470e+05,\n",
       "        3.87798200e+05, 1.53787387e+07, 6.48434860e+05, 1.20212117e+07,\n",
       "        5.00191627e+05],\n",
       "       [3.44639556e+03, 3.82992940e+04, 1.62206733e+04, 1.06039800e+02,\n",
       "        9.70389866e+02, 1.22216807e+04, 1.09297470e+05, 9.52676624e+03,\n",
       "        1.37581790e+04, 6.88153759e+05, 3.49048200e+04, 7.13218527e+05,\n",
       "        2.05235399e+04],\n",
       "       [4.08786651e+04, 2.29180000e+04, 7.17656500e+04, 3.26000000e+02,\n",
       "        2.99183590e+03, 2.97190270e+04, 3.87798200e+05, 1.37581790e+04,\n",
       "        8.44300000e+04, 2.64715900e+06, 9.36013000e+04, 1.54504443e+06,\n",
       "        7.64842500e+04],\n",
       "       [1.16641321e+06, 1.72295450e+06, 2.72134904e+06, 1.35190000e+04,\n",
       "        1.21170623e+05, 1.28073972e+06, 1.53787387e+07, 6.88153759e+05,\n",
       "        2.64715900e+06, 9.86731360e+07, 3.89724000e+06, 7.02444962e+07,\n",
       "        2.94434880e+06],\n",
       "       [3.62695518e+04, 9.61321500e+04, 1.06875320e+05, 6.12200000e+02,\n",
       "        5.20395546e+03, 5.84159728e+04, 6.48434860e+05, 3.49048200e+04,\n",
       "        9.36013000e+04, 3.89724000e+06, 1.74713930e+05, 3.31309538e+06,\n",
       "        1.21080909e+05],\n",
       "       [4.99024691e+05, 2.23960499e+06, 1.89702529e+06, 1.30549100e+04,\n",
       "        9.80793458e+04, 1.13838092e+06, 1.20212117e+07, 7.13218527e+05,\n",
       "        1.54504443e+06, 7.02444962e+07, 3.31309538e+06, 6.85805305e+07,\n",
       "        2.16306056e+06],\n",
       "       [3.70286187e+04, 3.80196800e+04, 8.62407050e+04, 3.93460000e+02,\n",
       "        3.79832520e+03, 3.86817880e+04, 5.00191627e+05, 2.05235399e+04,\n",
       "        7.64842500e+04, 2.94434880e+06, 1.21080909e+05, 2.16306056e+06,\n",
       "        1.06762958e+05]])"
      ]
     },
     "execution_count": 65,
     "metadata": {},
     "output_type": "execute_result"
    }
   ],
   "source": [
    "# boston 공분산행렬\n",
    "cov_matrix = X.T @ X\n",
    "cov_matrix  # 13 X 13 matrix"
   ]
  },
  {
   "cell_type": "code",
   "execution_count": 66,
   "metadata": {},
   "outputs": [],
   "source": [
    "# boston-eigen value\n",
    "w, V = np.linalg.eig(cov_matrix)"
   ]
  },
  {
   "cell_type": "code",
   "execution_count": 67,
   "metadata": {},
   "outputs": [
    {
     "data": {
      "text/plain": [
       "array([1.58386709e+08, 1.18745103e+07, 4.17001266e+05, 1.61639824e+05,\n",
       "       2.54459038e+04, 1.47784872e+04, 8.20397215e+03, 6.06369812e+03,\n",
       "       4.23933872e+03, 6.06399788e+02, 3.27459730e+02, 3.04173223e+01,\n",
       "       2.19305704e+00])"
      ]
     },
     "execution_count": 67,
     "metadata": {},
     "output_type": "execute_result"
    }
   ],
   "source": [
    "w"
   ]
  },
  {
   "cell_type": "markdown",
   "metadata": {},
   "source": [
    "### 공분산행렬의 역행렬"
   ]
  },
  {
   "cell_type": "markdown",
   "metadata": {},
   "source": [
    "공분산행렬에서는 다음 정리가 성립한다.\n",
    "\n",
    "[정리] 행렬  𝑋 가 풀랭크이면 이 행렬의 공분산행렬  $X^TX$ 의 역행렬이 존재한다."
   ]
  },
  {
   "cell_type": "markdown",
   "metadata": {},
   "source": [
    "행렬  𝑋 가 풀랭크이면  𝑋 의 열벡터가 기저벡터를 이루기 때문에 영벡터가 아닌 모든 벡터  𝑣 에 대해  𝑋𝑣=𝑢 는 영벡터가 될 수 없다. (만약 영벡터  𝑢 를 만드는 영벡터가 아닌  𝑣 가 존재한다면 서로 독립이 아니다.) 그러면  $X^TX$ 의 이차형식은 항상 양수가 된다."
   ]
  },
  {
   "cell_type": "markdown",
   "metadata": {},
   "source": [
    "\\begin{align}\n",
    "v^T(X^TX)v = (Xv)^T(Xv) = u^Tu > 0\n",
    "\\end{align}"
   ]
  },
  {
   "cell_type": "markdown",
   "metadata": {},
   "source": [
    "따라서 공분산행렬은 양의 정부호이고 역행렬이 존재한다."
   ]
  },
  {
   "cell_type": "markdown",
   "metadata": {},
   "source": [
    "### 요약: 고유분해의 성질\n",
    "지금까지 나왔던 고유분해와 관련된 정리를 다시 한 번 요약하였다. 이 정리들은 데이터 분석에서 자주 사용되므로 반드시 외워야 한다.\n",
    "\n",
    "𝑁 차원 정방행렬  𝐴 에 대해\n",
    "\n",
    "1. 행렬  𝐴 는  𝑁 개의 고유값-고유벡터를 가진다(복소수인 경우와 중복인 경우를 포함).\n",
    "2. 행렬의 대각합은 모든 고유값의 합과 같다. $\\text{tr}(A) =\\sum_{i=1}^N \\lambda_i$\n",
    "\n",
    "3. 행렬의 행렬식은 모든 고유값의 곱과 같다. $\\det(A)=\\prod_{i=1}^N \\lambda_i$\n",
    "4. 행렬  𝐴 가 대칭행렬이면  𝑁 개의 실수 고유값을 가지며 고유벡터들이 서로 수직(orthogonal)이다.\n",
    "5. 행렬  𝐴 가 대칭행렬이고 고유값이 모두 양수이면 양의 정부호(positive-definite)이고 역행렬이 존재한다. 역도 성립한다.\n",
    "6. 행렬  𝐴 가 어떤 행렬  𝑋 의 공분산행렬  $𝑋^𝑇𝑋$ 이면 0 또는 양의 고유값을 가진다.\n",
    "7. 행렬  𝑋 가 풀랭크이면 공분산행렬  $𝑋^𝑇𝑋$ 은 역행렬이 존재한다."
   ]
  },
  {
   "cell_type": "code",
   "execution_count": null,
   "metadata": {},
   "outputs": [],
   "source": []
  }
 ],
 "metadata": {
  "kernelspec": {
   "display_name": "Python 3",
   "language": "python",
   "name": "python3"
  },
  "language_info": {
   "codemirror_mode": {
    "name": "ipython",
    "version": 3
   },
   "file_extension": ".py",
   "mimetype": "text/x-python",
   "name": "python",
   "nbconvert_exporter": "python",
   "pygments_lexer": "ipython3",
   "version": "3.5.1"
  }
 },
 "nbformat": 4,
 "nbformat_minor": 2
}
