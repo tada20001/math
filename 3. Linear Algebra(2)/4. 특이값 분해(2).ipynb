{
 "cells": [
  {
   "cell_type": "markdown",
   "metadata": {},
   "source": [
    "### 특이값과 특이벡터의 관계\n",
    "\n",
    "행렬  𝐴 의 공분산행렬 $A^TA^{}$ 는\n",
    "\n",
    "\\begin{align}\n",
    "A^TA^{} \n",
    "= (V^{} \\Sigma^T U^T)( U^{}\\Sigma^{} V^T) \n",
    "= V^{} \\Lambda^{} V^T \n",
    "\\end{align}\n",
    "\n",
    "가 되어 행렬  𝐴 의 특이값의 제곱(과 0)이 공분산행렬  $A^TA^{}$ 의 고유값, 행렬  𝐴 의 오른쪽 특이벡터가 공분산행렬  $A^TA^{}$ 의 고유벡터가 된다."
   ]
  },
  {
   "cell_type": "code",
   "execution_count": 1,
   "metadata": {},
   "outputs": [],
   "source": [
    "import numpy as np"
   ]
  },
  {
   "cell_type": "code",
   "execution_count": 2,
   "metadata": {},
   "outputs": [
    {
     "data": {
      "text/plain": [
       "array([[ 3, -1],\n",
       "       [ 1,  3],\n",
       "       [ 1,  1]])"
      ]
     },
     "execution_count": 2,
     "metadata": {},
     "output_type": "execute_result"
    }
   ],
   "source": [
    "A = np.array([[3, -1], [1, 3], [1, 1]])\n",
    "A"
   ]
  },
  {
   "cell_type": "code",
   "execution_count": 3,
   "metadata": {},
   "outputs": [],
   "source": [
    "w, V = np.linalg.eig(A.T @ A)"
   ]
  },
  {
   "cell_type": "code",
   "execution_count": 7,
   "metadata": {},
   "outputs": [
    {
     "data": {
      "text/plain": [
       "array([12., 10.])"
      ]
     },
     "execution_count": 7,
     "metadata": {},
     "output_type": "execute_result"
    }
   ],
   "source": [
    "# 공분산행렬  𝐴𝐴𝑇 의 고유값\n",
    "w"
   ]
  },
  {
   "cell_type": "code",
   "execution_count": 5,
   "metadata": {},
   "outputs": [
    {
     "data": {
      "text/plain": [
       "array([3.46410162, 3.16227766])"
      ]
     },
     "execution_count": 5,
     "metadata": {},
     "output_type": "execute_result"
    }
   ],
   "source": [
    "U, S, VT = np.linalg.svd(A)\n",
    "S"
   ]
  },
  {
   "cell_type": "code",
   "execution_count": 6,
   "metadata": {},
   "outputs": [
    {
     "data": {
      "text/plain": [
       "array([12., 10.])"
      ]
     },
     "execution_count": 6,
     "metadata": {},
     "output_type": "execute_result"
    }
   ],
   "source": [
    "# A의 특이값 제곱\n",
    "S ** 2"
   ]
  },
  {
   "cell_type": "code",
   "execution_count": 9,
   "metadata": {},
   "outputs": [
    {
     "data": {
      "text/plain": [
       "array([[ 0.70710678, -0.70710678],\n",
       "       [ 0.70710678,  0.70710678]])"
      ]
     },
     "execution_count": 9,
     "metadata": {},
     "output_type": "execute_result"
    }
   ],
   "source": [
    "V"
   ]
  },
  {
   "cell_type": "code",
   "execution_count": 13,
   "metadata": {},
   "outputs": [
    {
     "data": {
      "text/plain": [
       "array([[-0.70710678,  0.70710678],\n",
       "       [-0.70710678, -0.70710678]])"
      ]
     },
     "execution_count": 13,
     "metadata": {},
     "output_type": "execute_result"
    }
   ],
   "source": [
    "VT.T  # A의 오른쪽 특이벡터"
   ]
  },
  {
   "cell_type": "markdown",
   "metadata": {},
   "source": [
    "### Practice 3\n",
    "NumPy를 사용하여 행렬  𝐴 의 왼쪽 특이벡터가 공분산행렬  𝐴𝐴𝑇 의 고유벡터가 된다는 것을 보여라.\n",
    "\n",
    "\\begin{align}\n",
    "A = \n",
    "\\begin{bmatrix}\n",
    "3 & -1 \\\\\n",
    "1 & 3 \\\\\n",
    "1 & 1\n",
    "\\end{bmatrix}\n",
    "\\end{align}"
   ]
  },
  {
   "cell_type": "code",
   "execution_count": 15,
   "metadata": {},
   "outputs": [
    {
     "data": {
      "text/plain": [
       "array([[ 3, -1],\n",
       "       [ 1,  3],\n",
       "       [ 1,  1]])"
      ]
     },
     "execution_count": 15,
     "metadata": {},
     "output_type": "execute_result"
    }
   ],
   "source": [
    "A = np.array([[3, -1], [1, 3], [1, 1]])\n",
    "A"
   ]
  },
  {
   "cell_type": "code",
   "execution_count": 17,
   "metadata": {},
   "outputs": [
    {
     "data": {
      "text/plain": [
       "array([12., 10.])"
      ]
     },
     "execution_count": 17,
     "metadata": {},
     "output_type": "execute_result"
    }
   ],
   "source": [
    "w, V = np.linalg.eig(A.T @ A)\n",
    "w # ATA의 고유값"
   ]
  },
  {
   "cell_type": "code",
   "execution_count": 18,
   "metadata": {},
   "outputs": [],
   "source": [
    "U, S, VT = np.linalg.svd(A)"
   ]
  },
  {
   "cell_type": "code",
   "execution_count": 20,
   "metadata": {},
   "outputs": [
    {
     "data": {
      "text/plain": [
       "array([12., 10.])"
      ]
     },
     "execution_count": 20,
     "metadata": {},
     "output_type": "execute_result"
    }
   ],
   "source": [
    "S ** 2 # 특이값 제곱"
   ]
  },
  {
   "cell_type": "code",
   "execution_count": 21,
   "metadata": {},
   "outputs": [
    {
     "data": {
      "text/plain": [
       "array([[ 0.70710678, -0.70710678],\n",
       "       [ 0.70710678,  0.70710678]])"
      ]
     },
     "execution_count": 21,
     "metadata": {},
     "output_type": "execute_result"
    }
   ],
   "source": [
    "V # ATA의 고유벡터"
   ]
  },
  {
   "cell_type": "code",
   "execution_count": 23,
   "metadata": {},
   "outputs": [
    {
     "data": {
      "text/plain": [
       "array([[ 0.70710678, -0.70710678],\n",
       "       [ 0.70710678,  0.70710678]])"
      ]
     },
     "execution_count": 23,
     "metadata": {},
     "output_type": "execute_result"
    }
   ],
   "source": [
    "-VT.T # 오른쪽 특이벡터"
   ]
  },
  {
   "cell_type": "markdown",
   "metadata": {},
   "source": [
    "### 1차원 근사\n",
    "2차원 평면 위에 3개의 2차원 벡터  𝑎1,𝑎2,𝑎3 가 있다. 원점을 지나면서 모든 점들과 가능한 한 가까이 있는 직선을 만들고 싶다면 직선의 방향을 어떻게 해야 할까? 직선의 방향을 나타내는 단위 벡터를  𝑤 라고 하자."
   ]
  },
  {
   "cell_type": "code",
   "execution_count": 31,
   "metadata": {},
   "outputs": [],
   "source": [
    "import matplotlib.pylab as plt\n",
    "import matplotlib as mpl\n",
    "import seaborn as sns\n",
    "\n",
    "mpl.rcParams['axes.unicode_minus'] = False\n",
    "sns.set_style(\"whitegrid\")"
   ]
  },
  {
   "cell_type": "code",
   "execution_count": 38,
   "metadata": {},
   "outputs": [
    {
     "data": {
      "image/png": "[encoded data removed]",
      "text/plain": [
       "<Figure size 648x432 with 1 Axes>"
      ]
     },
     "metadata": {},
     "output_type": "display_data"
    }
   ],
   "source": [
    "w = np.array([2, 1]) / np.sqrt(5)\n",
    "a1 = np.array([3, -1])\n",
    "a2 = np.array([1, 3])\n",
    "a3 = np.array([1, 1])\n",
    "\n",
    "black = {\"facecolor\": \"black\"}\n",
    "\n",
    "plt.figure(figsize=(9, 6))\n",
    "plt.plot(0, 0, 'kP', ms=10)\n",
    "plt.annotate('', xy=w, xytext=(0, 0), arrowprops=black)\n",
    "plt.plot([-2, 8], [-1, 4], 'b--', lw=2)\n",
    "plt.plot([a1[0], 2], [a1[1], 1], 'g:', lw=2)\n",
    "plt.plot([a2[0], 2], [a2[1], 1], 'g:', lw=2)\n",
    "plt.plot([a3[0], 1.2], [a3[1], 0.6], 'g:', lw=2)\n",
    "\n",
    "plt.plot(a1[0], a1[1], 'ro', ms=10)\n",
    "plt.plot(a2[0], a2[1], 'ro', ms=10)\n",
    "plt.plot(a3[0], a3[1], 'ro', ms=10)\n",
    "\n",
    "plt.text(0.1, 0.5, \"$w$\")\n",
    "plt.text(a1[0] + 0.2, a1[1] + 0.2, \"$a_1$\")\n",
    "plt.text(a2[0] + 0.2, a2[1] + 0.2, \"$a_2$\")\n",
    "plt.text(a3[0] - 0.3, a3[1] + 0.2, \"$a_3$\")\n",
    "\n",
    "plt.xticks(np.arange(-3, 15))\n",
    "plt.yticks(np.arange(-1, 5))\n",
    "plt.xlim(-3, 6)\n",
    "plt.ylim(-2, 4)\n",
    "plt.show()"
   ]
  },
  {
   "cell_type": "markdown",
   "metadata": {},
   "source": [
    "벡터  𝑤 와 점  𝑎𝑖 의 거리의 제곱은 다음처럼 계산할 수 있다.\n",
    "\\begin{align}\n",
    "\\Vert a_i^{\\perp w}\\Vert^2 = \\Vert a_i\\Vert^2 - \\Vert a_i^{\\Vert w}\\Vert^2 = \\Vert a_i\\Vert^2 - (a_i^Tw)^2\n",
    "\\end{align}\n",
    "벡터  𝑎1,𝑎2,𝑎3 를 행벡터로 가지는 행렬  𝐴 를 가정하면\n",
    "\\begin{align}\n",
    "A = \\begin{bmatrix} a_1^T \\\\ a_2^T \\\\ a_3^T \\end{bmatrix}\n",
    "\\end{align}"
   ]
  },
  {
   "cell_type": "markdown",
   "metadata": {},
   "source": [
    "행벡터의 놈의 제곱의 합은 행렬의 놈이므로 모든 점들과의 거리의 제곱의 합은 행렬의 놈으로 계산된다.\n",
    "\n",
    "\\begin{aligned}\n",
    "\\sum_{i=1}^3 \\Vert a_i^{\\perp w}\\Vert^2 \n",
    "&= \\sum_{i=1}^3 \\Vert a_i\\Vert^2 - \\sum_{i=1}^3  (a_i^Tw)^2 \\\\\n",
    "&= \\Vert A \\Vert^2 - \\Vert Aw\\Vert^2 \\\\\n",
    "\\end{aligned}"
   ]
  },
  {
   "cell_type": "markdown",
   "metadata": {},
   "source": [
    "점  𝑎𝑖 의 위치가 고정되어 있으므로 행렬  𝐴 의 놈 값은 고정되어 있다. 따라서 이 값이 가장 작아지려면   $‖𝐴𝑤‖^2$ 의 값이 가장 크게 만드는  𝑤 를 찾아야 한다.이 문제는 다음과 같이 수식으로 쓸 수 있다."
   ]
  },
  {
   "cell_type": "markdown",
   "metadata": {},
   "source": [
    "\\begin{align}\n",
    "\\arg\\max_w \\Vert Aw \\Vert^2 \n",
    "\\end{align}"
   ]
  },
  {
   "cell_type": "markdown",
   "metadata": {},
   "source": [
    "### 1차원 근사의 풀이\n",
    "\n",
    "위에서 예로 든 행렬  𝐴∈𝐑3×2 를 특이분해하면 2개의 특이값, 왼쪽/오른쪽 특이벡터를 가진다. 이를 각각 다음처럼 이름붙인다.\n",
    "\n",
    "+ 첫 번째 특잇값:  𝜎1 , 첫 번째 왼쪽 특이벡터  𝑢1∈𝐑3 , 첫 번째 오른쪽 특이벡터  𝑣1∈𝐑2 \n",
    "+ 두 번째 특잇값:  𝜎2 , 두 번째 왼쪽 특이벡터  𝑢2∈𝐑3 , 두 번째 오른쪽 특이벡터  𝑣2∈𝐑2\n",
    "\n",
    "첫 번째 특이값  𝜎1 은 두 번째 특이값  𝜎2 보다 같거나 크다.\n",
    "\\begin{align}\n",
    "\\sigma_1 \\geq \\sigma_2\n",
    "\\end{align}"
   ]
  },
  {
   "cell_type": "markdown",
   "metadata": {},
   "source": [
    "또한 위에서 알아낸 것처럼 A에 오른쪽 특이벡터를 곱하면 왼쪽 특이벡터 방향이 된다.\n",
    "\\begin{align}\n",
    "A v_1 = \\sigma_1 u_1\n",
    "\\end{align}\n",
    "\\begin{align}\n",
    "A v_2 = \\sigma_2 u_2\n",
    "\\end{align}"
   ]
  },
  {
   "cell_type": "markdown",
   "metadata": {},
   "source": [
    "오른쪽 특이벡터  𝑣1,𝑣2 는 서로 직교하므로 (같은 방향이 아니라서) 선형독립이고 2차원 평면공간의 기저벡터가 될 수 있다.\n",
    "\n",
    "우리는  ‖𝐴𝑤‖ 의 값이 가장 크게 만드는  𝑤 를 찾아야 하는데  𝑤 는 2차원 벡터이므로 2차원 평면공간의 기저벡터인  𝑣1,𝑣2 의 선형조합으로 표현할 수 있다."
   ]
  },
  {
   "cell_type": "markdown",
   "metadata": {},
   "source": [
    "\\begin{align}\n",
    "w = w_{1} v_1 + w_{2} v_2\n",
    "\\end{align}"
   ]
  },
  {
   "cell_type": "markdown",
   "metadata": {},
   "source": [
    "이때  ‖𝐴𝑤‖ 의 값은\n",
    "\n",
    "\\begin{aligned}\n",
    "\\Vert Aw\\Vert^2 \n",
    "&= \\Vert A(w_{1} v_1 + w_{2} v_2)\\Vert^2 \\\\\n",
    "&= \\Vert w_{1}Av_1 + w_{2}Av_2 \\Vert^2 \\\\\n",
    "&= \\Vert w_{1} \\sigma_1 u_1 + w_{2} \\sigma_2 u_2 \\Vert^2 \\\\\n",
    "&= \\Vert w_{1} \\sigma_1 u_1 \\Vert^2 + \\Vert w_{2} \\sigma_2 u_2 \\Vert^2 \\;\\; \\text{(orthogonal)} \\\\\n",
    "&= w_{1}^2 \\sigma_1^2 \\Vert  u_1 \\Vert^2 + w_{2}^2 \\sigma_2^2 \\Vert  u_2 \\Vert^2 \\\\\n",
    "&= w_{1}^2 \\sigma_1^2 + w_{2}^2 \\sigma_2^2  \\;\\; \\text{(unit vector)}\\\\\n",
    "\\end{aligned}"
   ]
  },
  {
   "cell_type": "markdown",
   "metadata": {},
   "source": [
    "$\\sigma_1 > \\sigma_2 > 0$이므로  $w_{1}^2 + w_{2}^2 = 1$ 라는 조건을 만족하면서 위 값을 가장 크게 하는  𝑤1,𝑤2 값은\n",
    "\\begin{align}\n",
    "w_{1} = 1, w_{2} = 0\n",
    "\\end{align}\n",
    "\n",
    "이다. 즉, 첫 번째 오른쪽 특이벡터 방향으로 하는 것이다.\n",
    "$$w = v_1$$"
   ]
  },
  {
   "cell_type": "markdown",
   "metadata": {},
   "source": [
    "이때  ‖𝐴𝑤‖ 는 첫 번째 특잇값이 된다.\n",
    "\n",
    "$$\\Vert Aw\\Vert = \\Vert Av_1\\Vert = \\Vert \\sigma_1 u_1\\Vert = \\sigma_1 \\Vert u_1\\Vert = \\sigma_1$$"
   ]
  },
  {
   "cell_type": "markdown",
   "metadata": {},
   "source": [
    "위에서 예로 들었던 행렬\n",
    "\n",
    "$$A = \n",
    "\\begin{bmatrix}\n",
    "3 & -1 \\\\\n",
    "1 & 3 \\\\\n",
    "1 & 1\n",
    "\\end{bmatrix}$$"
   ]
  },
  {
   "cell_type": "markdown",
   "metadata": {},
   "source": [
    "첫 번째 오른쪽 특이벡터 \n",
    "$$v_1 = \n",
    "\\begin{bmatrix}\n",
    "\\frac{\\sqrt{2}}{2} \\\\\n",
    "\\frac{\\sqrt{2}}{2} \\\\\n",
    "\\end{bmatrix}$$"
   ]
  },
  {
   "cell_type": "markdown",
   "metadata": {},
   "source": [
    "가 가장 거리의 합이 작은 방향이 된다. 그리고 이때의 거리의 제곱의 합은 다음과 같다.\n",
    "\n",
    "$$\\Vert A \\Vert^2 - \\Vert Aw\\Vert^2\n",
    "=\\Vert A \\Vert^2 - \\sigma_1^2$$"
   ]
  },
  {
   "cell_type": "code",
   "execution_count": 39,
   "metadata": {},
   "outputs": [
    {
     "data": {
      "text/plain": [
       "array([[ 3, -1],\n",
       "       [ 1,  3],\n",
       "       [ 1,  1]])"
      ]
     },
     "execution_count": 39,
     "metadata": {},
     "output_type": "execute_result"
    }
   ],
   "source": [
    "A"
   ]
  },
  {
   "cell_type": "code",
   "execution_count": 40,
   "metadata": {},
   "outputs": [
    {
     "data": {
      "text/plain": [
       "9.999999999999998"
      ]
     },
     "execution_count": 40,
     "metadata": {},
     "output_type": "execute_result"
    }
   ],
   "source": [
    "np.linalg.norm(A) ** 2 - S[0]**2  # ∥A∥2−σ1^2"
   ]
  },
  {
   "cell_type": "code",
   "execution_count": 50,
   "metadata": {},
   "outputs": [
    {
     "data": {
      "image/png": "[encoded data removed]",
      "text/plain": [
       "<Figure size 648x432 with 1 Axes>"
      ]
     },
     "metadata": {},
     "output_type": "display_data"
    }
   ],
   "source": [
    "w = np.array([1, 1]) / np.sqrt(2)\n",
    "a1 = np.array([3, -1])\n",
    "a2 = np.array([1, 3])\n",
    "a3 = np.array([1, 1])\n",
    "\n",
    "black = {\"facecolor\": \"black\"}\n",
    "\n",
    "plt.figure(figsize=(9, 6))\n",
    "plt.plot(0, 0, 'kP', ms=10)\n",
    "plt.annotate('', xy=w, xytext=(0, 0), arrowprops=black)\n",
    "plt.plot([-2, 4], [-2, 4], 'b--', lw=2)\n",
    "plt.plot([a1[0], 1], [a1[1], 1], 'g:', lw=2)\n",
    "plt.plot([a2[0], 2], [a2[1], 2], 'g:', lw=2)\n",
    "plt.plot(a1[0], a1[1], 'ro', ms=10)\n",
    "plt.plot(a2[0], a2[1], 'ro', ms=10)\n",
    "plt.plot(a3[0], a3[1], 'ro', ms=10)\n",
    "plt.text(0.1, 0.5, \"$w$\")\n",
    "plt.text(a1[0] + 0.2, a1[1] + 0.2, \"$a_1$\")\n",
    "plt.text(a2[0] + 0.2, a2[1] + 0.2, \"$a_2$\")\n",
    "plt.text(a3[0] - 0.3, a3[1] + 0.2, \"$a_3$\")\n",
    "plt.xticks(np.arange(-3, 15))\n",
    "plt.yticks(np.arange(-1, 5))\n",
    "plt.xlim(-3, 6)\n",
    "plt.ylim(-2, 4)\n",
    "plt.show()"
   ]
  },
  {
   "cell_type": "markdown",
   "metadata": {},
   "source": [
    "### 일반적인 풀이"
   ]
  },
  {
   "cell_type": "markdown",
   "metadata": {},
   "source": [
    "만약  𝑁=3 이 아니라 일반적인 경우에는 다음과 같이 풀 수 있다.\n",
    "\n",
    "\\begin{aligned}\n",
    "\\Vert Aw \\Vert^2 \n",
    "&= \\sum_{i=1}^{N}  (a_i^Tw)^2 \\\\\n",
    "&= \\sum_{i=1}^{N}  (a_i^Tw)^T(a_i^Tw) \\\\\n",
    "&= \\sum_{i=1}^{N}  w^Ta_ia_i^Tw \\\\\n",
    "&= w^T \\left( \\sum_{i=1}^{N}  a_ia_i^T \\right) w \\\\\n",
    "&= w^T A^TA w \\\\\n",
    "\\end{aligned}"
   ]
  },
  {
   "cell_type": "markdown",
   "metadata": {},
   "source": [
    "공분산행렬의 고유분해 공식을 이용하면,\n",
    "\n",
    "\\begin{aligned}\n",
    "w^T A^TA w \n",
    "&= w^T V \\Lambda V^T w \\\\\n",
    "&= w^T \\left( \\sum_{i=1}^{M}  \\sigma^2_iv_iv_i^T \\right) w \\\\\n",
    "&= \\sum_{i=1}^{M}\\sigma^2_i(w^Tv_i)(v_i^Tw) \\\\\n",
    "&= \\sum_{i=1}^{M}\\sigma^2_i\\Vert v_i^Tw\\Vert^2 \\\\\n",
    "\\end{aligned}"
   ]
  },
  {
   "cell_type": "markdown",
   "metadata": {},
   "source": [
    "이 된다. 이 식에서  𝑀 은 0이 아닌 특이값 개수다.\n",
    "\n",
    "즉, 우리가 풀어야 할 문제는 다음과 같다.\n",
    "\n",
    "\\begin{align}\n",
    "\\arg\\max_w \\Vert Aw \\Vert^2 = \\arg\\max_w \\sum_{i=1}^{M}\\sigma^2_i\\Vert v_i^Tw\\Vert^2 \n",
    "\\end{align}\n",
    "\n",
    "이 값을 가장 크게 하려면  𝑤 를 가장 큰 특이값에 대응하는 오른쪽 고유벡터  𝑣1 으로 해야 한다."
   ]
  },
  {
   "cell_type": "markdown",
   "metadata": {},
   "source": [
    "### 랭크-1 근사문제\n",
    "또  𝑎𝑖 를  𝑤 에 투영한 벡터는\n",
    "\n",
    "$$ a^{\\Vert w}_i = (a_i^Tw)w$$"
   ]
  },
  {
   "cell_type": "markdown",
   "metadata": {},
   "source": [
    "이므로  𝑤  벡터를 이용하면  𝑁 개의  𝑀 차원 벡터  $a_1, a_2, \\cdots, a_N\\;(a_i \\in \\mathbf{R}^M)$ 를 1차원으로 투영(projection)하여 가장 비슷한  𝑁 개의 1차원 벡터  $a^{\\Vert w}_1, a^{\\Vert w}_2, \\cdots, a^{\\Vert w}_N\\;(a^{\\Vert w}_i \\in \\mathbf{R}^1)$ 를 만들 수 있다."
   ]
  },
  {
   "cell_type": "markdown",
   "metadata": {},
   "source": [
    "$$A'=\n",
    "\\begin{bmatrix}\n",
    "\\left(a^{\\Vert w}_1\\right)^T \\\\\n",
    "\\left(a^{\\Vert w}_2\\right)^T \\\\\n",
    "\\vdots \\\\\n",
    "\\left(a^{\\Vert w}_N\\right)^T\n",
    "\\end{bmatrix}\n",
    "=\n",
    "\\begin{bmatrix}\n",
    "a_1^Tw^{}w^T \\\\\n",
    "a_2^Tw^{}w^T \\\\\n",
    "\\vdots \\\\\n",
    "a_N^Tw^{}w^T\n",
    "\\end{bmatrix}\n",
    "=\n",
    "\\begin{bmatrix}\n",
    "a_1^T \\\\\n",
    "a_2^T \\\\\n",
    "\\vdots \\\\\n",
    "a_N^T\n",
    "\\end{bmatrix}\n",
    "w^{}w^T\n",
    "=\n",
    "Aw^{}w^T$$"
   ]
  },
  {
   "cell_type": "markdown",
   "metadata": {},
   "source": [
    "이 답은 원래 행렬  𝐴 에 랭크-1 행렬  𝑤𝑤𝑇 를 곱해서 원래의 행렬  𝐴 와 가장 비슷한 행렬  𝐴′ 을 만드는 문제와 같다.\n",
    "\n",
    "\\begin{align}\n",
    "\\arg\\min_w \\Vert A - A' \\Vert = \\arg\\min_w \\Vert A^{} - A^{}w^{}w^T \\Vert \n",
    "\\end{align}"
   ]
  },
  {
   "cell_type": "markdown",
   "metadata": {},
   "source": [
    "따라서 문제를 랭크-1 근사문제(rank-1 approximation problem)라고도 한다."
   ]
  },
  {
   "cell_type": "markdown",
   "metadata": {},
   "source": [
    "### 𝐾 차원 근사\n",
    "\n",
    "이번에는  𝑁 개의  𝑀 차원 벡터  𝑎1,𝑎2,⋯,𝑎𝑁(𝑎𝑖∈𝐑𝑀) 를 1차원이 아니라 정규직교인 기저벡터  𝑤1,𝑤2,⋯,𝑤𝐾 로 이루어진  𝐾 차원 벡터공간으로 투영하여 가장 비슷한  𝑁 개의  𝐾 차원 벡터  𝑎‖𝑤1,𝑎‖𝑤2,⋯,𝑎‖𝑤𝑁 를 만들기 위한 정규직교 기저벡터  𝑤1,𝑤2,⋯,𝑤𝐾 를 찾는 문제를 생각하자. 이 문제는 랭크- 𝐾  근사문제라고 한다.\n",
    "\n",
    "기저벡터행렬을  𝑊 라고 하자."
   ]
  },
  {
   "cell_type": "markdown",
   "metadata": {},
   "source": [
    "$$W = \\begin{bmatrix} w_1 & w_2 & \\cdots & w_K \\end{bmatrix}$$"
   ]
  },
  {
   "cell_type": "markdown",
   "metadata": {},
   "source": [
    "정규직교 기저벡터에 대한 벡터  𝑎𝑖 의 투영  𝑎‖𝑤𝑖 는 각 기저벡터에 대한 내적으로 만들 수 있다.\n",
    "$$\n",
    "\\begin{aligned}\n",
    "a^{\\Vert w}_i \n",
    "&= \n",
    "(a_i^Tw_1)w_1 +\n",
    "(a_i^Tw_2)w_2 +\n",
    "\\cdots\n",
    "+ (a_i^Tw_K)w_K \\\\\n",
    "\\end{aligned}\n",
    "=\n",
    "\\sum_{k=1}^K (a_i^Tw_k)w_k$$"
   ]
  },
  {
   "cell_type": "markdown",
   "metadata": {},
   "source": [
    "벡터  𝑎1,𝑎2,⋯,𝑎𝑁 를 행벡터로 가지는 행렬  𝐴 를 가정하면\n",
    "\n",
    "$$A = \\begin{bmatrix} a_1^T \\\\ a_2^T \\\\ \\vdots \\\\ a_N^T \\end{bmatrix}$$\n",
    "\n",
    "모든 점들과의 거리의 제곱의 합은 다음과 같이 행렬의 놈으로 계산할 수 있다.\n",
    "\n",
    "\\begin{aligned}\n",
    "\\sum_{i=1}^N \\Vert a_i^{\\perp w}\\Vert^2 \n",
    "&= \\sum_{i=1}^N \\Vert a_i\\Vert^2 - \\sum_{i=1}^N \\Vert a^{\\Vert w}_i\\Vert^2 \\\\\n",
    "&= \\Vert A \\Vert^2 - \\sum_{i=1}^N \\Vert a^{\\Vert w}_i\\Vert^2 \\\\\n",
    "\\end{aligned}"
   ]
  },
  {
   "cell_type": "markdown",
   "metadata": {},
   "source": [
    "행렬  𝐴 는 이미 주어져 있으므로 이 값을 가장 작게 하려면 두 번째 항의 값을 가장 크게 하면 된다. 두 번째 항은 K=1일 때와 같은 방법으로 공분산행렬 형태로 바꿀 수 있다."
   ]
  },
  {
   "cell_type": "markdown",
   "metadata": {},
   "source": [
    "\\begin{aligned}\n",
    "\\sum_{i=1}^N \\Vert a^{\\Vert w}_i\\Vert^2 \n",
    "&= \\sum_{i=1}^N \\sum_{k=1}^K \\Vert (a_i^Tw_k)w_k \\Vert^2 \\\\\n",
    "&= \\sum_{i=1}^N \\sum_{k=1}^K \\Vert a_i^Tw_k \\Vert^2 \\\\\n",
    "&= \\sum_{k=1}^K w_k^T A^TA w_k \\\\\n",
    "\\end{aligned}"
   ]
  },
  {
   "cell_type": "markdown",
   "metadata": {},
   "source": [
    "공분산행렬의 고유분해를 사용하면\n",
    "\n",
    "\\begin{aligned}\n",
    "\\sum_{k=1}^K w_k^T A^TA w_k \n",
    "&= \\sum_{k=1}^K w_k^T V \\Lambda V^T w_k \\\\\n",
    "&= \\sum_{k=1}^K w_k^T \\left( \\sum_{i=1}^{M}  \\sigma^2_iv_iv_i^T \\right) w_k \\\\\n",
    "&= \\sum_{k=1}^K \\sum_{i=1}^{M}\\sigma^2_i\\Vert v_i^Tw_k\\Vert^2 \\\\\n",
    "\\end{aligned}"
   ]
  },
  {
   "cell_type": "markdown",
   "metadata": {},
   "source": [
    "이 문제도 1차원 근사문제처럼 풀면 다음과 같은 답을 얻을 수 있다.\n",
    "\n",
    "[정리] 가장 큰  𝐾 개의 특이값에 대응하는 오른쪽 특이벡터가 기저벡터일 때 가장 값이 커진다."
   ]
  },
  {
   "cell_type": "markdown",
   "metadata": {},
   "source": [
    "### 랭크-K 근사문제\n",
    "\n",
    "우리가 찾아야 하는 것은 이 값을 가장 크게 하는 𝐾개의 영벡터가 아닌 직교하는 단위벡터 𝑤𝑘이다. 고유분해의 성질로부터 오른쪽 기저벡터 중 가장 큰 𝐾개의 특잇값에 대응하는 오른쪽 특이벡터가 우리가 찾는 기저벡터가 된다.\n",
    "\n",
    "이 문제는 다음처럼 랭크-𝐾 근사문제의 형태로 만들 수도 있다."
   ]
  },
  {
   "cell_type": "markdown",
   "metadata": {},
   "source": [
    "\\begin{aligned}\n",
    "a^{\\Vert w}_i \n",
    "&= \n",
    "(a_i^Tw_1)w_1 +\n",
    "(a_i^Tw_2)w_2 +\n",
    "\\cdots\n",
    "+ (a_i^Tw_K)w_K \\\\\n",
    "&=\n",
    "\\begin{bmatrix} w_1 & w_2 & \\cdots & w_K \\end{bmatrix}\n",
    "\\begin{bmatrix} a_i^Tw_1 \\\\ a_i^Tw_2 \\\\ \\vdots \\\\ a_i^Tw_K \\end{bmatrix} \\\\\n",
    "&=\n",
    "\\begin{bmatrix} w_1 & w_2 & \\cdots & w_K \\end{bmatrix}\n",
    "\\begin{bmatrix} w_1^T \\\\ w_2^T \\\\ \\vdots \\\\ w_K^T \\end{bmatrix} a_i \\\\\n",
    "&=\n",
    "WW^Ta_i\n",
    "\\end{aligned}"
   ]
  },
  {
   "cell_type": "markdown",
   "metadata": {},
   "source": [
    "이러한 투영벡터를 모아놓은 행렬  𝐴′ 는\n",
    "$$\n",
    "A'=\n",
    "\\begin{bmatrix}\n",
    "\\left(a^{\\Vert w}_1\\right)^T \\\\\n",
    "\\left(a^{\\Vert w}_2\\right)^T \\\\\n",
    "\\vdots \\\\\n",
    "\\left(a^{\\Vert w}_N\\right)^T\n",
    "\\end{bmatrix}\n",
    "=\n",
    "\\begin{bmatrix}\n",
    "a_1^TW^{}W^T \\\\\n",
    "a_2^TW^{}W^T\\\\\n",
    "\\vdots \\\\\n",
    "a_N^TW^{}W^T\n",
    "\\end{bmatrix}\n",
    "=\n",
    "\\begin{bmatrix}\n",
    "a_1^T \\\\\n",
    "a_2^T \\\\\n",
    "\\vdots \\\\\n",
    "a_N^T\n",
    "\\end{bmatrix}\n",
    "W^{}W^T\n",
    "=\n",
    "AW^{}W^T\n",
    "$$"
   ]
  },
  {
   "cell_type": "markdown",
   "metadata": {},
   "source": [
    "따라서 이 문제는 원래 행렬  𝐴 에 랭크-K 행렬  𝑊𝑊𝑇 를 곱해서 원래의 행렬  𝐴 와 가장 비슷한 행렬  𝐴′ 을 만드는 문제와 같다.\n",
    "\n",
    "\\begin{align}\n",
    "\\arg\\min_{w_1,\\cdots,w_K} \\Vert A - AW^{}W^T \\Vert \n",
    "\\end{align}"
   ]
  },
  {
   "cell_type": "code",
   "execution_count": null,
   "metadata": {},
   "outputs": [],
   "source": []
  }
 ],
 "metadata": {
  "kernelspec": {
   "display_name": "Python 3",
   "language": "python",
   "name": "python3"
  },
  "language_info": {
   "codemirror_mode": {
    "name": "ipython",
    "version": 3
   },
   "file_extension": ".py",
   "mimetype": "text/x-python",
   "name": "python",
   "nbconvert_exporter": "python",
   "pygments_lexer": "ipython3",
   "version": "3.5.1"
  }
 },
 "nbformat": 4,
 "nbformat_minor": 2
}
