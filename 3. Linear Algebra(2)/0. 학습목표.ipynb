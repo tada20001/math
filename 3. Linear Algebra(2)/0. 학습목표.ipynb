{
 "cells": [
  {
   "cell_type": "markdown",
   "metadata": {},
   "source": [
    "+ 벡터와 행렬의 연산이 기하학적으로 어떤 의미인지 이해하고 벡터를 투영분해하며 이를 이용하여 직선의 방정식을 벡터 연산으로 나타낼 수 있다.\n",
    "+ 벡터의 선형독립과 벡터공간의 의미를 이해하고 벡터를 벡터공간에 투영시킬 수 있다. 기저벡터가 바뀌었을 때 이에 해당하게 좌표 변환을 할 수 있다.\n",
    "+ 고윳값 분해의 정의를 알고 행렬의 모양과 고윳값의 관계에 대한 성질을 암기한다.\n",
    "+ 특잇값 분해의 정의를 알고 차원축소문제에 어떻게 응용할 수 있는지 이해한다."
   ]
  },
  {
   "cell_type": "code",
   "execution_count": null,
   "metadata": {},
   "outputs": [],
   "source": []
  }
 ],
 "metadata": {
  "kernelspec": {
   "display_name": "Python 3",
   "language": "python",
   "name": "python3"
  },
  "language_info": {
   "codemirror_mode": {
    "name": "ipython",
    "version": 3
   },
   "file_extension": ".py",
   "mimetype": "text/x-python",
   "name": "python",
   "nbconvert_exporter": "python",
   "pygments_lexer": "ipython3",
   "version": "3.5.1"
  }
 },
 "nbformat": 4,
 "nbformat_minor": 2
}
