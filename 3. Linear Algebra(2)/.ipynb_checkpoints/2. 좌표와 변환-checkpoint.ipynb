{
 "cells": [
  {
   "cell_type": "markdown",
   "metadata": {},
   "source": [
    "### 선형종속과 선형독립\n",
    "\n",
    "벡터 집합 $x_1, x_2, \\ldots, x_N$을 이루는 벡터의 선형조합이 영벡터가 되도록 하는 스칼라 계수 $c_1, c_2, \\ldots, c_N$이 존재하면 이 벡터들이 선형종속(linearly dependent)이라고 한다. 단 $c_1 = c_2 = \\cdots = c_N = 0$으로 계수가 모두 0인 경우는 제외한다.\n",
    "\n",
    "\\begin{align}\n",
    "c_1 x_1 + c_2 x_2 + \\cdots + c_N x_N = 0  \n",
    "\\end{align}"
   ]
  },
  {
   "cell_type": "markdown",
   "metadata": {},
   "source": [
    "반대로 벡터들의 선형조합이 0이 되면서 모두 0은 아닌 계수들이 존재하지 않으면 그 벡터들은 $선형독립(linearly independent)$이라고 한다. 선형독립을 논리 기호로 나타내면 다음과 같다."
   ]
  },
  {
   "cell_type": "markdown",
   "metadata": {},
   "source": [
    "\\begin{align}\n",
    "c_1 x_1 + \\cdots + c_N x_N = 0  \\;\\; \\rightarrow \\;\\; c_1 = \\cdots = c_N = 0  \n",
    "\\end{align}"
   ]
  },
  {
   "cell_type": "markdown",
   "metadata": {},
   "source": [
    "왼쪽에서 오른쪽 방향 화살표의 의미는 벡터들의 선형조합이 0이면 반드시 계수들이 모두 0이라는 뜻이다. 선형독립을 다음과 같이 표현하기도 한다. \n",
    "\\begin{align}\n",
    "c_1 x_1 + \\cdots + c_N x_N = 0  \\;\\; \\leftrightarrow \\;\\; c_1 = \\cdots = c_N = 0  \n",
    "\\end{align}\n",
    "\n",
    "오른쪽에서 왼쪽 방향 화살표의 의미는 모든 계수가 0일 때 선형조합이 0이 된다는 뜻이다. 이는 꼭 선형독립이 아니더라도 당연하게 성립한다."
   ]
  },
  {
   "cell_type": "markdown",
   "metadata": {},
   "source": [
    "#### 예제 2.\n",
    "\n",
    "다음 벡터  𝑥1,𝑥2 는 선형독립이다.\n",
    "\\begin{align}\n",
    "x_1 = \\begin{bmatrix} 1 \\\\ 2 \\end{bmatrix}, \\;\\;\n",
    "x_2 = \\begin{bmatrix} 3 \\\\ 3 \\end{bmatrix}\n",
    "\\end{align}"
   ]
  },
  {
   "cell_type": "markdown",
   "metadata": {},
   "source": [
    "벡터  𝑥1 은 두 원소의 크기가 다른데, 벡터  𝑥1 은 두 원소의 크기가 같기 때문에 어떤 계수를 사용해도  $c_1x_1 + c_2x_2 = 0$ 을 만들 수 없다."
   ]
  },
  {
   "cell_type": "markdown",
   "metadata": {},
   "source": [
    "다음 벡터  𝑥1,𝑥2,𝑥3 는 선형종속이다.\n",
    "\\begin{align}\n",
    "x_1 = \\begin{bmatrix} 1 \\\\ 2 \\end{bmatrix}, \\;\\;\n",
    "x_2 = \\begin{bmatrix} 3 \\\\ 3 \\end{bmatrix}, \\;\\;\n",
    "x_3 = \\begin{bmatrix} 5 \\\\ 7 \\end{bmatrix}\n",
    "\\end{align}"
   ]
  },
  {
   "cell_type": "markdown",
   "metadata": {},
   "source": [
    "이는 다음과 같은 식으로 증명할 수 있다.\n",
    "\\begin{align}\n",
    "2x_1  + x_2 - x_3 = 0\n",
    "\\end{align}"
   ]
  },
  {
   "cell_type": "markdown",
   "metadata": {},
   "source": [
    "파이썬으로 계산한 결과도 영벡터이다."
   ]
  },
  {
   "cell_type": "code",
   "execution_count": 1,
   "metadata": {},
   "outputs": [],
   "source": [
    "import numpy as np"
   ]
  },
  {
   "cell_type": "code",
   "execution_count": 2,
   "metadata": {},
   "outputs": [],
   "source": [
    "x1 = np.array([1, 2])\n",
    "x2 = np.array([3, 3])\n",
    "x3 = np.array([5, 7])"
   ]
  },
  {
   "cell_type": "code",
   "execution_count": 3,
   "metadata": {},
   "outputs": [
    {
     "data": {
      "text/plain": [
       "array([0, 0])"
      ]
     },
     "execution_count": 3,
     "metadata": {},
     "output_type": "execute_result"
    }
   ],
   "source": [
    "2 * x1 + x2 - x3"
   ]
  },
  {
   "cell_type": "markdown",
   "metadata": {},
   "source": [
    "### Practice 1\n",
    "다음 벡터들이 선형독립인지 선형종속인지 판별하라. 선형종속이면 영벡터를 만드는 계수값을 찾아라.\n",
    "\n",
    "(1)\n",
    "\\begin{align}\n",
    "x_1 = \\begin{bmatrix}1 \\\\ 0\\end{bmatrix} ,\\;\\;\n",
    "x_2 = \\begin{bmatrix}0 \\\\ 1\\end{bmatrix}\n",
    "\\end{align}\n",
    "(2)\n",
    "\\begin{align}\n",
    "x_1 = \\begin{bmatrix}1 \\\\ 0\\end{bmatrix} ,\\;\\;\n",
    "x_2 = \\begin{bmatrix}-1 \\\\ 1\\end{bmatrix}\n",
    "\\end{align}\n",
    "(3)\n",
    "\\begin{align}\n",
    "x_1 = \\begin{bmatrix}1 \\\\ 2\\end{bmatrix} ,\\;\\;\n",
    "x_2 = \\begin{bmatrix}2 \\\\ 4\\end{bmatrix}\n",
    "\\end{align}"
   ]
  },
  {
   "cell_type": "markdown",
   "metadata": {},
   "source": [
    "### 선형독립과 선형 연립방정식\n",
    "\n",
    "선형독립 관계를 행렬과 벡터의 곱으로 나타낼 수도 있다. 다음 식에서  $𝑐_𝑖$ 는  $𝑥_𝑖$ 에 대한 가중치 계수이고  𝑐 는  $𝑐_𝑖$ 를 원소로 가지는 가중치 벡터이다.  𝑋 는 열벡터  $𝑥_1,𝑥_2,…,𝑥_𝑁$ 를 열로 가지는 행렬이다. 이제부터는 벡터의 집합으로 모두 이런 식으로 행렬로 표시하겠다."
   ]
  },
  {
   "cell_type": "markdown",
   "metadata": {},
   "source": [
    "\\begin{align}\n",
    "c_1 x_1 + \\cdots + c_N x_N =\n",
    "\\begin{bmatrix} x_1 & x_2 & \\cdots & x_N \\end{bmatrix} \n",
    "\\begin{bmatrix} c_1 \\\\ c_2 \\\\ \\vdots \\\\ c_N \\end{bmatrix}\n",
    "= X c\n",
    "\\end{align}"
   ]
  },
  {
   "cell_type": "markdown",
   "metadata": {},
   "source": [
    "따라서 어떤 벡터들이 선형독립인지 아닌지를 알아내는 문제는 선형 연립방정식을 푸는 문제와 같다.\n",
    "\n",
    "\\begin{align}\n",
    "Xc=0 \n",
    "\\end{align}"
   ]
  },
  {
   "cell_type": "markdown",
   "metadata": {},
   "source": [
    "이 연립방정식의 해가 영벡터밖에 없으면 선형독립이다. 만약 영벡터가 아닌 해가 존재하면 선형종속이다. 해가 무한히 많은 경우에는 그 중에 영벡터가 아닌 해가 반드시 존재하므로 선형 종속이다."
   ]
  },
  {
   "cell_type": "markdown",
   "metadata": {},
   "source": [
    "벡터  $𝑥_1,𝑥_2,…,𝑥_𝑁$ 이 선형독립이라는 것을 논리 기호로 나타내면 다음과 같다. 위에서 언급한 선형독립에 대한 정의와 동일하다.\n",
    "\\begin{align}\n",
    "Xc = 0 \\;\\; \\rightarrow \\;\\; c=0 \n",
    "\\end{align}"
   ]
  },
  {
   "cell_type": "markdown",
   "metadata": {},
   "source": [
    "𝑐=0 이면 $𝑋_𝑐=0$은 당연히 성립하므로 다음과 같이 쓰기도 한다."
   ]
  },
  {
   "cell_type": "markdown",
   "metadata": {},
   "source": [
    "\\begin{align}\n",
    "Xc = 0 \\;\\; \\leftrightarrow \\;\\; c=0 \n",
    "\\end{align}"
   ]
  },
  {
   "cell_type": "markdown",
   "metadata": {},
   "source": [
    "### 선형종속인 경우\n",
    "\n",
    "벡터(가중치 벡터)가 선형종속이 되는 대표적인 세 경우를 알아보자. 예측모형을 만들기 위한 특징행렬  𝑋 의 열벡터들이 선형종속이거나 선형종속에 가까운 현상을 다중공선성(multicollinearity)이라고 부른다. 다중공선성이 발생하면 예측의 성능이 나빠지므로 되도록 이러한 경우가 발생하지 않도록 주의해야 한다."
   ]
  },
  {
   "cell_type": "markdown",
   "metadata": {},
   "source": [
    "#### 경우 1: 벡터의 개수(가중치 개수)가 벡터의 차원(행렬 X 행 개수)보다 크면 선형종속이다."
   ]
  },
  {
   "cell_type": "markdown",
   "metadata": {},
   "source": [
    "벡터의 차원보다 벡터의 수가 많으면 그 벡터를 행으로 가지는 행렬  𝑋 의 행의 개수보다 열의 개수가 많다.  이 행렬이 표현하는 연립방정식을 고려하면 미지수의 수가 방정식의 수보다 커서 해가 무한히 많다. 해가 무한히 많다는 것은 영벡터가 아닌 해  𝑐 도 존재한다는 뜻이다. 따라서 그 벡터들은 선형종속이다. \n",
    "\n",
    "반대로 행의 개수가 열의 개수와 같거나 크면 대부분 선형독립이다. 우리가 분석할 대부분의 데이터는 데이터(행)의 수가 특징(열)의 수보다 많기 때문에 여기에 해당한다."
   ]
  },
  {
   "cell_type": "markdown",
   "metadata": {},
   "source": [
    "#### 경우 2: 값이 같은 벡터가 있으면 반드시 선형종속이다.\n",
    "\n",
    "만약  𝑖 번째 벡터  $𝑥_ 𝑖$ 와  𝑗 번째 벡터  $𝑥_𝑗$ 가 같으면  $𝑐_𝑗=−𝑐_𝑖$ 로 놓고 다른  𝑐 값은 모두 0으로 하면\n",
    "\n",
    "\\begin{aligned}\n",
    "&  0 \\cdot x_1 + \\cdots + c_i \\cdot x_i +\\cdots + c_j \\cdot x_j + \\cdots + 0 \\cdot x_N \\\\\n",
    "&=\n",
    "0 \\cdot x_1 + \\cdots + c_i \\cdot x_i +\\cdots + (-c_i) \\cdot x_i + \\cdots + 0 \\cdot x_N \\\\\n",
    "&= 0\n",
    "\\end{aligned}"
   ]
  },
  {
   "cell_type": "markdown",
   "metadata": {},
   "source": [
    "\\begin{align}\n",
    "\\begin{bmatrix} 1 & 5 & 1 \\\\ 3 & 6 & 3 \\\\ 4 & 6 & 4 \\end{bmatrix}\n",
    "\\end{align}"
   ]
  },
  {
   "cell_type": "markdown",
   "metadata": {},
   "source": [
    "벡터  $𝑥_𝑗$ 가 벡터  $𝑥_𝑖$ 의 실수 배인 경우도 마찬가지이다.\n",
    "\n",
    "예측 모형을 위한 특징행렬을 만들 때 실수로 위와 같은 행렬을 만드는 경우가 종종 있다. 우리가 실무에서 다루게 되는 데이터는 그 양이 크기 때문에 엑셀 등으로 한 눈에 볼 수 없는 경우가 많아서 위와 같은 실수를 하는 경우에도 빨리 발견하기 어렵다."
   ]
  },
  {
   "cell_type": "markdown",
   "metadata": {},
   "source": [
    "#### 경우 3: 어떤 벡터가 다른 벡터의 선형조합이면 반드시 선형종속이다."
   ]
  },
  {
   "cell_type": "markdown",
   "metadata": {},
   "source": [
    "예를 들어 벡터 $𝑥_1$ 과 다른 벡터  $𝑥_2$, $𝑥_3$ 사이에 다음 관계가 성립한다고 하자.\n",
    "\n",
    "$𝑥_1 = 2𝑥_2−3𝑥_3$\n",
    " \n",
    "그러면  $c_1=-1, c_2=2, c_3=-3$ 일 때\n",
    "\n",
    "−1⋅$𝑥_1$+2$𝑥_2$−3$𝑥_3$=0\n",
    " \n",
    "이므로 선형종속이다."
   ]
  },
  {
   "cell_type": "markdown",
   "metadata": {},
   "source": [
    "이 경우도 데이터 분석에서 흔히 하는 실수이다. 예를 들어 국어, 영어, 수학 점수를 각각 별도의 데이터로 포함하면서 이 세 점수에 의존하는 총점수나 평균을 다시 데이터로 포함하면 선형종속이 된다."
   ]
  },
  {
   "cell_type": "markdown",
   "metadata": {},
   "source": [
    "### 랭크"
   ]
  },
  {
   "cell_type": "markdown",
   "metadata": {},
   "source": [
    "행렬의 열벡터 중 서로 독립인 열벡터의 최대 개수를 열랭크(column rank)라고 하고 행벡터 중 서로 독립인 행벡터의 최대 개수를 행랭크(row rank)라고 한다. 행랭크와 열랭크에 대해서는 다음 정리가 성립한다."
   ]
  },
  {
   "cell_type": "markdown",
   "metadata": {},
   "source": [
    "[정리] 행랭크와 열랭크는 항상 같다."
   ]
  },
  {
   "cell_type": "markdown",
   "metadata": {},
   "source": [
    "따라서 행 랭크나 열 랭크를 그냥 랭크(rank)라고 하기도 한다. 행렬  𝐴 의 랭크는 기호로  $\\text{rank}A$ 와 같이 표시한다.\n",
    "\n",
    "행랭크는 행의 개수보다 커질 수 없고 열랭크는 열의 개수보다 커질 수 없기 때문에 행의 개수가  𝑁 이고 열의 갯수가  𝑀 인 행렬의 랭크는 행의 개수  𝑁 과 열의 개수  𝑀  중 작은 값보다 커질 수 없다."
   ]
  },
  {
   "cell_type": "markdown",
   "metadata": {},
   "source": [
    "\\begin{align}\n",
    "\\text{rank} A \\leq \\min(M, N)\n",
    "\\end{align}\n",
    "\n",
    "\\begin{align}\n",
    "A \\in \\mathbf{R}^{N \\times M}\n",
    "\\end{align}"
   ]
  },
  {
   "cell_type": "markdown",
   "metadata": {},
   "source": [
    "#### 예제 1.\n",
    "\n",
    "다음 행렬  𝑋1 의 두 열벡터는 선형독립이기 때문에 열랭크는 2이다.\n",
    "\n",
    "\\begin{align}\n",
    "X_1 = \\begin{bmatrix} 1 & 3 \\\\ 2 & 3 \\end{bmatrix}\n",
    "\\end{align}"
   ]
  },
  {
   "cell_type": "markdown",
   "metadata": {},
   "source": [
    "#### 예제 2.\n",
    "다음 행렬  𝑋2 의 세 열벡터는 선형종속이므로 열랭크는 3보다는 작다. 그런데 이 열벡터 중 앞의 두 개는 서로 독립이므로  𝑋2 의 랭크는 2이다.\n",
    "\n",
    "\\begin{align} X_2 = \\begin{bmatrix} 1 & 3 & 5 \\\\ 2 & 3 & 7 \\end{bmatrix} \\end{align}"
   ]
  },
  {
   "cell_type": "markdown",
   "metadata": {},
   "source": [
    "numpy의 linalg 서브 패키지의 matrix_rank 명령으로 랭크를 계산할 수 있다."
   ]
  },
  {
   "cell_type": "code",
   "execution_count": 4,
   "metadata": {},
   "outputs": [
    {
     "data": {
      "text/plain": [
       "2"
      ]
     },
     "execution_count": 4,
     "metadata": {},
     "output_type": "execute_result"
    }
   ],
   "source": [
    "x1 = np.array([[1, 3], [2, 3]])\n",
    "np.linalg.matrix_rank(x1)"
   ]
  },
  {
   "cell_type": "code",
   "execution_count": 5,
   "metadata": {},
   "outputs": [
    {
     "data": {
      "text/plain": [
       "2"
      ]
     },
     "execution_count": 5,
     "metadata": {},
     "output_type": "execute_result"
    }
   ],
   "source": [
    "x2 = np.array([[1, 3, 5], [2, 3, 7]])\n",
    "np.linalg.matrix_rank(x2)"
   ]
  },
  {
   "cell_type": "code",
   "execution_count": 6,
   "metadata": {},
   "outputs": [
    {
     "data": {
      "text/plain": [
       "array([[ 1,  5,  6],\n",
       "       [ 2,  6,  8],\n",
       "       [ 3, 11, 14],\n",
       "       [ 1,  4,  5]])"
      ]
     },
     "execution_count": 6,
     "metadata": {},
     "output_type": "execute_result"
    }
   ],
   "source": [
    "A = np.array([[1, 5, 6], [2, 6, 8], [3, 11, 14], [1, 4, 5]])\n",
    "A"
   ]
  },
  {
   "cell_type": "code",
   "execution_count": 7,
   "metadata": {},
   "outputs": [
    {
     "data": {
      "text/plain": [
       "2"
      ]
     },
     "execution_count": 7,
     "metadata": {},
     "output_type": "execute_result"
    }
   ],
   "source": [
    "np.linalg.matrix_rank(A)"
   ]
  },
  {
   "cell_type": "code",
   "execution_count": 8,
   "metadata": {},
   "outputs": [
    {
     "data": {
      "text/plain": [
       "array([[ 1,  5,  6],\n",
       "       [ 2,  6,  8],\n",
       "       [ 3, 11, 14],\n",
       "       [ 1,  4,  8]])"
      ]
     },
     "execution_count": 8,
     "metadata": {},
     "output_type": "execute_result"
    }
   ],
   "source": [
    "B = np.array([[1, 5, 6], [2, 6, 8], [3, 11, 14], [1, 4, 8]])\n",
    "B"
   ]
  },
  {
   "cell_type": "code",
   "execution_count": 9,
   "metadata": {},
   "outputs": [
    {
     "data": {
      "text/plain": [
       "3"
      ]
     },
     "execution_count": 9,
     "metadata": {},
     "output_type": "execute_result"
    }
   ],
   "source": [
    "np.linalg.matrix_rank(B)"
   ]
  },
  {
   "cell_type": "markdown",
   "metadata": {},
   "source": [
    "### 풀랭크\n",
    "\n",
    "위에서 예로 든 행렬  $𝑋_1$ 나  $𝑋_2$ 처럼 랭크가 행의 개수와 열의 개수 중 작은 값과 같으면 풀랭크(full rank)라고 한다."
   ]
  },
  {
   "cell_type": "markdown",
   "metadata": {},
   "source": [
    "\\begin{align}\n",
    "\\text{rank}A = \\min(M, N) \n",
    "\\end{align}"
   ]
  },
  {
   "cell_type": "markdown",
   "metadata": {},
   "source": [
    "선형독립인 벡터들을 행 또는 열로 가지는 행렬을 만들면 정의에 의해 항상 풀랭크다."
   ]
  },
  {
   "cell_type": "markdown",
   "metadata": {},
   "source": [
    "### Practice 4\n",
    "다음 행렬의 랭크를 구하고 풀랭크인지 아닌지 말하라.\n",
    "\n",
    "(1) \n",
    "\\begin{align}\n",
    "A = \\begin{bmatrix} 1 & 5 & 6 \\\\ 2 & 6 & 8 \\\\ 3 & 11 & 14\\\\ 1 & 4 & 5 \\end{bmatrix}\n",
    "\\end{align}\n",
    "(2)\n",
    "\\begin{align}\n",
    "B = \\begin{bmatrix} 1 & 5 & 6 \\\\ 2 & 6 & 8 \\\\ 3 & 11 & 14\\\\ 1 & 4 & 8 \\end{bmatrix}\n",
    "\\end{align}"
   ]
  },
  {
   "cell_type": "code",
   "execution_count": 10,
   "metadata": {},
   "outputs": [],
   "source": [
    "# A는 풀랭크가 아니고, B는 플랭크이다."
   ]
  },
  {
   "cell_type": "markdown",
   "metadata": {},
   "source": [
    "### 로우-랭크 행렬"
   ]
  },
  {
   "cell_type": "markdown",
   "metadata": {},
   "source": [
    "𝑁 차원 벡터 𝑥 하나를 이용하여 만들어지는 다음과 같은 행렬을 랭크-1 행렬(rank-1 matrix)이라고 한다."
   ]
  },
  {
   "cell_type": "markdown",
   "metadata": {},
   "source": [
    "\\begin{align}\n",
    "xx^T \\in \\mathbf{R}^{N \\times N} \n",
    "\\end{align}"
   ]
  },
  {
   "cell_type": "markdown",
   "metadata": {},
   "source": [
    "이 행렬의 열벡터들은  𝑥 라고 하는 하나의 벡터를  𝑥1 배,  𝑥2 배, ... 한 벡터이므로 독립적인 열벡터는 1개다. 따라서 랭크-1 행렬의 랭크는 1이다.\n",
    "\n",
    "\\begin{aligned}\n",
    "xx^T \n",
    "&= x \\begin{bmatrix} x_1 & x_2 & \\cdots & x_n \\end{bmatrix} \\\\\n",
    "&= \\begin{bmatrix} x_1x & x_2x & \\cdots & x_nx \\end{bmatrix} \n",
    "\\end{aligned}"
   ]
  },
  {
   "cell_type": "markdown",
   "metadata": {},
   "source": [
    "선형독립인 두 개의  𝑁 차원 벡터  𝑥1,𝑥2 를 이용하여 만든 다음과 같은 행렬은 랭크-2 행렬(rank-2 matrix)이라고 한다."
   ]
  },
  {
   "cell_type": "markdown",
   "metadata": {},
   "source": [
    "\\begin{align}\n",
    "\\begin{bmatrix} x_1 & x_2 \\end{bmatrix}\n",
    "\\begin{bmatrix} x_1^T \\\\ x_2^T \\end{bmatrix}\n",
    "= x_1x_1^T + x_2x_2^T\n",
    "\\end{align}"
   ]
  },
  {
   "cell_type": "markdown",
   "metadata": {},
   "source": [
    "앞서와 비슷한 방법으로 랭크-2 행렬의 랭크는 2임을 보일 수 있다.\n",
    "\n",
    "만약  𝑀 개의  𝑁 차원 벡터  𝑥1,𝑥2,⋯,𝑥𝑀 을 이용하면 랭크-M 행렬(rank-M matrix)이 된다.\n",
    "\n",
    "\\begin{align}\n",
    "\\begin{bmatrix} x_1 & x_2 & \\cdots & x_M \\end{bmatrix}\n",
    "\\begin{bmatrix} x_1^T \\\\ x_2^T \\\\ \\vdots \\\\ x_M^T \\end{bmatrix}\n",
    "= x_1x_1^T + x_2x_2^T + \\cdots + x_Mx_M^T\n",
    "= \\sum_{i=1}^M x_ix_i^T\n",
    "\\end{align}"
   ]
  },
  {
   "cell_type": "markdown",
   "metadata": {},
   "source": [
    "이러한 행렬들을 가리켜 로우-랭크 행렬(low-rank matrix)이라고 한다. 로우-랭크 행렬은 나중에 특이분해(singular value decomposition)와 PCA(principal component analysis)에서 사용된다."
   ]
  },
  {
   "cell_type": "markdown",
   "metadata": {},
   "source": [
    "### Practice 5\n",
    "(1) 다음 벡터로 랭크-1 행렬을 만들고 NumPy로 랭크를 계산하여 실제로 1이 나오는지 확인하라.\n",
    "\\begin{align}\n",
    "\\begin{bmatrix}\n",
    "1 \\\\\n",
    "1 \n",
    "\\end{bmatrix}\n",
    "\\end{align}\n",
    "\n",
    "(2) 다음 두 개의 벡터로 랭크-2 행렬을 만들고 NumPy로 랭크를 계산하여 실제로 2가 나오는지 확인하라.\n",
    "\\begin{align}\n",
    "\\begin{bmatrix}\n",
    "1 \\\\\n",
    "1 \n",
    "\\end{bmatrix}\n",
    "\\begin{bmatrix}\n",
    "1 \\\\\n",
    "-1 \n",
    "\\end{bmatrix}\n",
    "\\end{align}"
   ]
  },
  {
   "cell_type": "code",
   "execution_count": 16,
   "metadata": {},
   "outputs": [
    {
     "data": {
      "text/plain": [
       "1"
      ]
     },
     "execution_count": 16,
     "metadata": {},
     "output_type": "execute_result"
    }
   ],
   "source": [
    "x1 = np.array([1, 1])\n",
    "np.linalg.matrix_rank(x1)"
   ]
  },
  {
   "cell_type": "code",
   "execution_count": 15,
   "metadata": {},
   "outputs": [
    {
     "data": {
      "text/plain": [
       "2"
      ]
     },
     "execution_count": 15,
     "metadata": {},
     "output_type": "execute_result"
    }
   ],
   "source": [
    "x2 = np.array([[1, 1],[1, -1]])\n",
    "np.linalg.matrix_rank(x2)"
   ]
  },
  {
   "cell_type": "markdown",
   "metadata": {},
   "source": [
    "### 벡터공간과 기저벡터\n",
    "\n",
    "여러 벡터를 선형조합을 하면 다른 벡터를 만들 수 있다. 벡터 N개가 서로 선형독립이면 이 벡터들을 선형조합하여 만들어지는 모든 벡터의 집합을 벡터공간(vector space)  𝑉 라 하고 이 벡터공간의 차원을  𝑁이라고 한다. 그리고 그 벡터들을 벡터공간의 기저벡터(basis vector) 𝑣 라고 한다."
   ]
  },
  {
   "cell_type": "markdown",
   "metadata": {},
   "source": [
    "\\begin{align}\n",
    "V = \\{ c_1x_1 + \\cdots + c_Nx_N \\; \\vert \\; c_1, \\ldots, c_N \\in \\mathbf{R} \\} \n",
    "\\end{align}"
   ]
  },
  {
   "cell_type": "markdown",
   "metadata": {},
   "source": [
    "벡터공간의 차원(dimension)이 벡터의 차원(길이)가 아니라 기저벡터의 개수로 정의된다는 점에 유의해야 한다.\n",
    "\n",
    "𝑁 차원 벡터 𝑁개 $𝑥_1,𝑥_2,⋯,𝑥_𝑁$이 선형독립인 경우에는 다음 정리가 성립한다."
   ]
  },
  {
   "cell_type": "markdown",
   "metadata": {},
   "source": [
    "[정리]  𝑁 개의  𝑁 차원 벡터  𝑥1,𝑥2,⋯,𝑥𝑁 이 선형독립이면 이를 선형조합하여 𝑁 차원 벡터를 만들 수 있다."
   ]
  },
  {
   "cell_type": "markdown",
   "metadata": {},
   "source": [
    "다음과 같이 증명한다. 임의의 벡터  𝑥 가 있다고 하자. 기저벡터  𝑥1,𝑥2,⋯,𝑥𝑁 와 임의의 벡터 x을 열벡터로 사용하여 만든 행렬\n",
    "\\begin{align}\n",
    "X = \\left[ x_1, x_2, \\cdots, x_N, x \\right]\n",
    "\\end{align}"
   ]
  },
  {
   "cell_type": "markdown",
   "metadata": {},
   "source": [
    "는 크기가  𝑁×(𝑁+1) 이므로 랭크값은  𝑁 보다 커질 수는 없다. 그런데  𝑁 개의 선형독립인 열벡터가 있기 때문에 랭크값은  𝑁 이고 풀랭크다. 따라서 어떠한  𝑁 차원 벡터를 생각하더라도 기저벡터의 조합으로 표현할 수 있다."
   ]
  },
  {
   "cell_type": "markdown",
   "metadata": {},
   "source": [
    "#### 예제 1.\n",
    "다음 벡터의 집합은 선형독립이므로 2차원 벡터공간의 기저벡터이다. 모든 해가 0이기 때문에 선형독립이다."
   ]
  },
  {
   "cell_type": "markdown",
   "metadata": {},
   "source": [
    "\\begin{align}\n",
    "x_1 = \\begin{bmatrix} 1 \\\\ 2 \\end{bmatrix}, \\;\\;\n",
    "x_2 = \\begin{bmatrix} 2 \\\\ 1 \\end{bmatrix}\n",
    "\\end{align}\n",
    "\n",
    "따라서 이 기저벡터  {𝑥1,𝑥2} 를 선형조합하면 어떠한 2차원 벡터도 만들 수 있다."
   ]
  },
  {
   "cell_type": "markdown",
   "metadata": {},
   "source": [
    "#### 예제 2.\n",
    "\n",
    "다음 벡터의 집합은 선형독립이 아니므로 벡터공간의 기저벡터가 되지 않는다. 즉, 벡터의 개수가 벡터의 차원보다 크기 때문에 선형종속이다.\n",
    "\n",
    "\\begin{align}\n",
    "x_1 = \\begin{bmatrix} 1 \\\\ 2 \\end{bmatrix}, \\;\\;\n",
    "x_2 = \\begin{bmatrix} 2 \\\\ 1 \\end{bmatrix}, \\;\\;\n",
    "x_3 = \\begin{bmatrix} 5 \\\\ 7 \\end{bmatrix}\n",
    "\\end{align}"
   ]
  },
  {
   "cell_type": "markdown",
   "metadata": {},
   "source": [
    "#### 예제3. "
   ]
  },
  {
   "cell_type": "markdown",
   "metadata": {},
   "source": [
    "다음 벡터의 집합은 선형독립이므로 벡터공간의 기저벡터이다. 모든 해가 0이기 때문에 선형독립이다.\n",
    "\\begin{align}\n",
    "x_1 = \\begin{bmatrix} 1 \\\\ 2 \\\\ 0 \\end{bmatrix}, \\;\\;\n",
    "x_2 = \\begin{bmatrix} 2 \\\\ 1 \\\\ 0 \\end{bmatrix}\n",
    "\\end{align}"
   ]
  },
  {
   "cell_type": "markdown",
   "metadata": {},
   "source": [
    "하지만 이 벡터공간은 3차원 벡터공간이 아니라 2차원 벡터공간이라고 한다. 예를 들어 이 벡터  𝑥1,𝑥2 를 어떻게 선형조합해도 다음 벡터는 만들 수 없다."
   ]
  },
  {
   "cell_type": "markdown",
   "metadata": {},
   "source": [
    "\\begin{align}\n",
    "c_1x_1 + c_2x_2 = \n",
    "\\begin{bmatrix} 0 \\\\ 0 \\\\ 1 \\end{bmatrix}\n",
    "\\end{align}"
   ]
  },
  {
   "cell_type": "markdown",
   "metadata": {},
   "source": [
    "벡터공간의 차원을 기저벡터의 차원과 다르게 정의하는 이유는 선형독립인 기저벡터를 선형조합했을 때 이렇게 만들어낼 수 없는 벡터들이 존재하기 때문이다."
   ]
  },
  {
   "cell_type": "markdown",
   "metadata": {},
   "source": [
    "### Practice 6\n",
    "(1) 다음 기저벡터  𝑥1,𝑥2 를 선형조합하여 벡터  𝑦1,𝑦2 를 만들어라.\n",
    "\\begin{align}\n",
    "x_1 = \\begin{bmatrix} 1 \\\\ 2 \\end{bmatrix}, \\;\\;\n",
    "x_2 = \\begin{bmatrix} 2 \\\\ 1 \\end{bmatrix}\n",
    "\\end{align}\n",
    "\n",
    "\\begin{align}\n",
    "y_1 = \\begin{bmatrix} 3 \\\\ 3 \\end{bmatrix}, \\;\\;\n",
    "y_2 = \\begin{bmatrix} -1 \\\\ -1 \\end{bmatrix}\n",
    "\\end{align}\n"
   ]
  },
  {
   "cell_type": "markdown",
   "metadata": {},
   "source": [
    "(2) 2차원 벡터공간을 만드는 2차원 기저벡터의 또다른 예를 들어라.\n",
    "\n",
    "(3) 2차원 벡터공간을 만드는 3차원 기저벡터의 또다른 예를 들어라.\n",
    "\n",
    "(4) 3차원 벡터공간을 만드는 3차원 기저벡터의 예를 들어라."
   ]
  },
  {
   "cell_type": "markdown",
   "metadata": {},
   "source": [
    "### Practice 7\n",
    "\n",
    "𝑁 개의 𝑁 차원 벡터  𝑥1,𝑥2,⋯,𝑥𝑁 이 기저벡터이다. 이 벡터  𝑥1,𝑥2,⋯,𝑥𝑁  각각에 대해 모두 수직인 영벡터가 아닌 벡터  𝑥 가 존재하지 않는다는 것을 증명하라."
   ]
  },
  {
   "cell_type": "markdown",
   "metadata": {},
   "source": [
    "### 랭크와 역행렬"
   ]
  },
  {
   "cell_type": "markdown",
   "metadata": {},
   "source": [
    "정방행렬의 랭크와 역행렬 사이에는 다음과 같은 정리가 성립한다.\n",
    "\n",
    "###### [정리] 정방행렬이 풀랭크면 역행렬이 존재한다. 역도 성립한다. 즉, 정방행렬의 역행렬이 존재하면 풀랭크다."
   ]
  },
  {
   "cell_type": "markdown",
   "metadata": {},
   "source": [
    "다음과 같이 증명한다.\n",
    "\n",
    "(1) 정방행렬이 풀랭크이면 역행렬이 존재한다는 것을 증명. \n",
    "\n",
    "정방행렬이 풀랭크이면 선형독립이고 기저벡터가 되므로 어떠한 벡터에 대해서도 그 벡터를 만들 수 있는 선형조합을 생각할 수 있다. 예를 들어 다음과 같은 벡터  𝑒1,⋯,𝑒𝑁 을 만들기 위한 조합  𝑐1,⋯,𝑐𝑁 도 있을 수 있다."
   ]
  },
  {
   "cell_type": "markdown",
   "metadata": {},
   "source": [
    "\\begin{align}\n",
    "Xc_1 = e_1 = \\begin{bmatrix} 1 \\\\ 0 \\\\ \\vdots \\\\ 0 \\end{bmatrix}\n",
    "\\end{align}"
   ]
  },
  {
   "cell_type": "markdown",
   "metadata": {},
   "source": [
    "\\begin{align}\n",
    "Xc_2 = e_2 = \\begin{bmatrix} 0 \\\\ 1 \\\\ \\vdots \\\\ 0 \\end{bmatrix}\n",
    "\\end{align}"
   ]
  },
  {
   "cell_type": "markdown",
   "metadata": {},
   "source": [
    "이 식들을 모으면 다음과 같아진다.\n",
    "\\begin{align}\n",
    "X \\begin{bmatrix} c_1 & c_2 & \\cdots & c_N \\end{bmatrix} = XC = I\n",
    "\\end{align}"
   ]
  },
  {
   "cell_type": "markdown",
   "metadata": {},
   "source": [
    "정방행렬의 경우  𝑋𝐶=𝐼 이면  𝐶𝑋=𝐼 가 성립한다. 따라서\n",
    "\\begin{align}\n",
    "XC = CX = I\n",
    "\\end{align}"
   ]
  },
  {
   "cell_type": "markdown",
   "metadata": {},
   "source": [
    "인 행렬  𝐶 가 존재한다. 이 행렬이 역행렬이다.\n",
    "\n",
    "(2) 역행렬이 존재하면 풀랭크라는 것을 증명. 역행렬이 존재하는 경우에 위 식이 성립한다는 것을 증명하면 된다.\n",
    "\n",
    "(i) 우선 역행렬이 존재하든 말든  𝑐=0 이면  𝑋𝑐=0 는 당연하다."
   ]
  },
  {
   "cell_type": "markdown",
   "metadata": {},
   "source": [
    "(ii) 다음으로 역행렬이 존재할 때  𝑋𝑐=0 이면\n",
    "\\begin{align}\n",
    "X^{-1}Xc = c = 0\n",
    "\\end{align}"
   ]
  },
  {
   "cell_type": "markdown",
   "metadata": {},
   "source": [
    "### 벡터공간 투영"
   ]
  },
  {
   "cell_type": "markdown",
   "metadata": {},
   "source": [
    "𝑀 개의 𝑁차원 기저벡터 𝑣1,𝑣2,⋯,𝑣𝑀 가 존재한다고 하자. 𝑀은 𝑁보다 작다. 이 때 𝑁차원 벡터 𝑥에 대해 기저벡터 𝑣1,𝑣2,⋯,𝑣𝑀를 선형조합하여 만든 벡터 $x^{\\Vert v}$와 원래 벡터 𝑥의 차 $x - x^{\\Vert v}$가 모든 기저벡터에 직교하면 그 벡터 $x^{\\Vert v}$를 𝑣1,𝑣2,⋯,𝑣𝑀 벡터공간에 대한 투영벡터라 하고 차이 벡터 $x - x^{\\Vert v}$=𝑥⊥𝑣를 벡터공간에 대한 직교벡터라 한다."
   ]
  },
  {
   "cell_type": "markdown",
   "metadata": {},
   "source": [
    "\\begin{align}\n",
    "(x - x^{\\Vert V}) \\perp \\{ v_1, v_2, \\cdots, v_M \\} \n",
    "\\end{align}"
   ]
  },
  {
   "cell_type": "markdown",
   "metadata": {},
   "source": [
    "### 정규직교인 기저벡터로 이루어진 벡터공간"
   ]
  },
  {
   "cell_type": "markdown",
   "metadata": {},
   "source": [
    "만약 기저벡터  𝑣1,𝑣2,⋯,𝑣𝑀 가 정규직교(orthonormal)이면 투영벡터  𝑥‖𝑣 는 각 기저벡터에 대한 내적값으로 표현된다."
   ]
  },
  {
   "cell_type": "markdown",
   "metadata": {},
   "source": [
    "\\begin{align}\n",
    "x^{\\Vert V} = (x^Tv_1)v_1 + (x^Tv_2)v_2 + \\cdots + (x^Tv_M)v_M\n",
    "\\end{align}"
   ]
  },
  {
   "cell_type": "markdown",
   "metadata": {},
   "source": [
    "그리고 투영벡터의 길이의 제곱은 각 기저벡터와의 내적의 제곱합이다.\n",
    "\n",
    "\\begin{align}\n",
    "\\Vert x^{\\Vert V} \\Vert^2 = \\sum_{i=1}^M (x^Tv_i)^2 \n",
    "\\end{align}"
   ]
  },
  {
   "cell_type": "markdown",
   "metadata": {},
   "source": [
    "벡터  𝑥 에서 이 벡터  𝑥‖𝑉 를 뺀 벡터  𝑥−𝑥‖𝑉 , 즉 직교벡터  𝑥⊥𝑉 가 기저벡터  𝑣1,𝑣2,⋯,𝑣𝑀 에 모두 직교한다는 것은 다음처럼 증명할 수 있다.\n",
    "\n",
    "\\begin{aligned}\n",
    "v_i^T(x - x^{\\Vert v})\n",
    "&= \n",
    "v_i^Tx -\n",
    "v_i^T \\left( (x^Tv_1)v_1 + (x^Tv_2)v_2 + \\cdots + (x^Tv_M)v_M  \\right) \\\\\n",
    "&=\n",
    "v_i^Tx - \\left( (x^Tv_1)v_i^Tv_1 + (x^Tv_2)v_i^Tv_2 + \\cdots + (x^Tv_M)v_i^Tv_M \\right) \\\\\n",
    "&=\n",
    "v_i^Tx - x^Tv_i \\\\\n",
    "&= 0\n",
    "\\end{aligned}"
   ]
  },
  {
   "cell_type": "markdown",
   "metadata": {},
   "source": [
    "따라서 직교벡터  𝑥⊥𝑉 는 기저벡터  𝑣1,𝑣2,⋯,𝑣𝑀 으로 이루어진 벡터공간의 모든 벡터에 대해 직교한다."
   ]
  },
  {
   "cell_type": "markdown",
   "metadata": {},
   "source": [
    "이 사실로부터 벡터  𝑥 의 프로젝션(투영)  𝑥‖𝑉 은 기저벡터  𝑣1,𝑣2,⋯,𝑣𝑀 으로 이루어진 벡터공간의 모든 벡터 중에서 가장 벡터  𝑥 와 가까운 벡터라는 것도 알 수 있다.\n",
    "\n",
    "기저벡터  𝑣1,𝑣2,⋯,𝑣𝑀 으로 이루어진 벡터공간의 어떤 벡터를  𝑦 라고 하자. 그러면  𝑥‖𝑉 와  𝑦 의 차이 벡터  𝑥‖𝑣−𝑦 도  𝑣1,𝑣2,⋯,𝑣𝑀 으로 이루어진 벡터공간에 존재하므로 직교벡터  𝑥⊥𝑉 와 직교한다."
   ]
  },
  {
   "cell_type": "markdown",
   "metadata": {},
   "source": [
    "\\begin{aligned}\n",
    "\\Vert x - y \\Vert^2 \n",
    "&= \\Vert x - x^{\\Vert V} + (x^{\\Vert V} - y) \\Vert^2 \\\\\n",
    "&= \\Vert x^{\\perp V} + (x^{\\Vert V} - y) \\Vert^2 \\\\\n",
    "&= \\Vert x^{\\perp V} \\Vert^2 + \\Vert (x^{\\Vert V} - y) \\Vert^2 \\\\\n",
    "&\\geq \\Vert x^{\\perp V} \\Vert^2\n",
    "\\end{aligned}"
   ]
  },
  {
   "cell_type": "markdown",
   "metadata": {},
   "source": [
    "### 표준기저벡터"
   ]
  },
  {
   "cell_type": "markdown",
   "metadata": {},
   "source": [
    "기저벡터 중에서도 원소 중 하나만 값이 1이고 다른 값은 0으로 이루어진 다음과 같은 기저벡터를 표준기저벡터(standard basis vector)라고 한다.\n",
    "\n",
    "\\begin{align}\n",
    "e_1 = \\begin{bmatrix} 1 \\\\ 0 \\\\ \\vdots \\\\ 0 \\end{bmatrix}, \\;\\;\n",
    "e_2 = \\begin{bmatrix} 0 \\\\ 1 \\\\ \\vdots \\\\ 0 \\end{bmatrix}, \\;\\; \n",
    "\\cdots,  \\;\\;\n",
    "e_N = \\begin{bmatrix} 0 \\\\ 0 \\\\ \\vdots \\\\ 1 \\end{bmatrix}\n",
    "\\end{align}"
   ]
  },
  {
   "cell_type": "markdown",
   "metadata": {},
   "source": [
    "표준기저벡터를 열로 가지는 행렬은 항등행렬이 된다.\n",
    "\\begin{align}\n",
    "\\begin{bmatrix} e_1 & e_2 & \\cdots & e_N \\end{bmatrix} = I_N\n",
    "\\end{align}"
   ]
  },
  {
   "cell_type": "markdown",
   "metadata": {},
   "source": [
    "### 좌표\n",
    "\n",
    "어떤 벡터의 좌표(coordinate)는 기저벡터를 선형조합하여 그 벡터를 나타내기 위한 계수벡터를 말한다.\n",
    "\n",
    "예를 들어 다음처럼 기저벡터 {𝑒1,𝑒2} 를 선형조합하여 벡터 𝑥 를 나타낼 수 있다고 가정하자."
   ]
  },
  {
   "cell_type": "markdown",
   "metadata": {},
   "source": [
    "\\begin{align}\n",
    "x = x_{e_1} e_1 + x_{e_2} e_2\n",
    "\\end{align}"
   ]
  },
  {
   "cell_type": "markdown",
   "metadata": {},
   "source": [
    "이 때 벡터  𝑥𝑒\n",
    "\n",
    "\\begin{align}\n",
    "x_e = \\begin{bmatrix} x_{e_1} \\\\ x_{e_2} \\end{bmatrix}\n",
    "\\end{align}"
   ]
  },
  {
   "cell_type": "markdown",
   "metadata": {},
   "source": [
    "를 벡터  𝑥 의 기저벡터  {𝑒1,𝑒2} 에 대한 좌표벡터 혹은 간단히 좌표(coordinate)라고 한다. 벡터와 기저벡터 그리고 좌표의 관계는 다음과 같다."
   ]
  },
  {
   "cell_type": "markdown",
   "metadata": {},
   "source": [
    "\\begin{align}\n",
    "x = [ e_1 e_2 ] \\begin{bmatrix} x_{e_1} \\\\ x_{e_2} \\end{bmatrix} = [ e_1 e_2 ] \\; x_e \n",
    "\\end{align}"
   ]
  },
  {
   "cell_type": "markdown",
   "metadata": {},
   "source": [
    "표준기저벡터를 모아놓은 행렬이 항등행렬이기 때문에 표준기저벡터에 대한 벡터의 좌표  𝑥𝑒 는 원래 벡터  𝑥 와 같다. 하지만 같은 벡터라도 다른 기저벡터를 사용하면 좌표가 달라진다. 따라서 하나의 벡터도 기저벡터에 따라 여러 좌표를 가질 수 있다."
   ]
  },
  {
   "cell_type": "code",
   "execution_count": 25,
   "metadata": {},
   "outputs": [],
   "source": [
    "import matplotlib.pylab as plt\n",
    "\n",
    "gray = {\"facecolor\": \"gray\"}\n",
    "black = {\"facecolor\": \"black\"}\n",
    "red = {\"facecolor\": \"red\"}\n",
    "green = {\"facecolor\": \"green\"}\n",
    "blue = {\"facecolor\": \"blue\"}\n",
    "lightgreen = {\"facecolor\": \"lightgreen\"}"
   ]
  },
  {
   "cell_type": "code",
   "execution_count": 59,
   "metadata": {},
   "outputs": [],
   "source": [
    "import seaborn as sns\n",
    "sns.set_style(\"whitegrid\")\n",
    "plt.rcParams['font.size'] = 13"
   ]
  },
  {
   "cell_type": "code",
   "execution_count": 60,
   "metadata": {},
   "outputs": [
    {
     "data": {
      "image/png": "[encoded data removed]",
      "text/plain": [
       "<Figure size 432x288 with 1 Axes>"
      ]
     },
     "metadata": {},
     "output_type": "display_data"
    }
   ],
   "source": [
    "e1 = np.array([1, 0])\n",
    "e2 = np.array([0, 1])\n",
    "x = np.array([2, 2])\n",
    "\n",
    "plt.annotate('', xy=2 * e1, xytext=(0, 0), arrowprops=gray)\n",
    "plt.annotate('', xy=2 * e2, xytext=(0, 0), arrowprops=gray)\n",
    "plt.annotate('', xy=e1, xytext=(0, 0), arrowprops=green)\n",
    "plt.annotate('', xy=e2, xytext=(0, 0), arrowprops=green)\n",
    "plt.annotate('', xy=x, xytext=(0, 0), arrowprops=gray)\n",
    "\n",
    "plt.plot(0, 0, 'ro', ms=10)\n",
    "plt.plot(x[0], x[1], 'ro', ms=10)\n",
    "\n",
    "plt.text(0.5, -0.5, \"e1\")\n",
    "plt.text(-0.5, 0.5, \"e2\")\n",
    "plt.xticks(np.arange(-2, 4))\n",
    "plt.yticks(np.arange(-1, 4))\n",
    "plt.xlim(-1.5, 3.5)\n",
    "plt.ylim(-0.5, 2.5)\n",
    "plt.show()"
   ]
  },
  {
   "cell_type": "markdown",
   "metadata": {},
   "source": [
    "#### 예제 1. \n",
    "다음 기저벡터  {𝑔1,𝑔2} 를 사용하면, \n",
    "\\begin{align}\n",
    "g_1 = \\begin{bmatrix} 1 \\\\ 0 \\end{bmatrix}, \\; g_2 = \\begin{bmatrix} -1 \\\\ 1 \\end{bmatrix}\n",
    "\\end{align}"
   ]
  },
  {
   "cell_type": "markdown",
   "metadata": {},
   "source": [
    "위에 예로 든 벡터  𝑥 는 기저벡터  {𝑔1,𝑔2} 를 다음과 같이 선형조합하여 표현할 수 있다."
   ]
  },
  {
   "cell_type": "markdown",
   "metadata": {},
   "source": [
    "\\begin{align}\n",
    "x = 4 g_1 + 2 g_2  \n",
    "= \\begin{bmatrix} g_1 & g_2 \\end{bmatrix} \\begin{bmatrix} 4 \\\\ 2 \\end{bmatrix} \n",
    "= \\begin{bmatrix} g_1 & g_2 \\end{bmatrix} x_g\n",
    "\\end{align}"
   ]
  },
  {
   "cell_type": "markdown",
   "metadata": {},
   "source": [
    "따라서 기저벡터  {𝑔1,𝑔2} 에 대한  𝑥 의 좌표는 다음과 같다.\n",
    "\n",
    "\\begin{align}\n",
    "x_g = \\begin{bmatrix} 4 \\\\ 2 \\end{bmatrix}\n",
    "\\end{align}"
   ]
  },
  {
   "cell_type": "code",
   "execution_count": 61,
   "metadata": {},
   "outputs": [
    {
     "data": {
      "image/png": "[encoded data removed]",
      "text/plain": [
       "<Figure size 432x288 with 1 Axes>"
      ]
     },
     "metadata": {},
     "output_type": "display_data"
    }
   ],
   "source": [
    "g1 = np.array([1, 0])\n",
    "g2 = np.array([-1, 1])\n",
    "x = np.array([2, 2])\n",
    "\n",
    "plt.annotate('', xy=4 * g1, xytext=(0, 0), arrowprops=lightgreen)\n",
    "plt.annotate('', xy=2 * g2, xytext=(0, 0), arrowprops=lightgreen)\n",
    "plt.annotate('', xy=g1, xytext=(0, 0), arrowprops=green)\n",
    "plt.annotate('', xy=g2, xytext=(0, 0), arrowprops=green)\n",
    "plt.annotate('', xy=x, xytext=(0, 0), arrowprops=gray)\n",
    "\n",
    "plt.plot(0, 0, 'ro', ms=10)\n",
    "plt.plot(x[0], x[1], 'ro', ms=10)\n",
    "\n",
    "plt.text(1.05, 1.35, \"$x$\", fontdict={\"size\": 13})\n",
    "plt.text(-0.4, 0.7, \"$g_2$\", fontdict={\"size\": 13})\n",
    "plt.text(0.5, -0.5, \"$g_1$\", fontdict={\"size\": 13})\n",
    "\n",
    "plt.xticks(np.arange(-10, 10))\n",
    "plt.yticks(np.arange(-10, 10))\n",
    "plt.xlim(-3, 7)\n",
    "plt.ylim(-2, 5)\n",
    "plt.show()"
   ]
  },
  {
   "cell_type": "markdown",
   "metadata": {},
   "source": [
    "#### 변환행렬\n",
    "\n",
    "원래의 기저벡터가 아닌 새로운 기저벡터가 있다고 하자. 이 새로운 기저벡터들의 기존 기저벡터에 대한 좌표를 열벡터로 보고 이를 행렬로 묶은 행렬  𝐴 를 생각하자."
   ]
  },
  {
   "cell_type": "markdown",
   "metadata": {},
   "source": [
    "예를 들어, 기존의 기저벡터가  {𝑒1,𝑒2} 이고 새로운 기저벡터  {𝑔1,𝑔2} 간에 다음과 같은 관계가 성립한다면,\n",
    "\n",
    "\\begin{align}\n",
    "\\begin{aligned}\n",
    "g_1 &=  \\dfrac{1}{\\sqrt{2}} e_1 + \\dfrac{1}{\\sqrt{2}} e_2 \\\\\n",
    "g_2 &= -\\dfrac{1}{\\sqrt{2}} e_1 + \\dfrac{1}{\\sqrt{2}} e_2\n",
    "\\end{aligned}\n",
    "\\end{align}"
   ]
  },
  {
   "cell_type": "markdown",
   "metadata": {},
   "source": [
    "𝑒1 , 𝑒2에 대한 𝑔1, 𝑔2의 좌표벡터는 다음처럼 열벡터로 나타낼 수 있다.\n",
    "\n",
    "\\begin{align}\n",
    "g_{1e} = \n",
    "\\begin{bmatrix} \n",
    "\\dfrac{1}{\\sqrt{2}} \\\\ \\dfrac{1}{\\sqrt{2}} \n",
    "\\end{bmatrix}, \\;\\;\n",
    "g_{2e} = \n",
    "\\begin{bmatrix} \n",
    "-\\dfrac{1}{\\sqrt{2}} \\\\ \\dfrac{1}{\\sqrt{2}} \n",
    "\\end{bmatrix}\n",
    "\\end{align}"
   ]
  },
  {
   "cell_type": "markdown",
   "metadata": {},
   "source": [
    "두 좌표벡터들을 합쳐서 행렬로 표시하면 다음과 같다.\n",
    "\n",
    "\\begin{align}\n",
    "\\begin{bmatrix} g_1 & g_2 \\end{bmatrix}\n",
    "= \\begin{bmatrix} e_1 & e_2 \\end{bmatrix} \\begin{bmatrix} g_{1e} & g_{2e} \\end{bmatrix}\n",
    "= \\begin{bmatrix} e_1 & e_2 \\end{bmatrix} A\n",
    "\\end{align}"
   ]
  },
  {
   "cell_type": "markdown",
   "metadata": {},
   "source": [
    "\\begin{align}\n",
    "A =\n",
    "\\begin{bmatrix} \n",
    "\\dfrac{1}{\\sqrt{2}} & -\\dfrac{1}{\\sqrt{2}} \\\\\n",
    "\\dfrac{1}{\\sqrt{2}} & \\dfrac{1}{\\sqrt{2}} \n",
    "\\end{bmatrix}\n",
    "\\end{align}"
   ]
  },
  {
   "cell_type": "code",
   "execution_count": 68,
   "metadata": {},
   "outputs": [
    {
     "data": {
      "image/png": "[encoded data removed]",
      "text/plain": [
       "<Figure size 432x288 with 1 Axes>"
      ]
     },
     "metadata": {},
     "output_type": "display_data"
    }
   ],
   "source": [
    "e1 = np.array([1, 0])\n",
    "e2 = np.array([0, 1])\n",
    "g1 = np.array([1, 1]) / np.sqrt(2)\n",
    "g2 = np.array([-1, 1]) / np.sqrt(2)\n",
    "\n",
    "plt.annotate('', xy=e1, xytext=(0, 0), arrowprops=green)\n",
    "plt.annotate('', xy=e2, xytext=(0, 0), arrowprops=green)\n",
    "plt.annotate('', xy=g1, xytext=(0, 0), arrowprops=red)\n",
    "plt.annotate('', xy=g2, xytext=(0, 0), arrowprops=red)\n",
    "\n",
    "plt.text(-0.18, 0.5, \"$e_2$\", fontdict={\"size\": 12})\n",
    "plt.text(0.5, -0.2, \"$e_1$\", fontdict={\"size\": 12})\n",
    "plt.text(0.3, 0.5, \"$g_1$\", fontdict={\"size\": 12})\n",
    "plt.text(-0.45, 0.2, \"$g_2$\", fontdict={\"size\": 12})\n",
    "\n",
    "plt.xticks(np.arange(-2, 4))\n",
    "plt.yticks(np.arange(-1, 4))\n",
    "plt.xlim(-1.2, 1.7)\n",
    "plt.ylim(-0.5, 1.3)\n",
    "plt.show()"
   ]
  },
  {
   "cell_type": "markdown",
   "metadata": {},
   "source": [
    "### 좌표변환"
   ]
  },
  {
   "cell_type": "markdown",
   "metadata": {},
   "source": [
    "새로운 기저벡터에 대해 좌표를 계산하는 것을 좌표변환(coordinate transform)이라고 한다.\n",
    "\n",
    "2차원의 경우를 예로 들어보자. 벡터  𝑥 의 기저벡터  {𝑒1,𝑒2} 에 대한 좌표  𝑥𝑒 를 새로운 기저벡터  {𝑔1,𝑔2} 에 대한 좌표  𝑥𝑔 로 변환하고자 한다."
   ]
  },
  {
   "cell_type": "markdown",
   "metadata": {},
   "source": [
    "새로운 기저벡터에 대한 좌푯값이 가리키는 실제 위치는 원래의 벡터가 가리키는 실제 위치와 같아야 되므로\n",
    "\n",
    "\\begin{align}\n",
    "x = x_{e1}e_1 + x_{e2}e_2 = x_{g1} g_1 + x_{g2} g_2  \n",
    "\\end{align}"
   ]
  },
  {
   "cell_type": "markdown",
   "metadata": {},
   "source": [
    "\\begin{align}\n",
    "x \n",
    "= \\begin{bmatrix} e_1 & e_2 \\end{bmatrix} x_e \n",
    "= \\begin{bmatrix} g_1 & g_2 \\end{bmatrix} x_g \n",
    "\\end{align}"
   ]
  },
  {
   "cell_type": "markdown",
   "metadata": {},
   "source": [
    "이 식에\n",
    "\\begin{align}\n",
    "\\begin{bmatrix} g_1 & g_2 \\end{bmatrix}\n",
    "= \\begin{bmatrix} e_1 & e_2 \\end{bmatrix}\n",
    "\\end{align}"
   ]
  },
  {
   "cell_type": "markdown",
   "metadata": {},
   "source": [
    "를 대입하면\n",
    "\\begin{align}\n",
    "x \n",
    "= \\begin{bmatrix} e_1 & e_2 \\end{bmatrix} x_e \n",
    "= \\begin{bmatrix} e_1 & e_2 \\end{bmatrix} A x_g\n",
    "\\end{align}"
   ]
  },
  {
   "cell_type": "markdown",
   "metadata": {},
   "source": [
    "이 된다. 이 식으로부터 다음 식이 성립한다."
   ]
  },
  {
   "cell_type": "markdown",
   "metadata": {},
   "source": [
    "\\begin{align}\n",
    "x_e = A x_g \n",
    "\\end{align}"
   ]
  },
  {
   "cell_type": "markdown",
   "metadata": {},
   "source": [
    "\\begin{align}\n",
    "x_g = A^{-1}x_e = Tx_e\n",
    "\\end{align}"
   ]
  },
  {
   "cell_type": "markdown",
   "metadata": {},
   "source": [
    "이 때  𝐴 의 역행렬  𝑇=𝐴−1 을 변환행렬(transform matrix)이라고 한다."
   ]
  },
  {
   "cell_type": "markdown",
   "metadata": {},
   "source": [
    "#### 예1"
   ]
  },
  {
   "cell_type": "markdown",
   "metadata": {},
   "source": [
    " 벡터  𝑥 의 표준기저벡터에 대한 좌표가 다음과 같다고 하자.\n",
    " \\begin{align}\n",
    " x = 2 e_1 + 2 e_2= \\begin{bmatrix}2 \\\\ 2\\end{bmatrix} = x_e\n",
    " \\end{align}"
   ]
  },
  {
   "cell_type": "markdown",
   "metadata": {},
   "source": [
    "표준기저벡터에 대한 새로운 기저벡터의 좌표가 다음과 같다면\n",
    "\\begin{align}\n",
    "g_{1e} = \\begin{bmatrix} \\dfrac{1}{\\sqrt{2}} \\\\ \\dfrac{1}{\\sqrt{2}} \\end{bmatrix} ,\\;\\;\n",
    "g_{2e} = \\begin{bmatrix} -\\dfrac{1}{\\sqrt{2}} \\\\ \\dfrac{1}{\\sqrt{2}} \\end{bmatrix}\n",
    "\\end{align}"
   ]
  },
  {
   "cell_type": "markdown",
   "metadata": {},
   "source": [
    "새로운 기저벡터에 대한 벡터  𝑎 의 좌표는 위의 공식을 이용하여 다음처럼 계산할 수 있다.\n",
    "\\begin{align}\n",
    "x_g = A^{-1}x_e = \n",
    "\\begin{bmatrix} \n",
    "\\dfrac{1}{\\sqrt{2}} & -\\dfrac{1}{\\sqrt{2}} \\\\\n",
    "\\dfrac{1}{\\sqrt{2}} &  \\dfrac{1}{\\sqrt{2}} \n",
    "\\end{bmatrix}^{-1}\n",
    "\\begin{bmatrix}2 \\\\ 2\\end{bmatrix}\n",
    "=\n",
    "\\begin{bmatrix} \n",
    "\\dfrac{1}{\\sqrt{2}} & \\dfrac{1}{\\sqrt{2}} \\\\\n",
    "-\\dfrac{1}{\\sqrt{2}} & \\dfrac{1}{\\sqrt{2}} \n",
    "\\end{bmatrix}\n",
    "\\begin{bmatrix}2 \\\\ 2\\end{bmatrix} \n",
    "= \\begin{bmatrix}2\\sqrt{2}\\\\0\\end{bmatrix}\n",
    "\\end{align}"
   ]
  },
  {
   "cell_type": "code",
   "execution_count": 77,
   "metadata": {},
   "outputs": [
    {
     "data": {
      "image/png": "[encoded data removed]",
      "text/plain": [
       "<Figure size 432x288 with 1 Axes>"
      ]
     },
     "metadata": {},
     "output_type": "display_data"
    }
   ],
   "source": [
    "e1 = np.array([1, 0])\n",
    "e2 = np.array([0, 1])\n",
    "x = np.array([2, 2])\n",
    "g1 = np.array([1, 1]) / np.sqrt(2)\n",
    "g2 = np.array([-1, 1]) / np.sqrt(2)\n",
    "\n",
    "plt.annotate('', xy=e1, xytext=(0, 0), arrowprops=green)\n",
    "plt.annotate('', xy=e2, xytext=(0, 0), arrowprops=green)\n",
    "plt.annotate('', xy=x, xytext=(0, 0), arrowprops=gray)\n",
    "plt.annotate('', xy=g1, xytext=(0, 0), arrowprops=red)\n",
    "plt.annotate('', xy=g2, xytext=(0, 0), arrowprops=red)\n",
    "\n",
    "plt.plot(0, 0, 'ro', ms=10)\n",
    "plt.plot(x[0], x[1], 'ro', ms=10)\n",
    "\n",
    "plt.text(1.05, 1.35, \"$x$\", fontdict={\"size\": 12})\n",
    "plt.text(-0.3, 0.5, \"$e_2$\", fontdict={\"size\": 12})\n",
    "plt.text(0.5, -0.2, \"$e_1$\", fontdict={\"size\": 12})\n",
    "plt.text(0.2, 0.5, \"$g_1$\", fontdict={\"size\": 12})\n",
    "plt.text(-0.6, 0.2, \"$g_2$\", fontdict={\"size\": 12})\n",
    "\n",
    "plt.xticks(np.arange(-2, 4))\n",
    "plt.yticks(np.arange(-1, 4))\n",
    "plt.xlim(-1.5, 3.5)\n",
    "plt.ylim(-0.5, 3)\n",
    "plt.show()"
   ]
  },
  {
   "cell_type": "markdown",
   "metadata": {},
   "source": [
    "NumPy를 사용하면 다음처럼 계산할 수 있다."
   ]
  },
  {
   "cell_type": "code",
   "execution_count": 78,
   "metadata": {},
   "outputs": [],
   "source": [
    "A = np.vstack([g1, g2]).T"
   ]
  },
  {
   "cell_type": "code",
   "execution_count": 79,
   "metadata": {},
   "outputs": [
    {
     "data": {
      "text/plain": [
       "array([[ 0.70710678, -0.70710678],\n",
       "       [ 0.70710678,  0.70710678]])"
      ]
     },
     "execution_count": 79,
     "metadata": {},
     "output_type": "execute_result"
    }
   ],
   "source": [
    "A"
   ]
  },
  {
   "cell_type": "code",
   "execution_count": 80,
   "metadata": {},
   "outputs": [
    {
     "data": {
      "text/plain": [
       "array([[ 0.70710678,  0.70710678],\n",
       "       [-0.70710678,  0.70710678]])"
      ]
     },
     "execution_count": 80,
     "metadata": {},
     "output_type": "execute_result"
    }
   ],
   "source": [
    "Ainv = np.linalg.inv(A)\n",
    "Ainv"
   ]
  },
  {
   "cell_type": "code",
   "execution_count": 81,
   "metadata": {},
   "outputs": [
    {
     "data": {
      "text/plain": [
       "array([2.82842712, 0.        ])"
      ]
     },
     "execution_count": 81,
     "metadata": {},
     "output_type": "execute_result"
    }
   ],
   "source": [
    "Ainv.dot(x)"
   ]
  },
  {
   "cell_type": "markdown",
   "metadata": {},
   "source": [
    "즉, 새로운 좌표벡터는 원래의 좌표벡터에 변환행렬을 곱하여 구할 수 있다."
   ]
  },
  {
   "cell_type": "markdown",
   "metadata": {},
   "source": [
    "### Practice 8\n",
    "만약 새로운 기저벡터의 좌표가 다음과 같다면 원래의 좌표 (1, 0), (1, 2), (-1, 2)는 각각 어떤 좌푯값이 될지 계산하라.\n",
    "\\begin{align}\n",
    "g_1 = \\begin{bmatrix} 1 \\\\ 0.75 \\end{bmatrix} ,\\;\\;\n",
    "g_2 = \\begin{bmatrix} -1 \\\\ 0.75 \\end{bmatrix}\n",
    "\\end{align}"
   ]
  },
  {
   "cell_type": "code",
   "execution_count": 82,
   "metadata": {},
   "outputs": [
    {
     "data": {
      "text/plain": [
       "array([[ 1.  , -1.  ],\n",
       "       [ 0.75,  0.75]])"
      ]
     },
     "execution_count": 82,
     "metadata": {},
     "output_type": "execute_result"
    }
   ],
   "source": [
    "g1 = np.array([1, 0.75])\n",
    "g2 = np.array([-1, 0.75])\n",
    "A = np.vstack([g1, g2]).T\n",
    "A"
   ]
  },
  {
   "cell_type": "code",
   "execution_count": 83,
   "metadata": {},
   "outputs": [
    {
     "data": {
      "text/plain": [
       "array([[ 0.5       ,  0.66666667],\n",
       "       [-0.5       ,  0.66666667]])"
      ]
     },
     "execution_count": 83,
     "metadata": {},
     "output_type": "execute_result"
    }
   ],
   "source": [
    "Ainv = np.linalg.inv(A)\n",
    "Ainv"
   ]
  },
  {
   "cell_type": "code",
   "execution_count": 86,
   "metadata": {},
   "outputs": [
    {
     "data": {
      "text/plain": [
       "array([ 0.5, -0.5])"
      ]
     },
     "execution_count": 86,
     "metadata": {},
     "output_type": "execute_result"
    }
   ],
   "source": [
    "Ainv.dot(np.array([1, 0]))"
   ]
  },
  {
   "cell_type": "code",
   "execution_count": 85,
   "metadata": {},
   "outputs": [
    {
     "data": {
      "text/plain": [
       "array([1.83333333, 0.83333333])"
      ]
     },
     "execution_count": 85,
     "metadata": {},
     "output_type": "execute_result"
    }
   ],
   "source": [
    "Ainv @ np.array([1, 2])"
   ]
  },
  {
   "cell_type": "code",
   "execution_count": 87,
   "metadata": {},
   "outputs": [
    {
     "data": {
      "text/plain": [
       "array([0.83333333, 1.83333333])"
      ]
     },
     "execution_count": 87,
     "metadata": {},
     "output_type": "execute_result"
    }
   ],
   "source": [
    "Ainv @ np.array([-1, 2])"
   ]
  },
  {
   "cell_type": "markdown",
   "metadata": {},
   "source": [
    "### 이미지 변환\n",
    "새로운 기저벡터에 대한 좌표변환을 응용하면 이미지를 자유롭게 변환할 수도 있다. \n",
    "\n",
    "파이썬에서는 scipy.ndimage 패키지의 affine_transform 명령을 사용한다. 이 명령은 이미지를 이루는 픽셀을 새로운 좌표로 이동시킨다. 인수로는 이미지 데이터와 변환행렬의 역행렬(위에서  𝐴 로 표시한 행렬)을 받는다. 단 파이썬 이미지에서는 다음과 같은 표준기저벡터를 사용하고 (𝑥1 이 아래를 향하는 세로축,  𝑥2 가 오른쪽을 향하는 가로축) 원점이 왼쪽 상단의 점이라는 점에 유의한다."
   ]
  },
  {
   "cell_type": "markdown",
   "metadata": {},
   "source": [
    "\\begin{align}\n",
    "e_1 = \\begin{bmatrix} 0 \\\\ -1 \\end{bmatrix} ,\\;\\;\n",
    "e_2 = \\begin{bmatrix} 1 \\\\ 0 \\end{bmatrix}\n",
    "\\end{align}"
   ]
  },
  {
   "cell_type": "markdown",
   "metadata": {},
   "source": [
    "다음은 위에서 예로 든 기저벡터  {𝑔1,𝑔2} 로 이미지 변환한 예다(그림에서 기저벡터의 크기는 설명을 위해 과장하여 크게 표시하였다)."
   ]
  },
  {
   "cell_type": "code",
   "execution_count": 94,
   "metadata": {},
   "outputs": [],
   "source": [
    "import scipy as sp\n",
    "import scipy.misc\n",
    "import scipy.ndimage\n",
    "import matplotlib.font_manager as fm\n",
    "\n",
    "path = path = '/Library/Fonts/NanumGothic.otf'\n",
    "font_name = fm.FontProperties(fname=path, size=50).get_name()\n",
    "plt.rc('font', family=font_name)"
   ]
  },
  {
   "cell_type": "code",
   "execution_count": 101,
   "metadata": {},
   "outputs": [
    {
     "data": {
      "image/png": "[encoded data removed]",
      "text/plain": [
       "<Figure size 432x288 with 2 Axes>"
      ]
     },
     "metadata": {},
     "output_type": "display_data"
    }
   ],
   "source": [
    "import matplotlib as mpl\n",
    "\n",
    "f = sp.misc.face(gray=True)\n",
    "\n",
    "e1 = np.array([0, 1])  # %matplotlib의 이미지 좌표 규약으로 부호 변경\n",
    "e2 = np.array([1, 0])\n",
    "E = np.vstack([e1, e2]).T\n",
    "g1 = np.array([1, 1]) / np.sqrt(2)\n",
    "g2 = np.array([-1, 1]) / np.sqrt(2)\n",
    "\n",
    "A = np.vstack([g1, g2]).T\n",
    "gc1 = E @ g1\n",
    "gc2 = E @ g2\n",
    "\n",
    "plt.subplot(121)\n",
    "plt.imshow(f, cmap=mpl.cm.bone, alpha=0.9)\n",
    "plt.annotate('', xy=500 * e1, xytext=(0, 0), arrowprops=green)\n",
    "plt.annotate('$e_1$', xy=500 * e1, xytext=500*e1 + [-100, 0])\n",
    "plt.annotate('', xy=500 * e2, xytext=(0, 0), arrowprops=green)\n",
    "plt.annotate('$e_2$', xy=500 * e2, xytext=500*e2 + [-50, 0])\n",
    "plt.annotate('', xy=500 * gc1, xytext=(0, 0), arrowprops=red)\n",
    "plt.annotate('$g_1$', xy=500 * gc1, xytext=500*gc1 + [50, -50])\n",
    "plt.annotate('', xy=500 * gc2, xytext=(0, 0), arrowprops=red)\n",
    "plt.annotate('$g_2$', xy=500 * gc2, xytext=500*gc2 + [50, 0])\n",
    "plt.axis(\"off\")\n",
    "plt.xlim(-200, 1000)\n",
    "plt.ylim(800, -500)\n",
    "plt.title(\"좌표변환 전\")\n",
    "\n",
    "f1 = sp.ndimage.affine_transform(f, A)\n",
    "\n",
    "plt.subplot(122)\n",
    "plt.imshow(f1, cmap=mpl.cm.bone, alpha=0.8)\n",
    "plt.annotate('', xy=500 * e1, xytext=(0, 0), arrowprops=red)\n",
    "plt.annotate('$g_1$', xy=500 * e1, xytext=500*e1 + [-100, 0])\n",
    "plt.annotate('', xy=500 * e2, xytext=(0, 0), arrowprops=red)\n",
    "plt.annotate('$g_2$', xy=500 * e2, xytext=500*e2 + [-50, 0])\n",
    "plt.axis(\"off\")\n",
    "plt.xlim(-200, 1000)\n",
    "plt.ylim(800, -500)\n",
    "plt.title(\"좌표변환 후\")\n",
    "plt.show()"
   ]
  },
  {
   "cell_type": "markdown",
   "metadata": {},
   "source": [
    "### Practice 9\n",
    "다음 기저벡터를 이용하여 앞의 이미지를 변환하라. 변환한 이미지를 만들기 전에 어떤 이미지가 나올지 생각해보자.\n",
    "\\begin{align}\n",
    "g_1 = \\begin{bmatrix} 1 \\\\ 0.75 \\end{bmatrix} ,\\;\\;\n",
    "g_2 = \\begin{bmatrix} -1 \\\\ 0.75 \\end{bmatrix}\n",
    "\\end{align}"
   ]
  },
  {
   "cell_type": "code",
   "execution_count": 103,
   "metadata": {},
   "outputs": [
    {
     "data": {
      "image/png": "[encoded data removed]",
      "text/plain": [
       "<Figure size 432x288 with 1 Axes>"
      ]
     },
     "metadata": {},
     "output_type": "display_data"
    }
   ],
   "source": [
    "g1 = np.array([1, 0.75])\n",
    "g2 = np.array([-1, 0.75])\n",
    "A = np.vstack([g1, g2]).T\n",
    "\n",
    "f2 = sp.ndimage.affine_transform(f, A)\n",
    "plt.imshow(f2, cmap=mpl.cm.bone, alpha=0.8)\n",
    "plt.axis(\"off\")\n",
    "plt.show()"
   ]
  },
  {
   "cell_type": "code",
   "execution_count": null,
   "metadata": {},
   "outputs": [],
   "source": []
  }
 ],
 "metadata": {
  "kernelspec": {
   "display_name": "Python 3",
   "language": "python",
   "name": "python3"
  },
  "language_info": {
   "codemirror_mode": {
    "name": "ipython",
    "version": 3
   },
   "file_extension": ".py",
   "mimetype": "text/x-python",
   "name": "python",
   "nbconvert_exporter": "python",
   "pygments_lexer": "ipython3",
   "version": "3.5.1"
  }
 },
 "nbformat": 4,
 "nbformat_minor": 2
}
