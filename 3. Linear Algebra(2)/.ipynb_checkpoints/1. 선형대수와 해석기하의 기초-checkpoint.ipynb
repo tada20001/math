{
 "cells": [
  {
   "cell_type": "markdown",
   "metadata": {},
   "source": [
    "### 벡터의 기하학적 의미\n",
    "\n",
    "𝑁 차원 벡터(vector) 𝑎는 𝑁차원의 공간에서\n",
    "+ 벡터  𝑎 의 값으로 표시되는 점(point) 또는\n",
    "+ 원점과 벡터  𝑎 의 값으로 표시되는 점을 연결한 화살표(arrow)\n",
    "\n",
    "라고 생각할 수 있다.\n",
    "\n",
    "예를 들어 2차원 벡터  𝑎=[𝑎1𝑎2]𝑇 는 2차원 공간에서  𝑥  좌표가  𝑎1 ,  𝑦  좌표가  𝑎2 인 점으로 생각할 수도 있고 또는 원점에서 이 점을 가리키는 화살표로 생각할 수도 있다. 벡터를 화살표로 생각하는 경우에는 길이와 방향을 고정시킨 채 평행이동할 수 있다."
   ]
  },
  {
   "cell_type": "code",
   "execution_count": 32,
   "metadata": {},
   "outputs": [],
   "source": [
    "import numpy as np\n",
    "import matplotlib.pylab as plt\n",
    "import seaborn as sns\n",
    "import matplotlib.font_manager as fm\n",
    "import matplotlib as mpl\n",
    "\n",
    "plt.rcParams['font.size'] = 14 \n",
    "#plt.rc(\"font\", size=18) # 그림의 폰트 크기 18로 고정 not working !!\n",
    "gray = {\"facecolor\": \"gray\"}\n",
    "black = {\"facecolor\": \"black\"}\n",
    "red = {\"facecolor\": \"red\"}\n",
    "green = {\"facecolor\": \"green\"}\n",
    "blue = {\"facecolor\": \"blue\"}\n",
    "sns.set_style(\"whitegrid\")\n",
    "\n",
    "path = \"/Library/Fonts/NanumGothic.otf\"\n",
    "font_name = fm.FontProperties(fname=path, size=16).get_name()\n",
    "\n",
    "plt.rc('font', family=font_name)\n",
    "\n",
    "# 그래프에서 마이너스 폰트 깨지는 문제에 대한 대처\n",
    "mpl.rcParams['axes.unicode_minus'] = False"
   ]
  },
  {
   "cell_type": "code",
   "execution_count": 33,
   "metadata": {},
   "outputs": [
    {
     "data": {
      "image/png": "[encoded data removed]",
      "text/plain": [
       "<Figure size 432x288 with 1 Axes>"
      ]
     },
     "metadata": {},
     "output_type": "display_data"
    }
   ],
   "source": [
    "a = np.array([1, 2])\n",
    "plt.plot(0, 0, 'kP', ms=20)\n",
    "plt.plot(a[0], a[1], 'ro', ms=20)\n",
    "plt.annotate('', xy=[-0.6, 1.6], xytext=(0.2, 0.7), arrowprops=gray)\n",
    "plt.annotate('', xy=a, xytext=(0, 0), arrowprops=black)\n",
    "plt.annotate('', xy=a + [-1, 1], xytext=(-1, 1), arrowprops=black)\n",
    "plt.annotate('', xy=a + [-1, 1], xytext=(-1, 1), arrowprops=black)\n",
    "plt.text(0.35, 1.15, \"$a$\")\n",
    "plt.text(1.15, 2.25, \"$(1,2)$\")\n",
    "plt.text(-1.2, 0.6, \"평행이동\")\n",
    "plt.xticks(np.arange(-2, 4))\n",
    "plt.yticks(np.arange(-1, 4))\n",
    "plt.xlim(-2.4, 3.4)\n",
    "plt.ylim(-0.8, 3.4)\n",
    "plt.grid(True)\n",
    "plt.show()"
   ]
  },
  {
   "cell_type": "markdown",
   "metadata": {},
   "source": [
    "### 벡터의 길이\n",
    "벡터  𝑎 의 길이는 놈(norm)  ‖𝑎‖ 으로 정의한다.\n",
    "\n",
    "\\begin{align}\n",
    "\\| a \\| = \\sqrt{a^T a } = \\sqrt{a_1^2 + \\cdots + a_N^2}\n",
    "\\end{align}"
   ]
  },
  {
   "cell_type": "markdown",
   "metadata": {},
   "source": [
    "numpy의 linalg 서브 패키지의 norm 명령으로 벡터의 길이를 계산할 수 있다. 위에서 예로 든 2차원 벡터  𝑎=[𝑎1𝑎2]𝑇 의 길이는  √‾5≈2.236 이다."
   ]
  },
  {
   "cell_type": "code",
   "execution_count": 34,
   "metadata": {},
   "outputs": [
    {
     "data": {
      "text/plain": [
       "2.23606797749979"
      ]
     },
     "execution_count": 34,
     "metadata": {},
     "output_type": "execute_result"
    }
   ],
   "source": [
    "np.linalg.norm(a)"
   ]
  },
  {
   "cell_type": "code",
   "execution_count": 35,
   "metadata": {},
   "outputs": [
    {
     "data": {
      "text/plain": [
       "2.23606797749979"
      ]
     },
     "execution_count": 35,
     "metadata": {},
     "output_type": "execute_result"
    }
   ],
   "source": [
    "np.linalg.norm([1, 2])"
   ]
  },
  {
   "cell_type": "markdown",
   "metadata": {},
   "source": [
    "### 스칼라와 벡터의 곱"
   ]
  },
  {
   "cell_type": "markdown",
   "metadata": {},
   "source": [
    "양의 실수와 벡터를 곱하면 벡터의 방향은 변하지 않고 실수의 크기만큼 벡터의 길이가 커진다. 만약 음의 실수를 곱하면 벡터의 방향이 반대가 된다."
   ]
  },
  {
   "cell_type": "code",
   "execution_count": 50,
   "metadata": {},
   "outputs": [
    {
     "data": {
      "image/png": "[encoded data removed]",
      "text/plain": [
       "<Figure size 432x288 with 1 Axes>"
      ]
     },
     "metadata": {},
     "output_type": "display_data"
    }
   ],
   "source": [
    "a = np.array([1, 2])\n",
    "b = 2 * a # 스칼라와 벡터의 곱 형태\n",
    "c = -a # 음의 실수 곱한 형태\n",
    "\n",
    "plt.annotate('', xy=b, xytext=(0, 0), arrowprops=red)\n",
    "plt.text(0.8, 3.1, \"$2a$\")\n",
    "plt.text(2.2, 3.8, \"$(2, 4)$\")\n",
    "plt.annotate('', xy=a, xytext=(0, 0), arrowprops=gray)\n",
    "plt.text(0.1, 1.3, \"$a$\")\n",
    "plt.text(1.1, 1.4, \"$(1, 2)$\")\n",
    "plt.plot(c[0], c[1], 'ro', ms=10)\n",
    "plt.annotate('', xy=c, xytext=(0, 0), arrowprops=blue)\n",
    "plt.text(-1.3, -0.8, \"$-a$\")\n",
    "plt.text(-3, -2.5, \"$(-1, -2)$\")\n",
    "plt.plot(0, 0, 'kP', ms=20)\n",
    "plt.xticks(np.arange(-5, 6))\n",
    "plt.yticks(np.arange(-5, 6))\n",
    "plt.xlim(-4.4, 5.4)\n",
    "plt.ylim(-3.2, 5.2)\n",
    "plt.show()"
   ]
  },
  {
   "cell_type": "markdown",
   "metadata": {},
   "source": [
    "### 단위벡터\n",
    "\n",
    "길이가 1인 벡터를 단위벡터(unit vector)라고 한다. 예를 들어 다음과 같은 벡터들은 모두 단위벡터다."
   ]
  },
  {
   "cell_type": "markdown",
   "metadata": {},
   "source": [
    "\\begin{align}\n",
    "\\label{1234.5678}\n",
    "a = \\begin{bmatrix}1 \\\\ 0\\end{bmatrix} ,\\;\\;\n",
    "b = \\begin{bmatrix}0 \\\\ 1\\end{bmatrix} ,\\;\\;\n",
    "c = \\begin{bmatrix} \\dfrac{1}{\\sqrt{2}} \\\\ \\dfrac{1}{\\sqrt{2}} \\end{bmatrix}\n",
    "\\end{align}"
   ]
  },
  {
   "cell_type": "markdown",
   "metadata": {},
   "source": [
    "영벡터가 아닌 임의의 벡터  𝑥 에 대해 다음의 벡터는 벡터  𝑥 와 같은 방향을 가리키는 단위벡터가 된다.\n",
    "\\begin{align}\n",
    "\\dfrac{x}{\\| x \\|}\n",
    "\\end{align}"
   ]
  },
  {
   "cell_type": "code",
   "execution_count": 51,
   "metadata": {},
   "outputs": [
    {
     "data": {
      "text/plain": [
       "(1.0, 1.0, 0.9999999999999999)"
      ]
     },
     "execution_count": 51,
     "metadata": {},
     "output_type": "execute_result"
    }
   ],
   "source": [
    "a = np.array([1, 0])\n",
    "b = np.array([0, 1])\n",
    "c= np.array([1/np.sqrt(2), 1/np.sqrt(2)])\n",
    "np.linalg.norm(a), np.linalg.norm(b), np.linalg.norm(c)"
   ]
  },
  {
   "cell_type": "markdown",
   "metadata": {},
   "source": [
    "### 벡터의 합\n",
    "벡터와 벡터의 합도 벡터가 된다. 이때 두 벡터의 합은 그 두 벡터를 이웃하는 변으로 가지는 평행사변형의 대각선 벡터가 된다."
   ]
  },
  {
   "cell_type": "markdown",
   "metadata": {},
   "source": [
    "\\begin{align}\n",
    "a = \\begin{bmatrix}1 \\\\ 2\\end{bmatrix} ,\\;\\;\n",
    "b = \\begin{bmatrix}2 \\\\ 1\\end{bmatrix} \\;\\;\\; \\rightarrow \\;\\;\\;\n",
    "c = a + b = \\begin{bmatrix}3 \\\\ 3\\end{bmatrix}\n",
    "\\end{align}"
   ]
  },
  {
   "cell_type": "code",
   "execution_count": 67,
   "metadata": {},
   "outputs": [
    {
     "data": {
      "image/png": "[encoded data removed]",
      "text/plain": [
       "<Figure size 432x288 with 1 Axes>"
      ]
     },
     "metadata": {},
     "output_type": "display_data"
    }
   ],
   "source": [
    "a = np.array([1, 2])\n",
    "b = np.array([2, 1])\n",
    "c = a + b\n",
    "\n",
    "plt.annotate('', xy=a, xytext=(0, 0), arrowprops=gray)\n",
    "plt.annotate('', xy=b, xytext=(0, 0), arrowprops=gray)\n",
    "plt.annotate('', xy=c, xytext=(0, 0), arrowprops=black)\n",
    "plt.plot(0, 0, 'kP', ms=10)\n",
    "plt.plot(a[0], a[1], 'ro', ms=10)\n",
    "plt.plot(b[0], b[1], 'ro', ms=10)\n",
    "plt.plot(c[0], c[1], 'ro', ms=10)\n",
    "plt.plot([a[0], c[0]], [a[1], c[1]], 'k--')\n",
    "plt.plot([b[0], c[0]], [b[1], c[1]], 'k--')\n",
    "plt.text(0.35, 1.15, \"$a$\")\n",
    "plt.text(1.1, 0.3, \"$b$\")\n",
    "plt.text(1.5, 1.1, \"$c$\")\n",
    "plt.xticks(np.arange(-2, 5))\n",
    "plt.yticks(np.arange(-1, 4))\n",
    "plt.xlim(-1.4, 4.4)\n",
    "plt.ylim(-0.6, 3.8)\n",
    "plt.show()"
   ]
  },
  {
   "cell_type": "markdown",
   "metadata": {},
   "source": [
    "또는 벡터를 더하고자 하는 벡터의 끝점으로 평행이동 가리키는 점의 위치로 생각할 수도 있다."
   ]
  },
  {
   "cell_type": "code",
   "execution_count": 69,
   "metadata": {},
   "outputs": [
    {
     "data": {
      "image/png": "[encoded data removed]",
      "text/plain": [
       "<Figure size 432x288 with 1 Axes>"
      ]
     },
     "metadata": {},
     "output_type": "display_data"
    }
   ],
   "source": [
    "a = np.array([1, 2])\n",
    "b = np.array([2, 1])\n",
    "c = a + b\n",
    "\n",
    "plt.annotate('', xy=b, xytext=(0, 0), arrowprops=gray)\n",
    "plt.annotate('', xy=c, xytext=b, arrowprops=gray)\n",
    "plt.annotate('', xy=c, xytext=(0, 0), arrowprops=black)\n",
    "plt.plot(0, 0, 'kP', ms=10)\n",
    "plt.plot(b[0], b[1], 'ro', ms=10)\n",
    "plt.plot(c[0], c[1], 'ro', ms=10)\n",
    "plt.text(2.45, 1.55, \"$a$\")\n",
    "plt.text(1.25, 0.25, \"$b$\")\n",
    "plt.text(1.25, 1.45, \"$c$\")\n",
    "plt.xticks(np.arange(-2, 5))\n",
    "plt.yticks(np.arange(-1, 4))\n",
    "plt.xlim(-1.4, 4.4)\n",
    "plt.ylim(-0.6, 3.8)\n",
    "plt.show()"
   ]
  },
  {
   "cell_type": "markdown",
   "metadata": {},
   "source": [
    "벡터의 선형조합\n",
    "\n",
    "지금까지 벡터의 스칼라곱이 어떤 새로운 벡터가 되고 두 벡터의 합이 어떤 새로운 벡터가 되는지 살펴보았다. 여러 개의 벡터를 스칼라곱을 한 후 더한 것을 선형조합(linear combination)이라고 한다."
   ]
  },
  {
   "cell_type": "markdown",
   "metadata": {},
   "source": [
    "\\begin{align}\n",
    "c_1x_1 + c_2x_2 + \\cdots + c_Nx_N\n",
    "\\end{align}"
   ]
  },
  {
   "cell_type": "markdown",
   "metadata": {},
   "source": [
    "이 식에서  𝑐1,⋯,𝑐𝑁 은 스칼라 계수다."
   ]
  },
  {
   "cell_type": "code",
   "execution_count": 70,
   "metadata": {},
   "outputs": [
    {
     "data": {
      "image/png": "[encoded data removed]",
      "text/plain": [
       "<Figure size 432x288 with 1 Axes>"
      ]
     },
     "metadata": {},
     "output_type": "display_data"
    }
   ],
   "source": [
    "x1 = np.array([1, 2])\n",
    "x2 = np.array([2, 1])\n",
    "x3 = 0.5 * x1 + x2\n",
    "plt.annotate('', xy=0.5*x1, xytext=(0, 0), arrowprops=gray)\n",
    "plt.annotate('', xy=x2, xytext=(0, 0), arrowprops=gray)\n",
    "plt.annotate('', xy=x3, xytext=(0, 0), arrowprops=black)\n",
    "plt.plot(0, 0, 'kP', ms=10)\n",
    "plt.plot(x1[0], x1[1], 'ro', ms=10)\n",
    "plt.plot(x2[0], x2[1], 'ro', ms=10)\n",
    "plt.plot(x3[0], x3[1], 'ro', ms=10)\n",
    "plt.plot([x1[0], 0], [x1[1], 0], 'k--')\n",
    "plt.text(0.6, 2.0, \"$x_1$\")\n",
    "plt.text(-0.5, 0.5, \"$0.5x_1$\")\n",
    "plt.text(1.15, 0.25, \"$x_2$\")\n",
    "plt.text(2.5, 1.6, \"$0.5x_1 + x_2$\")\n",
    "plt.xticks(np.arange(-2, 5))\n",
    "plt.yticks(np.arange(-1, 4))\n",
    "plt.xlim(-1.4, 4.4)\n",
    "plt.ylim(-0.6, 3.8)\n",
    "plt.show()"
   ]
  },
  {
   "cell_type": "markdown",
   "metadata": {},
   "source": [
    "### Practice 1\n",
    "\n",
    "벡터  𝑥1 ,  𝑥2 가 다음과 같을 때,  𝑐1𝑥1+𝑐2𝑥2 가 다음 벡터와 같아지는 선형조합 계수  𝑐1,𝑐2 를 찾아라. (힌트: 연립방정식의 해를 이용한다.)\n",
    "\n",
    "\\begin{align}\n",
    "x_1 = \\begin{bmatrix}1 \\\\ 2\\end{bmatrix} ,\\;\\;\n",
    "x_2 = \\begin{bmatrix}2 \\\\ 1\\end{bmatrix}\n",
    "\\end{align}\n",
    "\n",
    "(1)\n",
    "\\begin{align} c_1x_1 + c_2x_2 = \\begin{bmatrix}3 \\\\ 1\\end{bmatrix}\\end{align}\n",
    "\n",
    "(2)\n",
    "\\begin{align} c_1x_1 + c_2x_2 = \\begin{bmatrix} -1 \\\\ -1\\end{bmatrix}\\end{align}"
   ]
  },
  {
   "cell_type": "markdown",
   "metadata": {},
   "source": [
    "### 벡터의 차\n",
    "\n",
    "벡터의 차  𝑎−𝑏=𝑐 는 벡터  𝑏 가 가리키는 점으로부터 벡터  𝑎 가 가리키는 점을 연결하는 벡터다. 그 이유는 벡터  𝑏 에 벡터  𝑎−𝑏 를 더하면, 즉 벡터  𝑏 와 벡터  𝑎−𝑏 를 연결하면 벡터  𝑎 가 되어야 하기 때문이다."
   ]
  },
  {
   "cell_type": "markdown",
   "metadata": {},
   "source": [
    "\\begin{align}\n",
    "a - b = c\n",
    "\\end{align}\n",
    "\\begin{align}\n",
    "b + c = b + (a-b) = a\n",
    "\\end{align}"
   ]
  },
  {
   "cell_type": "code",
   "execution_count": 82,
   "metadata": {},
   "outputs": [
    {
     "data": {
      "image/png": "[encoded data removed]",
      "text/plain": [
       "<Figure size 432x288 with 1 Axes>"
      ]
     },
     "metadata": {},
     "output_type": "display_data"
    }
   ],
   "source": [
    "a = np.array([1, 2])\n",
    "b = np.array([2, 1])\n",
    "c = a - b\n",
    "plt.annotate('', xy=a, xytext=(0, 0), arrowprops=gray)\n",
    "plt.annotate('', xy=b, xytext=(0, 0), arrowprops=gray)\n",
    "plt.annotate('', xy=a, xytext=b, arrowprops=black)\n",
    "plt.plot(0, 0, 'kP', ms=10)\n",
    "plt.plot(a[0], a[1], 'ro', ms=10)\n",
    "plt.plot(b[0], b[1], 'ro', ms=10)\n",
    "plt.text(0.35, 1.15, \"$a$\")\n",
    "plt.text(1.15, 0.35, \"$b$\")\n",
    "plt.text(1.5, 1.55, \"$a-b$\")\n",
    "plt.xticks(np.arange(-2, 4))\n",
    "plt.yticks(np.arange(-1, 4))\n",
    "plt.xlim(-0.8, 2.5)\n",
    "plt.ylim(-0.8, 2.5)\n",
    "plt.show()"
   ]
  },
  {
   "cell_type": "markdown",
   "metadata": {},
   "source": [
    "### Word2Vec (중요 !!)"
   ]
  },
  {
   "cell_type": "markdown",
   "metadata": {},
   "source": [
    "나중에 인공신경망 부분에서 공부하게 될 word2vec 방법을 이용하면 단어(word)를 공간에서 점 또는 벡터(vector)로 표현할 수 있다. word2vec으로 만들어진 벡터는 단어의 의미에 따라 다음과 같이 평행사변형 관계를 가질 수 있다."
   ]
  },
  {
   "cell_type": "markdown",
   "metadata": {},
   "source": [
    "\\begin{align}\n",
    "\\text{일본} = \\text{도쿄} + (\\text{한국} - \\text{서울}) \n",
    "\\end{align}"
   ]
  },
  {
   "cell_type": "markdown",
   "metadata": {},
   "source": [
    "한국 - 서울은 서울에서 한국으로 향하는 벡터다. 즉 의미론적으로 수도 이름을 나라 이름으로 바꾸는 행위(action)에 비유할 수 있다. 이러한 행위를 도쿄에 대해서 적용한 결과가 도쿄 + (한국 - 서울)이다. word2vec 학습 결과에서 이렇게 계산한 위치에 가장 가까이 있는 단어를 찾으면 도쿄가 나온다."
   ]
  },
  {
   "cell_type": "code",
   "execution_count": 102,
   "metadata": {},
   "outputs": [
    {
     "data": {
      "image/png": "[encoded data removed]",
      "text/plain": [
       "<Figure size 432x288 with 1 Axes>"
      ]
     },
     "metadata": {},
     "output_type": "display_data"
    }
   ],
   "source": [
    "a = np.array([2, 2])  # Seoul\n",
    "b = np.array([3, 4])  # Korea\n",
    "c = np.array([4, 1])  # Tokyo\n",
    "d = a + (c - a)  # Tokyo\n",
    "e = b + (c - a)  # Japan\n",
    "\n",
    "plt.annotate('', xy=b, xytext=a, arrowprops=black)\n",
    "plt.annotate('', xy=e, xytext=d, arrowprops=black)\n",
    "plt.annotate('', xy=c, xytext=[0, 0], arrowprops=gray)\n",
    "plt.plot(0, 0, 'kP', ms=10)\n",
    "plt.plot(a[0], a[1], 'ro', ms=10)\n",
    "plt.plot(b[0], b[1], 'ro', ms=10)\n",
    "plt.plot(d[0], d[1], 'ro', ms=10)\n",
    "plt.text(1.0, 1.8, \"서울\")\n",
    "plt.text(3.2, 4.3, \"한국\")\n",
    "plt.text(4.0, 0.3, \"도쿄\")\n",
    "plt.text(5.0, 3.3, \"일본\")\n",
    "plt.xticks(np.arange(-1, 7))\n",
    "plt.yticks(np.arange(-1, 6))\n",
    "plt.xlim(-1.5, 6.5)\n",
    "plt.ylim(-0.5, 5.5)\n",
    "plt.show()"
   ]
  },
  {
   "cell_type": "markdown",
   "metadata": {},
   "source": [
    "### Practice 2\n",
    "남자배우, 여자배우, 남자, 여자, 이렇게 4가지 단어에 대응하는 4개의 벡터에 대해 위와 같은 관계가 성립한다고 가정하자. 다음 식을 완성하라.\n",
    "\n",
    "\n",
    "남자배우 = 여자배우 + ?  : (남자 - 여자)"
   ]
  },
  {
   "cell_type": "markdown",
   "metadata": {},
   "source": [
    "### 유클리드 거리"
   ]
  },
  {
   "cell_type": "markdown",
   "metadata": {},
   "source": [
    "두 벡터가 가리키는 점 사이의 거리를 유클리드 거리(Euclidean distance)라고 한다. 두 벡터의 유클리드 거리는 벡터의 차 길이로 구할 수 있다.\n",
    "\n",
    "벡터의 놈 정의와 벡터의 차 정의로부터 유클리드 거리를 다음과 같이 구한다."
   ]
  },
  {
   "cell_type": "markdown",
   "metadata": {},
   "source": [
    "\\begin{aligned} \n",
    "\\| a - b \\|\n",
    "&= \\sqrt{\\sum_{i=1} (a_i - b_i)^2} \\\\\n",
    "&= \\sqrt{\\sum_{i=1} ( a_i^2 - 2 a_i b_i + b_i^2 )} \\\\\n",
    "&= \\sqrt{\\sum_{i=1} a_i^2 + \\sum_{i=1} b_i^2 - 2 \\sum_{i=1} a_i b_i} \\\\\n",
    "&= \\sqrt{\\| a \\|^2 + \\| b \\|^2  - 2 a^Tb }\n",
    "\\end{aligned}"
   ]
  },
  {
   "cell_type": "markdown",
   "metadata": {},
   "source": [
    "즉, \n",
    "\n",
    "\\begin{align}\n",
    "\\| a - b \\|^2 = \\| a \\|^2 + \\| b \\|^2 - 2 a^T b\n",
    "\\end{align}"
   ]
  },
  {
   "cell_type": "markdown",
   "metadata": {},
   "source": [
    "### 벡터의 내적과 삼각함수\n",
    "두 벡터의 내적은 다음과 같이 벡터의 길이  ‖𝑎‖ ,  ‖𝑏‖  와 두 벡터 사이의 각도  𝜃 의 코사인 함수값으로 계산할 수도 있다."
   ]
  },
  {
   "cell_type": "markdown",
   "metadata": {},
   "source": [
    "\\begin{align}\n",
    "a^Tb = \\|a\\|\\|b\\| \\cos\\theta\n",
    "\\end{align}"
   ]
  },
  {
   "cell_type": "markdown",
   "metadata": {},
   "source": [
    "여기에서  cos𝜃 는 코사인(cosine)이라고 하는 함수이다. 코사인은 사인(sine)이라고 하는 함수와 함께 정의할 수 있다. 사인과 코사인을 합쳐서 삼각함수라고 한다."
   ]
  },
  {
   "cell_type": "markdown",
   "metadata": {},
   "source": [
    "사인  sin𝜃 의 값은  𝜃 라는 각을 가지는 직각 삼각형에서 빗변(hypotenuse)과 높이(opposite)의 비율을 뜻한다. 코사인  cos𝜃 의 값은  𝜃 라는 각을 가지는 직각 삼각형에서 빗변(hypotenuse)과 밑변(adjacent)의 비율을 뜻한다."
   ]
  },
  {
   "cell_type": "markdown",
   "metadata": {},
   "source": [
    "\\begin{align}\n",
    "\\sin\\theta = \\dfrac{\\text{b}}{\\text{h}}  \n",
    "\\end{align}\n",
    "\n",
    "\\begin{align}\n",
    "\\cos\\theta = \\dfrac{\\text{a}}{\\text{h}}  \n",
    "\\end{align}"
   ]
  },
  {
   "cell_type": "code",
   "execution_count": 118,
   "metadata": {},
   "outputs": [
    {
     "data": {
      "image/png": "[encoded data removed]",
      "text/plain": [
       "<Figure size 432x288 with 1 Axes>"
      ]
     },
     "metadata": {},
     "output_type": "display_data"
    }
   ],
   "source": [
    "plt.plot([0, 1], [0, 2], 'k-', lw=3)\n",
    "plt.plot([0, 1], [0, 0], 'k-', lw=3)\n",
    "plt.plot([1, 1], [0, 2], 'k-', lw=3)\n",
    "plt.text(0.05, 1, \"빗변 h\")\n",
    "plt.text(0.35, -0.2, \"밑변 b\")\n",
    "plt.text(1.12, 0.06, \"높이 a\")\n",
    "plt.text(0.12, 0.06, r\"$\\theta$\")\n",
    "plt.xticks(np.arange(-2, 4))\n",
    "plt.yticks(np.arange(-1, 4))\n",
    "plt.xlim(-1.1, 2.1)\n",
    "plt.ylim(-0.5, 2.3)\n",
    "plt.show()"
   ]
  },
  {
   "cell_type": "markdown",
   "metadata": {},
   "source": [
    "sin𝜃 의 값은 𝜃가 0에 가까워질수록 0에 가까워지고 𝜃가 90∘에 가까워질수록 1에 가까워진다.\n",
    "\\begin{align}\n",
    "\\sin 0^{\\circ} = 0  \n",
    "\\end{align}\n",
    "\\begin{align}\n",
    "\\sin 90^{\\circ} = 1 \n",
    "\\end{align}"
   ]
  },
  {
   "cell_type": "markdown",
   "metadata": {},
   "source": [
    "반대로  cos𝜃 의 값은  𝜃 가 0에 가까워질수록 1에 가까워지고  𝜃 가  90∘ 에 가까워질수록 0에 가까워진다.\n",
    "\\begin{align}\n",
    "\\cos 0^{\\circ} = 1 \n",
    "\\end{align}\n",
    "\\begin{align}\n",
    "\\cos 90^{\\circ} = 0 \n",
    "\\end{align}"
   ]
  },
  {
   "cell_type": "markdown",
   "metadata": {},
   "source": [
    "함수의 그래프로 표현하면 다음과 같다."
   ]
  },
  {
   "cell_type": "code",
   "execution_count": 129,
   "metadata": {},
   "outputs": [
    {
     "data": {
      "image/png": "[encoded data removed]",
      "text/plain": [
       "<Figure size 432x288 with 1 Axes>"
      ]
     },
     "metadata": {},
     "output_type": "display_data"
    }
   ],
   "source": [
    "x = np.linspace(0, np.pi / 2, 100)\n",
    "y1 = np.sin(x)\n",
    "y2 = np.cos(x)\n",
    "plt.plot(x, y1, 'r--', lw=3, label=r\"$\\sin\\theta$\")\n",
    "plt.plot(x, y2, 'b-', lw=3, label=r\"$\\cos\\theta$\")\n",
    "plt.legend(loc=5)\n",
    "plt.xticks([0, np.pi/4, np.pi/2], [r\"$0^{\\circ}$\", r'$45^{\\circ}$', r'$90^{\\circ}$'])\n",
    "plt.xlabel(r\"$\\theta$\")\n",
    "plt.title(r\"$\\sin\\theta$와 $\\cos\\theta$의 그래프\")\n",
    "plt.show()"
   ]
  },
  {
   "cell_type": "markdown",
   "metadata": {},
   "source": [
    "### 직교\n",
    "\n",
    "두 벡터  𝑎 와  𝑏 가 이루는 각이 90도이면 서로 직교(orthogonal)라고 하며  𝑎⊥𝑏 로 표시한다."
   ]
  },
  {
   "cell_type": "markdown",
   "metadata": {},
   "source": [
    "cos90∘=0 이므로 서로 직교인 두 벡터의 내적은 0이 된다."
   ]
  },
  {
   "cell_type": "markdown",
   "metadata": {},
   "source": [
    "\\begin{align}\n",
    "a^T b = b^T a = 0   \\;\\;\\;\\; \\leftrightarrow \\;\\;\\;\\; a \\perp b \n",
    "\\end{align}"
   ]
  },
  {
   "cell_type": "code",
   "execution_count": 130,
   "metadata": {},
   "outputs": [
    {
     "data": {
      "text/plain": [
       "0"
      ]
     },
     "execution_count": 130,
     "metadata": {},
     "output_type": "execute_result"
    }
   ],
   "source": [
    "a = np.array([1, 1])\n",
    "b = np.array([-1, 1])\n",
    "a.T @ b"
   ]
  },
  {
   "cell_type": "code",
   "execution_count": 131,
   "metadata": {},
   "outputs": [
    {
     "data": {
      "text/plain": [
       "0"
      ]
     },
     "execution_count": 131,
     "metadata": {},
     "output_type": "execute_result"
    }
   ],
   "source": [
    "a @ b"
   ]
  },
  {
   "cell_type": "code",
   "execution_count": null,
   "metadata": {},
   "outputs": [],
   "source": []
  },
  {
   "cell_type": "markdown",
   "metadata": {},
   "source": [
    "### Practice 3\n",
    "(1) 다음 벡터에 대해 직교하는 단위벡터를 찾아라.\n",
    "\\begin{align} x = \\begin{bmatrix} 1 \\\\ 0  \\end{bmatrix} \\end{align}\n",
    "(2) 다음 벡터에 대해 직교하는 단위벡터를 찾아라.\n",
    "\\begin{align} x = \\begin{bmatrix} 1 \\\\ 1  \\end{bmatrix} \\end{align}\n",
    "(3) 다음 두 벡터에 대해 모두 직교하는 단위벡터를 찾아라.\n",
    "\\begin{align}\n",
    "x = \\begin{bmatrix} 1 \\\\ 1 \\\\ 0  \\end{bmatrix}, \\;\\;\n",
    "y = \\begin{bmatrix} 1 \\\\ 0 \\\\ 0  \\end{bmatrix}\n",
    "\\end{align}"
   ]
  },
  {
   "cell_type": "code",
   "execution_count": 145,
   "metadata": {},
   "outputs": [
    {
     "data": {
      "text/plain": [
       "0"
      ]
     },
     "execution_count": 145,
     "metadata": {},
     "output_type": "execute_result"
    }
   ],
   "source": [
    "a = np.array([1, 0])\n",
    "b = np.array([0, 1])\n",
    "a @ b"
   ]
  },
  {
   "cell_type": "code",
   "execution_count": 141,
   "metadata": {},
   "outputs": [
    {
     "data": {
      "text/plain": [
       "(0.0, 0.0)"
      ]
     },
     "execution_count": 141,
     "metadata": {},
     "output_type": "execute_result"
    }
   ],
   "source": [
    "a = np.array([1, 1])\n",
    "b = np.array([-1/np.sqrt(2), 1/np.sqrt(2)])\n",
    "c = np.array([1 / np.sqrt(2), - 1/np.sqrt(2)])\n",
    "a @ b, a@c"
   ]
  },
  {
   "cell_type": "code",
   "execution_count": 143,
   "metadata": {},
   "outputs": [
    {
     "data": {
      "text/plain": [
       "(0, 0)"
      ]
     },
     "execution_count": 143,
     "metadata": {},
     "output_type": "execute_result"
    }
   ],
   "source": [
    "a = np.array([1, 1, 0])\n",
    "b = np.array([1, 0, 0])\n",
    "c = np.array([0, 0, 1])\n",
    "a @ c, a @ c"
   ]
  },
  {
   "cell_type": "markdown",
   "metadata": {},
   "source": [
    "### 정규직교\n",
    "만약  𝑁 개의 단위벡터  𝑣1,𝑣2,⋯,𝑣𝑁 가 서로 직교하면 정규직교(orthonormal)라고 한다."
   ]
  },
  {
   "cell_type": "markdown",
   "metadata": {},
   "source": [
    "\\begin{align}\n",
    "\\|v_i\\| = 1 \\;\\;\\leftrightarrow \\;\\; v_i^Tv_i = 1 \n",
    "\\end{align}\n",
    "\n",
    "\\begin{align}\n",
    "v_i^T v_j = 0 \\;\\;(i \\neq j) \n",
    "\\end{align}"
   ]
  },
  {
   "cell_type": "markdown",
   "metadata": {},
   "source": [
    "### Practice 4\n",
    "직교하는 두  𝑁 차원 벡터  𝑎,𝑏 에 대해 다음 식이 성립함을 보여라\n",
    "\n",
    "\\begin{align}\n",
    "\\| a + b \\|^2 = \\| a \\|^2 + \\| b \\|^2 \n",
    "\\end{align}"
   ]
  },
  {
   "cell_type": "markdown",
   "metadata": {},
   "source": [
    "𝑁=2 일 때 이 식은 피타고라스의 정리가 된다."
   ]
  },
  {
   "cell_type": "markdown",
   "metadata": {},
   "source": [
    "### Practice 5\n",
    "\n",
    "정규직교하는 세 개의 3차원 벡터  𝑣1,𝑣2,𝑣3 로 이루어진 행렬  𝑉 에 대해서 다음 등식이 성립함을 보여라.\n",
    "\\begin{align}\n",
    "V = \n",
    "\\begin{bmatrix}\n",
    "v_1 & v_2 & v_3\n",
    "\\end{bmatrix}\n",
    "\\end{align}"
   ]
  },
  {
   "cell_type": "markdown",
   "metadata": {},
   "source": [
    "(1)\n",
    "\n",
    "\\begin{align}\n",
    "V^TV = I\n",
    "\\end{align}\n",
    "\n",
    "(2)\n",
    "\n",
    "\\begin{align}\n",
    "V^{-1} = V^T \n",
    "\\end{align}"
   ]
  },
  {
   "cell_type": "markdown",
   "metadata": {},
   "source": [
    "### 코사인 유사도 (중요 !!)\n",
    "\n",
    "두 벡터의 방향이 비슷할수록 벡터가 비슷하다고 간주하여 두 벡터 사이의 각의 코사인값을 코사인 유사도(cosine similarity)라고 한다. 코사인값은 각도가 0일때 가장 커지므로 두 벡터가 같은 방향을 가리키고 있으면 코사인 유사도가 최댓값 1을 가진다."
   ]
  },
  {
   "cell_type": "markdown",
   "metadata": {},
   "source": [
    "\\begin{align}\n",
    "\\text{cosine similarity} = \\cos\\theta = \\dfrac{x^Ty}{\\|x\\|\\|y\\|}\n",
    "\\end{align}"
   ]
  },
  {
   "cell_type": "markdown",
   "metadata": {},
   "source": [
    "코사인 유사도는 나중에 공부할 추천시스템(recommender system)에서 사용자의 취향이 얼마나 비슷한지를 계산할 때 사용된다. 코사인 유사도를 이용하면 다음처럼 코사인 거리(cosine distance)도 정의할 수 있다."
   ]
  },
  {
   "cell_type": "markdown",
   "metadata": {},
   "source": [
    "\\begin{align}\n",
    "\\text{cosine distance} = 1 - \\text{cosine similarity} = 1 - \\dfrac{x^Ty}{\\|x\\|\\|y\\|}\n",
    "\\end{align}"
   ]
  },
  {
   "cell_type": "markdown",
   "metadata": {},
   "source": [
    "### Practice 6\n",
    "a, b, c, 3명의 사용자가 4개의 영화에 준 평점을 다음처럼 벡터로 표현하였다.\n",
    "\\begin{align}\n",
    "a = \\begin{bmatrix} 4 \\\\ 5 \\\\ 2 \\\\ 2 \\end{bmatrix}, \\;\\;\n",
    "b = \\begin{bmatrix} 4 \\\\ 0 \\\\ 2 \\\\ 0 \\end{bmatrix}, \\;\\;\n",
    "c = \\begin{bmatrix} 2 \\\\ 2 \\\\ 0 \\\\ 1 \\end{bmatrix}\n",
    "\\end{align}"
   ]
  },
  {
   "cell_type": "markdown",
   "metadata": {},
   "source": [
    "(1) a, b, c 사이의 유클리드 거리를 구하라. 어느 두 사용자가 가장 가까운가? 또 어느 두 사용자가 가장 멀리 떨어져 있는가?\n",
    "\n",
    "(2) a, b, c 사이의 코사인 거리를 구하라. 어느 두 사용자가 가장 가까운가? 또 어느 두 사용자가 가장 멀리 떨어져 있는가?"
   ]
  },
  {
   "cell_type": "code",
   "execution_count": 147,
   "metadata": {},
   "outputs": [],
   "source": [
    "a = np.array([4, 5, 2, 2])\n",
    "b = np.array([4, 0, 2, 0])\n",
    "c = np.array([2, 2, 0, 1])"
   ]
  },
  {
   "cell_type": "code",
   "execution_count": 148,
   "metadata": {},
   "outputs": [
    {
     "data": {
      "text/plain": [
       "0.36112343500006017"
      ]
     },
     "execution_count": 148,
     "metadata": {},
     "output_type": "execute_result"
    }
   ],
   "source": [
    "# a와 b의 코사인 거리\n",
    "1 - (a @ b) / (np.linalg.norm(a) * np.linalg.norm(b))"
   ]
  },
  {
   "cell_type": "code",
   "execution_count": 149,
   "metadata": {},
   "outputs": [
    {
     "data": {
      "text/plain": [
       "0.04761904761904767"
      ]
     },
     "execution_count": 149,
     "metadata": {},
     "output_type": "execute_result"
    }
   ],
   "source": [
    "# a와 c의 코사인 거리\n",
    "1 - (a @ c) / (np.linalg.norm(a) * np.linalg.norm(c))"
   ]
  },
  {
   "cell_type": "code",
   "execution_count": 150,
   "metadata": {},
   "outputs": [
    {
     "data": {
      "text/plain": [
       "0.40371520600005606"
      ]
     },
     "execution_count": 150,
     "metadata": {},
     "output_type": "execute_result"
    }
   ],
   "source": [
    "# b와 c의 코사인 거리\n",
    "1 - (b @ c) / (np.linalg.norm(b) * np.linalg.norm(c))"
   ]
  },
  {
   "cell_type": "code",
   "execution_count": 151,
   "metadata": {},
   "outputs": [],
   "source": [
    "# a와 c의 거리가 가장 가깝고, b와 c의 거리가 가장 멀다."
   ]
  },
  {
   "cell_type": "code",
   "execution_count": 152,
   "metadata": {},
   "outputs": [
    {
     "data": {
      "text/plain": [
       "5.385164807134504"
      ]
     },
     "execution_count": 152,
     "metadata": {},
     "output_type": "execute_result"
    }
   ],
   "source": [
    "# a와 b의 유클리드 거리 (||a - b||)\n",
    "np.sqrt(np.linalg.norm(a)**2 + np.linalg.norm(b)**2 - 2 * a @ b)"
   ]
  },
  {
   "cell_type": "code",
   "execution_count": 153,
   "metadata": {},
   "outputs": [
    {
     "data": {
      "text/plain": [
       "4.242640687119285"
      ]
     },
     "execution_count": 153,
     "metadata": {},
     "output_type": "execute_result"
    }
   ],
   "source": [
    "# a와 c의 유클리드 거리(||a-c||)\n",
    "np.sqrt(np.linalg.norm(a)**2 + np.linalg.norm(c)**2 - 2 * a @ c)"
   ]
  },
  {
   "cell_type": "code",
   "execution_count": 154,
   "metadata": {},
   "outputs": [
    {
     "data": {
      "text/plain": [
       "3.6055512754639896"
      ]
     },
     "execution_count": 154,
     "metadata": {},
     "output_type": "execute_result"
    }
   ],
   "source": [
    "# b와 c의 유클리드 거리\n",
    "np.sqrt(np.linalg.norm(b)**2 + np.linalg.norm(c)**2 - 2 * b @ c)"
   ]
  },
  {
   "cell_type": "code",
   "execution_count": 155,
   "metadata": {},
   "outputs": [],
   "source": [
    "# b와 c 사이의 유클리드 거리가 가장 가깝고, a와 b의 거리가 가장 멀다. 코사인거리와 유클리드 거리는 반대 결과를 도출한다.\n",
    "# 유클리드 거리가 짧을 수록 코사인거리가 길수록 유사하다라고 할 수 있음"
   ]
  },
  {
   "cell_type": "markdown",
   "metadata": {},
   "source": [
    "### 벡터의 분해와 성분\n",
    "어떤 두 벡터  𝑎 ,  𝑏 의 합이 다른 벡터  𝑐 가 될 때  𝑐 가 두 벡터 성분(component)  𝑎 ,  𝑏 으로 분해(decomposition)된다고 말한다."
   ]
  },
  {
   "cell_type": "markdown",
   "metadata": {},
   "source": [
    "### Practice 7\n",
    "\n",
    "다음 벡터를 두 개의 벡터로 분해하는 방법을 두 가지 이상 찾고 평면 위에 각각 화살표로 표기하라.\n",
    "\\begin{align}\n",
    "x = \\begin{bmatrix} 1 \\\\ 0 \\end{bmatrix}\n",
    "\\end{align}"
   ]
  },
  {
   "cell_type": "markdown",
   "metadata": {},
   "source": [
    "### 투영성분\n",
    "\n",
    "벡터  𝑎 를 다른 벡터  𝑏 에 직교하는 성분과, 벡터  𝑏 에 평행한 성분으로 분해할 수 있는데, 평행한 성분을 벡터 𝑏 에 대한 투영성분(projection), 벡터  𝑏 에 수직인 성분을 벡터  𝑏 에 대한 직교성분(rejection)이라고 하며 각각 다음과 같이 표기한다.\n",
    "\n",
    "\\begin{align}\n",
    "a^{\\Vert b} \n",
    "\\end{align}\n",
    "\n",
    "\\begin{align}\n",
    "a^{\\perp b} \n",
    "\\end{align}"
   ]
  },
  {
   "cell_type": "markdown",
   "metadata": {},
   "source": [
    "투영성분의 길이는 다음과 같이 구할 수 있다.\n",
    "\n",
    "\\begin{align}\n",
    "\\| a^{\\Vert b} \\| \n",
    "= \\|a\\|\\cos\\theta \n",
    "= \\dfrac{\\|a\\|\\|b\\|\\cos\\theta}{\\|b\\|}  \n",
    "= \\dfrac{a^Tb}{\\|b\\|} \n",
    "= \\dfrac{b^Ta}{\\|b\\|}\n",
    "= a^T\\dfrac{b}{\\|b\\|} \n",
    "\\end{align}"
   ]
  },
  {
   "cell_type": "markdown",
   "metadata": {},
   "source": [
    "만약 벡터  𝑏  자체가 이미 단위벡터이면 단위벡터에 대한 투영길이는 내적이 된다. (||b|| = 1)\n",
    "\n",
    "\\begin{align}\n",
    "\\| a^{\\Vert b} \\| = a^Tb \n",
    "\\end{align}"
   ]
  },
  {
   "cell_type": "markdown",
   "metadata": {},
   "source": [
    "투영성분 성분 벡터는 투영성분 길이와 벡터  𝑏  방향의 단위벡터의 곱이다.\n",
    "\n",
    "\\begin{align}\n",
    "a^{\\Vert b} = \\dfrac{a^Tb}{\\|b\\|} \\dfrac{b}{\\|b\\|}= \\dfrac{a^Tb}{\\|b\\|^2}b  \n",
    "\\end{align}"
   ]
  },
  {
   "cell_type": "markdown",
   "metadata": {},
   "source": [
    "직교성분 벡터는 원래의 벡터에서 투영성분 성분 벡터를 뺀 나머지다.\n",
    "\n",
    "\\begin{align}\n",
    "a^{\\perp b} = a - a^{\\Vert b} \n",
    "\\end{align}"
   ]
  },
  {
   "cell_type": "code",
   "execution_count": 156,
   "metadata": {},
   "outputs": [
    {
     "data": {
      "image/png": "[encoded data removed]",
      "text/plain": [
       "<Figure size 432x288 with 1 Axes>"
      ]
     },
     "metadata": {},
     "output_type": "display_data"
    }
   ],
   "source": [
    "a = np.array([1, 2])\n",
    "b = np.array([2, 0])\n",
    "a2 = (a @ b) / np.linalg.norm(b) * np.array([1, 0])\n",
    "a1 = a - a2\n",
    "plt.annotate('', xy=b, xytext=(0, 0), arrowprops=green)\n",
    "plt.annotate('', xy=a2, xytext=(0, 0), arrowprops=blue)\n",
    "plt.annotate('', xy=a1, xytext=(0, 0), arrowprops=blue)\n",
    "plt.annotate('', xy=a, xytext=(0, 0), arrowprops=red)\n",
    "plt.plot(0, 0, 'kP', ms=10)\n",
    "plt.plot(a[0], a[1], 'ro', ms=10)\n",
    "plt.plot(b[0], b[1], 'ro', ms=10)\n",
    "plt.text(0.35, 1.15, \"$a$\")\n",
    "plt.text(1.55, 0.15, \"$b$\")\n",
    "plt.text(-0.5, 1.05, \"$a^{\\perp b}$\")\n",
    "plt.text(0.50, 0.15, \"$a^{\\Vert b}$\")\n",
    "plt.xticks(np.arange(-10, 10))\n",
    "plt.yticks(np.arange(-10, 10))\n",
    "plt.xlim(-1.2, 4.1)\n",
    "plt.ylim(-0.5, 3.2)\n",
    "plt.show()"
   ]
  },
  {
   "cell_type": "markdown",
   "metadata": {},
   "source": [
    "### Practice 8\n",
    "\\begin{align}\n",
    "a=\\begin{bmatrix}1 \\\\ 2\\end{bmatrix}, \\;\\; b=\\begin{bmatrix}2 \\\\ 0\\end{bmatrix}\n",
    "\\end{align}"
   ]
  },
  {
   "cell_type": "markdown",
   "metadata": {},
   "source": [
    "일 때, 투영성분  𝑎‖𝑏 , 직교성분  𝑎⊥𝑏 를 구하라."
   ]
  },
  {
   "cell_type": "code",
   "execution_count": 157,
   "metadata": {},
   "outputs": [],
   "source": [
    "a = np.array([1, 2])\n",
    "b = np.array([2, 0])"
   ]
  },
  {
   "cell_type": "code",
   "execution_count": 160,
   "metadata": {},
   "outputs": [
    {
     "data": {
      "text/plain": [
       "array([1., 0.])"
      ]
     },
     "execution_count": 160,
     "metadata": {},
     "output_type": "execute_result"
    }
   ],
   "source": [
    "# 투영성분\n",
    "a_proj = (a @ b) / np.linalg.norm(b) ** 2 * b\n",
    "a_proj"
   ]
  },
  {
   "cell_type": "code",
   "execution_count": 161,
   "metadata": {},
   "outputs": [
    {
     "data": {
      "text/plain": [
       "array([0., 2.])"
      ]
     },
     "execution_count": 161,
     "metadata": {},
     "output_type": "execute_result"
    }
   ],
   "source": [
    "# 직교성분\n",
    "a_rej = a - a_proj\n",
    "a_rej"
   ]
  },
  {
   "cell_type": "code",
   "execution_count": 162,
   "metadata": {},
   "outputs": [],
   "source": [
    "# 위의 그림과 동일한 결과 도출"
   ]
  },
  {
   "cell_type": "markdown",
   "metadata": {},
   "source": [
    "### Practice 9"
   ]
  },
  {
   "cell_type": "markdown",
   "metadata": {},
   "source": [
    "만약  𝑣 가 원점을 지나는 직선의 방향을 나타내는 단위벡터라고 하자. 이때 그 직선 위에 있지 않는 어떤 점  𝑥 와 그 직선과의 거리의 제곱이 다음과 같음을 증명하라.\n",
    "\n",
    "\\begin{align}\n",
    "\\| x \\|^2 - (x^Tv)^2 \n",
    "\\end{align}"
   ]
  },
  {
   "cell_type": "code",
   "execution_count": 169,
   "metadata": {},
   "outputs": [
    {
     "data": {
      "image/png": "[encoded data removed]",
      "text/plain": [
       "<Figure size 432x288 with 1 Axes>"
      ]
     },
     "metadata": {},
     "output_type": "display_data"
    }
   ],
   "source": [
    "v = np.array([2, 1]) / np.sqrt(5)\n",
    "x = np.array([1, 3])\n",
    "plt.plot(0, 0, 'kP', ms=10)\n",
    "plt.annotate('', xy=v, xytext=(0, 0), arrowprops=black)\n",
    "plt.plot([-2, 8], [-1, 4], 'b--', lw=2)\n",
    "plt.plot([1, 2], [3, 1], 'g:', lw=2)\n",
    "plt.plot(x[0], x[1], 'ro', ms=10)\n",
    "plt.text(0.1, 0.5, \"$v$\")\n",
    "plt.text(0.6, 3.2, \"$x$\")\n",
    "plt.xticks(np.arange(-3, 15))\n",
    "plt.yticks(np.arange(-1, 5))\n",
    "plt.xlim(-3, 7)\n",
    "plt.ylim(-1, 5)\n",
    "plt.show()"
   ]
  },
  {
   "cell_type": "markdown",
   "metadata": {},
   "source": [
    "### 직선의 방정식\n",
    "\n",
    "어떤 벡터  𝑤 가 있을 때 다음 그림과 같이\n",
    "+ 원점에서 출발한 벡터  𝑤 가 가리키는 점을 지나면서\n",
    "+ 벡터  𝑤 에 수직인\n",
    "\n",
    "직선의 방정식을 구해보자."
   ]
  },
  {
   "cell_type": "markdown",
   "metadata": {},
   "source": [
    "위 두 조건을 만족하는 직선 상의 임의의 점을 가리키는 벡터를  𝑥 라고 하면, 벡터  𝑥 가 가리키는 점과 벡터  𝑤 가 가리키는 점을 이은 벡터  𝑥−𝑤 는 조건에 따라 벡터  𝑤 와 직교해야 한다. 따라서 다음 식이 성립한다.\n",
    "\\begin{align}\n",
    "w^T(x - w) = 0\n",
    "\\end{align}"
   ]
  },
  {
   "cell_type": "markdown",
   "metadata": {},
   "source": [
    "정리하면 다음과 같아진다.\n",
    "\\begin{align}\n",
    "w^T(x - w) = w^Tx - w^Tw = w^Tx - \\| w \\|^2\n",
    "\\end{align}"
   ]
  },
  {
   "cell_type": "markdown",
   "metadata": {},
   "source": [
    "\\begin{align}\n",
    "w^Tx - \\| w \\|^2 = 0\n",
    "\\end{align}"
   ]
  },
  {
   "cell_type": "markdown",
   "metadata": {},
   "source": [
    "이 직선과 원점 사이의 거리는 벡터  𝑤 의 놈  ‖𝑤‖ 이다.\n",
    "\n",
    "\\begin{align}\n",
    "\\|w\\| \n",
    "\\end{align}"
   ]
  },
  {
   "cell_type": "code",
   "execution_count": 170,
   "metadata": {},
   "outputs": [
    {
     "data": {
      "image/png": "[encoded data removed]",
      "text/plain": [
       "<Figure size 432x288 with 1 Axes>"
      ]
     },
     "metadata": {},
     "output_type": "display_data"
    }
   ],
   "source": [
    "w = np.array([1, 2])\n",
    "x1 = np.array([3, 1])\n",
    "x2 = np.array([-1, 3])\n",
    "plt.annotate('', xy=w, xytext=(0, 0), arrowprops=black)\n",
    "plt.annotate('', xy=x1, xytext=(0, 0), arrowprops=green)\n",
    "plt.annotate('', xy=x2, xytext=(0, 0), arrowprops=green)\n",
    "plt.plot(0, 0, 'kP', ms=10)\n",
    "plt.plot(w[0], w[1], 'ro', ms=10)\n",
    "plt.plot(x1[0], x1[1], 'ro', ms=10)\n",
    "plt.plot(x2[0], x2[1], 'ro', ms=10)\n",
    "plt.plot([-3, 5], [4, 0], 'r-', lw=5)\n",
    "plt.text(-0.2, 1.5, \"벡터 $w$\")\n",
    "plt.text(1.55, 0.25, \"$x_1$\")\n",
    "plt.text(-0.9, 1.40, \"$x_2$\")\n",
    "plt.text(1.8, 1.8, \"$x_1 - w$\")\n",
    "plt.text(-0.2, 2.8, \"$x_2 - w$\")\n",
    "plt.text(3.6, 0.8, \"직선 $x$\")\n",
    "plt.xticks(np.arange(-2, 5))\n",
    "plt.yticks(np.arange(-1, 5))\n",
    "plt.xlim(-2, 5)\n",
    "plt.ylim(-0.6, 3.6)\n",
    "plt.show()"
   ]
  },
  {
   "cell_type": "markdown",
   "metadata": {},
   "source": [
    "예를 들어\n",
    "\\begin{align}\n",
    "w = \\begin{bmatrix}1 \\\\ 2\\end{bmatrix}\n",
    "\\end{align}"
   ]
  },
  {
   "cell_type": "markdown",
   "metadata": {},
   "source": [
    "일때 \n",
    "\\begin{align}\n",
    "\\| w \\|^2 = 5\n",
    "\\end{align}"
   ]
  },
  {
   "cell_type": "markdown",
   "metadata": {},
   "source": [
    "\\begin{align}\n",
    "\\begin{bmatrix}1 & 2\\end{bmatrix} \\begin{bmatrix}x_1 \\\\ x_2 \\end{bmatrix} - 5 = x_1 + 2x_2 - 5 = 0\n",
    "\\end{align}"
   ]
  },
  {
   "cell_type": "markdown",
   "metadata": {},
   "source": [
    "\\begin{align}\n",
    "x_1 + 2x_2 = 5\n",
    "\\end{align}"
   ]
  },
  {
   "cell_type": "markdown",
   "metadata": {},
   "source": [
    "이 방정식은 벡터  𝑤 가 가리키는 점  (1,2) 를 지나면서 벡터  𝑤 에 수직인 직선을 뜻한다. 이 직선과 원점 사이의 거리는  ‖𝑤‖=√‾5이다."
   ]
  },
  {
   "cell_type": "markdown",
   "metadata": {},
   "source": [
    "이번에는 벡터  𝑤 가 가리키는 점을 지나야 한다는 조건을 없애고 단순히\n",
    "\n",
    "+ 벡터  𝑤 에 수직인\n",
    "\n",
    "직선  𝑥 의 방정식을 구해보자.\n",
    "\n",
    "이때는 직선이  𝑤 가 아니라  𝑤 와 방향이 같고 길이가 다른 벡터  𝑤′=𝑐𝑤 을 지날 것이다.  𝑐 는 양의 실수이다.\n",
    "\n",
    "위에서 했던 방법으로 다시 직선의 방정식을 구하면 다음과 같다."
   ]
  },
  {
   "cell_type": "markdown",
   "metadata": {},
   "source": [
    "\\begin{align}\n",
    "w'^Tx - \\| w' \\|^2 =  cw^Tx - c^2 \\| w \\|^2 = 0\n",
    "\\end{align}\n",
    "\n",
    "\\begin{align}\n",
    "w^Tx - c \\| w \\|^2 = 0 \n",
    "\\end{align}\n",
    "\n",
    "여기에서  𝑐‖𝑤‖2 는 임의의 수가 될 수 있으므로 단순히 벡터  𝑤 에 수직인 직선의 방정식은 다음과 같이 나타낼 수 있다.\n",
    "\n",
    "\\begin{align}\n",
    "w^Tx - w_0 = 0 \n",
    "\\end{align}\n",
    "\n",
    "이 직선과 원점 사이의 거리는 다음과 같다.\n",
    "\n",
    "\\begin{align}\n",
    "c \\| w \\| = \\dfrac{w_0}{\\|w\\|} \n",
    "\\end{align}"
   ]
  },
  {
   "cell_type": "code",
   "execution_count": 171,
   "metadata": {},
   "outputs": [
    {
     "data": {
      "image/png": "[encoded data removed]",
      "text/plain": [
       "<Figure size 432x288 with 1 Axes>"
      ]
     },
     "metadata": {},
     "output_type": "display_data"
    }
   ],
   "source": [
    "w = np.array([1, 2])\n",
    "plt.annotate('', xy=w, xytext=(0, 0), arrowprops=gray)\n",
    "plt.annotate('', xy=0.5 * w, xytext=(0, 0), arrowprops=black)\n",
    "plt.plot(0, 0, 'kP', ms=10)\n",
    "plt.plot(0.5 * w[0], 0.5 * w[1], 'ro', ms=10)\n",
    "plt.plot([-2, 5], [2.25, -1.25], 'r-', lw=5)\n",
    "plt.text(-0.7, 0.8, \"벡터 $cw$\")\n",
    "plt.text(-0.1, 1.6, \"벡터 $w$\")\n",
    "plt.text(1, 1, \"직선 $x$\")\n",
    "plt.xticks(np.arange(-2, 5))\n",
    "plt.yticks(np.arange(-1, 5))\n",
    "plt.xlim(-2, 5)\n",
    "plt.ylim(-0.6, 3.6)\n",
    "plt.show()"
   ]
  },
  {
   "cell_type": "markdown",
   "metadata": {},
   "source": [
    "예를 들어  𝑐=0.5 이면 벡터  𝑤=[1,2]𝑇 에 수직이고 원점으로부터의 거리가  5√2 인 직선이 된다."
   ]
  },
  {
   "cell_type": "markdown",
   "metadata": {},
   "source": [
    "\\begin{align}\n",
    "x_1 + 2x_2 - 2.5 = 0\n",
    "\\end{align}"
   ]
  },
  {
   "cell_type": "markdown",
   "metadata": {},
   "source": [
    "### 직선과 점의 거리\n",
    "이번에는 직선  $w^Tx - \\|w\\|^2 = 0$ 과 이 직선 위에 있지 않은 점  𝑥′  사이의 거리를 구해보자.\n",
    "\n",
    "벡터  𝑤 에 대한 벡터  𝑥′ 의 투영성분  $x'^{\\Vert w}$ 의 길이는 다음과 같다."
   ]
  },
  {
   "cell_type": "markdown",
   "metadata": {},
   "source": [
    "\\begin{align}\n",
    "\\|x'^{\\Vert w}\\| = \\dfrac{w^Tx'}{\\|w\\|} \n",
    "\\end{align}"
   ]
  },
  {
   "cell_type": "markdown",
   "metadata": {},
   "source": [
    "직선과 점  𝑥′  사이의 거리는 이 길이에서 원점에서 직선까지의 거리  ‖𝑤‖ 를 뺀 값의 절댓값이다.\n",
    "\n",
    "\\begin{align}\n",
    "\\left|  \\|x'^{\\Vert w}\\| - \\|w\\| \\right| = \n",
    "\\left| \\dfrac{w^Tx'}{\\|w\\|} - \\|w\\| \\right| =\n",
    "\\dfrac{\\left|w^Tx' - \\|w\\|^2 \\right|}{\\|w\\|}\n",
    "\\end{align}\n",
    "\n",
    "직선의 방정식이 $w^Tx - w_0 = 0$ 이면 직선과 점의 거리는 다음과 같다. (???)\n",
    "\n",
    "\\begin{align}\n",
    "\\dfrac{\\left|w^Tx' - w_0 \\right|}{\\|w\\|} \n",
    "\\end{align}\n",
    "\n",
    "이 공식은 나중에 분류 방법의 하나인 서포트 벡터 머신(SVM: Support Vector Machine)에서 사용된다."
   ]
  },
  {
   "cell_type": "code",
   "execution_count": 178,
   "metadata": {},
   "outputs": [
    {
     "data": {
      "image/png": "[encoded data removed]",
      "text/plain": [
       "<Figure size 432x288 with 1 Axes>"
      ]
     },
     "metadata": {},
     "output_type": "display_data"
    }
   ],
   "source": [
    "w = np.array([1, 2])\n",
    "x1 = np.array([4, 3])\n",
    "x2 = np.array([1, 2]) * 2\n",
    "plt.annotate('', xy=x1, xytext=(0, 0), arrowprops=gray)\n",
    "plt.annotate('', xy=x2, xytext=(0, 0), arrowprops=gray)\n",
    "plt.annotate('', xy=w, xytext=(0, 0), arrowprops=red)\n",
    "plt.plot(0, 0, 'kP', ms=10)\n",
    "plt.plot(w[0], w[1], 'ro', ms=10)\n",
    "plt.plot(x1[0], x1[1], 'ro', ms=10)\n",
    "plt.plot([-3, 7], [4, -1], 'r-', lw=5)\n",
    "plt.plot([2, 4], [4, 3], 'k:', lw=2)\n",
    "plt.plot([3, 4], [1, 3], 'k:', lw=2)\n",
    "plt.text(0.1, 0.9, \"$w$\")\n",
    "plt.text(4.2, 3.1, \"$x'$\")\n",
    "plt.text(1.5, 2.4, \"$x'^{\\Vert w}$\")\n",
    "plt.xticks(np.arange(-3, 15))\n",
    "plt.yticks(np.arange(-1, 5))\n",
    "plt.xlim(-3, 7)\n",
    "plt.ylim(-1, 5)\n",
    "plt.show()"
   ]
  },
  {
   "cell_type": "code",
   "execution_count": null,
   "metadata": {},
   "outputs": [],
   "source": []
  }
 ],
 "metadata": {
  "kernelspec": {
   "display_name": "Python 3",
   "language": "python",
   "name": "python3"
  },
  "language_info": {
   "codemirror_mode": {
    "name": "ipython",
    "version": 3
   },
   "file_extension": ".py",
   "mimetype": "text/x-python",
   "name": "python",
   "nbconvert_exporter": "python",
   "pygments_lexer": "ipython3",
   "version": "3.5.1"
  }
 },
 "nbformat": 4,
 "nbformat_minor": 2
}
