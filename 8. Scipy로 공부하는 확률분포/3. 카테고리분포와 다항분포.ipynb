{
 "cells": [
  {
   "cell_type": "markdown",
   "metadata": {},
   "source": [
    "이 절에서는 베르누이분포의 확장판인 카테고리분포와 이항분포의 확장판인 다항분포를 공부한다. \n",
    "\n",
    "###### 베르누이분포가 이진분류문제(binary classification)에 사용된 것과 같이, 카테고리분포는 다중분류문제(multi-class classification)에 쓰일 수 있다."
   ]
  },
  {
   "cell_type": "markdown",
   "metadata": {},
   "source": [
    "### 카테고리 확률변수"
   ]
  },
  {
   "cell_type": "markdown",
   "metadata": {},
   "source": [
    "베르누이 확률변수는 0 또는 1(또는 -1 또는 1)이 나오는 확률변수였다. 즉 동전을 던져 나오는 결과를 묘사할 때 쓸 수 있다. 그런데 동전이 아닌 주사위를 던져서 나오는 경우는 어떻게 묘사할 수 있을까? 이때 사용하는 것이 확률변수다.\n",
    "\n",
    "카테고리 확률변수(Categorical random variable)는 1부터  𝐾 까지  𝐾 개 정수값 중 하나가 나온다. 따라서 주사위를 던져 나오는 눈금 수는  𝐾=6 인 카테고리분포다.\n",
    "\n",
    "주의할 점은 원래 카테고리는 스칼라값이지만 카테고리 확률변수는 다음과 같이 1과 0으로만 이루어진 다차원 벡터를 출력한다.\n",
    "\n",
    "\\begin{eqnarray}\n",
    "x = 1  \\;\\; & \\rightarrow & \\;\\; x = (1, 0, 0, 0, 0, 0) \\\\\n",
    "x = 2  \\;\\; & \\rightarrow & \\;\\; x = (0, 1, 0, 0, 0, 0) \\\\\n",
    "x = 3  \\;\\; & \\rightarrow & \\;\\; x = (0, 0, 1, 0, 0, 0) \\\\\n",
    "x = 4  \\;\\; & \\rightarrow & \\;\\; x = (0, 0, 0, 1, 0, 0) \\\\\n",
    "x = 5  \\;\\; & \\rightarrow & \\;\\; x = (0, 0, 0, 0, 1, 0) \\\\\n",
    "x = 6  \\;\\; & \\rightarrow & \\;\\; x = (0, 0, 0, 0, 0, 1) \\\\\n",
    "\\end{eqnarray}"
   ]
  },
  {
   "cell_type": "markdown",
   "metadata": {},
   "source": [
    "이러한 변형 즉, 인코딩 방식을 원핫인코딩(One-Hot-Encoding) 이라고 한다.\n",
    "\n",
    "따라서 확률변수의 값도 다음처럼 벡터가 된다.\n",
    "\n",
    "$$x = (x_1, x_2, x_3, x_4, x_5, x_6)$$\n",
    "\n",
    "이 벡터를 구성하는 원소  𝑥1 ,  𝑥2 ,  𝑥3 ,  𝑥4 ,  𝑥5 ,  𝑥6 에는 다음과 같은 제한 조건이 붙는다.\n",
    "\n",
    "$$x_i = \\begin{cases} 0 \\\\ 1 \\end{cases}$$\n",
    "\n",
    "$$\\sum_{k=1}^K x_k = 1$$"
   ]
  },
  {
   "cell_type": "markdown",
   "metadata": {},
   "source": [
    "첫 번째 제한 조건은  𝑥𝑘 의 값이 0 또는 1 만 가능하다는 것이고, 두 번째 제한 조건은 여러  𝑥𝑘  중 단 하나만 1일 수 있다는 것이다.\n",
    "\n",
    "이 각각의 원소 값  𝑥𝑘 는 일종의 베르누이 확률변수로 볼 수 있기 때문에 각각 1이 나올 확률을 나타내는 모수  𝜇𝑘 를 가진다. 그리고 전체 카테고리분포의 모수는 다음과 같이 벡터로 나타낸다.\n",
    "\n",
    "$$\\mu = ( \\mu_1, \\cdots , \\mu_K )$$\n",
    "\n",
    "이 모수 벡터도 다음과 같이 제한 조건을 가진다.\n",
    "\n",
    "$$0 \\leq \\mu_i \\leq 1$$\n",
    "\n",
    "$$\\sum_{k=1}^K \\mu_k = 1$$"
   ]
  },
  {
   "cell_type": "markdown",
   "metadata": {},
   "source": [
    "+ 첫 번째 제한 조건은 모수  𝜇𝑘 가 0과 1사이의 값만 가질 수 있다는 점을 가리킨다. \n",
    "\n",
    "+ 두 번째 제한 조건은  𝜇𝑘 의 합이 1이 된다는 것이다. \n",
    "\n",
    "나올 수 있는 경우의 확률의 합은 1이 되어야 하므로 이 또한 당연하다. 다만 0 아니면 1이 되어야 하는  𝑥𝑘  와는 달리  𝜇𝑘 는 0부터 1사이의 어떤 실수 값이든 가질 수 있다."
   ]
  },
  {
   "cell_type": "markdown",
   "metadata": {},
   "source": [
    "### 카테고리 확률분포\n",
    "\n",
    "카테고리 확률변수의 확률분포인 카테고리 확률분포는\n",
    "\n",
    "$$\\text{Cat}(x_1, x_2, \\dots, x_K;\\mu_1, \\dots, \\mu_K)$$\n",
    "\n",
    "로 표기하거나 출력 벡터  𝑥=(𝑥1,𝑥2,…,𝑥𝐾) , 모수 벡터  𝜇=(𝜇1,…,𝜇𝐾) 를 사용하여\n",
    "\n",
    "$$\\text{Cat}(x;\\mu)$$\n",
    "\n",
    "로 간단히 표기할 수 있다.\n",
    "\n",
    "확률질량함수는 다음과 같이 표기한다.\n",
    "\n",
    "$$\\text{Cat}(x;\\mu) = \n",
    "\\begin{cases}\n",
    "\\mu_1 & \\text{if } x = (1, 0, 0, \\cdots, 0) \\\\\n",
    "\\mu_2 & \\text{if } x = (0, 1, 0, \\cdots, 0) \\\\\n",
    "\\mu_3 & \\text{if } x = (0, 0, 1, \\cdots, 0) \\\\\n",
    "\\vdots & \\vdots \\\\\n",
    "\\mu_K & \\text{if } x = (0, 0, 0, \\cdots, 1) \\\\\n",
    "\\end{cases}$$"
   ]
  },
  {
   "cell_type": "markdown",
   "metadata": {},
   "source": [
    "위 식은 다음과 같이 쓸 수 있다. 이 간략한 표현은 원핫인코딩(One-Hot-Encoding)을 사용한 덕분이다.\n",
    "\n",
    "$$\\text{Cat}(x;\\mu) = \\mu_1^{x_1} \\mu_2^{x_2}  \\cdots \\mu_K^{x_K}  =  \\prod_{k=1}^K \\mu_k^{x_k}$$"
   ]
  },
  {
   "cell_type": "markdown",
   "metadata": {},
   "source": [
    "### Practice 1\n",
    "\n",
    "𝐾=2 인 카테고리분포의 확률질량함수가 이항 확률분포의 확률질량함수와 같음을 보여라."
   ]
  },
  {
   "cell_type": "markdown",
   "metadata": {},
   "source": [
    "### 카테고리분포의 모멘트\n",
    "\n",
    "카테고리분포는 표본값이 벡터이므로 기댓값과 분산도 벡터이다. 기대값과 분산을 구하는 공식은 다음과 같다.\n",
    "\n",
    "+ 기대값\n",
    "\n",
    "$$\\text{E}[x_k] = \\mu_k$$\n",
    "\n",
    "+ 분산\n",
    "$$\\text{Var}[x_k] = \\mu_k(1-\\mu_k)$$"
   ]
  },
  {
   "cell_type": "markdown",
   "metadata": {},
   "source": [
    "### SciPy를 이용한 카테고리분포의 시뮬레이션\n",
    "\n",
    "SciPy는 카테고리분포를 위한 별도의 클래스를 제공하지 않는다. 하지만 뒤에서 설명할 다항분포를 위한 multinomial 클래스에서 시행 횟수를 1로 설정하면 카테고리분포가 되므로 이 명령을 사용할 수 있다. 다음은 모수가  𝜇=(0.1, 0.1, 0.1, 0.1, 0.3, 0.3) 인 카테고리분포를 시뮬레이션한 것이다."
   ]
  },
  {
   "cell_type": "code",
   "execution_count": 3,
   "metadata": {},
   "outputs": [
    {
     "data": {
      "text/plain": [
       "1.0"
      ]
     },
     "execution_count": 3,
     "metadata": {},
     "output_type": "execute_result"
    }
   ],
   "source": [
    "import numpy as np\n",
    "\n",
    "mu = [0.1, 0.1, 0.1, 0.1, 0.3, 0.3]\n",
    "np.sum(mu)"
   ]
  },
  {
   "cell_type": "code",
   "execution_count": 4,
   "metadata": {},
   "outputs": [],
   "source": [
    "import scipy as sp\n",
    "import scipy.stats"
   ]
  },
  {
   "cell_type": "code",
   "execution_count": 5,
   "metadata": {},
   "outputs": [],
   "source": [
    "rv = sp.stats.multinomial(1, mu)"
   ]
  },
  {
   "cell_type": "markdown",
   "metadata": {},
   "source": [
    "카테고리분포의 출력은 벡터값으로 pmf 메서드의 인수로도 원핫인코딩 벡터를 넣어야 한다."
   ]
  },
  {
   "cell_type": "code",
   "execution_count": 7,
   "metadata": {},
   "outputs": [
    {
     "data": {
      "text/html": [
       "<div>\n",
       "<style scoped>\n",
       "    .dataframe tbody tr th:only-of-type {\n",
       "        vertical-align: middle;\n",
       "    }\n",
       "\n",
       "    .dataframe tbody tr th {\n",
       "        vertical-align: top;\n",
       "    }\n",
       "\n",
       "    .dataframe thead th {\n",
       "        text-align: right;\n",
       "    }\n",
       "</style>\n",
       "<table border=\"1\" class=\"dataframe\">\n",
       "  <thead>\n",
       "    <tr style=\"text-align: right;\">\n",
       "      <th></th>\n",
       "      <th>1</th>\n",
       "      <th>2</th>\n",
       "      <th>3</th>\n",
       "      <th>4</th>\n",
       "      <th>5</th>\n",
       "      <th>6</th>\n",
       "    </tr>\n",
       "  </thead>\n",
       "  <tbody>\n",
       "    <tr>\n",
       "      <th>0</th>\n",
       "      <td>1</td>\n",
       "      <td>0</td>\n",
       "      <td>0</td>\n",
       "      <td>0</td>\n",
       "      <td>0</td>\n",
       "      <td>0</td>\n",
       "    </tr>\n",
       "    <tr>\n",
       "      <th>1</th>\n",
       "      <td>0</td>\n",
       "      <td>1</td>\n",
       "      <td>0</td>\n",
       "      <td>0</td>\n",
       "      <td>0</td>\n",
       "      <td>0</td>\n",
       "    </tr>\n",
       "    <tr>\n",
       "      <th>2</th>\n",
       "      <td>0</td>\n",
       "      <td>0</td>\n",
       "      <td>1</td>\n",
       "      <td>0</td>\n",
       "      <td>0</td>\n",
       "      <td>0</td>\n",
       "    </tr>\n",
       "    <tr>\n",
       "      <th>3</th>\n",
       "      <td>0</td>\n",
       "      <td>0</td>\n",
       "      <td>0</td>\n",
       "      <td>1</td>\n",
       "      <td>0</td>\n",
       "      <td>0</td>\n",
       "    </tr>\n",
       "    <tr>\n",
       "      <th>4</th>\n",
       "      <td>0</td>\n",
       "      <td>0</td>\n",
       "      <td>0</td>\n",
       "      <td>0</td>\n",
       "      <td>1</td>\n",
       "      <td>0</td>\n",
       "    </tr>\n",
       "    <tr>\n",
       "      <th>5</th>\n",
       "      <td>0</td>\n",
       "      <td>0</td>\n",
       "      <td>0</td>\n",
       "      <td>0</td>\n",
       "      <td>0</td>\n",
       "      <td>1</td>\n",
       "    </tr>\n",
       "  </tbody>\n",
       "</table>\n",
       "</div>"
      ],
      "text/plain": [
       "   1  2  3  4  5  6\n",
       "0  1  0  0  0  0  0\n",
       "1  0  1  0  0  0  0\n",
       "2  0  0  1  0  0  0\n",
       "3  0  0  0  1  0  0\n",
       "4  0  0  0  0  1  0\n",
       "5  0  0  0  0  0  1"
      ]
     },
     "execution_count": 7,
     "metadata": {},
     "output_type": "execute_result"
    }
   ],
   "source": [
    "import pandas as pd\n",
    "\n",
    "xx = np.arange(1, 7)\n",
    "xx_ohe = pd.get_dummies(xx)\n",
    "xx_ohe"
   ]
  },
  {
   "cell_type": "code",
   "execution_count": 10,
   "metadata": {},
   "outputs": [],
   "source": [
    "import matplotlib.pylab as plt\n",
    "import matplotlib as mpl\n",
    "import matplotlib.font_manager as fm\n",
    "import seaborn as sns\n",
    "\n",
    "sns.set_style(\"whitegrid\")\n",
    "mpl.rcParams['axes.unicode_minus'] = False\n",
    "plt.rcParams['font.size'] = 12\n",
    "\n",
    "path = \"/Library/Fonts/NanumGothic.otf\"\n",
    "font_name = fm.FontProperties(fname=path, size=20).get_name()\n",
    "\n",
    "plt.rc('font', family=font_name)"
   ]
  },
  {
   "cell_type": "code",
   "execution_count": 11,
   "metadata": {},
   "outputs": [
    {
     "data": {
      "image/png": "[encoded data removed]",
      "text/plain": [
       "<Figure size 432x288 with 1 Axes>"
      ]
     },
     "metadata": {},
     "output_type": "display_data"
    }
   ],
   "source": [
    "plt.bar(xx, rv.pmf(xx_ohe.values))\n",
    "plt.ylabel(\"P(x)\")\n",
    "plt.xlabel(\"표본값\")\n",
    "plt.title(\"카테고리분포의 확률질량함수\")\n",
    "plt.show()"
   ]
  },
  {
   "cell_type": "markdown",
   "metadata": {},
   "source": [
    "rvs 메서드로 생성한 값도 원핫인코딩 벡터다."
   ]
  },
  {
   "cell_type": "code",
   "execution_count": 12,
   "metadata": {},
   "outputs": [
    {
     "data": {
      "text/plain": [
       "array([[0, 0, 0, 0, 0, 1],\n",
       "       [0, 0, 1, 0, 0, 0],\n",
       "       [1, 0, 0, 0, 0, 0],\n",
       "       [0, 0, 0, 0, 1, 0],\n",
       "       [0, 0, 0, 0, 1, 0]])"
      ]
     },
     "execution_count": 12,
     "metadata": {},
     "output_type": "execute_result"
    }
   ],
   "source": [
    "np.random.seed(0)\n",
    "X = rv.rvs(100)\n",
    "X[:5]"
   ]
  },
  {
   "cell_type": "code",
   "execution_count": 13,
   "metadata": {},
   "outputs": [
    {
     "data": {
      "text/plain": [
       "(100, 6)"
      ]
     },
     "execution_count": 13,
     "metadata": {},
     "output_type": "execute_result"
    }
   ],
   "source": [
    "X.shape"
   ]
  },
  {
   "cell_type": "markdown",
   "metadata": {},
   "source": [
    "100개의 표본값을 생성하는 시뮬레이션 결과는 다음과 같다."
   ]
  },
  {
   "cell_type": "code",
   "execution_count": 14,
   "metadata": {},
   "outputs": [
    {
     "data": {
      "image/png": "[encoded data removed]",
      "text/plain": [
       "<Figure size 432x288 with 1 Axes>"
      ]
     },
     "metadata": {},
     "output_type": "display_data"
    }
   ],
   "source": [
    "y = X.sum(axis=0) / float(len(X))  # 6개 카테고리에 대한 평균\n",
    "plt.bar(np.arange(1, 7), y)\n",
    "plt.title(\"카테고리분포의 시뮬레이션 결과\")\n",
    "plt.xlabel(\"표본값\")\n",
    "plt.ylabel(\"비율\")\n",
    "plt.show()"
   ]
  },
  {
   "cell_type": "markdown",
   "metadata": {},
   "source": [
    "이론적인 확률분포와 시뮬레이션 결과를 비교하면 다음과 같다."
   ]
  },
  {
   "cell_type": "code",
   "execution_count": 15,
   "metadata": {},
   "outputs": [],
   "source": [
    "import pandas as pd"
   ]
  },
  {
   "cell_type": "code",
   "execution_count": 17,
   "metadata": {},
   "outputs": [
    {
     "data": {
      "text/html": [
       "<div>\n",
       "<style scoped>\n",
       "    .dataframe tbody tr th:only-of-type {\n",
       "        vertical-align: middle;\n",
       "    }\n",
       "\n",
       "    .dataframe tbody tr th {\n",
       "        vertical-align: top;\n",
       "    }\n",
       "\n",
       "    .dataframe thead th {\n",
       "        text-align: right;\n",
       "    }\n",
       "</style>\n",
       "<table border=\"1\" class=\"dataframe\">\n",
       "  <thead>\n",
       "    <tr style=\"text-align: right;\">\n",
       "      <th></th>\n",
       "      <th>표본값</th>\n",
       "      <th>유형</th>\n",
       "      <th>비율</th>\n",
       "    </tr>\n",
       "  </thead>\n",
       "  <tbody>\n",
       "    <tr>\n",
       "      <th>0</th>\n",
       "      <td>1</td>\n",
       "      <td>시뮬레이션</td>\n",
       "      <td>0.08</td>\n",
       "    </tr>\n",
       "    <tr>\n",
       "      <th>1</th>\n",
       "      <td>1</td>\n",
       "      <td>이론</td>\n",
       "      <td>0.10</td>\n",
       "    </tr>\n",
       "    <tr>\n",
       "      <th>2</th>\n",
       "      <td>2</td>\n",
       "      <td>시뮬레이션</td>\n",
       "      <td>0.11</td>\n",
       "    </tr>\n",
       "    <tr>\n",
       "      <th>3</th>\n",
       "      <td>2</td>\n",
       "      <td>이론</td>\n",
       "      <td>0.10</td>\n",
       "    </tr>\n",
       "    <tr>\n",
       "      <th>4</th>\n",
       "      <td>3</td>\n",
       "      <td>시뮬레이션</td>\n",
       "      <td>0.11</td>\n",
       "    </tr>\n",
       "    <tr>\n",
       "      <th>5</th>\n",
       "      <td>3</td>\n",
       "      <td>이론</td>\n",
       "      <td>0.10</td>\n",
       "    </tr>\n",
       "    <tr>\n",
       "      <th>6</th>\n",
       "      <td>4</td>\n",
       "      <td>시뮬레이션</td>\n",
       "      <td>0.11</td>\n",
       "    </tr>\n",
       "    <tr>\n",
       "      <th>7</th>\n",
       "      <td>4</td>\n",
       "      <td>이론</td>\n",
       "      <td>0.10</td>\n",
       "    </tr>\n",
       "    <tr>\n",
       "      <th>8</th>\n",
       "      <td>5</td>\n",
       "      <td>시뮬레이션</td>\n",
       "      <td>0.23</td>\n",
       "    </tr>\n",
       "    <tr>\n",
       "      <th>9</th>\n",
       "      <td>5</td>\n",
       "      <td>이론</td>\n",
       "      <td>0.30</td>\n",
       "    </tr>\n",
       "    <tr>\n",
       "      <th>10</th>\n",
       "      <td>6</td>\n",
       "      <td>시뮬레이션</td>\n",
       "      <td>0.36</td>\n",
       "    </tr>\n",
       "    <tr>\n",
       "      <th>11</th>\n",
       "      <td>6</td>\n",
       "      <td>이론</td>\n",
       "      <td>0.30</td>\n",
       "    </tr>\n",
       "  </tbody>\n",
       "</table>\n",
       "</div>"
      ],
      "text/plain": [
       "    표본값     유형    비율\n",
       "0     1  시뮬레이션  0.08\n",
       "1     1     이론  0.10\n",
       "2     2  시뮬레이션  0.11\n",
       "3     2     이론  0.10\n",
       "4     3  시뮬레이션  0.11\n",
       "5     3     이론  0.10\n",
       "6     4  시뮬레이션  0.11\n",
       "7     4     이론  0.10\n",
       "8     5  시뮬레이션  0.23\n",
       "9     5     이론  0.30\n",
       "10    6  시뮬레이션  0.36\n",
       "11    6     이론  0.30"
      ]
     },
     "execution_count": 17,
     "metadata": {},
     "output_type": "execute_result"
    }
   ],
   "source": [
    "df = pd.DataFrame({\"이론\": rv.pmf(xx_ohe.values), \"시뮬레이션\": y}, index=np.arange(1, 7)).stack()\n",
    "df = df.reset_index()\n",
    "df.columns = [\"표본값\", \"유형\", \"비율\"]\n",
    "df.pivot(\"표본값\", \"유형\", \"비율\")\n",
    "df"
   ]
  },
  {
   "cell_type": "code",
   "execution_count": 21,
   "metadata": {},
   "outputs": [
    {
     "data": {
      "image/png": "[encoded data removed]",
      "text/plain": [
       "<Figure size 432x288 with 1 Axes>"
      ]
     },
     "metadata": {},
     "output_type": "display_data"
    }
   ],
   "source": [
    "sns.barplot(x=\"표본값\", y=\"비율\", hue=\"유형\", data=df)\n",
    "plt.title(\"카테고리분포의 이론적 분포와 시뮬레이션 분포\", y=1.05)\n",
    "plt.show()"
   ]
  },
  {
   "cell_type": "markdown",
   "metadata": {},
   "source": [
    "### Practice 2\n",
    "\n",
    "카테고리 확률분포의 모수가 다음과 같을 경우에 각각 표본을 생성한 후 기대값과 분산을 구하고 앞의 예제와 같이 확률질량함수와 비교한 바 플롯을 그린다.\n",
    "\n",
    "표본이 10개인 경우와 1000개인 경우에 대해 각각 위의 계산을 한다.\n",
    "\n",
    "1. 𝜇=(0.25,0.25,0.25,0.25) \n",
    "2. 𝜇=(0.3,0.3,0.2,0.2)"
   ]
  },
  {
   "cell_type": "code",
   "execution_count": 28,
   "metadata": {},
   "outputs": [],
   "source": [
    "mu_1 = [0.25, 0.25, 0.25, 0.25]\n",
    "mu_2 = [0.3, 0.3, 0.2, 0.2]\n",
    "\n",
    "rv1 = sp.stats.multinomial(1, mu_1)\n",
    "rv2 = sp.stats.multinomial(1, mu_2)"
   ]
  },
  {
   "cell_type": "code",
   "execution_count": 27,
   "metadata": {},
   "outputs": [
    {
     "data": {
      "image/png": "[encoded data removed]",
      "text/plain": [
       "<Figure size 432x288 with 2 Axes>"
      ]
     },
     "metadata": {},
     "output_type": "display_data"
    }
   ],
   "source": [
    "# 확률질량함수\n",
    "xx = np.arange(1, 5)\n",
    "xx_ohe = pd.get_dummies(xx)\n",
    "\n",
    "plt.subplot(121)\n",
    "plt.bar(xx, rv1.pmf(xx_ohe.values))\n",
    "plt.ylabel(\"P(x)\")\n",
    "plt.xlabel(\"표본값\")\n",
    "plt.ylim(0, 0.35)\n",
    "plt.title(\"rv1 확률질량함수\")\n",
    "\n",
    "plt.subplot(122)\n",
    "plt.bar(xx, rv2.pmf(xx_ohe.values))\n",
    "plt.ylabel(\"P(x)\")\n",
    "plt.xlabel(\"표본값\")\n",
    "plt.title(\"rv2 확률질량함수\")\n",
    "plt.ylim(0, 0.35)\n",
    "\n",
    "plt.tight_layout()\n",
    "plt.show()"
   ]
  },
  {
   "cell_type": "code",
   "execution_count": 29,
   "metadata": {},
   "outputs": [],
   "source": [
    "np.random.seed(0)\n",
    "\n",
    "X1 = rv1.rvs(10)\n",
    "X2 = rv2.rvs(1000)"
   ]
  },
  {
   "cell_type": "code",
   "execution_count": 31,
   "metadata": {},
   "outputs": [
    {
     "data": {
      "image/png": "[encoded data removed]",
      "text/plain": [
       "<Figure size 432x288 with 2 Axes>"
      ]
     },
     "metadata": {},
     "output_type": "display_data"
    }
   ],
   "source": [
    "#시뮬레이션 결과\n",
    "y1 = X1.sum(axis=0) / float(len(X1))\n",
    "y2 = X2.sum(axis=0) / float(len(X2))\n",
    "\n",
    "plt.subplot(121)\n",
    "plt.bar(np.arange(1, 5), y1)\n",
    "plt.title(\"rv1 시뮬레이션 결과\")\n",
    "plt.xlabel(\"표본값\")\n",
    "plt.ylabel(\"비율\")\n",
    "\n",
    "plt.subplot(122)\n",
    "plt.bar(np.arange(1, 5), y2)\n",
    "plt.title(\"rv2 시뮬레이션 결과\")\n",
    "plt.xlabel(\"표본값\")\n",
    "plt.ylabel(\"비율\")\n",
    "\n",
    "plt.tight_layout()\n",
    "plt.show()"
   ]
  },
  {
   "cell_type": "code",
   "execution_count": 36,
   "metadata": {},
   "outputs": [
    {
     "data": {
      "text/html": [
       "<div>\n",
       "<style scoped>\n",
       "    .dataframe tbody tr th:only-of-type {\n",
       "        vertical-align: middle;\n",
       "    }\n",
       "\n",
       "    .dataframe tbody tr th {\n",
       "        vertical-align: top;\n",
       "    }\n",
       "\n",
       "    .dataframe thead th {\n",
       "        text-align: right;\n",
       "    }\n",
       "</style>\n",
       "<table border=\"1\" class=\"dataframe\">\n",
       "  <thead>\n",
       "    <tr style=\"text-align: right;\">\n",
       "      <th></th>\n",
       "      <th>표본값</th>\n",
       "      <th>유형</th>\n",
       "      <th>비율</th>\n",
       "    </tr>\n",
       "  </thead>\n",
       "  <tbody>\n",
       "    <tr>\n",
       "      <th>0</th>\n",
       "      <td>1</td>\n",
       "      <td>시뮬레이션1</td>\n",
       "      <td>0.40</td>\n",
       "    </tr>\n",
       "    <tr>\n",
       "      <th>1</th>\n",
       "      <td>1</td>\n",
       "      <td>이론</td>\n",
       "      <td>0.25</td>\n",
       "    </tr>\n",
       "    <tr>\n",
       "      <th>2</th>\n",
       "      <td>2</td>\n",
       "      <td>시뮬레이션1</td>\n",
       "      <td>0.20</td>\n",
       "    </tr>\n",
       "    <tr>\n",
       "      <th>3</th>\n",
       "      <td>2</td>\n",
       "      <td>이론</td>\n",
       "      <td>0.25</td>\n",
       "    </tr>\n",
       "    <tr>\n",
       "      <th>4</th>\n",
       "      <td>3</td>\n",
       "      <td>시뮬레이션1</td>\n",
       "      <td>0.20</td>\n",
       "    </tr>\n",
       "    <tr>\n",
       "      <th>5</th>\n",
       "      <td>3</td>\n",
       "      <td>이론</td>\n",
       "      <td>0.25</td>\n",
       "    </tr>\n",
       "    <tr>\n",
       "      <th>6</th>\n",
       "      <td>4</td>\n",
       "      <td>시뮬레이션1</td>\n",
       "      <td>0.20</td>\n",
       "    </tr>\n",
       "    <tr>\n",
       "      <th>7</th>\n",
       "      <td>4</td>\n",
       "      <td>이론</td>\n",
       "      <td>0.25</td>\n",
       "    </tr>\n",
       "  </tbody>\n",
       "</table>\n",
       "</div>"
      ],
      "text/plain": [
       "   표본값      유형    비율\n",
       "0    1  시뮬레이션1  0.40\n",
       "1    1      이론  0.25\n",
       "2    2  시뮬레이션1  0.20\n",
       "3    2      이론  0.25\n",
       "4    3  시뮬레이션1  0.20\n",
       "5    3      이론  0.25\n",
       "6    4  시뮬레이션1  0.20\n",
       "7    4      이론  0.25"
      ]
     },
     "execution_count": 36,
     "metadata": {},
     "output_type": "execute_result"
    }
   ],
   "source": [
    "# 이론적 확률분포(확률질량함수)와 시뮬레이션 비교\n",
    "df = pd.DataFrame({\"이론\": rv1.pmf(xx_ohe.values), \"시뮬레이션1\": y1}, index=np.arange(1, 5)).stack()\n",
    "df = df.reset_index()\n",
    "df.columns = [\"표본값\", \"유형\", \"비율\"]\n",
    "df"
   ]
  },
  {
   "cell_type": "code",
   "execution_count": 37,
   "metadata": {},
   "outputs": [
    {
     "data": {
      "image/png": "[encoded data removed]",
      "text/plain": [
       "<Figure size 432x288 with 1 Axes>"
      ]
     },
     "metadata": {},
     "output_type": "display_data"
    }
   ],
   "source": [
    "sns.barplot(x=\"표본값\", y=\"비율\", hue=\"유형\", data=df)\n",
    "plt.title(\"이론적 분포(pmf)와 시뮬레이션 분포 비교\")\n",
    "plt.show()"
   ]
  },
  {
   "cell_type": "code",
   "execution_count": 41,
   "metadata": {},
   "outputs": [],
   "source": [
    "X1 = rv1.rvs(10)\n",
    "X2 = rv2.rvs(1000)"
   ]
  },
  {
   "cell_type": "code",
   "execution_count": 43,
   "metadata": {},
   "outputs": [
    {
     "data": {
      "text/plain": [
       "array([0.4, 0.2, 0.2, 0.2])"
      ]
     },
     "execution_count": 43,
     "metadata": {},
     "output_type": "execute_result"
    }
   ],
   "source": [
    "# 평균\n",
    "y1"
   ]
  },
  {
   "cell_type": "code",
   "execution_count": 44,
   "metadata": {},
   "outputs": [
    {
     "data": {
      "text/plain": [
       "array([0.324, 0.308, 0.215, 0.153])"
      ]
     },
     "execution_count": 44,
     "metadata": {},
     "output_type": "execute_result"
    }
   ],
   "source": [
    "y2"
   ]
  },
  {
   "cell_type": "code",
   "execution_count": 45,
   "metadata": {},
   "outputs": [
    {
     "data": {
      "text/plain": [
       "[0.24, 0.16000000000000003, 0.16000000000000003, 0.16000000000000003]"
      ]
     },
     "execution_count": 45,
     "metadata": {},
     "output_type": "execute_result"
    }
   ],
   "source": [
    "var1 = []\n",
    "var2 = []\n",
    "for i in range(4):\n",
    "    var1.append(y1[i] * (1 - y1[i]))\n",
    "    var2.append(y2[i] * (1 - y2[i]))\n",
    "\n",
    "var1"
   ]
  },
  {
   "cell_type": "code",
   "execution_count": 46,
   "metadata": {},
   "outputs": [
    {
     "data": {
      "text/plain": [
       "[0.219024, 0.213136, 0.168775, 0.12959099999999998]"
      ]
     },
     "execution_count": 46,
     "metadata": {},
     "output_type": "execute_result"
    }
   ],
   "source": [
    "var2"
   ]
  },
  {
   "cell_type": "markdown",
   "metadata": {},
   "source": [
    "### 다중 분류문제\n",
    "\n",
    "스팸메일 필터링과 같은 이진분류문제에서는 베르누이분포를 사용하였다. 예측할 범주값이 두 가지보다 많은 다중분류문제(multi-class classification)에서는 카테고리분포를 사용하여 범주값 데이터 모형을 만들 수 있다.\n",
    "\n",
    "다음은 사이킷런(Scikit-Learn) 패키지에서 제공하는 붓꽃 데이터의 품종값을 시각화한 것이다. 0, 1, 2 세 가지의 범주값을 가지는 붓꽃 데이터의 품종값은 카테고리  𝐾=3 인 카테고리분포를 이룬다. 꽃잎 폭이라는 하는 특징에 따라 카테고리분포의 모양이 달라지는 것을 볼 수 있다."
   ]
  },
  {
   "cell_type": "code",
   "execution_count": 48,
   "metadata": {},
   "outputs": [
    {
     "data": {
      "text/html": [
       "<div>\n",
       "<style scoped>\n",
       "    .dataframe tbody tr th:only-of-type {\n",
       "        vertical-align: middle;\n",
       "    }\n",
       "\n",
       "    .dataframe tbody tr th {\n",
       "        vertical-align: top;\n",
       "    }\n",
       "\n",
       "    .dataframe thead th {\n",
       "        text-align: right;\n",
       "    }\n",
       "</style>\n",
       "<table border=\"1\" class=\"dataframe\">\n",
       "  <thead>\n",
       "    <tr style=\"text-align: right;\">\n",
       "      <th></th>\n",
       "      <th>sepal length (cm)</th>\n",
       "      <th>sepal width (cm)</th>\n",
       "      <th>petal length (cm)</th>\n",
       "      <th>petal width (cm)</th>\n",
       "      <th>품종</th>\n",
       "    </tr>\n",
       "  </thead>\n",
       "  <tbody>\n",
       "    <tr>\n",
       "      <th>145</th>\n",
       "      <td>6.7</td>\n",
       "      <td>3.0</td>\n",
       "      <td>5.2</td>\n",
       "      <td>2.3</td>\n",
       "      <td>2</td>\n",
       "    </tr>\n",
       "    <tr>\n",
       "      <th>146</th>\n",
       "      <td>6.3</td>\n",
       "      <td>2.5</td>\n",
       "      <td>5.0</td>\n",
       "      <td>1.9</td>\n",
       "      <td>2</td>\n",
       "    </tr>\n",
       "    <tr>\n",
       "      <th>147</th>\n",
       "      <td>6.5</td>\n",
       "      <td>3.0</td>\n",
       "      <td>5.2</td>\n",
       "      <td>2.0</td>\n",
       "      <td>2</td>\n",
       "    </tr>\n",
       "    <tr>\n",
       "      <th>148</th>\n",
       "      <td>6.2</td>\n",
       "      <td>3.4</td>\n",
       "      <td>5.4</td>\n",
       "      <td>2.3</td>\n",
       "      <td>2</td>\n",
       "    </tr>\n",
       "    <tr>\n",
       "      <th>149</th>\n",
       "      <td>5.9</td>\n",
       "      <td>3.0</td>\n",
       "      <td>5.1</td>\n",
       "      <td>1.8</td>\n",
       "      <td>2</td>\n",
       "    </tr>\n",
       "  </tbody>\n",
       "</table>\n",
       "</div>"
      ],
      "text/plain": [
       "     sepal length (cm)  sepal width (cm)  petal length (cm)  petal width (cm)  \\\n",
       "145                6.7               3.0                5.2               2.3   \n",
       "146                6.3               2.5                5.0               1.9   \n",
       "147                6.5               3.0                5.2               2.0   \n",
       "148                6.2               3.4                5.4               2.3   \n",
       "149                5.9               3.0                5.1               1.8   \n",
       "\n",
       "    품종  \n",
       "145  2  \n",
       "146  2  \n",
       "147  2  \n",
       "148  2  \n",
       "149  2  "
      ]
     },
     "execution_count": 48,
     "metadata": {},
     "output_type": "execute_result"
    }
   ],
   "source": [
    "from sklearn.datasets import load_iris\n",
    "\n",
    "iris = load_iris()\n",
    "df = pd.DataFrame(iris.data, columns=iris.feature_names)\n",
    "df[\"품종\"] = pd.Series(iris.target, dtype=\"category\")\n",
    "\n",
    "df.tail()"
   ]
  },
  {
   "cell_type": "code",
   "execution_count": 50,
   "metadata": {},
   "outputs": [],
   "source": [
    "df1 = df[df[\"petal width (cm)\"] > 1.5]  # petal width >1.5이상인 데이터만 추출\n",
    "df2 = df[df[\"petal width (cm)\"] <= 1.5] "
   ]
  },
  {
   "cell_type": "code",
   "execution_count": 51,
   "metadata": {},
   "outputs": [
    {
     "data": {
      "image/png": "[encoded data removed]",
      "text/plain": [
       "<Figure size 432x288 with 2 Axes>"
      ]
     },
     "metadata": {},
     "output_type": "display_data"
    }
   ],
   "source": [
    "fig, ax = plt.subplots(1, 2)\n",
    "sns.countplot(x=\"품종\", data=df1, ax=ax[0]).set_title(\"꽃잎 폭 > 1.5cm\")\n",
    "sns.countplot(x=\"품종\", data=df2, ax=ax[1]).set_title(\"꽃잎 폭 <= 1.5cm\")\n",
    "plt.tight_layout()\n",
    "plt.show()"
   ]
  },
  {
   "cell_type": "markdown",
   "metadata": {},
   "source": [
    "### 다항분포\n",
    "\n",
    "베르누이 확률변수의 데이터가 복수이면 이 데이터의 합이 이항 분포를 이루는 것처럼 카테고리 확률변수의 데이터가 여럿 있으면 이 데이터의 합은 다항분포(Multinomial distribution)가 된다. 비유를 들면 동전을  𝑁 번 던져 앞면이 나오는 횟수의 분포가 이항 분포이고 주사위를  𝑁 번 던져 각 면이 나오는 횟수 집합의 분포가 다항분포다.\n",
    "\n",
    "다항분포는 카테고리가  𝐾 개인 카테고리 확률변수의 표본 데이터를  𝑁 개 얻었을 때, 각각의 카테고리  𝑘(𝑘=1,…,𝐾) 가 각각  𝑥𝑘 번 나올 확률분포 즉, 표본값이 벡터  𝑥=(𝑥1,⋯,𝑥𝐾) 가 되는 확률분포를 말한다.\n",
    "\n",
    "예를 들어  𝑥=(1,2,1,2,3,1) 은 6개의 숫자가 나올 수 있는 주사위를 10번 던져서 1인 면이 1번, 2인 면이 2번, 3인 면이 1번, 4인 면이 2번, 5인 면이 3 번, 6인 면이 1번 나왔다는 뜻이다.\n",
    "\n",
    "다항분포의 확률질량함수는  Mu(𝑥;𝑁,𝜇) 와 같이 표기하며 다음과 같은 수식을 따른다."
   ]
  },
  {
   "cell_type": "markdown",
   "metadata": {},
   "source": [
    "$$\\text{Mu}(x;N,\\mu) = \\binom N x  \\prod_{k=1}^K \\mu_k^{x_k} = \\binom N {x_1, \\cdots, x_K} \\prod_{k=1}^K \\mu_k^{x_k}$$\n",
    "\n",
    "이 식에서 조합 기호는 다음과 같이 정의된다.\n",
    "\n",
    "$$\\binom N {x_1, \\cdots, x_K} = \\dfrac{N!}{x_1! \\cdots x_K!}$$"
   ]
  },
  {
   "cell_type": "markdown",
   "metadata": {},
   "source": [
    "### Practice 2\n",
    "\n",
    "𝐾=2 인 다항분포의 확률질량함수가 이항 확률분포의 확률질량함수와 같음을 보여라."
   ]
  },
  {
   "cell_type": "markdown",
   "metadata": {},
   "source": [
    "### 다항분포의 모멘트\n",
    "\n",
    "다항분포의 기댓값과 분산은 다음과 같다.\n",
    "\n",
    "+ 기대값\n",
    "\n",
    "$$\\text{E}[x_k] = N\\mu_k$$\n",
    "\n",
    "+ 분산\n",
    "\n",
    "$$\\text{Var}[x_k] = N\\mu_k(1-\\mu_k)$$"
   ]
  },
  {
   "cell_type": "markdown",
   "metadata": {},
   "source": [
    "### SciPy를 이용한 다항분포의 시뮬레이션\n",
    "\n",
    "SciPy는 다항분포를 위한 multinomial 클래스를 지원한다. 인수로는 시행 횟수  𝑁 과 모수 벡터  𝜇 를 받는다. 이 시뮬레이션은 5와 6이 다른 수보다 잘 나오게 만든 조작된 주사위를 30번 던졌을 때 나올 수 있는 여러 경우를 살펴본 것이다."
   ]
  },
  {
   "cell_type": "code",
   "execution_count": 52,
   "metadata": {},
   "outputs": [
    {
     "data": {
      "text/plain": [
       "array([[ 3,  4,  3,  3,  8,  9],\n",
       "       [ 3,  3,  5,  6,  6,  7],\n",
       "       [ 4,  3,  3,  5,  5, 10],\n",
       "       [ 1,  0,  5,  5, 12,  7],\n",
       "       [ 7,  4,  2,  3,  5,  9],\n",
       "       [ 3,  1,  6,  3,  8,  9],\n",
       "       [ 2,  4,  3,  3,  5, 13],\n",
       "       [ 3,  3,  3,  6,  8,  7],\n",
       "       [ 2,  3,  4,  1, 11,  9],\n",
       "       [ 4,  2,  1,  2, 10, 11]])"
      ]
     },
     "execution_count": 52,
     "metadata": {},
     "output_type": "execute_result"
    }
   ],
   "source": [
    "N = 30\n",
    "mu = [0.1, 0.1, 0.1, 0.1, 0.3, 0.3]\n",
    "rv = sp.stats.multinomial(N, mu)\n",
    "\n",
    "np.random.seed(0)\n",
    "X = rv.rvs(100)\n",
    "X[:10]"
   ]
  },
  {
   "cell_type": "markdown",
   "metadata": {},
   "source": [
    "다음은 이 시뮬레이션 결과를 시본(seaborn) 패키지의 스웜 플롯(swarm plot) 명령과 바이올린 플롯(violin plot) 명령을 사용하여 시각화한 것이다. 스웜 플롯은 각 카테고리에 해당하는 실수값 데이터 집합을 하나하나 점으로 나타낸 것이고 바이올린 플롯은 이 데이터의 분포를 커널밀도(kernel density)라는 부드러운 곡선으로 표현한 것이다."
   ]
  },
  {
   "cell_type": "code",
   "execution_count": 53,
   "metadata": {},
   "outputs": [
    {
     "data": {
      "text/html": [
       "<div>\n",
       "<style scoped>\n",
       "    .dataframe tbody tr th:only-of-type {\n",
       "        vertical-align: middle;\n",
       "    }\n",
       "\n",
       "    .dataframe tbody tr th {\n",
       "        vertical-align: top;\n",
       "    }\n",
       "\n",
       "    .dataframe thead th {\n",
       "        text-align: right;\n",
       "    }\n",
       "</style>\n",
       "<table border=\"1\" class=\"dataframe\">\n",
       "  <thead>\n",
       "    <tr style=\"text-align: right;\">\n",
       "      <th></th>\n",
       "      <th>level_0</th>\n",
       "      <th>level_1</th>\n",
       "      <th>0</th>\n",
       "    </tr>\n",
       "  </thead>\n",
       "  <tbody>\n",
       "    <tr>\n",
       "      <th>595</th>\n",
       "      <td>99</td>\n",
       "      <td>1</td>\n",
       "      <td>3</td>\n",
       "    </tr>\n",
       "    <tr>\n",
       "      <th>596</th>\n",
       "      <td>99</td>\n",
       "      <td>2</td>\n",
       "      <td>3</td>\n",
       "    </tr>\n",
       "    <tr>\n",
       "      <th>597</th>\n",
       "      <td>99</td>\n",
       "      <td>3</td>\n",
       "      <td>2</td>\n",
       "    </tr>\n",
       "    <tr>\n",
       "      <th>598</th>\n",
       "      <td>99</td>\n",
       "      <td>4</td>\n",
       "      <td>10</td>\n",
       "    </tr>\n",
       "    <tr>\n",
       "      <th>599</th>\n",
       "      <td>99</td>\n",
       "      <td>5</td>\n",
       "      <td>10</td>\n",
       "    </tr>\n",
       "  </tbody>\n",
       "</table>\n",
       "</div>"
      ],
      "text/plain": [
       "     level_0  level_1   0\n",
       "595       99        1   3\n",
       "596       99        2   3\n",
       "597       99        3   2\n",
       "598       99        4  10\n",
       "599       99        5  10"
      ]
     },
     "execution_count": 53,
     "metadata": {},
     "output_type": "execute_result"
    }
   ],
   "source": [
    "df = pd.DataFrame(X).stack().reset_index()\n",
    "df.tail()"
   ]
  },
  {
   "cell_type": "code",
   "execution_count": 54,
   "metadata": {},
   "outputs": [
    {
     "data": {
      "image/png": "[encoded data removed]",
      "text/plain": [
       "<Figure size 432x288 with 1 Axes>"
      ]
     },
     "metadata": {},
     "output_type": "display_data"
    }
   ],
   "source": [
    "df.columns = [\"시도\", \"클래스\", \"표본값\"]\n",
    "\n",
    "sns.violinplot(x=\"클래스\", y=\"표본값\", data=df, inner=\"quartile\")\n",
    "sns.swarmplot(x=\"클래스\", y=\"표본값\", data=df, color=\".3\")\n",
    "plt.title(\"다항분포의 시뮬레이션 결과\")\n",
    "plt.show()"
   ]
  },
  {
   "cell_type": "markdown",
   "metadata": {},
   "source": [
    "맷플롯리브(matplotlib) 패키지의 박스 플롯(box plot) 명령으로 보다 단순하게 시각화 할 수도 있다. boxplot 명령은 박스-휘스커 플롯(Box-Whisker Plot) 혹은 간단히 박스 플롯이라 부르는 차트를 그려준다. 박스 플롯은 상자(box)와 상자 바깥의 선(whisker)으로 이루어진다.\n",
    "\n",
    "상자는 실수 값 분포에서 1사분위수(Q1)와 3사분위수(Q3)를 뜻하고 이 3사분위수와 1사분수의 차이(Q3 - Q1)를 IQR(inter-quartile range)이라고 한다. 상자 내부의 가로선은 중앙값을 나타낸다. 박스 외부의 세로선은 1사분위 수보다 1.5IQR만큼 낮은 값과 3사분위 수보다 1.5IQR만큼 높은 값의 구간을 기준으로 그 구간의 내부에 있는 가장 큰 데이터와 가장 작은 데이터를 잇는 선분이다. 그 바깥의 점은 아웃라이어(outlier)라고 부르는데 점으로 표시한다."
   ]
  },
  {
   "cell_type": "code",
   "execution_count": 55,
   "metadata": {},
   "outputs": [
    {
     "data": {
      "image/png": "[encoded data removed]",
      "text/plain": [
       "<Figure size 432x288 with 1 Axes>"
      ]
     },
     "metadata": {},
     "output_type": "display_data"
    }
   ],
   "source": [
    "plt.boxplot(X)\n",
    "plt.title(\"다항분포의 시뮬레이션 결과\")\n",
    "plt.xlabel(\"클래스\")\n",
    "plt.ylabel(\"표본값\")\n",
    "plt.show()"
   ]
  },
  {
   "cell_type": "markdown",
   "metadata": {},
   "source": [
    "다항분포의 표본 하나는 같은 모수를 가진 카테고리분포를 표본 여러개를 합쳐놓은 것이므로 다항분포의 표본이 이루는 분포의 모양은 카테고리분포와 비슷해진다."
   ]
  },
  {
   "cell_type": "code",
   "execution_count": null,
   "metadata": {},
   "outputs": [],
   "source": []
  }
 ],
 "metadata": {
  "kernelspec": {
   "display_name": "Python 3",
   "language": "python",
   "name": "python3"
  },
  "language_info": {
   "codemirror_mode": {
    "name": "ipython",
    "version": 3
   },
   "file_extension": ".py",
   "mimetype": "text/x-python",
   "name": "python",
   "nbconvert_exporter": "python",
   "pygments_lexer": "ipython3",
   "version": "3.5.1"
  }
 },
 "nbformat": 4,
 "nbformat_minor": 2
}
