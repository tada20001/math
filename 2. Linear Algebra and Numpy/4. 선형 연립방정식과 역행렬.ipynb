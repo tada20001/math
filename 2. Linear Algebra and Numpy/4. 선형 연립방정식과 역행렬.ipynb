{
 "cells": [
  {
   "cell_type": "markdown",
   "metadata": {},
   "source": [
    "선형 예측모형은 입력 데이터 벡터와 가중치 벡터의 내적으로 계산된 예측값이 실제 출력 데이터와 유사한 값을 출력하도록 하는 모형이다. 이때 가중치 벡터는 연립방정식과 역행렬을 이용하여 구할 수 있다."
   ]
  },
  {
   "cell_type": "markdown",
   "metadata": {},
   "source": [
    "### 선형 연립방정식\n",
    "복수의 미지수를 포함하는 복수의 선형 방정식을 선형 연립방정식(system of linear equations) 또는 연립일차방정식이라고 한다.\n",
    "\n",
    "다음은 3개의 미지수와 3개의 선형 방정식을 가지는 선형 연립방정식의 한 예다."
   ]
  },
  {
   "cell_type": "markdown",
   "metadata": {},
   "source": [
    "\\begin{matrix}\n",
    "x_1 & + & x_2 &   &     & = & 2  \\\\\n",
    "    &   & x_2 & + & x_3 & = & 2  \\\\\n",
    "x_1 & + & x_2 & + & x_3 & = & 3  \\\\\n",
    "\\end{matrix}"
   ]
  },
  {
   "cell_type": "markdown",
   "metadata": {},
   "source": [
    "𝑥1,𝑥2,⋯,𝑥𝑀  이라는 𝑀 개의 미지수를 가지는 𝑁개의 선형 연립방정식은 일반적으로 다음과 같은 형태가 된다. 이 식에서 𝑎와 𝑏는 방정식의 계수다.\n",
    "\n",
    "\\begin{align}\n",
    "\\begin{matrix}\n",
    "a_{11} x_1 & + \\;& a_{12} x_2   &\\; + \\cdots + \\;& a_{1M} x_M &\\; = \\;& b_1 \\\\\n",
    "a_{21} x_1 & + \\;& a_{22} x_2   &\\; + \\cdots + \\;& a_{2M} x_M &\\; = \\;& b_2 \\\\\n",
    "\\vdots\\;\\;\\; &   & \\vdots\\;\\;\\; &                & \\vdots\\;\\;\\; &     & \\;\\vdots \\\\\n",
    "a_{N1} x_1 & + \\;& a_{N2} x_2   &\\; + \\cdots + \\;& a_{NM} x_M &\\; = \\;& b_N \\\\\n",
    "\\end{matrix}\n",
    "\\end{align}"
   ]
  },
  {
   "cell_type": "markdown",
   "metadata": {},
   "source": [
    "행렬과 벡터의 곱셈을 이용하면 위 선형 연립방정식은 다음처럼 간단하게 쓸 수 있다.\n",
    "\n",
    "\\begin{align}\n",
    "\\begin{bmatrix}\n",
    "a_{11} & a_{12} & \\cdots & a_{1M} \\\\\n",
    "a_{21} & a_{22} & \\cdots & a_{2M} \\\\\n",
    "\\vdots & \\vdots & \\ddots & \\vdots \\\\\n",
    "a_{N1} & a_{N2} & \\cdots & a_{NM} \\\\\n",
    "\\end{bmatrix}\n",
    "\\begin{bmatrix}\n",
    "x_1 \\\\ x_2 \\\\ \\vdots \\\\ x_M\n",
    "\\end{bmatrix}\n",
    "=\n",
    "\\begin{bmatrix}\n",
    "b_1 \\\\ b_2 \\\\ \\vdots \\\\ b_N\n",
    "\\end{bmatrix}\n",
    "\\end{align}"
   ]
  },
  {
   "cell_type": "markdown",
   "metadata": {},
   "source": [
    "라고 하면 다음처럼 쓸 수 있다.\n",
    "\n",
    "\\begin{align}\n",
    "Ax = b  \n",
    "\\end{align}"
   ]
  },
  {
   "cell_type": "markdown",
   "metadata": {},
   "source": [
    "𝐴,𝑥,𝑏  는 각각 계수행렬(coefficient matrix), 미지수벡터(unknown vector), 상수벡터(constant vector)라고 부른다.\n",
    "\n",
    "이 표현을 따르면 앞에서 예로 든 선형 연립방정식은 다음처럼 표현할 수 있다."
   ]
  },
  {
   "cell_type": "markdown",
   "metadata": {},
   "source": [
    "\\begin{align}\n",
    "A = \n",
    "\\begin{bmatrix}\n",
    " 1 & 1 & 0 \\\\\n",
    " 0 & 1 & 1 \\\\\n",
    " 1 & 1 & 1 \\\\\n",
    "\\end{bmatrix}, \\;\\;\\;\n",
    "x = \\begin{bmatrix}\n",
    "x_1 \\\\ x_2 \\\\ x_3\n",
    "\\end{bmatrix}, \\;\\;\\;\n",
    "b = \\begin{bmatrix}\n",
    "2 \\\\ 2 \\\\ 3\n",
    "\\end{bmatrix}\n",
    "\\end{align}\n"
   ]
  },
  {
   "cell_type": "markdown",
   "metadata": {},
   "source": [
    "만약  𝐴,𝑥,𝑏 가 행렬이 아닌 스칼라 실수라면 이 방정식은 나눗셈을 사용하여 다음처럼 쉽게 풀 수도 있을 것이다."
   ]
  },
  {
   "cell_type": "markdown",
   "metadata": {},
   "source": [
    "그러나 행렬에서는 나눗셈이 정의되지 않으므로 이 방법은 사용할 수 없다. 행렬에서는 나눗셈 대신 역행렬이라는 것을 사용한다."
   ]
  },
  {
   "cell_type": "markdown",
   "metadata": {},
   "source": [
    "### 역행렬\n",
    "정방 행렬  𝐴 에 대한 역행렬(inverse matrix)  𝐴−1 은 원래의 행렬  𝐴 와 다음 관계를 만족하는 정방 행렬을 말한다.  𝐼 는 항등 행렬(identity matrix)이다.\n"
   ]
  },
  {
   "cell_type": "markdown",
   "metadata": {},
   "source": [
    "\\begin{align}\n",
    "A^{-1} A = A A^{-1} = I  \n",
    "\\end{align}"
   ]
  },
  {
   "cell_type": "markdown",
   "metadata": {},
   "source": [
    "역행렬은 항상 존재하는 것이 아니라 행렬 A에 따라서는 존재하지 않을 수도 있다. 역행렬이 존재하는 행렬을 가역행렬(invertible matrix), 정칙행렬(regular matrix) 또는 비특이행렬(non-singular matrix)이라고 한다. 반대로 역행렬이 존재하지 않는 행렬을 비가역행렬(non-invertible) 또는 특이행렬(singular matrix), 퇴화행렬(degenerate matrix)이라고 한다."
   ]
  },
  {
   "cell_type": "markdown",
   "metadata": {},
   "source": [
    "### Practice 1\n",
    "대각행렬의 역행렬은 각 대각성분의 역수로 이루어진 대각행렬과 같다.\n",
    "\\begin{align}\n",
    "\\begin{bmatrix}\n",
    "\\lambda_{1} & 0 & \\cdots & 0 \\\\\n",
    "0 & \\lambda_{2} & \\cdots & 0 \\\\\n",
    "\\vdots & \\vdots & \\ddots & \\vdots \\\\\n",
    "0 & 0 & \\cdots & \\lambda_{N} \\\\\n",
    "\\end{bmatrix}^{-1}\n",
    "=\n",
    "\\begin{bmatrix}\n",
    "\\dfrac{1}{\\lambda_{1}} & 0 & \\cdots & 0 \\\\\n",
    "0 & \\dfrac{1}{\\lambda_{2}} & \\cdots & 0 \\\\\n",
    "\\vdots & \\vdots & \\ddots & \\vdots \\\\\n",
    "0 & 0 & \\cdots & \\dfrac{1}{\\lambda_{N}} \\\\\n",
    "\\end{bmatrix}\n",
    "\\end{align}"
   ]
  },
  {
   "cell_type": "markdown",
   "metadata": {},
   "source": [
    "𝑁=3 일 때 위 식을 증명하라."
   ]
  },
  {
   "cell_type": "markdown",
   "metadata": {},
   "source": [
    "### 역행렬의 성질"
   ]
  },
  {
   "cell_type": "markdown",
   "metadata": {},
   "source": [
    "역행렬은 다음 성질을 만족한다. 이 식에서 행렬  𝐴 ,  𝐵 ,  𝐶 는 모두 각각 역행렬  𝐴−1 ,  𝐵−1 ,  𝐶−1 이 존재한다고 가정한다.\n",
    "\n",
    "+ 전치 행렬의 역행렬은 역행렬의 전치 행렬과 같다. 따라서 대칭 행렬의 역행렬도 대칭 행렬이다.\n",
    "\\begin{align}\n",
    "(A^{T})^{-1} = (A^{-1})^{T}  \n",
    "\\end{align}"
   ]
  },
  {
   "cell_type": "markdown",
   "metadata": {},
   "source": [
    "+ 두 개 이상의 정방 행렬의 곱은 같은 크기의 정방 행렬이 되는데 이러한 행렬의 곱의 역행렬은 다음 성질이 성립한다.\n",
    "\\begin{align}\n",
    "(AB)^{-1} = B^{-1} A^{-1}  \n",
    "\\end{align}\n",
    "\n",
    "\\begin{align}\n",
    "(ABC)^{-1} = C^{-1} B^{-1} A^{-1}  \n",
    "\\end{align}"
   ]
  },
  {
   "cell_type": "markdown",
   "metadata": {},
   "source": [
    "### 역행렬의 계산\n",
    "역행렬은 행렬식을 이용하여 다음처럼 계산할 수 있다. 증명은 생략한다."
   ]
  },
  {
   "cell_type": "markdown",
   "metadata": {},
   "source": [
    "\\begin{align}\n",
    "A^{-1} = \\dfrac{1}{\\det (A)} C^T = \\dfrac{1}{\\det (A)} \n",
    "\\begin{bmatrix}\n",
    "C_{1,1} & \\cdots & C_{N,1}  \\\\\n",
    "\\vdots  & \\ddots & \\vdots   \\\\\n",
    "C_{1,N} & \\cdots & C_{N,N}  \\\\\n",
    "\\end{bmatrix}\n",
    "\\end{align}"
   ]
  },
  {
   "cell_type": "markdown",
   "metadata": {},
   "source": [
    "이 식에서  𝐶𝑖,𝑗 는  𝐴 의  𝑖,𝑗 번째 원소에 대해 정의한 코팩터(cofactor)다.\n",
    "\n",
    "코팩터로 이루어진 행렬  𝐶 을 코팩터행렬(matrix of cofactors, 또는 cofactor matrix, comatrix)이라고 한다. 또 코팩터행렬의 전치행렬  𝐶𝑇 를 어드조인트행렬(adjoint matrix, adjugate matrix, 수반행렬)이라고 하며  adj(𝐴) 로 표기하기도 한다.\n",
    "\n",
    "위 식에서  det(𝐴)=0 이면 역수가 존재하지 않으므로 역행렬은 행렬식이 0이 아닌 경우에만 존재한다는 것을 알 수 있다."
   ]
  },
  {
   "cell_type": "markdown",
   "metadata": {},
   "source": [
    "### Practice 2\n",
    "코팩터 식을 사용하여 다음 공식을 증명하라.\n",
    "\\begin{align}\n",
    "\\begin{bmatrix} \n",
    "a_{11} & a_{12} \\\\\n",
    "a_{21} & a_{22}  \n",
    "\\end{bmatrix}^{-1}\n",
    "=\n",
    "\\dfrac{1}{a_{11}a_{22} - a_{12}a_{21}}\n",
    "\\begin{bmatrix} \n",
    "a_{22} & -a_{12} \\\\\n",
    "-a_{21} & a_{11}  \n",
    "\\end{bmatrix}\n",
    "\\end{align}"
   ]
  },
  {
   "cell_type": "markdown",
   "metadata": {},
   "source": [
    "### Practice 3\n",
    "두 정방행렬  𝐴,𝐵 에 대해서  𝐴𝐵=𝐼 이면  𝐵𝐴=𝐼 임을 증명하라."
   ]
  },
  {
   "cell_type": "markdown",
   "metadata": {},
   "source": [
    "### 역행렬에 대한 정리\n",
    "역행렬에 대한 몇 가지 정리를 알아두면 도움이 된다."
   ]
  },
  {
   "cell_type": "markdown",
   "metadata": {},
   "source": [
    "#### 1. 셔먼-모리슨(Sherman–Morrison) 공식\n",
    "정방행렬  𝐴 와 벡터  𝑢,𝑣 에 대해 다음 공식이 성립한다.\n",
    "\\begin{align}\n",
    "(A+uv^T)^{-1} = A^{-1} - {A^{-1}uv^T A^{-1} \\over 1 + v^T A^{-1}u} \n",
    "\\end{align}"
   ]
  },
  {
   "cell_type": "markdown",
   "metadata": {},
   "source": [
    "#### 2. 우드베리(Woodbury) 공식"
   ]
  },
  {
   "cell_type": "markdown",
   "metadata": {},
   "source": [
    "정방행렬  𝐴 와 이에 대응하는 적절한 크기의 행렬  𝑈,𝑉,𝐶 에 대해 다음 공식이 성립한다.\n",
    "\n",
    "\\begin{align}\n",
    "\\left(A+UCV \\right)^{-1} = A^{-1} - A^{-1}U \\left(C^{-1}+VA^{-1}U \\right)^{-1} VA^{-1} \n",
    "\\end{align}"
   ]
  },
  {
   "cell_type": "markdown",
   "metadata": {},
   "source": [
    "#### 3. 분할 행렬의 역행렬\n",
    "4개 블록(block)으로 분할된 행렬(partitioned matrix)의 역행렬은 각 분할 행렬을 이용하여 계산할 수 있다."
   ]
  },
  {
   "cell_type": "markdown",
   "metadata": {},
   "source": [
    "\\begin{align}\n",
    "\\begin{bmatrix}\n",
    "A_{11} & A_{12} \\\\\n",
    "A_{21} & A_{22} \n",
    "\\end{bmatrix}^{-1}\n",
    "=\n",
    "\\begin{bmatrix}\n",
    "A_{11}^{-1}(I + A_{12}FA_{11}^{-1}) & -A_{11}^{-1}A_{12}F \\\\\n",
    "-FA_{21}A_{11}^{-1} & F\n",
    "\\end{bmatrix}\n",
    "\\end{align}"
   ]
  },
  {
   "cell_type": "markdown",
   "metadata": {},
   "source": [
    "이 식에서  𝐹 는 다음과 같이 주어진다.\n",
    "\n",
    "\\begin{align}\n",
    "F = (A_{22} - A_{21}A_{11}^{-1}A_{12})^{-1}\n",
    "\\end{align}"
   ]
  },
  {
   "cell_type": "markdown",
   "metadata": {},
   "source": [
    "또는\n",
    "\n",
    "\\begin{align}\n",
    "F = (A_{11} - A_{12}A_{22}^{-1}A_{21})^{-1}\n",
    "\\end{align}"
   ]
  },
  {
   "cell_type": "markdown",
   "metadata": {},
   "source": [
    "### NumPy를 사용한 역행렬 계산\n",
    "NumPy의 linalg 서브패키지에는 역행렬을 구하는 inv 라는 명령어가 존재한다. 앞에서 예로 든 선형 연립방정식의 행렬  𝐴 의 역행렬은 다음처럼 구할 수 있다."
   ]
  },
  {
   "cell_type": "code",
   "execution_count": 5,
   "metadata": {},
   "outputs": [
    {
     "data": {
      "text/plain": [
       "array([[1, 1, 0],\n",
       "       [0, 1, 1],\n",
       "       [1, 1, 1]])"
      ]
     },
     "execution_count": 5,
     "metadata": {},
     "output_type": "execute_result"
    }
   ],
   "source": [
    "import numpy as np\n",
    "A = np.array([[1, 1, 0], [0, 1, 1], [1, 1, 1]])\n",
    "A"
   ]
  },
  {
   "cell_type": "code",
   "execution_count": 7,
   "metadata": {},
   "outputs": [
    {
     "data": {
      "text/plain": [
       "array([[ 0., -1.,  1.],\n",
       "       [ 1.,  1., -1.],\n",
       "       [-1.,  0.,  1.]])"
      ]
     },
     "execution_count": 7,
     "metadata": {},
     "output_type": "execute_result"
    }
   ],
   "source": [
    "Ainv = np.linalg.inv(A)\n",
    "Ainv"
   ]
  },
  {
   "cell_type": "markdown",
   "metadata": {},
   "source": [
    "### 역행렬과 선형 연립방정식의 해\n",
    "선형 연립방정식에서 미지수의 수와 방정식의 수가 같다면 계수행렬  𝐴 는 정방행렬이 된다. 만약 행렬  𝐴 의 역행렬  𝐴−1  이 존재한다면 역행렬의 정의로부터 선형 연립방정식의 해는 다음처럼 구할 수 있다. 행렬과 벡터의 순서에 주의하라."
   ]
  },
  {
   "cell_type": "markdown",
   "metadata": {},
   "source": [
    "\\begin{align}\n",
    "Ax = b\n",
    "\\end{align}\n",
    "\\begin{align}\n",
    "A^{-1}Ax = A^{-1}b\n",
    "\\end{align}\n",
    "\\begin{align}\n",
    "Ix = A^{-1}b\n",
    "\\end{align}\n",
    "\\begin{align}\n",
    "x = A^{-1}b  \n",
    "\\tag{2.4.16}\n",
    "\\end{align}"
   ]
  },
  {
   "cell_type": "markdown",
   "metadata": {},
   "source": [
    "NumPy을 이용하여 앞에서 예로 든 선형 연립방정식의 해  𝑥 를 구하는 방법은 다음과 같다."
   ]
  },
  {
   "cell_type": "code",
   "execution_count": 8,
   "metadata": {},
   "outputs": [
    {
     "data": {
      "text/plain": [
       "array([[2],\n",
       "       [2],\n",
       "       [3]])"
      ]
     },
     "execution_count": 8,
     "metadata": {},
     "output_type": "execute_result"
    }
   ],
   "source": [
    "b = np.array([[2], [2], [3]])\n",
    "b"
   ]
  },
  {
   "cell_type": "code",
   "execution_count": 9,
   "metadata": {},
   "outputs": [
    {
     "data": {
      "text/plain": [
       "array([[1, 1, 0],\n",
       "       [0, 1, 1],\n",
       "       [1, 1, 1]])"
      ]
     },
     "execution_count": 9,
     "metadata": {},
     "output_type": "execute_result"
    }
   ],
   "source": [
    "A"
   ]
  },
  {
   "cell_type": "code",
   "execution_count": 10,
   "metadata": {},
   "outputs": [],
   "source": [
    "x = np.linalg.inv(A) @ b"
   ]
  },
  {
   "cell_type": "code",
   "execution_count": 11,
   "metadata": {},
   "outputs": [
    {
     "data": {
      "text/plain": [
       "array([[1.],\n",
       "       [1.],\n",
       "       [1.]])"
      ]
     },
     "execution_count": 11,
     "metadata": {},
     "output_type": "execute_result"
    }
   ],
   "source": [
    "x"
   ]
  },
  {
   "cell_type": "markdown",
   "metadata": {},
   "source": [
    "이 벡터를 원래의 연립방정식에 대입하여 상수벡터  𝑏 와 값이 일치하는지 확인해보자."
   ]
  },
  {
   "cell_type": "code",
   "execution_count": 13,
   "metadata": {},
   "outputs": [
    {
     "data": {
      "text/plain": [
       "array([[0.],\n",
       "       [0.],\n",
       "       [0.]])"
      ]
     },
     "execution_count": 13,
     "metadata": {},
     "output_type": "execute_result"
    }
   ],
   "source": [
    "A @ x - b"
   ]
  },
  {
   "cell_type": "code",
   "execution_count": 15,
   "metadata": {},
   "outputs": [
    {
     "data": {
      "text/plain": [
       "array([[2.],\n",
       "       [2.],\n",
       "       [3.]])"
      ]
     },
     "execution_count": 15,
     "metadata": {},
     "output_type": "execute_result"
    }
   ],
   "source": [
    "A @ x  # b와 동일"
   ]
  },
  {
   "cell_type": "markdown",
   "metadata": {},
   "source": [
    "lstsq 명령은 행렬  𝐴 와  𝑏 를 모두 인수로 받고 뒤에서 설명할 최소자승문제(least square problem)의 답 x, 잔차제곱합(residual sum of squares) resid, 랭크(rank) rank, 특잇값(singular value) s를 반환한다. 미지수와 방정식의 개수가 같고 행렬  𝐴 의 역행렬이 존재하면 최소자승문제의 답과 선형 연립방정식의 답이 같으므로 lstsq 명령으로 선형 연립방정식을 풀 수도 있다. 최소자승문제, 랭크, 특잇값에 대해서는 뒤에서 자세히 설명할 것이다."
   ]
  },
  {
   "cell_type": "markdown",
   "metadata": {},
   "source": [
    "다음 코드에서 lstsq 명령으로 구한 답이 inv 명령으로 구한 답과 같음을 알 수 있다."
   ]
  },
  {
   "cell_type": "code",
   "execution_count": 17,
   "metadata": {},
   "outputs": [
    {
     "name": "stderr",
     "output_type": "stream",
     "text": [
      "/Library/Frameworks/Python.framework/Versions/3.5/lib/python3.5/site-packages/ipykernel_launcher.py:1: FutureWarning: `rcond` parameter will change to the default of machine precision times ``max(M, N)`` where M and N are the input matrix dimensions.\n",
      "To use the future default and silence this warning we advise to pass `rcond=None`, to keep using the old, explicitly pass `rcond=-1`.\n",
      "  \"\"\"Entry point for launching an IPython kernel.\n"
     ]
    }
   ],
   "source": [
    "x, resid, rank, s = np.linalg.lstsq(A, b)"
   ]
  },
  {
   "cell_type": "code",
   "execution_count": 18,
   "metadata": {},
   "outputs": [
    {
     "data": {
      "text/plain": [
       "array([[1.],\n",
       "       [1.],\n",
       "       [1.]])"
      ]
     },
     "execution_count": 18,
     "metadata": {},
     "output_type": "execute_result"
    }
   ],
   "source": [
    "x"
   ]
  },
  {
   "cell_type": "code",
   "execution_count": 19,
   "metadata": {},
   "outputs": [
    {
     "data": {
      "text/plain": [
       "array([], dtype=float64)"
      ]
     },
     "execution_count": 19,
     "metadata": {},
     "output_type": "execute_result"
    }
   ],
   "source": [
    "resid # 잔차 즉, e.T @ e  == norm(e) ** 2"
   ]
  },
  {
   "cell_type": "code",
   "execution_count": 20,
   "metadata": {},
   "outputs": [
    {
     "data": {
      "text/plain": [
       "3"
      ]
     },
     "execution_count": 20,
     "metadata": {},
     "output_type": "execute_result"
    }
   ],
   "source": [
    "rank"
   ]
  },
  {
   "cell_type": "code",
   "execution_count": 21,
   "metadata": {},
   "outputs": [
    {
     "data": {
      "text/plain": [
       "array([2.41421356, 1.        , 0.41421356])"
      ]
     },
     "execution_count": 21,
     "metadata": {},
     "output_type": "execute_result"
    }
   ],
   "source": [
    "s"
   ]
  },
  {
   "cell_type": "markdown",
   "metadata": {},
   "source": [
    "lstsq 명령을 사용하는 것이 inv 명령을 사용하는 것보다 수치오차가 적고 코드도 간단하므로 선형 연립방정식의 해를 구할 때도 lstsq 명령을 사용하는 것을 권장한다."
   ]
  },
  {
   "cell_type": "markdown",
   "metadata": {},
   "source": [
    "### 선형 연립방정식과 선형 예측모형\n",
    "선형 예측모형의 가중치벡터를 구하는 문제는 선형 연립방정식을 푸는 것과 같다. 예를 들어  𝑁 개의 입력차원을 가지는 특징벡터  𝑁 개를 입력 데이터로 이용하고 이 입력에 대응하는 목푯값벡터를 출력하는 선형 예측모형을 생각하자."
   ]
  },
  {
   "cell_type": "markdown",
   "metadata": {},
   "source": [
    "\\begin{align}\n",
    "\\begin{matrix}\n",
    "x_{11} w_1 & + \\;& x_{12} w_2   &\\; + \\cdots + \\;& x_{1N} w_N &\\; = \\;& y_1 \\\\\n",
    "x_{21} w_1 & + \\;& x_{22} w_2   &\\; + \\cdots + \\;& x_{2N} w_N &\\; = \\;& y_2 \\\\\n",
    "\\vdots\\;\\;\\; &   & \\vdots\\;\\;\\; &                & \\vdots\\;\\;\\; &     & \\;\\vdots \\\\\n",
    "x_{N1} w_1 & + \\;& x_{N2} w_2   &\\; + \\cdots + \\;& x_{NN} w_N &\\; = \\;& y_N \\\\\n",
    "\\end{matrix}\n",
    "\\end{align}"
   ]
  },
  {
   "cell_type": "markdown",
   "metadata": {},
   "source": [
    "즉, \n",
    "𝑋𝑤=𝑦"
   ]
  },
  {
   "cell_type": "markdown",
   "metadata": {},
   "source": [
    "이 예측 모형의 가중치벡터  𝑤 를 찾는 것은 계수행렬이  𝑋 , 미지수벡터가  𝑤 , 상수벡터가  𝑦 인 선형 연립방정식의 답을 찾는 것과 같다. 그리고 만약 계수행렬 𝑋 의 역행렬  𝑋−1 이 존재하면 다음과 같이 가중치벡터를 구할 수 있다."
   ]
  },
  {
   "cell_type": "markdown",
   "metadata": {},
   "source": [
    "\\begin{align}\n",
    "w = X^{-1} y  \n",
    "\\end{align}"
   ]
  },
  {
   "cell_type": "markdown",
   "metadata": {},
   "source": [
    "### Practice 4\n",
    "\n",
    "보스턴 집값 문제는 미국 보스턴내 각 지역(town)의 주택 가격을 그 지역의 범죄율이나 공기 오염도 등의 특징을 사용하여 예측하는 문제다. Scikit-Learn 패키지에서 임포트할 수 있다. 보스턴 집값 문제를 선형 예측모형  𝐴𝑥=𝑏̂  로 풀었을 때의 가중치 벡터  𝑥 를 구하라. 행렬과 벡터 데이터는 다음과 같이 얻을 수 있다. 여기에서는 문제를 간단하게 하기 위해 입력 데이터를 범죄율(CRIM), 공기 오염도(NOX), 방의 개수(RM), 오래된 정도(AGE)의 4종류로 제한했고 데이터도 4개만 사용했다."
   ]
  },
  {
   "cell_type": "code",
   "execution_count": 23,
   "metadata": {},
   "outputs": [],
   "source": [
    "from sklearn.datasets import load_boston\n",
    "boston = load_boston()"
   ]
  },
  {
   "cell_type": "code",
   "execution_count": 24,
   "metadata": {},
   "outputs": [
    {
     "data": {
      "text/plain": [
       "array([[6.320e-03, 5.380e-01, 6.575e+00, 6.520e+01],\n",
       "       [2.731e-02, 4.690e-01, 6.421e+00, 7.890e+01],\n",
       "       [2.729e-02, 4.690e-01, 7.185e+00, 6.110e+01],\n",
       "       [3.237e-02, 4.580e-01, 6.998e+00, 4.580e+01]])"
      ]
     },
     "execution_count": 24,
     "metadata": {},
     "output_type": "execute_result"
    }
   ],
   "source": [
    "X = boston.data\n",
    "y = boston.target\n",
    "A = X[:4, [0, 4, 5, 6]] # 4개 행, [범죄율, 공기오염도, 방의개수, 오래된 정도]\n",
    "A"
   ]
  },
  {
   "cell_type": "code",
   "execution_count": 25,
   "metadata": {},
   "outputs": [
    {
     "data": {
      "text/plain": [
       "array([24. , 21.6, 34.7, 33.4])"
      ]
     },
     "execution_count": 25,
     "metadata": {},
     "output_type": "execute_result"
    }
   ],
   "source": [
    "b = y[:4]\n",
    "b"
   ]
  },
  {
   "cell_type": "code",
   "execution_count": 28,
   "metadata": {},
   "outputs": [
    {
     "data": {
      "text/plain": [
       "array([-3.12710043e+02, -1.15193942e+02,  1.44996465e+01, -1.13259317e-01])"
      ]
     },
     "execution_count": 28,
     "metadata": {},
     "output_type": "execute_result"
    }
   ],
   "source": [
    "# inv를 사용하여 가중치 계산\n",
    "w = np.linalg.inv(A) @ b\n",
    "w  # 방의 갯수가 많을 수록 가격이 높아지고, 나머지 요인들은 반비례"
   ]
  },
  {
   "cell_type": "code",
   "execution_count": 30,
   "metadata": {},
   "outputs": [
    {
     "data": {
      "text/plain": [
       "array([-3.12710043e+02, -1.15193942e+02,  1.44996465e+01, -1.13259317e-01])"
      ]
     },
     "execution_count": 30,
     "metadata": {},
     "output_type": "execute_result"
    }
   ],
   "source": [
    "# lstsq 명령 사용 : 위의 결과와 동일\n",
    "w, resid, rank, s = np.linalg.lstsq(A, b, rcond=None)\n",
    "w"
   ]
  },
  {
   "cell_type": "markdown",
   "metadata": {},
   "source": [
    "### 미지수의 수와 방정식의 수 : 미지수와 방정식의 수가 다른 경우"
   ]
  },
  {
   "cell_type": "markdown",
   "metadata": {},
   "source": [
    "지금까지는 미지수의 수와 방정식의 수가 같은 선형 연립방정식에 대해서만 생각했다. 그런데 만약 미지수의 수와 방정식의 수가 다르다면 어떻게 해야 할까?"
   ]
  },
  {
   "cell_type": "markdown",
   "metadata": {},
   "source": [
    "미지수의 수와 방정식의 수를 고려해 볼 때 연립방정식에는 다음과 같은 세 종류가 있을 수 있다.\n",
    "\n",
    "1. 방정식의 수가 미지수의 수와 같다. ( 𝑁=𝑀 )\n",
    "2. 방정식의 수가 미지수의 수보다 적다. ( 𝑁<𝑀 )\n",
    "3. 방정식의 수가 미지수의 수보다 많다. ( 𝑁>𝑀 )\n"
   ]
  },
  {
   "cell_type": "markdown",
   "metadata": {},
   "source": [
    "#### 1. 방정식의 수 =  미지수의 수\n",
    "\n",
    "앞에서 다룸"
   ]
  },
  {
   "cell_type": "markdown",
   "metadata": {},
   "source": [
    "#### 2. 방정식의 수 < 미지수의 수 : 주어진 계수행렬 보다 미지수 벡터의 수가 많을 때\n",
    "\n",
    "방정식의 수가 미지수의 수보다 적을 때는 무수히 많은 해가 존재할 수 있다. 예를 들어 다음 선형 연립방정식을 생각해보자. 미지수는 3개지만 방정식은 2개뿐이다.\n",
    "\n",
    "\\begin{align}\n",
    "\\begin{matrix}\n",
    "x_1 & + & x_2 &   &     & = & 2  \\\\\n",
    "    &   & x_2 & + & x_3 & = & 2  \\\\\n",
    "\\end{matrix}\n",
    "\\end{align}"
   ]
  },
  {
   "cell_type": "markdown",
   "metadata": {},
   "source": [
    "이때는  𝑥2 가 어떤 값이 되더라도  𝑥1=𝑥3=2−𝑥2 만 만족하면 되므로 무한히 많은 해가 존재한다. 예들 들어 다음  𝑥  벡터는 모두 위 선형 연립방정식의 해가 된다."
   ]
  },
  {
   "cell_type": "markdown",
   "metadata": {},
   "source": [
    "\\begin{align}\n",
    "x =\n",
    "\\begin{bmatrix}\n",
    "2 \\\\ 0 \\\\ 2\n",
    "\\end{bmatrix}\n",
    ",\\;\\;\n",
    "x =\n",
    "\\begin{bmatrix}\n",
    "1 \\\\ 1 \\\\ 1\n",
    "\\end{bmatrix}\n",
    ",\\;\\;\n",
    "x =\n",
    "\\begin{bmatrix}\n",
    "0 \\\\ 2 \\\\ 0\n",
    "\\end{bmatrix}\n",
    ",\\;\\;\n",
    "\\cdots\n",
    "\\end{align}"
   ]
  },
  {
   "cell_type": "markdown",
   "metadata": {},
   "source": [
    "#### 3. 방정식의 수 > 미지수의 수 : 주어진 계수행렬이 미지수 벡터의 수보다 많을 때, 가장 많은 경우\n",
    "2번과 반대로 모든 조건을 만족하는 해가 하나도 없을 수 있다. 예를 들어 다음 선형 연립방정식을 생각해보자. 미지수는 3개지만 방정식은 4개다."
   ]
  },
  {
   "cell_type": "markdown",
   "metadata": {},
   "source": [
    "\\begin{align}\n",
    "\\begin{matrix}\n",
    "x_1 & + & x_2 &   &     & = & 2  \\\\\n",
    "    &   & x_2 & + & x_3 & = & 2  \\\\\n",
    "x_1 & + & x_2 & + & x_3 & = & 3  \\\\\n",
    "x_1 & + & x_2 & + & 2x_3 & = & 5  \\\\\n",
    "\\end{matrix}\n",
    "\\end{align}"
   ]
  },
  {
   "cell_type": "markdown",
   "metadata": {},
   "source": [
    "선형 예측모형을 구하는 문제는 계수행렬이 특징행렬  𝑋 , 미지수벡터가 가중치벡터  𝑤 인 선형 연립방정식 문제이다. 그런데 보통 데이터의 수는 입력차원보다 큰 경우가 많다. 예를 들어 면적, 층수, 한강이 보이는지의 여부로 집값을 결정하는 모형을 만들기 위해서 딱 3가구의 아파트 가격만 조사하는 경우는 없을 것이다. 보통은 10 가구 혹은 100 가구의 아파트 가격을 수집하여 이용하는 것이 일반적이다. 다시 말해 선형 예측모형을 구할 때는 3번과 같은 경우가 많다는 것을 알 수 있다."
   ]
  },
  {
   "cell_type": "markdown",
   "metadata": {},
   "source": [
    "이때는 선형 연립방정식의 해가 존재하지 않으므로 선형 연립방정식을 푸는 방식으로는 선형 예측모형의 가중치벡터를 구할 수 없다."
   ]
  },
  {
   "cell_type": "markdown",
   "metadata": {},
   "source": [
    "### 최소자승문제"
   ]
  },
  {
   "cell_type": "markdown",
   "metadata": {},
   "source": [
    "이렇게 선형 연립방정식의 해가 존재하지 않는다면 선형 예측모형은 어떻게 구할까? 모형을 구하는 것을 포기해야 하는가? 그럴 필요는 없다. 이 문제에 대한 힌트를 얻기 위해 다음과 같은 선형 연립방정식을 생각해보자.\n",
    "\\begin{align}\n",
    "\\begin{matrix}\n",
    "x_1 & + & x_2 &   &     & = & 2  \\\\\n",
    "    &   & x_2 & + & x_3 & = & 2  \\\\\n",
    "x_1 & + & x_2 & + & x_3 & = & 3  \\\\\n",
    "x_1 & + & x_2 & + & 2x_3 & = & 4.1  \\\\\n",
    "\\end{matrix}\n",
    "\\end{align}"
   ]
  },
  {
   "cell_type": "markdown",
   "metadata": {},
   "source": [
    "위에서 보았듯이 이 선형 연립방정식의 해는 존재하지 않는다.\n",
    "\n",
    "하지만 꼭 양변이 정확하게 똑같지 않아도 된다면 어떨까?  𝑥1=𝑥2=𝑥3=1 를 위 방정식에 대입하면 결과는 다음과 같다.\n",
    "\n"
   ]
  },
  {
   "cell_type": "markdown",
   "metadata": {},
   "source": [
    "\\begin{align}\n",
    "\\begin{matrix}\n",
    "x_1 & + & x_2 &   &     & = & 2 & &\\\\\n",
    "    &   & x_2 & + & x_3 & = & 2 & &\\\\\n",
    "x_1 & + & x_2 & + & x_3 & = & 3 & &\\\\\n",
    "x_1 & + & x_2 & + & 2x_3 & = & 4 & \\approx & 4.1\n",
    "\\end{matrix}\n",
    "\\end{align}"
   ]
  },
  {
   "cell_type": "markdown",
   "metadata": {},
   "source": [
    "선형 예측모형에서 좌변을 예측값, 우변을 목푯값이라고 생각한다면 100% 정확히 예측하지는 못했지만 상당히 비슷하게 예측한 값이라고 할 수 있다."
   ]
  },
  {
   "cell_type": "markdown",
   "metadata": {},
   "source": [
    "따라서 미지수의 개수보다 방정식의 개수가 많아서 선형 연립방정식으로 풀수 없는 문제는 좌변과 우변의 차이를 최소화하는 문제로 바꾸어 풀 수 있다. 즉, 예측값과 목푯값의 차이를 통해 미지수 벡터를 구하는데 이 차이를 잔차(residual)라고 한다."
   ]
  },
  {
   "cell_type": "markdown",
   "metadata": {},
   "source": [
    "\\begin{align}\n",
    "e = Ax - b  \n",
    "\\end{align}"
   ]
  },
  {
   "cell_type": "markdown",
   "metadata": {},
   "source": [
    "이때 Ax 예측값, b는 목표값"
   ]
  },
  {
   "cell_type": "markdown",
   "metadata": {},
   "source": [
    "잔차는 벡터이므로 최소자승문제에서는 벡터의 크기 중에서 벡터의 놈(norm)을 최소화하는 문제를 푼다. 앞 절에서 놈을 최소화하는 것은 놈의 제곱을 최소화하는 것과 같다고 했다. 여기에서는 잔차제곱합이 놈의 제곱이 된다."
   ]
  },
  {
   "cell_type": "markdown",
   "metadata": {},
   "source": [
    "\\begin{align}\n",
    "e^Te = \\Vert e \\Vert^2 = (Ax-b)^T(Ax-b)  \n",
    "\\end{align}\n",
    "\n",
    "이 값을 최소화하는  𝑥 값은 수식으로 다음처럼 표현한다.\n",
    "\n",
    "\\begin{align}\n",
    "x = \\text{arg} \\min_x e^Te = \\text{arg} \\min_x  \\; (Ax-b)^T(Ax-b)  \n",
    "\\end{align}"
   ]
  },
  {
   "cell_type": "markdown",
   "metadata": {},
   "source": [
    "위 식에서  argmin𝑥𝑓(𝑥) 는 함수  𝑓(𝑥) 를 가장 작게 만드는  𝑥 값을 의미한다. 이러한 문제를 최소자승문제(least square problem)라고 한다."
   ]
  },
  {
   "cell_type": "markdown",
   "metadata": {},
   "source": [
    "𝐴𝑇𝐴 가 항상 정방 행렬이 된다는 점을 이용하여 다음과 같이 최소 자승 문제의 답이 어떤 형태가 되는지 살펴보자. 여기에서는 답의 형태만 살펴보고 엄밀한 증명은 하지 않을 것이다.\n",
    "\n"
   ]
  },
  {
   "cell_type": "markdown",
   "metadata": {},
   "source": [
    "\\begin{align}\n",
    "Ax \\approx b\n",
    "\\end{align}"
   ]
  },
  {
   "cell_type": "markdown",
   "metadata": {},
   "source": [
    "이 식의 양변에  𝐴𝑇 를 곱하면 각각  𝐴𝑇𝐴𝑥 와  𝐴𝑇𝑏  가 된다. 이 두 개의 벡터의 값이 같다고 일단 가정하자."
   ]
  },
  {
   "cell_type": "markdown",
   "metadata": {},
   "source": [
    "\\begin{align}\n",
    "A^TAx = A^Tb\n",
    "\\end{align}"
   ]
  },
  {
   "cell_type": "markdown",
   "metadata": {},
   "source": [
    "위에서 보인 것은 수학적 증명이라고 할 수 없지만 엄밀한 수학적 증명을 통해 최소자승문제의 해를 구해도 위와 같은 결과를 얻을 수 있다. 자세한 내용은 행렬의 미분과 최적화를 공부한 뒤에 다루도록 한다."
   ]
  },
  {
   "cell_type": "markdown",
   "metadata": {},
   "source": [
    "NumPy의 lstsq 명령은 사실 이러한 최소자승문제를 푸는 명령이다. 위에서 예로 든 선형 연립방정식을 NumPy를 사용하여 풀어보자."
   ]
  },
  {
   "cell_type": "code",
   "execution_count": 34,
   "metadata": {},
   "outputs": [
    {
     "data": {
      "text/plain": [
       "array([[1, 1, 0],\n",
       "       [0, 1, 1],\n",
       "       [1, 1, 1],\n",
       "       [1, 1, 2]])"
      ]
     },
     "execution_count": 34,
     "metadata": {},
     "output_type": "execute_result"
    }
   ],
   "source": [
    "A = np.array([[1, 1, 0], [0, 1, 1], [1, 1, 1], [1, 1, 2]])\n",
    "A"
   ]
  },
  {
   "cell_type": "code",
   "execution_count": 35,
   "metadata": {},
   "outputs": [
    {
     "data": {
      "text/plain": [
       "array([[2. ],\n",
       "       [2. ],\n",
       "       [3. ],\n",
       "       [4.1]])"
      ]
     },
     "execution_count": 35,
     "metadata": {},
     "output_type": "execute_result"
    }
   ],
   "source": [
    "b = np.array([[2], [2], [3], [4.1]])\n",
    "b"
   ]
  },
  {
   "cell_type": "code",
   "execution_count": 40,
   "metadata": {},
   "outputs": [
    {
     "data": {
      "text/plain": [
       "array([[ 0.33333333, -1.        ,  0.33333333,  0.33333333],\n",
       "       [ 0.5       ,  1.        ,  0.        , -0.5       ],\n",
       "       [-0.5       ,  0.        ,  0.        ,  0.5       ]])"
      ]
     },
     "execution_count": 40,
     "metadata": {},
     "output_type": "execute_result"
    }
   ],
   "source": [
    "# 의사역행렬을 직접 계산하여 해 구하기\n",
    "Apinv = np.linalg.inv(A.T @ A) @ A.T\n",
    "Apinv"
   ]
  },
  {
   "cell_type": "code",
   "execution_count": 41,
   "metadata": {},
   "outputs": [
    {
     "data": {
      "text/plain": [
       "array([[1.03333333],\n",
       "       [0.95      ],\n",
       "       [1.05      ]])"
      ]
     },
     "execution_count": 41,
     "metadata": {},
     "output_type": "execute_result"
    }
   ],
   "source": [
    "x = Apinv @ b\n",
    "x"
   ]
  },
  {
   "cell_type": "code",
   "execution_count": 43,
   "metadata": {},
   "outputs": [
    {
     "data": {
      "text/plain": [
       "array([[1.03333333],\n",
       "       [0.95      ],\n",
       "       [1.05      ]])"
      ]
     },
     "execution_count": 43,
     "metadata": {},
     "output_type": "execute_result"
    }
   ],
   "source": [
    "# lstsq를 이용한 해(weights) 구하기\n",
    "x, resid, rank, s = np.linalg.lstsq(A, b, rcond=None)\n",
    "x"
   ]
  },
  {
   "cell_type": "code",
   "execution_count": 47,
   "metadata": {},
   "outputs": [
    {
     "data": {
      "text/plain": [
       "array([[1.98333333],\n",
       "       [2.        ],\n",
       "       [3.03333333],\n",
       "       [4.08333333]])"
      ]
     },
     "execution_count": 47,
     "metadata": {},
     "output_type": "execute_result"
    }
   ],
   "source": [
    "A @ x"
   ]
  },
  {
   "cell_type": "markdown",
   "metadata": {},
   "source": [
    "위 코드에서 resid는 잔차벡터의  𝑒=𝐴𝑥−𝑏 의 제곱합, 즉 놈의 제곱이다."
   ]
  },
  {
   "cell_type": "code",
   "execution_count": 48,
   "metadata": {},
   "outputs": [
    {
     "data": {
      "text/plain": [
       "0.0016666666666666698"
      ]
     },
     "execution_count": 48,
     "metadata": {},
     "output_type": "execute_result"
    }
   ],
   "source": [
    "np.linalg.norm(A @ x - b) ** 2"
   ]
  },
  {
   "cell_type": "code",
   "execution_count": 49,
   "metadata": {},
   "outputs": [
    {
     "data": {
      "text/plain": [
       "array([0.00166667])"
      ]
     },
     "execution_count": 49,
     "metadata": {},
     "output_type": "execute_result"
    }
   ],
   "source": [
    "resid"
   ]
  },
  {
   "cell_type": "markdown",
   "metadata": {},
   "source": [
    "### Practice 5\n",
    "보스턴 집값 문제를 선형 예측모형  𝑋𝑤=𝑦̂  로 풀었을 때의 가중치벡터  𝑤 를 최소 자승 방법으로 구하라. 행렬과 벡터 데이터는 다음과 같이 얻을 수 있다."
   ]
  },
  {
   "cell_type": "code",
   "execution_count": 50,
   "metadata": {},
   "outputs": [],
   "source": [
    "from sklearn.datasets import load_boston\n",
    "boston = load_boston()\n",
    "X = boston.data\n",
    "y = boston.target"
   ]
  },
  {
   "cell_type": "code",
   "execution_count": 52,
   "metadata": {},
   "outputs": [
    {
     "data": {
      "text/plain": [
       "array([-9.16297843e-02,  4.86751203e-02, -3.77930006e-03,  2.85636751e+00,\n",
       "       -2.88077933e+00,  5.92521432e+00, -7.22447929e-03, -9.67995240e-01,\n",
       "        1.70443393e-01, -9.38925373e-03, -3.92425680e-01,  1.49832102e-02,\n",
       "       -4.16972624e-01])"
      ]
     },
     "execution_count": 52,
     "metadata": {},
     "output_type": "execute_result"
    }
   ],
   "source": [
    "w, resid, rank, s = np.linalg.lstsq(X, y, rcond=None)\n",
    "w  # ZN, RM, RAD, TAX, LSTAT는 집값과 비례 관계, 이 중 RAD가 가장 큼"
   ]
  },
  {
   "cell_type": "code",
   "execution_count": 55,
   "metadata": {},
   "outputs": [
    {
     "name": "stdout",
     "output_type": "stream",
     "text": [
      "Boston House Prices dataset\n",
      "===========================\n",
      "\n",
      "Notes\n",
      "------\n",
      "Data Set Characteristics:  \n",
      "\n",
      "    :Number of Instances: 506 \n",
      "\n",
      "    :Number of Attributes: 13 numeric/categorical predictive\n",
      "    \n",
      "    :Median Value (attribute 14) is usually the target\n",
      "\n",
      "    :Attribute Information (in order):\n",
      "        - CRIM     per capita crime rate by town\n",
      "        - ZN       proportion of residential land zoned for lots over 25,000 sq.ft.\n",
      "        - INDUS    proportion of non-retail business acres per town\n",
      "        - CHAS     Charles River dummy variable (= 1 if tract bounds river; 0 otherwise)\n",
      "        - NOX      nitric oxides concentration (parts per 10 million)\n",
      "        - RM       average number of rooms per dwelling\n",
      "        - AGE      proportion of owner-occupied units built prior to 1940\n",
      "        - DIS      weighted distances to five Boston employment centres\n",
      "        - RAD      index of accessibility to radial highways\n",
      "        - TAX      full-value property-tax rate per $10,000\n",
      "        - PTRATIO  pupil-teacher ratio by town\n",
      "        - B        1000(Bk - 0.63)^2 where Bk is the proportion of blacks by town\n",
      "        - LSTAT    % lower status of the population\n",
      "        - MEDV     Median value of owner-occupied homes in $1000's\n",
      "\n",
      "    :Missing Attribute Values: None\n",
      "\n",
      "    :Creator: Harrison, D. and Rubinfeld, D.L.\n",
      "\n",
      "This is a copy of UCI ML housing dataset.\n",
      "http://archive.ics.uci.edu/ml/datasets/Housing\n",
      "\n",
      "\n",
      "This dataset was taken from the StatLib library which is maintained at Carnegie Mellon University.\n",
      "\n",
      "The Boston house-price data of Harrison, D. and Rubinfeld, D.L. 'Hedonic\n",
      "prices and the demand for clean air', J. Environ. Economics & Management,\n",
      "vol.5, 81-102, 1978.   Used in Belsley, Kuh & Welsch, 'Regression diagnostics\n",
      "...', Wiley, 1980.   N.B. Various transformations are used in the table on\n",
      "pages 244-261 of the latter.\n",
      "\n",
      "The Boston house-price data has been used in many machine learning papers that address regression\n",
      "problems.   \n",
      "     \n",
      "**References**\n",
      "\n",
      "   - Belsley, Kuh & Welsch, 'Regression diagnostics: Identifying Influential Data and Sources of Collinearity', Wiley, 1980. 244-261.\n",
      "   - Quinlan,R. (1993). Combining Instance-Based and Model-Based Learning. In Proceedings on the Tenth International Conference of Machine Learning, 236-243, University of Massachusetts, Amherst. Morgan Kaufmann.\n",
      "   - many more! (see http://archive.ics.uci.edu/ml/datasets/Housing)\n",
      "\n"
     ]
    }
   ],
   "source": [
    "print(boston.DESCR)"
   ]
  },
  {
   "cell_type": "code",
   "execution_count": null,
   "metadata": {},
   "outputs": [],
   "source": []
  }
 ],
 "metadata": {
  "kernelspec": {
   "display_name": "Python 3",
   "language": "python",
   "name": "python3"
  },
  "language_info": {
   "codemirror_mode": {
    "name": "ipython",
    "version": 3
   },
   "file_extension": ".py",
   "mimetype": "text/x-python",
   "name": "python",
   "nbconvert_exporter": "python",
   "pygments_lexer": "ipython3",
   "version": "3.5.1"
  }
 },
 "nbformat": 4,
 "nbformat_minor": 2
}
