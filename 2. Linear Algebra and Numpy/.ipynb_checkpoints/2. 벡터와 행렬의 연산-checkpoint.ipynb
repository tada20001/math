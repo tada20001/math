{
 "cells": [
  {
   "cell_type": "code",
   "execution_count": 1,
   "metadata": {},
   "outputs": [],
   "source": [
    "import numpy as np\n",
    "import matplotlib.pylab as plt\n",
    "import matplotlib.font_manager as fm\n",
    "\n",
    "path = \"/Library/Fonts/NanumGothic.otf\"\n",
    "font_name = fm.FontProperties(fname=path, size=12).get_name()\n",
    "\n",
    "plt.rc('font', family=font_name)"
   ]
  },
  {
   "cell_type": "markdown",
   "metadata": {},
   "source": [
    "### 벡터/행렬의 덧셈과 뺄셈"
   ]
  },
  {
   "cell_type": "markdown",
   "metadata": {},
   "source": [
    "같은 크기를 가진 두 개의 벡터나 행렬은 덧셈과 뺄셈을 할 수 있다. 두 벡터와 행렬에서 같은 위치에 있는 원소끼리 덧셈과 뺄셈을 하면 된다. 이러한 연산을 요소별(element-wise) 연산이라고 한다."
   ]
  },
  {
   "cell_type": "code",
   "execution_count": 2,
   "metadata": {},
   "outputs": [],
   "source": [
    "# 1차원 배열 벡터 연산\n",
    "x = np.array([10, 11, 12, 13, 14])\n",
    "y = np.array([0, 1, 2, 3, 4])"
   ]
  },
  {
   "cell_type": "code",
   "execution_count": 3,
   "metadata": {},
   "outputs": [
    {
     "data": {
      "text/plain": [
       "array([10, 12, 14, 16, 18])"
      ]
     },
     "execution_count": 3,
     "metadata": {},
     "output_type": "execute_result"
    }
   ],
   "source": [
    "x + y"
   ]
  },
  {
   "cell_type": "code",
   "execution_count": 4,
   "metadata": {},
   "outputs": [
    {
     "data": {
      "text/plain": [
       "array([10, 10, 10, 10, 10])"
      ]
     },
     "execution_count": 4,
     "metadata": {},
     "output_type": "execute_result"
    }
   ],
   "source": [
    "x - y"
   ]
  },
  {
   "cell_type": "code",
   "execution_count": 5,
   "metadata": {},
   "outputs": [
    {
     "data": {
      "text/plain": [
       "array([[14, 24],\n",
       "       [34, 44]])"
      ]
     },
     "execution_count": 5,
     "metadata": {},
     "output_type": "execute_result"
    }
   ],
   "source": [
    "# 행렬 연산\n",
    "np.array([[5, 6], [7, 8]]) + np.array([[10, 20], [30, 40]]) - \\\n",
    "np.array([[1, 2], [3, 4]])"
   ]
  },
  {
   "cell_type": "markdown",
   "metadata": {},
   "source": [
    "### 스칼라와 벡터/행렬의 곱셈\n",
    "벡터  𝑥  또는 행렬  𝐴 에 스칼라값  𝑐 를 곱하는 것은 벡터  𝑥  또는 행렬  𝐴 의 모든 원소에 스칼라값  𝑐 를 곱하는 것과 같다."
   ]
  },
  {
   "cell_type": "markdown",
   "metadata": {},
   "source": [
    "\\begin{align}\n",
    "c\n",
    "\\begin{bmatrix}\n",
    "x_1 \\\\\n",
    "x_2\n",
    "\\end{bmatrix}\n",
    "=\n",
    "\\begin{bmatrix}\n",
    "cx_1 \\\\\n",
    "cx_2\n",
    "\\end{bmatrix}\n",
    "\\end{align}\n",
    "\n",
    "\\begin{align}\n",
    "c\n",
    "\\begin{bmatrix}\n",
    "a_{11} & a_{12} \\\\\n",
    "a_{21} & a_{22}\n",
    "\\end{bmatrix}\n",
    "=\n",
    "\\begin{bmatrix}\n",
    "ca_{11} & ca_{12} \\\\\n",
    "ca_{21} & ca_{22}\n",
    "\\end{bmatrix}\n",
    "\\end{align}"
   ]
  },
  {
   "cell_type": "markdown",
   "metadata": {},
   "source": [
    "### 브로드캐스팅\n",
    "원래 덧셈과 뺄셈은 크기(차원)가 같은 두 벡터에 대해서만 할 수 있다. 하지만 벡터와 스칼라의 경우에는 관례적으로 다음처럼 1-벡터를 사용하여 스칼라를 벡터로 변환한 연산을 허용한다. 이를 브로드캐스팅(broadcasting)이라고 한다."
   ]
  },
  {
   "cell_type": "markdown",
   "metadata": {},
   "source": [
    "\\begin{align}\n",
    "\\begin{bmatrix}\n",
    "10 \\\\\n",
    "11 \\\\\n",
    "12 \\\\\n",
    "\\end{bmatrix}\n",
    "- 10\n",
    "=\n",
    "\\begin{bmatrix}\n",
    "10 \\\\\n",
    "11 \\\\\n",
    "12 \\\\\n",
    "\\end{bmatrix}\n",
    "- 10\\cdot \\mathbf{1}\n",
    "=\n",
    "\\begin{bmatrix}\n",
    "10 \\\\\n",
    "11 \\\\\n",
    "12 \\\\\n",
    "\\end{bmatrix}\n",
    "-\n",
    "\\begin{bmatrix}\n",
    "10 \\\\\n",
    "10 \\\\\n",
    "10 \\\\\n",
    "\\end{bmatrix}\n",
    "\\end{align}"
   ]
  },
  {
   "cell_type": "markdown",
   "metadata": {},
   "source": [
    "데이터 분석에서는 원래의 데이터 벡터  𝑥 가 아니라 그 데이터 벡터의 각 원소의 평균값을 뺀 평균제거(mean removed) 벡터 혹은 0-평균(zero-mean) 벡터를 사용하는 경우가 많다.\n",
    "\n",
    "\\begin{align}\n",
    "x = \n",
    "\\begin{bmatrix}\n",
    "x_1 \\\\\n",
    "x_2 \\\\\n",
    "\\vdots \\\\\n",
    "x_N\n",
    "\\end{bmatrix}\n",
    "\\;\\; \\rightarrow \\;\\;\n",
    "x - m =\n",
    "\\begin{bmatrix}\n",
    "x_1 - m\\\\\n",
    "x_2 - m \\\\\n",
    "\\vdots \\\\\n",
    "x_N - m\n",
    "\\end{bmatrix}\n",
    "\\end{align}"
   ]
  },
  {
   "cell_type": "markdown",
   "metadata": {},
   "source": [
    "위 식에서  𝑚 은 샘플 평균이다.\n",
    "\n",
    "\\begin{align}\n",
    "m = \\dfrac{1}{N}\\sum_{i=1}^N x_i\n",
    "\\tag{2.2.4}\n",
    "\\end{align}"
   ]
  },
  {
   "cell_type": "markdown",
   "metadata": {},
   "source": [
    "### 선형조합\n",
    "벡터/행렬에 다음처럼 스칼라값을 곱한 후 더하거나 뺀 것을 벡터/행렬의 선형조합(linear combination)이라고 한다. 벡터나 행렬을 선형조합해도 크기는 변하지 않는다."
   ]
  },
  {
   "cell_type": "markdown",
   "metadata": {},
   "source": [
    "벡터에 스칼라값 곱한 후 더하기\n",
    "\\begin{align}\n",
    "c_1x_1 + c_2x_2 + c_3x_3 + \\cdots + c_Lx_L = x\n",
    "\\end{align}"
   ]
  },
  {
   "cell_type": "markdown",
   "metadata": {},
   "source": [
    "행렬에 스칼라값 곱한후 더하기\n",
    "\\begin{align}\n",
    "c_1A_1 + c_2A_2 + c_3A_3 + \\cdots + c_LA_L = A\n",
    "\\end{align}"
   ]
  },
  {
   "cell_type": "markdown",
   "metadata": {},
   "source": [
    "\\begin{align} c_1, c_2, \\ldots, c_L \\in \\mathbf{R} \\end{align}\n",
    "\\begin{align}x_1, x_2, \\ldots, x_L, x \\in \\mathbf{R}^M\\end{align}\n",
    "\\begin{align}A_1, A_2, \\ldots, A_L, A \\in \\mathbf{R}^{M \\times N}\\end{align}"
   ]
  },
  {
   "cell_type": "markdown",
   "metadata": {},
   "source": [
    "### 벡터와 벡터의 곱셈\n",
    "행렬의 곱셈을 정의하기 전에 우선 두 벡터의 곱셈을 알아보자. 벡터를 곱셈하는 방법은 여러 가지가 있지만 여기서는 내적(inner product)에 대해서만 다룬다. 벡터  𝑥 와 벡터  𝑦 의 내적은 다음처럼 표기한다."
   ]
  },
  {
   "cell_type": "markdown",
   "metadata": {},
   "source": [
    "\\begin{align}\n",
    "x^T y \n",
    "\\end{align}"
   ]
  },
  {
   "cell_type": "markdown",
   "metadata": {},
   "source": [
    "내적은 다음처럼 점(dot)으로 표기하는 경우도 있어서 닷 프로덕트(dot product)라고도 부르고 <  𝑥,𝑦  > 기호로 나타낼 수도 있다.\n",
    "\n",
    "\\begin{align}\n",
    "x \\cdot y = \\, < x, y > \\, = x^T y \n",
    "\\end{align}"
   ]
  },
  {
   "cell_type": "markdown",
   "metadata": {},
   "source": [
    "두 벡터를 내적하려면 다음과 같은 조건이 만족되어야 한다.\n",
    "\n",
    "1. 우선 두 벡터의 차원(길이)이 같아야 한다.\n",
    "2. 앞의 벡터가 행 벡터이고 뒤의 벡터가 열 벡터여야 한다."
   ]
  },
  {
   "cell_type": "code",
   "execution_count": 6,
   "metadata": {},
   "outputs": [],
   "source": [
    "x = np.array([[1], [2], [3]])\n",
    "y = np.array([[4], [5], [6]])"
   ]
  },
  {
   "cell_type": "code",
   "execution_count": 7,
   "metadata": {},
   "outputs": [
    {
     "data": {
      "text/plain": [
       "array([[32]])"
      ]
     },
     "execution_count": 7,
     "metadata": {},
     "output_type": "execute_result"
    }
   ],
   "source": [
    "x.T @ y"
   ]
  },
  {
   "cell_type": "code",
   "execution_count": 8,
   "metadata": {},
   "outputs": [
    {
     "data": {
      "text/plain": [
       "array([[32]])"
      ]
     },
     "execution_count": 8,
     "metadata": {},
     "output_type": "execute_result"
    }
   ],
   "source": [
    "np.dot(x.T, y)"
   ]
  },
  {
   "cell_type": "markdown",
   "metadata": {},
   "source": [
    "NumPy에서는 1차원 배열끼리도 내적을 계산한다. 이때는 NumPy가 앞의 벡터는 행 벡터이고 뒤의 벡터는 열 벡터라고 가정한다."
   ]
  },
  {
   "cell_type": "code",
   "execution_count": 9,
   "metadata": {},
   "outputs": [
    {
     "data": {
      "text/plain": [
       "32"
      ]
     },
     "execution_count": 9,
     "metadata": {},
     "output_type": "execute_result"
    }
   ],
   "source": [
    "x = np.array([1, 2, 3])\n",
    "y = np.array([4, 5, 6])\n",
    "\n",
    "x @ y  # 전치하지 않고 그냥 행벡터를 집어 넣어도 계산 가능, 알아서 변환하는 것인가..."
   ]
  },
  {
   "cell_type": "code",
   "execution_count": 10,
   "metadata": {},
   "outputs": [
    {
     "data": {
      "text/plain": [
       "32"
      ]
     },
     "execution_count": 10,
     "metadata": {},
     "output_type": "execute_result"
    }
   ],
   "source": [
    "np.dot(x, y)"
   ]
  },
  {
   "cell_type": "markdown",
   "metadata": {},
   "source": [
    "왜 벡터의 내적은 덧셈이나 뺄셈과 달리 이렇게 복잡하게 정의된 것일까? 그 이유는 데이터 분석을 할 때 이러한 연산을 필요하기 때문이다. 벡터의 내적을 사용하여 데이터를 분석하는 몇 가지 예를 살펴보자."
   ]
  },
  {
   "cell_type": "markdown",
   "metadata": {},
   "source": [
    "#### 벡터의 내적을 사용하여 데이터를 분석하는 예1. 가중합"
   ]
  },
  {
   "cell_type": "markdown",
   "metadata": {},
   "source": [
    "가중합(weighted sum)이란 복수의 데이터를 단순히 합하는 것이 아니라 각각의 수에 어떤 가중치 값을 곱한 후 이 곱셈 결과들을 다시 합한 것을 말한다.\n",
    "\n",
    "만약 데이터 벡터가  𝑥=[𝑥1,⋯,𝑥𝑁]𝑇 이고 가중치 벡터가  𝑤=[𝑤1,⋯,𝑤𝑁]𝑇 이면 데이터 벡터의 가중합은 다음과 같다.\n",
    "\n",
    "\\begin{align}\n",
    "w_1 x_1 + \\cdots + w_N x_N = \\sum_{i=1}^N w_i x_i \n",
    "\\end{align}"
   ]
  },
  {
   "cell_type": "markdown",
   "metadata": {},
   "source": [
    "이 값을 벡터  𝑥 와  𝑤 의 곱으로 나타내면  𝑤𝑇𝑥  또는  𝑥𝑇𝑤  라는 간단한 수식으로 표시할 수 있다."
   ]
  },
  {
   "cell_type": "markdown",
   "metadata": {},
   "source": [
    "### Practice 1\n",
    "A, B, C 세 회사의 주식은 각각 100만원, 80만원, 50만원이다. 이 주식을 각각 3주, 4주, 5주를 매수할 때 필요한 금액을 구하고자 한다.\n",
    "\n",
    "(1) 주식의 가격과 수량을 각각  𝑝  벡터,  𝑛  벡터로 표시하고 NumPy로 코딩한다.\n",
    "\n",
    "(2) 주식을 매수할 때 필요한 금액을 곱셈으로 표시하고 NumPy 연산으로 그 값을 계산한다."
   ]
  },
  {
   "cell_type": "code",
   "execution_count": 11,
   "metadata": {},
   "outputs": [],
   "source": [
    "# 가격 벡터\n",
    "p = np.array([[100], [80], [50]])\n",
    "# 수량 벡터\n",
    "n = np.array([[3], [4], [5]])"
   ]
  },
  {
   "cell_type": "code",
   "execution_count": 12,
   "metadata": {},
   "outputs": [
    {
     "data": {
      "text/plain": [
       "array([[870]])"
      ]
     },
     "execution_count": 12,
     "metadata": {},
     "output_type": "execute_result"
    }
   ],
   "source": [
    "np.dot(p.T, n)"
   ]
  },
  {
   "cell_type": "code",
   "execution_count": 13,
   "metadata": {},
   "outputs": [
    {
     "data": {
      "text/plain": [
       "array([[870]])"
      ]
     },
     "execution_count": 13,
     "metadata": {},
     "output_type": "execute_result"
    }
   ],
   "source": [
    "p.T @ n"
   ]
  },
  {
   "cell_type": "code",
   "execution_count": 14,
   "metadata": {},
   "outputs": [
    {
     "data": {
      "text/plain": [
       "array([[870]])"
      ]
     },
     "execution_count": 14,
     "metadata": {},
     "output_type": "execute_result"
    }
   ],
   "source": [
    "n.T @ p"
   ]
  },
  {
   "cell_type": "markdown",
   "metadata": {},
   "source": [
    "#### 벡터의 내적을 사용하여 데이터를 분석하는 예2. 가중평균"
   ]
  },
  {
   "cell_type": "markdown",
   "metadata": {},
   "source": [
    "가중합의 가중치값을 전체 가중치값의 합으로 나누면 가중평균(weighted average)이 된다. \n",
    "예를 들어 고등학교에서는 국어, 영어, 두 과목의 평균 점수를 구할 때 단순히 두 과목의 점수(숫자)를 더한 후 2으로 나눈다. 그러나 대학교에서는 중요한 과목과 중요하지 않는 과목을 구분하는 학점(credit)이라는 숫자가 있다. 일주일에 한 시간만 수업하는 과목은 1학점짜리 과목이고 일주일에 세 시간씩 수업하는 중요한 과목은 3학점짜리 과목이다. 1학점과 3학점 과목의 점수가 각각 100점, 60점이면 학점을 고려한 가중 평균(weighted average) 성적은 다음과 같이 계산한다."
   ]
  },
  {
   "cell_type": "markdown",
   "metadata": {},
   "source": [
    "학점의 비율(가중치의 비율)을 각 과목에 곱하는 형태\n",
    "\n",
    "\\begin{align}\\dfrac{1}{1 + 3} \\times 100 + \\dfrac{3}{1 + 3} \\times 60\n",
    "= 70\\end{align}\n",
    "\n"
   ]
  },
  {
   "cell_type": "markdown",
   "metadata": {},
   "source": [
    "벡터로 표현된  𝑁 개의 데이터의 단순 평균은 다음처럼 생각할 수 있다.\n",
    "\n",
    "\\begin{align}\n",
    "\\bar{x} = \\dfrac{1}{N}\\sum_{i=1}^N x_i = \\dfrac{1}{N} \\mathbf{1}_N^T x\n",
    "\\end{align}"
   ]
  },
  {
   "cell_type": "markdown",
   "metadata": {},
   "source": [
    "위 수식에서 보인 것처럼  𝑥  데이터의 평균은 보통  𝑥¯ 라는 기호로 표기하고 \"엑스 바(x bar)\" 라고 읽는다."
   ]
  },
  {
   "cell_type": "code",
   "execution_count": 15,
   "metadata": {},
   "outputs": [
    {
     "data": {
      "text/plain": [
       "4.5"
      ]
     },
     "execution_count": 15,
     "metadata": {},
     "output_type": "execute_result"
    }
   ],
   "source": [
    "x = np.arange(10)\n",
    "N = len(x)\n",
    "\n",
    "np.ones(N) @ x / N  # ([1, 1, .... 1] 행벡터 x [0, 1, 2, .... 9] 행벡터) / 10"
   ]
  },
  {
   "cell_type": "code",
   "execution_count": 16,
   "metadata": {},
   "outputs": [
    {
     "data": {
      "text/plain": [
       "4.5"
      ]
     },
     "execution_count": 16,
     "metadata": {},
     "output_type": "execute_result"
    }
   ],
   "source": [
    "np.dot(np.ones(N), x) / N"
   ]
  },
  {
   "cell_type": "markdown",
   "metadata": {},
   "source": [
    "현실적으로는 mean이라는 메서드를 사용하는 것이 편하다."
   ]
  },
  {
   "cell_type": "code",
   "execution_count": 17,
   "metadata": {},
   "outputs": [
    {
     "data": {
      "text/plain": [
       "4.5"
      ]
     },
     "execution_count": 17,
     "metadata": {},
     "output_type": "execute_result"
    }
   ],
   "source": [
    "x.mean()"
   ]
  },
  {
   "cell_type": "markdown",
   "metadata": {},
   "source": [
    "### Practice 2\n",
    "\n",
    "벡터  𝑥 의 평균 제거 벡터는 다음과 같이 계산함을 증명하라.\n",
    "\n",
    "\\begin{align}\n",
    "x - \\dfrac{1}{N}\\mathbf{1}_N^Tx \\mathbf{1}^{}\n",
    "\\end{align}"
   ]
  },
  {
   "cell_type": "code",
   "execution_count": 18,
   "metadata": {},
   "outputs": [],
   "source": [
    "x = np.arange(10)\n",
    "N = len(x)\n",
    "one = np.ones(N)"
   ]
  },
  {
   "cell_type": "code",
   "execution_count": 19,
   "metadata": {},
   "outputs": [
    {
     "data": {
      "text/plain": [
       "array([-4.5, -3.5, -2.5, -1.5, -0.5,  0.5,  1.5,  2.5,  3.5,  4.5])"
      ]
     },
     "execution_count": 19,
     "metadata": {},
     "output_type": "execute_result"
    }
   ],
   "source": [
    "x - ((np.dot(one, x) / N))"
   ]
  },
  {
   "cell_type": "code",
   "execution_count": 20,
   "metadata": {},
   "outputs": [
    {
     "data": {
      "text/plain": [
       "array([-4.5, -3.5, -2.5, -1.5, -0.5,  0.5,  1.5,  2.5,  3.5,  4.5])"
      ]
     },
     "execution_count": 20,
     "metadata": {},
     "output_type": "execute_result"
    }
   ],
   "source": [
    "x - x.mean()  # 위의 값과 동일"
   ]
  },
  {
   "cell_type": "markdown",
   "metadata": {},
   "source": [
    "#### 벡터의 내적을 사용하여 데이터를 분석하는 예3.유사도\n",
    "벡터의 곱셈(내적)은 두 벡터 간의 유사도를 계산하는 데도 이용할 수 있다. 유사도(similarity)는 두 벡터가 닮은 정도를 정량적으로 나타낸 값으로 두 벡터가 비슷한 경우에는 유사도가 커지고 비슷하지 않은 경우에는 유사도가 작아진다. 내적을 이용하면 코사인 유사도(cosine similarity)라는 유사도를 계산할 수 있다. 추후 선형대수의 기하학적 의미를 공부할 때 코사인 유사도에 대해 살펴볼 것이다."
   ]
  },
  {
   "cell_type": "code",
   "execution_count": 21,
   "metadata": {},
   "outputs": [],
   "source": [
    "from sklearn.datasets import load_digits\n",
    "import matplotlib.gridspec as gridspec"
   ]
  },
  {
   "cell_type": "code",
   "execution_count": 22,
   "metadata": {},
   "outputs": [],
   "source": [
    "# 0과 1을 나타내는 MNIST 이미지에 대한 내적 계산\n",
    "digits = load_digits()\n",
    "d1 = digits.images[0]\n",
    "d2 = digits.images[10]\n",
    "d3 = digits.images[1]\n",
    "d4 = digits.images[11]"
   ]
  },
  {
   "cell_type": "code",
   "execution_count": 23,
   "metadata": {},
   "outputs": [
    {
     "data": {
      "text/plain": [
       "(8, 8)"
      ]
     },
     "execution_count": 23,
     "metadata": {},
     "output_type": "execute_result"
    }
   ],
   "source": [
    "d1.shape"
   ]
  },
  {
   "cell_type": "code",
   "execution_count": 24,
   "metadata": {},
   "outputs": [],
   "source": [
    "# 열벡터로 변환\n",
    "v1 = d1.reshape(64, 1)\n",
    "v2 = d2.reshape(64, 1)\n",
    "v3 = d3.reshape(64, 1)\n",
    "v4 = d4.reshape(64, 1)"
   ]
  },
  {
   "cell_type": "code",
   "execution_count": 25,
   "metadata": {},
   "outputs": [
    {
     "data": {
      "image/png": "[encoded data removed]",
      "text/plain": [
       "<Figure size 648x648 with 8 Axes>"
      ]
     },
     "metadata": {},
     "output_type": "display_data"
    }
   ],
   "source": [
    "plt.figure(figsize=(9, 9))\n",
    "gs = gridspec.GridSpec(1, 8, height_ratios=[1], width_ratios=[9, 1, 9, 1, 9, 1, 9, 1])\n",
    "\n",
    "for i in range(4):\n",
    "    plt.subplot(gs[2 * i])\n",
    "    plt.imshow(eval(\"d\" + str(i + 1)), aspect=1, interpolation=\"nearest\", cmap=plt.cm.bone_r)\n",
    "    plt.grid(False)\n",
    "    plt.xticks([])\n",
    "    plt.yticks([])\n",
    "    plt.title(\"image {}\".format(i + 1))\n",
    "    plt.subplot(gs[2 * i + 1])\n",
    "    plt.imshow(eval(\"v\" + str(i + 1)), aspect=0.25, interpolation=\"nearest\", cmap=plt.cm.bone_r) \n",
    "    # eval(\"v\" + str(i + 1)) : v1, v2, v3, v4 호출\n",
    "    plt.grid(False)\n",
    "    plt.xticks([])\n",
    "    plt.yticks([])\n",
    "    plt.title(\"vector {}\".format(i + 1))\n",
    "    \n",
    "plt.tight_layout()\n",
    "plt.show()"
   ]
  },
  {
   "cell_type": "markdown",
   "metadata": {},
   "source": [
    "\"0\" 이미지와 \"0\" 이미지, 또는 \"1\" 이미지와 \"1\" 이미지의 내적값은 다음과 같다."
   ]
  },
  {
   "cell_type": "code",
   "execution_count": 26,
   "metadata": {},
   "outputs": [
    {
     "data": {
      "text/plain": [
       "(3064.0, 3661.0)"
      ]
     },
     "execution_count": 26,
     "metadata": {},
     "output_type": "execute_result"
    }
   ],
   "source": [
    "# 유사 이미지간 유사도 값 도출\n",
    "(v1.T @ v2)[0][0], (v3.T @ v4)[0][0]"
   ]
  },
  {
   "cell_type": "markdown",
   "metadata": {},
   "source": [
    "상대적으로 \"0\" 이미지와 \"1\" 이미지, 또는 \"1\" 이미지와 \"0\" 이미지의 내적값은 작다."
   ]
  },
  {
   "cell_type": "code",
   "execution_count": 28,
   "metadata": {},
   "outputs": [
    {
     "data": {
      "text/plain": [
       "(1866.0, 1883.0, 2421.0, 2479.0)"
      ]
     },
     "execution_count": 28,
     "metadata": {},
     "output_type": "execute_result"
    }
   ],
   "source": [
    "# 서로 다른 이미지간 유사도 값 도출\n",
    "(v1.T @ v3)[0][0], (v1.T @ v4)[0][0], (v2.T @ v3)[0][0], (v2.T @ v4)[0][0]"
   ]
  },
  {
   "cell_type": "markdown",
   "metadata": {},
   "source": [
    "#### 참고 : eval(expression, globals=None, locals=None)\n",
    "eval 함수는 expression 인자에 string 값을 넣으면 해당 값을 그대로 실행하여 결과를 출력해 준다.\n",
    "간단한 연산식을 string에 저장 후 실행한다."
   ]
  },
  {
   "cell_type": "code",
   "execution_count": 29,
   "metadata": {},
   "outputs": [
    {
     "data": {
      "text/plain": [
       "25.0"
      ]
     },
     "execution_count": 29,
     "metadata": {},
     "output_type": "execute_result"
    }
   ],
   "source": [
    "eval(\"(5 * 10) / 2\")"
   ]
  },
  {
   "cell_type": "markdown",
   "metadata": {},
   "source": [
    "### Practice 3\n",
    "다음 코드를 실행하면 MNIST digit image 전체 데이터를 모두 벡터로 변환하여 하나의 NumPy 행렬  𝑋 를 만든다. 이 행렬을 이용하여 다음 문제를 풀어라.\n",
    "\n",
    "(1) 내적을 이용하여 첫 번째 이미지와 10번째 이미지의 유사도를 구하라.\n",
    "\n",
    "(2) 내적을 이용하여 모든 이미지의 조합에 대해 유사도를 구하라. 어떻게 구현하는 것이 효율적일까? (힌트 : 이 문제는 뒤에서 배울 행렬과 행렬의 곱셈을 이용한다.)"
   ]
  },
  {
   "cell_type": "code",
   "execution_count": 30,
   "metadata": {},
   "outputs": [],
   "source": [
    "from sklearn.datasets import load_digits\n",
    "X = load_digits().data"
   ]
  },
  {
   "cell_type": "code",
   "execution_count": 31,
   "metadata": {},
   "outputs": [
    {
     "data": {
      "text/plain": [
       "(1797, 64)"
      ]
     },
     "execution_count": 31,
     "metadata": {},
     "output_type": "execute_result"
    }
   ],
   "source": [
    "X.shape"
   ]
  },
  {
   "cell_type": "code",
   "execution_count": 62,
   "metadata": {},
   "outputs": [],
   "source": [
    "# 열벡터로 전환\n",
    "X0 = X[0, :].reshape(64, 1)\n",
    "X1 = X[10, :].reshape(64, 1)"
   ]
  },
  {
   "cell_type": "code",
   "execution_count": 63,
   "metadata": {},
   "outputs": [
    {
     "data": {
      "text/plain": [
       "array([[3064.]])"
      ]
     },
     "execution_count": 63,
     "metadata": {},
     "output_type": "execute_result"
    }
   ],
   "source": [
    "# 유사도 구하기 \n",
    "X0.T @ X1"
   ]
  },
  {
   "cell_type": "code",
   "execution_count": 71,
   "metadata": {},
   "outputs": [
    {
     "data": {
      "image/png": "[encoded data removed]",
      "text/plain": [
       "<Figure size 648x648 with 2 Axes>"
      ]
     },
     "metadata": {},
     "output_type": "display_data"
    }
   ],
   "source": [
    "plt.figure(figsize=(9, 9))\n",
    "gs = gridspec.GridSpec(1,2, height_ratios=[1], width_ratios=[1, 1])\n",
    "\n",
    "for i in range(2):\n",
    "    plt.subplot(2, 2, i+1)\n",
    "    plt.imshow(eval(\"X\" + str(i)), aspect=0.5, interpolation=\"nearest\", cmap=plt.cm.bone_r)\n",
    "    plt.title(\"image{}\".format(i))\n",
    "    plt.grid(False)\n",
    "    plt.xticks([])\n",
    "    plt.yticks([])\n",
    "plt.tight_layout()\n",
    "plt.show()"
   ]
  },
  {
   "cell_type": "code",
   "execution_count": 79,
   "metadata": {},
   "outputs": [
    {
     "data": {
      "text/plain": [
       "<matplotlib.image.AxesImage at 0x11572a2e8>"
      ]
     },
     "execution_count": 79,
     "metadata": {},
     "output_type": "execute_result"
    },
    {
     "data": {
      "image/png": "[encoded data removed]",
      "text/plain": [
       "<Figure size 432x288 with 1 Axes>"
      ]
     },
     "metadata": {},
     "output_type": "display_data"
    }
   ],
   "source": [
    "plt.imshow(load_digits().images[0], interpolation=\"nearest\", cmap=plt.cm.bone_r)"
   ]
  },
  {
   "cell_type": "code",
   "execution_count": 80,
   "metadata": {},
   "outputs": [
    {
     "data": {
      "text/plain": [
       "<matplotlib.image.AxesImage at 0x11581e908>"
      ]
     },
     "execution_count": 80,
     "metadata": {},
     "output_type": "execute_result"
    },
    {
     "data": {
      "image/png": "[encoded data removed]",
      "text/plain": [
       "<Figure size 432x288 with 1 Axes>"
      ]
     },
     "metadata": {},
     "output_type": "display_data"
    }
   ],
   "source": [
    "plt.imshow(load_digits().images[10], interpolation=\"nearest\", cmap=plt.cm.bone_r)"
   ]
  },
  {
   "cell_type": "code",
   "execution_count": 81,
   "metadata": {},
   "outputs": [
    {
     "data": {
      "text/plain": [
       "(8, 8)"
      ]
     },
     "execution_count": 81,
     "metadata": {},
     "output_type": "execute_result"
    }
   ],
   "source": [
    "load_digits().images[0].shape"
   ]
  },
  {
   "cell_type": "markdown",
   "metadata": {},
   "source": [
    "#### 벡터의 내적을 사용하여 데이터를 분석하는 예4. 선형회귀 모형"
   ]
  },
  {
   "cell_type": "markdown",
   "metadata": {},
   "source": [
    "선형회귀 모형(linear regression model)이란 독립 변수  𝑥 에서 종속 변수  𝑦 를 예측하는 방법의 하나로 독립 변수 벡터  𝑥 와 가중치 벡터  𝑤 와의 가중합으로  𝑦 에 대한 예측값  𝑦̂  를 계산하는 수식을 말한다."
   ]
  },
  {
   "cell_type": "markdown",
   "metadata": {},
   "source": [
    "\\begin{align}\n",
    "\\hat{y} = w_1 x_1 + \\cdots + w_N x_N\n",
    "\\end{align}"
   ]
  },
  {
   "cell_type": "markdown",
   "metadata": {},
   "source": [
    "이 수식에서 기호 ^는 \"캐럿(caret)\"이라는 기호이다.  𝑦̂  는 \"와이 햇(y hat)\"이라고 읽는다."
   ]
  },
  {
   "cell_type": "markdown",
   "metadata": {},
   "source": [
    "이 수식은 다음처럼 벡터의 내적으로 나타낼 수 있다.\n",
    "\n",
    "\\begin{align}\n",
    "\\hat{y} = w^Tx\n",
    "\\end{align}"
   ]
  },
  {
   "cell_type": "markdown",
   "metadata": {},
   "source": [
    "인공신경망(artificial neural network)에서는 선형회귀 모형을 다음과 같은 그림으로 표현한다. 데이터는 노드(node) 혹은 뉴런(neuron)이라는 동그라미로 표시하고 곱셈은 선분(line)위에 곱할 숫자를 써서 나타낸다. 덧셈은 여러 개의 선분이 만나는 것으로 표시한다."
   ]
  },
  {
   "cell_type": "markdown",
   "metadata": {},
   "source": [
    "#### 선형회귀 모형의 단점\n",
    "\n",
    "선형회귀 모형은 비선형적인 현실 세계의 데이터를 잘 예측하지 못할 수 있다는 단점이 있다. 예를 들어 집값은 면적에 단순 비례하지 않는다. 소형 면적의 집과 대형 면적의 집은 단위 면적당 집값의 증가율을 다를 수 있다. 또한 저층이 보통 고층보다 집값이 싸지만 층수가 올라갈수록 정확히 층수에 비례하여 가격이 증가하지도 않는다.\n",
    "\n",
    "이러한 현실 세계의 데이터와 선형회귀 모형의 괴리를 줄이기 위해 선형회귀 모형이 아닌 완전히 다른 모형을 쓰기보다는 선형회귀 모형을 기반으로 여러 기법을 사용해 수정한 모형을 사용하는 것이 일반적이다. \n"
   ]
  },
  {
   "cell_type": "markdown",
   "metadata": {},
   "source": [
    "#### 벡터의 내적을 사용하여 데이터를 분석하는 예5. 제곱합\n",
    "데이터의 분산(variance)이나 표준 편차(standard deviation) 등을 구하는 경우에는 각각의 데이터를 제곱한 뒤 이 값을 모두 더한 제곱합(sum of squares)을 계산해야 한다. 이 경우에도 벡터의 내적을 사용하여  𝑥𝑇𝑥 로 쓸 수 있다."
   ]
  },
  {
   "cell_type": "markdown",
   "metadata": {},
   "source": [
    "\\begin{align}\n",
    "x^T x = \n",
    "\\begin{bmatrix}\n",
    "x_{1} & x_{2} & \\cdots & x_{N} \n",
    "\\end{bmatrix}\n",
    "\\begin{bmatrix}\n",
    "x_{1} \\\\\n",
    "x_{2} \\\\\n",
    "\\vdots \\\\\n",
    "x_{N} \\\\\n",
    "\\end{bmatrix} = \\sum_{i=1}^{N} x_i^2\n",
    "\\end{align}"
   ]
  },
  {
   "cell_type": "markdown",
   "metadata": {},
   "source": [
    "#### 벡터의 내적을 사용하여 데이터를 분석하는 예6. 행렬과 행렬의 곱셈"
   ]
  },
  {
   "cell_type": "markdown",
   "metadata": {},
   "source": [
    "벡터의 곱셈을 정의한 후에는 이를 이용하여 행렬의 곱셈을 정의할 수 있다. 행렬과 행렬을 곱하면 행렬이 된다. 방법은 다음과 같다.\n",
    "\n",
    "𝐴  행렬과  𝐵  행렬을 곱한 결과가  𝐶  행렬이 된다고 하자.  𝐶 의  𝑖 번째 행,  𝑗 번째 열의 원소  𝑐𝑖𝑗 의 값은  𝐴  행렬의  𝑖 번째 행 벡터  𝑎𝑇𝑖 와  𝐵  행렬의  𝑗 번째 열 벡터  𝑏𝑗 의 곱이다."
   ]
  },
  {
   "cell_type": "markdown",
   "metadata": {},
   "source": [
    "\\begin{align}\n",
    "C = AB \\; \\rightarrow \\; c_{ij} = a_i^T b_j \n",
    "\\end{align}"
   ]
  },
  {
   "cell_type": "markdown",
   "metadata": {},
   "source": [
    "이 정의가 성립하려면 앞의 행렬  𝐴 의 열의 수가 뒤의 행렬  𝐵 의 행의 수와 일치해야만 한다.\n",
    "\n",
    "\\begin{align}\n",
    "A \\in \\mathbf{R}^{N \\times L} , \\; B \\in \\mathbf{R}^{L \\times M} \\;  \\rightarrow \\; AB \\in \\mathbf{R}^{N \\times M} \n",
    "\\end{align}"
   ]
  },
  {
   "cell_type": "markdown",
   "metadata": {},
   "source": [
    "다음은  4×3  행렬과  3×2 을 곱하여  4×2 을 계산하는 예다.\n",
    "\n",
    "\\begin{align}\n",
    "\\begin{bmatrix}\n",
    "a_{11} & a_{12} & a_{13} \\\\\n",
    "a_{21} & a_{22} & a_{23} \\\\\n",
    "a_{31} & a_{32} & a_{33} \\\\\n",
    "a_{41} & a_{42} & a_{43} \\\\\n",
    "\\end{bmatrix}\n",
    "\\begin{bmatrix}\n",
    "{b_{11}} & b_{12} \\\\\n",
    "{b_{21}} & b_{22} \\\\\n",
    "{b_{31}} & b_{32} \\\\    \n",
    "\\end{bmatrix}\n",
    "=\n",
    "\\begin{bmatrix}\n",
    "(a_{11}b_{11} + a_{12}b_{21} + a_{13}b_{31}) & (a_{11}b_{12} + a_{12}b_{22} + a_{13}b_{32}) \\\\\n",
    "(a_{21}b_{11} + a_{22}b_{21} + a_{23}b_{31}) & (a_{21}b_{12} + a_{22}b_{22} + a_{23}b_{32}) \\\\\n",
    "(a_{31}b_{11} + a_{32}b_{21} + a_{33}b_{31}) & (a_{31}b_{12} + a_{32}b_{22} + a_{33}b_{32}) \\\\\n",
    "(a_{41}b_{11} + a_{42}b_{21} + a_{43}b_{31}) & (a_{41}b_{12} + a_{42}b_{22} + a_{43}b_{32}) \\\\\n",
    "\\end{bmatrix}\n",
    "\\end{align}"
   ]
  },
  {
   "cell_type": "markdown",
   "metadata": {},
   "source": [
    "다음은 실제 행렬을 사용한 곱셈의 예다.\n",
    "\n",
    "\\begin{align} A = \\begin{bmatrix} 1 & 2 & 3 \\\\ 4 & 5 & 6 \\end{bmatrix}\\end{align} \n",
    "\\begin{align} B = \\begin{bmatrix} 1 & 2 \\\\ 3 & 4 \\\\ 5 & 6 \\end{bmatrix}\\end{align} \n",
    "\\begin{align} C = AB = \\begin{bmatrix} 22 & 28 \\\\ 49 & 64 \\end{bmatrix}\\end{align} "
   ]
  },
  {
   "cell_type": "markdown",
   "metadata": {},
   "source": [
    "NumPy를 이용하여 행렬의 곱을 구할 때도 @ 연산자 또는 dot 명령을 사용한다."
   ]
  },
  {
   "cell_type": "code",
   "execution_count": 83,
   "metadata": {},
   "outputs": [
    {
     "data": {
      "text/plain": [
       "array([[1, 2, 3],\n",
       "       [4, 5, 6]])"
      ]
     },
     "execution_count": 83,
     "metadata": {},
     "output_type": "execute_result"
    }
   ],
   "source": [
    "A = np.array([[1, 2, 3], [4, 5, 6]])\n",
    "B = np.array([[1, 2], [3, 4], [5, 6]])\n",
    "A"
   ]
  },
  {
   "cell_type": "code",
   "execution_count": 84,
   "metadata": {},
   "outputs": [
    {
     "data": {
      "text/plain": [
       "array([[1, 2],\n",
       "       [3, 4],\n",
       "       [5, 6]])"
      ]
     },
     "execution_count": 84,
     "metadata": {},
     "output_type": "execute_result"
    }
   ],
   "source": [
    "B"
   ]
  },
  {
   "cell_type": "code",
   "execution_count": 87,
   "metadata": {},
   "outputs": [
    {
     "data": {
      "text/plain": [
       "array([[22, 28],\n",
       "       [49, 64]])"
      ]
     },
     "execution_count": 87,
     "metadata": {},
     "output_type": "execute_result"
    }
   ],
   "source": [
    "A @ B"
   ]
  },
  {
   "cell_type": "markdown",
   "metadata": {},
   "source": [
    "인공 신경망은 내부적으로 다음과 같이 여러 개의 선형회귀 모형을 사용한다. 이 구조는 행렬과 벡터의 곱으로 나타낼 수 있다."
   ]
  },
  {
   "cell_type": "markdown",
   "metadata": {},
   "source": [
    "행렬식으로 표현하면 다음과 같다.\n",
    "\\begin{align}\n",
    "\\begin{bmatrix}\n",
    "\\hat{y}_{1} \\\\\n",
    "\\hat{y}_{2} \\\\\n",
    "\\end{bmatrix}\n",
    "=\n",
    "\\begin{bmatrix}\n",
    "w_{11} & w_{12} & w_{13} \\\\\n",
    "w_{21} & w_{22} & w_{23} \\\\\n",
    "\\end{bmatrix}\n",
    "\\begin{bmatrix}\n",
    "x_{1} \\\\\n",
    "x_{2} \\\\\n",
    "x_{3} \\\\    \n",
    "\\end{bmatrix}\n",
    "\\end{align}\n",
    "\n",
    "\\begin{align}\\hat{y} = Wx \\end{align}"
   ]
  },
  {
   "cell_type": "markdown",
   "metadata": {},
   "source": [
    "### 교환 법칙과 분배 법칙\n",
    "행렬의 곱셈은 곱하는 행렬의 순서를 바꾸는 교환 법칙이 성립하지 않는다. 그러나 덧셈에 대한 분배 법칙은 성립한다.\n",
    "\\begin{align}\n",
    "AB \\neq BA  \n",
    "\\end{align}"
   ]
  },
  {
   "cell_type": "markdown",
   "metadata": {},
   "source": [
    "\\begin{align}\n",
    "A(B + C) = AB + AC  \n",
    "\\end{align}"
   ]
  },
  {
   "cell_type": "markdown",
   "metadata": {},
   "source": [
    "\\begin{align}\n",
    "(A + B)C = AC + BC  \n",
    "\\end{align}"
   ]
  },
  {
   "cell_type": "markdown",
   "metadata": {},
   "source": [
    "𝐴 , 𝐵, 𝐶가 다음과 같을 때 위 법칙을 NumPy로 살펴보자."
   ]
  },
  {
   "cell_type": "markdown",
   "metadata": {},
   "source": [
    "\\begin{align} A = \\begin{bmatrix} 1 & 2 \\\\ 3 & 4 \\end{bmatrix} \\end{align}"
   ]
  },
  {
   "cell_type": "markdown",
   "metadata": {},
   "source": [
    "\\begin{align} B = \\begin{bmatrix} 5 & 6 \\\\ 7 & 8 \\end{bmatrix} \\end{align}"
   ]
  },
  {
   "cell_type": "markdown",
   "metadata": {},
   "source": [
    "\\begin{align} C = \\begin{bmatrix} 9 & 8 \\\\ 7 & 6 \\end{bmatrix} \\end{align}"
   ]
  },
  {
   "cell_type": "code",
   "execution_count": 91,
   "metadata": {},
   "outputs": [],
   "source": [
    "A = np.array([[1, 2], [3, 4]])\n",
    "B = np.array([[5, 6], [7, 8]])\n",
    "C = np.array([[9, 8], [7, 6]])"
   ]
  },
  {
   "cell_type": "markdown",
   "metadata": {},
   "source": [
    "𝐴𝐵  와 𝐵𝐴의 값은 다음처럼 다른 값이 나오므로 교환법칙이 성립하지 않음을 알 수 있다."
   ]
  },
  {
   "cell_type": "code",
   "execution_count": 92,
   "metadata": {},
   "outputs": [
    {
     "data": {
      "text/plain": [
       "array([[19, 22],\n",
       "       [43, 50]])"
      ]
     },
     "execution_count": 92,
     "metadata": {},
     "output_type": "execute_result"
    }
   ],
   "source": [
    "A @ B"
   ]
  },
  {
   "cell_type": "code",
   "execution_count": 93,
   "metadata": {},
   "outputs": [
    {
     "data": {
      "text/plain": [
       "array([[23, 34],\n",
       "       [31, 46]])"
      ]
     },
     "execution_count": 93,
     "metadata": {},
     "output_type": "execute_result"
    }
   ],
   "source": [
    "B @ A"
   ]
  },
  {
   "cell_type": "markdown",
   "metadata": {},
   "source": [
    "분배법칙은 다음과 같이 성립한다."
   ]
  },
  {
   "cell_type": "code",
   "execution_count": 94,
   "metadata": {},
   "outputs": [
    {
     "data": {
      "text/plain": [
       "array([[42, 42],\n",
       "       [98, 98]])"
      ]
     },
     "execution_count": 94,
     "metadata": {},
     "output_type": "execute_result"
    }
   ],
   "source": [
    "A @ (B + C)"
   ]
  },
  {
   "cell_type": "code",
   "execution_count": 95,
   "metadata": {},
   "outputs": [
    {
     "data": {
      "text/plain": [
       "array([[42, 42],\n",
       "       [98, 98]])"
      ]
     },
     "execution_count": 95,
     "metadata": {},
     "output_type": "execute_result"
    }
   ],
   "source": [
    "A@B + A@C"
   ]
  },
  {
   "cell_type": "code",
   "execution_count": 96,
   "metadata": {},
   "outputs": [
    {
     "data": {
      "text/plain": [
       "array([[110,  96],\n",
       "       [174, 152]])"
      ]
     },
     "execution_count": 96,
     "metadata": {},
     "output_type": "execute_result"
    }
   ],
   "source": [
    "(A + B) @ C"
   ]
  },
  {
   "cell_type": "code",
   "execution_count": 97,
   "metadata": {},
   "outputs": [
    {
     "data": {
      "text/plain": [
       "array([[110,  96],\n",
       "       [174, 152]])"
      ]
     },
     "execution_count": 97,
     "metadata": {},
     "output_type": "execute_result"
    }
   ],
   "source": [
    "A @ C + B @ C"
   ]
  },
  {
   "cell_type": "markdown",
   "metadata": {},
   "source": [
    "전치 연산도 마찬가지로 덧셈/뺄셈에 대해 분배 법칙이 성립한다.\n",
    "\n",
    "\\begin{align}\n",
    "(A + B)^T = A^T + B^T  \n",
    "\\end{align}"
   ]
  },
  {
   "cell_type": "markdown",
   "metadata": {},
   "source": [
    "전치 연산과 곱셈의 경우에는 분배 법칙이 성립하기는 하지만 전치 연산이 분배되면서 곱셈의 순서가 바뀐다.\n",
    "\n",
    "\\begin{align}\n",
    "(AB)^T = B^T A^T  \n",
    "\\end{align}"
   ]
  },
  {
   "cell_type": "markdown",
   "metadata": {},
   "source": [
    "\\begin{align}\n",
    "(ABC)^T = C^T B^T A^T \n",
    "\\end{align}"
   ]
  },
  {
   "cell_type": "code",
   "execution_count": 98,
   "metadata": {},
   "outputs": [
    {
     "data": {
      "text/plain": [
       "array([[ 6, 10],\n",
       "       [ 8, 12]])"
      ]
     },
     "execution_count": 98,
     "metadata": {},
     "output_type": "execute_result"
    }
   ],
   "source": [
    "(A + B).T"
   ]
  },
  {
   "cell_type": "code",
   "execution_count": 99,
   "metadata": {},
   "outputs": [
    {
     "data": {
      "text/plain": [
       "array([[ 6, 10],\n",
       "       [ 8, 12]])"
      ]
     },
     "execution_count": 99,
     "metadata": {},
     "output_type": "execute_result"
    }
   ],
   "source": [
    "A.T + B.T"
   ]
  },
  {
   "cell_type": "code",
   "execution_count": 100,
   "metadata": {},
   "outputs": [
    {
     "data": {
      "text/plain": [
       "array([[19, 43],\n",
       "       [22, 50]])"
      ]
     },
     "execution_count": 100,
     "metadata": {},
     "output_type": "execute_result"
    }
   ],
   "source": [
    "(A @ B).T"
   ]
  },
  {
   "cell_type": "code",
   "execution_count": 101,
   "metadata": {},
   "outputs": [
    {
     "data": {
      "text/plain": [
       "array([[19, 43],\n",
       "       [22, 50]])"
      ]
     },
     "execution_count": 101,
     "metadata": {},
     "output_type": "execute_result"
    }
   ],
   "source": [
    "B.T @ A.T"
   ]
  },
  {
   "cell_type": "code",
   "execution_count": 102,
   "metadata": {},
   "outputs": [
    {
     "data": {
      "text/plain": [
       "array([[325, 737],\n",
       "       [284, 644]])"
      ]
     },
     "execution_count": 102,
     "metadata": {},
     "output_type": "execute_result"
    }
   ],
   "source": [
    "(A @ B @ C).T"
   ]
  },
  {
   "cell_type": "code",
   "execution_count": 103,
   "metadata": {},
   "outputs": [
    {
     "data": {
      "text/plain": [
       "array([[325, 737],\n",
       "       [284, 644]])"
      ]
     },
     "execution_count": 103,
     "metadata": {},
     "output_type": "execute_result"
    }
   ],
   "source": [
    "C.T @ B.T @ A.T"
   ]
  },
  {
   "cell_type": "markdown",
   "metadata": {},
   "source": [
    "### Practice 4\n",
    "다음 코드를 실행하면 붓꽃 전체 데이터를 모두 벡터로 변환하여 하나의 NumPy 행렬 X 를 만든다."
   ]
  },
  {
   "cell_type": "code",
   "execution_count": 122,
   "metadata": {},
   "outputs": [],
   "source": [
    "from sklearn.datasets import load_iris\n",
    "X = load_iris().data"
   ]
  },
  {
   "cell_type": "code",
   "execution_count": 123,
   "metadata": {},
   "outputs": [
    {
     "data": {
      "text/plain": [
       "(150, 4)"
      ]
     },
     "execution_count": 123,
     "metadata": {},
     "output_type": "execute_result"
    }
   ],
   "source": [
    "X.shape"
   ]
  },
  {
   "cell_type": "code",
   "execution_count": 147,
   "metadata": {},
   "outputs": [],
   "source": [
    "# 열벡터로 변환\n",
    "X0 = X[:, 0].reshape(150, 1)\n",
    "X1 = X[:, 1].reshape(150, 1)\n",
    "X2 = X[:, 2].reshape(150, 1)\n",
    "X3 = X[:, 3].reshape(150, 1)"
   ]
  },
  {
   "cell_type": "code",
   "execution_count": 148,
   "metadata": {},
   "outputs": [
    {
     "data": {
      "text/plain": [
       "(150, 4)"
      ]
     },
     "execution_count": 148,
     "metadata": {},
     "output_type": "execute_result"
    }
   ],
   "source": [
    "# 하나의 행렬로 만들기\n",
    "X_new = np.hstack([X0, X1, X2, X3])\n",
    "X_new.shape"
   ]
  },
  {
   "cell_type": "code",
   "execution_count": 149,
   "metadata": {},
   "outputs": [
    {
     "data": {
      "text/plain": [
       "array([[5.1, 3.5, 1.4, 0.2],\n",
       "       [4.9, 3. , 1.4, 0.2],\n",
       "       [4.7, 3.2, 1.3, 0.2],\n",
       "       [4.6, 3.1, 1.5, 0.2],\n",
       "       [5. , 3.6, 1.4, 0.2]])"
      ]
     },
     "execution_count": 149,
     "metadata": {},
     "output_type": "execute_result"
    }
   ],
   "source": [
    "X_new[:5, :]"
   ]
  },
  {
   "cell_type": "code",
   "execution_count": 150,
   "metadata": {},
   "outputs": [
    {
     "data": {
      "text/plain": [
       "array([5.84333333, 3.054     , 3.75866667, 1.19866667])"
      ]
     },
     "execution_count": 150,
     "metadata": {},
     "output_type": "execute_result"
    }
   ],
   "source": [
    "# 각 열의 평균으로 이루어진 행렬(벡터)\n",
    "X_hat = X_new.mean(axis=0)\n",
    "X_hat"
   ]
  },
  {
   "cell_type": "code",
   "execution_count": 152,
   "metadata": {},
   "outputs": [],
   "source": [
    "X_hat = np.vstack([X_new[:, 0].sum(), X_new[:, 1].sum(), X_new[:, 2].sum(), X_new[:, 3].sum()]) / 150"
   ]
  },
  {
   "cell_type": "code",
   "execution_count": 153,
   "metadata": {},
   "outputs": [
    {
     "data": {
      "text/plain": [
       "array([[5.84333333],\n",
       "       [3.054     ],\n",
       "       [3.75866667],\n",
       "       [1.19866667]])"
      ]
     },
     "execution_count": 153,
     "metadata": {},
     "output_type": "execute_result"
    }
   ],
   "source": [
    "X_hat "
   ]
  },
  {
   "cell_type": "markdown",
   "metadata": {},
   "source": [
    "### 곱셈의 연결\n",
    "연속된 행렬의 곱셈은 계산 순서를 임의의 순서로 해도 상관없다."
   ]
  },
  {
   "cell_type": "markdown",
   "metadata": {},
   "source": [
    "\\begin{align}\n",
    "ABC = (AB)C = A(BC)  \n",
    "\\end{align}"
   ]
  },
  {
   "cell_type": "markdown",
   "metadata": {},
   "source": [
    "\\begin{align}\n",
    "ABCD = ((AB)C)D = (AB)(CD) = A(BCD) = A(BC)D  \n",
    "\\end{align}"
   ]
  },
  {
   "cell_type": "markdown",
   "metadata": {},
   "source": [
    "### 항등행렬의 곱셈\n",
    "어떤 행렬이든 항등행렬을 곱하면 그 행렬의 값이 변하지 않는다."
   ]
  },
  {
   "cell_type": "markdown",
   "metadata": {},
   "source": [
    "\\begin{align}\n",
    "AI = IA = A  \n",
    "\\end{align}"
   ]
  },
  {
   "cell_type": "code",
   "execution_count": 154,
   "metadata": {},
   "outputs": [],
   "source": [
    "A = np.array([[1, 2], [3, 4]])\n",
    "I = np.eye(2)"
   ]
  },
  {
   "cell_type": "code",
   "execution_count": 155,
   "metadata": {},
   "outputs": [
    {
     "data": {
      "text/plain": [
       "array([[1., 2.],\n",
       "       [3., 4.]])"
      ]
     },
     "execution_count": 155,
     "metadata": {},
     "output_type": "execute_result"
    }
   ],
   "source": [
    "A @ I"
   ]
  },
  {
   "cell_type": "code",
   "execution_count": 156,
   "metadata": {},
   "outputs": [
    {
     "data": {
      "text/plain": [
       "array([[1., 2.],\n",
       "       [3., 4.]])"
      ]
     },
     "execution_count": 156,
     "metadata": {},
     "output_type": "execute_result"
    }
   ],
   "source": [
    "I @ A  # 동일한 결과 도출"
   ]
  },
  {
   "cell_type": "markdown",
   "metadata": {},
   "source": [
    "### 행렬과 벡터의 곱\n",
    "그럼 이러한 행렬의 곱셈은 데이터 분석에서 어떤 경우에 사용될까? 행렬의 곱셈 중 가장 널리 쓰이는 것은 다음과 같은 형태의 행렬  𝑀 과 벡터  𝑣 의 곱이다."
   ]
  },
  {
   "cell_type": "markdown",
   "metadata": {},
   "source": [
    "\\begin{align}\n",
    "Mv \n",
    "\\end{align}"
   ]
  },
  {
   "cell_type": "markdown",
   "metadata": {},
   "source": [
    "#### 행렬과 벡터의 곱을 사용하는 예1. 열 벡터의 선형조합"
   ]
  },
  {
   "cell_type": "markdown",
   "metadata": {},
   "source": [
    "행렬  𝑋 와 벡터  𝑤 의 곱은 행렬  𝑋 를 이루는 열벡터  𝑐1,𝑐2,…,𝑐𝑀 을 뒤에 곱해지는 벡터  𝑤 의 각 성분  𝑤1,𝑤2,…,𝑤𝑀 으로 선형조합(linear combination)을 한 결과 벡터와 같다.\n",
    "\n",
    "\\begin{align}\n",
    "Xw=\n",
    "\\begin{bmatrix}\n",
    "c_1 & c_2 & \\cdots & c_M\n",
    "\\end{bmatrix}\n",
    "\\begin{bmatrix}\n",
    "w_1 \\\\ w_2 \\\\ \\vdots \\\\ w_M\n",
    "\\end{bmatrix}\n",
    "=\n",
    "w_1 c_1 + w_2 c_2 + \\cdots + w_M c_M\n",
    "\\end{align}"
   ]
  },
  {
   "cell_type": "markdown",
   "metadata": {},
   "source": [
    "### Practice 5\n",
    "다음 행렬  𝑋 와 벡터  𝑤 에 대해 곱  𝑋𝑤 가 열벡터  𝑐1,𝑐2,𝑐3 의 선형조합  𝑤1𝑐1+𝑤2𝑐2+𝑤3𝑐3 가 됨을 실제 계산으로 증명하라."
   ]
  },
  {
   "cell_type": "markdown",
   "metadata": {},
   "source": [
    "\\begin{align}\n",
    "X = \\begin{bmatrix} 1 & 2 & 3  \\\\ 4 & 5 & 6 \\end{bmatrix}, \\;\\;\n",
    "w = \\begin{bmatrix} 2 \\\\ 3 \\\\ 4 \\end{bmatrix}\n",
    "\\end{align}"
   ]
  },
  {
   "cell_type": "code",
   "execution_count": 158,
   "metadata": {},
   "outputs": [],
   "source": [
    "X = np.array([[1, 2, 3], [4, 5, 6]])\n",
    "w = np.array([[2, 3, 4]])"
   ]
  },
  {
   "cell_type": "code",
   "execution_count": 159,
   "metadata": {},
   "outputs": [
    {
     "data": {
      "text/plain": [
       "array([[20],\n",
       "       [47]])"
      ]
     },
     "execution_count": 159,
     "metadata": {},
     "output_type": "execute_result"
    }
   ],
   "source": [
    "X @ w.T"
   ]
  },
  {
   "cell_type": "markdown",
   "metadata": {},
   "source": [
    "### Practice 6\n",
    "벡터  𝑣1,𝑣2,𝑣3 로 이루어진 행렬  𝑉 와 벡터  𝜆 에 대해 다음 식이 성립함을 증명하라. 이 식에서  𝜆1 는 스칼라이다."
   ]
  },
  {
   "cell_type": "markdown",
   "metadata": {},
   "source": [
    "\\begin{align}\n",
    "V\\lambda = \n",
    "\\begin{bmatrix}\n",
    "v_1 & v_2 & v_3\n",
    "\\end{bmatrix}\n",
    "\\begin{bmatrix}\n",
    "\\lambda_{1} \\\\ 0 \\\\ 0 \n",
    "\\end{bmatrix}\n",
    "= \\lambda_1 v_1 \n",
    "\\end{align}"
   ]
  },
  {
   "cell_type": "code",
   "execution_count": 169,
   "metadata": {},
   "outputs": [],
   "source": [
    "v1 = np.array([1, 2, 3])\n",
    "v2 = np.array([4, 5, 6])\n",
    "v3 = np.array([7, 8, 9])\n",
    "lam = np.array([[10], [0], [0]])"
   ]
  },
  {
   "cell_type": "code",
   "execution_count": 181,
   "metadata": {},
   "outputs": [],
   "source": [
    "V = np.vstack([v1, v2, v3]).T"
   ]
  },
  {
   "cell_type": "code",
   "execution_count": 182,
   "metadata": {},
   "outputs": [
    {
     "data": {
      "text/plain": [
       "array([[1, 4, 7],\n",
       "       [2, 5, 8],\n",
       "       [3, 6, 9]])"
      ]
     },
     "execution_count": 182,
     "metadata": {},
     "output_type": "execute_result"
    }
   ],
   "source": [
    "V"
   ]
  },
  {
   "cell_type": "code",
   "execution_count": 183,
   "metadata": {},
   "outputs": [
    {
     "data": {
      "text/plain": [
       "array([[10],\n",
       "       [20],\n",
       "       [30]])"
      ]
     },
     "execution_count": 183,
     "metadata": {},
     "output_type": "execute_result"
    }
   ],
   "source": [
    "V @ lam  # 10 * v1"
   ]
  },
  {
   "cell_type": "markdown",
   "metadata": {},
   "source": [
    "벡터의 선형조합은 다양한 분야에 응용된다. 예를 들어 두 이미지 벡터의 선형조합은 두 이미지를 섞어놓은 모핑(morphing) 효과를 얻는 데 사용할 수 있다."
   ]
  },
  {
   "cell_type": "code",
   "execution_count": 184,
   "metadata": {},
   "outputs": [],
   "source": [
    "from sklearn.datasets import fetch_olivetti_faces"
   ]
  },
  {
   "cell_type": "code",
   "execution_count": 189,
   "metadata": {},
   "outputs": [
    {
     "data": {
      "image/png": "[encoded data removed]",
      "text/plain": [
       "<Figure size 432x288 with 3 Axes>"
      ]
     },
     "metadata": {},
     "output_type": "display_data"
    }
   ],
   "source": [
    "faces = fetch_olivetti_faces()\n",
    "\n",
    "f, ax = plt.subplots(1, 3)\n",
    "\n",
    "ax[0].imshow(faces.images[6], cmap=plt.cm.bone)\n",
    "ax[0].grid(False)\n",
    "ax[0].set_xticks([])\n",
    "ax[0].set_yticks([])\n",
    "ax[0].set_title(\"image 1: $x_1$\")\n",
    "\n",
    "ax[1].imshow(faces.images[10], cmap=plt.cm.bone)\n",
    "ax[1].grid(False)\n",
    "ax[1].set_xticks([])\n",
    "ax[1].set_yticks([])\n",
    "ax[1].set_title(\"image 2: $x_2$\")\n",
    "\n",
    "new_face = 0.7 * faces.images[6] + 0.3 * faces.images[10]\n",
    "ax[2].imshow(new_face, cmap=plt.cm.bone)\n",
    "ax[2].grid(False)\n",
    "ax[2].set_xticks([])\n",
    "ax[2].set_yticks([])\n",
    "ax[2].set_title(\"image 3: $0.7x_1 + 0.3x_2$\")\n",
    "\n",
    "plt.tight_layout()\n",
    "plt.show()"
   ]
  },
  {
   "cell_type": "markdown",
   "metadata": {},
   "source": [
    "#### 행렬과 벡터의 곱을 사용하는 예2. 여러 개의 벡터에 대한 가중합 동시 계산"
   ]
  },
  {
   "cell_type": "markdown",
   "metadata": {},
   "source": [
    "벡터 하나의 가중합은  𝑤𝑇𝑥  또는  𝑥𝑇𝑤 로 표시할 수 있다는 것을 배웠다. 그런데 만약 이렇게  𝑤  가중치를 사용한 가중합을 하나의 벡터  𝑥 가 아니라 여러 벡터  𝑥1,⋯,𝑥𝑀  개에 대해서 모두 계산해야 한다면 어떻게 해야 할까? 예를 들어 위와 같이 선형 회귀 모형을 사용하여 여러 데이터  𝑥1,𝑥2,𝑥3,⋯,𝑥𝑁  개의 데이터 모두에 대해 예측값  𝑦1,𝑦2,𝑦3,⋯,𝑦𝑁 을 한꺼번에 계산하고 싶다면 다음처럼 데이터 행렬  𝑋 를 사용하여  𝑦̂ =𝑋𝑤 라는 수식으로 간단하게 표시할 수 있다."
   ]
  },
  {
   "cell_type": "markdown",
   "metadata": {},
   "source": [
    "\\begin{align}\n",
    "\\begin{aligned}\n",
    "\\hat{y} = \n",
    "\\begin{bmatrix}\n",
    "\\hat{y}_1 \\\\\n",
    "\\hat{y}_2 \\\\\n",
    "\\vdots \\\\\n",
    "\\hat{y}_M \\\\\n",
    "\\end{bmatrix}\n",
    "&= \n",
    "\\begin{bmatrix}\n",
    "w_1 x_{1,1} + w_2 x_{1,2} + \\cdots + w_N x_{1,N} \\\\\n",
    "w_1 x_{2,1} + w_2 x_{2,2} + \\cdots + w_N x_{2,N} \\\\\n",
    "\\vdots  \\\\\n",
    "w_1 x_{M,1} + w_2 x_{M,2} + \\cdots + w_N x_{M,N} \\\\\n",
    "\\end{bmatrix}\n",
    "\\\\\n",
    "&= \n",
    "\\begin{bmatrix}\n",
    "x_{1,1} & x_{1,2} & \\cdots & x_{1,N} \\\\\n",
    "x_{2,1} & x_{2,2} & \\cdots & x_{2,N} \\\\\n",
    "\\vdots  & \\vdots  & \\vdots & \\vdots \\\\\n",
    "x_{M,1} & x_{M,2} & \\cdots & x_{M,N} \\\\\n",
    "\\end{bmatrix}\n",
    "\\begin{bmatrix}\n",
    "w_1 \\\\ w_2 \\\\ \\vdots \\\\ w_N\n",
    "\\end{bmatrix}\n",
    "\\\\\n",
    "&= \n",
    "\\begin{bmatrix}\n",
    "x_1^T \\\\\n",
    "x_2^T \\\\\n",
    "\\vdots \\\\\n",
    "x_M^T \\\\\n",
    "\\end{bmatrix}\n",
    "\\begin{bmatrix}\n",
    "w_1 \\\\ w_2 \\\\ \\vdots \\\\ w_N\n",
    "\\end{bmatrix}\n",
    "\\\\\n",
    "&= X w\n",
    "\\end{aligned}\n",
    "\\end{align}"
   ]
  },
  {
   "cell_type": "markdown",
   "metadata": {},
   "source": [
    "### Practice 7"
   ]
  },
  {
   "cell_type": "markdown",
   "metadata": {},
   "source": [
    "𝑥1 ,  𝑥2 가 다음과 같을 때,\n",
    "\n",
    "\\begin{align}\n",
    "x_1 = \n",
    "\\begin{bmatrix}\n",
    "x_{11} \\\\\n",
    "x_{21} \\\\\n",
    "x_{31} \\\\\n",
    "\\end{bmatrix}\n",
    "\\;\\;\n",
    "x_2 = \n",
    "\\begin{bmatrix}\n",
    "x_{12} \\\\\n",
    "x_{22} \\\\\n",
    "x_{32} \\\\\n",
    "\\end{bmatrix}\n",
    "\\end{align}"
   ]
  },
  {
   "cell_type": "markdown",
   "metadata": {},
   "source": [
    "다음 등식이 성립함을 보인다.\n",
    "\n",
    "\\begin{align}\n",
    "Xw =\n",
    "\\begin{bmatrix}\n",
    "x_1^T \\\\\n",
    "x_2^T \\\\\n",
    "\\end{bmatrix}\n",
    "\\begin{bmatrix}\n",
    "w_1 \\\\ w_2 \\\\ w_3\n",
    "\\end{bmatrix}\n",
    "=\n",
    "\\begin{bmatrix}\n",
    "x_1^Tw \\\\\n",
    "x_2^Tw \\\\\n",
    "\\end{bmatrix}\n",
    "\\end{align}"
   ]
  },
  {
   "cell_type": "markdown",
   "metadata": {},
   "source": [
    "### 잔차\n",
    "선형 회귀 분석(linear regression)을 한 결과는 가중치 벡터  𝑤 라는 형태로 나타나고 예측치는 이 가중치 벡터를 사용한 독립 변수 데이터 레코드 즉, 벡터  𝑥𝑖 의 가중합  𝑤𝑇𝑥𝑖 이 된다고 했다. 예측치와 타겟값(y_target)  𝑦𝑖 의 차이를 오차(error) 혹은 잔차(residual)  𝑒𝑖 라고 한다. 이러한 잔찻값을 모든 독립 변수 벡터에 대해 구하면 잔차 벡터  𝑒 가 된다."
   ]
  },
  {
   "cell_type": "markdown",
   "metadata": {},
   "source": [
    "\\begin{align}\n",
    "e_i = y_i - \\hat{y}_i  = y_i - w^Tx_i \n",
    "\\end{align}"
   ]
  },
  {
   "cell_type": "markdown",
   "metadata": {},
   "source": [
    "잔차 벡터는 다음처럼  𝑦−𝑋𝑤 로 간단하게 표기할 수 있다.\n",
    "\n",
    "\\begin{align}\n",
    "\\begin{aligned}\n",
    "e \n",
    "&=\n",
    "\\begin{bmatrix}\n",
    "e_{1} \\\\\n",
    "e_{2} \\\\\n",
    "\\vdots \\\\\n",
    "e_{M} \\\\\n",
    "\\end{bmatrix}\n",
    "\\\\ \n",
    "&=\n",
    "\\begin{bmatrix}\n",
    "y_{1} \\\\\n",
    "y_{2} \\\\\n",
    "\\vdots \\\\\n",
    "y_{M} \\\\\n",
    "\\end{bmatrix}\n",
    "-\n",
    "\\begin{bmatrix}\n",
    "x^T_{1}w \\\\\n",
    "x^T_{2}w \\\\\n",
    "\\vdots \\\\\n",
    "x^T_{M}w \\\\\n",
    "\\end{bmatrix}\n",
    "\\\\ \n",
    "&= y - Xw\n",
    "\\end{aligned}\n",
    "\\end{align}"
   ]
  },
  {
   "cell_type": "markdown",
   "metadata": {},
   "source": [
    "### 잔차 제곱합\n",
    "잔차의 크기는 잔차 벡터의 각 원소를 제곱한 후 더한 잔차 제곱합(RSS: Residual Sum of Squares)을 이용하여 구한다. 이 값은  𝑒𝑇𝑒 로 간단하게 쓸 수 있으며 그 값은 다음처럼 계산한다."
   ]
  },
  {
   "cell_type": "markdown",
   "metadata": {},
   "source": [
    "\\begin{align}\n",
    "\\sum_{i=1}^{N} e_i^2 = \\sum_{i=1}^{N} (y_i - w^Tx_i)^2 = e^Te =  (y - Xw)^T (y - Xw) \n",
    "\\end{align}"
   ]
  },
  {
   "cell_type": "markdown",
   "metadata": {},
   "source": [
    "### Practice 8\n",
    "분배 법칙을 사용하여 위 식  (𝑦−𝑋𝑤)𝑇(𝑦−𝑋𝑤) 을 풀어쓰면 다음과 같아짐을 보여라.\n",
    "\n",
    "\\begin{align}\n",
    "(y - Xw)^T (y - Xw) = y^Ty - w^TX^Ty - y^TXw + w^TX^TXw  \n",
    "\\end{align}"
   ]
  },
  {
   "cell_type": "markdown",
   "metadata": {},
   "source": [
    "### 이차 형식\n",
    "위의 연습 문제에서 마지막 항은  𝑤𝑇𝑋𝑇𝑋𝑤 라는 형태다. 이 식에서  𝑋𝑇𝑋 는 정방 행렬이 되므로 이 정방 행렬을  𝐴 라고 이름 붙이면 마지막 항은  𝑤𝑇𝐴𝑤 와 같은 형태가 된다.\n",
    "\n",
    "벡터의 이차 형식(Quadratic Form)이란 이처럼 어떤 벡터와 정방 행렬이 '행벡터 x 정방 행렬 x 열벡터'의 형식으로 되어 있는 것을 말한다.\n",
    "\n",
    "이 수식을 풀면  𝑖=1,…,𝑁,𝑗=1,…,𝑁 에 대해 가능한 모든  𝑖,𝑗  쌍의 조합을 구한 다음  𝑖 ,  𝑗 에 해당하는 원소  𝑥𝑖 ,  𝑥𝑗 를 가중치  𝑎𝑖,𝑗 와 같이 곱한 값  𝑎𝑖,𝑗𝑥𝑖𝑥𝑗 의 총합이 된다."
   ]
  },
  {
   "cell_type": "markdown",
   "metadata": {},
   "source": [
    "\\begin{align}\n",
    "\\begin{aligned}\n",
    "x^T A x \n",
    "&= \n",
    "\\begin{bmatrix}\n",
    "x_{1} & x_{2} & \\cdots & x_{N} \n",
    "\\end{bmatrix}\n",
    "\\begin{bmatrix}\n",
    "a_{1,1} & a_{1,2} & \\cdots & a_{1,N} \\\\\n",
    "a_{2,1} & a_{2,2} & \\cdots & a_{2,N} \\\\\n",
    "\\vdots & \\vdots & \\ddots & \\vdots \\\\\n",
    "a_{N,1} & a_{N,2} & \\cdots & a_{N,N} \\\\\n",
    "\\end{bmatrix}\n",
    "\\begin{bmatrix}\n",
    "x_{1} \\\\\n",
    "x_{2} \\\\\n",
    "\\vdots \\\\\n",
    "x_{N} \\\\\n",
    "\\end{bmatrix} \n",
    "\\\\\n",
    "&= \\sum_{i=1}^{N} \\sum_{j=1}^{N} a_{i,j} x_i x_j \n",
    "\\end{aligned}\n",
    "\\end{align}"
   ]
  },
  {
   "cell_type": "markdown",
   "metadata": {},
   "source": [
    "예를 들어  𝑥=[1,2,3]𝑇  이고 A가 다음과 같다면\n",
    "\n",
    "\\begin{align}\n",
    "A =\n",
    "\\begin{bmatrix}\n",
    "1 & 2 & 3 \\\\\n",
    "4 & 5 & 6 \\\\\n",
    "7 & 8 & 9 \\\\\n",
    "\\end{bmatrix}\n",
    "\\end{align}"
   ]
  },
  {
   "cell_type": "code",
   "execution_count": 190,
   "metadata": {},
   "outputs": [
    {
     "data": {
      "text/plain": [
       "array([1, 2, 3])"
      ]
     },
     "execution_count": 190,
     "metadata": {},
     "output_type": "execute_result"
    }
   ],
   "source": [
    "x = np.array([1, 2, 3])\n",
    "x"
   ]
  },
  {
   "cell_type": "code",
   "execution_count": 192,
   "metadata": {},
   "outputs": [
    {
     "data": {
      "text/plain": [
       "array([[1, 2, 3],\n",
       "       [4, 5, 6],\n",
       "       [7, 8, 9]])"
      ]
     },
     "execution_count": 192,
     "metadata": {},
     "output_type": "execute_result"
    }
   ],
   "source": [
    "A = np.arange(1, 10).reshape(3, 3)\n",
    "A"
   ]
  },
  {
   "cell_type": "code",
   "execution_count": 194,
   "metadata": {},
   "outputs": [
    {
     "data": {
      "text/plain": [
       "228"
      ]
     },
     "execution_count": 194,
     "metadata": {},
     "output_type": "execute_result"
    }
   ],
   "source": [
    "x.T @ A @ x"
   ]
  },
  {
   "cell_type": "markdown",
   "metadata": {},
   "source": [
    "### 부분행렬\n",
    "다음과 같은 2차원 정방행렬  𝐴 ,  𝐵 가 있다."
   ]
  },
  {
   "cell_type": "markdown",
   "metadata": {},
   "source": [
    "\\begin{align}\n",
    "A = \n",
    "\\begin{bmatrix}\n",
    "a_{11} & a_{12} \\\\\n",
    "a_{21} & a_{22}\n",
    "\\end{bmatrix}\n",
    ",\\;\\;\n",
    "B = \n",
    "\\begin{bmatrix}\n",
    "b_{11} & b_{12} \\\\\n",
    "b_{21} & b_{22}\n",
    "\\end{bmatrix}\n",
    "\\end{align}"
   ]
  },
  {
   "cell_type": "markdown",
   "metadata": {},
   "source": [
    "이때 두 행렬의 곱  𝐴𝐵 는  𝐴 ,  𝐵 의 부분행렬(submatrix)을 이용하여 여러 방법으로 계산할 수 있다.\n",
    "\n",
    "(1) 우선 앞에 곱해지는 행렬을 행벡터로 나누어 계산해도 된다."
   ]
  },
  {
   "cell_type": "markdown",
   "metadata": {},
   "source": [
    "\\begin{align}\n",
    "a_1^T = \n",
    "\\begin{bmatrix}\n",
    "a_{11} & a_{12} \n",
    "\\end{bmatrix}\n",
    ",\\;\\;\n",
    "a_2^T = \n",
    "\\begin{bmatrix}\n",
    "a_{21} & a_{22} \n",
    "\\end{bmatrix}\n",
    "\\end{align}"
   ]
  },
  {
   "cell_type": "markdown",
   "metadata": {},
   "source": [
    "(2) 아니면 뒤에 곱해지는 행렬을 열벡터로 나누어 계산해도 된다.\n",
    "\n",
    "\\begin{align}\n",
    "b_1 = \n",
    "\\begin{bmatrix}\n",
    "b_{11} \\\\\n",
    "b_{21} \\\\\n",
    "\\end{bmatrix}\n",
    ",\\;\\;\n",
    "b_2 = \n",
    "\\begin{bmatrix}\n",
    "b_{21} \\\\\n",
    "b_{22}\n",
    "\\end{bmatrix}\n",
    "\\end{align}"
   ]
  },
  {
   "cell_type": "markdown",
   "metadata": {},
   "source": [
    "(3) 앞에 곱해지는 행렬을 열벡터로, 뒤에 곱해지는 행렬을 행벡터로 나누어 스칼라처럼 계산해도 된다.\n",
    "\\begin{align}\n",
    "AB \n",
    "=\n",
    "\\begin{bmatrix}\n",
    "a_1 & a_2\n",
    "\\end{bmatrix}\n",
    "\\begin{bmatrix}\n",
    "b_1^T \\\\ b_2^T\n",
    "\\end{bmatrix}\n",
    "=\n",
    "a_1b_1^T + a_2b_2^T\n",
    "\\end{align}"
   ]
  },
  {
   "cell_type": "code",
   "execution_count": null,
   "metadata": {},
   "outputs": [],
   "source": []
  }
 ],
 "metadata": {
  "kernelspec": {
   "display_name": "Python 3",
   "language": "python",
   "name": "python3"
  },
  "language_info": {
   "codemirror_mode": {
    "name": "ipython",
    "version": 3
   },
   "file_extension": ".py",
   "mimetype": "text/x-python",
   "name": "python",
   "nbconvert_exporter": "python",
   "pygments_lexer": "ipython3",
   "version": "3.5.1"
  }
 },
 "nbformat": 4,
 "nbformat_minor": 2
}
