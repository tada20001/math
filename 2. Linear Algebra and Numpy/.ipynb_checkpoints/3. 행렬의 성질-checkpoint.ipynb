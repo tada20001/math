{
 "cells": [
  {
   "cell_type": "markdown",
   "metadata": {},
   "source": [
    "행렬은 여러 개의 숫자로 이루어져 있으므로 실수처럼 부호나 크기를 정의하기 어렵다. 하지만 부호/크기와 유사한 유용한 개념을 행렬에서도 정의할 수 있다. 여기에서는 이러한 개념을 살펴본다."
   ]
  },
  {
   "cell_type": "markdown",
   "metadata": {},
   "source": [
    "### 정부호와 준정부호"
   ]
  },
  {
   "cell_type": "markdown",
   "metadata": {},
   "source": [
    "영 벡터가 아닌 모든 벡터  𝑥 에 대해 다음 부등식이 성립하면 행렬  𝐴 가 양의 정부호(positive definite)라고 한다."
   ]
  },
  {
   "cell_type": "markdown",
   "metadata": {},
   "source": [
    "\\begin{align}\n",
    "x^T A x > 0  \n",
    "\\end{align}"
   ]
  },
  {
   "cell_type": "markdown",
   "metadata": {},
   "source": [
    "만약 이 식이 등호를 포함한다면 양의 준정부호(positive semi-definite)라고 한다.\n",
    "\n",
    "\\begin{align}\n",
    "x^T A x \\geq 0  \n",
    "\\end{align}"
   ]
  },
  {
   "cell_type": "markdown",
   "metadata": {},
   "source": [
    "위 방법에 따르면 모든 행렬에 대해 양의 정부호와 준정부호를 정의할 수 있지만 보통 대칭행렬에 대해서만 정의한다.\n",
    "\n",
    "예를 들어 항등행렬(identity matrix)  𝐼 는 양의 정부호다. 다음 식에서 벡터  𝑥 가 영벡터(zeros-vector)가 아니라는 점에 주의한다."
   ]
  },
  {
   "cell_type": "markdown",
   "metadata": {},
   "source": [
    "\\begin{align}\n",
    "x^T I x = \n",
    "\\begin{bmatrix}\n",
    "x_1 & x_2 & \\cdots & x_N\n",
    "\\end{bmatrix}\n",
    "\\begin{bmatrix}\n",
    "1&0&\\cdots&0\\\\\n",
    "0&1&\\cdots&0\\\\\n",
    "\\vdots&\\vdots&\\ddots&\\vdots\\\\\n",
    "0&0&\\cdots&1\\\\\n",
    "\\end{bmatrix}\n",
    "\\begin{bmatrix}\n",
    "x_1 \\\\ x_2 \\\\ \\vdots \\\\ x_N\n",
    "\\end{bmatrix}\n",
    "= x_1^2 + x_2^2 + \\cdots + x_N^2 > 0 \n",
    "\\end{align}"
   ]
  },
  {
   "cell_type": "markdown",
   "metadata": {},
   "source": [
    "다음과 같은 행렬도 양의 정부호다.\n",
    "\n",
    "\\begin{align} A = \\begin{bmatrix} 2&-1&0\\\\-1&2&-1\\\\0&-1&2 \\end{bmatrix} \\end{align}"
   ]
  },
  {
   "cell_type": "markdown",
   "metadata": {},
   "source": [
    "이는 다음처럼 증명할 수 있다.\n",
    "\n",
    "모든 벡터  𝑥𝑇=[𝑥1𝑥2𝑥3] 에 대해\n",
    "\n",
    "\\begin{aligned} \n",
    "x^TA x \n",
    "&= \n",
    "\\begin{bmatrix} x_1 & x_2 & x_3 \\end{bmatrix} \n",
    "\\begin{bmatrix} 2&-1&0\\\\-1&2&-1\\\\0&-1&2 \\end{bmatrix}  \n",
    "\\begin{bmatrix} x_1\\\\x_2\\\\x_3 \\end{bmatrix} \\\\\n",
    "&= \n",
    "\\begin{bmatrix} (2x_1-x_2)&(-x_1+2x_2-x_3)&(-x_2+2x_3) \\end{bmatrix} \n",
    "\\begin{bmatrix} x_1\\\\x_2\\\\x_3 \\end{bmatrix} \\\\\n",
    "&= 2{x_1}^2 - 2x_1x_2 + 2{x_2}^2 - 2x_2x_3 + 2{x_3}^2 \\\\\n",
    "&= {x_1}^2+(x_1 - x_2)^{2} + (x_2 - x_3)^{2}+{x_3}^2 \n",
    "\\end{aligned}"
   ]
  },
  {
   "cell_type": "markdown",
   "metadata": {},
   "source": [
    "이 성립한다. 그리고 이 값은 제곱의 합으로 이루어졌으므로  𝑥 가 영벡터인 경우( 𝑥1=𝑥2=𝑥3=0 )를 제외하고는 항상 0보다 크다.\n",
    "\n",
    "\\begin{align} {x_1}^2+(x_1 - x_2)^{2} + (x_2 - x_3)^{2}+{x_3}^2  > 0 \\end{align}"
   ]
  },
  {
   "cell_type": "markdown",
   "metadata": {},
   "source": [
    "### 행렬 놈"
   ]
  },
  {
   "cell_type": "markdown",
   "metadata": {},
   "source": [
    "행렬의 부호와 마찬가지로 행렬 크기를 정의하는 것도 어려운 일이다. 하나의 행렬에 대해 실수 하나를 대응시키는 개념의 놈(norm), 대각합(trace), 행렬식(determinant)이란 연산은 크기와 유사한 개념이다."
   ]
  },
  {
   "cell_type": "markdown",
   "metadata": {},
   "source": [
    "행렬의 놈(norm)은 행렬  𝐴 에 대해 다음 식으로 정의되는 숫자다. 보통  ‖𝐴‖𝑝 로 표기한다. 이 식에서  𝑎𝑖𝑗 는 행렬  𝐴 의  𝑖 번째 행,  𝑗 번째 열의 원소다. 행렬의 놈에도 여러 정의가 있는데 여기에서는 요소별 행렬 놈(entrywise matrix norm)의 정의를 따른다."
   ]
  },
  {
   "cell_type": "markdown",
   "metadata": {},
   "source": [
    "\\begin{align}\n",
    "\\Vert A \\Vert_p = \\left( \\sum_{i=1}^N \\sum_{j=1}^M |a_{ij}|^p \\right)^{1/p}  \n",
    "\\end{align}"
   ]
  },
  {
   "cell_type": "markdown",
   "metadata": {},
   "source": [
    "𝑝 는 보통 1, 2 또는 무한대(∞)가 사용되는데 이 중 𝑝=2인 경우가 가장 많이 쓰이므로 𝑝값 표시가 없는 경우는 𝑝=2인 놈이라고 생각하면 된다. 𝑝=2인 놈은 프로베니우스 놈(Frobenius norm)이라고 불리며 ‖𝐴‖𝐹이라고 표기하기도 한다."
   ]
  },
  {
   "cell_type": "markdown",
   "metadata": {},
   "source": [
    "\\begin{align}\n",
    "\\Vert A \\Vert = \\Vert A \\Vert_2 = \\Vert A \\Vert_F = \\sqrt{\\sum_{i=1}^N \\sum_{j=1}^M a_{ij}^2}  \n",
    "\\end{align}"
   ]
  },
  {
   "cell_type": "markdown",
   "metadata": {},
   "source": [
    "놈의 정의에서 놈은 항상 0보다 같거나 크다는 것을 알 수 있다.\n",
    "\n",
    "놈은 모든 크기의 행렬에 대해서 정의할 수 있으므로 벡터에 대해서도 정의할 수 있다. \n",
    "\n",
    "벡터의 놈에서 중요한 성질은 벡터의 놈의 제곱이 벡터의 제곱합과 같다는 것이다."
   ]
  },
  {
   "cell_type": "markdown",
   "metadata": {},
   "source": [
    "\\begin{align}\n",
    "\\Vert x \\Vert^2 = \\sum_{i=1}^N x_{i}^2 = x^Tx  \n",
    "\\end{align}"
   ]
  },
  {
   "cell_type": "markdown",
   "metadata": {},
   "source": [
    "놈은 0 또는 양수이므로 놈의 제곱이 가장 작을 때 놈도 가장 작아진다. 따라서 놈을 최소화하는 것은 벡터의 제곱합을 최소화하는 것과 같다.\n",
    "\n",
    "NumPy에서는 linalg 서브패키지의 norm 명령으로 행렬의 놈을 계산할 수 있다."
   ]
  },
  {
   "cell_type": "code",
   "execution_count": 1,
   "metadata": {},
   "outputs": [],
   "source": [
    "import numpy as np"
   ]
  },
  {
   "cell_type": "code",
   "execution_count": 2,
   "metadata": {},
   "outputs": [
    {
     "data": {
      "text/plain": [
       "array([[-4, -3, -2],\n",
       "       [-1,  0,  1],\n",
       "       [ 2,  3,  4]])"
      ]
     },
     "execution_count": 2,
     "metadata": {},
     "output_type": "execute_result"
    }
   ],
   "source": [
    "A = (np.arange(9) - 4).reshape((3, 3))\n",
    "A"
   ]
  },
  {
   "cell_type": "code",
   "execution_count": 3,
   "metadata": {},
   "outputs": [
    {
     "data": {
      "text/plain": [
       "7.745966692414834"
      ]
     },
     "execution_count": 3,
     "metadata": {},
     "output_type": "execute_result"
    }
   ],
   "source": [
    "np.linalg.norm(A) # 양수"
   ]
  },
  {
   "cell_type": "markdown",
   "metadata": {},
   "source": [
    "### Practice 1"
   ]
  },
  {
   "cell_type": "markdown",
   "metadata": {},
   "source": [
    "행렬  𝐴 ,  (𝐴∈𝐑𝑁×𝑀) 의 놈의 제곱  ‖𝐴‖2 이 그 행렬을 이루는 행 벡터  𝑟𝑖 의 놈의 제곱의 합 또는 열 벡터  𝑐𝑖 의 놈의 제곱의 합과 같음을 증명하라.\n",
    "\n",
    "\\begin{align}\n",
    "\\Vert A \\Vert^2 = \\sum_{i=1}^N \\Vert r_i \\Vert^2  = \\sum_{j=1}^M \\Vert c_j \\Vert^2  \n",
    "\\end{align}"
   ]
  },
  {
   "cell_type": "markdown",
   "metadata": {},
   "source": [
    "정확한 놈의 정의는 다음 4가지 성질이 성립되는 행렬 연산을 말한다. 이러한 연산이 여러 개 존재하기 때문에 놈의 정의도 다양하다."
   ]
  },
  {
   "cell_type": "markdown",
   "metadata": {},
   "source": [
    "+ 놈의 값은 0이상이다. 영행렬일 때만 놈의 값이 0이 된다.\n",
    "\\begin{align}\n",
    "\\|A\\|\\ge 0\n",
    "\\end{align}\n",
    "+ 행렬에 스칼라를 곱하면 놈의 값도 그 스칼라의 절대값을 곱한 것과 같다.\n",
    "\\begin{align}\n",
    "\\|\\alpha A\\|=|\\alpha| \\|A\\|\n",
    "\\end{align}\n",
    "+ 행렬의 합의 놈은 각 행렬의 놈의 합보다 작다.\n",
    "\\begin{align}\n",
    "\\|A+B\\| \\le \\|A\\|+\\|B\\|\n",
    "\\end{align}\n",
    "+ 정방행렬의 곱의 놈은 각 정방행렬의 놈의 곱보다 작다.\n",
    "\\begin{align}\n",
    "\\|AB\\| \\le \\|A\\|\\|B\\|\n",
    "\\end{align}"
   ]
  },
  {
   "cell_type": "markdown",
   "metadata": {},
   "source": [
    "### 대각합\n",
    "대각합(trace)은 정방행렬에 대해서만 정의되며 다음처럼 대각원소의 합으로 계산된다."
   ]
  },
  {
   "cell_type": "markdown",
   "metadata": {},
   "source": [
    "\\begin{align}\n",
    "\\text{tr}(A) = a_{11} + a_{22} + \\dots + a_{NN}=\\sum_{i=1}^{N} a_{ii}\n",
    "\\end{align}"
   ]
  },
  {
   "cell_type": "markdown",
   "metadata": {},
   "source": [
    "예를 들어  𝑁 차원 항등행렬(identity matrix)의 대각합은  𝑁 이다.\n",
    "\\begin{align}\n",
    "\\text{tr}(I_N) = N \n",
    "\\end{align}"
   ]
  },
  {
   "cell_type": "markdown",
   "metadata": {},
   "source": [
    "대각합을 구할 때는 절댓값을 취하거나 제곱을 하지 않기 때문에 대각합의 값은 놈과 달리 음수가 될 수도 있다.\n",
    "\n",
    "대각합은 다음과 같은 성질이 있다. 아래의 식에서  𝑐 는 스칼라이고  𝐴,𝐵,𝐶 는 행렬이다.\n",
    "\n",
    "+ 스칼라를 곱하면 대각합은 스칼라와 원래의 대각합의 곱이다.\n",
    "\n",
    "\\begin{align}\n",
    "\\text{tr} (cA) = c\\;\\text{tr} (A)  \n",
    "\\end{align}\n",
    "+ 전치연산을 해도 대각합이 달라지지 않는다.\n",
    "\\begin{align}\n",
    "\\text{tr} (A^T) = \\text{tr} (A)  \n",
    "\\end{align}"
   ]
  },
  {
   "cell_type": "markdown",
   "metadata": {},
   "source": [
    "+ 두 행렬의 합의 대각합은 두 행렬의 대각합의 합이다.\n",
    "\\begin{align}\n",
    "\\text{tr} (A + B) = \\text{tr} (A) + \\text{tr} (B)  \n",
    "\\end{align}"
   ]
  },
  {
   "cell_type": "markdown",
   "metadata": {},
   "source": [
    "+ 두 행렬의 곱의 대각합은 행렬의 순서를 바꾸어도 달라지지 않는다.\n",
    "\\begin{align}\n",
    "\\text{tr} (AB) = \\text{tr} (BA)  \n",
    "\\end{align}"
   ]
  },
  {
   "cell_type": "markdown",
   "metadata": {},
   "source": [
    "+ 세 행렬의 곱의 대각합은 다음과 같이 순서를 순환시켜도 달라지지 않는다.\n",
    "\\begin{align}\n",
    "\\text{tr} (ABC) = \\text{tr} (BCA) = \\text{tr} (CAB)  \n",
    "\\end{align}"
   ]
  },
  {
   "cell_type": "markdown",
   "metadata": {},
   "source": [
    "특히 마지막 식은 트레이스 트릭(trace trick)이라고 하여 이차 형식(quadratic form)의 미분을 구하는 데 유용하게 사용된다. 이 두 식에서는  𝐴,𝐵,𝐶 가 각각 정방행렬일 필요는 없다. 최종적으로 대각합을 구하는 행렬만 정방행렬이기만 하면 된다.\n",
    "이차 형식의 트레이스 트릭 공식은 다음과 같다.\n",
    "\n",
    "\\begin{align}\n",
    "x^TAx = \\text{tr}(x^TAx) = \\text{tr}(Axx^T)  = \\text{tr}(xx^TA)  \n",
    "\\end{align}"
   ]
  },
  {
   "cell_type": "markdown",
   "metadata": {},
   "source": [
    "NumPy에서는 trace 명령으로 대각합을 계산할 수 있다."
   ]
  },
  {
   "cell_type": "code",
   "execution_count": 4,
   "metadata": {},
   "outputs": [
    {
     "data": {
      "text/plain": [
       "3.0"
      ]
     },
     "execution_count": 4,
     "metadata": {},
     "output_type": "execute_result"
    }
   ],
   "source": [
    "np.trace(np.eye(3))"
   ]
  },
  {
   "cell_type": "markdown",
   "metadata": {},
   "source": [
    "### Practice 3"
   ]
  },
  {
   "cell_type": "markdown",
   "metadata": {},
   "source": [
    "행렬  𝐴(𝐴∈𝐑3×3) 의 놈의 제곱  ‖𝐴‖2 이 다음과 같음을 증명하라.\n",
    "\n",
    "\\begin{align}\n",
    "\\Vert A \\Vert^2 = \\text{tr}(A^TA)  \n",
    "\\end{align}"
   ]
  },
  {
   "cell_type": "code",
   "execution_count": 5,
   "metadata": {},
   "outputs": [
    {
     "data": {
      "text/plain": [
       "array([[-4, -3, -2],\n",
       "       [-1,  0,  1],\n",
       "       [ 2,  3,  4]])"
      ]
     },
     "execution_count": 5,
     "metadata": {},
     "output_type": "execute_result"
    }
   ],
   "source": [
    "A = (np.arange(9) - 4).reshape(3, 3)\n",
    "A"
   ]
  },
  {
   "cell_type": "code",
   "execution_count": 9,
   "metadata": {},
   "outputs": [
    {
     "data": {
      "text/plain": [
       "60.00000000000001"
      ]
     },
     "execution_count": 9,
     "metadata": {},
     "output_type": "execute_result"
    }
   ],
   "source": [
    "np.linalg.norm(A)**2"
   ]
  },
  {
   "cell_type": "code",
   "execution_count": 10,
   "metadata": {},
   "outputs": [
    {
     "data": {
      "text/plain": [
       "60"
      ]
     },
     "execution_count": 10,
     "metadata": {},
     "output_type": "execute_result"
    }
   ],
   "source": [
    "np.trace(A.T @ A)"
   ]
  },
  {
   "cell_type": "markdown",
   "metadata": {},
   "source": [
    "### Practice 4\n",
    "\n",
    "𝑁×𝑀  행렬 𝑋에 대해 다음 식을 증명하라.\n",
    "\n",
    "\\begin{align}\n",
    "\\text{tr}(X(X^TX)^{-1}X^T) = M \n",
    "\\end{align}\n",
    "\n",
    "위 식에서  (𝑋𝑇𝑋)−1 은  𝑋𝑇𝑋 의 역행렬(inverse matrix)로  𝑋𝑇𝑋 와 곱하면 항등행렬이 되는 행렬이다. 역행렬에 대해서는 나중에 자세히 공부한다.\n",
    "\n",
    "\\begin{align}\n",
    "(X^TX)^{-1}X^TX = X^TX(X^TX)^{-1} = I\\end{align}\n"
   ]
  },
  {
   "cell_type": "code",
   "execution_count": 12,
   "metadata": {},
   "outputs": [
    {
     "data": {
      "text/plain": [
       "array([[-3, -2, -1],\n",
       "       [ 0,  1,  2]])"
      ]
     },
     "execution_count": 12,
     "metadata": {},
     "output_type": "execute_result"
    }
   ],
   "source": [
    "N = 2; M = 3\n",
    "X = (np.arange(6) - 3).reshape(N, M)\n",
    "X"
   ]
  },
  {
   "cell_type": "code",
   "execution_count": 13,
   "metadata": {},
   "outputs": [
    {
     "data": {
      "text/plain": [
       "3.0"
      ]
     },
     "execution_count": 13,
     "metadata": {},
     "output_type": "execute_result"
    }
   ],
   "source": [
    "np.trace(np.eye(M)) # tr(IM) = M"
   ]
  },
  {
   "cell_type": "markdown",
   "metadata": {},
   "source": [
    "### 행렬식\n",
    "\n",
    "정방행렬  𝐴 의 행렬식(determinant)은  det(𝐴) ,  det𝐴 , 또는  |𝐴| 라는 기호로 표기한다.\n",
    "\n",
    "행렬식은 다음처럼 재귀적인 방법으로 정의된다.\n",
    "\n",
    "우선 행렬  𝐴 가  1×1  즉 스칼라인 경우에는 행렬식이 자기 자신의 값이 된다.\n",
    "\\begin{align}\n",
    "\\det \\left( \\begin{bmatrix}a\\end{bmatrix} \\right) = a  \n",
    "\\end{align}"
   ]
  },
  {
   "cell_type": "markdown",
   "metadata": {},
   "source": [
    "행렬  𝐴 가 스칼라가 아니면 $ 코팩터 전개(cofactor expansion) $ 라고 불리는 다음 식을 이용하여 계산한다. 이 식에서  𝑎𝑖,𝑗 는  𝐴 의  𝑖 행,  𝑗 열 원소이고  𝑖0 (또는  𝑗0 )는 계산하는 사람이 임의로 선택한 행번호(또는 열번호)이다.\n",
    "\\begin{align}\n",
    "\\det(A) = \\sum_{i=1}^N \\left\\{ (-1)^{i+j_0}M_{i,j_0} \\right\\} a_{i,j_0}  \n",
    "\\end{align}\n",
    "\n",
    "또는\n",
    "\n",
    "\\begin{align}\n",
    "\\det(A) = \\sum_{j=1}^N \\left\\{ (-1)^{i_0+j} M_{i_0,j} \\right\\} a_{i_0,j} \n",
    "\\end{align}"
   ]
  },
  {
   "cell_type": "markdown",
   "metadata": {},
   "source": [
    "위에서 '또는'이라고 한 이유는 두 식 중 아무거나 써도 같은 결과가 나오기 때문이다. 즉, 행렬에서 임의의 행  𝑖0 하나를 선택하거나 임의의 열  𝑗0  하나를 선택한 다음 이 값에 가중치  (−1)𝑖+𝑗0𝑀𝑖,𝑗0  또는  (−1)𝑖0+𝑗𝑀𝑖0,𝑗 를 곱하여 더한 것이다."
   ]
  },
  {
   "cell_type": "markdown",
   "metadata": {},
   "source": [
    "가중치로 사용된  𝑀𝑖,𝑗 는 마이너(minor, 소행렬식)라고 하며 정방행렬  𝐴  에서  𝑖 행과  𝑗 열을 지워서 얻어진 (원래의 행렬보다 크기가 1만큼 작은) 행렬의 행렬식이다."
   ]
  },
  {
   "cell_type": "markdown",
   "metadata": {},
   "source": [
    "마이너값도 행렬식이므로 마찬가지로 위의 정의를 이용하여 계산한다. 이처럼 점점 크기가 작은 행렬의 행렬식을 구하다 보면 스칼라인 행렬이 나오게 되는데 행렬식의 값이 자기 자신이 된다. 따라서 행렬식을 구하는 방법은 재귀적(recursive)이다."
   ]
  },
  {
   "cell_type": "markdown",
   "metadata": {},
   "source": [
    "마이너에  (−1)𝑖+𝑗 를 곱한 값  (−1)𝑖+𝑗𝑀𝑖,𝑗 을 코팩터(cofactor, 여인수)라고 하며  𝐶𝑖,𝑗 로 표기한다.\n",
    "\\begin{align}\n",
    "C_{i,j} = (-1)^{i+j}M_{i,j}  \n",
    "\\end{align}"
   ]
  },
  {
   "cell_type": "markdown",
   "metadata": {},
   "source": [
    "코팩터를 사용하여 위 코팩터 전개식을 다시 표현하면 다음과 같다.\n",
    "\n",
    "\\begin{align}\n",
    "\\det(A) = \\sum_{i=1}^N C_{i,j_0} a_{i,j_0}  =  \\sum_{j=1}^N C_{i_0,j} a_{i_0,j}  \n",
    "\\end{align}"
   ]
  },
  {
   "cell_type": "code",
   "execution_count": 14,
   "metadata": {},
   "outputs": [
    {
     "data": {
      "text/plain": [
       "-9.51619735392994e-16"
      ]
     },
     "execution_count": 14,
     "metadata": {},
     "output_type": "execute_result"
    }
   ],
   "source": [
    "A = np.array([[1, 2, 3], [4, 5, 6], [7, 8, 9]])\n",
    "np.linalg.det(A)"
   ]
  },
  {
   "cell_type": "markdown",
   "metadata": {},
   "source": [
    "위의 정의를 사용하면 크기가 2x2, 3x3인 정방행렬의 행렬식의 값은 다음 공식으로 계산할 수 있다.\n",
    "\n",
    "+ 2×2 행렬의 행렬식\n",
    "\n",
    "\\begin{align}\n",
    "\\det \\left( \\begin{bmatrix}a&b\\\\c&d\\end{bmatrix} \\right) = ad-bc\n",
    "\\end{align}\n",
    "\n",
    "+ 3×3 행렬의 행렬식\n",
    "\\begin{align}\n",
    "\\det \\left( \\begin{bmatrix}a&b&c\\\\d&e&f\\\\g&h&i\\end{bmatrix} \\right) =aei+bfg+cdh-ceg-bdi-afh\n",
    "\\end{align}"
   ]
  },
  {
   "cell_type": "markdown",
   "metadata": {},
   "source": [
    "행렬식의 값도 대각합과 마찬가지로 음수가 될 수 있다."
   ]
  },
  {
   "cell_type": "markdown",
   "metadata": {},
   "source": [
    "행렬식은 다음과 같은 성질을 만족한다.\n",
    "\n",
    "+ 전치 행렬의 행렬식은 원래의 행렬의 행렬식과 같다.\n",
    "\\begin{align}\n",
    "\\det(A^{T}) = \\det(A)  \n",
    "\\end{align}"
   ]
  },
  {
   "cell_type": "markdown",
   "metadata": {},
   "source": [
    "+ 항등 행렬의 행렬식은 1이다.\n",
    "\\begin{align}\n",
    "\\det(I) = 1  \n",
    "\\end{align}"
   ]
  },
  {
   "cell_type": "markdown",
   "metadata": {},
   "source": [
    "+ 두 행렬의 곱의 행렬식은 각 행렬의 행렬식의 곱과 같다.\n",
    "\n",
    "\\begin{align}\n",
    "\\det(AB) = \\det(A)\\det(B)  \n",
    "\\end{align}\n",
    "\n",
    "+ 역행렬  𝐴−1 은 원래의 행렬  𝐴 와 다음 관계를 만족하는 정방행렬을 말한다.  𝐼 는 항등 행렬(identity matrix)이다.\n",
    "\n",
    "\\begin{align}\n",
    "A^{-1} A = A A^{-1} = I  \n",
    "\\end{align}"
   ]
  },
  {
   "cell_type": "markdown",
   "metadata": {},
   "source": [
    "+ 역행렬의 행렬식은 원래의 행렬의 행렬식의 역수와 같다.\n",
    "\\begin{align}\n",
    "\\det(A^{-1}) = \\dfrac{1}{\\det(A)}  \n",
    "\\end{align}"
   ]
  },
  {
   "cell_type": "code",
   "execution_count": null,
   "metadata": {},
   "outputs": [],
   "source": []
  }
 ],
 "metadata": {
  "kernelspec": {
   "display_name": "Python 3",
   "language": "python",
   "name": "python3"
  },
  "language_info": {
   "codemirror_mode": {
    "name": "ipython",
    "version": 3
   },
   "file_extension": ".py",
   "mimetype": "text/x-python",
   "name": "python",
   "nbconvert_exporter": "python",
   "pygments_lexer": "ipython3",
   "version": "3.5.1"
  }
 },
 "nbformat": 4,
 "nbformat_minor": 2
}
